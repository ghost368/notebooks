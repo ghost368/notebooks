{
 "metadata": {
  "language_info": {
   "codemirror_mode": {
    "name": "ipython",
    "version": 3
   },
   "file_extension": ".py",
   "mimetype": "text/x-python",
   "name": "python",
   "nbconvert_exporter": "python",
   "pygments_lexer": "ipython3",
   "version": "3.8.5-final"
  },
  "orig_nbformat": 2,
  "kernelspec": {
   "name": "python_defaultSpec_1598445193082",
   "display_name": "Python 3.8.5 64-bit ('.env': conda)"
  }
 },
 "nbformat": 4,
 "nbformat_minor": 2,
 "cells": [
  {
   "cell_type": "code",
   "execution_count": 1,
   "metadata": {},
   "outputs": [],
   "source": [
    "from IPython.core.interactiveshell import InteractiveShell\n",
    "InteractiveShell.ast_node_interactivity = \"all\""
   ]
  },
  {
   "cell_type": "code",
   "execution_count": 2,
   "metadata": {},
   "outputs": [],
   "source": [
    "import pandas as pd\n",
    "import numpy as np\n",
    "import xarray as xr\n",
    "from numpy.random import default_rng\n",
    "rng = default_rng()"
   ]
  },
  {
   "cell_type": "code",
   "execution_count": 3,
   "metadata": {},
   "outputs": [],
   "source": [
    "# to show more columns (same for height and rows)\n",
    "pd.set_option('display.width', 100)\n",
    "pd.set_option('display.max_columns', 10)"
   ]
  },
  {
   "cell_type": "markdown",
   "metadata": {},
   "source": [
    "## array creation"
   ]
  },
  {
   "cell_type": "code",
   "execution_count": 4,
   "metadata": {},
   "outputs": [
    {
     "output_type": "execute_result",
     "data": {
      "text/plain": "0    0\n1    1\n2    2\n3    3\n4    4\n5    5\n6    6\n7    7\n8    8\n9    9\ndtype: int64"
     },
     "metadata": {},
     "execution_count": 4
    },
    {
     "output_type": "execute_result",
     "data": {
      "text/plain": "b    5\na    6\nc    7\ndtype: int64"
     },
     "metadata": {},
     "execution_count": 4
    },
    {
     "output_type": "execute_result",
     "data": {
      "text/plain": "   A    B         C\n0  1  2.0  b'Hello'\n1  2  3.0  b'World'",
      "text/html": "<div>\n<style scoped>\n    .dataframe tbody tr th:only-of-type {\n        vertical-align: middle;\n    }\n\n    .dataframe tbody tr th {\n        vertical-align: top;\n    }\n\n    .dataframe thead th {\n        text-align: right;\n    }\n</style>\n<table border=\"1\" class=\"dataframe\">\n  <thead>\n    <tr style=\"text-align: right;\">\n      <th></th>\n      <th>A</th>\n      <th>B</th>\n      <th>C</th>\n    </tr>\n  </thead>\n  <tbody>\n    <tr>\n      <th>0</th>\n      <td>1</td>\n      <td>2.0</td>\n      <td>b'Hello'</td>\n    </tr>\n    <tr>\n      <th>1</th>\n      <td>2</td>\n      <td>3.0</td>\n      <td>b'World'</td>\n    </tr>\n  </tbody>\n</table>\n</div>"
     },
     "metadata": {},
     "execution_count": 4
    },
    {
     "output_type": "execute_result",
     "data": {
      "text/plain": "       a              b      \n       b    a    c    a     b\nA B  1.0  4.0  5.0  8.0  10.0\n  C  2.0  3.0  6.0  7.0   NaN\n  D  NaN  NaN  NaN  NaN   9.0",
      "text/html": "<div>\n<style scoped>\n    .dataframe tbody tr th:only-of-type {\n        vertical-align: middle;\n    }\n\n    .dataframe tbody tr th {\n        vertical-align: top;\n    }\n\n    .dataframe thead tr th {\n        text-align: left;\n    }\n</style>\n<table border=\"1\" class=\"dataframe\">\n  <thead>\n    <tr>\n      <th></th>\n      <th></th>\n      <th colspan=\"3\" halign=\"left\">a</th>\n      <th colspan=\"2\" halign=\"left\">b</th>\n    </tr>\n    <tr>\n      <th></th>\n      <th></th>\n      <th>b</th>\n      <th>a</th>\n      <th>c</th>\n      <th>a</th>\n      <th>b</th>\n    </tr>\n  </thead>\n  <tbody>\n    <tr>\n      <th rowspan=\"3\" valign=\"top\">A</th>\n      <th>B</th>\n      <td>1.0</td>\n      <td>4.0</td>\n      <td>5.0</td>\n      <td>8.0</td>\n      <td>10.0</td>\n    </tr>\n    <tr>\n      <th>C</th>\n      <td>2.0</td>\n      <td>3.0</td>\n      <td>6.0</td>\n      <td>7.0</td>\n      <td>NaN</td>\n    </tr>\n    <tr>\n      <th>D</th>\n      <td>NaN</td>\n      <td>NaN</td>\n      <td>NaN</td>\n      <td>NaN</td>\n      <td>9.0</td>\n    </tr>\n  </tbody>\n</table>\n</div>"
     },
     "metadata": {},
     "execution_count": 4
    }
   ],
   "source": [
    "pd.Series(np.arange(10))\n",
    "\n",
    "# in the latest pandas version dict keys has order and are not sorted when pd.Series is created; but better to control for the order (since older versions might be used)\n",
    "pd.Series({'b': 5, 'a': 6, 'c': 7})\n",
    "\n",
    "# from record array\n",
    "data = np.zeros((2, ), dtype=[('A', 'i4'), ('B', 'f4'), ('C', 'a10')])\n",
    "data[:] = [(1, 2., 'Hello'), (2, 3., \"World\")]\n",
    "pd.DataFrame(data)\n",
    "\n",
    "# multiindex df from dict of tuples\n",
    "pd.DataFrame({('a', 'b'): {('A', 'B'): 1, ('A', 'C'): 2},\n",
    "    ('a', 'a'): {('A', 'C'): 3, ('A', 'B'): 4},\n",
    "    ('a', 'c'): {('A', 'B'): 5, ('A', 'C'): 6},\n",
    "    ('b', 'a'): {('A', 'C'): 7, ('A', 'B'): 8},\n",
    "    ('b', 'b'): {('A', 'D'): 9, ('A', 'B'): 10}})"
   ]
  },
  {
   "cell_type": "markdown",
   "metadata": {},
   "source": [
    "## dataframe structure"
   ]
  },
  {
   "cell_type": "code",
   "execution_count": 5,
   "metadata": {},
   "outputs": [
    {
     "output_type": "execute_result",
     "data": {
      "text/plain": "   seriesName\n0           1\n1           2\n2           3\n3           4",
      "text/html": "<div>\n<style scoped>\n    .dataframe tbody tr th:only-of-type {\n        vertical-align: middle;\n    }\n\n    .dataframe tbody tr th {\n        vertical-align: top;\n    }\n\n    .dataframe thead th {\n        text-align: right;\n    }\n</style>\n<table border=\"1\" class=\"dataframe\">\n  <thead>\n    <tr style=\"text-align: right;\">\n      <th></th>\n      <th>seriesName</th>\n    </tr>\n  </thead>\n  <tbody>\n    <tr>\n      <th>0</th>\n      <td>1</td>\n    </tr>\n    <tr>\n      <th>1</th>\n      <td>2</td>\n    </tr>\n    <tr>\n      <th>2</th>\n      <td>3</td>\n    </tr>\n    <tr>\n      <th>3</th>\n      <td>4</td>\n    </tr>\n  </tbody>\n</table>\n</div>"
     },
     "metadata": {},
     "execution_count": 5
    }
   ],
   "source": [
    "# index, columns, index.name, columns.name  \n",
    "\n",
    "s1 = pd.Series([1, 2, 3, 4])\n",
    "s1.name = 'seriesName'  # series name attribute\n",
    "s1.to_frame()  # name assigned to column name"
   ]
  },
  {
   "cell_type": "code",
   "execution_count": 6,
   "metadata": {},
   "outputs": [
    {
     "output_type": "execute_result",
     "data": {
      "text/plain": "A      int64\nB    float64\nC    float64\nD    float64\nE    float64\ndtype: object"
     },
     "metadata": {},
     "execution_count": 6
    }
   ],
   "source": [
    "df = pd.DataFrame(rng.standard_normal(size=(10, 5)), columns=list('ABCDE'))\n",
    "\n",
    "df.loc[:, 'A'] = df['A'].astype(int)\n",
    "df.dtypes  # each column has separate dtype\n",
    "\n",
    "arr = df.to_numpy()  # map to numpy array (new instead of .values)"
   ]
  },
  {
   "cell_type": "markdown",
   "metadata": {},
   "source": [
    "### instead of .values it's now recommended to use .to_numpy() or .array\n",
    "* .array will return ExtensionArray, while .to_numpy() will return the underlying numpy array\n",
    "* .to_numpy() will preserve the columns dtypes unlike .values\n",
    "* recommended to avoid .values"
   ]
  },
  {
   "cell_type": "markdown",
   "metadata": {},
   "source": [
    "### recommended to use numexpr and bottleneck libs together with pandas to improve performance"
   ]
  },
  {
   "cell_type": "markdown",
   "metadata": {},
   "source": [
    "### recommended to use method chaining via .pipe(..)\n",
    "Also recommended to use .apply(), .pipe(), assing() in chains"
   ]
  },
  {
   "cell_type": "code",
   "execution_count": 7,
   "metadata": {},
   "outputs": [
    {
     "output_type": "execute_result",
     "data": {
      "text/plain": "RangeIndex(start=0, stop=10, step=1)"
     },
     "metadata": {},
     "execution_count": 7
    },
    {
     "output_type": "execute_result",
     "data": {
      "text/plain": "dtype('int64')"
     },
     "metadata": {},
     "execution_count": 7
    },
    {
     "output_type": "execute_result",
     "data": {
      "text/plain": "Index(['a', 'd'], dtype='object')"
     },
     "metadata": {},
     "execution_count": 7
    },
    {
     "output_type": "execute_result",
     "data": {
      "text/plain": "Index(['b', 'c', 'e'], dtype='object')"
     },
     "metadata": {},
     "execution_count": 7
    }
   ],
   "source": [
    "df.index  # pd.Index object (enhanced ndarray)\n",
    "df.index.dtype  # also has dtype\n",
    "\n",
    "\n",
    "idx = pd.Index(list('abcde'))\n",
    "\n",
    "# set operations for index\n",
    "idx.intersection(['a', 'd', 'f'])\n",
    "idx.difference(['a', 'd', 'f'])"
   ]
  },
  {
   "cell_type": "markdown",
   "metadata": {},
   "source": [
    "## transforms"
   ]
  },
  {
   "cell_type": "code",
   "execution_count": 8,
   "metadata": {},
   "outputs": [
    {
     "output_type": "execute_result",
     "data": {
      "text/plain": "          A         B         C         D         E\n0  1.000000  0.284935  0.220616  0.379378  0.577788\n1  1.000000  0.734707  0.757932  3.639181  3.426461\n2  1.000000  0.641202  0.130685  0.056933  0.944066\n3  0.367879  2.671077  0.179990  3.045466  1.199649\n4  2.718282  0.406107  0.324216  1.335973  2.606068\n5  1.000000  5.743279  0.141706  2.388818  3.272712\n6  0.367879  0.924090  1.347554  1.342144  0.877569\n7  1.000000  0.885883  1.026472  2.714126  0.773955\n8  1.000000  0.223127  0.716671  2.114368  2.342586\n9  1.000000  0.276750  0.650226  1.028805  5.080646",
      "text/html": "<div>\n<style scoped>\n    .dataframe tbody tr th:only-of-type {\n        vertical-align: middle;\n    }\n\n    .dataframe tbody tr th {\n        vertical-align: top;\n    }\n\n    .dataframe thead th {\n        text-align: right;\n    }\n</style>\n<table border=\"1\" class=\"dataframe\">\n  <thead>\n    <tr style=\"text-align: right;\">\n      <th></th>\n      <th>A</th>\n      <th>B</th>\n      <th>C</th>\n      <th>D</th>\n      <th>E</th>\n    </tr>\n  </thead>\n  <tbody>\n    <tr>\n      <th>0</th>\n      <td>1.000000</td>\n      <td>0.284935</td>\n      <td>0.220616</td>\n      <td>0.379378</td>\n      <td>0.577788</td>\n    </tr>\n    <tr>\n      <th>1</th>\n      <td>1.000000</td>\n      <td>0.734707</td>\n      <td>0.757932</td>\n      <td>3.639181</td>\n      <td>3.426461</td>\n    </tr>\n    <tr>\n      <th>2</th>\n      <td>1.000000</td>\n      <td>0.641202</td>\n      <td>0.130685</td>\n      <td>0.056933</td>\n      <td>0.944066</td>\n    </tr>\n    <tr>\n      <th>3</th>\n      <td>0.367879</td>\n      <td>2.671077</td>\n      <td>0.179990</td>\n      <td>3.045466</td>\n      <td>1.199649</td>\n    </tr>\n    <tr>\n      <th>4</th>\n      <td>2.718282</td>\n      <td>0.406107</td>\n      <td>0.324216</td>\n      <td>1.335973</td>\n      <td>2.606068</td>\n    </tr>\n    <tr>\n      <th>5</th>\n      <td>1.000000</td>\n      <td>5.743279</td>\n      <td>0.141706</td>\n      <td>2.388818</td>\n      <td>3.272712</td>\n    </tr>\n    <tr>\n      <th>6</th>\n      <td>0.367879</td>\n      <td>0.924090</td>\n      <td>1.347554</td>\n      <td>1.342144</td>\n      <td>0.877569</td>\n    </tr>\n    <tr>\n      <th>7</th>\n      <td>1.000000</td>\n      <td>0.885883</td>\n      <td>1.026472</td>\n      <td>2.714126</td>\n      <td>0.773955</td>\n    </tr>\n    <tr>\n      <th>8</th>\n      <td>1.000000</td>\n      <td>0.223127</td>\n      <td>0.716671</td>\n      <td>2.114368</td>\n      <td>2.342586</td>\n    </tr>\n    <tr>\n      <th>9</th>\n      <td>1.000000</td>\n      <td>0.276750</td>\n      <td>0.650226</td>\n      <td>1.028805</td>\n      <td>5.080646</td>\n    </tr>\n  </tbody>\n</table>\n</div>"
     },
     "metadata": {},
     "execution_count": 8
    }
   ],
   "source": [
    "np.exp(df)  # numpy ufunc can be directly applied to dfs"
   ]
  },
  {
   "cell_type": "code",
   "execution_count": 9,
   "metadata": {},
   "outputs": [
    {
     "output_type": "execute_result",
     "data": {
      "text/plain": "     A         B         C         D         E\n0  0.0 -1.255496 -1.511330 -0.969223 -0.548549\n1  0.0 -0.308283 -0.277161  1.291759  1.231528\n2  0.0 -0.444412 -2.034968 -2.865882 -0.057559\n3 -1.0  0.982482 -1.714855  1.113654  0.182029\n4  1.0 -0.901139 -1.126345  0.289660  0.957842\n5  0.0  1.748030 -1.954000  0.870799  1.185619\n6 -1.0 -0.078946  0.298291  0.294268 -0.130599\n7  0.0 -0.121171  0.026128  0.998470 -0.256241\n8  0.0 -1.500014 -0.333139  0.748756  0.851255\n9  0.0 -1.284640 -0.430435  0.028398  1.625438",
      "text/html": "<div>\n<style scoped>\n    .dataframe tbody tr th:only-of-type {\n        vertical-align: middle;\n    }\n\n    .dataframe tbody tr th {\n        vertical-align: top;\n    }\n\n    .dataframe thead th {\n        text-align: right;\n    }\n</style>\n<table border=\"1\" class=\"dataframe\">\n  <thead>\n    <tr style=\"text-align: right;\">\n      <th></th>\n      <th>A</th>\n      <th>B</th>\n      <th>C</th>\n      <th>D</th>\n      <th>E</th>\n    </tr>\n  </thead>\n  <tbody>\n    <tr>\n      <th>0</th>\n      <td>0.0</td>\n      <td>-1.255496</td>\n      <td>-1.511330</td>\n      <td>-0.969223</td>\n      <td>-0.548549</td>\n    </tr>\n    <tr>\n      <th>1</th>\n      <td>0.0</td>\n      <td>-0.308283</td>\n      <td>-0.277161</td>\n      <td>1.291759</td>\n      <td>1.231528</td>\n    </tr>\n    <tr>\n      <th>2</th>\n      <td>0.0</td>\n      <td>-0.444412</td>\n      <td>-2.034968</td>\n      <td>-2.865882</td>\n      <td>-0.057559</td>\n    </tr>\n    <tr>\n      <th>3</th>\n      <td>-1.0</td>\n      <td>0.982482</td>\n      <td>-1.714855</td>\n      <td>1.113654</td>\n      <td>0.182029</td>\n    </tr>\n    <tr>\n      <th>4</th>\n      <td>1.0</td>\n      <td>-0.901139</td>\n      <td>-1.126345</td>\n      <td>0.289660</td>\n      <td>0.957842</td>\n    </tr>\n    <tr>\n      <th>5</th>\n      <td>0.0</td>\n      <td>1.748030</td>\n      <td>-1.954000</td>\n      <td>0.870799</td>\n      <td>1.185619</td>\n    </tr>\n    <tr>\n      <th>6</th>\n      <td>-1.0</td>\n      <td>-0.078946</td>\n      <td>0.298291</td>\n      <td>0.294268</td>\n      <td>-0.130599</td>\n    </tr>\n    <tr>\n      <th>7</th>\n      <td>0.0</td>\n      <td>-0.121171</td>\n      <td>0.026128</td>\n      <td>0.998470</td>\n      <td>-0.256241</td>\n    </tr>\n    <tr>\n      <th>8</th>\n      <td>0.0</td>\n      <td>-1.500014</td>\n      <td>-0.333139</td>\n      <td>0.748756</td>\n      <td>0.851255</td>\n    </tr>\n    <tr>\n      <th>9</th>\n      <td>0.0</td>\n      <td>-1.284640</td>\n      <td>-0.430435</td>\n      <td>0.028398</td>\n      <td>1.625438</td>\n    </tr>\n  </tbody>\n</table>\n</div>"
     },
     "metadata": {},
     "execution_count": 9
    }
   ],
   "source": [
    "df.pipe(np.exp).pipe(np.log)"
   ]
  },
  {
   "cell_type": "code",
   "execution_count": 10,
   "metadata": {},
   "outputs": [
    {
     "output_type": "execute_result",
     "data": {
      "text/plain": "0   -4.284597\n1    1.937842\n2   -5.402820\n3   -0.436690\n4    0.220019\n5    1.850448\n6   -0.616986\n7    0.647186\n8   -0.233141\n9   -0.061239\ndtype: float64"
     },
     "metadata": {},
     "execution_count": 10
    }
   ],
   "source": [
    "df.apply(np.sum, axis=1)  # apply function to rows/columns"
   ]
  },
  {
   "cell_type": "code",
   "execution_count": 11,
   "metadata": {},
   "outputs": [
    {
     "output_type": "execute_result",
     "data": {
      "text/plain": "   A         B         C         D         E\n0  0  1.576269  2.284118  0.939392  0.300906\n1  0  0.095039  0.076818  1.668641  1.516661\n2  0  0.197502  4.141094  8.213278  0.003313\n3  1  0.965270  2.940728  1.240225  0.033135\n4  1  0.812051  1.268652  0.083903  0.917462\n5  0  3.055610  3.818115  0.758290  1.405693\n6  1  0.006232  0.088977  0.086594  0.017056\n7  0  0.014682  0.000683  0.996942  0.065660\n8  0  2.250042  0.110981  0.560636  0.724635\n9  0  1.650300  0.185274  0.000806  2.642050",
      "text/html": "<div>\n<style scoped>\n    .dataframe tbody tr th:only-of-type {\n        vertical-align: middle;\n    }\n\n    .dataframe tbody tr th {\n        vertical-align: top;\n    }\n\n    .dataframe thead th {\n        text-align: right;\n    }\n</style>\n<table border=\"1\" class=\"dataframe\">\n  <thead>\n    <tr style=\"text-align: right;\">\n      <th></th>\n      <th>A</th>\n      <th>B</th>\n      <th>C</th>\n      <th>D</th>\n      <th>E</th>\n    </tr>\n  </thead>\n  <tbody>\n    <tr>\n      <th>0</th>\n      <td>0</td>\n      <td>1.576269</td>\n      <td>2.284118</td>\n      <td>0.939392</td>\n      <td>0.300906</td>\n    </tr>\n    <tr>\n      <th>1</th>\n      <td>0</td>\n      <td>0.095039</td>\n      <td>0.076818</td>\n      <td>1.668641</td>\n      <td>1.516661</td>\n    </tr>\n    <tr>\n      <th>2</th>\n      <td>0</td>\n      <td>0.197502</td>\n      <td>4.141094</td>\n      <td>8.213278</td>\n      <td>0.003313</td>\n    </tr>\n    <tr>\n      <th>3</th>\n      <td>1</td>\n      <td>0.965270</td>\n      <td>2.940728</td>\n      <td>1.240225</td>\n      <td>0.033135</td>\n    </tr>\n    <tr>\n      <th>4</th>\n      <td>1</td>\n      <td>0.812051</td>\n      <td>1.268652</td>\n      <td>0.083903</td>\n      <td>0.917462</td>\n    </tr>\n    <tr>\n      <th>5</th>\n      <td>0</td>\n      <td>3.055610</td>\n      <td>3.818115</td>\n      <td>0.758290</td>\n      <td>1.405693</td>\n    </tr>\n    <tr>\n      <th>6</th>\n      <td>1</td>\n      <td>0.006232</td>\n      <td>0.088977</td>\n      <td>0.086594</td>\n      <td>0.017056</td>\n    </tr>\n    <tr>\n      <th>7</th>\n      <td>0</td>\n      <td>0.014682</td>\n      <td>0.000683</td>\n      <td>0.996942</td>\n      <td>0.065660</td>\n    </tr>\n    <tr>\n      <th>8</th>\n      <td>0</td>\n      <td>2.250042</td>\n      <td>0.110981</td>\n      <td>0.560636</td>\n      <td>0.724635</td>\n    </tr>\n    <tr>\n      <th>9</th>\n      <td>0</td>\n      <td>1.650300</td>\n      <td>0.185274</td>\n      <td>0.000806</td>\n      <td>2.642050</td>\n    </tr>\n  </tbody>\n</table>\n</div>"
     },
     "metadata": {},
     "execution_count": 11
    }
   ],
   "source": [
    "df.applymap(lambda x: x**2)  # apply function individually to each element -- very slow! not recommended"
   ]
  },
  {
   "cell_type": "markdown",
   "metadata": {},
   "source": [
    "## indexing, queries, assignment"
   ]
  },
  {
   "cell_type": "code",
   "execution_count": 12,
   "metadata": {},
   "outputs": [
    {
     "output_type": "execute_result",
     "data": {
      "text/plain": "          A         B         C         D         E\n0 -0.436383 -1.641516 -0.889540  0.512324  0.181061\n1 -0.348914  1.260242 -1.119045  0.008187 -1.117537\n2 -0.751471  0.826254 -2.792355 -1.434212  0.743541\n3 -0.536881  0.517850 -0.585159 -0.478154 -0.443618\n4  1.204825 -0.027534  0.886986  0.884659 -0.367832",
      "text/html": "<div>\n<style scoped>\n    .dataframe tbody tr th:only-of-type {\n        vertical-align: middle;\n    }\n\n    .dataframe tbody tr th {\n        vertical-align: top;\n    }\n\n    .dataframe thead th {\n        text-align: right;\n    }\n</style>\n<table border=\"1\" class=\"dataframe\">\n  <thead>\n    <tr style=\"text-align: right;\">\n      <th></th>\n      <th>A</th>\n      <th>B</th>\n      <th>C</th>\n      <th>D</th>\n      <th>E</th>\n    </tr>\n  </thead>\n  <tbody>\n    <tr>\n      <th>0</th>\n      <td>-0.436383</td>\n      <td>-1.641516</td>\n      <td>-0.889540</td>\n      <td>0.512324</td>\n      <td>0.181061</td>\n    </tr>\n    <tr>\n      <th>1</th>\n      <td>-0.348914</td>\n      <td>1.260242</td>\n      <td>-1.119045</td>\n      <td>0.008187</td>\n      <td>-1.117537</td>\n    </tr>\n    <tr>\n      <th>2</th>\n      <td>-0.751471</td>\n      <td>0.826254</td>\n      <td>-2.792355</td>\n      <td>-1.434212</td>\n      <td>0.743541</td>\n    </tr>\n    <tr>\n      <th>3</th>\n      <td>-0.536881</td>\n      <td>0.517850</td>\n      <td>-0.585159</td>\n      <td>-0.478154</td>\n      <td>-0.443618</td>\n    </tr>\n    <tr>\n      <th>4</th>\n      <td>1.204825</td>\n      <td>-0.027534</td>\n      <td>0.886986</td>\n      <td>0.884659</td>\n      <td>-0.367832</td>\n    </tr>\n  </tbody>\n</table>\n</div>"
     },
     "metadata": {},
     "execution_count": 12
    },
    {
     "output_type": "execute_result",
     "data": {
      "text/plain": "            X                   Y                    \n            A         B         C         D         E\na 0 -0.898994  1.954438  0.680617 -0.147608 -0.065124\nb 1 -0.002318 -1.443408 -0.544832  0.381091 -0.018410\na 2  1.358589  0.754290  0.981196  0.928981  0.875559\nb 3 -0.172053 -1.522566 -0.874787 -1.272389 -0.697787\n  4 -2.654524 -0.241441  1.261998  1.691090 -0.502061",
      "text/html": "<div>\n<style scoped>\n    .dataframe tbody tr th:only-of-type {\n        vertical-align: middle;\n    }\n\n    .dataframe tbody tr th {\n        vertical-align: top;\n    }\n\n    .dataframe thead tr th {\n        text-align: left;\n    }\n</style>\n<table border=\"1\" class=\"dataframe\">\n  <thead>\n    <tr>\n      <th></th>\n      <th></th>\n      <th colspan=\"2\" halign=\"left\">X</th>\n      <th colspan=\"3\" halign=\"left\">Y</th>\n    </tr>\n    <tr>\n      <th></th>\n      <th></th>\n      <th>A</th>\n      <th>B</th>\n      <th>C</th>\n      <th>D</th>\n      <th>E</th>\n    </tr>\n  </thead>\n  <tbody>\n    <tr>\n      <th>a</th>\n      <th>0</th>\n      <td>-0.898994</td>\n      <td>1.954438</td>\n      <td>0.680617</td>\n      <td>-0.147608</td>\n      <td>-0.065124</td>\n    </tr>\n    <tr>\n      <th>b</th>\n      <th>1</th>\n      <td>-0.002318</td>\n      <td>-1.443408</td>\n      <td>-0.544832</td>\n      <td>0.381091</td>\n      <td>-0.018410</td>\n    </tr>\n    <tr>\n      <th>a</th>\n      <th>2</th>\n      <td>1.358589</td>\n      <td>0.754290</td>\n      <td>0.981196</td>\n      <td>0.928981</td>\n      <td>0.875559</td>\n    </tr>\n    <tr>\n      <th rowspan=\"2\" valign=\"top\">b</th>\n      <th>3</th>\n      <td>-0.172053</td>\n      <td>-1.522566</td>\n      <td>-0.874787</td>\n      <td>-1.272389</td>\n      <td>-0.697787</td>\n    </tr>\n    <tr>\n      <th>4</th>\n      <td>-2.654524</td>\n      <td>-0.241441</td>\n      <td>1.261998</td>\n      <td>1.691090</td>\n      <td>-0.502061</td>\n    </tr>\n  </tbody>\n</table>\n</div>"
     },
     "metadata": {},
     "execution_count": 12
    }
   ],
   "source": [
    "idx = np.arange(5)\n",
    "cols = list('ABCDE')\n",
    "idx_mi = pd.MultiIndex.from_tuples(zip(idx, list('ababb')))\n",
    "cols_mi = pd.MultiIndex.from_tuples(zip(cols, list('XXYYY')))\n",
    "\n",
    "df = pd.DataFrame(rng.standard_normal(size=(5, 5)), index=idx, columns=cols)\n",
    "dfmi = pd.DataFrame(rng.standard_normal(size=(5, 5)), index=idx_mi, columns=cols_mi).reorder_levels([1, 0], axis=1).reorder_levels([1, 0], axis=0)\n",
    "\n",
    "df\n",
    "dfmi"
   ]
  },
  {
   "cell_type": "markdown",
   "metadata": {},
   "source": [
    "### simple df"
   ]
  },
  {
   "cell_type": "code",
   "execution_count": 13,
   "metadata": {},
   "outputs": [
    {
     "output_type": "execute_result",
     "data": {
      "text/plain": "0   -0.436383\n1   -0.348914\n2   -0.751471\n3   -0.536881\n4    1.204825\nName: A, dtype: float64"
     },
     "metadata": {},
     "execution_count": 13
    },
    {
     "output_type": "execute_result",
     "data": {
      "text/plain": "     A         B         C         D         E\n0  1.0 -1.641516 -0.889540  0.512324  0.181061\n1  1.0  1.260242 -1.119045  0.008187 -1.117537\n2  1.0  0.826254 -2.792355 -1.434212  0.743541\n3  1.0  0.517850 -0.585159 -0.478154 -0.443618\n4  1.0 -0.027534  0.886986  0.884659 -0.367832",
      "text/html": "<div>\n<style scoped>\n    .dataframe tbody tr th:only-of-type {\n        vertical-align: middle;\n    }\n\n    .dataframe tbody tr th {\n        vertical-align: top;\n    }\n\n    .dataframe thead th {\n        text-align: right;\n    }\n</style>\n<table border=\"1\" class=\"dataframe\">\n  <thead>\n    <tr style=\"text-align: right;\">\n      <th></th>\n      <th>A</th>\n      <th>B</th>\n      <th>C</th>\n      <th>D</th>\n      <th>E</th>\n    </tr>\n  </thead>\n  <tbody>\n    <tr>\n      <th>0</th>\n      <td>1.0</td>\n      <td>-1.641516</td>\n      <td>-0.889540</td>\n      <td>0.512324</td>\n      <td>0.181061</td>\n    </tr>\n    <tr>\n      <th>1</th>\n      <td>1.0</td>\n      <td>1.260242</td>\n      <td>-1.119045</td>\n      <td>0.008187</td>\n      <td>-1.117537</td>\n    </tr>\n    <tr>\n      <th>2</th>\n      <td>1.0</td>\n      <td>0.826254</td>\n      <td>-2.792355</td>\n      <td>-1.434212</td>\n      <td>0.743541</td>\n    </tr>\n    <tr>\n      <th>3</th>\n      <td>1.0</td>\n      <td>0.517850</td>\n      <td>-0.585159</td>\n      <td>-0.478154</td>\n      <td>-0.443618</td>\n    </tr>\n    <tr>\n      <th>4</th>\n      <td>1.0</td>\n      <td>-0.027534</td>\n      <td>0.886986</td>\n      <td>0.884659</td>\n      <td>-0.367832</td>\n    </tr>\n  </tbody>\n</table>\n</div>"
     },
     "metadata": {},
     "execution_count": 13
    },
    {
     "output_type": "execute_result",
     "data": {
      "text/plain": "     A         B         C         D         E  M\n0  1.0 -1.641516 -0.889540  0.512324  0.181061 -1\n1  1.0  1.260242 -1.119045  0.008187 -1.117537 -1\n2 -2.0  0.826254 -2.792355 -1.434212  0.743541 -2\n3 -2.0  0.517850 -0.585159 -0.478154 -0.443618 -2\n4 -2.0 -0.027534  0.886986  0.884659 -0.367832 -2",
      "text/html": "<div>\n<style scoped>\n    .dataframe tbody tr th:only-of-type {\n        vertical-align: middle;\n    }\n\n    .dataframe tbody tr th {\n        vertical-align: top;\n    }\n\n    .dataframe thead th {\n        text-align: right;\n    }\n</style>\n<table border=\"1\" class=\"dataframe\">\n  <thead>\n    <tr style=\"text-align: right;\">\n      <th></th>\n      <th>A</th>\n      <th>B</th>\n      <th>C</th>\n      <th>D</th>\n      <th>E</th>\n      <th>M</th>\n    </tr>\n  </thead>\n  <tbody>\n    <tr>\n      <th>0</th>\n      <td>1.0</td>\n      <td>-1.641516</td>\n      <td>-0.889540</td>\n      <td>0.512324</td>\n      <td>0.181061</td>\n      <td>-1</td>\n    </tr>\n    <tr>\n      <th>1</th>\n      <td>1.0</td>\n      <td>1.260242</td>\n      <td>-1.119045</td>\n      <td>0.008187</td>\n      <td>-1.117537</td>\n      <td>-1</td>\n    </tr>\n    <tr>\n      <th>2</th>\n      <td>-2.0</td>\n      <td>0.826254</td>\n      <td>-2.792355</td>\n      <td>-1.434212</td>\n      <td>0.743541</td>\n      <td>-2</td>\n    </tr>\n    <tr>\n      <th>3</th>\n      <td>-2.0</td>\n      <td>0.517850</td>\n      <td>-0.585159</td>\n      <td>-0.478154</td>\n      <td>-0.443618</td>\n      <td>-2</td>\n    </tr>\n    <tr>\n      <th>4</th>\n      <td>-2.0</td>\n      <td>-0.027534</td>\n      <td>0.886986</td>\n      <td>0.884659</td>\n      <td>-0.367832</td>\n      <td>-2</td>\n    </tr>\n  </tbody>\n</table>\n</div>"
     },
     "metadata": {},
     "execution_count": 13
    }
   ],
   "source": [
    "df['A']  # get\n",
    "df['A'] = np.ones(5)  # adjust column\n",
    "df\n",
    "\n",
    "df['M'] = -1  # add new column\n",
    "\n",
    "df.loc[2:4, ['A', 'M']] = -2  # change or get specify elements (use slices)\n",
    "df"
   ]
  },
  {
   "cell_type": "code",
   "execution_count": 14,
   "metadata": {},
   "outputs": [
    {
     "output_type": "execute_result",
     "data": {
      "text/plain": "     A         B         C         D         E  M    N\n0  1.0 -1.641516 -0.889540  0.512324  0.181061 -1  NaN\n1  1.0  1.260242 -1.119045  0.008187 -1.117537 -1  NaN\n2 -2.0  0.826254 -2.792355 -1.434212  0.743541 -3 -3.0\n3 -2.0  0.517850 -0.585159 -0.478154 -0.443618 -2  NaN\n4 -2.0 -0.027534  0.886986  0.884659 -0.367832 -2  NaN",
      "text/html": "<div>\n<style scoped>\n    .dataframe tbody tr th:only-of-type {\n        vertical-align: middle;\n    }\n\n    .dataframe tbody tr th {\n        vertical-align: top;\n    }\n\n    .dataframe thead th {\n        text-align: right;\n    }\n</style>\n<table border=\"1\" class=\"dataframe\">\n  <thead>\n    <tr style=\"text-align: right;\">\n      <th></th>\n      <th>A</th>\n      <th>B</th>\n      <th>C</th>\n      <th>D</th>\n      <th>E</th>\n      <th>M</th>\n      <th>N</th>\n    </tr>\n  </thead>\n  <tbody>\n    <tr>\n      <th>0</th>\n      <td>1.0</td>\n      <td>-1.641516</td>\n      <td>-0.889540</td>\n      <td>0.512324</td>\n      <td>0.181061</td>\n      <td>-1</td>\n      <td>NaN</td>\n    </tr>\n    <tr>\n      <th>1</th>\n      <td>1.0</td>\n      <td>1.260242</td>\n      <td>-1.119045</td>\n      <td>0.008187</td>\n      <td>-1.117537</td>\n      <td>-1</td>\n      <td>NaN</td>\n    </tr>\n    <tr>\n      <th>2</th>\n      <td>-2.0</td>\n      <td>0.826254</td>\n      <td>-2.792355</td>\n      <td>-1.434212</td>\n      <td>0.743541</td>\n      <td>-3</td>\n      <td>-3.0</td>\n    </tr>\n    <tr>\n      <th>3</th>\n      <td>-2.0</td>\n      <td>0.517850</td>\n      <td>-0.585159</td>\n      <td>-0.478154</td>\n      <td>-0.443618</td>\n      <td>-2</td>\n      <td>NaN</td>\n    </tr>\n    <tr>\n      <th>4</th>\n      <td>-2.0</td>\n      <td>-0.027534</td>\n      <td>0.886986</td>\n      <td>0.884659</td>\n      <td>-0.367832</td>\n      <td>-2</td>\n      <td>NaN</td>\n    </tr>\n  </tbody>\n</table>\n</div>"
     },
     "metadata": {},
     "execution_count": 14
    },
    {
     "output_type": "execute_result",
     "data": {
      "text/plain": "     A         B         C         D    E  M    N\n0  1.0 -1.641516 -0.889540  0.512324  NaN -1  NaN\n1  1.0  1.260242 -1.119045  0.008187  NaN -1  NaN\n2 -2.0  0.826254 -2.792355 -1.434212  1.0 -3 -3.0\n3 -2.0  0.517850 -0.585159 -0.478154  1.0 -2  NaN\n4 -2.0 -0.027534  0.886986  0.884659  1.0 -2  NaN",
      "text/html": "<div>\n<style scoped>\n    .dataframe tbody tr th:only-of-type {\n        vertical-align: middle;\n    }\n\n    .dataframe tbody tr th {\n        vertical-align: top;\n    }\n\n    .dataframe thead th {\n        text-align: right;\n    }\n</style>\n<table border=\"1\" class=\"dataframe\">\n  <thead>\n    <tr style=\"text-align: right;\">\n      <th></th>\n      <th>A</th>\n      <th>B</th>\n      <th>C</th>\n      <th>D</th>\n      <th>E</th>\n      <th>M</th>\n      <th>N</th>\n    </tr>\n  </thead>\n  <tbody>\n    <tr>\n      <th>0</th>\n      <td>1.0</td>\n      <td>-1.641516</td>\n      <td>-0.889540</td>\n      <td>0.512324</td>\n      <td>NaN</td>\n      <td>-1</td>\n      <td>NaN</td>\n    </tr>\n    <tr>\n      <th>1</th>\n      <td>1.0</td>\n      <td>1.260242</td>\n      <td>-1.119045</td>\n      <td>0.008187</td>\n      <td>NaN</td>\n      <td>-1</td>\n      <td>NaN</td>\n    </tr>\n    <tr>\n      <th>2</th>\n      <td>-2.0</td>\n      <td>0.826254</td>\n      <td>-2.792355</td>\n      <td>-1.434212</td>\n      <td>1.0</td>\n      <td>-3</td>\n      <td>-3.0</td>\n    </tr>\n    <tr>\n      <th>3</th>\n      <td>-2.0</td>\n      <td>0.517850</td>\n      <td>-0.585159</td>\n      <td>-0.478154</td>\n      <td>1.0</td>\n      <td>-2</td>\n      <td>NaN</td>\n    </tr>\n    <tr>\n      <th>4</th>\n      <td>-2.0</td>\n      <td>-0.027534</td>\n      <td>0.886986</td>\n      <td>0.884659</td>\n      <td>1.0</td>\n      <td>-2</td>\n      <td>NaN</td>\n    </tr>\n  </tbody>\n</table>\n</div>"
     },
     "metadata": {},
     "execution_count": 14
    }
   ],
   "source": [
    "#df['N']  # missing key\n",
    "#df[['N', 'A']]  # one of the keys is missing\n",
    "#df.loc[2, ['N', 'M']]  # missing key, all won't work\n",
    "\n",
    "df.loc[2, ['M', 'N']] = -3  # assignment - any missing key will be added, extra positions extended with NaNs\n",
    "df\n",
    "\n",
    "# when assigning a Series : index intersection values will be assigned, others will be NaNs\n",
    "df['E'] = pd.Series(1, index=np.arange(2, 16))  \n",
    "df\n",
    "\n",
    "# when list or ndarray is assigned to columns : must have the same length as column"
   ]
  },
  {
   "cell_type": "code",
   "execution_count": 15,
   "metadata": {},
   "outputs": [
    {
     "output_type": "execute_result",
     "data": {
      "text/plain": "     A         B         C         D    E    M    N\n0  1.0 -1.641516 -0.889540  0.512324  NaN -1.0  NaN\n1  1.0  1.260242 -1.119045  0.008187  NaN -1.0  NaN\n2 -2.0  0.826254 -2.792355 -1.434212  1.0 -3.0 -3.0\n3 -2.0  0.517850 -0.585159 -0.478154  1.0 -2.0  NaN\n4 -2.0 -0.027534  0.886986  0.884659  1.0 -2.0  NaN\n5  NaN       NaN       NaN       NaN  NaN  NaN  NaN",
      "text/html": "<div>\n<style scoped>\n    .dataframe tbody tr th:only-of-type {\n        vertical-align: middle;\n    }\n\n    .dataframe tbody tr th {\n        vertical-align: top;\n    }\n\n    .dataframe thead th {\n        text-align: right;\n    }\n</style>\n<table border=\"1\" class=\"dataframe\">\n  <thead>\n    <tr style=\"text-align: right;\">\n      <th></th>\n      <th>A</th>\n      <th>B</th>\n      <th>C</th>\n      <th>D</th>\n      <th>E</th>\n      <th>M</th>\n      <th>N</th>\n    </tr>\n  </thead>\n  <tbody>\n    <tr>\n      <th>0</th>\n      <td>1.0</td>\n      <td>-1.641516</td>\n      <td>-0.889540</td>\n      <td>0.512324</td>\n      <td>NaN</td>\n      <td>-1.0</td>\n      <td>NaN</td>\n    </tr>\n    <tr>\n      <th>1</th>\n      <td>1.0</td>\n      <td>1.260242</td>\n      <td>-1.119045</td>\n      <td>0.008187</td>\n      <td>NaN</td>\n      <td>-1.0</td>\n      <td>NaN</td>\n    </tr>\n    <tr>\n      <th>2</th>\n      <td>-2.0</td>\n      <td>0.826254</td>\n      <td>-2.792355</td>\n      <td>-1.434212</td>\n      <td>1.0</td>\n      <td>-3.0</td>\n      <td>-3.0</td>\n    </tr>\n    <tr>\n      <th>3</th>\n      <td>-2.0</td>\n      <td>0.517850</td>\n      <td>-0.585159</td>\n      <td>-0.478154</td>\n      <td>1.0</td>\n      <td>-2.0</td>\n      <td>NaN</td>\n    </tr>\n    <tr>\n      <th>4</th>\n      <td>-2.0</td>\n      <td>-0.027534</td>\n      <td>0.886986</td>\n      <td>0.884659</td>\n      <td>1.0</td>\n      <td>-2.0</td>\n      <td>NaN</td>\n    </tr>\n    <tr>\n      <th>5</th>\n      <td>NaN</td>\n      <td>NaN</td>\n      <td>NaN</td>\n      <td>NaN</td>\n      <td>NaN</td>\n      <td>NaN</td>\n      <td>NaN</td>\n    </tr>\n  </tbody>\n</table>\n</div>"
     },
     "metadata": {},
     "execution_count": 15
    },
    {
     "output_type": "execute_result",
     "data": {
      "text/plain": "     A         B         C         D    E  M    N\n0  1.0 -1.641516 -0.889540  0.512324  NaN -1  NaN\n1  1.0  1.260242 -1.119045  0.008187  NaN -1  NaN\n2 -2.0  0.826254 -2.792355 -1.434212  1.0 -3 -3.0\n3 -2.0  0.517850 -0.585159 -0.478154  1.0 -2  NaN\n4 -2.0 -0.027534  0.886986  0.884659  1.0 -2  NaN\n5 -2.0 -0.027534  0.886986  0.884659  1.0 -2  NaN",
      "text/html": "<div>\n<style scoped>\n    .dataframe tbody tr th:only-of-type {\n        vertical-align: middle;\n    }\n\n    .dataframe tbody tr th {\n        vertical-align: top;\n    }\n\n    .dataframe thead th {\n        text-align: right;\n    }\n</style>\n<table border=\"1\" class=\"dataframe\">\n  <thead>\n    <tr style=\"text-align: right;\">\n      <th></th>\n      <th>A</th>\n      <th>B</th>\n      <th>C</th>\n      <th>D</th>\n      <th>E</th>\n      <th>M</th>\n      <th>N</th>\n    </tr>\n  </thead>\n  <tbody>\n    <tr>\n      <th>0</th>\n      <td>1.0</td>\n      <td>-1.641516</td>\n      <td>-0.889540</td>\n      <td>0.512324</td>\n      <td>NaN</td>\n      <td>-1</td>\n      <td>NaN</td>\n    </tr>\n    <tr>\n      <th>1</th>\n      <td>1.0</td>\n      <td>1.260242</td>\n      <td>-1.119045</td>\n      <td>0.008187</td>\n      <td>NaN</td>\n      <td>-1</td>\n      <td>NaN</td>\n    </tr>\n    <tr>\n      <th>2</th>\n      <td>-2.0</td>\n      <td>0.826254</td>\n      <td>-2.792355</td>\n      <td>-1.434212</td>\n      <td>1.0</td>\n      <td>-3</td>\n      <td>-3.0</td>\n    </tr>\n    <tr>\n      <th>3</th>\n      <td>-2.0</td>\n      <td>0.517850</td>\n      <td>-0.585159</td>\n      <td>-0.478154</td>\n      <td>1.0</td>\n      <td>-2</td>\n      <td>NaN</td>\n    </tr>\n    <tr>\n      <th>4</th>\n      <td>-2.0</td>\n      <td>-0.027534</td>\n      <td>0.886986</td>\n      <td>0.884659</td>\n      <td>1.0</td>\n      <td>-2</td>\n      <td>NaN</td>\n    </tr>\n    <tr>\n      <th>5</th>\n      <td>-2.0</td>\n      <td>-0.027534</td>\n      <td>0.886986</td>\n      <td>0.884659</td>\n      <td>1.0</td>\n      <td>-2</td>\n      <td>NaN</td>\n    </tr>\n  </tbody>\n</table>\n</div>"
     },
     "metadata": {},
     "execution_count": 15
    }
   ],
   "source": [
    "df.reindex(index=range(6))  # reindex -- new keys added with all NaNs\n",
    "df.reindex(index=range(6), method='ffill')  # reindex + fill NaN with different methods"
   ]
  },
  {
   "cell_type": "code",
   "execution_count": 16,
   "metadata": {},
   "outputs": [
    {
     "output_type": "execute_result",
     "data": {
      "text/plain": "0     NaN\n1     6.0\n2     8.0\n3    10.0\n4    12.0\n5     NaN\ndtype: float64"
     },
     "metadata": {},
     "execution_count": 16
    },
    {
     "output_type": "execute_result",
     "data": {
      "text/plain": "1     6.0\n2     8.0\n3    10.0\n4    12.0\ndtype: float64"
     },
     "metadata": {},
     "execution_count": 16
    }
   ],
   "source": [
    "# auto alignment to index union\n",
    "s1 = pd.Series(np.arange(5), index=np.arange(5))\n",
    "s2 = pd.Series(np.arange(5, 10), index=np.arange(1, 6))\n",
    "s1 + s2  # auto NaNs for missing indices (resulting series has index union as index)\n",
    "(s1 + s2).dropna()  # drop NaN values"
   ]
  },
  {
   "cell_type": "code",
   "execution_count": 17,
   "metadata": {},
   "outputs": [
    {
     "output_type": "execute_result",
     "data": {
      "text/plain": "     A         B         C         D    E  M    N         F\n0  1.0 -1.641516 -0.889540  0.512324  NaN -1  NaN       NaN\n1  1.0  1.260242 -1.119045  0.008187  NaN -1  NaN       NaN\n2 -2.0  0.826254 -2.792355 -1.434212  1.0 -3 -3.0 -0.434212\n3 -2.0  0.517850 -0.585159 -0.478154  1.0 -2  NaN  0.521846\n4 -2.0 -0.027534  0.886986  0.884659  1.0 -2  NaN  1.884659",
      "text/html": "<div>\n<style scoped>\n    .dataframe tbody tr th:only-of-type {\n        vertical-align: middle;\n    }\n\n    .dataframe tbody tr th {\n        vertical-align: top;\n    }\n\n    .dataframe thead th {\n        text-align: right;\n    }\n</style>\n<table border=\"1\" class=\"dataframe\">\n  <thead>\n    <tr style=\"text-align: right;\">\n      <th></th>\n      <th>A</th>\n      <th>B</th>\n      <th>C</th>\n      <th>D</th>\n      <th>E</th>\n      <th>M</th>\n      <th>N</th>\n      <th>F</th>\n    </tr>\n  </thead>\n  <tbody>\n    <tr>\n      <th>0</th>\n      <td>1.0</td>\n      <td>-1.641516</td>\n      <td>-0.889540</td>\n      <td>0.512324</td>\n      <td>NaN</td>\n      <td>-1</td>\n      <td>NaN</td>\n      <td>NaN</td>\n    </tr>\n    <tr>\n      <th>1</th>\n      <td>1.0</td>\n      <td>1.260242</td>\n      <td>-1.119045</td>\n      <td>0.008187</td>\n      <td>NaN</td>\n      <td>-1</td>\n      <td>NaN</td>\n      <td>NaN</td>\n    </tr>\n    <tr>\n      <th>2</th>\n      <td>-2.0</td>\n      <td>0.826254</td>\n      <td>-2.792355</td>\n      <td>-1.434212</td>\n      <td>1.0</td>\n      <td>-3</td>\n      <td>-3.0</td>\n      <td>-0.434212</td>\n    </tr>\n    <tr>\n      <th>3</th>\n      <td>-2.0</td>\n      <td>0.517850</td>\n      <td>-0.585159</td>\n      <td>-0.478154</td>\n      <td>1.0</td>\n      <td>-2</td>\n      <td>NaN</td>\n      <td>0.521846</td>\n    </tr>\n    <tr>\n      <th>4</th>\n      <td>-2.0</td>\n      <td>-0.027534</td>\n      <td>0.886986</td>\n      <td>0.884659</td>\n      <td>1.0</td>\n      <td>-2</td>\n      <td>NaN</td>\n      <td>1.884659</td>\n    </tr>\n  </tbody>\n</table>\n</div>"
     },
     "metadata": {},
     "execution_count": 17
    }
   ],
   "source": [
    "# assign method : can pass arrays, series or lambda function (on the current df)\n",
    "df.assign(F=lambda x: x['E']+ x['D'])"
   ]
  },
  {
   "cell_type": "code",
   "execution_count": 18,
   "metadata": {},
   "outputs": [
    {
     "output_type": "execute_result",
     "data": {
      "text/plain": "     A         B         C         D    E  M    N\n2 -2.0  0.826254 -2.792355 -1.434212  1.0 -3 -3.0\n3 -2.0  0.517850 -0.585159 -0.478154  1.0 -2  NaN\n4 -2.0 -0.027534  0.886986  0.884659  1.0 -2  NaN",
      "text/html": "<div>\n<style scoped>\n    .dataframe tbody tr th:only-of-type {\n        vertical-align: middle;\n    }\n\n    .dataframe tbody tr th {\n        vertical-align: top;\n    }\n\n    .dataframe thead th {\n        text-align: right;\n    }\n</style>\n<table border=\"1\" class=\"dataframe\">\n  <thead>\n    <tr style=\"text-align: right;\">\n      <th></th>\n      <th>A</th>\n      <th>B</th>\n      <th>C</th>\n      <th>D</th>\n      <th>E</th>\n      <th>M</th>\n      <th>N</th>\n    </tr>\n  </thead>\n  <tbody>\n    <tr>\n      <th>2</th>\n      <td>-2.0</td>\n      <td>0.826254</td>\n      <td>-2.792355</td>\n      <td>-1.434212</td>\n      <td>1.0</td>\n      <td>-3</td>\n      <td>-3.0</td>\n    </tr>\n    <tr>\n      <th>3</th>\n      <td>-2.0</td>\n      <td>0.517850</td>\n      <td>-0.585159</td>\n      <td>-0.478154</td>\n      <td>1.0</td>\n      <td>-2</td>\n      <td>NaN</td>\n    </tr>\n    <tr>\n      <th>4</th>\n      <td>-2.0</td>\n      <td>-0.027534</td>\n      <td>0.886986</td>\n      <td>0.884659</td>\n      <td>1.0</td>\n      <td>-2</td>\n      <td>NaN</td>\n    </tr>\n  </tbody>\n</table>\n</div>"
     },
     "metadata": {},
     "execution_count": 18
    }
   ],
   "source": [
    "x = 0.5\n",
    "df.query('E > @x')  # query : pass str with col names, @ to unpack exterior variables"
   ]
  },
  {
   "cell_type": "code",
   "execution_count": 19,
   "metadata": {},
   "outputs": [
    {
     "output_type": "execute_result",
     "data": {
      "text/plain": "A   -2.000000\nB    0.826254\nC   -2.792355\nD   -1.434212\nE    1.000000\nM   -3.000000\nN   -3.000000\nName: 2, dtype: float64"
     },
     "metadata": {},
     "execution_count": 19
    },
    {
     "output_type": "execute_result",
     "data": {
      "text/plain": "     A         B         C         D    E  M    N\n0  1.0 -1.641516 -0.889540  0.512324  NaN -1  NaN\n1  1.0  1.260242 -1.119045  0.008187  NaN -1  NaN\n2 -4.0 -4.000000 -4.000000 -4.000000 -4.0 -4 -4.0\n3 -2.0  0.517850 -0.585159 -0.478154  1.0 -2  NaN\n4 -2.0 -0.027534  0.886986  0.884659  1.0 -2  NaN",
      "text/html": "<div>\n<style scoped>\n    .dataframe tbody tr th:only-of-type {\n        vertical-align: middle;\n    }\n\n    .dataframe tbody tr th {\n        vertical-align: top;\n    }\n\n    .dataframe thead th {\n        text-align: right;\n    }\n</style>\n<table border=\"1\" class=\"dataframe\">\n  <thead>\n    <tr style=\"text-align: right;\">\n      <th></th>\n      <th>A</th>\n      <th>B</th>\n      <th>C</th>\n      <th>D</th>\n      <th>E</th>\n      <th>M</th>\n      <th>N</th>\n    </tr>\n  </thead>\n  <tbody>\n    <tr>\n      <th>0</th>\n      <td>1.0</td>\n      <td>-1.641516</td>\n      <td>-0.889540</td>\n      <td>0.512324</td>\n      <td>NaN</td>\n      <td>-1</td>\n      <td>NaN</td>\n    </tr>\n    <tr>\n      <th>1</th>\n      <td>1.0</td>\n      <td>1.260242</td>\n      <td>-1.119045</td>\n      <td>0.008187</td>\n      <td>NaN</td>\n      <td>-1</td>\n      <td>NaN</td>\n    </tr>\n    <tr>\n      <th>2</th>\n      <td>-4.0</td>\n      <td>-4.000000</td>\n      <td>-4.000000</td>\n      <td>-4.000000</td>\n      <td>-4.0</td>\n      <td>-4</td>\n      <td>-4.0</td>\n    </tr>\n    <tr>\n      <th>3</th>\n      <td>-2.0</td>\n      <td>0.517850</td>\n      <td>-0.585159</td>\n      <td>-0.478154</td>\n      <td>1.0</td>\n      <td>-2</td>\n      <td>NaN</td>\n    </tr>\n    <tr>\n      <th>4</th>\n      <td>-2.0</td>\n      <td>-0.027534</td>\n      <td>0.886986</td>\n      <td>0.884659</td>\n      <td>1.0</td>\n      <td>-2</td>\n      <td>NaN</td>\n    </tr>\n  </tbody>\n</table>\n</div>"
     },
     "metadata": {},
     "execution_count": 19
    }
   ],
   "source": [
    "df.loc[2]  # row selection\n",
    "df.loc[2] = -4  # assignment also works\n",
    "df"
   ]
  },
  {
   "cell_type": "code",
   "execution_count": 20,
   "metadata": {},
   "outputs": [
    {
     "output_type": "execute_result",
     "data": {
      "text/plain": "     A         B         C         D    E  M    N\n0  1.0 -1.641516 -0.889540  0.512324  NaN -1  NaN\n1  1.0  1.260242 -1.119045  0.008187  NaN -1  NaN\n2 -4.0 -4.000000 -4.000000 -4.000000 -4.0 -4 -4.0\n3 -2.0  0.517850 -0.585159 -0.478154  1.0 -2  NaN\n4 -2.0 -0.027534  0.886986  0.884659  1.0 -2  NaN\n8  4.0  4.000000  4.000000  4.000000  4.0  4  4.0",
      "text/html": "<div>\n<style scoped>\n    .dataframe tbody tr th:only-of-type {\n        vertical-align: middle;\n    }\n\n    .dataframe tbody tr th {\n        vertical-align: top;\n    }\n\n    .dataframe thead th {\n        text-align: right;\n    }\n</style>\n<table border=\"1\" class=\"dataframe\">\n  <thead>\n    <tr style=\"text-align: right;\">\n      <th></th>\n      <th>A</th>\n      <th>B</th>\n      <th>C</th>\n      <th>D</th>\n      <th>E</th>\n      <th>M</th>\n      <th>N</th>\n    </tr>\n  </thead>\n  <tbody>\n    <tr>\n      <th>0</th>\n      <td>1.0</td>\n      <td>-1.641516</td>\n      <td>-0.889540</td>\n      <td>0.512324</td>\n      <td>NaN</td>\n      <td>-1</td>\n      <td>NaN</td>\n    </tr>\n    <tr>\n      <th>1</th>\n      <td>1.0</td>\n      <td>1.260242</td>\n      <td>-1.119045</td>\n      <td>0.008187</td>\n      <td>NaN</td>\n      <td>-1</td>\n      <td>NaN</td>\n    </tr>\n    <tr>\n      <th>2</th>\n      <td>-4.0</td>\n      <td>-4.000000</td>\n      <td>-4.000000</td>\n      <td>-4.000000</td>\n      <td>-4.0</td>\n      <td>-4</td>\n      <td>-4.0</td>\n    </tr>\n    <tr>\n      <th>3</th>\n      <td>-2.0</td>\n      <td>0.517850</td>\n      <td>-0.585159</td>\n      <td>-0.478154</td>\n      <td>1.0</td>\n      <td>-2</td>\n      <td>NaN</td>\n    </tr>\n    <tr>\n      <th>4</th>\n      <td>-2.0</td>\n      <td>-0.027534</td>\n      <td>0.886986</td>\n      <td>0.884659</td>\n      <td>1.0</td>\n      <td>-2</td>\n      <td>NaN</td>\n    </tr>\n    <tr>\n      <th>8</th>\n      <td>4.0</td>\n      <td>4.000000</td>\n      <td>4.000000</td>\n      <td>4.000000</td>\n      <td>4.0</td>\n      <td>4</td>\n      <td>4.0</td>\n    </tr>\n  </tbody>\n</table>\n</div>"
     },
     "metadata": {},
     "execution_count": 20
    }
   ],
   "source": [
    "df.loc[8] = 4  # assinging to non-existent row\n",
    "df"
   ]
  },
  {
   "cell_type": "code",
   "execution_count": 21,
   "metadata": {},
   "outputs": [
    {
     "output_type": "execute_result",
     "data": {
      "text/plain": "     A         B         C         D    E  M    N\n0  1.0 -1.641516 -0.889540  0.512324  NaN -1  NaN\n1  5.0  5.000000  5.000000  5.000000  5.0  5  5.0\n2 -4.0 -4.000000 -4.000000 -4.000000 -4.0 -4 -4.0\n3 -2.0  0.517850 -0.585159 -0.478154  1.0 -2  NaN\n4 -2.0 -0.027534  0.886986  0.884659  1.0 -2  NaN\n8  4.0  4.000000  4.000000  4.000000  4.0  4  4.0",
      "text/html": "<div>\n<style scoped>\n    .dataframe tbody tr th:only-of-type {\n        vertical-align: middle;\n    }\n\n    .dataframe tbody tr th {\n        vertical-align: top;\n    }\n\n    .dataframe thead th {\n        text-align: right;\n    }\n</style>\n<table border=\"1\" class=\"dataframe\">\n  <thead>\n    <tr style=\"text-align: right;\">\n      <th></th>\n      <th>A</th>\n      <th>B</th>\n      <th>C</th>\n      <th>D</th>\n      <th>E</th>\n      <th>M</th>\n      <th>N</th>\n    </tr>\n  </thead>\n  <tbody>\n    <tr>\n      <th>0</th>\n      <td>1.0</td>\n      <td>-1.641516</td>\n      <td>-0.889540</td>\n      <td>0.512324</td>\n      <td>NaN</td>\n      <td>-1</td>\n      <td>NaN</td>\n    </tr>\n    <tr>\n      <th>1</th>\n      <td>5.0</td>\n      <td>5.000000</td>\n      <td>5.000000</td>\n      <td>5.000000</td>\n      <td>5.0</td>\n      <td>5</td>\n      <td>5.0</td>\n    </tr>\n    <tr>\n      <th>2</th>\n      <td>-4.0</td>\n      <td>-4.000000</td>\n      <td>-4.000000</td>\n      <td>-4.000000</td>\n      <td>-4.0</td>\n      <td>-4</td>\n      <td>-4.0</td>\n    </tr>\n    <tr>\n      <th>3</th>\n      <td>-2.0</td>\n      <td>0.517850</td>\n      <td>-0.585159</td>\n      <td>-0.478154</td>\n      <td>1.0</td>\n      <td>-2</td>\n      <td>NaN</td>\n    </tr>\n    <tr>\n      <th>4</th>\n      <td>-2.0</td>\n      <td>-0.027534</td>\n      <td>0.886986</td>\n      <td>0.884659</td>\n      <td>1.0</td>\n      <td>-2</td>\n      <td>NaN</td>\n    </tr>\n    <tr>\n      <th>8</th>\n      <td>4.0</td>\n      <td>4.000000</td>\n      <td>4.000000</td>\n      <td>4.000000</td>\n      <td>4.0</td>\n      <td>4</td>\n      <td>4.0</td>\n    </tr>\n  </tbody>\n</table>\n</div>"
     },
     "metadata": {},
     "execution_count": 21
    }
   ],
   "source": [
    "df1 = df.copy()\n",
    "df1.loc[1] = 5\n",
    "df1.combine_first(df)  # combine dfs, priority to the first df"
   ]
  },
  {
   "cell_type": "code",
   "execution_count": 22,
   "metadata": {},
   "outputs": [
    {
     "output_type": "execute_result",
     "data": {
      "text/plain": "2"
     },
     "metadata": {},
     "execution_count": 22
    }
   ],
   "source": [
    "df['A'].idxmin()  # idx min"
   ]
  },
  {
   "cell_type": "markdown",
   "metadata": {},
   "source": [
    "### multi-index indexing"
   ]
  },
  {
   "cell_type": "code",
   "execution_count": 23,
   "metadata": {},
   "outputs": [
    {
     "output_type": "execute_result",
     "data": {
      "text/plain": "            A         B\na 0 -0.898994  1.954438\nb 1 -0.002318 -1.443408\na 2  1.358589  0.754290\nb 3 -0.172053 -1.522566\n  4 -2.654524 -0.241441",
      "text/html": "<div>\n<style scoped>\n    .dataframe tbody tr th:only-of-type {\n        vertical-align: middle;\n    }\n\n    .dataframe tbody tr th {\n        vertical-align: top;\n    }\n\n    .dataframe thead th {\n        text-align: right;\n    }\n</style>\n<table border=\"1\" class=\"dataframe\">\n  <thead>\n    <tr style=\"text-align: right;\">\n      <th></th>\n      <th></th>\n      <th>A</th>\n      <th>B</th>\n    </tr>\n  </thead>\n  <tbody>\n    <tr>\n      <th>a</th>\n      <th>0</th>\n      <td>-0.898994</td>\n      <td>1.954438</td>\n    </tr>\n    <tr>\n      <th>b</th>\n      <th>1</th>\n      <td>-0.002318</td>\n      <td>-1.443408</td>\n    </tr>\n    <tr>\n      <th>a</th>\n      <th>2</th>\n      <td>1.358589</td>\n      <td>0.754290</td>\n    </tr>\n    <tr>\n      <th rowspan=\"2\" valign=\"top\">b</th>\n      <th>3</th>\n      <td>-0.172053</td>\n      <td>-1.522566</td>\n    </tr>\n    <tr>\n      <th>4</th>\n      <td>-2.654524</td>\n      <td>-0.241441</td>\n    </tr>\n  </tbody>\n</table>\n</div>"
     },
     "metadata": {},
     "execution_count": 23
    },
    {
     "output_type": "execute_result",
     "data": {
      "text/plain": "          X                   Y                    \n          A         B         C         D         E\n0 -0.898994  1.954438  0.680617 -0.147608 -0.065124\n2  1.358589  0.754290  0.981196  0.928981  0.875559",
      "text/html": "<div>\n<style scoped>\n    .dataframe tbody tr th:only-of-type {\n        vertical-align: middle;\n    }\n\n    .dataframe tbody tr th {\n        vertical-align: top;\n    }\n\n    .dataframe thead tr th {\n        text-align: left;\n    }\n</style>\n<table border=\"1\" class=\"dataframe\">\n  <thead>\n    <tr>\n      <th></th>\n      <th colspan=\"2\" halign=\"left\">X</th>\n      <th colspan=\"3\" halign=\"left\">Y</th>\n    </tr>\n    <tr>\n      <th></th>\n      <th>A</th>\n      <th>B</th>\n      <th>C</th>\n      <th>D</th>\n      <th>E</th>\n    </tr>\n  </thead>\n  <tbody>\n    <tr>\n      <th>0</th>\n      <td>-0.898994</td>\n      <td>1.954438</td>\n      <td>0.680617</td>\n      <td>-0.147608</td>\n      <td>-0.065124</td>\n    </tr>\n    <tr>\n      <th>2</th>\n      <td>1.358589</td>\n      <td>0.754290</td>\n      <td>0.981196</td>\n      <td>0.928981</td>\n      <td>0.875559</td>\n    </tr>\n  </tbody>\n</table>\n</div>"
     },
     "metadata": {},
     "execution_count": 23
    },
    {
     "output_type": "execute_result",
     "data": {
      "text/plain": "          A         B\n0 -0.898994  1.954438\n2  1.358589  0.754290",
      "text/html": "<div>\n<style scoped>\n    .dataframe tbody tr th:only-of-type {\n        vertical-align: middle;\n    }\n\n    .dataframe tbody tr th {\n        vertical-align: top;\n    }\n\n    .dataframe thead th {\n        text-align: right;\n    }\n</style>\n<table border=\"1\" class=\"dataframe\">\n  <thead>\n    <tr style=\"text-align: right;\">\n      <th></th>\n      <th>A</th>\n      <th>B</th>\n    </tr>\n  </thead>\n  <tbody>\n    <tr>\n      <th>0</th>\n      <td>-0.898994</td>\n      <td>1.954438</td>\n    </tr>\n    <tr>\n      <th>2</th>\n      <td>1.358589</td>\n      <td>0.754290</td>\n    </tr>\n  </tbody>\n</table>\n</div>"
     },
     "metadata": {},
     "execution_count": 23
    }
   ],
   "source": [
    "dfmi['X']  # outer level indexing\n",
    "dfmi.loc['a']\n",
    "dfmi.loc['a', 'X']"
   ]
  },
  {
   "cell_type": "code",
   "execution_count": 24,
   "metadata": {},
   "outputs": [
    {
     "output_type": "execute_result",
     "data": {
      "text/plain": "a  0   -0.898994\nb  1   -0.002318\na  2    1.358589\nb  3   -0.172053\n   4   -2.654524\nName: (X, A), dtype: float64"
     },
     "metadata": {},
     "execution_count": 24
    },
    {
     "output_type": "execute_result",
     "data": {
      "text/plain": "X  A    1.358589\n   B    0.754290\nY  C    0.981196\n   D    0.928981\n   E    0.875559\nName: (a, 2), dtype: float64"
     },
     "metadata": {},
     "execution_count": 24
    },
    {
     "output_type": "execute_result",
     "data": {
      "text/plain": "1.3585893986259112"
     },
     "metadata": {},
     "execution_count": 24
    },
    {
     "output_type": "execute_result",
     "data": {
      "text/plain": "          X                   Y                    \n          A         B         C         D         E\n3 -0.172053 -1.522566 -0.874787 -1.272389 -0.697787\n4 -2.654524 -0.241441  1.261998  1.691090 -0.502061",
      "text/html": "<div>\n<style scoped>\n    .dataframe tbody tr th:only-of-type {\n        vertical-align: middle;\n    }\n\n    .dataframe tbody tr th {\n        vertical-align: top;\n    }\n\n    .dataframe thead tr th {\n        text-align: left;\n    }\n</style>\n<table border=\"1\" class=\"dataframe\">\n  <thead>\n    <tr>\n      <th></th>\n      <th colspan=\"2\" halign=\"left\">X</th>\n      <th colspan=\"3\" halign=\"left\">Y</th>\n    </tr>\n    <tr>\n      <th></th>\n      <th>A</th>\n      <th>B</th>\n      <th>C</th>\n      <th>D</th>\n      <th>E</th>\n    </tr>\n  </thead>\n  <tbody>\n    <tr>\n      <th>3</th>\n      <td>-0.172053</td>\n      <td>-1.522566</td>\n      <td>-0.874787</td>\n      <td>-1.272389</td>\n      <td>-0.697787</td>\n    </tr>\n    <tr>\n      <th>4</th>\n      <td>-2.654524</td>\n      <td>-0.241441</td>\n      <td>1.261998</td>\n      <td>1.691090</td>\n      <td>-0.502061</td>\n    </tr>\n  </tbody>\n</table>\n</div>"
     },
     "metadata": {},
     "execution_count": 24
    },
    {
     "output_type": "execute_result",
     "data": {
      "text/plain": "          X                   Y                    \n          A         B         C         D         E\n3 -0.172053 -1.522566 -0.874787 -1.272389 -0.697787\n4 -2.654524 -0.241441  1.261998  1.691090 -0.502061",
      "text/html": "<div>\n<style scoped>\n    .dataframe tbody tr th:only-of-type {\n        vertical-align: middle;\n    }\n\n    .dataframe tbody tr th {\n        vertical-align: top;\n    }\n\n    .dataframe thead tr th {\n        text-align: left;\n    }\n</style>\n<table border=\"1\" class=\"dataframe\">\n  <thead>\n    <tr>\n      <th></th>\n      <th colspan=\"2\" halign=\"left\">X</th>\n      <th colspan=\"3\" halign=\"left\">Y</th>\n    </tr>\n    <tr>\n      <th></th>\n      <th>A</th>\n      <th>B</th>\n      <th>C</th>\n      <th>D</th>\n      <th>E</th>\n    </tr>\n  </thead>\n  <tbody>\n    <tr>\n      <th>3</th>\n      <td>-0.172053</td>\n      <td>-1.522566</td>\n      <td>-0.874787</td>\n      <td>-1.272389</td>\n      <td>-0.697787</td>\n    </tr>\n    <tr>\n      <th>4</th>\n      <td>-2.654524</td>\n      <td>-0.241441</td>\n      <td>1.261998</td>\n      <td>1.691090</td>\n      <td>-0.502061</td>\n    </tr>\n  </tbody>\n</table>\n</div>"
     },
     "metadata": {},
     "execution_count": 24
    }
   ],
   "source": [
    "dfmi[('X', 'A')]  # multiple level indexing\n",
    "dfmi.loc[('a', 2)]\n",
    "dfmi.loc[('a', 2), ('X', 'A')]\n",
    "\n",
    "#dfmi.loc[('b', [3,4])]  # won't work\n",
    "dfmi.loc['b'].loc[[3,4]]\n",
    "dfmi.loc['b'].loc[slice(3,4)]"
   ]
  },
  {
   "cell_type": "code",
   "execution_count": 25,
   "metadata": {},
   "outputs": [
    {
     "output_type": "execute_result",
     "data": {
      "text/plain": "            X                   Y                    \n            A         B         C         D         E\nb 3 -0.172053 -1.522566 -0.874787 -1.272389 -0.697787",
      "text/html": "<div>\n<style scoped>\n    .dataframe tbody tr th:only-of-type {\n        vertical-align: middle;\n    }\n\n    .dataframe tbody tr th {\n        vertical-align: top;\n    }\n\n    .dataframe thead tr th {\n        text-align: left;\n    }\n</style>\n<table border=\"1\" class=\"dataframe\">\n  <thead>\n    <tr>\n      <th></th>\n      <th></th>\n      <th colspan=\"2\" halign=\"left\">X</th>\n      <th colspan=\"3\" halign=\"left\">Y</th>\n    </tr>\n    <tr>\n      <th></th>\n      <th></th>\n      <th>A</th>\n      <th>B</th>\n      <th>C</th>\n      <th>D</th>\n      <th>E</th>\n    </tr>\n  </thead>\n  <tbody>\n    <tr>\n      <th>b</th>\n      <th>3</th>\n      <td>-0.172053</td>\n      <td>-1.522566</td>\n      <td>-0.874787</td>\n      <td>-1.272389</td>\n      <td>-0.697787</td>\n    </tr>\n  </tbody>\n</table>\n</div>"
     },
     "metadata": {},
     "execution_count": 25
    }
   ],
   "source": [
    "dfmi.loc[('b', [3,10]), :]  # won't complain that 10 is missing (will simply skip)\n",
    "# dfmi.loc['b'].loc[[3, 10]]  # won't work, 10 is missing key\n",
    "# dfmi.loc[('b', [3,10])]  # also won't work"
   ]
  },
  {
   "cell_type": "code",
   "execution_count": 26,
   "metadata": {},
   "outputs": [
    {
     "output_type": "execute_result",
     "data": {
      "text/plain": "            X                   Y                    \n            A         B         C         D         E\na 0 -5.000000  1.954438  0.680617 -0.147608 -0.065124\nb 1 -0.002318 -1.443408 -0.544832  0.381091 -0.018410\na 2  1.358589  0.754290  0.981196  0.928981  0.875559\nb 3 -0.172053 -1.522566 -0.874787 -1.272389 -0.697787\n  4 -2.654524 -0.241441  1.261998  1.691090 -0.502061",
      "text/html": "<div>\n<style scoped>\n    .dataframe tbody tr th:only-of-type {\n        vertical-align: middle;\n    }\n\n    .dataframe tbody tr th {\n        vertical-align: top;\n    }\n\n    .dataframe thead tr th {\n        text-align: left;\n    }\n</style>\n<table border=\"1\" class=\"dataframe\">\n  <thead>\n    <tr>\n      <th></th>\n      <th></th>\n      <th colspan=\"2\" halign=\"left\">X</th>\n      <th colspan=\"3\" halign=\"left\">Y</th>\n    </tr>\n    <tr>\n      <th></th>\n      <th></th>\n      <th>A</th>\n      <th>B</th>\n      <th>C</th>\n      <th>D</th>\n      <th>E</th>\n    </tr>\n  </thead>\n  <tbody>\n    <tr>\n      <th>a</th>\n      <th>0</th>\n      <td>-5.000000</td>\n      <td>1.954438</td>\n      <td>0.680617</td>\n      <td>-0.147608</td>\n      <td>-0.065124</td>\n    </tr>\n    <tr>\n      <th>b</th>\n      <th>1</th>\n      <td>-0.002318</td>\n      <td>-1.443408</td>\n      <td>-0.544832</td>\n      <td>0.381091</td>\n      <td>-0.018410</td>\n    </tr>\n    <tr>\n      <th>a</th>\n      <th>2</th>\n      <td>1.358589</td>\n      <td>0.754290</td>\n      <td>0.981196</td>\n      <td>0.928981</td>\n      <td>0.875559</td>\n    </tr>\n    <tr>\n      <th rowspan=\"2\" valign=\"top\">b</th>\n      <th>3</th>\n      <td>-0.172053</td>\n      <td>-1.522566</td>\n      <td>-0.874787</td>\n      <td>-1.272389</td>\n      <td>-0.697787</td>\n    </tr>\n    <tr>\n      <th>4</th>\n      <td>-2.654524</td>\n      <td>-0.241441</td>\n      <td>1.261998</td>\n      <td>1.691090</td>\n      <td>-0.502061</td>\n    </tr>\n  </tbody>\n</table>\n</div>"
     },
     "metadata": {},
     "execution_count": 26
    }
   ],
   "source": [
    "# multi-index assignment\n",
    "\n",
    "dfmi.loc[('a', 0), ('X', 'A')] = -5  # individual\n",
    "dfmi\n",
    "\n",
    "dfmi['X'] = rng.standard_normal(size=(5, 2))  # to outter level column\n",
    "dfmi[('X', 'A')] = rng.standard_normal(size=(5, 1))  # to multiple column levels\n",
    "\n",
    "dfmi.loc['a', 'X'] = rng.standard_normal(size=(2, 2))  # to col-row selection (outer)\n",
    "dfmi.loc[('a', [0, 2]), 'X'] = rng.standard_normal(size=(2, 2))  # mixed\n",
    "dfmi.loc['b', ('Y', slice('C', 'D'))] = rng.standard_normal(size=(3, 2))  # using slice\n",
    "dfmi.loc[:, ('Y', slice('C', 'D'))] = rng.standard_normal(size=(5, 2))  # skipping level"
   ]
  },
  {
   "cell_type": "markdown",
   "metadata": {},
   "source": [
    "## xarray and multi-index dataframes"
   ]
  },
  {
   "cell_type": "code",
   "execution_count": 27,
   "metadata": {},
   "outputs": [
    {
     "output_type": "execute_result",
     "data": {
      "text/plain": "Index(['A', 'B', 'C', 'D', 'E'], dtype='object')"
     },
     "metadata": {},
     "execution_count": 27
    }
   ],
   "source": [
    "dfmi.columns.get_level_values(1)"
   ]
  },
  {
   "cell_type": "code",
   "execution_count": 28,
   "metadata": {},
   "outputs": [
    {
     "output_type": "execute_result",
     "data": {
      "text/plain": "<xarray.Dataset>\nDimensions:     (level_0: 2, level_1: 5)\nCoordinates:\n  * level_0     (level_0) object 'a' 'b'\n  * level_1     (level_1) int64 0 1 2 3 4\nData variables:\n    ('X', 'A')  (level_0, level_1) float64 1.092 nan -1.983 ... nan 1.093 0.9385\n    ('X', 'B')  (level_0, level_1) float64 1.154 nan 0.3044 ... -0.179 0.7545\n    ('Y', 'C')  (level_0, level_1) float64 -1.87 nan 0.4993 ... -0.4773 -0.2525\n    ('Y', 'D')  (level_0, level_1) float64 1.132 nan 0.4931 ... 0.2052 0.8963\n    ('Y', 'E')  (level_0, level_1) float64 -0.06512 nan ... -0.6978 -0.5021",
      "text/html": "<div><svg style=\"position: absolute; width: 0; height: 0; overflow: hidden\">\n<defs>\n<symbol id=\"icon-database\" viewBox=\"0 0 32 32\">\n<path d=\"M16 0c-8.837 0-16 2.239-16 5v4c0 2.761 7.163 5 16 5s16-2.239 16-5v-4c0-2.761-7.163-5-16-5z\"></path>\n<path d=\"M16 17c-8.837 0-16-2.239-16-5v6c0 2.761 7.163 5 16 5s16-2.239 16-5v-6c0 2.761-7.163 5-16 5z\"></path>\n<path d=\"M16 26c-8.837 0-16-2.239-16-5v6c0 2.761 7.163 5 16 5s16-2.239 16-5v-6c0 2.761-7.163 5-16 5z\"></path>\n</symbol>\n<symbol id=\"icon-file-text2\" viewBox=\"0 0 32 32\">\n<path d=\"M28.681 7.159c-0.694-0.947-1.662-2.053-2.724-3.116s-2.169-2.030-3.116-2.724c-1.612-1.182-2.393-1.319-2.841-1.319h-15.5c-1.378 0-2.5 1.121-2.5 2.5v27c0 1.378 1.122 2.5 2.5 2.5h23c1.378 0 2.5-1.122 2.5-2.5v-19.5c0-0.448-0.137-1.23-1.319-2.841zM24.543 5.457c0.959 0.959 1.712 1.825 2.268 2.543h-4.811v-4.811c0.718 0.556 1.584 1.309 2.543 2.268zM28 29.5c0 0.271-0.229 0.5-0.5 0.5h-23c-0.271 0-0.5-0.229-0.5-0.5v-27c0-0.271 0.229-0.5 0.5-0.5 0 0 15.499-0 15.5 0v7c0 0.552 0.448 1 1 1h7v19.5z\"></path>\n<path d=\"M23 26h-14c-0.552 0-1-0.448-1-1s0.448-1 1-1h14c0.552 0 1 0.448 1 1s-0.448 1-1 1z\"></path>\n<path d=\"M23 22h-14c-0.552 0-1-0.448-1-1s0.448-1 1-1h14c0.552 0 1 0.448 1 1s-0.448 1-1 1z\"></path>\n<path d=\"M23 18h-14c-0.552 0-1-0.448-1-1s0.448-1 1-1h14c0.552 0 1 0.448 1 1s-0.448 1-1 1z\"></path>\n</symbol>\n</defs>\n</svg>\n<style>/* CSS stylesheet for displaying xarray objects in jupyterlab.\n *\n */\n\n:root {\n  --xr-font-color0: var(--jp-content-font-color0, rgba(0, 0, 0, 1));\n  --xr-font-color2: var(--jp-content-font-color2, rgba(0, 0, 0, 0.54));\n  --xr-font-color3: var(--jp-content-font-color3, rgba(0, 0, 0, 0.38));\n  --xr-border-color: var(--jp-border-color2, #e0e0e0);\n  --xr-disabled-color: var(--jp-layout-color3, #bdbdbd);\n  --xr-background-color: var(--jp-layout-color0, white);\n  --xr-background-color-row-even: var(--jp-layout-color1, white);\n  --xr-background-color-row-odd: var(--jp-layout-color2, #eeeeee);\n}\n\nhtml[theme=dark],\nbody.vscode-dark {\n  --xr-font-color0: rgba(255, 255, 255, 1);\n  --xr-font-color2: rgba(255, 255, 255, 0.54);\n  --xr-font-color3: rgba(255, 255, 255, 0.38);\n  --xr-border-color: #1F1F1F;\n  --xr-disabled-color: #515151;\n  --xr-background-color: #111111;\n  --xr-background-color-row-even: #111111;\n  --xr-background-color-row-odd: #313131;\n}\n\n.xr-wrap {\n  display: block;\n  min-width: 300px;\n  max-width: 700px;\n}\n\n.xr-text-repr-fallback {\n  /* fallback to plain text repr when CSS is not injected (untrusted notebook) */\n  display: none;\n}\n\n.xr-header {\n  padding-top: 6px;\n  padding-bottom: 6px;\n  margin-bottom: 4px;\n  border-bottom: solid 1px var(--xr-border-color);\n}\n\n.xr-header > div,\n.xr-header > ul {\n  display: inline;\n  margin-top: 0;\n  margin-bottom: 0;\n}\n\n.xr-obj-type,\n.xr-array-name {\n  margin-left: 2px;\n  margin-right: 10px;\n}\n\n.xr-obj-type {\n  color: var(--xr-font-color2);\n}\n\n.xr-sections {\n  padding-left: 0 !important;\n  display: grid;\n  grid-template-columns: 150px auto auto 1fr 20px 20px;\n}\n\n.xr-section-item {\n  display: contents;\n}\n\n.xr-section-item input {\n  display: none;\n}\n\n.xr-section-item input + label {\n  color: var(--xr-disabled-color);\n}\n\n.xr-section-item input:enabled + label {\n  cursor: pointer;\n  color: var(--xr-font-color2);\n}\n\n.xr-section-item input:enabled + label:hover {\n  color: var(--xr-font-color0);\n}\n\n.xr-section-summary {\n  grid-column: 1;\n  color: var(--xr-font-color2);\n  font-weight: 500;\n}\n\n.xr-section-summary > span {\n  display: inline-block;\n  padding-left: 0.5em;\n}\n\n.xr-section-summary-in:disabled + label {\n  color: var(--xr-font-color2);\n}\n\n.xr-section-summary-in + label:before {\n  display: inline-block;\n  content: '►';\n  font-size: 11px;\n  width: 15px;\n  text-align: center;\n}\n\n.xr-section-summary-in:disabled + label:before {\n  color: var(--xr-disabled-color);\n}\n\n.xr-section-summary-in:checked + label:before {\n  content: '▼';\n}\n\n.xr-section-summary-in:checked + label > span {\n  display: none;\n}\n\n.xr-section-summary,\n.xr-section-inline-details {\n  padding-top: 4px;\n  padding-bottom: 4px;\n}\n\n.xr-section-inline-details {\n  grid-column: 2 / -1;\n}\n\n.xr-section-details {\n  display: none;\n  grid-column: 1 / -1;\n  margin-bottom: 5px;\n}\n\n.xr-section-summary-in:checked ~ .xr-section-details {\n  display: contents;\n}\n\n.xr-array-wrap {\n  grid-column: 1 / -1;\n  display: grid;\n  grid-template-columns: 20px auto;\n}\n\n.xr-array-wrap > label {\n  grid-column: 1;\n  vertical-align: top;\n}\n\n.xr-preview {\n  color: var(--xr-font-color3);\n}\n\n.xr-array-preview,\n.xr-array-data {\n  padding: 0 5px !important;\n  grid-column: 2;\n}\n\n.xr-array-data,\n.xr-array-in:checked ~ .xr-array-preview {\n  display: none;\n}\n\n.xr-array-in:checked ~ .xr-array-data,\n.xr-array-preview {\n  display: inline-block;\n}\n\n.xr-dim-list {\n  display: inline-block !important;\n  list-style: none;\n  padding: 0 !important;\n  margin: 0;\n}\n\n.xr-dim-list li {\n  display: inline-block;\n  padding: 0;\n  margin: 0;\n}\n\n.xr-dim-list:before {\n  content: '(';\n}\n\n.xr-dim-list:after {\n  content: ')';\n}\n\n.xr-dim-list li:not(:last-child):after {\n  content: ',';\n  padding-right: 5px;\n}\n\n.xr-has-index {\n  font-weight: bold;\n}\n\n.xr-var-list,\n.xr-var-item {\n  display: contents;\n}\n\n.xr-var-item > div,\n.xr-var-item label,\n.xr-var-item > .xr-var-name span {\n  background-color: var(--xr-background-color-row-even);\n  margin-bottom: 0;\n}\n\n.xr-var-item > .xr-var-name:hover span {\n  padding-right: 5px;\n}\n\n.xr-var-list > li:nth-child(odd) > div,\n.xr-var-list > li:nth-child(odd) > label,\n.xr-var-list > li:nth-child(odd) > .xr-var-name span {\n  background-color: var(--xr-background-color-row-odd);\n}\n\n.xr-var-name {\n  grid-column: 1;\n}\n\n.xr-var-dims {\n  grid-column: 2;\n}\n\n.xr-var-dtype {\n  grid-column: 3;\n  text-align: right;\n  color: var(--xr-font-color2);\n}\n\n.xr-var-preview {\n  grid-column: 4;\n}\n\n.xr-var-name,\n.xr-var-dims,\n.xr-var-dtype,\n.xr-preview,\n.xr-attrs dt {\n  white-space: nowrap;\n  overflow: hidden;\n  text-overflow: ellipsis;\n  padding-right: 10px;\n}\n\n.xr-var-name:hover,\n.xr-var-dims:hover,\n.xr-var-dtype:hover,\n.xr-attrs dt:hover {\n  overflow: visible;\n  width: auto;\n  z-index: 1;\n}\n\n.xr-var-attrs,\n.xr-var-data {\n  display: none;\n  background-color: var(--xr-background-color) !important;\n  padding-bottom: 5px !important;\n}\n\n.xr-var-attrs-in:checked ~ .xr-var-attrs,\n.xr-var-data-in:checked ~ .xr-var-data {\n  display: block;\n}\n\n.xr-var-data > table {\n  float: right;\n}\n\n.xr-var-name span,\n.xr-var-data,\n.xr-attrs {\n  padding-left: 25px !important;\n}\n\n.xr-attrs,\n.xr-var-attrs,\n.xr-var-data {\n  grid-column: 1 / -1;\n}\n\ndl.xr-attrs {\n  padding: 0;\n  margin: 0;\n  display: grid;\n  grid-template-columns: 125px auto;\n}\n\n.xr-attrs dt, dd {\n  padding: 0;\n  margin: 0;\n  float: left;\n  padding-right: 10px;\n  width: auto;\n}\n\n.xr-attrs dt {\n  font-weight: normal;\n  grid-column: 1;\n}\n\n.xr-attrs dt:hover span {\n  display: inline-block;\n  background: var(--xr-background-color);\n  padding-right: 10px;\n}\n\n.xr-attrs dd {\n  grid-column: 2;\n  white-space: pre-wrap;\n  word-break: break-all;\n}\n\n.xr-icon-database,\n.xr-icon-file-text2 {\n  display: inline-block;\n  vertical-align: middle;\n  width: 1em;\n  height: 1.5em !important;\n  stroke-width: 0;\n  stroke: currentColor;\n  fill: currentColor;\n}\n</style><pre class='xr-text-repr-fallback'>&lt;xarray.Dataset&gt;\nDimensions:     (level_0: 2, level_1: 5)\nCoordinates:\n  * level_0     (level_0) object &#x27;a&#x27; &#x27;b&#x27;\n  * level_1     (level_1) int64 0 1 2 3 4\nData variables:\n    (&#x27;X&#x27;, &#x27;A&#x27;)  (level_0, level_1) float64 1.092 nan -1.983 ... nan 1.093 0.9385\n    (&#x27;X&#x27;, &#x27;B&#x27;)  (level_0, level_1) float64 1.154 nan 0.3044 ... -0.179 0.7545\n    (&#x27;Y&#x27;, &#x27;C&#x27;)  (level_0, level_1) float64 -1.87 nan 0.4993 ... -0.4773 -0.2525\n    (&#x27;Y&#x27;, &#x27;D&#x27;)  (level_0, level_1) float64 1.132 nan 0.4931 ... 0.2052 0.8963\n    (&#x27;Y&#x27;, &#x27;E&#x27;)  (level_0, level_1) float64 -0.06512 nan ... -0.6978 -0.5021</pre><div class='xr-wrap' hidden><div class='xr-header'><div class='xr-obj-type'>xarray.Dataset</div></div><ul class='xr-sections'><li class='xr-section-item'><input id='section-f8395069-4f45-4674-9856-caed1887bbea' class='xr-section-summary-in' type='checkbox' disabled ><label for='section-f8395069-4f45-4674-9856-caed1887bbea' class='xr-section-summary'  title='Expand/collapse section'>Dimensions:</label><div class='xr-section-inline-details'><ul class='xr-dim-list'><li><span class='xr-has-index'>level_0</span>: 2</li><li><span class='xr-has-index'>level_1</span>: 5</li></ul></div><div class='xr-section-details'></div></li><li class='xr-section-item'><input id='section-4ba5a913-eb62-4d8d-9f55-0204c9f15198' class='xr-section-summary-in' type='checkbox'  checked><label for='section-4ba5a913-eb62-4d8d-9f55-0204c9f15198' class='xr-section-summary' >Coordinates: <span>(2)</span></label><div class='xr-section-inline-details'></div><div class='xr-section-details'><ul class='xr-var-list'><li class='xr-var-item'><div class='xr-var-name'><span class='xr-has-index'>level_0</span></div><div class='xr-var-dims'>(level_0)</div><div class='xr-var-dtype'>object</div><div class='xr-var-preview xr-preview'>&#x27;a&#x27; &#x27;b&#x27;</div><input id='attrs-9ce9a247-a933-4e4c-a323-fedc608e71a9' class='xr-var-attrs-in' type='checkbox' disabled><label for='attrs-9ce9a247-a933-4e4c-a323-fedc608e71a9' title='Show/Hide attributes'><svg class='icon xr-icon-file-text2'><use xlink:href='#icon-file-text2'></use></svg></label><input id='data-91d38b48-9ccb-4a42-9d3e-d26bdf30435f' class='xr-var-data-in' type='checkbox'><label for='data-91d38b48-9ccb-4a42-9d3e-d26bdf30435f' title='Show/Hide data repr'><svg class='icon xr-icon-database'><use xlink:href='#icon-database'></use></svg></label><div class='xr-var-attrs'><dl class='xr-attrs'></dl></div><div class='xr-var-data'><pre>array([&#x27;a&#x27;, &#x27;b&#x27;], dtype=object)</pre></div></li><li class='xr-var-item'><div class='xr-var-name'><span class='xr-has-index'>level_1</span></div><div class='xr-var-dims'>(level_1)</div><div class='xr-var-dtype'>int64</div><div class='xr-var-preview xr-preview'>0 1 2 3 4</div><input id='attrs-74e14812-f449-4f8e-a6a7-b83e701014d1' class='xr-var-attrs-in' type='checkbox' disabled><label for='attrs-74e14812-f449-4f8e-a6a7-b83e701014d1' title='Show/Hide attributes'><svg class='icon xr-icon-file-text2'><use xlink:href='#icon-file-text2'></use></svg></label><input id='data-afae1b62-75d9-4ccc-96d4-4420668ca309' class='xr-var-data-in' type='checkbox'><label for='data-afae1b62-75d9-4ccc-96d4-4420668ca309' title='Show/Hide data repr'><svg class='icon xr-icon-database'><use xlink:href='#icon-database'></use></svg></label><div class='xr-var-attrs'><dl class='xr-attrs'></dl></div><div class='xr-var-data'><pre>array([0, 1, 2, 3, 4])</pre></div></li></ul></div></li><li class='xr-section-item'><input id='section-a623a1f9-48e9-4cbc-a255-9ae1ec15a49c' class='xr-section-summary-in' type='checkbox'  checked><label for='section-a623a1f9-48e9-4cbc-a255-9ae1ec15a49c' class='xr-section-summary' >Data variables: <span>(5)</span></label><div class='xr-section-inline-details'></div><div class='xr-section-details'><ul class='xr-var-list'><li class='xr-var-item'><div class='xr-var-name'><span>(&#x27;X&#x27;, &#x27;A&#x27;)</span></div><div class='xr-var-dims'>(level_0, level_1)</div><div class='xr-var-dtype'>float64</div><div class='xr-var-preview xr-preview'>1.092 nan -1.983 ... 1.093 0.9385</div><input id='attrs-521bdc37-dba9-4434-9f66-ba7e2ca3b26d' class='xr-var-attrs-in' type='checkbox' disabled><label for='attrs-521bdc37-dba9-4434-9f66-ba7e2ca3b26d' title='Show/Hide attributes'><svg class='icon xr-icon-file-text2'><use xlink:href='#icon-file-text2'></use></svg></label><input id='data-f795d8a9-e222-44e5-bb80-63487536bf7b' class='xr-var-data-in' type='checkbox'><label for='data-f795d8a9-e222-44e5-bb80-63487536bf7b' title='Show/Hide data repr'><svg class='icon xr-icon-database'><use xlink:href='#icon-database'></use></svg></label><div class='xr-var-attrs'><dl class='xr-attrs'></dl></div><div class='xr-var-data'><pre>array([[ 1.09203545,         nan, -1.98286492,         nan,         nan],\n       [        nan, -0.02684362,         nan,  1.09266102,  0.93848107]])</pre></div></li><li class='xr-var-item'><div class='xr-var-name'><span>(&#x27;X&#x27;, &#x27;B&#x27;)</span></div><div class='xr-var-dims'>(level_0, level_1)</div><div class='xr-var-dtype'>float64</div><div class='xr-var-preview xr-preview'>1.154 nan 0.3044 ... -0.179 0.7545</div><input id='attrs-b11e382c-ca59-429a-b76a-53979188d319' class='xr-var-attrs-in' type='checkbox' disabled><label for='attrs-b11e382c-ca59-429a-b76a-53979188d319' title='Show/Hide attributes'><svg class='icon xr-icon-file-text2'><use xlink:href='#icon-file-text2'></use></svg></label><input id='data-ae807407-57d3-4a79-9a75-5f1630fce31e' class='xr-var-data-in' type='checkbox'><label for='data-ae807407-57d3-4a79-9a75-5f1630fce31e' title='Show/Hide data repr'><svg class='icon xr-icon-database'><use xlink:href='#icon-database'></use></svg></label><div class='xr-var-attrs'><dl class='xr-attrs'></dl></div><div class='xr-var-data'><pre>array([[ 1.15442073,         nan,  0.30444345,         nan,         nan],\n       [        nan, -0.9445339 ,         nan, -0.17901105,  0.7545145 ]])</pre></div></li><li class='xr-var-item'><div class='xr-var-name'><span>(&#x27;Y&#x27;, &#x27;C&#x27;)</span></div><div class='xr-var-dims'>(level_0, level_1)</div><div class='xr-var-dtype'>float64</div><div class='xr-var-preview xr-preview'>-1.87 nan ... -0.4773 -0.2525</div><input id='attrs-27710ee9-050f-4193-a8e0-4e98c7a9db6b' class='xr-var-attrs-in' type='checkbox' disabled><label for='attrs-27710ee9-050f-4193-a8e0-4e98c7a9db6b' title='Show/Hide attributes'><svg class='icon xr-icon-file-text2'><use xlink:href='#icon-file-text2'></use></svg></label><input id='data-38226424-4ce8-46d9-aaed-856d828cefee' class='xr-var-data-in' type='checkbox'><label for='data-38226424-4ce8-46d9-aaed-856d828cefee' title='Show/Hide data repr'><svg class='icon xr-icon-database'><use xlink:href='#icon-database'></use></svg></label><div class='xr-var-attrs'><dl class='xr-attrs'></dl></div><div class='xr-var-data'><pre>array([[-1.86983921,         nan,  0.49925121,         nan,         nan],\n       [        nan,  0.87070115,         nan, -0.47730941, -0.25249998]])</pre></div></li><li class='xr-var-item'><div class='xr-var-name'><span>(&#x27;Y&#x27;, &#x27;D&#x27;)</span></div><div class='xr-var-dims'>(level_0, level_1)</div><div class='xr-var-dtype'>float64</div><div class='xr-var-preview xr-preview'>1.132 nan 0.4931 ... 0.2052 0.8963</div><input id='attrs-c7c908bc-4715-4e5f-9815-e7a6e9da8a62' class='xr-var-attrs-in' type='checkbox' disabled><label for='attrs-c7c908bc-4715-4e5f-9815-e7a6e9da8a62' title='Show/Hide attributes'><svg class='icon xr-icon-file-text2'><use xlink:href='#icon-file-text2'></use></svg></label><input id='data-5669060d-36be-467f-bbae-91e2669952d1' class='xr-var-data-in' type='checkbox'><label for='data-5669060d-36be-467f-bbae-91e2669952d1' title='Show/Hide data repr'><svg class='icon xr-icon-database'><use xlink:href='#icon-database'></use></svg></label><div class='xr-var-attrs'><dl class='xr-attrs'></dl></div><div class='xr-var-data'><pre>array([[ 1.13173361,         nan,  0.49311741,         nan,         nan],\n       [        nan, -0.54699586,         nan,  0.20524043,  0.89632138]])</pre></div></li><li class='xr-var-item'><div class='xr-var-name'><span>(&#x27;Y&#x27;, &#x27;E&#x27;)</span></div><div class='xr-var-dims'>(level_0, level_1)</div><div class='xr-var-dtype'>float64</div><div class='xr-var-preview xr-preview'>-0.06512 nan ... -0.6978 -0.5021</div><input id='attrs-b0acbb73-dc31-4024-98e0-fb2a48269741' class='xr-var-attrs-in' type='checkbox' disabled><label for='attrs-b0acbb73-dc31-4024-98e0-fb2a48269741' title='Show/Hide attributes'><svg class='icon xr-icon-file-text2'><use xlink:href='#icon-file-text2'></use></svg></label><input id='data-44a91b39-12bf-4b1f-ad59-bf8cd87dfb76' class='xr-var-data-in' type='checkbox'><label for='data-44a91b39-12bf-4b1f-ad59-bf8cd87dfb76' title='Show/Hide data repr'><svg class='icon xr-icon-database'><use xlink:href='#icon-database'></use></svg></label><div class='xr-var-attrs'><dl class='xr-attrs'></dl></div><div class='xr-var-data'><pre>array([[-0.06512394,         nan,  0.87555922,         nan,         nan],\n       [        nan, -0.01841006,         nan, -0.69778699, -0.50206138]])</pre></div></li></ul></div></li><li class='xr-section-item'><input id='section-0b64b1ee-bbed-4d41-9698-5b9994941d6c' class='xr-section-summary-in' type='checkbox' disabled ><label for='section-0b64b1ee-bbed-4d41-9698-5b9994941d6c' class='xr-section-summary'  title='Expand/collapse section'>Attributes: <span>(0)</span></label><div class='xr-section-inline-details'></div><div class='xr-section-details'><dl class='xr-attrs'></dl></div></li></ul></div></div>"
     },
     "metadata": {},
     "execution_count": 28
    }
   ],
   "source": [
    "dfmi.to_xarray()"
   ]
  },
  {
   "cell_type": "code",
   "execution_count": 29,
   "metadata": {},
   "outputs": [],
   "source": [
    "xarr = df.to_xarray()"
   ]
  },
  {
   "cell_type": "code",
   "execution_count": 30,
   "metadata": {},
   "outputs": [
    {
     "output_type": "execute_result",
     "data": {
      "text/plain": "          X                   Y                    \n          A         B         C         D         E\n0  1.092035  1.154421 -1.869839  1.131734 -0.065124\n1 -0.026844 -0.944534  0.870701 -0.546996 -0.018410\n2 -1.982865  0.304443  0.499251  0.493117  0.875559\n3  1.092661 -0.179011 -0.477309  0.205240 -0.697787\n4  0.938481  0.754514 -0.252500  0.896321 -0.502061",
      "text/html": "<div>\n<style scoped>\n    .dataframe tbody tr th:only-of-type {\n        vertical-align: middle;\n    }\n\n    .dataframe tbody tr th {\n        vertical-align: top;\n    }\n\n    .dataframe thead tr th {\n        text-align: left;\n    }\n</style>\n<table border=\"1\" class=\"dataframe\">\n  <thead>\n    <tr>\n      <th></th>\n      <th colspan=\"2\" halign=\"left\">X</th>\n      <th colspan=\"3\" halign=\"left\">Y</th>\n    </tr>\n    <tr>\n      <th></th>\n      <th>A</th>\n      <th>B</th>\n      <th>C</th>\n      <th>D</th>\n      <th>E</th>\n    </tr>\n  </thead>\n  <tbody>\n    <tr>\n      <th>0</th>\n      <td>1.092035</td>\n      <td>1.154421</td>\n      <td>-1.869839</td>\n      <td>1.131734</td>\n      <td>-0.065124</td>\n    </tr>\n    <tr>\n      <th>1</th>\n      <td>-0.026844</td>\n      <td>-0.944534</td>\n      <td>0.870701</td>\n      <td>-0.546996</td>\n      <td>-0.018410</td>\n    </tr>\n    <tr>\n      <th>2</th>\n      <td>-1.982865</td>\n      <td>0.304443</td>\n      <td>0.499251</td>\n      <td>0.493117</td>\n      <td>0.875559</td>\n    </tr>\n    <tr>\n      <th>3</th>\n      <td>1.092661</td>\n      <td>-0.179011</td>\n      <td>-0.477309</td>\n      <td>0.205240</td>\n      <td>-0.697787</td>\n    </tr>\n    <tr>\n      <th>4</th>\n      <td>0.938481</td>\n      <td>0.754514</td>\n      <td>-0.252500</td>\n      <td>0.896321</td>\n      <td>-0.502061</td>\n    </tr>\n  </tbody>\n</table>\n</div>"
     },
     "metadata": {},
     "execution_count": 30
    }
   ],
   "source": [
    "dfmi_c = dfmi.copy()\n",
    "dfmi_c.index = dfmi_c.index.droplevel(0)\n",
    "dfmi_c"
   ]
  },
  {
   "cell_type": "code",
   "execution_count": 60,
   "metadata": {},
   "outputs": [
    {
     "output_type": "execute_result",
     "data": {
      "text/plain": "<xarray.DataArray (index: 5, cols: 2)>\narray([[1., 1.],\n       [1., 1.],\n       [1., 1.],\n       [1., 1.],\n       [1., 1.]])\nCoordinates:\n  * index    (index) int64 0 1 2 3 4\n  * cols     (cols) object 'A' 'B'",
      "text/html": "<div><svg style=\"position: absolute; width: 0; height: 0; overflow: hidden\">\n<defs>\n<symbol id=\"icon-database\" viewBox=\"0 0 32 32\">\n<path d=\"M16 0c-8.837 0-16 2.239-16 5v4c0 2.761 7.163 5 16 5s16-2.239 16-5v-4c0-2.761-7.163-5-16-5z\"></path>\n<path d=\"M16 17c-8.837 0-16-2.239-16-5v6c0 2.761 7.163 5 16 5s16-2.239 16-5v-6c0 2.761-7.163 5-16 5z\"></path>\n<path d=\"M16 26c-8.837 0-16-2.239-16-5v6c0 2.761 7.163 5 16 5s16-2.239 16-5v-6c0 2.761-7.163 5-16 5z\"></path>\n</symbol>\n<symbol id=\"icon-file-text2\" viewBox=\"0 0 32 32\">\n<path d=\"M28.681 7.159c-0.694-0.947-1.662-2.053-2.724-3.116s-2.169-2.030-3.116-2.724c-1.612-1.182-2.393-1.319-2.841-1.319h-15.5c-1.378 0-2.5 1.121-2.5 2.5v27c0 1.378 1.122 2.5 2.5 2.5h23c1.378 0 2.5-1.122 2.5-2.5v-19.5c0-0.448-0.137-1.23-1.319-2.841zM24.543 5.457c0.959 0.959 1.712 1.825 2.268 2.543h-4.811v-4.811c0.718 0.556 1.584 1.309 2.543 2.268zM28 29.5c0 0.271-0.229 0.5-0.5 0.5h-23c-0.271 0-0.5-0.229-0.5-0.5v-27c0-0.271 0.229-0.5 0.5-0.5 0 0 15.499-0 15.5 0v7c0 0.552 0.448 1 1 1h7v19.5z\"></path>\n<path d=\"M23 26h-14c-0.552 0-1-0.448-1-1s0.448-1 1-1h14c0.552 0 1 0.448 1 1s-0.448 1-1 1z\"></path>\n<path d=\"M23 22h-14c-0.552 0-1-0.448-1-1s0.448-1 1-1h14c0.552 0 1 0.448 1 1s-0.448 1-1 1z\"></path>\n<path d=\"M23 18h-14c-0.552 0-1-0.448-1-1s0.448-1 1-1h14c0.552 0 1 0.448 1 1s-0.448 1-1 1z\"></path>\n</symbol>\n</defs>\n</svg>\n<style>/* CSS stylesheet for displaying xarray objects in jupyterlab.\n *\n */\n\n:root {\n  --xr-font-color0: var(--jp-content-font-color0, rgba(0, 0, 0, 1));\n  --xr-font-color2: var(--jp-content-font-color2, rgba(0, 0, 0, 0.54));\n  --xr-font-color3: var(--jp-content-font-color3, rgba(0, 0, 0, 0.38));\n  --xr-border-color: var(--jp-border-color2, #e0e0e0);\n  --xr-disabled-color: var(--jp-layout-color3, #bdbdbd);\n  --xr-background-color: var(--jp-layout-color0, white);\n  --xr-background-color-row-even: var(--jp-layout-color1, white);\n  --xr-background-color-row-odd: var(--jp-layout-color2, #eeeeee);\n}\n\nhtml[theme=dark],\nbody.vscode-dark {\n  --xr-font-color0: rgba(255, 255, 255, 1);\n  --xr-font-color2: rgba(255, 255, 255, 0.54);\n  --xr-font-color3: rgba(255, 255, 255, 0.38);\n  --xr-border-color: #1F1F1F;\n  --xr-disabled-color: #515151;\n  --xr-background-color: #111111;\n  --xr-background-color-row-even: #111111;\n  --xr-background-color-row-odd: #313131;\n}\n\n.xr-wrap {\n  display: block;\n  min-width: 300px;\n  max-width: 700px;\n}\n\n.xr-text-repr-fallback {\n  /* fallback to plain text repr when CSS is not injected (untrusted notebook) */\n  display: none;\n}\n\n.xr-header {\n  padding-top: 6px;\n  padding-bottom: 6px;\n  margin-bottom: 4px;\n  border-bottom: solid 1px var(--xr-border-color);\n}\n\n.xr-header > div,\n.xr-header > ul {\n  display: inline;\n  margin-top: 0;\n  margin-bottom: 0;\n}\n\n.xr-obj-type,\n.xr-array-name {\n  margin-left: 2px;\n  margin-right: 10px;\n}\n\n.xr-obj-type {\n  color: var(--xr-font-color2);\n}\n\n.xr-sections {\n  padding-left: 0 !important;\n  display: grid;\n  grid-template-columns: 150px auto auto 1fr 20px 20px;\n}\n\n.xr-section-item {\n  display: contents;\n}\n\n.xr-section-item input {\n  display: none;\n}\n\n.xr-section-item input + label {\n  color: var(--xr-disabled-color);\n}\n\n.xr-section-item input:enabled + label {\n  cursor: pointer;\n  color: var(--xr-font-color2);\n}\n\n.xr-section-item input:enabled + label:hover {\n  color: var(--xr-font-color0);\n}\n\n.xr-section-summary {\n  grid-column: 1;\n  color: var(--xr-font-color2);\n  font-weight: 500;\n}\n\n.xr-section-summary > span {\n  display: inline-block;\n  padding-left: 0.5em;\n}\n\n.xr-section-summary-in:disabled + label {\n  color: var(--xr-font-color2);\n}\n\n.xr-section-summary-in + label:before {\n  display: inline-block;\n  content: '►';\n  font-size: 11px;\n  width: 15px;\n  text-align: center;\n}\n\n.xr-section-summary-in:disabled + label:before {\n  color: var(--xr-disabled-color);\n}\n\n.xr-section-summary-in:checked + label:before {\n  content: '▼';\n}\n\n.xr-section-summary-in:checked + label > span {\n  display: none;\n}\n\n.xr-section-summary,\n.xr-section-inline-details {\n  padding-top: 4px;\n  padding-bottom: 4px;\n}\n\n.xr-section-inline-details {\n  grid-column: 2 / -1;\n}\n\n.xr-section-details {\n  display: none;\n  grid-column: 1 / -1;\n  margin-bottom: 5px;\n}\n\n.xr-section-summary-in:checked ~ .xr-section-details {\n  display: contents;\n}\n\n.xr-array-wrap {\n  grid-column: 1 / -1;\n  display: grid;\n  grid-template-columns: 20px auto;\n}\n\n.xr-array-wrap > label {\n  grid-column: 1;\n  vertical-align: top;\n}\n\n.xr-preview {\n  color: var(--xr-font-color3);\n}\n\n.xr-array-preview,\n.xr-array-data {\n  padding: 0 5px !important;\n  grid-column: 2;\n}\n\n.xr-array-data,\n.xr-array-in:checked ~ .xr-array-preview {\n  display: none;\n}\n\n.xr-array-in:checked ~ .xr-array-data,\n.xr-array-preview {\n  display: inline-block;\n}\n\n.xr-dim-list {\n  display: inline-block !important;\n  list-style: none;\n  padding: 0 !important;\n  margin: 0;\n}\n\n.xr-dim-list li {\n  display: inline-block;\n  padding: 0;\n  margin: 0;\n}\n\n.xr-dim-list:before {\n  content: '(';\n}\n\n.xr-dim-list:after {\n  content: ')';\n}\n\n.xr-dim-list li:not(:last-child):after {\n  content: ',';\n  padding-right: 5px;\n}\n\n.xr-has-index {\n  font-weight: bold;\n}\n\n.xr-var-list,\n.xr-var-item {\n  display: contents;\n}\n\n.xr-var-item > div,\n.xr-var-item label,\n.xr-var-item > .xr-var-name span {\n  background-color: var(--xr-background-color-row-even);\n  margin-bottom: 0;\n}\n\n.xr-var-item > .xr-var-name:hover span {\n  padding-right: 5px;\n}\n\n.xr-var-list > li:nth-child(odd) > div,\n.xr-var-list > li:nth-child(odd) > label,\n.xr-var-list > li:nth-child(odd) > .xr-var-name span {\n  background-color: var(--xr-background-color-row-odd);\n}\n\n.xr-var-name {\n  grid-column: 1;\n}\n\n.xr-var-dims {\n  grid-column: 2;\n}\n\n.xr-var-dtype {\n  grid-column: 3;\n  text-align: right;\n  color: var(--xr-font-color2);\n}\n\n.xr-var-preview {\n  grid-column: 4;\n}\n\n.xr-var-name,\n.xr-var-dims,\n.xr-var-dtype,\n.xr-preview,\n.xr-attrs dt {\n  white-space: nowrap;\n  overflow: hidden;\n  text-overflow: ellipsis;\n  padding-right: 10px;\n}\n\n.xr-var-name:hover,\n.xr-var-dims:hover,\n.xr-var-dtype:hover,\n.xr-attrs dt:hover {\n  overflow: visible;\n  width: auto;\n  z-index: 1;\n}\n\n.xr-var-attrs,\n.xr-var-data {\n  display: none;\n  background-color: var(--xr-background-color) !important;\n  padding-bottom: 5px !important;\n}\n\n.xr-var-attrs-in:checked ~ .xr-var-attrs,\n.xr-var-data-in:checked ~ .xr-var-data {\n  display: block;\n}\n\n.xr-var-data > table {\n  float: right;\n}\n\n.xr-var-name span,\n.xr-var-data,\n.xr-attrs {\n  padding-left: 25px !important;\n}\n\n.xr-attrs,\n.xr-var-attrs,\n.xr-var-data {\n  grid-column: 1 / -1;\n}\n\ndl.xr-attrs {\n  padding: 0;\n  margin: 0;\n  display: grid;\n  grid-template-columns: 125px auto;\n}\n\n.xr-attrs dt, dd {\n  padding: 0;\n  margin: 0;\n  float: left;\n  padding-right: 10px;\n  width: auto;\n}\n\n.xr-attrs dt {\n  font-weight: normal;\n  grid-column: 1;\n}\n\n.xr-attrs dt:hover span {\n  display: inline-block;\n  background: var(--xr-background-color);\n  padding-right: 10px;\n}\n\n.xr-attrs dd {\n  grid-column: 2;\n  white-space: pre-wrap;\n  word-break: break-all;\n}\n\n.xr-icon-database,\n.xr-icon-file-text2 {\n  display: inline-block;\n  vertical-align: middle;\n  width: 1em;\n  height: 1.5em !important;\n  stroke-width: 0;\n  stroke: currentColor;\n  fill: currentColor;\n}\n</style><pre class='xr-text-repr-fallback'>&lt;xarray.DataArray (index: 5, cols: 2)&gt;\narray([[1., 1.],\n       [1., 1.],\n       [1., 1.],\n       [1., 1.],\n       [1., 1.]])\nCoordinates:\n  * index    (index) int64 0 1 2 3 4\n  * cols     (cols) object &#x27;A&#x27; &#x27;B&#x27;</pre><div class='xr-wrap' hidden><div class='xr-header'><div class='xr-obj-type'>xarray.DataArray</div><div class='xr-array-name'></div><ul class='xr-dim-list'><li><span class='xr-has-index'>index</span>: 5</li><li><span class='xr-has-index'>cols</span>: 2</li></ul></div><ul class='xr-sections'><li class='xr-section-item'><div class='xr-array-wrap'><input id='section-a6840612-9888-4595-87c8-c89f9a307edf' class='xr-array-in' type='checkbox' checked><label for='section-a6840612-9888-4595-87c8-c89f9a307edf' title='Show/hide data repr'><svg class='icon xr-icon-database'><use xlink:href='#icon-database'></use></svg></label><div class='xr-array-preview xr-preview'><span>1.0 1.0 1.0 1.0 1.0 1.0 1.0 1.0 1.0 1.0</span></div><div class='xr-array-data'><pre>array([[1., 1.],\n       [1., 1.],\n       [1., 1.],\n       [1., 1.],\n       [1., 1.]])</pre></div></div></li><li class='xr-section-item'><input id='section-d82e52b3-3ceb-4833-a6e2-0d0760298b73' class='xr-section-summary-in' type='checkbox'  checked><label for='section-d82e52b3-3ceb-4833-a6e2-0d0760298b73' class='xr-section-summary' >Coordinates: <span>(2)</span></label><div class='xr-section-inline-details'></div><div class='xr-section-details'><ul class='xr-var-list'><li class='xr-var-item'><div class='xr-var-name'><span class='xr-has-index'>index</span></div><div class='xr-var-dims'>(index)</div><div class='xr-var-dtype'>int64</div><div class='xr-var-preview xr-preview'>0 1 2 3 4</div><input id='attrs-2f20bb7e-a1d2-4d30-ad2d-fbd3c2ea9816' class='xr-var-attrs-in' type='checkbox' disabled><label for='attrs-2f20bb7e-a1d2-4d30-ad2d-fbd3c2ea9816' title='Show/Hide attributes'><svg class='icon xr-icon-file-text2'><use xlink:href='#icon-file-text2'></use></svg></label><input id='data-c9ebad00-84b7-4992-842a-1e3a4e7c6229' class='xr-var-data-in' type='checkbox'><label for='data-c9ebad00-84b7-4992-842a-1e3a4e7c6229' title='Show/Hide data repr'><svg class='icon xr-icon-database'><use xlink:href='#icon-database'></use></svg></label><div class='xr-var-attrs'><dl class='xr-attrs'></dl></div><div class='xr-var-data'><pre>array([0, 1, 2, 3, 4])</pre></div></li><li class='xr-var-item'><div class='xr-var-name'><span class='xr-has-index'>cols</span></div><div class='xr-var-dims'>(cols)</div><div class='xr-var-dtype'>object</div><div class='xr-var-preview xr-preview'>&#x27;A&#x27; &#x27;B&#x27;</div><input id='attrs-3bddffa6-7548-4d63-ada3-7e49e82c8628' class='xr-var-attrs-in' type='checkbox' disabled><label for='attrs-3bddffa6-7548-4d63-ada3-7e49e82c8628' title='Show/Hide attributes'><svg class='icon xr-icon-file-text2'><use xlink:href='#icon-file-text2'></use></svg></label><input id='data-4ac8130c-6406-4898-9b5d-13a2585c1c8a' class='xr-var-data-in' type='checkbox'><label for='data-4ac8130c-6406-4898-9b5d-13a2585c1c8a' title='Show/Hide data repr'><svg class='icon xr-icon-database'><use xlink:href='#icon-database'></use></svg></label><div class='xr-var-attrs'><dl class='xr-attrs'></dl></div><div class='xr-var-data'><pre>array([&#x27;A&#x27;, &#x27;B&#x27;], dtype=object)</pre></div></li></ul></div></li><li class='xr-section-item'><input id='section-3945f8c9-f86f-4dbd-9e67-ba9f65a73df5' class='xr-section-summary-in' type='checkbox' disabled ><label for='section-3945f8c9-f86f-4dbd-9e67-ba9f65a73df5' class='xr-section-summary'  title='Expand/collapse section'>Attributes: <span>(0)</span></label><div class='xr-section-inline-details'></div><div class='xr-section-details'><dl class='xr-attrs'></dl></div></li></ul></div></div>"
     },
     "metadata": {},
     "execution_count": 60
    }
   ],
   "source": [
    "# xr data array from simple pandas dataframe\n",
    "df_tmp = dfmi_c['X']\n",
    "df_tmp.index = df_tmp.index.droplevel(0)\n",
    "df_tmp.index.name = 'index'\n",
    "df_tmp.columns.name = 'cols'\n",
    "\n",
    "xarr = xr.DataArray(df_tmp)  \n",
    "xarr"
   ]
  },
  {
   "cell_type": "code",
   "execution_count": 64,
   "metadata": {},
   "outputs": [
    {
     "output_type": "execute_result",
     "data": {
      "text/plain": "<xarray.Dataset>\nDimensions:  (index: 5, outer: 2)\nCoordinates:\n  * index    (index) int64 0 1 2 3 4\n  * outer    (outer) object 'X' 'Y'\nData variables:\n    A        (index, outer) float64 1.0 nan 1.0 nan 1.0 nan 1.0 nan 1.0 nan\n    B        (index, outer) float64 1.0 nan 1.0 nan 1.0 nan 1.0 nan 1.0 nan\n    C        (index, outer) float64 nan -1.87 nan 0.8707 ... -0.4773 nan -0.2525\n    D        (index, outer) float64 nan 1.132 nan -0.547 ... 0.2052 nan 0.8963\n    E        (index, outer) float64 nan -0.06512 nan ... -0.6978 nan -0.5021",
      "text/html": "<div><svg style=\"position: absolute; width: 0; height: 0; overflow: hidden\">\n<defs>\n<symbol id=\"icon-database\" viewBox=\"0 0 32 32\">\n<path d=\"M16 0c-8.837 0-16 2.239-16 5v4c0 2.761 7.163 5 16 5s16-2.239 16-5v-4c0-2.761-7.163-5-16-5z\"></path>\n<path d=\"M16 17c-8.837 0-16-2.239-16-5v6c0 2.761 7.163 5 16 5s16-2.239 16-5v-6c0 2.761-7.163 5-16 5z\"></path>\n<path d=\"M16 26c-8.837 0-16-2.239-16-5v6c0 2.761 7.163 5 16 5s16-2.239 16-5v-6c0 2.761-7.163 5-16 5z\"></path>\n</symbol>\n<symbol id=\"icon-file-text2\" viewBox=\"0 0 32 32\">\n<path d=\"M28.681 7.159c-0.694-0.947-1.662-2.053-2.724-3.116s-2.169-2.030-3.116-2.724c-1.612-1.182-2.393-1.319-2.841-1.319h-15.5c-1.378 0-2.5 1.121-2.5 2.5v27c0 1.378 1.122 2.5 2.5 2.5h23c1.378 0 2.5-1.122 2.5-2.5v-19.5c0-0.448-0.137-1.23-1.319-2.841zM24.543 5.457c0.959 0.959 1.712 1.825 2.268 2.543h-4.811v-4.811c0.718 0.556 1.584 1.309 2.543 2.268zM28 29.5c0 0.271-0.229 0.5-0.5 0.5h-23c-0.271 0-0.5-0.229-0.5-0.5v-27c0-0.271 0.229-0.5 0.5-0.5 0 0 15.499-0 15.5 0v7c0 0.552 0.448 1 1 1h7v19.5z\"></path>\n<path d=\"M23 26h-14c-0.552 0-1-0.448-1-1s0.448-1 1-1h14c0.552 0 1 0.448 1 1s-0.448 1-1 1z\"></path>\n<path d=\"M23 22h-14c-0.552 0-1-0.448-1-1s0.448-1 1-1h14c0.552 0 1 0.448 1 1s-0.448 1-1 1z\"></path>\n<path d=\"M23 18h-14c-0.552 0-1-0.448-1-1s0.448-1 1-1h14c0.552 0 1 0.448 1 1s-0.448 1-1 1z\"></path>\n</symbol>\n</defs>\n</svg>\n<style>/* CSS stylesheet for displaying xarray objects in jupyterlab.\n *\n */\n\n:root {\n  --xr-font-color0: var(--jp-content-font-color0, rgba(0, 0, 0, 1));\n  --xr-font-color2: var(--jp-content-font-color2, rgba(0, 0, 0, 0.54));\n  --xr-font-color3: var(--jp-content-font-color3, rgba(0, 0, 0, 0.38));\n  --xr-border-color: var(--jp-border-color2, #e0e0e0);\n  --xr-disabled-color: var(--jp-layout-color3, #bdbdbd);\n  --xr-background-color: var(--jp-layout-color0, white);\n  --xr-background-color-row-even: var(--jp-layout-color1, white);\n  --xr-background-color-row-odd: var(--jp-layout-color2, #eeeeee);\n}\n\nhtml[theme=dark],\nbody.vscode-dark {\n  --xr-font-color0: rgba(255, 255, 255, 1);\n  --xr-font-color2: rgba(255, 255, 255, 0.54);\n  --xr-font-color3: rgba(255, 255, 255, 0.38);\n  --xr-border-color: #1F1F1F;\n  --xr-disabled-color: #515151;\n  --xr-background-color: #111111;\n  --xr-background-color-row-even: #111111;\n  --xr-background-color-row-odd: #313131;\n}\n\n.xr-wrap {\n  display: block;\n  min-width: 300px;\n  max-width: 700px;\n}\n\n.xr-text-repr-fallback {\n  /* fallback to plain text repr when CSS is not injected (untrusted notebook) */\n  display: none;\n}\n\n.xr-header {\n  padding-top: 6px;\n  padding-bottom: 6px;\n  margin-bottom: 4px;\n  border-bottom: solid 1px var(--xr-border-color);\n}\n\n.xr-header > div,\n.xr-header > ul {\n  display: inline;\n  margin-top: 0;\n  margin-bottom: 0;\n}\n\n.xr-obj-type,\n.xr-array-name {\n  margin-left: 2px;\n  margin-right: 10px;\n}\n\n.xr-obj-type {\n  color: var(--xr-font-color2);\n}\n\n.xr-sections {\n  padding-left: 0 !important;\n  display: grid;\n  grid-template-columns: 150px auto auto 1fr 20px 20px;\n}\n\n.xr-section-item {\n  display: contents;\n}\n\n.xr-section-item input {\n  display: none;\n}\n\n.xr-section-item input + label {\n  color: var(--xr-disabled-color);\n}\n\n.xr-section-item input:enabled + label {\n  cursor: pointer;\n  color: var(--xr-font-color2);\n}\n\n.xr-section-item input:enabled + label:hover {\n  color: var(--xr-font-color0);\n}\n\n.xr-section-summary {\n  grid-column: 1;\n  color: var(--xr-font-color2);\n  font-weight: 500;\n}\n\n.xr-section-summary > span {\n  display: inline-block;\n  padding-left: 0.5em;\n}\n\n.xr-section-summary-in:disabled + label {\n  color: var(--xr-font-color2);\n}\n\n.xr-section-summary-in + label:before {\n  display: inline-block;\n  content: '►';\n  font-size: 11px;\n  width: 15px;\n  text-align: center;\n}\n\n.xr-section-summary-in:disabled + label:before {\n  color: var(--xr-disabled-color);\n}\n\n.xr-section-summary-in:checked + label:before {\n  content: '▼';\n}\n\n.xr-section-summary-in:checked + label > span {\n  display: none;\n}\n\n.xr-section-summary,\n.xr-section-inline-details {\n  padding-top: 4px;\n  padding-bottom: 4px;\n}\n\n.xr-section-inline-details {\n  grid-column: 2 / -1;\n}\n\n.xr-section-details {\n  display: none;\n  grid-column: 1 / -1;\n  margin-bottom: 5px;\n}\n\n.xr-section-summary-in:checked ~ .xr-section-details {\n  display: contents;\n}\n\n.xr-array-wrap {\n  grid-column: 1 / -1;\n  display: grid;\n  grid-template-columns: 20px auto;\n}\n\n.xr-array-wrap > label {\n  grid-column: 1;\n  vertical-align: top;\n}\n\n.xr-preview {\n  color: var(--xr-font-color3);\n}\n\n.xr-array-preview,\n.xr-array-data {\n  padding: 0 5px !important;\n  grid-column: 2;\n}\n\n.xr-array-data,\n.xr-array-in:checked ~ .xr-array-preview {\n  display: none;\n}\n\n.xr-array-in:checked ~ .xr-array-data,\n.xr-array-preview {\n  display: inline-block;\n}\n\n.xr-dim-list {\n  display: inline-block !important;\n  list-style: none;\n  padding: 0 !important;\n  margin: 0;\n}\n\n.xr-dim-list li {\n  display: inline-block;\n  padding: 0;\n  margin: 0;\n}\n\n.xr-dim-list:before {\n  content: '(';\n}\n\n.xr-dim-list:after {\n  content: ')';\n}\n\n.xr-dim-list li:not(:last-child):after {\n  content: ',';\n  padding-right: 5px;\n}\n\n.xr-has-index {\n  font-weight: bold;\n}\n\n.xr-var-list,\n.xr-var-item {\n  display: contents;\n}\n\n.xr-var-item > div,\n.xr-var-item label,\n.xr-var-item > .xr-var-name span {\n  background-color: var(--xr-background-color-row-even);\n  margin-bottom: 0;\n}\n\n.xr-var-item > .xr-var-name:hover span {\n  padding-right: 5px;\n}\n\n.xr-var-list > li:nth-child(odd) > div,\n.xr-var-list > li:nth-child(odd) > label,\n.xr-var-list > li:nth-child(odd) > .xr-var-name span {\n  background-color: var(--xr-background-color-row-odd);\n}\n\n.xr-var-name {\n  grid-column: 1;\n}\n\n.xr-var-dims {\n  grid-column: 2;\n}\n\n.xr-var-dtype {\n  grid-column: 3;\n  text-align: right;\n  color: var(--xr-font-color2);\n}\n\n.xr-var-preview {\n  grid-column: 4;\n}\n\n.xr-var-name,\n.xr-var-dims,\n.xr-var-dtype,\n.xr-preview,\n.xr-attrs dt {\n  white-space: nowrap;\n  overflow: hidden;\n  text-overflow: ellipsis;\n  padding-right: 10px;\n}\n\n.xr-var-name:hover,\n.xr-var-dims:hover,\n.xr-var-dtype:hover,\n.xr-attrs dt:hover {\n  overflow: visible;\n  width: auto;\n  z-index: 1;\n}\n\n.xr-var-attrs,\n.xr-var-data {\n  display: none;\n  background-color: var(--xr-background-color) !important;\n  padding-bottom: 5px !important;\n}\n\n.xr-var-attrs-in:checked ~ .xr-var-attrs,\n.xr-var-data-in:checked ~ .xr-var-data {\n  display: block;\n}\n\n.xr-var-data > table {\n  float: right;\n}\n\n.xr-var-name span,\n.xr-var-data,\n.xr-attrs {\n  padding-left: 25px !important;\n}\n\n.xr-attrs,\n.xr-var-attrs,\n.xr-var-data {\n  grid-column: 1 / -1;\n}\n\ndl.xr-attrs {\n  padding: 0;\n  margin: 0;\n  display: grid;\n  grid-template-columns: 125px auto;\n}\n\n.xr-attrs dt, dd {\n  padding: 0;\n  margin: 0;\n  float: left;\n  padding-right: 10px;\n  width: auto;\n}\n\n.xr-attrs dt {\n  font-weight: normal;\n  grid-column: 1;\n}\n\n.xr-attrs dt:hover span {\n  display: inline-block;\n  background: var(--xr-background-color);\n  padding-right: 10px;\n}\n\n.xr-attrs dd {\n  grid-column: 2;\n  white-space: pre-wrap;\n  word-break: break-all;\n}\n\n.xr-icon-database,\n.xr-icon-file-text2 {\n  display: inline-block;\n  vertical-align: middle;\n  width: 1em;\n  height: 1.5em !important;\n  stroke-width: 0;\n  stroke: currentColor;\n  fill: currentColor;\n}\n</style><pre class='xr-text-repr-fallback'>&lt;xarray.Dataset&gt;\nDimensions:  (index: 5, outer: 2)\nCoordinates:\n  * index    (index) int64 0 1 2 3 4\n  * outer    (outer) object &#x27;X&#x27; &#x27;Y&#x27;\nData variables:\n    A        (index, outer) float64 1.0 nan 1.0 nan 1.0 nan 1.0 nan 1.0 nan\n    B        (index, outer) float64 1.0 nan 1.0 nan 1.0 nan 1.0 nan 1.0 nan\n    C        (index, outer) float64 nan -1.87 nan 0.8707 ... -0.4773 nan -0.2525\n    D        (index, outer) float64 nan 1.132 nan -0.547 ... 0.2052 nan 0.8963\n    E        (index, outer) float64 nan -0.06512 nan ... -0.6978 nan -0.5021</pre><div class='xr-wrap' hidden><div class='xr-header'><div class='xr-obj-type'>xarray.Dataset</div></div><ul class='xr-sections'><li class='xr-section-item'><input id='section-48cff7b8-2eed-4f8c-8b4b-6f6e3c2a4113' class='xr-section-summary-in' type='checkbox' disabled ><label for='section-48cff7b8-2eed-4f8c-8b4b-6f6e3c2a4113' class='xr-section-summary'  title='Expand/collapse section'>Dimensions:</label><div class='xr-section-inline-details'><ul class='xr-dim-list'><li><span class='xr-has-index'>index</span>: 5</li><li><span class='xr-has-index'>outer</span>: 2</li></ul></div><div class='xr-section-details'></div></li><li class='xr-section-item'><input id='section-56f71a02-4c47-467e-a8dd-80b11f15c8e0' class='xr-section-summary-in' type='checkbox'  checked><label for='section-56f71a02-4c47-467e-a8dd-80b11f15c8e0' class='xr-section-summary' >Coordinates: <span>(2)</span></label><div class='xr-section-inline-details'></div><div class='xr-section-details'><ul class='xr-var-list'><li class='xr-var-item'><div class='xr-var-name'><span class='xr-has-index'>index</span></div><div class='xr-var-dims'>(index)</div><div class='xr-var-dtype'>int64</div><div class='xr-var-preview xr-preview'>0 1 2 3 4</div><input id='attrs-0687ed3d-483e-4653-84b7-a5c3ba68f53d' class='xr-var-attrs-in' type='checkbox' disabled><label for='attrs-0687ed3d-483e-4653-84b7-a5c3ba68f53d' title='Show/Hide attributes'><svg class='icon xr-icon-file-text2'><use xlink:href='#icon-file-text2'></use></svg></label><input id='data-b39d5533-cdf0-4843-a610-ebc24dfc9dd3' class='xr-var-data-in' type='checkbox'><label for='data-b39d5533-cdf0-4843-a610-ebc24dfc9dd3' title='Show/Hide data repr'><svg class='icon xr-icon-database'><use xlink:href='#icon-database'></use></svg></label><div class='xr-var-attrs'><dl class='xr-attrs'></dl></div><div class='xr-var-data'><pre>array([0, 1, 2, 3, 4])</pre></div></li><li class='xr-var-item'><div class='xr-var-name'><span class='xr-has-index'>outer</span></div><div class='xr-var-dims'>(outer)</div><div class='xr-var-dtype'>object</div><div class='xr-var-preview xr-preview'>&#x27;X&#x27; &#x27;Y&#x27;</div><input id='attrs-5e576647-984b-445a-a677-bf3b2d2dbd72' class='xr-var-attrs-in' type='checkbox' disabled><label for='attrs-5e576647-984b-445a-a677-bf3b2d2dbd72' title='Show/Hide attributes'><svg class='icon xr-icon-file-text2'><use xlink:href='#icon-file-text2'></use></svg></label><input id='data-0fa82035-f376-4161-9aa6-b4fac5864c5a' class='xr-var-data-in' type='checkbox'><label for='data-0fa82035-f376-4161-9aa6-b4fac5864c5a' title='Show/Hide data repr'><svg class='icon xr-icon-database'><use xlink:href='#icon-database'></use></svg></label><div class='xr-var-attrs'><dl class='xr-attrs'></dl></div><div class='xr-var-data'><pre>array([&#x27;X&#x27;, &#x27;Y&#x27;], dtype=object)</pre></div></li></ul></div></li><li class='xr-section-item'><input id='section-2737817b-07d9-4287-bdc3-9c851b3380ad' class='xr-section-summary-in' type='checkbox'  checked><label for='section-2737817b-07d9-4287-bdc3-9c851b3380ad' class='xr-section-summary' >Data variables: <span>(5)</span></label><div class='xr-section-inline-details'></div><div class='xr-section-details'><ul class='xr-var-list'><li class='xr-var-item'><div class='xr-var-name'><span>A</span></div><div class='xr-var-dims'>(index, outer)</div><div class='xr-var-dtype'>float64</div><div class='xr-var-preview xr-preview'>1.0 nan 1.0 nan ... 1.0 nan 1.0 nan</div><input id='attrs-0b27e062-90ad-4ac4-9480-91d4e98a24fa' class='xr-var-attrs-in' type='checkbox' disabled><label for='attrs-0b27e062-90ad-4ac4-9480-91d4e98a24fa' title='Show/Hide attributes'><svg class='icon xr-icon-file-text2'><use xlink:href='#icon-file-text2'></use></svg></label><input id='data-6822428d-ddaf-4408-8bb5-aa5054e2754d' class='xr-var-data-in' type='checkbox'><label for='data-6822428d-ddaf-4408-8bb5-aa5054e2754d' title='Show/Hide data repr'><svg class='icon xr-icon-database'><use xlink:href='#icon-database'></use></svg></label><div class='xr-var-attrs'><dl class='xr-attrs'></dl></div><div class='xr-var-data'><pre>array([[ 1., nan],\n       [ 1., nan],\n       [ 1., nan],\n       [ 1., nan],\n       [ 1., nan]])</pre></div></li><li class='xr-var-item'><div class='xr-var-name'><span>B</span></div><div class='xr-var-dims'>(index, outer)</div><div class='xr-var-dtype'>float64</div><div class='xr-var-preview xr-preview'>1.0 nan 1.0 nan ... 1.0 nan 1.0 nan</div><input id='attrs-ee18706c-4da8-467f-9189-0cbfeb21db80' class='xr-var-attrs-in' type='checkbox' disabled><label for='attrs-ee18706c-4da8-467f-9189-0cbfeb21db80' title='Show/Hide attributes'><svg class='icon xr-icon-file-text2'><use xlink:href='#icon-file-text2'></use></svg></label><input id='data-00c2e46d-8f13-4c6b-8339-4368f2a4de7e' class='xr-var-data-in' type='checkbox'><label for='data-00c2e46d-8f13-4c6b-8339-4368f2a4de7e' title='Show/Hide data repr'><svg class='icon xr-icon-database'><use xlink:href='#icon-database'></use></svg></label><div class='xr-var-attrs'><dl class='xr-attrs'></dl></div><div class='xr-var-data'><pre>array([[ 1., nan],\n       [ 1., nan],\n       [ 1., nan],\n       [ 1., nan],\n       [ 1., nan]])</pre></div></li><li class='xr-var-item'><div class='xr-var-name'><span>C</span></div><div class='xr-var-dims'>(index, outer)</div><div class='xr-var-dtype'>float64</div><div class='xr-var-preview xr-preview'>nan -1.87 nan ... nan -0.2525</div><input id='attrs-d81dfaac-86ae-4512-a42d-ef183ad84388' class='xr-var-attrs-in' type='checkbox' disabled><label for='attrs-d81dfaac-86ae-4512-a42d-ef183ad84388' title='Show/Hide attributes'><svg class='icon xr-icon-file-text2'><use xlink:href='#icon-file-text2'></use></svg></label><input id='data-ede61ca5-d8fb-4c77-9e82-51631d1055c7' class='xr-var-data-in' type='checkbox'><label for='data-ede61ca5-d8fb-4c77-9e82-51631d1055c7' title='Show/Hide data repr'><svg class='icon xr-icon-database'><use xlink:href='#icon-database'></use></svg></label><div class='xr-var-attrs'><dl class='xr-attrs'></dl></div><div class='xr-var-data'><pre>array([[        nan, -1.86983921],\n       [        nan,  0.87070115],\n       [        nan,  0.49925121],\n       [        nan, -0.47730941],\n       [        nan, -0.25249998]])</pre></div></li><li class='xr-var-item'><div class='xr-var-name'><span>D</span></div><div class='xr-var-dims'>(index, outer)</div><div class='xr-var-dtype'>float64</div><div class='xr-var-preview xr-preview'>nan 1.132 nan ... 0.2052 nan 0.8963</div><input id='attrs-32a056b9-2183-4830-b71f-414c9a7bb357' class='xr-var-attrs-in' type='checkbox' disabled><label for='attrs-32a056b9-2183-4830-b71f-414c9a7bb357' title='Show/Hide attributes'><svg class='icon xr-icon-file-text2'><use xlink:href='#icon-file-text2'></use></svg></label><input id='data-4ca9f61c-01ca-4d1f-ae63-4b937ee06e6a' class='xr-var-data-in' type='checkbox'><label for='data-4ca9f61c-01ca-4d1f-ae63-4b937ee06e6a' title='Show/Hide data repr'><svg class='icon xr-icon-database'><use xlink:href='#icon-database'></use></svg></label><div class='xr-var-attrs'><dl class='xr-attrs'></dl></div><div class='xr-var-data'><pre>array([[        nan,  1.13173361],\n       [        nan, -0.54699586],\n       [        nan,  0.49311741],\n       [        nan,  0.20524043],\n       [        nan,  0.89632138]])</pre></div></li><li class='xr-var-item'><div class='xr-var-name'><span>E</span></div><div class='xr-var-dims'>(index, outer)</div><div class='xr-var-dtype'>float64</div><div class='xr-var-preview xr-preview'>nan -0.06512 nan ... nan -0.5021</div><input id='attrs-54b99092-ec99-49b2-8dad-6fb5c0bfedcc' class='xr-var-attrs-in' type='checkbox' disabled><label for='attrs-54b99092-ec99-49b2-8dad-6fb5c0bfedcc' title='Show/Hide attributes'><svg class='icon xr-icon-file-text2'><use xlink:href='#icon-file-text2'></use></svg></label><input id='data-13d91210-86f3-4324-b95e-a52ac51b75cd' class='xr-var-data-in' type='checkbox'><label for='data-13d91210-86f3-4324-b95e-a52ac51b75cd' title='Show/Hide data repr'><svg class='icon xr-icon-database'><use xlink:href='#icon-database'></use></svg></label><div class='xr-var-attrs'><dl class='xr-attrs'></dl></div><div class='xr-var-data'><pre>array([[        nan, -0.06512394],\n       [        nan, -0.01841006],\n       [        nan,  0.87555922],\n       [        nan, -0.69778699],\n       [        nan, -0.50206138]])</pre></div></li></ul></div></li><li class='xr-section-item'><input id='section-5e187c9b-2dcd-4ed8-9bc5-d2b420c3c192' class='xr-section-summary-in' type='checkbox' disabled ><label for='section-5e187c9b-2dcd-4ed8-9bc5-d2b420c3c192' class='xr-section-summary'  title='Expand/collapse section'>Attributes: <span>(0)</span></label><div class='xr-section-inline-details'></div><div class='xr-section-details'><dl class='xr-attrs'></dl></div></li></ul></div></div>"
     },
     "metadata": {},
     "execution_count": 64
    }
   ],
   "source": [
    "# xr data array from MultiIndex dataframe\n",
    "df_tmp = dfmi_c.copy()\n",
    "df_tmp.index = df_tmp.index.droplevel(0)\n",
    "df_tmp.index.name = 'index'\n",
    "df_tmp.columns.names = ['outer',  'inner']\n",
    "\n",
    "df_tmp = df_tmp.stack('outer')  # outer columns level will be the fields inside dataset (not symbols)\n",
    "df_tmp.to_xarray()"
   ]
  },
  {
   "cell_type": "code",
   "execution_count": null,
   "metadata": {},
   "outputs": [],
   "source": []
  },
  {
   "cell_type": "code",
   "execution_count": 32,
   "metadata": {},
   "outputs": [],
   "source": [
    "xds = xr.Dataset(\n",
    "     {\n",
    "         \"X\": (\n",
    "             (\"index\", \"cols\"),\n",
    "             dfmi_c['X'].to_numpy(),\n",
    "         )\n",
    "     },\n",
    "     coords={\"index\": dfmi_c['X'].index, \"cols\": dfmi_c['X'].columns},\n",
    " )"
   ]
  },
  {
   "cell_type": "code",
   "execution_count": 33,
   "metadata": {},
   "outputs": [],
   "source": [
    "df_tmp = dfmi_c['X']**2\n",
    "df_tmp.index.name = 'index'\n",
    "df_tmp.columns.name = 'cols'\n",
    "xds = xds.assign(Y=df_tmp)"
   ]
  },
  {
   "cell_type": "code",
   "execution_count": 34,
   "metadata": {},
   "outputs": [
    {
     "output_type": "execute_result",
     "data": {
      "text/plain": "              X                   Y          \ncols          A         B         A         B\nindex                                        \n0      1.092035  1.154421  1.192541  1.332687\n1     -0.026844 -0.944534  0.000721  0.892144\n2     -1.982865  0.304443  3.931753  0.092686\n3      1.092661 -0.179011  1.193908  0.032045\n4      0.938481  0.754514  0.880747  0.569292",
      "text/html": "<div>\n<style scoped>\n    .dataframe tbody tr th:only-of-type {\n        vertical-align: middle;\n    }\n\n    .dataframe tbody tr th {\n        vertical-align: top;\n    }\n\n    .dataframe thead tr th {\n        text-align: left;\n    }\n\n    .dataframe thead tr:last-of-type th {\n        text-align: right;\n    }\n</style>\n<table border=\"1\" class=\"dataframe\">\n  <thead>\n    <tr>\n      <th></th>\n      <th colspan=\"2\" halign=\"left\">X</th>\n      <th colspan=\"2\" halign=\"left\">Y</th>\n    </tr>\n    <tr>\n      <th>cols</th>\n      <th>A</th>\n      <th>B</th>\n      <th>A</th>\n      <th>B</th>\n    </tr>\n    <tr>\n      <th>index</th>\n      <th></th>\n      <th></th>\n      <th></th>\n      <th></th>\n    </tr>\n  </thead>\n  <tbody>\n    <tr>\n      <th>0</th>\n      <td>1.092035</td>\n      <td>1.154421</td>\n      <td>1.192541</td>\n      <td>1.332687</td>\n    </tr>\n    <tr>\n      <th>1</th>\n      <td>-0.026844</td>\n      <td>-0.944534</td>\n      <td>0.000721</td>\n      <td>0.892144</td>\n    </tr>\n    <tr>\n      <th>2</th>\n      <td>-1.982865</td>\n      <td>0.304443</td>\n      <td>3.931753</td>\n      <td>0.092686</td>\n    </tr>\n    <tr>\n      <th>3</th>\n      <td>1.092661</td>\n      <td>-0.179011</td>\n      <td>1.193908</td>\n      <td>0.032045</td>\n    </tr>\n    <tr>\n      <th>4</th>\n      <td>0.938481</td>\n      <td>0.754514</td>\n      <td>0.880747</td>\n      <td>0.569292</td>\n    </tr>\n  </tbody>\n</table>\n</div>"
     },
     "metadata": {},
     "execution_count": 34
    }
   ],
   "source": [
    "xds.to_dataframe().unstack('cols')"
   ]
  },
  {
   "cell_type": "code",
   "execution_count": 35,
   "metadata": {},
   "outputs": [
    {
     "output_type": "execute_result",
     "data": {
      "text/plain": "<xarray.DataArray 'dim_1' (dim_1: 2)>\narray(['A', 'B'], dtype=object)\nCoordinates:\n  * dim_1    (dim_1) object 'A' 'B'",
      "text/html": "<div><svg style=\"position: absolute; width: 0; height: 0; overflow: hidden\">\n<defs>\n<symbol id=\"icon-database\" viewBox=\"0 0 32 32\">\n<path d=\"M16 0c-8.837 0-16 2.239-16 5v4c0 2.761 7.163 5 16 5s16-2.239 16-5v-4c0-2.761-7.163-5-16-5z\"></path>\n<path d=\"M16 17c-8.837 0-16-2.239-16-5v6c0 2.761 7.163 5 16 5s16-2.239 16-5v-6c0 2.761-7.163 5-16 5z\"></path>\n<path d=\"M16 26c-8.837 0-16-2.239-16-5v6c0 2.761 7.163 5 16 5s16-2.239 16-5v-6c0 2.761-7.163 5-16 5z\"></path>\n</symbol>\n<symbol id=\"icon-file-text2\" viewBox=\"0 0 32 32\">\n<path d=\"M28.681 7.159c-0.694-0.947-1.662-2.053-2.724-3.116s-2.169-2.030-3.116-2.724c-1.612-1.182-2.393-1.319-2.841-1.319h-15.5c-1.378 0-2.5 1.121-2.5 2.5v27c0 1.378 1.122 2.5 2.5 2.5h23c1.378 0 2.5-1.122 2.5-2.5v-19.5c0-0.448-0.137-1.23-1.319-2.841zM24.543 5.457c0.959 0.959 1.712 1.825 2.268 2.543h-4.811v-4.811c0.718 0.556 1.584 1.309 2.543 2.268zM28 29.5c0 0.271-0.229 0.5-0.5 0.5h-23c-0.271 0-0.5-0.229-0.5-0.5v-27c0-0.271 0.229-0.5 0.5-0.5 0 0 15.499-0 15.5 0v7c0 0.552 0.448 1 1 1h7v19.5z\"></path>\n<path d=\"M23 26h-14c-0.552 0-1-0.448-1-1s0.448-1 1-1h14c0.552 0 1 0.448 1 1s-0.448 1-1 1z\"></path>\n<path d=\"M23 22h-14c-0.552 0-1-0.448-1-1s0.448-1 1-1h14c0.552 0 1 0.448 1 1s-0.448 1-1 1z\"></path>\n<path d=\"M23 18h-14c-0.552 0-1-0.448-1-1s0.448-1 1-1h14c0.552 0 1 0.448 1 1s-0.448 1-1 1z\"></path>\n</symbol>\n</defs>\n</svg>\n<style>/* CSS stylesheet for displaying xarray objects in jupyterlab.\n *\n */\n\n:root {\n  --xr-font-color0: var(--jp-content-font-color0, rgba(0, 0, 0, 1));\n  --xr-font-color2: var(--jp-content-font-color2, rgba(0, 0, 0, 0.54));\n  --xr-font-color3: var(--jp-content-font-color3, rgba(0, 0, 0, 0.38));\n  --xr-border-color: var(--jp-border-color2, #e0e0e0);\n  --xr-disabled-color: var(--jp-layout-color3, #bdbdbd);\n  --xr-background-color: var(--jp-layout-color0, white);\n  --xr-background-color-row-even: var(--jp-layout-color1, white);\n  --xr-background-color-row-odd: var(--jp-layout-color2, #eeeeee);\n}\n\nhtml[theme=dark],\nbody.vscode-dark {\n  --xr-font-color0: rgba(255, 255, 255, 1);\n  --xr-font-color2: rgba(255, 255, 255, 0.54);\n  --xr-font-color3: rgba(255, 255, 255, 0.38);\n  --xr-border-color: #1F1F1F;\n  --xr-disabled-color: #515151;\n  --xr-background-color: #111111;\n  --xr-background-color-row-even: #111111;\n  --xr-background-color-row-odd: #313131;\n}\n\n.xr-wrap {\n  display: block;\n  min-width: 300px;\n  max-width: 700px;\n}\n\n.xr-text-repr-fallback {\n  /* fallback to plain text repr when CSS is not injected (untrusted notebook) */\n  display: none;\n}\n\n.xr-header {\n  padding-top: 6px;\n  padding-bottom: 6px;\n  margin-bottom: 4px;\n  border-bottom: solid 1px var(--xr-border-color);\n}\n\n.xr-header > div,\n.xr-header > ul {\n  display: inline;\n  margin-top: 0;\n  margin-bottom: 0;\n}\n\n.xr-obj-type,\n.xr-array-name {\n  margin-left: 2px;\n  margin-right: 10px;\n}\n\n.xr-obj-type {\n  color: var(--xr-font-color2);\n}\n\n.xr-sections {\n  padding-left: 0 !important;\n  display: grid;\n  grid-template-columns: 150px auto auto 1fr 20px 20px;\n}\n\n.xr-section-item {\n  display: contents;\n}\n\n.xr-section-item input {\n  display: none;\n}\n\n.xr-section-item input + label {\n  color: var(--xr-disabled-color);\n}\n\n.xr-section-item input:enabled + label {\n  cursor: pointer;\n  color: var(--xr-font-color2);\n}\n\n.xr-section-item input:enabled + label:hover {\n  color: var(--xr-font-color0);\n}\n\n.xr-section-summary {\n  grid-column: 1;\n  color: var(--xr-font-color2);\n  font-weight: 500;\n}\n\n.xr-section-summary > span {\n  display: inline-block;\n  padding-left: 0.5em;\n}\n\n.xr-section-summary-in:disabled + label {\n  color: var(--xr-font-color2);\n}\n\n.xr-section-summary-in + label:before {\n  display: inline-block;\n  content: '►';\n  font-size: 11px;\n  width: 15px;\n  text-align: center;\n}\n\n.xr-section-summary-in:disabled + label:before {\n  color: var(--xr-disabled-color);\n}\n\n.xr-section-summary-in:checked + label:before {\n  content: '▼';\n}\n\n.xr-section-summary-in:checked + label > span {\n  display: none;\n}\n\n.xr-section-summary,\n.xr-section-inline-details {\n  padding-top: 4px;\n  padding-bottom: 4px;\n}\n\n.xr-section-inline-details {\n  grid-column: 2 / -1;\n}\n\n.xr-section-details {\n  display: none;\n  grid-column: 1 / -1;\n  margin-bottom: 5px;\n}\n\n.xr-section-summary-in:checked ~ .xr-section-details {\n  display: contents;\n}\n\n.xr-array-wrap {\n  grid-column: 1 / -1;\n  display: grid;\n  grid-template-columns: 20px auto;\n}\n\n.xr-array-wrap > label {\n  grid-column: 1;\n  vertical-align: top;\n}\n\n.xr-preview {\n  color: var(--xr-font-color3);\n}\n\n.xr-array-preview,\n.xr-array-data {\n  padding: 0 5px !important;\n  grid-column: 2;\n}\n\n.xr-array-data,\n.xr-array-in:checked ~ .xr-array-preview {\n  display: none;\n}\n\n.xr-array-in:checked ~ .xr-array-data,\n.xr-array-preview {\n  display: inline-block;\n}\n\n.xr-dim-list {\n  display: inline-block !important;\n  list-style: none;\n  padding: 0 !important;\n  margin: 0;\n}\n\n.xr-dim-list li {\n  display: inline-block;\n  padding: 0;\n  margin: 0;\n}\n\n.xr-dim-list:before {\n  content: '(';\n}\n\n.xr-dim-list:after {\n  content: ')';\n}\n\n.xr-dim-list li:not(:last-child):after {\n  content: ',';\n  padding-right: 5px;\n}\n\n.xr-has-index {\n  font-weight: bold;\n}\n\n.xr-var-list,\n.xr-var-item {\n  display: contents;\n}\n\n.xr-var-item > div,\n.xr-var-item label,\n.xr-var-item > .xr-var-name span {\n  background-color: var(--xr-background-color-row-even);\n  margin-bottom: 0;\n}\n\n.xr-var-item > .xr-var-name:hover span {\n  padding-right: 5px;\n}\n\n.xr-var-list > li:nth-child(odd) > div,\n.xr-var-list > li:nth-child(odd) > label,\n.xr-var-list > li:nth-child(odd) > .xr-var-name span {\n  background-color: var(--xr-background-color-row-odd);\n}\n\n.xr-var-name {\n  grid-column: 1;\n}\n\n.xr-var-dims {\n  grid-column: 2;\n}\n\n.xr-var-dtype {\n  grid-column: 3;\n  text-align: right;\n  color: var(--xr-font-color2);\n}\n\n.xr-var-preview {\n  grid-column: 4;\n}\n\n.xr-var-name,\n.xr-var-dims,\n.xr-var-dtype,\n.xr-preview,\n.xr-attrs dt {\n  white-space: nowrap;\n  overflow: hidden;\n  text-overflow: ellipsis;\n  padding-right: 10px;\n}\n\n.xr-var-name:hover,\n.xr-var-dims:hover,\n.xr-var-dtype:hover,\n.xr-attrs dt:hover {\n  overflow: visible;\n  width: auto;\n  z-index: 1;\n}\n\n.xr-var-attrs,\n.xr-var-data {\n  display: none;\n  background-color: var(--xr-background-color) !important;\n  padding-bottom: 5px !important;\n}\n\n.xr-var-attrs-in:checked ~ .xr-var-attrs,\n.xr-var-data-in:checked ~ .xr-var-data {\n  display: block;\n}\n\n.xr-var-data > table {\n  float: right;\n}\n\n.xr-var-name span,\n.xr-var-data,\n.xr-attrs {\n  padding-left: 25px !important;\n}\n\n.xr-attrs,\n.xr-var-attrs,\n.xr-var-data {\n  grid-column: 1 / -1;\n}\n\ndl.xr-attrs {\n  padding: 0;\n  margin: 0;\n  display: grid;\n  grid-template-columns: 125px auto;\n}\n\n.xr-attrs dt, dd {\n  padding: 0;\n  margin: 0;\n  float: left;\n  padding-right: 10px;\n  width: auto;\n}\n\n.xr-attrs dt {\n  font-weight: normal;\n  grid-column: 1;\n}\n\n.xr-attrs dt:hover span {\n  display: inline-block;\n  background: var(--xr-background-color);\n  padding-right: 10px;\n}\n\n.xr-attrs dd {\n  grid-column: 2;\n  white-space: pre-wrap;\n  word-break: break-all;\n}\n\n.xr-icon-database,\n.xr-icon-file-text2 {\n  display: inline-block;\n  vertical-align: middle;\n  width: 1em;\n  height: 1.5em !important;\n  stroke-width: 0;\n  stroke: currentColor;\n  fill: currentColor;\n}\n</style><pre class='xr-text-repr-fallback'>&lt;xarray.DataArray &#x27;dim_1&#x27; (dim_1: 2)&gt;\narray([&#x27;A&#x27;, &#x27;B&#x27;], dtype=object)\nCoordinates:\n  * dim_1    (dim_1) object &#x27;A&#x27; &#x27;B&#x27;</pre><div class='xr-wrap' hidden><div class='xr-header'><div class='xr-obj-type'>xarray.DataArray</div><div class='xr-array-name'>'dim_1'</div><ul class='xr-dim-list'><li><span class='xr-has-index'>dim_1</span>: 2</li></ul></div><ul class='xr-sections'><li class='xr-section-item'><div class='xr-array-wrap'><input id='section-4166c47f-1f86-45b8-ba58-02b887d9b580' class='xr-array-in' type='checkbox' checked><label for='section-4166c47f-1f86-45b8-ba58-02b887d9b580' title='Show/hide data repr'><svg class='icon xr-icon-database'><use xlink:href='#icon-database'></use></svg></label><div class='xr-array-preview xr-preview'><span>&#x27;A&#x27; &#x27;B&#x27;</span></div><div class='xr-array-data'><pre>array([&#x27;A&#x27;, &#x27;B&#x27;], dtype=object)</pre></div></div></li><li class='xr-section-item'><input id='section-7e42d642-47d3-4dd9-b236-03851eefb8c1' class='xr-section-summary-in' type='checkbox'  checked><label for='section-7e42d642-47d3-4dd9-b236-03851eefb8c1' class='xr-section-summary' >Coordinates: <span>(1)</span></label><div class='xr-section-inline-details'></div><div class='xr-section-details'><ul class='xr-var-list'><li class='xr-var-item'><div class='xr-var-name'><span class='xr-has-index'>dim_1</span></div><div class='xr-var-dims'>(dim_1)</div><div class='xr-var-dtype'>object</div><div class='xr-var-preview xr-preview'>&#x27;A&#x27; &#x27;B&#x27;</div><input id='attrs-6653721e-557b-4826-abdd-02a1cbb62aa3' class='xr-var-attrs-in' type='checkbox' disabled><label for='attrs-6653721e-557b-4826-abdd-02a1cbb62aa3' title='Show/Hide attributes'><svg class='icon xr-icon-file-text2'><use xlink:href='#icon-file-text2'></use></svg></label><input id='data-11b5ef5a-c6b4-4d85-bb93-dfa28c5dd966' class='xr-var-data-in' type='checkbox'><label for='data-11b5ef5a-c6b4-4d85-bb93-dfa28c5dd966' title='Show/Hide data repr'><svg class='icon xr-icon-database'><use xlink:href='#icon-database'></use></svg></label><div class='xr-var-attrs'><dl class='xr-attrs'></dl></div><div class='xr-var-data'><pre>array([&#x27;A&#x27;, &#x27;B&#x27;], dtype=object)</pre></div></li></ul></div></li><li class='xr-section-item'><input id='section-19f8266f-77e8-4878-988e-54aeab738a03' class='xr-section-summary-in' type='checkbox' disabled ><label for='section-19f8266f-77e8-4878-988e-54aeab738a03' class='xr-section-summary'  title='Expand/collapse section'>Attributes: <span>(0)</span></label><div class='xr-section-inline-details'></div><div class='xr-section-details'><dl class='xr-attrs'></dl></div></li></ul></div></div>"
     },
     "metadata": {},
     "execution_count": 35
    }
   ],
   "source": [
    "xarr.dim_1"
   ]
  },
  {
   "cell_type": "code",
   "execution_count": null,
   "metadata": {},
   "outputs": [],
   "source": []
  },
  {
   "cell_type": "code",
   "execution_count": null,
   "metadata": {},
   "outputs": [],
   "source": []
  },
  {
   "cell_type": "markdown",
   "metadata": {},
   "source": [
    "### more methods"
   ]
  },
  {
   "cell_type": "code",
   "execution_count": 36,
   "metadata": {},
   "outputs": [
    {
     "output_type": "execute_result",
     "data": {
      "text/plain": "1    3\n2    2\n4    1\n3    1\ndtype: int64"
     },
     "metadata": {},
     "execution_count": 36
    }
   ],
   "source": [
    "s = pd.Series([1, 2, 2, 1, 3, 4, 1])\n",
    "s.value_counts()  # count frequencies"
   ]
  },
  {
   "cell_type": "code",
   "execution_count": 37,
   "metadata": {},
   "outputs": [
    {
     "output_type": "execute_result",
     "data": {
      "text/plain": "[(1.0, 2.0], (0.0, 1.0], (1.0, 2.0], (0.0, 1.0], NaN, ..., NaN, (0.0, 1.0], (0.0, 1.0], (-1.0, 0.0], NaN]\nLength: 100\nCategories (4, interval[int64]): [(-2, -1] < (-1, 0] < (0, 1] < (1, 2]]"
     },
     "metadata": {},
     "execution_count": 37
    },
    {
     "output_type": "execute_result",
     "data": {
      "text/plain": "[(1.154, 1.493], (0.643, 0.768], (1.154, 1.493], (0.463, 0.643], (2.574, 3.34], ..., (1.998, 2.574], (0.463, 0.643], (0.643, 0.768], (-1.581, -0.251], (2.574, 3.34]]\nLength: 100\nCategories (10, interval[float64]): [(-1.581, -0.251] < (-0.251, 0.463] < (0.463, 0.643] < (0.643, 0.768] ... (1.493, 1.682] < (1.682, 1.998] < (1.998, 2.574] < (2.574, 3.34]]"
     },
     "metadata": {},
     "execution_count": 37
    }
   ],
   "source": [
    "# cut qcut\n",
    "arr = rng.normal(1, size=100)\n",
    "\n",
    "pd.cut(arr, [-2, -1, 0, 1, 2])  # specify bin for each value, arg = bin edges\n",
    "\n",
    "pd.qcut(arr, 10)  # same but bin edges are given by quantiles"
   ]
  },
  {
   "cell_type": "markdown",
   "metadata": {},
   "source": []
  },
  {
   "cell_type": "code",
   "execution_count": 38,
   "metadata": {},
   "outputs": [
    {
     "output_type": "execute_result",
     "data": {
      "text/plain": "                    0         1         2          3         4\nsum         13.025109  8.411693  9.925012  14.756594  9.220737\nmean         1.302511  0.841169  0.992501   1.475659  0.922074\n<lambda_0>   0.544793  0.634045  0.445146   0.373499  0.686650",
      "text/html": "<div>\n<style scoped>\n    .dataframe tbody tr th:only-of-type {\n        vertical-align: middle;\n    }\n\n    .dataframe tbody tr th {\n        vertical-align: top;\n    }\n\n    .dataframe thead th {\n        text-align: right;\n    }\n</style>\n<table border=\"1\" class=\"dataframe\">\n  <thead>\n    <tr style=\"text-align: right;\">\n      <th></th>\n      <th>0</th>\n      <th>1</th>\n      <th>2</th>\n      <th>3</th>\n      <th>4</th>\n    </tr>\n  </thead>\n  <tbody>\n    <tr>\n      <th>sum</th>\n      <td>13.025109</td>\n      <td>8.411693</td>\n      <td>9.925012</td>\n      <td>14.756594</td>\n      <td>9.220737</td>\n    </tr>\n    <tr>\n      <th>mean</th>\n      <td>1.302511</td>\n      <td>0.841169</td>\n      <td>0.992501</td>\n      <td>1.475659</td>\n      <td>0.922074</td>\n    </tr>\n    <tr>\n      <th>&lt;lambda_0&gt;</th>\n      <td>0.544793</td>\n      <td>0.634045</td>\n      <td>0.445146</td>\n      <td>0.373499</td>\n      <td>0.686650</td>\n    </tr>\n  </tbody>\n</table>\n</div>"
     },
     "metadata": {},
     "execution_count": 38
    },
    {
     "output_type": "execute_result",
     "data": {
      "text/plain": "2    0.992501\n4    0.686650\ndtype: float64"
     },
     "metadata": {},
     "execution_count": 38
    }
   ],
   "source": [
    "df = pd.DataFrame(rng.normal(1, size=(10, 5)))\n",
    "\n",
    "df.agg(['sum', 'mean', lambda x: x.sum()/(x**2).sum()])  # aggregation using specification or function\n",
    "\n",
    "df.agg({2: 'mean', 4: lambda x: x.sum()/(x**2).sum()})  # aggregation with dict (keys are some columns)"
   ]
  },
  {
   "cell_type": "code",
   "execution_count": 39,
   "metadata": {},
   "outputs": [
    {
     "output_type": "execute_result",
     "data": {
      "text/plain": "          0              1              2              3              4     \n   absolute sign  absolute sign  absolute sign  absolute sign  absolute sign\n0  0.358144  1.0  2.110127  1.0  0.358621  1.0  3.299538  1.0  0.790954  1.0\n1  2.097706  1.0  1.900722  1.0  0.660800 -1.0  0.400776  1.0  1.841167  1.0\n2  2.843530  1.0  0.685563  1.0  2.748780  1.0  3.584302  1.0  0.055578 -1.0\n3  0.780657  1.0  1.384621  1.0  2.406934  1.0  0.693069  1.0  0.902938  1.0\n4  1.702281  1.0  0.458253  1.0  1.852313  1.0  1.356744  1.0  1.750373  1.0\n5  1.039405  1.0  1.505367  1.0  1.967069  1.0  0.190454  1.0  0.497382 -1.0\n6  0.195020  1.0  0.056863  1.0  0.143962  1.0  0.759200 -1.0  1.411572  1.0\n7  1.394050  1.0  0.334310  1.0  0.335509  1.0  1.958699  1.0  0.964674  1.0\n8  2.115790  1.0  0.345799 -1.0  0.183553 -1.0  2.613877  1.0  1.311022  1.0\n9  0.498525  1.0  0.321666  1.0  0.956176  1.0  1.418336  1.0  0.800997  1.0",
      "text/html": "<div>\n<style scoped>\n    .dataframe tbody tr th:only-of-type {\n        vertical-align: middle;\n    }\n\n    .dataframe tbody tr th {\n        vertical-align: top;\n    }\n\n    .dataframe thead tr th {\n        text-align: left;\n    }\n</style>\n<table border=\"1\" class=\"dataframe\">\n  <thead>\n    <tr>\n      <th></th>\n      <th colspan=\"2\" halign=\"left\">0</th>\n      <th colspan=\"2\" halign=\"left\">1</th>\n      <th colspan=\"2\" halign=\"left\">2</th>\n      <th colspan=\"2\" halign=\"left\">3</th>\n      <th colspan=\"2\" halign=\"left\">4</th>\n    </tr>\n    <tr>\n      <th></th>\n      <th>absolute</th>\n      <th>sign</th>\n      <th>absolute</th>\n      <th>sign</th>\n      <th>absolute</th>\n      <th>sign</th>\n      <th>absolute</th>\n      <th>sign</th>\n      <th>absolute</th>\n      <th>sign</th>\n    </tr>\n  </thead>\n  <tbody>\n    <tr>\n      <th>0</th>\n      <td>0.358144</td>\n      <td>1.0</td>\n      <td>2.110127</td>\n      <td>1.0</td>\n      <td>0.358621</td>\n      <td>1.0</td>\n      <td>3.299538</td>\n      <td>1.0</td>\n      <td>0.790954</td>\n      <td>1.0</td>\n    </tr>\n    <tr>\n      <th>1</th>\n      <td>2.097706</td>\n      <td>1.0</td>\n      <td>1.900722</td>\n      <td>1.0</td>\n      <td>0.660800</td>\n      <td>-1.0</td>\n      <td>0.400776</td>\n      <td>1.0</td>\n      <td>1.841167</td>\n      <td>1.0</td>\n    </tr>\n    <tr>\n      <th>2</th>\n      <td>2.843530</td>\n      <td>1.0</td>\n      <td>0.685563</td>\n      <td>1.0</td>\n      <td>2.748780</td>\n      <td>1.0</td>\n      <td>3.584302</td>\n      <td>1.0</td>\n      <td>0.055578</td>\n      <td>-1.0</td>\n    </tr>\n    <tr>\n      <th>3</th>\n      <td>0.780657</td>\n      <td>1.0</td>\n      <td>1.384621</td>\n      <td>1.0</td>\n      <td>2.406934</td>\n      <td>1.0</td>\n      <td>0.693069</td>\n      <td>1.0</td>\n      <td>0.902938</td>\n      <td>1.0</td>\n    </tr>\n    <tr>\n      <th>4</th>\n      <td>1.702281</td>\n      <td>1.0</td>\n      <td>0.458253</td>\n      <td>1.0</td>\n      <td>1.852313</td>\n      <td>1.0</td>\n      <td>1.356744</td>\n      <td>1.0</td>\n      <td>1.750373</td>\n      <td>1.0</td>\n    </tr>\n    <tr>\n      <th>5</th>\n      <td>1.039405</td>\n      <td>1.0</td>\n      <td>1.505367</td>\n      <td>1.0</td>\n      <td>1.967069</td>\n      <td>1.0</td>\n      <td>0.190454</td>\n      <td>1.0</td>\n      <td>0.497382</td>\n      <td>-1.0</td>\n    </tr>\n    <tr>\n      <th>6</th>\n      <td>0.195020</td>\n      <td>1.0</td>\n      <td>0.056863</td>\n      <td>1.0</td>\n      <td>0.143962</td>\n      <td>1.0</td>\n      <td>0.759200</td>\n      <td>-1.0</td>\n      <td>1.411572</td>\n      <td>1.0</td>\n    </tr>\n    <tr>\n      <th>7</th>\n      <td>1.394050</td>\n      <td>1.0</td>\n      <td>0.334310</td>\n      <td>1.0</td>\n      <td>0.335509</td>\n      <td>1.0</td>\n      <td>1.958699</td>\n      <td>1.0</td>\n      <td>0.964674</td>\n      <td>1.0</td>\n    </tr>\n    <tr>\n      <th>8</th>\n      <td>2.115790</td>\n      <td>1.0</td>\n      <td>0.345799</td>\n      <td>-1.0</td>\n      <td>0.183553</td>\n      <td>-1.0</td>\n      <td>2.613877</td>\n      <td>1.0</td>\n      <td>1.311022</td>\n      <td>1.0</td>\n    </tr>\n    <tr>\n      <th>9</th>\n      <td>0.498525</td>\n      <td>1.0</td>\n      <td>0.321666</td>\n      <td>1.0</td>\n      <td>0.956176</td>\n      <td>1.0</td>\n      <td>1.418336</td>\n      <td>1.0</td>\n      <td>0.800997</td>\n      <td>1.0</td>\n    </tr>\n  </tbody>\n</table>\n</div>"
     },
     "metadata": {},
     "execution_count": 39
    }
   ],
   "source": [
    "# transform : with 1 function similar to ufunc, with multiple functions : multiindex is returned\n",
    "df.transform([np.abs, np.sign])  "
   ]
  },
  {
   "cell_type": "code",
   "execution_count": 40,
   "metadata": {},
   "outputs": [
    {
     "output_type": "execute_result",
     "data": {
      "text/plain": "e    0.721702\nb   -0.102135\nf         NaN\nd    1.505692\ndtype: float64"
     },
     "metadata": {},
     "execution_count": 40
    },
    {
     "output_type": "execute_result",
     "data": {
      "text/plain": "a  0   -1.764375\nb  1   -0.102135\nc  2    0.582604\nd  3    1.505692\ne  4    0.721702\ndtype: float64"
     },
     "metadata": {},
     "execution_count": 40
    },
    {
     "output_type": "execute_result",
     "data": {
      "text/plain": "d  3    1.505692\ndtype: float64"
     },
     "metadata": {},
     "execution_count": 40
    }
   ],
   "source": [
    "s = pd.Series(rng.standard_normal(size=5), index=['a', 'b', 'c', 'd', 'e'])\n",
    "\n",
    "s.reindex(['e', 'b', 'f', 'd'])\n",
    "#s.loc[['e', 'b', 'f', 'd']]  # this won't work\n",
    "\n",
    "s.index = pd.MultiIndex.from_tuples(zip(s.index, range(5)))\n",
    "s\n",
    "s.loc[(['e', 'b', 'f', 'd'], 3)]  # for multiindex loc - this call won't complain about missing value 'f', would return empty Series if just 'f' passed"
   ]
  },
  {
   "cell_type": "code",
   "execution_count": 41,
   "metadata": {},
   "outputs": [
    {
     "output_type": "execute_result",
     "data": {
      "text/plain": "a  0   -1.764375\nb  1   -0.102135\nc  2    0.582604\ndtype: float64"
     },
     "metadata": {},
     "execution_count": 41
    }
   ],
   "source": [
    "s.reindex_like(s.iloc[:3])"
   ]
  },
  {
   "cell_type": "code",
   "execution_count": 42,
   "metadata": {},
   "outputs": [
    {
     "output_type": "execute_result",
     "data": {
      "text/plain": "(a   -0.276867\n b    1.574290\n c    1.221033\n d    0.137324\n e         NaN\n dtype: float64,\n a         NaN\n b    1.574290\n c    1.221033\n d    0.137324\n e    0.332072\n dtype: float64)"
     },
     "metadata": {},
     "execution_count": 42
    },
    {
     "output_type": "execute_result",
     "data": {
      "text/plain": "(b    1.574290\n c    1.221033\n d    0.137324\n dtype: float64,\n b    1.574290\n c    1.221033\n d    0.137324\n dtype: float64)"
     },
     "metadata": {},
     "execution_count": 42
    },
    {
     "output_type": "execute_result",
     "data": {
      "text/plain": "(a   -0.276867\n b    1.574290\n c    1.221033\n d    0.137324\n dtype: float64,\n a         NaN\n b    1.574290\n c    1.221033\n d    0.137324\n dtype: float64)"
     },
     "metadata": {},
     "execution_count": 42
    }
   ],
   "source": [
    "# aligning\n",
    "\n",
    "s = pd.Series(np.random.randn(5), index=['a', 'b', 'c', 'd', 'e'])\n",
    "s1 = s[:4]\n",
    "s2 = s[1:]\n",
    "\n",
    "s1.align(s2)\n",
    "s1.align(s2, join='inner')  # index intersection\n",
    "s1.align(s2, join='left')  # index from s1"
   ]
  },
  {
   "cell_type": "code",
   "execution_count": 43,
   "metadata": {},
   "outputs": [
    {
     "output_type": "execute_result",
     "data": {
      "text/plain": "0    1.0\n1    2.0\n2    3.0\n3    NaN\n4    NaN\n5    NaN\n6    3.0\n7    2.0\n8    NaN\ndtype: float64"
     },
     "metadata": {},
     "execution_count": 43
    },
    {
     "output_type": "execute_result",
     "data": {
      "text/plain": "0    1.0\n1    2.0\n2    3.0\n3    3.0\n4    3.0\n5    NaN\n6    3.0\n7    2.0\n8    2.0\ndtype: float64"
     },
     "metadata": {},
     "execution_count": 43
    }
   ],
   "source": [
    "s = pd.Series([1, 2, 3, np.nan, np.nan, np.nan, 3, 2, np.nan])\n",
    "s\n",
    "\n",
    "s.ffill(limit=2)  # ffill max, limit specifies the max ffill horizon\n",
    "# tolerance argument specifies the max index distance for ffill"
   ]
  },
  {
   "cell_type": "code",
   "execution_count": 32,
   "metadata": {},
   "outputs": [
    {
     "output_type": "execute_result",
     "data": {
      "text/plain": "Index(['a', 'd'], dtype='object')"
     },
     "metadata": {},
     "execution_count": 32
    },
    {
     "output_type": "execute_result",
     "data": {
      "text/plain": "Index(['b', 'c', 'e'], dtype='object')"
     },
     "metadata": {},
     "execution_count": 32
    }
   ],
   "source": []
  },
  {
   "cell_type": "code",
   "execution_count": 44,
   "metadata": {},
   "outputs": [
    {
     "output_type": "execute_result",
     "data": {
      "text/plain": "A    0\nB    0\nC    0\nD    0\nE    0\ndtype: int64"
     },
     "metadata": {},
     "execution_count": 44
    },
    {
     "output_type": "execute_result",
     "data": {
      "text/plain": "1    0\n2    0\nc    0\nd    0\ne    0\ndtype: int64"
     },
     "metadata": {},
     "execution_count": 44
    }
   ],
   "source": [
    "s = pd.Series(0, index=list('abcde'))\n",
    "s.rename(str.upper)  # rename take a function to be applied to index, cols, or a dict#\n",
    "s.rename({'a': 1, 'b': 2})"
   ]
  },
  {
   "cell_type": "markdown",
   "metadata": {},
   "source": [
    "* iterating through pandas rows or columns is generally quite slow\n",
    "* never modify a df while iterating over it"
   ]
  },
  {
   "cell_type": "code",
   "execution_count": 45,
   "metadata": {
    "tags": []
   },
   "outputs": [
    {
     "output_type": "stream",
     "name": "stdout",
     "text": "0 -0.14679375166518555\n1 0.36812396565892314\n2 -1.548684853154456\n3 0.33190554799829286\n4 -0.9787317539279442\n5 0.6452847078690606\n6 1.4936863077795022\n7 1.1510284517405411\n8 -0.2843230817504125\n9 -0.7222785609058526\n\n\nA -0.14679375166518555\nB -0.25484794018001033\nC 0.01978932911149114\nD 0.4975885345607593\nE 0.5686599430480725\n"
    }
   ],
   "source": [
    "df = pd.DataFrame(rng.standard_normal(size=(10, 5)), columns=list('ABCDE'))\n",
    "\n",
    "for idx, row in df.iterrows():\n",
    "    print(idx, row['A'])\n",
    "\n",
    "print('\\n')\n",
    "\n",
    "for col, ser in df.items():\n",
    "    print(col, ser[0])\n"
   ]
  },
  {
   "cell_type": "code",
   "execution_count": 46,
   "metadata": {},
   "outputs": [
    {
     "output_type": "execute_result",
     "data": {
      "text/plain": "0    a\n1    b\n2    c\ndtype: object"
     },
     "metadata": {},
     "execution_count": 46
    },
    {
     "output_type": "execute_result",
     "data": {
      "text/plain": "0    A\n1    B\n2    C\ndtype: object"
     },
     "metadata": {},
     "execution_count": 46
    },
    {
     "output_type": "execute_result",
     "data": {
      "text/plain": "0    0\n1    0\n2    0\ndtype: int64"
     },
     "metadata": {},
     "execution_count": 46
    }
   ],
   "source": [
    "# special accessors\n",
    "s = pd.Series(['a', 'b', 'c'])\n",
    "s\n",
    "s.str.upper()  # str methods\n",
    "\n",
    "s = pd.Series(pd.date_range('2020-01-01', '2020-01-03'))\n",
    "s.dt.hour  # datetime methods"
   ]
  },
  {
   "cell_type": "code",
   "execution_count": 47,
   "metadata": {},
   "outputs": [
    {
     "output_type": "execute_result",
     "data": {
      "text/plain": "0   2020-01-01 00:00:00+00:00\n1   2020-01-02 00:00:00+00:00\n2   2020-01-03 00:00:00+00:00\ndtype: datetime64[ns, UTC]"
     },
     "metadata": {},
     "execution_count": 47
    },
    {
     "output_type": "execute_result",
     "data": {
      "text/plain": "array(['2020-01-01T00:00:00.000000000', '2020-01-02T00:00:00.000000000',\n       '2020-01-03T00:00:00.000000000'], dtype='datetime64[ns]')"
     },
     "metadata": {},
     "execution_count": 47
    }
   ],
   "source": [
    "s.dt.tz_localize('UTC')\n",
    "s.to_numpy()"
   ]
  },
  {
   "cell_type": "markdown",
   "metadata": {},
   "source": [
    "pandas mostly uses dtype from numpy"
   ]
  },
  {
   "cell_type": "code",
   "execution_count": 48,
   "metadata": {},
   "outputs": [
    {
     "output_type": "execute_result",
     "data": {
      "text/plain": "A    float16\nB    float64\nC      uint8\ndtype: object"
     },
     "metadata": {},
     "execution_count": 48
    }
   ],
   "source": [
    "df2 = pd.DataFrame({'A': pd.Series(np.random.randn(8), dtype='float16'),\n",
    " 'B': pd.Series(np.random.randn(8)),\n",
    " 'C': pd.Series(np.array(np.random.randn(8),\n",
    " dtype='uint8'))})\n",
    "\n",
    "df2.dtypes  # dtypes are preserved "
   ]
  },
  {
   "cell_type": "markdown",
   "metadata": {},
   "source": [
    "### indexing"
   ]
  },
  {
   "cell_type": "markdown",
   "metadata": {},
   "source": [
    "### merge, join, concatenate"
   ]
  },
  {
   "cell_type": "code",
   "execution_count": 38,
   "metadata": {},
   "outputs": [
    {
     "output_type": "execute_result",
     "data": {
      "text/plain": "          A         B         C         D         E\n3 -0.425278  0.340483 -0.595250  0.140818 -1.760717\n4  0.812940 -1.669278  1.258363 -1.730505  0.118990\n1 -0.040219 -2.567358  0.248036 -0.607400  0.261512\n2 -0.878274  0.131925  1.054028 -1.370730 -0.605432\n0 -0.867174  0.097179  1.101313  0.612201 -0.338587",
      "text/html": "<div>\n<style scoped>\n    .dataframe tbody tr th:only-of-type {\n        vertical-align: middle;\n    }\n\n    .dataframe tbody tr th {\n        vertical-align: top;\n    }\n\n    .dataframe thead th {\n        text-align: right;\n    }\n</style>\n<table border=\"1\" class=\"dataframe\">\n  <thead>\n    <tr style=\"text-align: right;\">\n      <th></th>\n      <th>A</th>\n      <th>B</th>\n      <th>C</th>\n      <th>D</th>\n      <th>E</th>\n    </tr>\n  </thead>\n  <tbody>\n    <tr>\n      <th>3</th>\n      <td>-0.425278</td>\n      <td>0.340483</td>\n      <td>-0.595250</td>\n      <td>0.140818</td>\n      <td>-1.760717</td>\n    </tr>\n    <tr>\n      <th>4</th>\n      <td>0.812940</td>\n      <td>-1.669278</td>\n      <td>1.258363</td>\n      <td>-1.730505</td>\n      <td>0.118990</td>\n    </tr>\n    <tr>\n      <th>1</th>\n      <td>-0.040219</td>\n      <td>-2.567358</td>\n      <td>0.248036</td>\n      <td>-0.607400</td>\n      <td>0.261512</td>\n    </tr>\n    <tr>\n      <th>2</th>\n      <td>-0.878274</td>\n      <td>0.131925</td>\n      <td>1.054028</td>\n      <td>-1.370730</td>\n      <td>-0.605432</td>\n    </tr>\n    <tr>\n      <th>0</th>\n      <td>-0.867174</td>\n      <td>0.097179</td>\n      <td>1.101313</td>\n      <td>0.612201</td>\n      <td>-0.338587</td>\n    </tr>\n  </tbody>\n</table>\n</div>"
     },
     "metadata": {},
     "execution_count": 38
    },
    {
     "output_type": "execute_result",
     "data": {
      "text/plain": "            X                   Y                    \n            A         B         C         D         E\n3 0  0.313713 -0.110327 -0.629369 -0.745841 -0.007229\n4 1 -0.069496 -1.452713  1.624539  0.185257  0.413964\n1 2  1.961134  0.228735  0.195359 -0.305363 -0.128920\n2 3  0.980989  0.296938  1.368777 -0.626953  0.248130\n0 4 -0.338303 -2.006355  0.740023 -0.123068  0.259910",
      "text/html": "<div>\n<style scoped>\n    .dataframe tbody tr th:only-of-type {\n        vertical-align: middle;\n    }\n\n    .dataframe tbody tr th {\n        vertical-align: top;\n    }\n\n    .dataframe thead tr th {\n        text-align: left;\n    }\n</style>\n<table border=\"1\" class=\"dataframe\">\n  <thead>\n    <tr>\n      <th></th>\n      <th></th>\n      <th colspan=\"2\" halign=\"left\">X</th>\n      <th colspan=\"3\" halign=\"left\">Y</th>\n    </tr>\n    <tr>\n      <th></th>\n      <th></th>\n      <th>A</th>\n      <th>B</th>\n      <th>C</th>\n      <th>D</th>\n      <th>E</th>\n    </tr>\n  </thead>\n  <tbody>\n    <tr>\n      <th>3</th>\n      <th>0</th>\n      <td>0.313713</td>\n      <td>-0.110327</td>\n      <td>-0.629369</td>\n      <td>-0.745841</td>\n      <td>-0.007229</td>\n    </tr>\n    <tr>\n      <th>4</th>\n      <th>1</th>\n      <td>-0.069496</td>\n      <td>-1.452713</td>\n      <td>1.624539</td>\n      <td>0.185257</td>\n      <td>0.413964</td>\n    </tr>\n    <tr>\n      <th>1</th>\n      <th>2</th>\n      <td>1.961134</td>\n      <td>0.228735</td>\n      <td>0.195359</td>\n      <td>-0.305363</td>\n      <td>-0.128920</td>\n    </tr>\n    <tr>\n      <th>2</th>\n      <th>3</th>\n      <td>0.980989</td>\n      <td>0.296938</td>\n      <td>1.368777</td>\n      <td>-0.626953</td>\n      <td>0.248130</td>\n    </tr>\n    <tr>\n      <th>0</th>\n      <th>4</th>\n      <td>-0.338303</td>\n      <td>-2.006355</td>\n      <td>0.740023</td>\n      <td>-0.123068</td>\n      <td>0.259910</td>\n    </tr>\n  </tbody>\n</table>\n</div>"
     },
     "metadata": {},
     "execution_count": 38
    }
   ],
   "source": []
  },
  {
   "cell_type": "code",
   "execution_count": 49,
   "metadata": {},
   "outputs": [
    {
     "output_type": "execute_result",
     "data": {
      "text/plain": "0   -0.146794\n1    0.368124\n2   -1.548685\n3    0.331906\n4   -0.978732\n5    0.645285\n6    1.493686\n7    1.151028\n8   -0.284323\n9   -0.722279\nName: A, dtype: float64"
     },
     "metadata": {},
     "execution_count": 49
    },
    {
     "output_type": "execute_result",
     "data": {
      "text/plain": "A   -1.548685\nB    0.402558\nC    1.252560\nD   -1.290878\nE   -0.356688\nName: 2, dtype: float64"
     },
     "metadata": {},
     "execution_count": 49
    }
   ],
   "source": [
    "df['A']\n",
    "df.loc[2]"
   ]
  },
  {
   "cell_type": "code",
   "execution_count": 50,
   "metadata": {},
   "outputs": [
    {
     "output_type": "execute_result",
     "data": {
      "text/plain": "            A         B\na 0  1.092035  1.154421\nb 1 -0.026844 -0.944534\na 2 -1.982865  0.304443\nb 3  1.092661 -0.179011\n  4  0.938481  0.754514",
      "text/html": "<div>\n<style scoped>\n    .dataframe tbody tr th:only-of-type {\n        vertical-align: middle;\n    }\n\n    .dataframe tbody tr th {\n        vertical-align: top;\n    }\n\n    .dataframe thead th {\n        text-align: right;\n    }\n</style>\n<table border=\"1\" class=\"dataframe\">\n  <thead>\n    <tr style=\"text-align: right;\">\n      <th></th>\n      <th></th>\n      <th>A</th>\n      <th>B</th>\n    </tr>\n  </thead>\n  <tbody>\n    <tr>\n      <th>a</th>\n      <th>0</th>\n      <td>1.092035</td>\n      <td>1.154421</td>\n    </tr>\n    <tr>\n      <th>b</th>\n      <th>1</th>\n      <td>-0.026844</td>\n      <td>-0.944534</td>\n    </tr>\n    <tr>\n      <th>a</th>\n      <th>2</th>\n      <td>-1.982865</td>\n      <td>0.304443</td>\n    </tr>\n    <tr>\n      <th rowspan=\"2\" valign=\"top\">b</th>\n      <th>3</th>\n      <td>1.092661</td>\n      <td>-0.179011</td>\n    </tr>\n    <tr>\n      <th>4</th>\n      <td>0.938481</td>\n      <td>0.754514</td>\n    </tr>\n  </tbody>\n</table>\n</div>"
     },
     "metadata": {},
     "execution_count": 50
    },
    {
     "output_type": "execute_result",
     "data": {
      "text/plain": "a  0    1.092035\nb  1   -0.026844\na  2   -1.982865\nb  3    1.092661\n   4    0.938481\nName: (X, A), dtype: float64"
     },
     "metadata": {},
     "execution_count": 50
    },
    {
     "output_type": "execute_result",
     "data": {
      "text/plain": "Empty DataFrame\nColumns: []\nIndex: [(a, 0), (b, 1), (a, 2), (b, 3), (b, 4)]",
      "text/html": "<div>\n<style scoped>\n    .dataframe tbody tr th:only-of-type {\n        vertical-align: middle;\n    }\n\n    .dataframe tbody tr th {\n        vertical-align: top;\n    }\n\n    .dataframe thead tr th {\n        text-align: left;\n    }\n</style>\n<table border=\"1\" class=\"dataframe\">\n  <thead>\n  </thead>\n  <tbody>\n    <tr>\n      <th>a</th>\n      <th>0</th>\n    </tr>\n    <tr>\n      <th>b</th>\n      <th>1</th>\n    </tr>\n    <tr>\n      <th>a</th>\n      <th>2</th>\n    </tr>\n    <tr>\n      <th rowspan=\"2\" valign=\"top\">b</th>\n      <th>3</th>\n    </tr>\n    <tr>\n      <th>4</th>\n    </tr>\n  </tbody>\n</table>\n</div>"
     },
     "metadata": {},
     "execution_count": 50
    }
   ],
   "source": [
    "dfmi['X']\n",
    "\n",
    "# dfmi['W']  # key error\n",
    "\n",
    "dfmi[('X', 'A')]  \n",
    "#dfmi[('W', 'A')]  # won't work, key error\n",
    "\n",
    "dfmi.loc[:, (['W'], 'A')]  # returns empty df, despite missing col 'W', won't complain"
   ]
  },
  {
   "cell_type": "code",
   "execution_count": 51,
   "metadata": {},
   "outputs": [
    {
     "output_type": "execute_result",
     "data": {
      "text/plain": "     X            Y                    \n     A  B         C         D         E\na 0 -1 -1 -1.869839  1.131734 -0.065124\nb 1 -1 -1  0.870701 -0.546996 -0.018410\na 2 -1 -1  0.499251  0.493117  0.875559\nb 3 -1 -1 -0.477309  0.205240 -0.697787\n  4 -1 -1 -0.252500  0.896321 -0.502061",
      "text/html": "<div>\n<style scoped>\n    .dataframe tbody tr th:only-of-type {\n        vertical-align: middle;\n    }\n\n    .dataframe tbody tr th {\n        vertical-align: top;\n    }\n\n    .dataframe thead tr th {\n        text-align: left;\n    }\n</style>\n<table border=\"1\" class=\"dataframe\">\n  <thead>\n    <tr>\n      <th></th>\n      <th></th>\n      <th colspan=\"2\" halign=\"left\">X</th>\n      <th colspan=\"3\" halign=\"left\">Y</th>\n    </tr>\n    <tr>\n      <th></th>\n      <th></th>\n      <th>A</th>\n      <th>B</th>\n      <th>C</th>\n      <th>D</th>\n      <th>E</th>\n    </tr>\n  </thead>\n  <tbody>\n    <tr>\n      <th>a</th>\n      <th>0</th>\n      <td>-1</td>\n      <td>-1</td>\n      <td>-1.869839</td>\n      <td>1.131734</td>\n      <td>-0.065124</td>\n    </tr>\n    <tr>\n      <th>b</th>\n      <th>1</th>\n      <td>-1</td>\n      <td>-1</td>\n      <td>0.870701</td>\n      <td>-0.546996</td>\n      <td>-0.018410</td>\n    </tr>\n    <tr>\n      <th>a</th>\n      <th>2</th>\n      <td>-1</td>\n      <td>-1</td>\n      <td>0.499251</td>\n      <td>0.493117</td>\n      <td>0.875559</td>\n    </tr>\n    <tr>\n      <th rowspan=\"2\" valign=\"top\">b</th>\n      <th>3</th>\n      <td>-1</td>\n      <td>-1</td>\n      <td>-0.477309</td>\n      <td>0.205240</td>\n      <td>-0.697787</td>\n    </tr>\n    <tr>\n      <th>4</th>\n      <td>-1</td>\n      <td>-1</td>\n      <td>-0.252500</td>\n      <td>0.896321</td>\n      <td>-0.502061</td>\n    </tr>\n  </tbody>\n</table>\n</div>"
     },
     "metadata": {},
     "execution_count": 51
    },
    {
     "output_type": "execute_result",
     "data": {
      "text/plain": "       X              Y                    \n       A    B         C         D         E\na 0  1.0  1.0 -1.869839  1.131734 -0.065124\nb 1  1.0  1.0  0.870701 -0.546996 -0.018410\na 2  1.0  1.0  0.499251  0.493117  0.875559\nb 3  1.0  1.0 -0.477309  0.205240 -0.697787\n  4  1.0  1.0 -0.252500  0.896321 -0.502061",
      "text/html": "<div>\n<style scoped>\n    .dataframe tbody tr th:only-of-type {\n        vertical-align: middle;\n    }\n\n    .dataframe tbody tr th {\n        vertical-align: top;\n    }\n\n    .dataframe thead tr th {\n        text-align: left;\n    }\n</style>\n<table border=\"1\" class=\"dataframe\">\n  <thead>\n    <tr>\n      <th></th>\n      <th></th>\n      <th colspan=\"2\" halign=\"left\">X</th>\n      <th colspan=\"3\" halign=\"left\">Y</th>\n    </tr>\n    <tr>\n      <th></th>\n      <th></th>\n      <th>A</th>\n      <th>B</th>\n      <th>C</th>\n      <th>D</th>\n      <th>E</th>\n    </tr>\n  </thead>\n  <tbody>\n    <tr>\n      <th>a</th>\n      <th>0</th>\n      <td>1.0</td>\n      <td>1.0</td>\n      <td>-1.869839</td>\n      <td>1.131734</td>\n      <td>-0.065124</td>\n    </tr>\n    <tr>\n      <th>b</th>\n      <th>1</th>\n      <td>1.0</td>\n      <td>1.0</td>\n      <td>0.870701</td>\n      <td>-0.546996</td>\n      <td>-0.018410</td>\n    </tr>\n    <tr>\n      <th>a</th>\n      <th>2</th>\n      <td>1.0</td>\n      <td>1.0</td>\n      <td>0.499251</td>\n      <td>0.493117</td>\n      <td>0.875559</td>\n    </tr>\n    <tr>\n      <th rowspan=\"2\" valign=\"top\">b</th>\n      <th>3</th>\n      <td>1.0</td>\n      <td>1.0</td>\n      <td>-0.477309</td>\n      <td>0.205240</td>\n      <td>-0.697787</td>\n    </tr>\n    <tr>\n      <th>4</th>\n      <td>1.0</td>\n      <td>1.0</td>\n      <td>-0.252500</td>\n      <td>0.896321</td>\n      <td>-0.502061</td>\n    </tr>\n  </tbody>\n</table>\n</div>"
     },
     "metadata": {},
     "execution_count": 51
    },
    {
     "output_type": "execute_result",
     "data": {
      "text/plain": "       X              Y                    \n       A    B         C         D         E\na 0  1.0  1.0 -1.869839  1.131734 -0.065124\nb 1  1.0  1.0  0.870701 -0.546996 -0.018410\na 2  1.0  1.0  0.499251  0.493117  0.875559\nb 3  1.0  1.0 -0.477309  0.205240 -0.697787\n  4  1.0  1.0 -0.252500  0.896321 -0.502061",
      "text/html": "<div>\n<style scoped>\n    .dataframe tbody tr th:only-of-type {\n        vertical-align: middle;\n    }\n\n    .dataframe tbody tr th {\n        vertical-align: top;\n    }\n\n    .dataframe thead tr th {\n        text-align: left;\n    }\n</style>\n<table border=\"1\" class=\"dataframe\">\n  <thead>\n    <tr>\n      <th></th>\n      <th></th>\n      <th colspan=\"2\" halign=\"left\">X</th>\n      <th colspan=\"3\" halign=\"left\">Y</th>\n    </tr>\n    <tr>\n      <th></th>\n      <th></th>\n      <th>A</th>\n      <th>B</th>\n      <th>C</th>\n      <th>D</th>\n      <th>E</th>\n    </tr>\n  </thead>\n  <tbody>\n    <tr>\n      <th>a</th>\n      <th>0</th>\n      <td>1.0</td>\n      <td>1.0</td>\n      <td>-1.869839</td>\n      <td>1.131734</td>\n      <td>-0.065124</td>\n    </tr>\n    <tr>\n      <th>b</th>\n      <th>1</th>\n      <td>1.0</td>\n      <td>1.0</td>\n      <td>0.870701</td>\n      <td>-0.546996</td>\n      <td>-0.018410</td>\n    </tr>\n    <tr>\n      <th>a</th>\n      <th>2</th>\n      <td>1.0</td>\n      <td>1.0</td>\n      <td>0.499251</td>\n      <td>0.493117</td>\n      <td>0.875559</td>\n    </tr>\n    <tr>\n      <th rowspan=\"2\" valign=\"top\">b</th>\n      <th>3</th>\n      <td>1.0</td>\n      <td>1.0</td>\n      <td>-0.477309</td>\n      <td>0.205240</td>\n      <td>-0.697787</td>\n    </tr>\n    <tr>\n      <th>4</th>\n      <td>1.0</td>\n      <td>1.0</td>\n      <td>-0.252500</td>\n      <td>0.896321</td>\n      <td>-0.502061</td>\n    </tr>\n  </tbody>\n</table>\n</div>"
     },
     "metadata": {},
     "execution_count": 51
    }
   ],
   "source": [
    "dfmi_c = dfmi.copy()\n",
    "dfmi_c.loc[:, ('X', slice('A', 'C'))] = -1  # use loc to assign\n",
    "dfmi_c\n",
    "\n",
    "dfmi_c = dfmi.copy()\n",
    "dfmi_c.loc[:, ('X', ['A', 'B'])] = np.ones((5, 2))  # use slice to assign to multiple MI cols\n",
    "dfmi_c\n",
    "\n",
    "dfmi_c = dfmi.copy()\n",
    "dfmi_c.loc[:, ('X', slice(None))] = np.ones((5, 2))  # slice(None) : assign to all\n",
    "dfmi_c"
   ]
  },
  {
   "cell_type": "code",
   "execution_count": 203,
   "metadata": {},
   "outputs": [
    {
     "output_type": "execute_result",
     "data": {
      "text/plain": "       X              Y                    \n       A    B         C         D         E\n4 0  1.0  1.0  0.850048 -0.288182 -0.239323\n0 1  1.0  1.0 -0.728966 -0.397659 -0.016662\n3 2  1.0  1.0  0.268244 -1.219105  1.102786\n1 3  1.0  1.0  1.484307  0.497070  1.877421\n2 4  1.0  1.0  0.585966  1.385612  1.515200",
      "text/html": "<div>\n<style scoped>\n    .dataframe tbody tr th:only-of-type {\n        vertical-align: middle;\n    }\n\n    .dataframe tbody tr th {\n        vertical-align: top;\n    }\n\n    .dataframe thead tr th {\n        text-align: left;\n    }\n</style>\n<table border=\"1\" class=\"dataframe\">\n  <thead>\n    <tr>\n      <th></th>\n      <th></th>\n      <th colspan=\"2\" halign=\"left\">X</th>\n      <th colspan=\"3\" halign=\"left\">Y</th>\n    </tr>\n    <tr>\n      <th></th>\n      <th></th>\n      <th>A</th>\n      <th>B</th>\n      <th>C</th>\n      <th>D</th>\n      <th>E</th>\n    </tr>\n  </thead>\n  <tbody>\n    <tr>\n      <th>4</th>\n      <th>0</th>\n      <td>1.0</td>\n      <td>1.0</td>\n      <td>0.850048</td>\n      <td>-0.288182</td>\n      <td>-0.239323</td>\n    </tr>\n    <tr>\n      <th>0</th>\n      <th>1</th>\n      <td>1.0</td>\n      <td>1.0</td>\n      <td>-0.728966</td>\n      <td>-0.397659</td>\n      <td>-0.016662</td>\n    </tr>\n    <tr>\n      <th>3</th>\n      <th>2</th>\n      <td>1.0</td>\n      <td>1.0</td>\n      <td>0.268244</td>\n      <td>-1.219105</td>\n      <td>1.102786</td>\n    </tr>\n    <tr>\n      <th>1</th>\n      <th>3</th>\n      <td>1.0</td>\n      <td>1.0</td>\n      <td>1.484307</td>\n      <td>0.497070</td>\n      <td>1.877421</td>\n    </tr>\n    <tr>\n      <th>2</th>\n      <th>4</th>\n      <td>1.0</td>\n      <td>1.0</td>\n      <td>0.585966</td>\n      <td>1.385612</td>\n      <td>1.515200</td>\n    </tr>\n  </tbody>\n</table>\n</div>"
     },
     "metadata": {},
     "execution_count": 203
    }
   ],
   "source": []
  },
  {
   "cell_type": "code",
   "execution_count": null,
   "metadata": {},
   "outputs": [],
   "source": []
  },
  {
   "cell_type": "code",
   "execution_count": null,
   "metadata": {},
   "outputs": [],
   "source": []
  },
  {
   "cell_type": "code",
   "execution_count": null,
   "metadata": {},
   "outputs": [],
   "source": []
  }
 ]
}