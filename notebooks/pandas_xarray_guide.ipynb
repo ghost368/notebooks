{
 "metadata": {
  "language_info": {
   "codemirror_mode": {
    "name": "ipython",
    "version": 3
   },
   "file_extension": ".py",
   "mimetype": "text/x-python",
   "name": "python",
   "nbconvert_exporter": "python",
   "pygments_lexer": "ipython3",
   "version": "3.8.5-final"
  },
  "orig_nbformat": 2,
  "kernelspec": {
   "name": "python_defaultSpec_1598608016573",
   "display_name": "Python 3.8.5 64-bit ('.env': conda)"
  }
 },
 "nbformat": 4,
 "nbformat_minor": 2,
 "cells": [
  {
   "cell_type": "code",
   "execution_count": 1,
   "metadata": {},
   "outputs": [],
   "source": [
    "from IPython.core.interactiveshell import InteractiveShell\n",
    "InteractiveShell.ast_node_interactivity = \"all\""
   ]
  },
  {
   "cell_type": "code",
   "execution_count": 2,
   "metadata": {},
   "outputs": [],
   "source": [
    "import pandas as pd\n",
    "import numpy as np\n",
    "import xarray as xr\n",
    "from numpy.random import default_rng\n",
    "rng = default_rng()"
   ]
  },
  {
   "cell_type": "code",
   "execution_count": 3,
   "metadata": {},
   "outputs": [],
   "source": [
    "# to show more columns (same for height and rows)\n",
    "pd.set_option('display.width', 100)\n",
    "pd.set_option('display.max_columns', 10)"
   ]
  },
  {
   "cell_type": "markdown",
   "metadata": {},
   "source": [
    "## array creation"
   ]
  },
  {
   "cell_type": "code",
   "execution_count": 4,
   "metadata": {},
   "outputs": [
    {
     "output_type": "execute_result",
     "data": {
      "text/plain": "0    0\n1    1\n2    2\n3    3\n4    4\n5    5\n6    6\n7    7\n8    8\n9    9\ndtype: int64"
     },
     "metadata": {},
     "execution_count": 4
    },
    {
     "output_type": "execute_result",
     "data": {
      "text/plain": "b    5\na    6\nc    7\ndtype: int64"
     },
     "metadata": {},
     "execution_count": 4
    },
    {
     "output_type": "execute_result",
     "data": {
      "text/plain": "   A    B         C\n0  1  2.0  b'Hello'\n1  2  3.0  b'World'",
      "text/html": "<div>\n<style scoped>\n    .dataframe tbody tr th:only-of-type {\n        vertical-align: middle;\n    }\n\n    .dataframe tbody tr th {\n        vertical-align: top;\n    }\n\n    .dataframe thead th {\n        text-align: right;\n    }\n</style>\n<table border=\"1\" class=\"dataframe\">\n  <thead>\n    <tr style=\"text-align: right;\">\n      <th></th>\n      <th>A</th>\n      <th>B</th>\n      <th>C</th>\n    </tr>\n  </thead>\n  <tbody>\n    <tr>\n      <th>0</th>\n      <td>1</td>\n      <td>2.0</td>\n      <td>b'Hello'</td>\n    </tr>\n    <tr>\n      <th>1</th>\n      <td>2</td>\n      <td>3.0</td>\n      <td>b'World'</td>\n    </tr>\n  </tbody>\n</table>\n</div>"
     },
     "metadata": {},
     "execution_count": 4
    },
    {
     "output_type": "execute_result",
     "data": {
      "text/plain": "       a              b      \n       b    a    c    a     b\nA B  1.0  4.0  5.0  8.0  10.0\n  C  2.0  3.0  6.0  7.0   NaN\n  D  NaN  NaN  NaN  NaN   9.0",
      "text/html": "<div>\n<style scoped>\n    .dataframe tbody tr th:only-of-type {\n        vertical-align: middle;\n    }\n\n    .dataframe tbody tr th {\n        vertical-align: top;\n    }\n\n    .dataframe thead tr th {\n        text-align: left;\n    }\n</style>\n<table border=\"1\" class=\"dataframe\">\n  <thead>\n    <tr>\n      <th></th>\n      <th></th>\n      <th colspan=\"3\" halign=\"left\">a</th>\n      <th colspan=\"2\" halign=\"left\">b</th>\n    </tr>\n    <tr>\n      <th></th>\n      <th></th>\n      <th>b</th>\n      <th>a</th>\n      <th>c</th>\n      <th>a</th>\n      <th>b</th>\n    </tr>\n  </thead>\n  <tbody>\n    <tr>\n      <th rowspan=\"3\" valign=\"top\">A</th>\n      <th>B</th>\n      <td>1.0</td>\n      <td>4.0</td>\n      <td>5.0</td>\n      <td>8.0</td>\n      <td>10.0</td>\n    </tr>\n    <tr>\n      <th>C</th>\n      <td>2.0</td>\n      <td>3.0</td>\n      <td>6.0</td>\n      <td>7.0</td>\n      <td>NaN</td>\n    </tr>\n    <tr>\n      <th>D</th>\n      <td>NaN</td>\n      <td>NaN</td>\n      <td>NaN</td>\n      <td>NaN</td>\n      <td>9.0</td>\n    </tr>\n  </tbody>\n</table>\n</div>"
     },
     "metadata": {},
     "execution_count": 4
    }
   ],
   "source": [
    "pd.Series(np.arange(10))\n",
    "\n",
    "# in the latest pandas version dict keys has order and are not sorted when pd.Series is created; but better to control for the order (since older versions might be used)\n",
    "pd.Series({'b': 5, 'a': 6, 'c': 7})\n",
    "\n",
    "# from record array\n",
    "data = np.zeros((2, ), dtype=[('A', 'i4'), ('B', 'f4'), ('C', 'a10')])\n",
    "data[:] = [(1, 2., 'Hello'), (2, 3., \"World\")]\n",
    "pd.DataFrame(data)\n",
    "\n",
    "# multiindex df from dict of tuples\n",
    "pd.DataFrame({('a', 'b'): {('A', 'B'): 1, ('A', 'C'): 2},\n",
    "    ('a', 'a'): {('A', 'C'): 3, ('A', 'B'): 4},\n",
    "    ('a', 'c'): {('A', 'B'): 5, ('A', 'C'): 6},\n",
    "    ('b', 'a'): {('A', 'C'): 7, ('A', 'B'): 8},\n",
    "    ('b', 'b'): {('A', 'D'): 9, ('A', 'B'): 10}})"
   ]
  },
  {
   "cell_type": "markdown",
   "metadata": {},
   "source": [
    "## dataframe structure"
   ]
  },
  {
   "cell_type": "code",
   "execution_count": 5,
   "metadata": {},
   "outputs": [
    {
     "output_type": "execute_result",
     "data": {
      "text/plain": "   seriesName\n0           1\n1           2\n2           3\n3           4",
      "text/html": "<div>\n<style scoped>\n    .dataframe tbody tr th:only-of-type {\n        vertical-align: middle;\n    }\n\n    .dataframe tbody tr th {\n        vertical-align: top;\n    }\n\n    .dataframe thead th {\n        text-align: right;\n    }\n</style>\n<table border=\"1\" class=\"dataframe\">\n  <thead>\n    <tr style=\"text-align: right;\">\n      <th></th>\n      <th>seriesName</th>\n    </tr>\n  </thead>\n  <tbody>\n    <tr>\n      <th>0</th>\n      <td>1</td>\n    </tr>\n    <tr>\n      <th>1</th>\n      <td>2</td>\n    </tr>\n    <tr>\n      <th>2</th>\n      <td>3</td>\n    </tr>\n    <tr>\n      <th>3</th>\n      <td>4</td>\n    </tr>\n  </tbody>\n</table>\n</div>"
     },
     "metadata": {},
     "execution_count": 5
    }
   ],
   "source": [
    "# index, columns, index.name, columns.name  \n",
    "\n",
    "s1 = pd.Series([1, 2, 3, 4])\n",
    "s1.name = 'seriesName'  # series name attribute\n",
    "s1.to_frame()  # name assigned to column name"
   ]
  },
  {
   "cell_type": "code",
   "execution_count": 6,
   "metadata": {},
   "outputs": [
    {
     "output_type": "execute_result",
     "data": {
      "text/plain": "A      int64\nB    float64\nC    float64\nD    float64\nE    float64\ndtype: object"
     },
     "metadata": {},
     "execution_count": 6
    }
   ],
   "source": [
    "df = pd.DataFrame(rng.standard_normal(size=(10, 5)), columns=list('ABCDE'))\n",
    "\n",
    "df.loc[:, 'A'] = df['A'].astype(int)\n",
    "df.dtypes  # each column has separate dtype\n",
    "\n",
    "arr = df.to_numpy()  # map to numpy array (new instead of .values)"
   ]
  },
  {
   "cell_type": "markdown",
   "metadata": {},
   "source": [
    "### instead of .values it's now recommended to use .to_numpy() or .array\n",
    "* .array will return ExtensionArray, while .to_numpy() will return the underlying numpy array\n",
    "* .to_numpy() will preserve the columns dtypes unlike .values\n",
    "* recommended to avoid .values"
   ]
  },
  {
   "cell_type": "markdown",
   "metadata": {},
   "source": [
    "### recommended to use numexpr and bottleneck libs together with pandas to improve performance"
   ]
  },
  {
   "cell_type": "markdown",
   "metadata": {},
   "source": [
    "### recommended to use method chaining via .pipe(..)\n",
    "Also recommended to use .apply(), .pipe(), assing() in chains"
   ]
  },
  {
   "cell_type": "code",
   "execution_count": 7,
   "metadata": {},
   "outputs": [
    {
     "output_type": "execute_result",
     "data": {
      "text/plain": "RangeIndex(start=0, stop=10, step=1)"
     },
     "metadata": {},
     "execution_count": 7
    },
    {
     "output_type": "execute_result",
     "data": {
      "text/plain": "dtype('int64')"
     },
     "metadata": {},
     "execution_count": 7
    },
    {
     "output_type": "execute_result",
     "data": {
      "text/plain": "Index(['a', 'd'], dtype='object')"
     },
     "metadata": {},
     "execution_count": 7
    },
    {
     "output_type": "execute_result",
     "data": {
      "text/plain": "Index(['b', 'c', 'e'], dtype='object')"
     },
     "metadata": {},
     "execution_count": 7
    }
   ],
   "source": [
    "df.index  # pd.Index object (enhanced ndarray)\n",
    "df.index.dtype  # also has dtype\n",
    "\n",
    "\n",
    "idx = pd.Index(list('abcde'))\n",
    "\n",
    "# set operations for index\n",
    "idx.intersection(['a', 'd', 'f'])\n",
    "idx.difference(['a', 'd', 'f'])"
   ]
  },
  {
   "cell_type": "markdown",
   "metadata": {},
   "source": [
    "## transforms"
   ]
  },
  {
   "cell_type": "code",
   "execution_count": 8,
   "metadata": {},
   "outputs": [
    {
     "output_type": "execute_result",
     "data": {
      "text/plain": "          A          B          C          D         E\n0  2.718282   0.929357   4.355270   1.598802  0.466404\n1  1.000000   1.176190  11.429937   1.518266  3.442129\n2  0.367879   5.436713   0.146708   2.523187  0.804224\n3  1.000000   0.723333   0.939666  12.573446  0.265868\n4  0.367879   0.355141   2.845751   0.557776  3.923175\n5  1.000000   0.251928   0.705121   0.407826  0.765101\n6  1.000000   0.814742   7.157554   0.576092  3.609155\n7  0.367879  10.789680   0.422208   1.916920  1.925600\n8  0.367879   0.233544   0.683013   5.067936  1.356913\n9  1.000000   0.811393   0.616263   1.566291  1.668159",
      "text/html": "<div>\n<style scoped>\n    .dataframe tbody tr th:only-of-type {\n        vertical-align: middle;\n    }\n\n    .dataframe tbody tr th {\n        vertical-align: top;\n    }\n\n    .dataframe thead th {\n        text-align: right;\n    }\n</style>\n<table border=\"1\" class=\"dataframe\">\n  <thead>\n    <tr style=\"text-align: right;\">\n      <th></th>\n      <th>A</th>\n      <th>B</th>\n      <th>C</th>\n      <th>D</th>\n      <th>E</th>\n    </tr>\n  </thead>\n  <tbody>\n    <tr>\n      <th>0</th>\n      <td>2.718282</td>\n      <td>0.929357</td>\n      <td>4.355270</td>\n      <td>1.598802</td>\n      <td>0.466404</td>\n    </tr>\n    <tr>\n      <th>1</th>\n      <td>1.000000</td>\n      <td>1.176190</td>\n      <td>11.429937</td>\n      <td>1.518266</td>\n      <td>3.442129</td>\n    </tr>\n    <tr>\n      <th>2</th>\n      <td>0.367879</td>\n      <td>5.436713</td>\n      <td>0.146708</td>\n      <td>2.523187</td>\n      <td>0.804224</td>\n    </tr>\n    <tr>\n      <th>3</th>\n      <td>1.000000</td>\n      <td>0.723333</td>\n      <td>0.939666</td>\n      <td>12.573446</td>\n      <td>0.265868</td>\n    </tr>\n    <tr>\n      <th>4</th>\n      <td>0.367879</td>\n      <td>0.355141</td>\n      <td>2.845751</td>\n      <td>0.557776</td>\n      <td>3.923175</td>\n    </tr>\n    <tr>\n      <th>5</th>\n      <td>1.000000</td>\n      <td>0.251928</td>\n      <td>0.705121</td>\n      <td>0.407826</td>\n      <td>0.765101</td>\n    </tr>\n    <tr>\n      <th>6</th>\n      <td>1.000000</td>\n      <td>0.814742</td>\n      <td>7.157554</td>\n      <td>0.576092</td>\n      <td>3.609155</td>\n    </tr>\n    <tr>\n      <th>7</th>\n      <td>0.367879</td>\n      <td>10.789680</td>\n      <td>0.422208</td>\n      <td>1.916920</td>\n      <td>1.925600</td>\n    </tr>\n    <tr>\n      <th>8</th>\n      <td>0.367879</td>\n      <td>0.233544</td>\n      <td>0.683013</td>\n      <td>5.067936</td>\n      <td>1.356913</td>\n    </tr>\n    <tr>\n      <th>9</th>\n      <td>1.000000</td>\n      <td>0.811393</td>\n      <td>0.616263</td>\n      <td>1.566291</td>\n      <td>1.668159</td>\n    </tr>\n  </tbody>\n</table>\n</div>"
     },
     "metadata": {},
     "execution_count": 8
    }
   ],
   "source": [
    "np.exp(df)  # numpy ufunc can be directly applied to dfs"
   ]
  },
  {
   "cell_type": "code",
   "execution_count": 9,
   "metadata": {},
   "outputs": [
    {
     "output_type": "execute_result",
     "data": {
      "text/plain": "     A         B         C         D         E\n0  1.0 -0.073262  1.471387  0.469255 -0.762704\n1  0.0  0.162280  2.436236  0.417569  1.236090\n2 -1.0  1.693175 -1.919308  0.925523 -0.217878\n3  0.0 -0.323886 -0.062231  2.531587 -1.324755\n4 -1.0 -1.035239  1.045827 -0.583797  1.366901\n5  0.0 -1.378611 -0.349386 -0.896914 -0.267747\n6  0.0 -0.204884  1.968168 -0.551488  1.283474\n7 -1.0  2.378590 -0.862257  0.650720  0.655238\n8 -1.0 -1.454385 -0.381242  1.622934  0.305212\n9  0.0 -0.209003 -0.484081  0.448711  0.511720",
      "text/html": "<div>\n<style scoped>\n    .dataframe tbody tr th:only-of-type {\n        vertical-align: middle;\n    }\n\n    .dataframe tbody tr th {\n        vertical-align: top;\n    }\n\n    .dataframe thead th {\n        text-align: right;\n    }\n</style>\n<table border=\"1\" class=\"dataframe\">\n  <thead>\n    <tr style=\"text-align: right;\">\n      <th></th>\n      <th>A</th>\n      <th>B</th>\n      <th>C</th>\n      <th>D</th>\n      <th>E</th>\n    </tr>\n  </thead>\n  <tbody>\n    <tr>\n      <th>0</th>\n      <td>1.0</td>\n      <td>-0.073262</td>\n      <td>1.471387</td>\n      <td>0.469255</td>\n      <td>-0.762704</td>\n    </tr>\n    <tr>\n      <th>1</th>\n      <td>0.0</td>\n      <td>0.162280</td>\n      <td>2.436236</td>\n      <td>0.417569</td>\n      <td>1.236090</td>\n    </tr>\n    <tr>\n      <th>2</th>\n      <td>-1.0</td>\n      <td>1.693175</td>\n      <td>-1.919308</td>\n      <td>0.925523</td>\n      <td>-0.217878</td>\n    </tr>\n    <tr>\n      <th>3</th>\n      <td>0.0</td>\n      <td>-0.323886</td>\n      <td>-0.062231</td>\n      <td>2.531587</td>\n      <td>-1.324755</td>\n    </tr>\n    <tr>\n      <th>4</th>\n      <td>-1.0</td>\n      <td>-1.035239</td>\n      <td>1.045827</td>\n      <td>-0.583797</td>\n      <td>1.366901</td>\n    </tr>\n    <tr>\n      <th>5</th>\n      <td>0.0</td>\n      <td>-1.378611</td>\n      <td>-0.349386</td>\n      <td>-0.896914</td>\n      <td>-0.267747</td>\n    </tr>\n    <tr>\n      <th>6</th>\n      <td>0.0</td>\n      <td>-0.204884</td>\n      <td>1.968168</td>\n      <td>-0.551488</td>\n      <td>1.283474</td>\n    </tr>\n    <tr>\n      <th>7</th>\n      <td>-1.0</td>\n      <td>2.378590</td>\n      <td>-0.862257</td>\n      <td>0.650720</td>\n      <td>0.655238</td>\n    </tr>\n    <tr>\n      <th>8</th>\n      <td>-1.0</td>\n      <td>-1.454385</td>\n      <td>-0.381242</td>\n      <td>1.622934</td>\n      <td>0.305212</td>\n    </tr>\n    <tr>\n      <th>9</th>\n      <td>0.0</td>\n      <td>-0.209003</td>\n      <td>-0.484081</td>\n      <td>0.448711</td>\n      <td>0.511720</td>\n    </tr>\n  </tbody>\n</table>\n</div>"
     },
     "metadata": {},
     "execution_count": 9
    }
   ],
   "source": [
    "df.pipe(np.exp).pipe(np.log)"
   ]
  },
  {
   "cell_type": "code",
   "execution_count": 10,
   "metadata": {},
   "outputs": [
    {
     "output_type": "execute_result",
     "data": {
      "text/plain": "0    2.104676\n1    4.252175\n2   -0.518489\n3    0.820716\n4   -0.206308\n5   -2.892658\n6    2.495271\n7    1.822291\n8   -0.907480\n9    0.267347\ndtype: float64"
     },
     "metadata": {},
     "execution_count": 10
    }
   ],
   "source": [
    "df.apply(np.sum, axis=1)  # apply function to rows/columns"
   ]
  },
  {
   "cell_type": "code",
   "execution_count": 11,
   "metadata": {},
   "outputs": [
    {
     "output_type": "execute_result",
     "data": {
      "text/plain": "   A         B         C         D         E\n0  1  0.005367  2.164978  0.220200  0.581717\n1  0  0.026335  5.935246  0.174364  1.527919\n2  1  2.866841  3.683745  0.856592  0.047471\n3  0  0.104902  0.003873  6.408933  1.754975\n4  1  1.071721  1.093754  0.340819  1.868419\n5  0  1.900568  0.122071  0.804455  0.071689\n6  0  0.041977  3.873687  0.304139  1.647305\n7  1  5.657691  0.743486  0.423436  0.429336\n8  1  2.115234  0.145345  2.633913  0.093155\n9  0  0.043682  0.234335  0.201341  0.261858",
      "text/html": "<div>\n<style scoped>\n    .dataframe tbody tr th:only-of-type {\n        vertical-align: middle;\n    }\n\n    .dataframe tbody tr th {\n        vertical-align: top;\n    }\n\n    .dataframe thead th {\n        text-align: right;\n    }\n</style>\n<table border=\"1\" class=\"dataframe\">\n  <thead>\n    <tr style=\"text-align: right;\">\n      <th></th>\n      <th>A</th>\n      <th>B</th>\n      <th>C</th>\n      <th>D</th>\n      <th>E</th>\n    </tr>\n  </thead>\n  <tbody>\n    <tr>\n      <th>0</th>\n      <td>1</td>\n      <td>0.005367</td>\n      <td>2.164978</td>\n      <td>0.220200</td>\n      <td>0.581717</td>\n    </tr>\n    <tr>\n      <th>1</th>\n      <td>0</td>\n      <td>0.026335</td>\n      <td>5.935246</td>\n      <td>0.174364</td>\n      <td>1.527919</td>\n    </tr>\n    <tr>\n      <th>2</th>\n      <td>1</td>\n      <td>2.866841</td>\n      <td>3.683745</td>\n      <td>0.856592</td>\n      <td>0.047471</td>\n    </tr>\n    <tr>\n      <th>3</th>\n      <td>0</td>\n      <td>0.104902</td>\n      <td>0.003873</td>\n      <td>6.408933</td>\n      <td>1.754975</td>\n    </tr>\n    <tr>\n      <th>4</th>\n      <td>1</td>\n      <td>1.071721</td>\n      <td>1.093754</td>\n      <td>0.340819</td>\n      <td>1.868419</td>\n    </tr>\n    <tr>\n      <th>5</th>\n      <td>0</td>\n      <td>1.900568</td>\n      <td>0.122071</td>\n      <td>0.804455</td>\n      <td>0.071689</td>\n    </tr>\n    <tr>\n      <th>6</th>\n      <td>0</td>\n      <td>0.041977</td>\n      <td>3.873687</td>\n      <td>0.304139</td>\n      <td>1.647305</td>\n    </tr>\n    <tr>\n      <th>7</th>\n      <td>1</td>\n      <td>5.657691</td>\n      <td>0.743486</td>\n      <td>0.423436</td>\n      <td>0.429336</td>\n    </tr>\n    <tr>\n      <th>8</th>\n      <td>1</td>\n      <td>2.115234</td>\n      <td>0.145345</td>\n      <td>2.633913</td>\n      <td>0.093155</td>\n    </tr>\n    <tr>\n      <th>9</th>\n      <td>0</td>\n      <td>0.043682</td>\n      <td>0.234335</td>\n      <td>0.201341</td>\n      <td>0.261858</td>\n    </tr>\n  </tbody>\n</table>\n</div>"
     },
     "metadata": {},
     "execution_count": 11
    }
   ],
   "source": [
    "df.applymap(lambda x: x**2)  # apply function individually to each element -- very slow! not recommended"
   ]
  },
  {
   "cell_type": "markdown",
   "metadata": {},
   "source": [
    "## indexing, queries, assignment"
   ]
  },
  {
   "cell_type": "code",
   "execution_count": 12,
   "metadata": {},
   "outputs": [
    {
     "output_type": "execute_result",
     "data": {
      "text/plain": "          A         B         C         D         E\n0 -0.587041 -1.421001  1.497859  1.027689  0.702617\n1 -0.896502  1.230444  0.792990 -1.539267  0.681518\n2  0.463917 -0.439513  1.296590 -0.584431 -0.026376\n3  0.290353 -0.533546 -0.530820 -0.288116 -0.028181\n4 -0.929810  1.313871 -0.028742  0.478155  0.784489",
      "text/html": "<div>\n<style scoped>\n    .dataframe tbody tr th:only-of-type {\n        vertical-align: middle;\n    }\n\n    .dataframe tbody tr th {\n        vertical-align: top;\n    }\n\n    .dataframe thead th {\n        text-align: right;\n    }\n</style>\n<table border=\"1\" class=\"dataframe\">\n  <thead>\n    <tr style=\"text-align: right;\">\n      <th></th>\n      <th>A</th>\n      <th>B</th>\n      <th>C</th>\n      <th>D</th>\n      <th>E</th>\n    </tr>\n  </thead>\n  <tbody>\n    <tr>\n      <th>0</th>\n      <td>-0.587041</td>\n      <td>-1.421001</td>\n      <td>1.497859</td>\n      <td>1.027689</td>\n      <td>0.702617</td>\n    </tr>\n    <tr>\n      <th>1</th>\n      <td>-0.896502</td>\n      <td>1.230444</td>\n      <td>0.792990</td>\n      <td>-1.539267</td>\n      <td>0.681518</td>\n    </tr>\n    <tr>\n      <th>2</th>\n      <td>0.463917</td>\n      <td>-0.439513</td>\n      <td>1.296590</td>\n      <td>-0.584431</td>\n      <td>-0.026376</td>\n    </tr>\n    <tr>\n      <th>3</th>\n      <td>0.290353</td>\n      <td>-0.533546</td>\n      <td>-0.530820</td>\n      <td>-0.288116</td>\n      <td>-0.028181</td>\n    </tr>\n    <tr>\n      <th>4</th>\n      <td>-0.929810</td>\n      <td>1.313871</td>\n      <td>-0.028742</td>\n      <td>0.478155</td>\n      <td>0.784489</td>\n    </tr>\n  </tbody>\n</table>\n</div>"
     },
     "metadata": {},
     "execution_count": 12
    },
    {
     "output_type": "execute_result",
     "data": {
      "text/plain": "            X                   Y                    \n            A         B         C         D         E\na 0  1.609335 -0.428890 -0.874882  1.653949 -0.159041\nb 1  1.522344  0.729334 -0.427182  1.439313 -0.989335\na 2  0.179010 -1.134496  0.000474 -0.325043 -0.536254\nb 3 -1.820980 -1.817040  1.102030  0.220951  2.631492\n  4  0.048260 -0.515004  0.546239  0.495834 -0.609241",
      "text/html": "<div>\n<style scoped>\n    .dataframe tbody tr th:only-of-type {\n        vertical-align: middle;\n    }\n\n    .dataframe tbody tr th {\n        vertical-align: top;\n    }\n\n    .dataframe thead tr th {\n        text-align: left;\n    }\n</style>\n<table border=\"1\" class=\"dataframe\">\n  <thead>\n    <tr>\n      <th></th>\n      <th></th>\n      <th colspan=\"2\" halign=\"left\">X</th>\n      <th colspan=\"3\" halign=\"left\">Y</th>\n    </tr>\n    <tr>\n      <th></th>\n      <th></th>\n      <th>A</th>\n      <th>B</th>\n      <th>C</th>\n      <th>D</th>\n      <th>E</th>\n    </tr>\n  </thead>\n  <tbody>\n    <tr>\n      <th>a</th>\n      <th>0</th>\n      <td>1.609335</td>\n      <td>-0.428890</td>\n      <td>-0.874882</td>\n      <td>1.653949</td>\n      <td>-0.159041</td>\n    </tr>\n    <tr>\n      <th>b</th>\n      <th>1</th>\n      <td>1.522344</td>\n      <td>0.729334</td>\n      <td>-0.427182</td>\n      <td>1.439313</td>\n      <td>-0.989335</td>\n    </tr>\n    <tr>\n      <th>a</th>\n      <th>2</th>\n      <td>0.179010</td>\n      <td>-1.134496</td>\n      <td>0.000474</td>\n      <td>-0.325043</td>\n      <td>-0.536254</td>\n    </tr>\n    <tr>\n      <th rowspan=\"2\" valign=\"top\">b</th>\n      <th>3</th>\n      <td>-1.820980</td>\n      <td>-1.817040</td>\n      <td>1.102030</td>\n      <td>0.220951</td>\n      <td>2.631492</td>\n    </tr>\n    <tr>\n      <th>4</th>\n      <td>0.048260</td>\n      <td>-0.515004</td>\n      <td>0.546239</td>\n      <td>0.495834</td>\n      <td>-0.609241</td>\n    </tr>\n  </tbody>\n</table>\n</div>"
     },
     "metadata": {},
     "execution_count": 12
    }
   ],
   "source": [
    "idx = np.arange(5)\n",
    "cols = list('ABCDE')\n",
    "idx_mi = pd.MultiIndex.from_tuples(zip(idx, list('ababb')))\n",
    "cols_mi = pd.MultiIndex.from_tuples(zip(cols, list('XXYYY')))\n",
    "\n",
    "df = pd.DataFrame(rng.standard_normal(size=(5, 5)), index=idx, columns=cols)\n",
    "dfmi = pd.DataFrame(rng.standard_normal(size=(5, 5)), index=idx_mi, columns=cols_mi).reorder_levels([1, 0], axis=1).reorder_levels([1, 0], axis=0)\n",
    "\n",
    "df\n",
    "dfmi"
   ]
  },
  {
   "cell_type": "markdown",
   "metadata": {},
   "source": [
    "### simple df"
   ]
  },
  {
   "cell_type": "code",
   "execution_count": 13,
   "metadata": {},
   "outputs": [
    {
     "output_type": "execute_result",
     "data": {
      "text/plain": "0   -0.587041\n1   -0.896502\n2    0.463917\n3    0.290353\n4   -0.929810\nName: A, dtype: float64"
     },
     "metadata": {},
     "execution_count": 13
    },
    {
     "output_type": "execute_result",
     "data": {
      "text/plain": "     A         B         C         D         E\n0  1.0 -1.421001  1.497859  1.027689  0.702617\n1  1.0  1.230444  0.792990 -1.539267  0.681518\n2  1.0 -0.439513  1.296590 -0.584431 -0.026376\n3  1.0 -0.533546 -0.530820 -0.288116 -0.028181\n4  1.0  1.313871 -0.028742  0.478155  0.784489",
      "text/html": "<div>\n<style scoped>\n    .dataframe tbody tr th:only-of-type {\n        vertical-align: middle;\n    }\n\n    .dataframe tbody tr th {\n        vertical-align: top;\n    }\n\n    .dataframe thead th {\n        text-align: right;\n    }\n</style>\n<table border=\"1\" class=\"dataframe\">\n  <thead>\n    <tr style=\"text-align: right;\">\n      <th></th>\n      <th>A</th>\n      <th>B</th>\n      <th>C</th>\n      <th>D</th>\n      <th>E</th>\n    </tr>\n  </thead>\n  <tbody>\n    <tr>\n      <th>0</th>\n      <td>1.0</td>\n      <td>-1.421001</td>\n      <td>1.497859</td>\n      <td>1.027689</td>\n      <td>0.702617</td>\n    </tr>\n    <tr>\n      <th>1</th>\n      <td>1.0</td>\n      <td>1.230444</td>\n      <td>0.792990</td>\n      <td>-1.539267</td>\n      <td>0.681518</td>\n    </tr>\n    <tr>\n      <th>2</th>\n      <td>1.0</td>\n      <td>-0.439513</td>\n      <td>1.296590</td>\n      <td>-0.584431</td>\n      <td>-0.026376</td>\n    </tr>\n    <tr>\n      <th>3</th>\n      <td>1.0</td>\n      <td>-0.533546</td>\n      <td>-0.530820</td>\n      <td>-0.288116</td>\n      <td>-0.028181</td>\n    </tr>\n    <tr>\n      <th>4</th>\n      <td>1.0</td>\n      <td>1.313871</td>\n      <td>-0.028742</td>\n      <td>0.478155</td>\n      <td>0.784489</td>\n    </tr>\n  </tbody>\n</table>\n</div>"
     },
     "metadata": {},
     "execution_count": 13
    },
    {
     "output_type": "execute_result",
     "data": {
      "text/plain": "     A         B         C         D         E  M\n0  1.0 -1.421001  1.497859  1.027689  0.702617 -1\n1  1.0  1.230444  0.792990 -1.539267  0.681518 -1\n2 -2.0 -0.439513  1.296590 -0.584431 -0.026376 -2\n3 -2.0 -0.533546 -0.530820 -0.288116 -0.028181 -2\n4 -2.0  1.313871 -0.028742  0.478155  0.784489 -2",
      "text/html": "<div>\n<style scoped>\n    .dataframe tbody tr th:only-of-type {\n        vertical-align: middle;\n    }\n\n    .dataframe tbody tr th {\n        vertical-align: top;\n    }\n\n    .dataframe thead th {\n        text-align: right;\n    }\n</style>\n<table border=\"1\" class=\"dataframe\">\n  <thead>\n    <tr style=\"text-align: right;\">\n      <th></th>\n      <th>A</th>\n      <th>B</th>\n      <th>C</th>\n      <th>D</th>\n      <th>E</th>\n      <th>M</th>\n    </tr>\n  </thead>\n  <tbody>\n    <tr>\n      <th>0</th>\n      <td>1.0</td>\n      <td>-1.421001</td>\n      <td>1.497859</td>\n      <td>1.027689</td>\n      <td>0.702617</td>\n      <td>-1</td>\n    </tr>\n    <tr>\n      <th>1</th>\n      <td>1.0</td>\n      <td>1.230444</td>\n      <td>0.792990</td>\n      <td>-1.539267</td>\n      <td>0.681518</td>\n      <td>-1</td>\n    </tr>\n    <tr>\n      <th>2</th>\n      <td>-2.0</td>\n      <td>-0.439513</td>\n      <td>1.296590</td>\n      <td>-0.584431</td>\n      <td>-0.026376</td>\n      <td>-2</td>\n    </tr>\n    <tr>\n      <th>3</th>\n      <td>-2.0</td>\n      <td>-0.533546</td>\n      <td>-0.530820</td>\n      <td>-0.288116</td>\n      <td>-0.028181</td>\n      <td>-2</td>\n    </tr>\n    <tr>\n      <th>4</th>\n      <td>-2.0</td>\n      <td>1.313871</td>\n      <td>-0.028742</td>\n      <td>0.478155</td>\n      <td>0.784489</td>\n      <td>-2</td>\n    </tr>\n  </tbody>\n</table>\n</div>"
     },
     "metadata": {},
     "execution_count": 13
    }
   ],
   "source": [
    "df['A']  # get\n",
    "df['A'] = np.ones(5)  # adjust column\n",
    "df\n",
    "\n",
    "df['M'] = -1  # add new column\n",
    "\n",
    "df.loc[2:4, ['A', 'M']] = -2  # change or get specify elements (use slices)\n",
    "df"
   ]
  },
  {
   "cell_type": "code",
   "execution_count": 14,
   "metadata": {},
   "outputs": [
    {
     "output_type": "execute_result",
     "data": {
      "text/plain": "     A         B         C         D         E  M    N\n0  1.0 -1.421001  1.497859  1.027689  0.702617 -1  NaN\n1  1.0  1.230444  0.792990 -1.539267  0.681518 -1  NaN\n2 -2.0 -0.439513  1.296590 -0.584431 -0.026376 -3 -3.0\n3 -2.0 -0.533546 -0.530820 -0.288116 -0.028181 -2  NaN\n4 -2.0  1.313871 -0.028742  0.478155  0.784489 -2  NaN",
      "text/html": "<div>\n<style scoped>\n    .dataframe tbody tr th:only-of-type {\n        vertical-align: middle;\n    }\n\n    .dataframe tbody tr th {\n        vertical-align: top;\n    }\n\n    .dataframe thead th {\n        text-align: right;\n    }\n</style>\n<table border=\"1\" class=\"dataframe\">\n  <thead>\n    <tr style=\"text-align: right;\">\n      <th></th>\n      <th>A</th>\n      <th>B</th>\n      <th>C</th>\n      <th>D</th>\n      <th>E</th>\n      <th>M</th>\n      <th>N</th>\n    </tr>\n  </thead>\n  <tbody>\n    <tr>\n      <th>0</th>\n      <td>1.0</td>\n      <td>-1.421001</td>\n      <td>1.497859</td>\n      <td>1.027689</td>\n      <td>0.702617</td>\n      <td>-1</td>\n      <td>NaN</td>\n    </tr>\n    <tr>\n      <th>1</th>\n      <td>1.0</td>\n      <td>1.230444</td>\n      <td>0.792990</td>\n      <td>-1.539267</td>\n      <td>0.681518</td>\n      <td>-1</td>\n      <td>NaN</td>\n    </tr>\n    <tr>\n      <th>2</th>\n      <td>-2.0</td>\n      <td>-0.439513</td>\n      <td>1.296590</td>\n      <td>-0.584431</td>\n      <td>-0.026376</td>\n      <td>-3</td>\n      <td>-3.0</td>\n    </tr>\n    <tr>\n      <th>3</th>\n      <td>-2.0</td>\n      <td>-0.533546</td>\n      <td>-0.530820</td>\n      <td>-0.288116</td>\n      <td>-0.028181</td>\n      <td>-2</td>\n      <td>NaN</td>\n    </tr>\n    <tr>\n      <th>4</th>\n      <td>-2.0</td>\n      <td>1.313871</td>\n      <td>-0.028742</td>\n      <td>0.478155</td>\n      <td>0.784489</td>\n      <td>-2</td>\n      <td>NaN</td>\n    </tr>\n  </tbody>\n</table>\n</div>"
     },
     "metadata": {},
     "execution_count": 14
    },
    {
     "output_type": "execute_result",
     "data": {
      "text/plain": "     A         B         C         D    E  M    N\n0  1.0 -1.421001  1.497859  1.027689  NaN -1  NaN\n1  1.0  1.230444  0.792990 -1.539267  NaN -1  NaN\n2 -2.0 -0.439513  1.296590 -0.584431  1.0 -3 -3.0\n3 -2.0 -0.533546 -0.530820 -0.288116  1.0 -2  NaN\n4 -2.0  1.313871 -0.028742  0.478155  1.0 -2  NaN",
      "text/html": "<div>\n<style scoped>\n    .dataframe tbody tr th:only-of-type {\n        vertical-align: middle;\n    }\n\n    .dataframe tbody tr th {\n        vertical-align: top;\n    }\n\n    .dataframe thead th {\n        text-align: right;\n    }\n</style>\n<table border=\"1\" class=\"dataframe\">\n  <thead>\n    <tr style=\"text-align: right;\">\n      <th></th>\n      <th>A</th>\n      <th>B</th>\n      <th>C</th>\n      <th>D</th>\n      <th>E</th>\n      <th>M</th>\n      <th>N</th>\n    </tr>\n  </thead>\n  <tbody>\n    <tr>\n      <th>0</th>\n      <td>1.0</td>\n      <td>-1.421001</td>\n      <td>1.497859</td>\n      <td>1.027689</td>\n      <td>NaN</td>\n      <td>-1</td>\n      <td>NaN</td>\n    </tr>\n    <tr>\n      <th>1</th>\n      <td>1.0</td>\n      <td>1.230444</td>\n      <td>0.792990</td>\n      <td>-1.539267</td>\n      <td>NaN</td>\n      <td>-1</td>\n      <td>NaN</td>\n    </tr>\n    <tr>\n      <th>2</th>\n      <td>-2.0</td>\n      <td>-0.439513</td>\n      <td>1.296590</td>\n      <td>-0.584431</td>\n      <td>1.0</td>\n      <td>-3</td>\n      <td>-3.0</td>\n    </tr>\n    <tr>\n      <th>3</th>\n      <td>-2.0</td>\n      <td>-0.533546</td>\n      <td>-0.530820</td>\n      <td>-0.288116</td>\n      <td>1.0</td>\n      <td>-2</td>\n      <td>NaN</td>\n    </tr>\n    <tr>\n      <th>4</th>\n      <td>-2.0</td>\n      <td>1.313871</td>\n      <td>-0.028742</td>\n      <td>0.478155</td>\n      <td>1.0</td>\n      <td>-2</td>\n      <td>NaN</td>\n    </tr>\n  </tbody>\n</table>\n</div>"
     },
     "metadata": {},
     "execution_count": 14
    }
   ],
   "source": [
    "#df['N']  # missing key\n",
    "#df[['N', 'A']]  # one of the keys is missing\n",
    "#df.loc[2, ['N', 'M']]  # missing key, all won't work\n",
    "\n",
    "df.loc[2, ['M', 'N']] = -3  # assignment - any missing key will be added, extra positions extended with NaNs\n",
    "df\n",
    "\n",
    "# when assigning a Series : index intersection values will be assigned, others will be NaNs\n",
    "df['E'] = pd.Series(1, index=np.arange(2, 16))  \n",
    "df\n",
    "\n",
    "# when list or ndarray is assigned to columns : must have the same length as column"
   ]
  },
  {
   "cell_type": "code",
   "execution_count": 15,
   "metadata": {},
   "outputs": [
    {
     "output_type": "execute_result",
     "data": {
      "text/plain": "     A         B         C         D    E    M    N\n0  1.0 -1.421001  1.497859  1.027689  NaN -1.0  NaN\n1  1.0  1.230444  0.792990 -1.539267  NaN -1.0  NaN\n2 -2.0 -0.439513  1.296590 -0.584431  1.0 -3.0 -3.0\n3 -2.0 -0.533546 -0.530820 -0.288116  1.0 -2.0  NaN\n4 -2.0  1.313871 -0.028742  0.478155  1.0 -2.0  NaN\n5  NaN       NaN       NaN       NaN  NaN  NaN  NaN",
      "text/html": "<div>\n<style scoped>\n    .dataframe tbody tr th:only-of-type {\n        vertical-align: middle;\n    }\n\n    .dataframe tbody tr th {\n        vertical-align: top;\n    }\n\n    .dataframe thead th {\n        text-align: right;\n    }\n</style>\n<table border=\"1\" class=\"dataframe\">\n  <thead>\n    <tr style=\"text-align: right;\">\n      <th></th>\n      <th>A</th>\n      <th>B</th>\n      <th>C</th>\n      <th>D</th>\n      <th>E</th>\n      <th>M</th>\n      <th>N</th>\n    </tr>\n  </thead>\n  <tbody>\n    <tr>\n      <th>0</th>\n      <td>1.0</td>\n      <td>-1.421001</td>\n      <td>1.497859</td>\n      <td>1.027689</td>\n      <td>NaN</td>\n      <td>-1.0</td>\n      <td>NaN</td>\n    </tr>\n    <tr>\n      <th>1</th>\n      <td>1.0</td>\n      <td>1.230444</td>\n      <td>0.792990</td>\n      <td>-1.539267</td>\n      <td>NaN</td>\n      <td>-1.0</td>\n      <td>NaN</td>\n    </tr>\n    <tr>\n      <th>2</th>\n      <td>-2.0</td>\n      <td>-0.439513</td>\n      <td>1.296590</td>\n      <td>-0.584431</td>\n      <td>1.0</td>\n      <td>-3.0</td>\n      <td>-3.0</td>\n    </tr>\n    <tr>\n      <th>3</th>\n      <td>-2.0</td>\n      <td>-0.533546</td>\n      <td>-0.530820</td>\n      <td>-0.288116</td>\n      <td>1.0</td>\n      <td>-2.0</td>\n      <td>NaN</td>\n    </tr>\n    <tr>\n      <th>4</th>\n      <td>-2.0</td>\n      <td>1.313871</td>\n      <td>-0.028742</td>\n      <td>0.478155</td>\n      <td>1.0</td>\n      <td>-2.0</td>\n      <td>NaN</td>\n    </tr>\n    <tr>\n      <th>5</th>\n      <td>NaN</td>\n      <td>NaN</td>\n      <td>NaN</td>\n      <td>NaN</td>\n      <td>NaN</td>\n      <td>NaN</td>\n      <td>NaN</td>\n    </tr>\n  </tbody>\n</table>\n</div>"
     },
     "metadata": {},
     "execution_count": 15
    },
    {
     "output_type": "execute_result",
     "data": {
      "text/plain": "     A         B         C         D    E  M    N\n0  1.0 -1.421001  1.497859  1.027689  NaN -1  NaN\n1  1.0  1.230444  0.792990 -1.539267  NaN -1  NaN\n2 -2.0 -0.439513  1.296590 -0.584431  1.0 -3 -3.0\n3 -2.0 -0.533546 -0.530820 -0.288116  1.0 -2  NaN\n4 -2.0  1.313871 -0.028742  0.478155  1.0 -2  NaN\n5 -2.0  1.313871 -0.028742  0.478155  1.0 -2  NaN",
      "text/html": "<div>\n<style scoped>\n    .dataframe tbody tr th:only-of-type {\n        vertical-align: middle;\n    }\n\n    .dataframe tbody tr th {\n        vertical-align: top;\n    }\n\n    .dataframe thead th {\n        text-align: right;\n    }\n</style>\n<table border=\"1\" class=\"dataframe\">\n  <thead>\n    <tr style=\"text-align: right;\">\n      <th></th>\n      <th>A</th>\n      <th>B</th>\n      <th>C</th>\n      <th>D</th>\n      <th>E</th>\n      <th>M</th>\n      <th>N</th>\n    </tr>\n  </thead>\n  <tbody>\n    <tr>\n      <th>0</th>\n      <td>1.0</td>\n      <td>-1.421001</td>\n      <td>1.497859</td>\n      <td>1.027689</td>\n      <td>NaN</td>\n      <td>-1</td>\n      <td>NaN</td>\n    </tr>\n    <tr>\n      <th>1</th>\n      <td>1.0</td>\n      <td>1.230444</td>\n      <td>0.792990</td>\n      <td>-1.539267</td>\n      <td>NaN</td>\n      <td>-1</td>\n      <td>NaN</td>\n    </tr>\n    <tr>\n      <th>2</th>\n      <td>-2.0</td>\n      <td>-0.439513</td>\n      <td>1.296590</td>\n      <td>-0.584431</td>\n      <td>1.0</td>\n      <td>-3</td>\n      <td>-3.0</td>\n    </tr>\n    <tr>\n      <th>3</th>\n      <td>-2.0</td>\n      <td>-0.533546</td>\n      <td>-0.530820</td>\n      <td>-0.288116</td>\n      <td>1.0</td>\n      <td>-2</td>\n      <td>NaN</td>\n    </tr>\n    <tr>\n      <th>4</th>\n      <td>-2.0</td>\n      <td>1.313871</td>\n      <td>-0.028742</td>\n      <td>0.478155</td>\n      <td>1.0</td>\n      <td>-2</td>\n      <td>NaN</td>\n    </tr>\n    <tr>\n      <th>5</th>\n      <td>-2.0</td>\n      <td>1.313871</td>\n      <td>-0.028742</td>\n      <td>0.478155</td>\n      <td>1.0</td>\n      <td>-2</td>\n      <td>NaN</td>\n    </tr>\n  </tbody>\n</table>\n</div>"
     },
     "metadata": {},
     "execution_count": 15
    }
   ],
   "source": [
    "df.reindex(index=range(6))  # reindex -- new keys added with all NaNs\n",
    "df.reindex(index=range(6), method='ffill')  # reindex + fill NaN with different methods"
   ]
  },
  {
   "cell_type": "code",
   "execution_count": 16,
   "metadata": {},
   "outputs": [
    {
     "output_type": "execute_result",
     "data": {
      "text/plain": "0     NaN\n1     6.0\n2     8.0\n3    10.0\n4    12.0\n5     NaN\ndtype: float64"
     },
     "metadata": {},
     "execution_count": 16
    },
    {
     "output_type": "execute_result",
     "data": {
      "text/plain": "1     6.0\n2     8.0\n3    10.0\n4    12.0\ndtype: float64"
     },
     "metadata": {},
     "execution_count": 16
    }
   ],
   "source": [
    "# auto alignment to index union\n",
    "s1 = pd.Series(np.arange(5), index=np.arange(5))\n",
    "s2 = pd.Series(np.arange(5, 10), index=np.arange(1, 6))\n",
    "s1 + s2  # auto NaNs for missing indices (resulting series has index union as index)\n",
    "(s1 + s2).dropna()  # drop NaN values"
   ]
  },
  {
   "cell_type": "code",
   "execution_count": 17,
   "metadata": {},
   "outputs": [
    {
     "output_type": "execute_result",
     "data": {
      "text/plain": "     A         B         C         D    E  M    N         F\n0  1.0 -1.421001  1.497859  1.027689  NaN -1  NaN       NaN\n1  1.0  1.230444  0.792990 -1.539267  NaN -1  NaN       NaN\n2 -2.0 -0.439513  1.296590 -0.584431  1.0 -3 -3.0  0.415569\n3 -2.0 -0.533546 -0.530820 -0.288116  1.0 -2  NaN  0.711884\n4 -2.0  1.313871 -0.028742  0.478155  1.0 -2  NaN  1.478155",
      "text/html": "<div>\n<style scoped>\n    .dataframe tbody tr th:only-of-type {\n        vertical-align: middle;\n    }\n\n    .dataframe tbody tr th {\n        vertical-align: top;\n    }\n\n    .dataframe thead th {\n        text-align: right;\n    }\n</style>\n<table border=\"1\" class=\"dataframe\">\n  <thead>\n    <tr style=\"text-align: right;\">\n      <th></th>\n      <th>A</th>\n      <th>B</th>\n      <th>C</th>\n      <th>D</th>\n      <th>E</th>\n      <th>M</th>\n      <th>N</th>\n      <th>F</th>\n    </tr>\n  </thead>\n  <tbody>\n    <tr>\n      <th>0</th>\n      <td>1.0</td>\n      <td>-1.421001</td>\n      <td>1.497859</td>\n      <td>1.027689</td>\n      <td>NaN</td>\n      <td>-1</td>\n      <td>NaN</td>\n      <td>NaN</td>\n    </tr>\n    <tr>\n      <th>1</th>\n      <td>1.0</td>\n      <td>1.230444</td>\n      <td>0.792990</td>\n      <td>-1.539267</td>\n      <td>NaN</td>\n      <td>-1</td>\n      <td>NaN</td>\n      <td>NaN</td>\n    </tr>\n    <tr>\n      <th>2</th>\n      <td>-2.0</td>\n      <td>-0.439513</td>\n      <td>1.296590</td>\n      <td>-0.584431</td>\n      <td>1.0</td>\n      <td>-3</td>\n      <td>-3.0</td>\n      <td>0.415569</td>\n    </tr>\n    <tr>\n      <th>3</th>\n      <td>-2.0</td>\n      <td>-0.533546</td>\n      <td>-0.530820</td>\n      <td>-0.288116</td>\n      <td>1.0</td>\n      <td>-2</td>\n      <td>NaN</td>\n      <td>0.711884</td>\n    </tr>\n    <tr>\n      <th>4</th>\n      <td>-2.0</td>\n      <td>1.313871</td>\n      <td>-0.028742</td>\n      <td>0.478155</td>\n      <td>1.0</td>\n      <td>-2</td>\n      <td>NaN</td>\n      <td>1.478155</td>\n    </tr>\n  </tbody>\n</table>\n</div>"
     },
     "metadata": {},
     "execution_count": 17
    }
   ],
   "source": [
    "# assign method : can pass arrays, series or lambda function (on the current df)\n",
    "df.assign(F=lambda x: x['E']+ x['D'])"
   ]
  },
  {
   "cell_type": "code",
   "execution_count": 18,
   "metadata": {},
   "outputs": [
    {
     "output_type": "execute_result",
     "data": {
      "text/plain": "     A         B         C         D    E  M    N\n2 -2.0 -0.439513  1.296590 -0.584431  1.0 -3 -3.0\n3 -2.0 -0.533546 -0.530820 -0.288116  1.0 -2  NaN\n4 -2.0  1.313871 -0.028742  0.478155  1.0 -2  NaN",
      "text/html": "<div>\n<style scoped>\n    .dataframe tbody tr th:only-of-type {\n        vertical-align: middle;\n    }\n\n    .dataframe tbody tr th {\n        vertical-align: top;\n    }\n\n    .dataframe thead th {\n        text-align: right;\n    }\n</style>\n<table border=\"1\" class=\"dataframe\">\n  <thead>\n    <tr style=\"text-align: right;\">\n      <th></th>\n      <th>A</th>\n      <th>B</th>\n      <th>C</th>\n      <th>D</th>\n      <th>E</th>\n      <th>M</th>\n      <th>N</th>\n    </tr>\n  </thead>\n  <tbody>\n    <tr>\n      <th>2</th>\n      <td>-2.0</td>\n      <td>-0.439513</td>\n      <td>1.296590</td>\n      <td>-0.584431</td>\n      <td>1.0</td>\n      <td>-3</td>\n      <td>-3.0</td>\n    </tr>\n    <tr>\n      <th>3</th>\n      <td>-2.0</td>\n      <td>-0.533546</td>\n      <td>-0.530820</td>\n      <td>-0.288116</td>\n      <td>1.0</td>\n      <td>-2</td>\n      <td>NaN</td>\n    </tr>\n    <tr>\n      <th>4</th>\n      <td>-2.0</td>\n      <td>1.313871</td>\n      <td>-0.028742</td>\n      <td>0.478155</td>\n      <td>1.0</td>\n      <td>-2</td>\n      <td>NaN</td>\n    </tr>\n  </tbody>\n</table>\n</div>"
     },
     "metadata": {},
     "execution_count": 18
    }
   ],
   "source": [
    "x = 0.5\n",
    "df.query('E > @x')  # query : pass str with col names, @ to unpack exterior variables"
   ]
  },
  {
   "cell_type": "code",
   "execution_count": 19,
   "metadata": {},
   "outputs": [
    {
     "output_type": "execute_result",
     "data": {
      "text/plain": "A   -2.000000\nB   -0.439513\nC    1.296590\nD   -0.584431\nE    1.000000\nM   -3.000000\nN   -3.000000\nName: 2, dtype: float64"
     },
     "metadata": {},
     "execution_count": 19
    },
    {
     "output_type": "execute_result",
     "data": {
      "text/plain": "     A         B         C         D    E  M    N\n0  1.0 -1.421001  1.497859  1.027689  NaN -1  NaN\n1  1.0  1.230444  0.792990 -1.539267  NaN -1  NaN\n2 -4.0 -4.000000 -4.000000 -4.000000 -4.0 -4 -4.0\n3 -2.0 -0.533546 -0.530820 -0.288116  1.0 -2  NaN\n4 -2.0  1.313871 -0.028742  0.478155  1.0 -2  NaN",
      "text/html": "<div>\n<style scoped>\n    .dataframe tbody tr th:only-of-type {\n        vertical-align: middle;\n    }\n\n    .dataframe tbody tr th {\n        vertical-align: top;\n    }\n\n    .dataframe thead th {\n        text-align: right;\n    }\n</style>\n<table border=\"1\" class=\"dataframe\">\n  <thead>\n    <tr style=\"text-align: right;\">\n      <th></th>\n      <th>A</th>\n      <th>B</th>\n      <th>C</th>\n      <th>D</th>\n      <th>E</th>\n      <th>M</th>\n      <th>N</th>\n    </tr>\n  </thead>\n  <tbody>\n    <tr>\n      <th>0</th>\n      <td>1.0</td>\n      <td>-1.421001</td>\n      <td>1.497859</td>\n      <td>1.027689</td>\n      <td>NaN</td>\n      <td>-1</td>\n      <td>NaN</td>\n    </tr>\n    <tr>\n      <th>1</th>\n      <td>1.0</td>\n      <td>1.230444</td>\n      <td>0.792990</td>\n      <td>-1.539267</td>\n      <td>NaN</td>\n      <td>-1</td>\n      <td>NaN</td>\n    </tr>\n    <tr>\n      <th>2</th>\n      <td>-4.0</td>\n      <td>-4.000000</td>\n      <td>-4.000000</td>\n      <td>-4.000000</td>\n      <td>-4.0</td>\n      <td>-4</td>\n      <td>-4.0</td>\n    </tr>\n    <tr>\n      <th>3</th>\n      <td>-2.0</td>\n      <td>-0.533546</td>\n      <td>-0.530820</td>\n      <td>-0.288116</td>\n      <td>1.0</td>\n      <td>-2</td>\n      <td>NaN</td>\n    </tr>\n    <tr>\n      <th>4</th>\n      <td>-2.0</td>\n      <td>1.313871</td>\n      <td>-0.028742</td>\n      <td>0.478155</td>\n      <td>1.0</td>\n      <td>-2</td>\n      <td>NaN</td>\n    </tr>\n  </tbody>\n</table>\n</div>"
     },
     "metadata": {},
     "execution_count": 19
    }
   ],
   "source": [
    "df.loc[2]  # row selection\n",
    "df.loc[2] = -4  # assignment also works\n",
    "df"
   ]
  },
  {
   "cell_type": "code",
   "execution_count": 20,
   "metadata": {},
   "outputs": [
    {
     "output_type": "execute_result",
     "data": {
      "text/plain": "     A         B         C         D    E  M    N\n0  1.0 -1.421001  1.497859  1.027689  NaN -1  NaN\n1  1.0  1.230444  0.792990 -1.539267  NaN -1  NaN\n2 -4.0 -4.000000 -4.000000 -4.000000 -4.0 -4 -4.0\n3 -2.0 -0.533546 -0.530820 -0.288116  1.0 -2  NaN\n4 -2.0  1.313871 -0.028742  0.478155  1.0 -2  NaN\n8  4.0  4.000000  4.000000  4.000000  4.0  4  4.0",
      "text/html": "<div>\n<style scoped>\n    .dataframe tbody tr th:only-of-type {\n        vertical-align: middle;\n    }\n\n    .dataframe tbody tr th {\n        vertical-align: top;\n    }\n\n    .dataframe thead th {\n        text-align: right;\n    }\n</style>\n<table border=\"1\" class=\"dataframe\">\n  <thead>\n    <tr style=\"text-align: right;\">\n      <th></th>\n      <th>A</th>\n      <th>B</th>\n      <th>C</th>\n      <th>D</th>\n      <th>E</th>\n      <th>M</th>\n      <th>N</th>\n    </tr>\n  </thead>\n  <tbody>\n    <tr>\n      <th>0</th>\n      <td>1.0</td>\n      <td>-1.421001</td>\n      <td>1.497859</td>\n      <td>1.027689</td>\n      <td>NaN</td>\n      <td>-1</td>\n      <td>NaN</td>\n    </tr>\n    <tr>\n      <th>1</th>\n      <td>1.0</td>\n      <td>1.230444</td>\n      <td>0.792990</td>\n      <td>-1.539267</td>\n      <td>NaN</td>\n      <td>-1</td>\n      <td>NaN</td>\n    </tr>\n    <tr>\n      <th>2</th>\n      <td>-4.0</td>\n      <td>-4.000000</td>\n      <td>-4.000000</td>\n      <td>-4.000000</td>\n      <td>-4.0</td>\n      <td>-4</td>\n      <td>-4.0</td>\n    </tr>\n    <tr>\n      <th>3</th>\n      <td>-2.0</td>\n      <td>-0.533546</td>\n      <td>-0.530820</td>\n      <td>-0.288116</td>\n      <td>1.0</td>\n      <td>-2</td>\n      <td>NaN</td>\n    </tr>\n    <tr>\n      <th>4</th>\n      <td>-2.0</td>\n      <td>1.313871</td>\n      <td>-0.028742</td>\n      <td>0.478155</td>\n      <td>1.0</td>\n      <td>-2</td>\n      <td>NaN</td>\n    </tr>\n    <tr>\n      <th>8</th>\n      <td>4.0</td>\n      <td>4.000000</td>\n      <td>4.000000</td>\n      <td>4.000000</td>\n      <td>4.0</td>\n      <td>4</td>\n      <td>4.0</td>\n    </tr>\n  </tbody>\n</table>\n</div>"
     },
     "metadata": {},
     "execution_count": 20
    }
   ],
   "source": [
    "df.loc[8] = 4  # assinging to non-existent row\n",
    "df"
   ]
  },
  {
   "cell_type": "code",
   "execution_count": 21,
   "metadata": {},
   "outputs": [
    {
     "output_type": "execute_result",
     "data": {
      "text/plain": "     A         B         C         D    E  M    N\n0  1.0 -1.421001  1.497859  1.027689  NaN -1  NaN\n1  5.0  5.000000  5.000000  5.000000  5.0  5  5.0\n2 -4.0 -4.000000 -4.000000 -4.000000 -4.0 -4 -4.0\n3 -2.0 -0.533546 -0.530820 -0.288116  1.0 -2  NaN\n4 -2.0  1.313871 -0.028742  0.478155  1.0 -2  NaN\n8  4.0  4.000000  4.000000  4.000000  4.0  4  4.0",
      "text/html": "<div>\n<style scoped>\n    .dataframe tbody tr th:only-of-type {\n        vertical-align: middle;\n    }\n\n    .dataframe tbody tr th {\n        vertical-align: top;\n    }\n\n    .dataframe thead th {\n        text-align: right;\n    }\n</style>\n<table border=\"1\" class=\"dataframe\">\n  <thead>\n    <tr style=\"text-align: right;\">\n      <th></th>\n      <th>A</th>\n      <th>B</th>\n      <th>C</th>\n      <th>D</th>\n      <th>E</th>\n      <th>M</th>\n      <th>N</th>\n    </tr>\n  </thead>\n  <tbody>\n    <tr>\n      <th>0</th>\n      <td>1.0</td>\n      <td>-1.421001</td>\n      <td>1.497859</td>\n      <td>1.027689</td>\n      <td>NaN</td>\n      <td>-1</td>\n      <td>NaN</td>\n    </tr>\n    <tr>\n      <th>1</th>\n      <td>5.0</td>\n      <td>5.000000</td>\n      <td>5.000000</td>\n      <td>5.000000</td>\n      <td>5.0</td>\n      <td>5</td>\n      <td>5.0</td>\n    </tr>\n    <tr>\n      <th>2</th>\n      <td>-4.0</td>\n      <td>-4.000000</td>\n      <td>-4.000000</td>\n      <td>-4.000000</td>\n      <td>-4.0</td>\n      <td>-4</td>\n      <td>-4.0</td>\n    </tr>\n    <tr>\n      <th>3</th>\n      <td>-2.0</td>\n      <td>-0.533546</td>\n      <td>-0.530820</td>\n      <td>-0.288116</td>\n      <td>1.0</td>\n      <td>-2</td>\n      <td>NaN</td>\n    </tr>\n    <tr>\n      <th>4</th>\n      <td>-2.0</td>\n      <td>1.313871</td>\n      <td>-0.028742</td>\n      <td>0.478155</td>\n      <td>1.0</td>\n      <td>-2</td>\n      <td>NaN</td>\n    </tr>\n    <tr>\n      <th>8</th>\n      <td>4.0</td>\n      <td>4.000000</td>\n      <td>4.000000</td>\n      <td>4.000000</td>\n      <td>4.0</td>\n      <td>4</td>\n      <td>4.0</td>\n    </tr>\n  </tbody>\n</table>\n</div>"
     },
     "metadata": {},
     "execution_count": 21
    }
   ],
   "source": [
    "df1 = df.copy()\n",
    "df1.loc[1] = 5\n",
    "df1.combine_first(df)  # combine dfs, priority to the first df"
   ]
  },
  {
   "cell_type": "code",
   "execution_count": 22,
   "metadata": {},
   "outputs": [
    {
     "output_type": "execute_result",
     "data": {
      "text/plain": "2"
     },
     "metadata": {},
     "execution_count": 22
    }
   ],
   "source": [
    "df['A'].idxmin()  # idx min"
   ]
  },
  {
   "cell_type": "markdown",
   "metadata": {},
   "source": [
    "### multi-index indexing"
   ]
  },
  {
   "cell_type": "code",
   "execution_count": 23,
   "metadata": {},
   "outputs": [
    {
     "output_type": "execute_result",
     "data": {
      "text/plain": "            A         B\na 0  1.609335 -0.428890\nb 1  1.522344  0.729334\na 2  0.179010 -1.134496\nb 3 -1.820980 -1.817040\n  4  0.048260 -0.515004",
      "text/html": "<div>\n<style scoped>\n    .dataframe tbody tr th:only-of-type {\n        vertical-align: middle;\n    }\n\n    .dataframe tbody tr th {\n        vertical-align: top;\n    }\n\n    .dataframe thead th {\n        text-align: right;\n    }\n</style>\n<table border=\"1\" class=\"dataframe\">\n  <thead>\n    <tr style=\"text-align: right;\">\n      <th></th>\n      <th></th>\n      <th>A</th>\n      <th>B</th>\n    </tr>\n  </thead>\n  <tbody>\n    <tr>\n      <th>a</th>\n      <th>0</th>\n      <td>1.609335</td>\n      <td>-0.428890</td>\n    </tr>\n    <tr>\n      <th>b</th>\n      <th>1</th>\n      <td>1.522344</td>\n      <td>0.729334</td>\n    </tr>\n    <tr>\n      <th>a</th>\n      <th>2</th>\n      <td>0.179010</td>\n      <td>-1.134496</td>\n    </tr>\n    <tr>\n      <th rowspan=\"2\" valign=\"top\">b</th>\n      <th>3</th>\n      <td>-1.820980</td>\n      <td>-1.817040</td>\n    </tr>\n    <tr>\n      <th>4</th>\n      <td>0.048260</td>\n      <td>-0.515004</td>\n    </tr>\n  </tbody>\n</table>\n</div>"
     },
     "metadata": {},
     "execution_count": 23
    },
    {
     "output_type": "execute_result",
     "data": {
      "text/plain": "          X                   Y                    \n          A         B         C         D         E\n0  1.609335 -0.428890 -0.874882  1.653949 -0.159041\n2  0.179010 -1.134496  0.000474 -0.325043 -0.536254",
      "text/html": "<div>\n<style scoped>\n    .dataframe tbody tr th:only-of-type {\n        vertical-align: middle;\n    }\n\n    .dataframe tbody tr th {\n        vertical-align: top;\n    }\n\n    .dataframe thead tr th {\n        text-align: left;\n    }\n</style>\n<table border=\"1\" class=\"dataframe\">\n  <thead>\n    <tr>\n      <th></th>\n      <th colspan=\"2\" halign=\"left\">X</th>\n      <th colspan=\"3\" halign=\"left\">Y</th>\n    </tr>\n    <tr>\n      <th></th>\n      <th>A</th>\n      <th>B</th>\n      <th>C</th>\n      <th>D</th>\n      <th>E</th>\n    </tr>\n  </thead>\n  <tbody>\n    <tr>\n      <th>0</th>\n      <td>1.609335</td>\n      <td>-0.428890</td>\n      <td>-0.874882</td>\n      <td>1.653949</td>\n      <td>-0.159041</td>\n    </tr>\n    <tr>\n      <th>2</th>\n      <td>0.179010</td>\n      <td>-1.134496</td>\n      <td>0.000474</td>\n      <td>-0.325043</td>\n      <td>-0.536254</td>\n    </tr>\n  </tbody>\n</table>\n</div>"
     },
     "metadata": {},
     "execution_count": 23
    },
    {
     "output_type": "execute_result",
     "data": {
      "text/plain": "          A         B\n0  1.609335 -0.428890\n2  0.179010 -1.134496",
      "text/html": "<div>\n<style scoped>\n    .dataframe tbody tr th:only-of-type {\n        vertical-align: middle;\n    }\n\n    .dataframe tbody tr th {\n        vertical-align: top;\n    }\n\n    .dataframe thead th {\n        text-align: right;\n    }\n</style>\n<table border=\"1\" class=\"dataframe\">\n  <thead>\n    <tr style=\"text-align: right;\">\n      <th></th>\n      <th>A</th>\n      <th>B</th>\n    </tr>\n  </thead>\n  <tbody>\n    <tr>\n      <th>0</th>\n      <td>1.609335</td>\n      <td>-0.428890</td>\n    </tr>\n    <tr>\n      <th>2</th>\n      <td>0.179010</td>\n      <td>-1.134496</td>\n    </tr>\n  </tbody>\n</table>\n</div>"
     },
     "metadata": {},
     "execution_count": 23
    }
   ],
   "source": [
    "dfmi['X']  # outer level indexing\n",
    "dfmi.loc['a']\n",
    "dfmi.loc['a', 'X']"
   ]
  },
  {
   "cell_type": "code",
   "execution_count": 24,
   "metadata": {},
   "outputs": [
    {
     "output_type": "execute_result",
     "data": {
      "text/plain": "a  0    1.609335\nb  1    1.522344\na  2    0.179010\nb  3   -1.820980\n   4    0.048260\nName: (X, A), dtype: float64"
     },
     "metadata": {},
     "execution_count": 24
    },
    {
     "output_type": "execute_result",
     "data": {
      "text/plain": "X  A    0.179010\n   B   -1.134496\nY  C    0.000474\n   D   -0.325043\n   E   -0.536254\nName: (a, 2), dtype: float64"
     },
     "metadata": {},
     "execution_count": 24
    },
    {
     "output_type": "execute_result",
     "data": {
      "text/plain": "0.17900978920438212"
     },
     "metadata": {},
     "execution_count": 24
    },
    {
     "output_type": "execute_result",
     "data": {
      "text/plain": "         X                   Y                    \n         A         B         C         D         E\n3 -1.82098 -1.817040  1.102030  0.220951  2.631492\n4  0.04826 -0.515004  0.546239  0.495834 -0.609241",
      "text/html": "<div>\n<style scoped>\n    .dataframe tbody tr th:only-of-type {\n        vertical-align: middle;\n    }\n\n    .dataframe tbody tr th {\n        vertical-align: top;\n    }\n\n    .dataframe thead tr th {\n        text-align: left;\n    }\n</style>\n<table border=\"1\" class=\"dataframe\">\n  <thead>\n    <tr>\n      <th></th>\n      <th colspan=\"2\" halign=\"left\">X</th>\n      <th colspan=\"3\" halign=\"left\">Y</th>\n    </tr>\n    <tr>\n      <th></th>\n      <th>A</th>\n      <th>B</th>\n      <th>C</th>\n      <th>D</th>\n      <th>E</th>\n    </tr>\n  </thead>\n  <tbody>\n    <tr>\n      <th>3</th>\n      <td>-1.82098</td>\n      <td>-1.817040</td>\n      <td>1.102030</td>\n      <td>0.220951</td>\n      <td>2.631492</td>\n    </tr>\n    <tr>\n      <th>4</th>\n      <td>0.04826</td>\n      <td>-0.515004</td>\n      <td>0.546239</td>\n      <td>0.495834</td>\n      <td>-0.609241</td>\n    </tr>\n  </tbody>\n</table>\n</div>"
     },
     "metadata": {},
     "execution_count": 24
    },
    {
     "output_type": "execute_result",
     "data": {
      "text/plain": "         X                   Y                    \n         A         B         C         D         E\n3 -1.82098 -1.817040  1.102030  0.220951  2.631492\n4  0.04826 -0.515004  0.546239  0.495834 -0.609241",
      "text/html": "<div>\n<style scoped>\n    .dataframe tbody tr th:only-of-type {\n        vertical-align: middle;\n    }\n\n    .dataframe tbody tr th {\n        vertical-align: top;\n    }\n\n    .dataframe thead tr th {\n        text-align: left;\n    }\n</style>\n<table border=\"1\" class=\"dataframe\">\n  <thead>\n    <tr>\n      <th></th>\n      <th colspan=\"2\" halign=\"left\">X</th>\n      <th colspan=\"3\" halign=\"left\">Y</th>\n    </tr>\n    <tr>\n      <th></th>\n      <th>A</th>\n      <th>B</th>\n      <th>C</th>\n      <th>D</th>\n      <th>E</th>\n    </tr>\n  </thead>\n  <tbody>\n    <tr>\n      <th>3</th>\n      <td>-1.82098</td>\n      <td>-1.817040</td>\n      <td>1.102030</td>\n      <td>0.220951</td>\n      <td>2.631492</td>\n    </tr>\n    <tr>\n      <th>4</th>\n      <td>0.04826</td>\n      <td>-0.515004</td>\n      <td>0.546239</td>\n      <td>0.495834</td>\n      <td>-0.609241</td>\n    </tr>\n  </tbody>\n</table>\n</div>"
     },
     "metadata": {},
     "execution_count": 24
    }
   ],
   "source": [
    "dfmi[('X', 'A')]  # multiple level indexing\n",
    "dfmi.loc[('a', 2)]\n",
    "dfmi.loc[('a', 2), ('X', 'A')]\n",
    "\n",
    "#dfmi.loc[('b', [3,4])]  # won't work\n",
    "dfmi.loc['b'].loc[[3,4]]\n",
    "dfmi.loc['b'].loc[slice(3,4)]"
   ]
  },
  {
   "cell_type": "code",
   "execution_count": 25,
   "metadata": {},
   "outputs": [
    {
     "output_type": "execute_result",
     "data": {
      "text/plain": "           X                 Y                    \n           A        B        C         D         E\nb 3 -1.82098 -1.81704  1.10203  0.220951  2.631492",
      "text/html": "<div>\n<style scoped>\n    .dataframe tbody tr th:only-of-type {\n        vertical-align: middle;\n    }\n\n    .dataframe tbody tr th {\n        vertical-align: top;\n    }\n\n    .dataframe thead tr th {\n        text-align: left;\n    }\n</style>\n<table border=\"1\" class=\"dataframe\">\n  <thead>\n    <tr>\n      <th></th>\n      <th></th>\n      <th colspan=\"2\" halign=\"left\">X</th>\n      <th colspan=\"3\" halign=\"left\">Y</th>\n    </tr>\n    <tr>\n      <th></th>\n      <th></th>\n      <th>A</th>\n      <th>B</th>\n      <th>C</th>\n      <th>D</th>\n      <th>E</th>\n    </tr>\n  </thead>\n  <tbody>\n    <tr>\n      <th>b</th>\n      <th>3</th>\n      <td>-1.82098</td>\n      <td>-1.81704</td>\n      <td>1.10203</td>\n      <td>0.220951</td>\n      <td>2.631492</td>\n    </tr>\n  </tbody>\n</table>\n</div>"
     },
     "metadata": {},
     "execution_count": 25
    }
   ],
   "source": [
    "dfmi.loc[('b', [3,10]), :]  # won't complain that 10 is missing (will simply skip)\n",
    "# dfmi.loc['b'].loc[[3, 10]]  # won't work, 10 is missing key\n",
    "# dfmi.loc[('b', [3,10])]  # also won't work"
   ]
  },
  {
   "cell_type": "code",
   "execution_count": 26,
   "metadata": {},
   "outputs": [
    {
     "output_type": "execute_result",
     "data": {
      "text/plain": "            X                   Y                    \n            A         B         C         D         E\na 0 -5.000000 -0.428890 -0.874882  1.653949 -0.159041\nb 1  1.522344  0.729334 -0.427182  1.439313 -0.989335\na 2  0.179010 -1.134496  0.000474 -0.325043 -0.536254\nb 3 -1.820980 -1.817040  1.102030  0.220951  2.631492\n  4  0.048260 -0.515004  0.546239  0.495834 -0.609241",
      "text/html": "<div>\n<style scoped>\n    .dataframe tbody tr th:only-of-type {\n        vertical-align: middle;\n    }\n\n    .dataframe tbody tr th {\n        vertical-align: top;\n    }\n\n    .dataframe thead tr th {\n        text-align: left;\n    }\n</style>\n<table border=\"1\" class=\"dataframe\">\n  <thead>\n    <tr>\n      <th></th>\n      <th></th>\n      <th colspan=\"2\" halign=\"left\">X</th>\n      <th colspan=\"3\" halign=\"left\">Y</th>\n    </tr>\n    <tr>\n      <th></th>\n      <th></th>\n      <th>A</th>\n      <th>B</th>\n      <th>C</th>\n      <th>D</th>\n      <th>E</th>\n    </tr>\n  </thead>\n  <tbody>\n    <tr>\n      <th>a</th>\n      <th>0</th>\n      <td>-5.000000</td>\n      <td>-0.428890</td>\n      <td>-0.874882</td>\n      <td>1.653949</td>\n      <td>-0.159041</td>\n    </tr>\n    <tr>\n      <th>b</th>\n      <th>1</th>\n      <td>1.522344</td>\n      <td>0.729334</td>\n      <td>-0.427182</td>\n      <td>1.439313</td>\n      <td>-0.989335</td>\n    </tr>\n    <tr>\n      <th>a</th>\n      <th>2</th>\n      <td>0.179010</td>\n      <td>-1.134496</td>\n      <td>0.000474</td>\n      <td>-0.325043</td>\n      <td>-0.536254</td>\n    </tr>\n    <tr>\n      <th rowspan=\"2\" valign=\"top\">b</th>\n      <th>3</th>\n      <td>-1.820980</td>\n      <td>-1.817040</td>\n      <td>1.102030</td>\n      <td>0.220951</td>\n      <td>2.631492</td>\n    </tr>\n    <tr>\n      <th>4</th>\n      <td>0.048260</td>\n      <td>-0.515004</td>\n      <td>0.546239</td>\n      <td>0.495834</td>\n      <td>-0.609241</td>\n    </tr>\n  </tbody>\n</table>\n</div>"
     },
     "metadata": {},
     "execution_count": 26
    }
   ],
   "source": [
    "# multi-index assignment\n",
    "\n",
    "dfmi.loc[('a', 0), ('X', 'A')] = -5  # individual\n",
    "dfmi\n",
    "\n",
    "dfmi['X'] = rng.standard_normal(size=(5, 2))  # to outter level column\n",
    "dfmi[('X', 'A')] = rng.standard_normal(size=(5, 1))  # to multiple column levels\n",
    "\n",
    "dfmi.loc['a', 'X'] = rng.standard_normal(size=(2, 2))  # to col-row selection (outer)\n",
    "dfmi.loc[('a', [0, 2]), 'X'] = rng.standard_normal(size=(2, 2))  # mixed\n",
    "dfmi.loc['b', ('Y', slice('C', 'D'))] = rng.standard_normal(size=(3, 2))  # using slice\n",
    "dfmi.loc[:, ('Y', slice('C', 'D'))] = rng.standard_normal(size=(5, 2))  # skipping level"
   ]
  },
  {
   "cell_type": "markdown",
   "metadata": {},
   "source": [
    "## xarray and multi-index dataframes"
   ]
  },
  {
   "cell_type": "code",
   "execution_count": 27,
   "metadata": {},
   "outputs": [
    {
     "output_type": "execute_result",
     "data": {
      "text/plain": "Index(['A', 'B', 'C', 'D', 'E'], dtype='object')"
     },
     "metadata": {},
     "execution_count": 27
    }
   ],
   "source": [
    "dfmi.columns.get_level_values(1)"
   ]
  },
  {
   "cell_type": "code",
   "execution_count": 28,
   "metadata": {},
   "outputs": [
    {
     "output_type": "execute_result",
     "data": {
      "text/plain": "<xarray.Dataset>\nDimensions:     (level_0: 2, level_1: 5)\nCoordinates:\n  * level_0     (level_0) object 'a' 'b'\n  * level_1     (level_1) int64 0 1 2 3 4\nData variables:\n    ('X', 'A')  (level_0, level_1) float64 -1.041 nan 1.569 ... -0.7942 -0.5855\n    ('X', 'B')  (level_0, level_1) float64 0.3583 nan 1.113 ... -2.336 -0.9786\n    ('Y', 'C')  (level_0, level_1) float64 0.2533 nan -0.3688 ... 0.5782 -1.653\n    ('Y', 'D')  (level_0, level_1) float64 0.465 nan 0.4721 ... 1.024 -0.2714\n    ('Y', 'E')  (level_0, level_1) float64 -0.159 nan -0.5363 ... 2.631 -0.6092",
      "text/html": "<div><svg style=\"position: absolute; width: 0; height: 0; overflow: hidden\">\n<defs>\n<symbol id=\"icon-database\" viewBox=\"0 0 32 32\">\n<path d=\"M16 0c-8.837 0-16 2.239-16 5v4c0 2.761 7.163 5 16 5s16-2.239 16-5v-4c0-2.761-7.163-5-16-5z\"></path>\n<path d=\"M16 17c-8.837 0-16-2.239-16-5v6c0 2.761 7.163 5 16 5s16-2.239 16-5v-6c0 2.761-7.163 5-16 5z\"></path>\n<path d=\"M16 26c-8.837 0-16-2.239-16-5v6c0 2.761 7.163 5 16 5s16-2.239 16-5v-6c0 2.761-7.163 5-16 5z\"></path>\n</symbol>\n<symbol id=\"icon-file-text2\" viewBox=\"0 0 32 32\">\n<path d=\"M28.681 7.159c-0.694-0.947-1.662-2.053-2.724-3.116s-2.169-2.030-3.116-2.724c-1.612-1.182-2.393-1.319-2.841-1.319h-15.5c-1.378 0-2.5 1.121-2.5 2.5v27c0 1.378 1.122 2.5 2.5 2.5h23c1.378 0 2.5-1.122 2.5-2.5v-19.5c0-0.448-0.137-1.23-1.319-2.841zM24.543 5.457c0.959 0.959 1.712 1.825 2.268 2.543h-4.811v-4.811c0.718 0.556 1.584 1.309 2.543 2.268zM28 29.5c0 0.271-0.229 0.5-0.5 0.5h-23c-0.271 0-0.5-0.229-0.5-0.5v-27c0-0.271 0.229-0.5 0.5-0.5 0 0 15.499-0 15.5 0v7c0 0.552 0.448 1 1 1h7v19.5z\"></path>\n<path d=\"M23 26h-14c-0.552 0-1-0.448-1-1s0.448-1 1-1h14c0.552 0 1 0.448 1 1s-0.448 1-1 1z\"></path>\n<path d=\"M23 22h-14c-0.552 0-1-0.448-1-1s0.448-1 1-1h14c0.552 0 1 0.448 1 1s-0.448 1-1 1z\"></path>\n<path d=\"M23 18h-14c-0.552 0-1-0.448-1-1s0.448-1 1-1h14c0.552 0 1 0.448 1 1s-0.448 1-1 1z\"></path>\n</symbol>\n</defs>\n</svg>\n<style>/* CSS stylesheet for displaying xarray objects in jupyterlab.\n *\n */\n\n:root {\n  --xr-font-color0: var(--jp-content-font-color0, rgba(0, 0, 0, 1));\n  --xr-font-color2: var(--jp-content-font-color2, rgba(0, 0, 0, 0.54));\n  --xr-font-color3: var(--jp-content-font-color3, rgba(0, 0, 0, 0.38));\n  --xr-border-color: var(--jp-border-color2, #e0e0e0);\n  --xr-disabled-color: var(--jp-layout-color3, #bdbdbd);\n  --xr-background-color: var(--jp-layout-color0, white);\n  --xr-background-color-row-even: var(--jp-layout-color1, white);\n  --xr-background-color-row-odd: var(--jp-layout-color2, #eeeeee);\n}\n\nhtml[theme=dark],\nbody.vscode-dark {\n  --xr-font-color0: rgba(255, 255, 255, 1);\n  --xr-font-color2: rgba(255, 255, 255, 0.54);\n  --xr-font-color3: rgba(255, 255, 255, 0.38);\n  --xr-border-color: #1F1F1F;\n  --xr-disabled-color: #515151;\n  --xr-background-color: #111111;\n  --xr-background-color-row-even: #111111;\n  --xr-background-color-row-odd: #313131;\n}\n\n.xr-wrap {\n  display: block;\n  min-width: 300px;\n  max-width: 700px;\n}\n\n.xr-text-repr-fallback {\n  /* fallback to plain text repr when CSS is not injected (untrusted notebook) */\n  display: none;\n}\n\n.xr-header {\n  padding-top: 6px;\n  padding-bottom: 6px;\n  margin-bottom: 4px;\n  border-bottom: solid 1px var(--xr-border-color);\n}\n\n.xr-header > div,\n.xr-header > ul {\n  display: inline;\n  margin-top: 0;\n  margin-bottom: 0;\n}\n\n.xr-obj-type,\n.xr-array-name {\n  margin-left: 2px;\n  margin-right: 10px;\n}\n\n.xr-obj-type {\n  color: var(--xr-font-color2);\n}\n\n.xr-sections {\n  padding-left: 0 !important;\n  display: grid;\n  grid-template-columns: 150px auto auto 1fr 20px 20px;\n}\n\n.xr-section-item {\n  display: contents;\n}\n\n.xr-section-item input {\n  display: none;\n}\n\n.xr-section-item input + label {\n  color: var(--xr-disabled-color);\n}\n\n.xr-section-item input:enabled + label {\n  cursor: pointer;\n  color: var(--xr-font-color2);\n}\n\n.xr-section-item input:enabled + label:hover {\n  color: var(--xr-font-color0);\n}\n\n.xr-section-summary {\n  grid-column: 1;\n  color: var(--xr-font-color2);\n  font-weight: 500;\n}\n\n.xr-section-summary > span {\n  display: inline-block;\n  padding-left: 0.5em;\n}\n\n.xr-section-summary-in:disabled + label {\n  color: var(--xr-font-color2);\n}\n\n.xr-section-summary-in + label:before {\n  display: inline-block;\n  content: '►';\n  font-size: 11px;\n  width: 15px;\n  text-align: center;\n}\n\n.xr-section-summary-in:disabled + label:before {\n  color: var(--xr-disabled-color);\n}\n\n.xr-section-summary-in:checked + label:before {\n  content: '▼';\n}\n\n.xr-section-summary-in:checked + label > span {\n  display: none;\n}\n\n.xr-section-summary,\n.xr-section-inline-details {\n  padding-top: 4px;\n  padding-bottom: 4px;\n}\n\n.xr-section-inline-details {\n  grid-column: 2 / -1;\n}\n\n.xr-section-details {\n  display: none;\n  grid-column: 1 / -1;\n  margin-bottom: 5px;\n}\n\n.xr-section-summary-in:checked ~ .xr-section-details {\n  display: contents;\n}\n\n.xr-array-wrap {\n  grid-column: 1 / -1;\n  display: grid;\n  grid-template-columns: 20px auto;\n}\n\n.xr-array-wrap > label {\n  grid-column: 1;\n  vertical-align: top;\n}\n\n.xr-preview {\n  color: var(--xr-font-color3);\n}\n\n.xr-array-preview,\n.xr-array-data {\n  padding: 0 5px !important;\n  grid-column: 2;\n}\n\n.xr-array-data,\n.xr-array-in:checked ~ .xr-array-preview {\n  display: none;\n}\n\n.xr-array-in:checked ~ .xr-array-data,\n.xr-array-preview {\n  display: inline-block;\n}\n\n.xr-dim-list {\n  display: inline-block !important;\n  list-style: none;\n  padding: 0 !important;\n  margin: 0;\n}\n\n.xr-dim-list li {\n  display: inline-block;\n  padding: 0;\n  margin: 0;\n}\n\n.xr-dim-list:before {\n  content: '(';\n}\n\n.xr-dim-list:after {\n  content: ')';\n}\n\n.xr-dim-list li:not(:last-child):after {\n  content: ',';\n  padding-right: 5px;\n}\n\n.xr-has-index {\n  font-weight: bold;\n}\n\n.xr-var-list,\n.xr-var-item {\n  display: contents;\n}\n\n.xr-var-item > div,\n.xr-var-item label,\n.xr-var-item > .xr-var-name span {\n  background-color: var(--xr-background-color-row-even);\n  margin-bottom: 0;\n}\n\n.xr-var-item > .xr-var-name:hover span {\n  padding-right: 5px;\n}\n\n.xr-var-list > li:nth-child(odd) > div,\n.xr-var-list > li:nth-child(odd) > label,\n.xr-var-list > li:nth-child(odd) > .xr-var-name span {\n  background-color: var(--xr-background-color-row-odd);\n}\n\n.xr-var-name {\n  grid-column: 1;\n}\n\n.xr-var-dims {\n  grid-column: 2;\n}\n\n.xr-var-dtype {\n  grid-column: 3;\n  text-align: right;\n  color: var(--xr-font-color2);\n}\n\n.xr-var-preview {\n  grid-column: 4;\n}\n\n.xr-var-name,\n.xr-var-dims,\n.xr-var-dtype,\n.xr-preview,\n.xr-attrs dt {\n  white-space: nowrap;\n  overflow: hidden;\n  text-overflow: ellipsis;\n  padding-right: 10px;\n}\n\n.xr-var-name:hover,\n.xr-var-dims:hover,\n.xr-var-dtype:hover,\n.xr-attrs dt:hover {\n  overflow: visible;\n  width: auto;\n  z-index: 1;\n}\n\n.xr-var-attrs,\n.xr-var-data {\n  display: none;\n  background-color: var(--xr-background-color) !important;\n  padding-bottom: 5px !important;\n}\n\n.xr-var-attrs-in:checked ~ .xr-var-attrs,\n.xr-var-data-in:checked ~ .xr-var-data {\n  display: block;\n}\n\n.xr-var-data > table {\n  float: right;\n}\n\n.xr-var-name span,\n.xr-var-data,\n.xr-attrs {\n  padding-left: 25px !important;\n}\n\n.xr-attrs,\n.xr-var-attrs,\n.xr-var-data {\n  grid-column: 1 / -1;\n}\n\ndl.xr-attrs {\n  padding: 0;\n  margin: 0;\n  display: grid;\n  grid-template-columns: 125px auto;\n}\n\n.xr-attrs dt, dd {\n  padding: 0;\n  margin: 0;\n  float: left;\n  padding-right: 10px;\n  width: auto;\n}\n\n.xr-attrs dt {\n  font-weight: normal;\n  grid-column: 1;\n}\n\n.xr-attrs dt:hover span {\n  display: inline-block;\n  background: var(--xr-background-color);\n  padding-right: 10px;\n}\n\n.xr-attrs dd {\n  grid-column: 2;\n  white-space: pre-wrap;\n  word-break: break-all;\n}\n\n.xr-icon-database,\n.xr-icon-file-text2 {\n  display: inline-block;\n  vertical-align: middle;\n  width: 1em;\n  height: 1.5em !important;\n  stroke-width: 0;\n  stroke: currentColor;\n  fill: currentColor;\n}\n</style><pre class='xr-text-repr-fallback'>&lt;xarray.Dataset&gt;\nDimensions:     (level_0: 2, level_1: 5)\nCoordinates:\n  * level_0     (level_0) object &#x27;a&#x27; &#x27;b&#x27;\n  * level_1     (level_1) int64 0 1 2 3 4\nData variables:\n    (&#x27;X&#x27;, &#x27;A&#x27;)  (level_0, level_1) float64 -1.041 nan 1.569 ... -0.7942 -0.5855\n    (&#x27;X&#x27;, &#x27;B&#x27;)  (level_0, level_1) float64 0.3583 nan 1.113 ... -2.336 -0.9786\n    (&#x27;Y&#x27;, &#x27;C&#x27;)  (level_0, level_1) float64 0.2533 nan -0.3688 ... 0.5782 -1.653\n    (&#x27;Y&#x27;, &#x27;D&#x27;)  (level_0, level_1) float64 0.465 nan 0.4721 ... 1.024 -0.2714\n    (&#x27;Y&#x27;, &#x27;E&#x27;)  (level_0, level_1) float64 -0.159 nan -0.5363 ... 2.631 -0.6092</pre><div class='xr-wrap' hidden><div class='xr-header'><div class='xr-obj-type'>xarray.Dataset</div></div><ul class='xr-sections'><li class='xr-section-item'><input id='section-72d4802c-4f01-4b1c-ad78-f5788b6d978a' class='xr-section-summary-in' type='checkbox' disabled ><label for='section-72d4802c-4f01-4b1c-ad78-f5788b6d978a' class='xr-section-summary'  title='Expand/collapse section'>Dimensions:</label><div class='xr-section-inline-details'><ul class='xr-dim-list'><li><span class='xr-has-index'>level_0</span>: 2</li><li><span class='xr-has-index'>level_1</span>: 5</li></ul></div><div class='xr-section-details'></div></li><li class='xr-section-item'><input id='section-3a435fe3-924f-4cb2-a802-61fdb70c5d34' class='xr-section-summary-in' type='checkbox'  checked><label for='section-3a435fe3-924f-4cb2-a802-61fdb70c5d34' class='xr-section-summary' >Coordinates: <span>(2)</span></label><div class='xr-section-inline-details'></div><div class='xr-section-details'><ul class='xr-var-list'><li class='xr-var-item'><div class='xr-var-name'><span class='xr-has-index'>level_0</span></div><div class='xr-var-dims'>(level_0)</div><div class='xr-var-dtype'>object</div><div class='xr-var-preview xr-preview'>&#x27;a&#x27; &#x27;b&#x27;</div><input id='attrs-4968d2a3-d49c-4c06-af4c-0685895c1e39' class='xr-var-attrs-in' type='checkbox' disabled><label for='attrs-4968d2a3-d49c-4c06-af4c-0685895c1e39' title='Show/Hide attributes'><svg class='icon xr-icon-file-text2'><use xlink:href='#icon-file-text2'></use></svg></label><input id='data-ceaeca80-7579-4430-a997-d56f9e0259cc' class='xr-var-data-in' type='checkbox'><label for='data-ceaeca80-7579-4430-a997-d56f9e0259cc' title='Show/Hide data repr'><svg class='icon xr-icon-database'><use xlink:href='#icon-database'></use></svg></label><div class='xr-var-attrs'><dl class='xr-attrs'></dl></div><div class='xr-var-data'><pre>array([&#x27;a&#x27;, &#x27;b&#x27;], dtype=object)</pre></div></li><li class='xr-var-item'><div class='xr-var-name'><span class='xr-has-index'>level_1</span></div><div class='xr-var-dims'>(level_1)</div><div class='xr-var-dtype'>int64</div><div class='xr-var-preview xr-preview'>0 1 2 3 4</div><input id='attrs-c4f8b33a-4243-46df-9f68-41c61afcac5b' class='xr-var-attrs-in' type='checkbox' disabled><label for='attrs-c4f8b33a-4243-46df-9f68-41c61afcac5b' title='Show/Hide attributes'><svg class='icon xr-icon-file-text2'><use xlink:href='#icon-file-text2'></use></svg></label><input id='data-202c0406-319f-42db-94cc-2d40d7a2ba39' class='xr-var-data-in' type='checkbox'><label for='data-202c0406-319f-42db-94cc-2d40d7a2ba39' title='Show/Hide data repr'><svg class='icon xr-icon-database'><use xlink:href='#icon-database'></use></svg></label><div class='xr-var-attrs'><dl class='xr-attrs'></dl></div><div class='xr-var-data'><pre>array([0, 1, 2, 3, 4])</pre></div></li></ul></div></li><li class='xr-section-item'><input id='section-45e75255-5488-4b5c-86e2-3869144366d8' class='xr-section-summary-in' type='checkbox'  checked><label for='section-45e75255-5488-4b5c-86e2-3869144366d8' class='xr-section-summary' >Data variables: <span>(5)</span></label><div class='xr-section-inline-details'></div><div class='xr-section-details'><ul class='xr-var-list'><li class='xr-var-item'><div class='xr-var-name'><span>(&#x27;X&#x27;, &#x27;A&#x27;)</span></div><div class='xr-var-dims'>(level_0, level_1)</div><div class='xr-var-dtype'>float64</div><div class='xr-var-preview xr-preview'>-1.041 nan ... -0.7942 -0.5855</div><input id='attrs-2f28b232-cd9c-4225-a086-d4861654be2c' class='xr-var-attrs-in' type='checkbox' disabled><label for='attrs-2f28b232-cd9c-4225-a086-d4861654be2c' title='Show/Hide attributes'><svg class='icon xr-icon-file-text2'><use xlink:href='#icon-file-text2'></use></svg></label><input id='data-653d7d90-16d0-498f-bb77-9ab799a80005' class='xr-var-data-in' type='checkbox'><label for='data-653d7d90-16d0-498f-bb77-9ab799a80005' title='Show/Hide data repr'><svg class='icon xr-icon-database'><use xlink:href='#icon-database'></use></svg></label><div class='xr-var-attrs'><dl class='xr-attrs'></dl></div><div class='xr-var-data'><pre>array([[-1.04120411,         nan,  1.56874408,         nan,         nan],\n       [        nan,  0.73707264,         nan, -0.79422786, -0.58551439]])</pre></div></li><li class='xr-var-item'><div class='xr-var-name'><span>(&#x27;X&#x27;, &#x27;B&#x27;)</span></div><div class='xr-var-dims'>(level_0, level_1)</div><div class='xr-var-dtype'>float64</div><div class='xr-var-preview xr-preview'>0.3583 nan 1.113 ... -2.336 -0.9786</div><input id='attrs-42d25f46-dd51-4baa-a1fa-904e41385cc9' class='xr-var-attrs-in' type='checkbox' disabled><label for='attrs-42d25f46-dd51-4baa-a1fa-904e41385cc9' title='Show/Hide attributes'><svg class='icon xr-icon-file-text2'><use xlink:href='#icon-file-text2'></use></svg></label><input id='data-eaaa36f7-70e2-4645-9622-5ae1b46ebcd9' class='xr-var-data-in' type='checkbox'><label for='data-eaaa36f7-70e2-4645-9622-5ae1b46ebcd9' title='Show/Hide data repr'><svg class='icon xr-icon-database'><use xlink:href='#icon-database'></use></svg></label><div class='xr-var-attrs'><dl class='xr-attrs'></dl></div><div class='xr-var-data'><pre>array([[ 0.35826411,         nan,  1.11320531,         nan,         nan],\n       [        nan, -0.961975  ,         nan, -2.33630307, -0.9786265 ]])</pre></div></li><li class='xr-var-item'><div class='xr-var-name'><span>(&#x27;Y&#x27;, &#x27;C&#x27;)</span></div><div class='xr-var-dims'>(level_0, level_1)</div><div class='xr-var-dtype'>float64</div><div class='xr-var-preview xr-preview'>0.2533 nan ... 0.5782 -1.653</div><input id='attrs-b0485ed4-7e66-4108-962c-2bad87ffbad8' class='xr-var-attrs-in' type='checkbox' disabled><label for='attrs-b0485ed4-7e66-4108-962c-2bad87ffbad8' title='Show/Hide attributes'><svg class='icon xr-icon-file-text2'><use xlink:href='#icon-file-text2'></use></svg></label><input id='data-66edd355-2fc7-4c34-8f9a-5d4d14d84991' class='xr-var-data-in' type='checkbox'><label for='data-66edd355-2fc7-4c34-8f9a-5d4d14d84991' title='Show/Hide data repr'><svg class='icon xr-icon-database'><use xlink:href='#icon-database'></use></svg></label><div class='xr-var-attrs'><dl class='xr-attrs'></dl></div><div class='xr-var-data'><pre>array([[ 0.25327773,         nan, -0.36884353,         nan,         nan],\n       [        nan, -0.24691951,         nan,  0.57815943, -1.6533748 ]])</pre></div></li><li class='xr-var-item'><div class='xr-var-name'><span>(&#x27;Y&#x27;, &#x27;D&#x27;)</span></div><div class='xr-var-dims'>(level_0, level_1)</div><div class='xr-var-dtype'>float64</div><div class='xr-var-preview xr-preview'>0.465 nan 0.4721 ... 1.024 -0.2714</div><input id='attrs-ec5cd5a7-92f6-427c-8774-012620284ea6' class='xr-var-attrs-in' type='checkbox' disabled><label for='attrs-ec5cd5a7-92f6-427c-8774-012620284ea6' title='Show/Hide attributes'><svg class='icon xr-icon-file-text2'><use xlink:href='#icon-file-text2'></use></svg></label><input id='data-9b13c3da-46c2-4681-a173-7882efc5dff6' class='xr-var-data-in' type='checkbox'><label for='data-9b13c3da-46c2-4681-a173-7882efc5dff6' title='Show/Hide data repr'><svg class='icon xr-icon-database'><use xlink:href='#icon-database'></use></svg></label><div class='xr-var-attrs'><dl class='xr-attrs'></dl></div><div class='xr-var-data'><pre>array([[ 0.4650188 ,         nan,  0.47210841,         nan,         nan],\n       [        nan, -0.0828817 ,         nan,  1.02387946, -0.27140331]])</pre></div></li><li class='xr-var-item'><div class='xr-var-name'><span>(&#x27;Y&#x27;, &#x27;E&#x27;)</span></div><div class='xr-var-dims'>(level_0, level_1)</div><div class='xr-var-dtype'>float64</div><div class='xr-var-preview xr-preview'>-0.159 nan ... 2.631 -0.6092</div><input id='attrs-9d078cfa-7bf1-4ca0-bf82-704d865e0f5c' class='xr-var-attrs-in' type='checkbox' disabled><label for='attrs-9d078cfa-7bf1-4ca0-bf82-704d865e0f5c' title='Show/Hide attributes'><svg class='icon xr-icon-file-text2'><use xlink:href='#icon-file-text2'></use></svg></label><input id='data-c4508280-2a0d-4bb2-bb68-75455bf964cd' class='xr-var-data-in' type='checkbox'><label for='data-c4508280-2a0d-4bb2-bb68-75455bf964cd' title='Show/Hide data repr'><svg class='icon xr-icon-database'><use xlink:href='#icon-database'></use></svg></label><div class='xr-var-attrs'><dl class='xr-attrs'></dl></div><div class='xr-var-data'><pre>array([[-0.15904093,         nan, -0.536254  ,         nan,         nan],\n       [        nan, -0.98933521,         nan,  2.63149241, -0.60924099]])</pre></div></li></ul></div></li><li class='xr-section-item'><input id='section-8a9d4c85-4b7f-43f1-acfc-ccd301974e78' class='xr-section-summary-in' type='checkbox' disabled ><label for='section-8a9d4c85-4b7f-43f1-acfc-ccd301974e78' class='xr-section-summary'  title='Expand/collapse section'>Attributes: <span>(0)</span></label><div class='xr-section-inline-details'></div><div class='xr-section-details'><dl class='xr-attrs'></dl></div></li></ul></div></div>"
     },
     "metadata": {},
     "execution_count": 28
    }
   ],
   "source": [
    "dfmi.to_xarray()"
   ]
  },
  {
   "cell_type": "code",
   "execution_count": 29,
   "metadata": {},
   "outputs": [],
   "source": [
    "xarr = df.to_xarray()"
   ]
  },
  {
   "cell_type": "code",
   "execution_count": 30,
   "metadata": {},
   "outputs": [
    {
     "output_type": "execute_result",
     "data": {
      "text/plain": "          X                   Y                    \n          A         B         C         D         E\n0 -1.041204  0.358264  0.253278  0.465019 -0.159041\n1  0.737073 -0.961975 -0.246920 -0.082882 -0.989335\n2  1.568744  1.113205 -0.368844  0.472108 -0.536254\n3 -0.794228 -2.336303  0.578159  1.023879  2.631492\n4 -0.585514 -0.978626 -1.653375 -0.271403 -0.609241",
      "text/html": "<div>\n<style scoped>\n    .dataframe tbody tr th:only-of-type {\n        vertical-align: middle;\n    }\n\n    .dataframe tbody tr th {\n        vertical-align: top;\n    }\n\n    .dataframe thead tr th {\n        text-align: left;\n    }\n</style>\n<table border=\"1\" class=\"dataframe\">\n  <thead>\n    <tr>\n      <th></th>\n      <th colspan=\"2\" halign=\"left\">X</th>\n      <th colspan=\"3\" halign=\"left\">Y</th>\n    </tr>\n    <tr>\n      <th></th>\n      <th>A</th>\n      <th>B</th>\n      <th>C</th>\n      <th>D</th>\n      <th>E</th>\n    </tr>\n  </thead>\n  <tbody>\n    <tr>\n      <th>0</th>\n      <td>-1.041204</td>\n      <td>0.358264</td>\n      <td>0.253278</td>\n      <td>0.465019</td>\n      <td>-0.159041</td>\n    </tr>\n    <tr>\n      <th>1</th>\n      <td>0.737073</td>\n      <td>-0.961975</td>\n      <td>-0.246920</td>\n      <td>-0.082882</td>\n      <td>-0.989335</td>\n    </tr>\n    <tr>\n      <th>2</th>\n      <td>1.568744</td>\n      <td>1.113205</td>\n      <td>-0.368844</td>\n      <td>0.472108</td>\n      <td>-0.536254</td>\n    </tr>\n    <tr>\n      <th>3</th>\n      <td>-0.794228</td>\n      <td>-2.336303</td>\n      <td>0.578159</td>\n      <td>1.023879</td>\n      <td>2.631492</td>\n    </tr>\n    <tr>\n      <th>4</th>\n      <td>-0.585514</td>\n      <td>-0.978626</td>\n      <td>-1.653375</td>\n      <td>-0.271403</td>\n      <td>-0.609241</td>\n    </tr>\n  </tbody>\n</table>\n</div>"
     },
     "metadata": {},
     "execution_count": 30
    }
   ],
   "source": [
    "dfmi_c = dfmi.copy()\n",
    "dfmi_c.index = dfmi_c.index.droplevel(0)\n",
    "dfmi_c"
   ]
  },
  {
   "cell_type": "code",
   "execution_count": 31,
   "metadata": {},
   "outputs": [
    {
     "output_type": "error",
     "ename": "ValueError",
     "evalue": "Cannot remove 1 levels from an index with 1 levels: at least one level must be left.",
     "traceback": [
      "\u001b[0;31m---------------------------------------------------------------------------\u001b[0m",
      "\u001b[0;31mValueError\u001b[0m                                Traceback (most recent call last)",
      "\u001b[0;32m<ipython-input-31-faf061783094>\u001b[0m in \u001b[0;36m<module>\u001b[0;34m\u001b[0m\n\u001b[1;32m      1\u001b[0m \u001b[0;31m# xr data array from simple pandas dataframe\u001b[0m\u001b[0;34m\u001b[0m\u001b[0;34m\u001b[0m\u001b[0;34m\u001b[0m\u001b[0m\n\u001b[1;32m      2\u001b[0m \u001b[0mdf_tmp\u001b[0m \u001b[0;34m=\u001b[0m \u001b[0mdfmi_c\u001b[0m\u001b[0;34m[\u001b[0m\u001b[0;34m'X'\u001b[0m\u001b[0;34m]\u001b[0m\u001b[0;34m\u001b[0m\u001b[0;34m\u001b[0m\u001b[0m\n\u001b[0;32m----> 3\u001b[0;31m \u001b[0mdf_tmp\u001b[0m\u001b[0;34m.\u001b[0m\u001b[0mindex\u001b[0m \u001b[0;34m=\u001b[0m \u001b[0mdf_tmp\u001b[0m\u001b[0;34m.\u001b[0m\u001b[0mindex\u001b[0m\u001b[0;34m.\u001b[0m\u001b[0mdroplevel\u001b[0m\u001b[0;34m(\u001b[0m\u001b[0;36m0\u001b[0m\u001b[0;34m)\u001b[0m\u001b[0;34m\u001b[0m\u001b[0;34m\u001b[0m\u001b[0m\n\u001b[0m\u001b[1;32m      4\u001b[0m \u001b[0mdf_tmp\u001b[0m\u001b[0;34m.\u001b[0m\u001b[0mindex\u001b[0m\u001b[0;34m.\u001b[0m\u001b[0mname\u001b[0m \u001b[0;34m=\u001b[0m \u001b[0;34m'index'\u001b[0m\u001b[0;34m\u001b[0m\u001b[0;34m\u001b[0m\u001b[0m\n\u001b[1;32m      5\u001b[0m \u001b[0mdf_tmp\u001b[0m\u001b[0;34m.\u001b[0m\u001b[0mcolumns\u001b[0m\u001b[0;34m.\u001b[0m\u001b[0mname\u001b[0m \u001b[0;34m=\u001b[0m \u001b[0;34m'cols'\u001b[0m\u001b[0;34m\u001b[0m\u001b[0;34m\u001b[0m\u001b[0m\n",
      "\u001b[0;32m~/projects/notebooks/.env/lib/python3.8/site-packages/pandas/core/indexes/base.py\u001b[0m in \u001b[0;36mdroplevel\u001b[0;34m(self, level)\u001b[0m\n\u001b[1;32m   1497\u001b[0m             \u001b[0;32mreturn\u001b[0m \u001b[0mself\u001b[0m\u001b[0;34m\u001b[0m\u001b[0;34m\u001b[0m\u001b[0m\n\u001b[1;32m   1498\u001b[0m         \u001b[0;32mif\u001b[0m \u001b[0mlen\u001b[0m\u001b[0;34m(\u001b[0m\u001b[0mlevel\u001b[0m\u001b[0;34m)\u001b[0m \u001b[0;34m>=\u001b[0m \u001b[0mself\u001b[0m\u001b[0;34m.\u001b[0m\u001b[0mnlevels\u001b[0m\u001b[0;34m:\u001b[0m\u001b[0;34m\u001b[0m\u001b[0;34m\u001b[0m\u001b[0m\n\u001b[0;32m-> 1499\u001b[0;31m             raise ValueError(\n\u001b[0m\u001b[1;32m   1500\u001b[0m                 \u001b[0;34mf\"Cannot remove {len(level)} levels from an index with {self.nlevels} \"\u001b[0m\u001b[0;34m\u001b[0m\u001b[0;34m\u001b[0m\u001b[0m\n\u001b[1;32m   1501\u001b[0m                 \u001b[0;34m\"levels: at least one level must be left.\"\u001b[0m\u001b[0;34m\u001b[0m\u001b[0;34m\u001b[0m\u001b[0m\n",
      "\u001b[0;31mValueError\u001b[0m: Cannot remove 1 levels from an index with 1 levels: at least one level must be left."
     ]
    }
   ],
   "source": [
    "# xr data array from simple pandas dataframe\n",
    "df_tmp = dfmi_c['X']\n",
    "df_tmp.index = df_tmp.index.droplevel(0)\n",
    "df_tmp.index.name = 'index'\n",
    "df_tmp.columns.name = 'cols'\n",
    "\n",
    "xarr = xr.DataArray(df_tmp)  \n",
    "xarr"
   ]
  },
  {
   "cell_type": "code",
   "execution_count": 32,
   "metadata": {},
   "outputs": [
    {
     "output_type": "error",
     "ename": "ValueError",
     "evalue": "Cannot remove 1 levels from an index with 1 levels: at least one level must be left.",
     "traceback": [
      "\u001b[0;31m---------------------------------------------------------------------------\u001b[0m",
      "\u001b[0;31mValueError\u001b[0m                                Traceback (most recent call last)",
      "\u001b[0;32m<ipython-input-32-bff44a762d8e>\u001b[0m in \u001b[0;36m<module>\u001b[0;34m\u001b[0m\n\u001b[1;32m      1\u001b[0m \u001b[0;31m# xr data array from MultiIndex dataframe\u001b[0m\u001b[0;34m\u001b[0m\u001b[0;34m\u001b[0m\u001b[0;34m\u001b[0m\u001b[0m\n\u001b[1;32m      2\u001b[0m \u001b[0mdf_tmp\u001b[0m \u001b[0;34m=\u001b[0m \u001b[0mdfmi_c\u001b[0m\u001b[0;34m.\u001b[0m\u001b[0mcopy\u001b[0m\u001b[0;34m(\u001b[0m\u001b[0;34m)\u001b[0m\u001b[0;34m\u001b[0m\u001b[0;34m\u001b[0m\u001b[0m\n\u001b[0;32m----> 3\u001b[0;31m \u001b[0mdf_tmp\u001b[0m\u001b[0;34m.\u001b[0m\u001b[0mindex\u001b[0m \u001b[0;34m=\u001b[0m \u001b[0mdf_tmp\u001b[0m\u001b[0;34m.\u001b[0m\u001b[0mindex\u001b[0m\u001b[0;34m.\u001b[0m\u001b[0mdroplevel\u001b[0m\u001b[0;34m(\u001b[0m\u001b[0;36m0\u001b[0m\u001b[0;34m)\u001b[0m\u001b[0;34m\u001b[0m\u001b[0;34m\u001b[0m\u001b[0m\n\u001b[0m\u001b[1;32m      4\u001b[0m \u001b[0mdf_tmp\u001b[0m\u001b[0;34m.\u001b[0m\u001b[0mindex\u001b[0m\u001b[0;34m.\u001b[0m\u001b[0mname\u001b[0m \u001b[0;34m=\u001b[0m \u001b[0;34m'index'\u001b[0m\u001b[0;34m\u001b[0m\u001b[0;34m\u001b[0m\u001b[0m\n\u001b[1;32m      5\u001b[0m \u001b[0mdf_tmp\u001b[0m\u001b[0;34m.\u001b[0m\u001b[0mcolumns\u001b[0m\u001b[0;34m.\u001b[0m\u001b[0mnames\u001b[0m \u001b[0;34m=\u001b[0m \u001b[0;34m[\u001b[0m\u001b[0;34m'outer'\u001b[0m\u001b[0;34m,\u001b[0m  \u001b[0;34m'inner'\u001b[0m\u001b[0;34m]\u001b[0m\u001b[0;34m\u001b[0m\u001b[0;34m\u001b[0m\u001b[0m\n",
      "\u001b[0;32m~/projects/notebooks/.env/lib/python3.8/site-packages/pandas/core/indexes/base.py\u001b[0m in \u001b[0;36mdroplevel\u001b[0;34m(self, level)\u001b[0m\n\u001b[1;32m   1497\u001b[0m             \u001b[0;32mreturn\u001b[0m \u001b[0mself\u001b[0m\u001b[0;34m\u001b[0m\u001b[0;34m\u001b[0m\u001b[0m\n\u001b[1;32m   1498\u001b[0m         \u001b[0;32mif\u001b[0m \u001b[0mlen\u001b[0m\u001b[0;34m(\u001b[0m\u001b[0mlevel\u001b[0m\u001b[0;34m)\u001b[0m \u001b[0;34m>=\u001b[0m \u001b[0mself\u001b[0m\u001b[0;34m.\u001b[0m\u001b[0mnlevels\u001b[0m\u001b[0;34m:\u001b[0m\u001b[0;34m\u001b[0m\u001b[0;34m\u001b[0m\u001b[0m\n\u001b[0;32m-> 1499\u001b[0;31m             raise ValueError(\n\u001b[0m\u001b[1;32m   1500\u001b[0m                 \u001b[0;34mf\"Cannot remove {len(level)} levels from an index with {self.nlevels} \"\u001b[0m\u001b[0;34m\u001b[0m\u001b[0;34m\u001b[0m\u001b[0m\n\u001b[1;32m   1501\u001b[0m                 \u001b[0;34m\"levels: at least one level must be left.\"\u001b[0m\u001b[0;34m\u001b[0m\u001b[0;34m\u001b[0m\u001b[0m\n",
      "\u001b[0;31mValueError\u001b[0m: Cannot remove 1 levels from an index with 1 levels: at least one level must be left."
     ]
    }
   ],
   "source": [
    "# xr data array from MultiIndex dataframe\n",
    "df_tmp = dfmi_c.copy()\n",
    "df_tmp.index = df_tmp.index.droplevel(0)\n",
    "df_tmp.index.name = 'index'\n",
    "df_tmp.columns.names = ['outer',  'inner']\n",
    "\n",
    "df_tmp = df_tmp.stack('outer')  # outer columns level will be the fields inside dataset (not symbols)\n",
    "df_tmp.to_xarray()"
   ]
  },
  {
   "cell_type": "code",
   "execution_count": null,
   "metadata": {},
   "outputs": [],
   "source": []
  },
  {
   "cell_type": "code",
   "execution_count": 33,
   "metadata": {},
   "outputs": [],
   "source": [
    "xds = xr.Dataset(\n",
    "     {\n",
    "         \"X\": (\n",
    "             (\"index\", \"cols\"),\n",
    "             dfmi_c['X'].to_numpy(),\n",
    "         )\n",
    "     },\n",
    "     coords={\"index\": dfmi_c['X'].index, \"cols\": dfmi_c['X'].columns},\n",
    " )"
   ]
  },
  {
   "cell_type": "code",
   "execution_count": 34,
   "metadata": {},
   "outputs": [],
   "source": [
    "df_tmp = dfmi_c['X']**2\n",
    "df_tmp.index.name = 'index'\n",
    "df_tmp.columns.name = 'cols'\n",
    "xds = xds.assign(Y=df_tmp)"
   ]
  },
  {
   "cell_type": "code",
   "execution_count": 35,
   "metadata": {},
   "outputs": [
    {
     "output_type": "execute_result",
     "data": {
      "text/plain": "              X                   Y          \ncols          A         B         A         B\nindex                                        \n0     -1.041204  0.358264  1.084106  0.128353\n1      0.737073 -0.961975  0.543276  0.925396\n2      1.568744  1.113205  2.460958  1.239226\n3     -0.794228 -2.336303  0.630798  5.458312\n4     -0.585514 -0.978626  0.342827  0.957710",
      "text/html": "<div>\n<style scoped>\n    .dataframe tbody tr th:only-of-type {\n        vertical-align: middle;\n    }\n\n    .dataframe tbody tr th {\n        vertical-align: top;\n    }\n\n    .dataframe thead tr th {\n        text-align: left;\n    }\n\n    .dataframe thead tr:last-of-type th {\n        text-align: right;\n    }\n</style>\n<table border=\"1\" class=\"dataframe\">\n  <thead>\n    <tr>\n      <th></th>\n      <th colspan=\"2\" halign=\"left\">X</th>\n      <th colspan=\"2\" halign=\"left\">Y</th>\n    </tr>\n    <tr>\n      <th>cols</th>\n      <th>A</th>\n      <th>B</th>\n      <th>A</th>\n      <th>B</th>\n    </tr>\n    <tr>\n      <th>index</th>\n      <th></th>\n      <th></th>\n      <th></th>\n      <th></th>\n    </tr>\n  </thead>\n  <tbody>\n    <tr>\n      <th>0</th>\n      <td>-1.041204</td>\n      <td>0.358264</td>\n      <td>1.084106</td>\n      <td>0.128353</td>\n    </tr>\n    <tr>\n      <th>1</th>\n      <td>0.737073</td>\n      <td>-0.961975</td>\n      <td>0.543276</td>\n      <td>0.925396</td>\n    </tr>\n    <tr>\n      <th>2</th>\n      <td>1.568744</td>\n      <td>1.113205</td>\n      <td>2.460958</td>\n      <td>1.239226</td>\n    </tr>\n    <tr>\n      <th>3</th>\n      <td>-0.794228</td>\n      <td>-2.336303</td>\n      <td>0.630798</td>\n      <td>5.458312</td>\n    </tr>\n    <tr>\n      <th>4</th>\n      <td>-0.585514</td>\n      <td>-0.978626</td>\n      <td>0.342827</td>\n      <td>0.957710</td>\n    </tr>\n  </tbody>\n</table>\n</div>"
     },
     "metadata": {},
     "execution_count": 35
    }
   ],
   "source": [
    "xds.to_dataframe().unstack('cols')"
   ]
  },
  {
   "cell_type": "code",
   "execution_count": 36,
   "metadata": {},
   "outputs": [
    {
     "output_type": "error",
     "ename": "AttributeError",
     "evalue": "'Dataset' object has no attribute 'dim_1'",
     "traceback": [
      "\u001b[0;31m---------------------------------------------------------------------------\u001b[0m",
      "\u001b[0;31mAttributeError\u001b[0m                            Traceback (most recent call last)",
      "\u001b[0;32m<ipython-input-36-7aff4246493d>\u001b[0m in \u001b[0;36m<module>\u001b[0;34m\u001b[0m\n\u001b[0;32m----> 1\u001b[0;31m \u001b[0mxarr\u001b[0m\u001b[0;34m.\u001b[0m\u001b[0mdim_1\u001b[0m\u001b[0;34m\u001b[0m\u001b[0;34m\u001b[0m\u001b[0m\n\u001b[0m",
      "\u001b[0;32m~/projects/notebooks/.env/lib/python3.8/site-packages/xarray/core/common.py\u001b[0m in \u001b[0;36m__getattr__\u001b[0;34m(self, name)\u001b[0m\n\u001b[1;32m    230\u001b[0m                 \u001b[0;32mwith\u001b[0m \u001b[0msuppress\u001b[0m\u001b[0;34m(\u001b[0m\u001b[0mKeyError\u001b[0m\u001b[0;34m)\u001b[0m\u001b[0;34m:\u001b[0m\u001b[0;34m\u001b[0m\u001b[0;34m\u001b[0m\u001b[0m\n\u001b[1;32m    231\u001b[0m                     \u001b[0;32mreturn\u001b[0m \u001b[0msource\u001b[0m\u001b[0;34m[\u001b[0m\u001b[0mname\u001b[0m\u001b[0;34m]\u001b[0m\u001b[0;34m\u001b[0m\u001b[0;34m\u001b[0m\u001b[0m\n\u001b[0;32m--> 232\u001b[0;31m         raise AttributeError(\n\u001b[0m\u001b[1;32m    233\u001b[0m             \u001b[0;34m\"{!r} object has no attribute {!r}\"\u001b[0m\u001b[0;34m.\u001b[0m\u001b[0mformat\u001b[0m\u001b[0;34m(\u001b[0m\u001b[0mtype\u001b[0m\u001b[0;34m(\u001b[0m\u001b[0mself\u001b[0m\u001b[0;34m)\u001b[0m\u001b[0;34m.\u001b[0m\u001b[0m__name__\u001b[0m\u001b[0;34m,\u001b[0m \u001b[0mname\u001b[0m\u001b[0;34m)\u001b[0m\u001b[0;34m\u001b[0m\u001b[0;34m\u001b[0m\u001b[0m\n\u001b[1;32m    234\u001b[0m         )\n",
      "\u001b[0;31mAttributeError\u001b[0m: 'Dataset' object has no attribute 'dim_1'"
     ]
    }
   ],
   "source": [
    "xarr.dim_1"
   ]
  },
  {
   "cell_type": "code",
   "execution_count": null,
   "metadata": {},
   "outputs": [],
   "source": []
  },
  {
   "cell_type": "code",
   "execution_count": null,
   "metadata": {},
   "outputs": [],
   "source": []
  },
  {
   "cell_type": "markdown",
   "metadata": {},
   "source": [
    "### more methods"
   ]
  },
  {
   "cell_type": "code",
   "execution_count": 37,
   "metadata": {},
   "outputs": [
    {
     "output_type": "execute_result",
     "data": {
      "text/plain": "1    3\n2    2\n4    1\n3    1\ndtype: int64"
     },
     "metadata": {},
     "execution_count": 37
    }
   ],
   "source": [
    "s = pd.Series([1, 2, 2, 1, 3, 4, 1])\n",
    "s.value_counts()  # count frequencies"
   ]
  },
  {
   "cell_type": "code",
   "execution_count": 38,
   "metadata": {},
   "outputs": [
    {
     "output_type": "execute_result",
     "data": {
      "text/plain": "[(-1, 0], (0, 1], (0, 1], (0, 1], (1, 2], ..., (1.0, 2.0], (1.0, 2.0], (1.0, 2.0], (1.0, 2.0], NaN]\nLength: 100\nCategories (4, interval[int64]): [(-2, -1] < (-1, 0] < (0, 1] < (1, 2]]"
     },
     "metadata": {},
     "execution_count": 38
    },
    {
     "output_type": "execute_result",
     "data": {
      "text/plain": "[(-0.546, 0.136], (-0.546, 0.136], (0.545, 0.953], (0.545, 0.953], (1.381, 1.531], ..., (1.381, 1.531], (1.205, 1.381], (1.381, 1.531], (1.205, 1.381], (2.191, 3.128]]\nLength: 100\nCategories (10, interval[float64]): [(-1.9649999999999999, -0.546] < (-0.546, 0.136] < (0.136, 0.545] < (0.545, 0.953] ... (1.381, 1.531] < (1.531, 1.71] < (1.71, 2.191] < (2.191, 3.128]]"
     },
     "metadata": {},
     "execution_count": 38
    }
   ],
   "source": [
    "# cut qcut\n",
    "arr = rng.normal(1, size=100)\n",
    "\n",
    "pd.cut(arr, [-2, -1, 0, 1, 2])  # specify bin for each value, arg = bin edges\n",
    "\n",
    "pd.qcut(arr, 10)  # same but bin edges are given by quantiles"
   ]
  },
  {
   "cell_type": "markdown",
   "metadata": {},
   "source": []
  },
  {
   "cell_type": "code",
   "execution_count": 39,
   "metadata": {},
   "outputs": [
    {
     "output_type": "execute_result",
     "data": {
      "text/plain": "                   0          1         2          3         4\nsum         9.458429  12.964575  7.242496  15.313474  9.422411\nmean        0.945843   1.296457  0.724250   1.531347  0.942241\n<lambda_0>  0.612693   0.523325  0.963734   0.401169  0.567772",
      "text/html": "<div>\n<style scoped>\n    .dataframe tbody tr th:only-of-type {\n        vertical-align: middle;\n    }\n\n    .dataframe tbody tr th {\n        vertical-align: top;\n    }\n\n    .dataframe thead th {\n        text-align: right;\n    }\n</style>\n<table border=\"1\" class=\"dataframe\">\n  <thead>\n    <tr style=\"text-align: right;\">\n      <th></th>\n      <th>0</th>\n      <th>1</th>\n      <th>2</th>\n      <th>3</th>\n      <th>4</th>\n    </tr>\n  </thead>\n  <tbody>\n    <tr>\n      <th>sum</th>\n      <td>9.458429</td>\n      <td>12.964575</td>\n      <td>7.242496</td>\n      <td>15.313474</td>\n      <td>9.422411</td>\n    </tr>\n    <tr>\n      <th>mean</th>\n      <td>0.945843</td>\n      <td>1.296457</td>\n      <td>0.724250</td>\n      <td>1.531347</td>\n      <td>0.942241</td>\n    </tr>\n    <tr>\n      <th>&lt;lambda_0&gt;</th>\n      <td>0.612693</td>\n      <td>0.523325</td>\n      <td>0.963734</td>\n      <td>0.401169</td>\n      <td>0.567772</td>\n    </tr>\n  </tbody>\n</table>\n</div>"
     },
     "metadata": {},
     "execution_count": 39
    },
    {
     "output_type": "execute_result",
     "data": {
      "text/plain": "2    0.724250\n4    0.567772\ndtype: float64"
     },
     "metadata": {},
     "execution_count": 39
    }
   ],
   "source": [
    "df = pd.DataFrame(rng.normal(1, size=(10, 5)))\n",
    "\n",
    "df.agg(['sum', 'mean', lambda x: x.sum()/(x**2).sum()])  # aggregation using specification or function\n",
    "\n",
    "df.agg({2: 'mean', 4: lambda x: x.sum()/(x**2).sum()})  # aggregation with dict (keys are some columns)"
   ]
  },
  {
   "cell_type": "code",
   "execution_count": 40,
   "metadata": {},
   "outputs": [
    {
     "output_type": "execute_result",
     "data": {
      "text/plain": "          0              1              2              3              4     \n   absolute sign  absolute sign  absolute sign  absolute sign  absolute sign\n0  0.283112 -1.0  0.528012  1.0  1.170206  1.0  3.060797  1.0  0.736590  1.0\n1  2.021603  1.0  1.033614  1.0  1.129234  1.0  0.026813 -1.0  2.209747  1.0\n2  1.536799  1.0  0.444733  1.0  0.010807  1.0  0.874342  1.0  0.642048 -1.0\n3  0.404857  1.0  0.926538  1.0  0.426954  1.0  2.955144  1.0  1.237050  1.0\n4  1.558058  1.0  3.550563  1.0  0.826359  1.0  1.244988  1.0  0.319824  1.0\n5  1.059222  1.0  0.600856  1.0  0.169668 -1.0  2.885923  1.0  1.346565  1.0\n6  0.856279  1.0  2.011052  1.0  1.040916  1.0  2.083728  1.0  2.350831  1.0\n7  1.227110  1.0  0.949256  1.0  1.352407  1.0  0.062873  1.0  1.260604  1.0\n8  1.628680  1.0  1.148498  1.0  0.777598  1.0  0.080225 -1.0  0.216971  1.0\n9  0.551067 -1.0  1.771452  1.0  0.677683  1.0  2.252717  1.0  0.386277  1.0",
      "text/html": "<div>\n<style scoped>\n    .dataframe tbody tr th:only-of-type {\n        vertical-align: middle;\n    }\n\n    .dataframe tbody tr th {\n        vertical-align: top;\n    }\n\n    .dataframe thead tr th {\n        text-align: left;\n    }\n</style>\n<table border=\"1\" class=\"dataframe\">\n  <thead>\n    <tr>\n      <th></th>\n      <th colspan=\"2\" halign=\"left\">0</th>\n      <th colspan=\"2\" halign=\"left\">1</th>\n      <th colspan=\"2\" halign=\"left\">2</th>\n      <th colspan=\"2\" halign=\"left\">3</th>\n      <th colspan=\"2\" halign=\"left\">4</th>\n    </tr>\n    <tr>\n      <th></th>\n      <th>absolute</th>\n      <th>sign</th>\n      <th>absolute</th>\n      <th>sign</th>\n      <th>absolute</th>\n      <th>sign</th>\n      <th>absolute</th>\n      <th>sign</th>\n      <th>absolute</th>\n      <th>sign</th>\n    </tr>\n  </thead>\n  <tbody>\n    <tr>\n      <th>0</th>\n      <td>0.283112</td>\n      <td>-1.0</td>\n      <td>0.528012</td>\n      <td>1.0</td>\n      <td>1.170206</td>\n      <td>1.0</td>\n      <td>3.060797</td>\n      <td>1.0</td>\n      <td>0.736590</td>\n      <td>1.0</td>\n    </tr>\n    <tr>\n      <th>1</th>\n      <td>2.021603</td>\n      <td>1.0</td>\n      <td>1.033614</td>\n      <td>1.0</td>\n      <td>1.129234</td>\n      <td>1.0</td>\n      <td>0.026813</td>\n      <td>-1.0</td>\n      <td>2.209747</td>\n      <td>1.0</td>\n    </tr>\n    <tr>\n      <th>2</th>\n      <td>1.536799</td>\n      <td>1.0</td>\n      <td>0.444733</td>\n      <td>1.0</td>\n      <td>0.010807</td>\n      <td>1.0</td>\n      <td>0.874342</td>\n      <td>1.0</td>\n      <td>0.642048</td>\n      <td>-1.0</td>\n    </tr>\n    <tr>\n      <th>3</th>\n      <td>0.404857</td>\n      <td>1.0</td>\n      <td>0.926538</td>\n      <td>1.0</td>\n      <td>0.426954</td>\n      <td>1.0</td>\n      <td>2.955144</td>\n      <td>1.0</td>\n      <td>1.237050</td>\n      <td>1.0</td>\n    </tr>\n    <tr>\n      <th>4</th>\n      <td>1.558058</td>\n      <td>1.0</td>\n      <td>3.550563</td>\n      <td>1.0</td>\n      <td>0.826359</td>\n      <td>1.0</td>\n      <td>1.244988</td>\n      <td>1.0</td>\n      <td>0.319824</td>\n      <td>1.0</td>\n    </tr>\n    <tr>\n      <th>5</th>\n      <td>1.059222</td>\n      <td>1.0</td>\n      <td>0.600856</td>\n      <td>1.0</td>\n      <td>0.169668</td>\n      <td>-1.0</td>\n      <td>2.885923</td>\n      <td>1.0</td>\n      <td>1.346565</td>\n      <td>1.0</td>\n    </tr>\n    <tr>\n      <th>6</th>\n      <td>0.856279</td>\n      <td>1.0</td>\n      <td>2.011052</td>\n      <td>1.0</td>\n      <td>1.040916</td>\n      <td>1.0</td>\n      <td>2.083728</td>\n      <td>1.0</td>\n      <td>2.350831</td>\n      <td>1.0</td>\n    </tr>\n    <tr>\n      <th>7</th>\n      <td>1.227110</td>\n      <td>1.0</td>\n      <td>0.949256</td>\n      <td>1.0</td>\n      <td>1.352407</td>\n      <td>1.0</td>\n      <td>0.062873</td>\n      <td>1.0</td>\n      <td>1.260604</td>\n      <td>1.0</td>\n    </tr>\n    <tr>\n      <th>8</th>\n      <td>1.628680</td>\n      <td>1.0</td>\n      <td>1.148498</td>\n      <td>1.0</td>\n      <td>0.777598</td>\n      <td>1.0</td>\n      <td>0.080225</td>\n      <td>-1.0</td>\n      <td>0.216971</td>\n      <td>1.0</td>\n    </tr>\n    <tr>\n      <th>9</th>\n      <td>0.551067</td>\n      <td>-1.0</td>\n      <td>1.771452</td>\n      <td>1.0</td>\n      <td>0.677683</td>\n      <td>1.0</td>\n      <td>2.252717</td>\n      <td>1.0</td>\n      <td>0.386277</td>\n      <td>1.0</td>\n    </tr>\n  </tbody>\n</table>\n</div>"
     },
     "metadata": {},
     "execution_count": 40
    }
   ],
   "source": [
    "# transform : with 1 function similar to ufunc, with multiple functions : multiindex is returned\n",
    "df.transform([np.abs, np.sign])  "
   ]
  },
  {
   "cell_type": "code",
   "execution_count": 41,
   "metadata": {},
   "outputs": [
    {
     "output_type": "execute_result",
     "data": {
      "text/plain": "e    0.992928\nb    0.912008\nf         NaN\nd   -0.729259\ndtype: float64"
     },
     "metadata": {},
     "execution_count": 41
    },
    {
     "output_type": "execute_result",
     "data": {
      "text/plain": "a  0   -0.909457\nb  1    0.912008\nc  2    0.477306\nd  3   -0.729259\ne  4    0.992928\ndtype: float64"
     },
     "metadata": {},
     "execution_count": 41
    },
    {
     "output_type": "execute_result",
     "data": {
      "text/plain": "d  3   -0.729259\ndtype: float64"
     },
     "metadata": {},
     "execution_count": 41
    }
   ],
   "source": [
    "s = pd.Series(rng.standard_normal(size=5), index=['a', 'b', 'c', 'd', 'e'])\n",
    "\n",
    "s.reindex(['e', 'b', 'f', 'd'])\n",
    "#s.loc[['e', 'b', 'f', 'd']]  # this won't work\n",
    "\n",
    "s.index = pd.MultiIndex.from_tuples(zip(s.index, range(5)))\n",
    "s\n",
    "s.loc[(['e', 'b', 'f', 'd'], 3)]  # for multiindex loc - this call won't complain about missing value 'f', would return empty Series if just 'f' passed"
   ]
  },
  {
   "cell_type": "code",
   "execution_count": 42,
   "metadata": {},
   "outputs": [
    {
     "output_type": "execute_result",
     "data": {
      "text/plain": "a  0   -0.909457\nb  1    0.912008\nc  2    0.477306\ndtype: float64"
     },
     "metadata": {},
     "execution_count": 42
    }
   ],
   "source": [
    "s.reindex_like(s.iloc[:3])"
   ]
  },
  {
   "cell_type": "code",
   "execution_count": 43,
   "metadata": {},
   "outputs": [
    {
     "output_type": "execute_result",
     "data": {
      "text/plain": "(a    1.020944\n b    0.261951\n c    0.626301\n d   -0.329211\n e         NaN\n dtype: float64,\n a         NaN\n b    0.261951\n c    0.626301\n d   -0.329211\n e    0.810246\n dtype: float64)"
     },
     "metadata": {},
     "execution_count": 43
    },
    {
     "output_type": "execute_result",
     "data": {
      "text/plain": "(b    0.261951\n c    0.626301\n d   -0.329211\n dtype: float64,\n b    0.261951\n c    0.626301\n d   -0.329211\n dtype: float64)"
     },
     "metadata": {},
     "execution_count": 43
    },
    {
     "output_type": "execute_result",
     "data": {
      "text/plain": "(a    1.020944\n b    0.261951\n c    0.626301\n d   -0.329211\n dtype: float64,\n a         NaN\n b    0.261951\n c    0.626301\n d   -0.329211\n dtype: float64)"
     },
     "metadata": {},
     "execution_count": 43
    }
   ],
   "source": [
    "# aligning\n",
    "\n",
    "s = pd.Series(np.random.randn(5), index=['a', 'b', 'c', 'd', 'e'])\n",
    "s1 = s[:4]\n",
    "s2 = s[1:]\n",
    "\n",
    "s1.align(s2)\n",
    "s1.align(s2, join='inner')  # index intersection\n",
    "s1.align(s2, join='left')  # index from s1"
   ]
  },
  {
   "cell_type": "code",
   "execution_count": 44,
   "metadata": {},
   "outputs": [
    {
     "output_type": "execute_result",
     "data": {
      "text/plain": "0    1.0\n1    2.0\n2    3.0\n3    NaN\n4    NaN\n5    NaN\n6    3.0\n7    2.0\n8    NaN\ndtype: float64"
     },
     "metadata": {},
     "execution_count": 44
    },
    {
     "output_type": "execute_result",
     "data": {
      "text/plain": "0    1.0\n1    2.0\n2    3.0\n3    3.0\n4    3.0\n5    NaN\n6    3.0\n7    2.0\n8    2.0\ndtype: float64"
     },
     "metadata": {},
     "execution_count": 44
    }
   ],
   "source": [
    "s = pd.Series([1, 2, 3, np.nan, np.nan, np.nan, 3, 2, np.nan])\n",
    "s\n",
    "\n",
    "s.ffill(limit=2)  # ffill max, limit specifies the max ffill horizon\n",
    "# tolerance argument specifies the max index distance for ffill"
   ]
  },
  {
   "cell_type": "code",
   "execution_count": 32,
   "metadata": {},
   "outputs": [
    {
     "output_type": "execute_result",
     "data": {
      "text/plain": "Index(['a', 'd'], dtype='object')"
     },
     "metadata": {},
     "execution_count": 32
    },
    {
     "output_type": "execute_result",
     "data": {
      "text/plain": "Index(['b', 'c', 'e'], dtype='object')"
     },
     "metadata": {},
     "execution_count": 32
    }
   ],
   "source": []
  },
  {
   "cell_type": "code",
   "execution_count": 45,
   "metadata": {},
   "outputs": [
    {
     "output_type": "execute_result",
     "data": {
      "text/plain": "A    0\nB    0\nC    0\nD    0\nE    0\ndtype: int64"
     },
     "metadata": {},
     "execution_count": 45
    },
    {
     "output_type": "execute_result",
     "data": {
      "text/plain": "1    0\n2    0\nc    0\nd    0\ne    0\ndtype: int64"
     },
     "metadata": {},
     "execution_count": 45
    }
   ],
   "source": [
    "s = pd.Series(0, index=list('abcde'))\n",
    "s.rename(str.upper)  # rename take a function to be applied to index, cols, or a dict#\n",
    "s.rename({'a': 1, 'b': 2})"
   ]
  },
  {
   "cell_type": "markdown",
   "metadata": {},
   "source": [
    "* iterating through pandas rows or columns is generally quite slow\n",
    "* never modify a df while iterating over it"
   ]
  },
  {
   "cell_type": "code",
   "execution_count": 46,
   "metadata": {
    "tags": []
   },
   "outputs": [
    {
     "output_type": "stream",
     "name": "stdout",
     "text": "0 -1.564875638841265\n1 -0.00975275883130248\n2 -0.7979255264982319\n3 1.025141820130099\n4 0.07116824414361307\n5 0.007518299876764157\n6 -0.43202814627277786\n7 -0.1133377704752121\n8 -1.7443064859078656\n9 1.2221873366418237\n\n\nA -1.564875638841265\nB 0.6055413419407139\nC -0.7650759762582486\nD 1.3299661267888203\nE 1.4840629313670912\n"
    }
   ],
   "source": [
    "df = pd.DataFrame(rng.standard_normal(size=(10, 5)), columns=list('ABCDE'))\n",
    "\n",
    "for idx, row in df.iterrows():\n",
    "    print(idx, row['A'])\n",
    "\n",
    "print('\\n')\n",
    "\n",
    "for col, ser in df.items():\n",
    "    print(col, ser[0])\n"
   ]
  },
  {
   "cell_type": "code",
   "execution_count": 47,
   "metadata": {},
   "outputs": [
    {
     "output_type": "execute_result",
     "data": {
      "text/plain": "0    a\n1    b\n2    c\ndtype: object"
     },
     "metadata": {},
     "execution_count": 47
    },
    {
     "output_type": "execute_result",
     "data": {
      "text/plain": "0    A\n1    B\n2    C\ndtype: object"
     },
     "metadata": {},
     "execution_count": 47
    },
    {
     "output_type": "execute_result",
     "data": {
      "text/plain": "0    0\n1    0\n2    0\ndtype: int64"
     },
     "metadata": {},
     "execution_count": 47
    }
   ],
   "source": [
    "# special accessors\n",
    "s = pd.Series(['a', 'b', 'c'])\n",
    "s\n",
    "s.str.upper()  # str methods\n",
    "\n",
    "s = pd.Series(pd.date_range('2020-01-01', '2020-01-03'))\n",
    "s.dt.hour  # datetime methods"
   ]
  },
  {
   "cell_type": "code",
   "execution_count": 48,
   "metadata": {},
   "outputs": [
    {
     "output_type": "execute_result",
     "data": {
      "text/plain": "0   2020-01-01 00:00:00+00:00\n1   2020-01-02 00:00:00+00:00\n2   2020-01-03 00:00:00+00:00\ndtype: datetime64[ns, UTC]"
     },
     "metadata": {},
     "execution_count": 48
    },
    {
     "output_type": "execute_result",
     "data": {
      "text/plain": "array(['2020-01-01T00:00:00.000000000', '2020-01-02T00:00:00.000000000',\n       '2020-01-03T00:00:00.000000000'], dtype='datetime64[ns]')"
     },
     "metadata": {},
     "execution_count": 48
    }
   ],
   "source": [
    "s.dt.tz_localize('UTC')\n",
    "s.to_numpy()"
   ]
  },
  {
   "cell_type": "markdown",
   "metadata": {},
   "source": [
    "pandas mostly uses dtype from numpy"
   ]
  },
  {
   "cell_type": "code",
   "execution_count": 49,
   "metadata": {},
   "outputs": [
    {
     "output_type": "execute_result",
     "data": {
      "text/plain": "A    float16\nB    float64\nC      uint8\ndtype: object"
     },
     "metadata": {},
     "execution_count": 49
    }
   ],
   "source": [
    "df2 = pd.DataFrame({'A': pd.Series(np.random.randn(8), dtype='float16'),\n",
    " 'B': pd.Series(np.random.randn(8)),\n",
    " 'C': pd.Series(np.array(np.random.randn(8),\n",
    " dtype='uint8'))})\n",
    "\n",
    "df2.dtypes  # dtypes are preserved "
   ]
  },
  {
   "cell_type": "markdown",
   "metadata": {},
   "source": [
    "### indexing"
   ]
  },
  {
   "cell_type": "code",
   "execution_count": 50,
   "metadata": {},
   "outputs": [
    {
     "output_type": "execute_result",
     "data": {
      "text/plain": "0   -1.564876\n1   -0.009753\n2   -0.797926\n3    1.025142\n4    0.071168\n5    0.007518\n6   -0.432028\n7   -0.113338\n8   -1.744306\n9    1.222187\nName: A, dtype: float64"
     },
     "metadata": {},
     "execution_count": 50
    },
    {
     "output_type": "execute_result",
     "data": {
      "text/plain": "A   -0.797926\nB   -2.035976\nC    0.444523\nD    0.884394\nE    1.729274\nName: 2, dtype: float64"
     },
     "metadata": {},
     "execution_count": 50
    }
   ],
   "source": [
    "df['A']\n",
    "df.loc[2]"
   ]
  },
  {
   "cell_type": "code",
   "execution_count": 51,
   "metadata": {},
   "outputs": [
    {
     "output_type": "execute_result",
     "data": {
      "text/plain": "            A         B\na 0 -1.041204  0.358264\nb 1  0.737073 -0.961975\na 2  1.568744  1.113205\nb 3 -0.794228 -2.336303\n  4 -0.585514 -0.978626",
      "text/html": "<div>\n<style scoped>\n    .dataframe tbody tr th:only-of-type {\n        vertical-align: middle;\n    }\n\n    .dataframe tbody tr th {\n        vertical-align: top;\n    }\n\n    .dataframe thead th {\n        text-align: right;\n    }\n</style>\n<table border=\"1\" class=\"dataframe\">\n  <thead>\n    <tr style=\"text-align: right;\">\n      <th></th>\n      <th></th>\n      <th>A</th>\n      <th>B</th>\n    </tr>\n  </thead>\n  <tbody>\n    <tr>\n      <th>a</th>\n      <th>0</th>\n      <td>-1.041204</td>\n      <td>0.358264</td>\n    </tr>\n    <tr>\n      <th>b</th>\n      <th>1</th>\n      <td>0.737073</td>\n      <td>-0.961975</td>\n    </tr>\n    <tr>\n      <th>a</th>\n      <th>2</th>\n      <td>1.568744</td>\n      <td>1.113205</td>\n    </tr>\n    <tr>\n      <th rowspan=\"2\" valign=\"top\">b</th>\n      <th>3</th>\n      <td>-0.794228</td>\n      <td>-2.336303</td>\n    </tr>\n    <tr>\n      <th>4</th>\n      <td>-0.585514</td>\n      <td>-0.978626</td>\n    </tr>\n  </tbody>\n</table>\n</div>"
     },
     "metadata": {},
     "execution_count": 51
    },
    {
     "output_type": "execute_result",
     "data": {
      "text/plain": "a  0   -1.041204\nb  1    0.737073\na  2    1.568744\nb  3   -0.794228\n   4   -0.585514\nName: (X, A), dtype: float64"
     },
     "metadata": {},
     "execution_count": 51
    },
    {
     "output_type": "execute_result",
     "data": {
      "text/plain": "Empty DataFrame\nColumns: []\nIndex: [(a, 0), (b, 1), (a, 2), (b, 3), (b, 4)]",
      "text/html": "<div>\n<style scoped>\n    .dataframe tbody tr th:only-of-type {\n        vertical-align: middle;\n    }\n\n    .dataframe tbody tr th {\n        vertical-align: top;\n    }\n\n    .dataframe thead tr th {\n        text-align: left;\n    }\n</style>\n<table border=\"1\" class=\"dataframe\">\n  <thead>\n  </thead>\n  <tbody>\n    <tr>\n      <th>a</th>\n      <th>0</th>\n    </tr>\n    <tr>\n      <th>b</th>\n      <th>1</th>\n    </tr>\n    <tr>\n      <th>a</th>\n      <th>2</th>\n    </tr>\n    <tr>\n      <th rowspan=\"2\" valign=\"top\">b</th>\n      <th>3</th>\n    </tr>\n    <tr>\n      <th>4</th>\n    </tr>\n  </tbody>\n</table>\n</div>"
     },
     "metadata": {},
     "execution_count": 51
    }
   ],
   "source": [
    "dfmi['X']\n",
    "\n",
    "# dfmi['W']  # key error\n",
    "\n",
    "dfmi[('X', 'A')]  \n",
    "#dfmi[('W', 'A')]  # won't work, key error\n",
    "\n",
    "dfmi.loc[:, (['W'], 'A')]  # returns empty df, despite missing col 'W', won't complain"
   ]
  },
  {
   "cell_type": "code",
   "execution_count": 52,
   "metadata": {},
   "outputs": [
    {
     "output_type": "execute_result",
     "data": {
      "text/plain": "     X            Y                    \n     A  B         C         D         E\na 0 -1 -1  0.253278  0.465019 -0.159041\nb 1 -1 -1 -0.246920 -0.082882 -0.989335\na 2 -1 -1 -0.368844  0.472108 -0.536254\nb 3 -1 -1  0.578159  1.023879  2.631492\n  4 -1 -1 -1.653375 -0.271403 -0.609241",
      "text/html": "<div>\n<style scoped>\n    .dataframe tbody tr th:only-of-type {\n        vertical-align: middle;\n    }\n\n    .dataframe tbody tr th {\n        vertical-align: top;\n    }\n\n    .dataframe thead tr th {\n        text-align: left;\n    }\n</style>\n<table border=\"1\" class=\"dataframe\">\n  <thead>\n    <tr>\n      <th></th>\n      <th></th>\n      <th colspan=\"2\" halign=\"left\">X</th>\n      <th colspan=\"3\" halign=\"left\">Y</th>\n    </tr>\n    <tr>\n      <th></th>\n      <th></th>\n      <th>A</th>\n      <th>B</th>\n      <th>C</th>\n      <th>D</th>\n      <th>E</th>\n    </tr>\n  </thead>\n  <tbody>\n    <tr>\n      <th>a</th>\n      <th>0</th>\n      <td>-1</td>\n      <td>-1</td>\n      <td>0.253278</td>\n      <td>0.465019</td>\n      <td>-0.159041</td>\n    </tr>\n    <tr>\n      <th>b</th>\n      <th>1</th>\n      <td>-1</td>\n      <td>-1</td>\n      <td>-0.246920</td>\n      <td>-0.082882</td>\n      <td>-0.989335</td>\n    </tr>\n    <tr>\n      <th>a</th>\n      <th>2</th>\n      <td>-1</td>\n      <td>-1</td>\n      <td>-0.368844</td>\n      <td>0.472108</td>\n      <td>-0.536254</td>\n    </tr>\n    <tr>\n      <th rowspan=\"2\" valign=\"top\">b</th>\n      <th>3</th>\n      <td>-1</td>\n      <td>-1</td>\n      <td>0.578159</td>\n      <td>1.023879</td>\n      <td>2.631492</td>\n    </tr>\n    <tr>\n      <th>4</th>\n      <td>-1</td>\n      <td>-1</td>\n      <td>-1.653375</td>\n      <td>-0.271403</td>\n      <td>-0.609241</td>\n    </tr>\n  </tbody>\n</table>\n</div>"
     },
     "metadata": {},
     "execution_count": 52
    },
    {
     "output_type": "execute_result",
     "data": {
      "text/plain": "       X              Y                    \n       A    B         C         D         E\na 0  1.0  1.0  0.253278  0.465019 -0.159041\nb 1  1.0  1.0 -0.246920 -0.082882 -0.989335\na 2  1.0  1.0 -0.368844  0.472108 -0.536254\nb 3  1.0  1.0  0.578159  1.023879  2.631492\n  4  1.0  1.0 -1.653375 -0.271403 -0.609241",
      "text/html": "<div>\n<style scoped>\n    .dataframe tbody tr th:only-of-type {\n        vertical-align: middle;\n    }\n\n    .dataframe tbody tr th {\n        vertical-align: top;\n    }\n\n    .dataframe thead tr th {\n        text-align: left;\n    }\n</style>\n<table border=\"1\" class=\"dataframe\">\n  <thead>\n    <tr>\n      <th></th>\n      <th></th>\n      <th colspan=\"2\" halign=\"left\">X</th>\n      <th colspan=\"3\" halign=\"left\">Y</th>\n    </tr>\n    <tr>\n      <th></th>\n      <th></th>\n      <th>A</th>\n      <th>B</th>\n      <th>C</th>\n      <th>D</th>\n      <th>E</th>\n    </tr>\n  </thead>\n  <tbody>\n    <tr>\n      <th>a</th>\n      <th>0</th>\n      <td>1.0</td>\n      <td>1.0</td>\n      <td>0.253278</td>\n      <td>0.465019</td>\n      <td>-0.159041</td>\n    </tr>\n    <tr>\n      <th>b</th>\n      <th>1</th>\n      <td>1.0</td>\n      <td>1.0</td>\n      <td>-0.246920</td>\n      <td>-0.082882</td>\n      <td>-0.989335</td>\n    </tr>\n    <tr>\n      <th>a</th>\n      <th>2</th>\n      <td>1.0</td>\n      <td>1.0</td>\n      <td>-0.368844</td>\n      <td>0.472108</td>\n      <td>-0.536254</td>\n    </tr>\n    <tr>\n      <th rowspan=\"2\" valign=\"top\">b</th>\n      <th>3</th>\n      <td>1.0</td>\n      <td>1.0</td>\n      <td>0.578159</td>\n      <td>1.023879</td>\n      <td>2.631492</td>\n    </tr>\n    <tr>\n      <th>4</th>\n      <td>1.0</td>\n      <td>1.0</td>\n      <td>-1.653375</td>\n      <td>-0.271403</td>\n      <td>-0.609241</td>\n    </tr>\n  </tbody>\n</table>\n</div>"
     },
     "metadata": {},
     "execution_count": 52
    },
    {
     "output_type": "execute_result",
     "data": {
      "text/plain": "       X              Y                    \n       A    B         C         D         E\na 0  1.0  1.0  0.253278  0.465019 -0.159041\nb 1  1.0  1.0 -0.246920 -0.082882 -0.989335\na 2  1.0  1.0 -0.368844  0.472108 -0.536254\nb 3  1.0  1.0  0.578159  1.023879  2.631492\n  4  1.0  1.0 -1.653375 -0.271403 -0.609241",
      "text/html": "<div>\n<style scoped>\n    .dataframe tbody tr th:only-of-type {\n        vertical-align: middle;\n    }\n\n    .dataframe tbody tr th {\n        vertical-align: top;\n    }\n\n    .dataframe thead tr th {\n        text-align: left;\n    }\n</style>\n<table border=\"1\" class=\"dataframe\">\n  <thead>\n    <tr>\n      <th></th>\n      <th></th>\n      <th colspan=\"2\" halign=\"left\">X</th>\n      <th colspan=\"3\" halign=\"left\">Y</th>\n    </tr>\n    <tr>\n      <th></th>\n      <th></th>\n      <th>A</th>\n      <th>B</th>\n      <th>C</th>\n      <th>D</th>\n      <th>E</th>\n    </tr>\n  </thead>\n  <tbody>\n    <tr>\n      <th>a</th>\n      <th>0</th>\n      <td>1.0</td>\n      <td>1.0</td>\n      <td>0.253278</td>\n      <td>0.465019</td>\n      <td>-0.159041</td>\n    </tr>\n    <tr>\n      <th>b</th>\n      <th>1</th>\n      <td>1.0</td>\n      <td>1.0</td>\n      <td>-0.246920</td>\n      <td>-0.082882</td>\n      <td>-0.989335</td>\n    </tr>\n    <tr>\n      <th>a</th>\n      <th>2</th>\n      <td>1.0</td>\n      <td>1.0</td>\n      <td>-0.368844</td>\n      <td>0.472108</td>\n      <td>-0.536254</td>\n    </tr>\n    <tr>\n      <th rowspan=\"2\" valign=\"top\">b</th>\n      <th>3</th>\n      <td>1.0</td>\n      <td>1.0</td>\n      <td>0.578159</td>\n      <td>1.023879</td>\n      <td>2.631492</td>\n    </tr>\n    <tr>\n      <th>4</th>\n      <td>1.0</td>\n      <td>1.0</td>\n      <td>-1.653375</td>\n      <td>-0.271403</td>\n      <td>-0.609241</td>\n    </tr>\n  </tbody>\n</table>\n</div>"
     },
     "metadata": {},
     "execution_count": 52
    }
   ],
   "source": [
    "dfmi_c = dfmi.copy()\n",
    "dfmi_c.loc[:, ('X', slice('A', 'C'))] = -1  # use loc to assign\n",
    "dfmi_c\n",
    "\n",
    "dfmi_c = dfmi.copy()\n",
    "dfmi_c.loc[:, ('X', ['A', 'B'])] = np.ones((5, 2))  # use slice to assign to multiple MI cols\n",
    "dfmi_c\n",
    "\n",
    "dfmi_c = dfmi.copy()\n",
    "dfmi_c.loc[:, ('X', slice(None))] = np.ones((5, 2))  # slice(None) : assign to all\n",
    "dfmi_c"
   ]
  },
  {
   "cell_type": "code",
   "execution_count": null,
   "metadata": {},
   "outputs": [],
   "source": []
  },
  {
   "cell_type": "code",
   "execution_count": null,
   "metadata": {},
   "outputs": [],
   "source": []
  },
  {
   "cell_type": "markdown",
   "metadata": {},
   "source": [
    "## concat, merge, join"
   ]
  },
  {
   "cell_type": "markdown",
   "metadata": {},
   "source": [
    "### concat"
   ]
  },
  {
   "cell_type": "code",
   "execution_count": 53,
   "metadata": {},
   "outputs": [],
   "source": [
    "df1 = pd.DataFrame(rng.standard_normal(size=(7, 3)), index=list('abcdefg'))\n",
    "df2 = pd.DataFrame(rng.standard_normal(size=(5, 3)), index=list('fgxyz'))"
   ]
  },
  {
   "cell_type": "code",
   "execution_count": 54,
   "metadata": {},
   "outputs": [
    {
     "output_type": "execute_result",
     "data": {
      "text/plain": "          0         1         2\na -0.099870  2.283947 -0.746802\nb  0.561272 -0.758681 -1.464779\nc -0.676359  0.347864  1.157671\nd  1.082971 -0.507684  0.068476\ne -0.053727 -0.466880 -2.188589\nf -1.687722 -0.453636  1.449944\ng  0.418448  0.136925 -0.459506\nf  1.356902  1.024216  1.158559\ng  1.032039  0.085899 -1.775441\nx  0.834134  1.078912  0.273977\ny -0.042586  1.973453 -1.165919\nz -0.142268  1.289577  1.686377",
      "text/html": "<div>\n<style scoped>\n    .dataframe tbody tr th:only-of-type {\n        vertical-align: middle;\n    }\n\n    .dataframe tbody tr th {\n        vertical-align: top;\n    }\n\n    .dataframe thead th {\n        text-align: right;\n    }\n</style>\n<table border=\"1\" class=\"dataframe\">\n  <thead>\n    <tr style=\"text-align: right;\">\n      <th></th>\n      <th>0</th>\n      <th>1</th>\n      <th>2</th>\n    </tr>\n  </thead>\n  <tbody>\n    <tr>\n      <th>a</th>\n      <td>-0.099870</td>\n      <td>2.283947</td>\n      <td>-0.746802</td>\n    </tr>\n    <tr>\n      <th>b</th>\n      <td>0.561272</td>\n      <td>-0.758681</td>\n      <td>-1.464779</td>\n    </tr>\n    <tr>\n      <th>c</th>\n      <td>-0.676359</td>\n      <td>0.347864</td>\n      <td>1.157671</td>\n    </tr>\n    <tr>\n      <th>d</th>\n      <td>1.082971</td>\n      <td>-0.507684</td>\n      <td>0.068476</td>\n    </tr>\n    <tr>\n      <th>e</th>\n      <td>-0.053727</td>\n      <td>-0.466880</td>\n      <td>-2.188589</td>\n    </tr>\n    <tr>\n      <th>f</th>\n      <td>-1.687722</td>\n      <td>-0.453636</td>\n      <td>1.449944</td>\n    </tr>\n    <tr>\n      <th>g</th>\n      <td>0.418448</td>\n      <td>0.136925</td>\n      <td>-0.459506</td>\n    </tr>\n    <tr>\n      <th>f</th>\n      <td>1.356902</td>\n      <td>1.024216</td>\n      <td>1.158559</td>\n    </tr>\n    <tr>\n      <th>g</th>\n      <td>1.032039</td>\n      <td>0.085899</td>\n      <td>-1.775441</td>\n    </tr>\n    <tr>\n      <th>x</th>\n      <td>0.834134</td>\n      <td>1.078912</td>\n      <td>0.273977</td>\n    </tr>\n    <tr>\n      <th>y</th>\n      <td>-0.042586</td>\n      <td>1.973453</td>\n      <td>-1.165919</td>\n    </tr>\n    <tr>\n      <th>z</th>\n      <td>-0.142268</td>\n      <td>1.289577</td>\n      <td>1.686377</td>\n    </tr>\n  </tbody>\n</table>\n</div>"
     },
     "metadata": {},
     "execution_count": 54
    }
   ],
   "source": [
    "# plain concat, indexes are duplicated if necessary\n",
    "pd.concat([df1, df2])"
   ]
  },
  {
   "cell_type": "code",
   "execution_count": 55,
   "metadata": {},
   "outputs": [
    {
     "output_type": "execute_result",
     "data": {
      "text/plain": "          0         1         2         0         1         2\na -0.099870  2.283947 -0.746802       NaN       NaN       NaN\nb  0.561272 -0.758681 -1.464779       NaN       NaN       NaN\nc -0.676359  0.347864  1.157671       NaN       NaN       NaN\nd  1.082971 -0.507684  0.068476       NaN       NaN       NaN\ne -0.053727 -0.466880 -2.188589       NaN       NaN       NaN\nf -1.687722 -0.453636  1.449944  1.356902  1.024216  1.158559\ng  0.418448  0.136925 -0.459506  1.032039  0.085899 -1.775441\nx       NaN       NaN       NaN  0.834134  1.078912  0.273977\ny       NaN       NaN       NaN -0.042586  1.973453 -1.165919\nz       NaN       NaN       NaN -0.142268  1.289577  1.686377",
      "text/html": "<div>\n<style scoped>\n    .dataframe tbody tr th:only-of-type {\n        vertical-align: middle;\n    }\n\n    .dataframe tbody tr th {\n        vertical-align: top;\n    }\n\n    .dataframe thead th {\n        text-align: right;\n    }\n</style>\n<table border=\"1\" class=\"dataframe\">\n  <thead>\n    <tr style=\"text-align: right;\">\n      <th></th>\n      <th>0</th>\n      <th>1</th>\n      <th>2</th>\n      <th>0</th>\n      <th>1</th>\n      <th>2</th>\n    </tr>\n  </thead>\n  <tbody>\n    <tr>\n      <th>a</th>\n      <td>-0.099870</td>\n      <td>2.283947</td>\n      <td>-0.746802</td>\n      <td>NaN</td>\n      <td>NaN</td>\n      <td>NaN</td>\n    </tr>\n    <tr>\n      <th>b</th>\n      <td>0.561272</td>\n      <td>-0.758681</td>\n      <td>-1.464779</td>\n      <td>NaN</td>\n      <td>NaN</td>\n      <td>NaN</td>\n    </tr>\n    <tr>\n      <th>c</th>\n      <td>-0.676359</td>\n      <td>0.347864</td>\n      <td>1.157671</td>\n      <td>NaN</td>\n      <td>NaN</td>\n      <td>NaN</td>\n    </tr>\n    <tr>\n      <th>d</th>\n      <td>1.082971</td>\n      <td>-0.507684</td>\n      <td>0.068476</td>\n      <td>NaN</td>\n      <td>NaN</td>\n      <td>NaN</td>\n    </tr>\n    <tr>\n      <th>e</th>\n      <td>-0.053727</td>\n      <td>-0.466880</td>\n      <td>-2.188589</td>\n      <td>NaN</td>\n      <td>NaN</td>\n      <td>NaN</td>\n    </tr>\n    <tr>\n      <th>f</th>\n      <td>-1.687722</td>\n      <td>-0.453636</td>\n      <td>1.449944</td>\n      <td>1.356902</td>\n      <td>1.024216</td>\n      <td>1.158559</td>\n    </tr>\n    <tr>\n      <th>g</th>\n      <td>0.418448</td>\n      <td>0.136925</td>\n      <td>-0.459506</td>\n      <td>1.032039</td>\n      <td>0.085899</td>\n      <td>-1.775441</td>\n    </tr>\n    <tr>\n      <th>x</th>\n      <td>NaN</td>\n      <td>NaN</td>\n      <td>NaN</td>\n      <td>0.834134</td>\n      <td>1.078912</td>\n      <td>0.273977</td>\n    </tr>\n    <tr>\n      <th>y</th>\n      <td>NaN</td>\n      <td>NaN</td>\n      <td>NaN</td>\n      <td>-0.042586</td>\n      <td>1.973453</td>\n      <td>-1.165919</td>\n    </tr>\n    <tr>\n      <th>z</th>\n      <td>NaN</td>\n      <td>NaN</td>\n      <td>NaN</td>\n      <td>-0.142268</td>\n      <td>1.289577</td>\n      <td>1.686377</td>\n    </tr>\n  </tbody>\n</table>\n</div>"
     },
     "metadata": {},
     "execution_count": 55
    }
   ],
   "source": [
    "# can specify axis\n",
    "pd.concat([df1, df2], axis=1)"
   ]
  },
  {
   "cell_type": "code",
   "execution_count": 56,
   "metadata": {},
   "outputs": [
    {
     "output_type": "execute_result",
     "data": {
      "text/plain": "           0         1         2\n0  -0.099870  2.283947 -0.746802\n1   0.561272 -0.758681 -1.464779\n2  -0.676359  0.347864  1.157671\n3   1.082971 -0.507684  0.068476\n4  -0.053727 -0.466880 -2.188589\n5  -1.687722 -0.453636  1.449944\n6   0.418448  0.136925 -0.459506\n7   1.356902  1.024216  1.158559\n8   1.032039  0.085899 -1.775441\n9   0.834134  1.078912  0.273977\n10 -0.042586  1.973453 -1.165919\n11 -0.142268  1.289577  1.686377",
      "text/html": "<div>\n<style scoped>\n    .dataframe tbody tr th:only-of-type {\n        vertical-align: middle;\n    }\n\n    .dataframe tbody tr th {\n        vertical-align: top;\n    }\n\n    .dataframe thead th {\n        text-align: right;\n    }\n</style>\n<table border=\"1\" class=\"dataframe\">\n  <thead>\n    <tr style=\"text-align: right;\">\n      <th></th>\n      <th>0</th>\n      <th>1</th>\n      <th>2</th>\n    </tr>\n  </thead>\n  <tbody>\n    <tr>\n      <th>0</th>\n      <td>-0.099870</td>\n      <td>2.283947</td>\n      <td>-0.746802</td>\n    </tr>\n    <tr>\n      <th>1</th>\n      <td>0.561272</td>\n      <td>-0.758681</td>\n      <td>-1.464779</td>\n    </tr>\n    <tr>\n      <th>2</th>\n      <td>-0.676359</td>\n      <td>0.347864</td>\n      <td>1.157671</td>\n    </tr>\n    <tr>\n      <th>3</th>\n      <td>1.082971</td>\n      <td>-0.507684</td>\n      <td>0.068476</td>\n    </tr>\n    <tr>\n      <th>4</th>\n      <td>-0.053727</td>\n      <td>-0.466880</td>\n      <td>-2.188589</td>\n    </tr>\n    <tr>\n      <th>5</th>\n      <td>-1.687722</td>\n      <td>-0.453636</td>\n      <td>1.449944</td>\n    </tr>\n    <tr>\n      <th>6</th>\n      <td>0.418448</td>\n      <td>0.136925</td>\n      <td>-0.459506</td>\n    </tr>\n    <tr>\n      <th>7</th>\n      <td>1.356902</td>\n      <td>1.024216</td>\n      <td>1.158559</td>\n    </tr>\n    <tr>\n      <th>8</th>\n      <td>1.032039</td>\n      <td>0.085899</td>\n      <td>-1.775441</td>\n    </tr>\n    <tr>\n      <th>9</th>\n      <td>0.834134</td>\n      <td>1.078912</td>\n      <td>0.273977</td>\n    </tr>\n    <tr>\n      <th>10</th>\n      <td>-0.042586</td>\n      <td>1.973453</td>\n      <td>-1.165919</td>\n    </tr>\n    <tr>\n      <th>11</th>\n      <td>-0.142268</td>\n      <td>1.289577</td>\n      <td>1.686377</td>\n    </tr>\n  </tbody>\n</table>\n</div>"
     },
     "metadata": {},
     "execution_count": 56
    }
   ],
   "source": [
    "# ignore index, replace with range\n",
    "pd.concat([df1, df2], ignore_index=True)"
   ]
  },
  {
   "cell_type": "code",
   "execution_count": 57,
   "metadata": {},
   "outputs": [
    {
     "output_type": "execute_result",
     "data": {
      "text/plain": "          0         1         2         0         1         2\nf -1.687722 -0.453636  1.449944  1.356902  1.024216  1.158559\ng  0.418448  0.136925 -0.459506  1.032039  0.085899 -1.775441",
      "text/html": "<div>\n<style scoped>\n    .dataframe tbody tr th:only-of-type {\n        vertical-align: middle;\n    }\n\n    .dataframe tbody tr th {\n        vertical-align: top;\n    }\n\n    .dataframe thead th {\n        text-align: right;\n    }\n</style>\n<table border=\"1\" class=\"dataframe\">\n  <thead>\n    <tr style=\"text-align: right;\">\n      <th></th>\n      <th>0</th>\n      <th>1</th>\n      <th>2</th>\n      <th>0</th>\n      <th>1</th>\n      <th>2</th>\n    </tr>\n  </thead>\n  <tbody>\n    <tr>\n      <th>f</th>\n      <td>-1.687722</td>\n      <td>-0.453636</td>\n      <td>1.449944</td>\n      <td>1.356902</td>\n      <td>1.024216</td>\n      <td>1.158559</td>\n    </tr>\n    <tr>\n      <th>g</th>\n      <td>0.418448</td>\n      <td>0.136925</td>\n      <td>-0.459506</td>\n      <td>1.032039</td>\n      <td>0.085899</td>\n      <td>-1.775441</td>\n    </tr>\n  </tbody>\n</table>\n</div>"
     },
     "metadata": {},
     "execution_count": 57
    }
   ],
   "source": [
    "pd.concat([df1, df2], axis=1, join='inner')  # default 'outer' (for union), 'inner' for intersection"
   ]
  },
  {
   "cell_type": "code",
   "execution_count": 58,
   "metadata": {},
   "outputs": [
    {
     "output_type": "execute_result",
     "data": {
      "text/plain": "            0         1         2\n1 a -0.099870  2.283947 -0.746802\n  b  0.561272 -0.758681 -1.464779\n  c -0.676359  0.347864  1.157671\n  d  1.082971 -0.507684  0.068476\n  e -0.053727 -0.466880 -2.188589\n  f -1.687722 -0.453636  1.449944\n  g  0.418448  0.136925 -0.459506\n2 f  1.356902  1.024216  1.158559\n  g  1.032039  0.085899 -1.775441\n  x  0.834134  1.078912  0.273977\n  y -0.042586  1.973453 -1.165919\n  z -0.142268  1.289577  1.686377",
      "text/html": "<div>\n<style scoped>\n    .dataframe tbody tr th:only-of-type {\n        vertical-align: middle;\n    }\n\n    .dataframe tbody tr th {\n        vertical-align: top;\n    }\n\n    .dataframe thead th {\n        text-align: right;\n    }\n</style>\n<table border=\"1\" class=\"dataframe\">\n  <thead>\n    <tr style=\"text-align: right;\">\n      <th></th>\n      <th></th>\n      <th>0</th>\n      <th>1</th>\n      <th>2</th>\n    </tr>\n  </thead>\n  <tbody>\n    <tr>\n      <th rowspan=\"7\" valign=\"top\">1</th>\n      <th>a</th>\n      <td>-0.099870</td>\n      <td>2.283947</td>\n      <td>-0.746802</td>\n    </tr>\n    <tr>\n      <th>b</th>\n      <td>0.561272</td>\n      <td>-0.758681</td>\n      <td>-1.464779</td>\n    </tr>\n    <tr>\n      <th>c</th>\n      <td>-0.676359</td>\n      <td>0.347864</td>\n      <td>1.157671</td>\n    </tr>\n    <tr>\n      <th>d</th>\n      <td>1.082971</td>\n      <td>-0.507684</td>\n      <td>0.068476</td>\n    </tr>\n    <tr>\n      <th>e</th>\n      <td>-0.053727</td>\n      <td>-0.466880</td>\n      <td>-2.188589</td>\n    </tr>\n    <tr>\n      <th>f</th>\n      <td>-1.687722</td>\n      <td>-0.453636</td>\n      <td>1.449944</td>\n    </tr>\n    <tr>\n      <th>g</th>\n      <td>0.418448</td>\n      <td>0.136925</td>\n      <td>-0.459506</td>\n    </tr>\n    <tr>\n      <th rowspan=\"5\" valign=\"top\">2</th>\n      <th>f</th>\n      <td>1.356902</td>\n      <td>1.024216</td>\n      <td>1.158559</td>\n    </tr>\n    <tr>\n      <th>g</th>\n      <td>1.032039</td>\n      <td>0.085899</td>\n      <td>-1.775441</td>\n    </tr>\n    <tr>\n      <th>x</th>\n      <td>0.834134</td>\n      <td>1.078912</td>\n      <td>0.273977</td>\n    </tr>\n    <tr>\n      <th>y</th>\n      <td>-0.042586</td>\n      <td>1.973453</td>\n      <td>-1.165919</td>\n    </tr>\n    <tr>\n      <th>z</th>\n      <td>-0.142268</td>\n      <td>1.289577</td>\n      <td>1.686377</td>\n    </tr>\n  </tbody>\n</table>\n</div>"
     },
     "metadata": {},
     "execution_count": 58
    }
   ],
   "source": [
    "# add extract index level with given keys\n",
    "pd.concat([df1, df2], keys=[1, 2])"
   ]
  },
  {
   "cell_type": "code",
   "execution_count": 59,
   "metadata": {},
   "outputs": [
    {
     "output_type": "execute_result",
     "data": {
      "text/plain": "          0         1         2\na -0.099870  2.283947 -0.746802\nb  0.561272 -0.758681 -1.464779\nc -0.676359  0.347864  1.157671\nd  1.082971 -0.507684  0.068476\ne -0.053727 -0.466880 -2.188589\nf -1.687722 -0.453636  1.449944\ng  0.418448  0.136925 -0.459506\nf  1.356902  1.024216  1.158559\ng  1.032039  0.085899 -1.775441\nx  0.834134  1.078912  0.273977\ny -0.042586  1.973453 -1.165919\nz -0.142268  1.289577  1.686377",
      "text/html": "<div>\n<style scoped>\n    .dataframe tbody tr th:only-of-type {\n        vertical-align: middle;\n    }\n\n    .dataframe tbody tr th {\n        vertical-align: top;\n    }\n\n    .dataframe thead th {\n        text-align: right;\n    }\n</style>\n<table border=\"1\" class=\"dataframe\">\n  <thead>\n    <tr style=\"text-align: right;\">\n      <th></th>\n      <th>0</th>\n      <th>1</th>\n      <th>2</th>\n    </tr>\n  </thead>\n  <tbody>\n    <tr>\n      <th>a</th>\n      <td>-0.099870</td>\n      <td>2.283947</td>\n      <td>-0.746802</td>\n    </tr>\n    <tr>\n      <th>b</th>\n      <td>0.561272</td>\n      <td>-0.758681</td>\n      <td>-1.464779</td>\n    </tr>\n    <tr>\n      <th>c</th>\n      <td>-0.676359</td>\n      <td>0.347864</td>\n      <td>1.157671</td>\n    </tr>\n    <tr>\n      <th>d</th>\n      <td>1.082971</td>\n      <td>-0.507684</td>\n      <td>0.068476</td>\n    </tr>\n    <tr>\n      <th>e</th>\n      <td>-0.053727</td>\n      <td>-0.466880</td>\n      <td>-2.188589</td>\n    </tr>\n    <tr>\n      <th>f</th>\n      <td>-1.687722</td>\n      <td>-0.453636</td>\n      <td>1.449944</td>\n    </tr>\n    <tr>\n      <th>g</th>\n      <td>0.418448</td>\n      <td>0.136925</td>\n      <td>-0.459506</td>\n    </tr>\n    <tr>\n      <th>f</th>\n      <td>1.356902</td>\n      <td>1.024216</td>\n      <td>1.158559</td>\n    </tr>\n    <tr>\n      <th>g</th>\n      <td>1.032039</td>\n      <td>0.085899</td>\n      <td>-1.775441</td>\n    </tr>\n    <tr>\n      <th>x</th>\n      <td>0.834134</td>\n      <td>1.078912</td>\n      <td>0.273977</td>\n    </tr>\n    <tr>\n      <th>y</th>\n      <td>-0.042586</td>\n      <td>1.973453</td>\n      <td>-1.165919</td>\n    </tr>\n    <tr>\n      <th>z</th>\n      <td>-0.142268</td>\n      <td>1.289577</td>\n      <td>1.686377</td>\n    </tr>\n  </tbody>\n</table>\n</div>"
     },
     "metadata": {},
     "execution_count": 59
    },
    {
     "output_type": "execute_result",
     "data": {
      "text/plain": "          0         1         2\na -0.099870  2.283947 -0.746802\nb  0.561272 -0.758681 -1.464779\nc -0.676359  0.347864  1.157671\nd  1.082971 -0.507684  0.068476\ne -0.053727 -0.466880 -2.188589\nf -1.687722 -0.453636  1.449944\ng  0.418448  0.136925 -0.459506\na -0.099870  2.283947 -0.746802\nb  0.561272 -0.758681 -1.464779\nc -0.676359  0.347864  1.157671\nd  1.082971 -0.507684  0.068476\ne -0.053727 -0.466880 -2.188589\nf -1.687722 -0.453636  1.449944\ng  0.418448  0.136925 -0.459506\nf  1.356902  1.024216  1.158559\ng  1.032039  0.085899 -1.775441\nx  0.834134  1.078912  0.273977\ny -0.042586  1.973453 -1.165919\nz -0.142268  1.289577  1.686377",
      "text/html": "<div>\n<style scoped>\n    .dataframe tbody tr th:only-of-type {\n        vertical-align: middle;\n    }\n\n    .dataframe tbody tr th {\n        vertical-align: top;\n    }\n\n    .dataframe thead th {\n        text-align: right;\n    }\n</style>\n<table border=\"1\" class=\"dataframe\">\n  <thead>\n    <tr style=\"text-align: right;\">\n      <th></th>\n      <th>0</th>\n      <th>1</th>\n      <th>2</th>\n    </tr>\n  </thead>\n  <tbody>\n    <tr>\n      <th>a</th>\n      <td>-0.099870</td>\n      <td>2.283947</td>\n      <td>-0.746802</td>\n    </tr>\n    <tr>\n      <th>b</th>\n      <td>0.561272</td>\n      <td>-0.758681</td>\n      <td>-1.464779</td>\n    </tr>\n    <tr>\n      <th>c</th>\n      <td>-0.676359</td>\n      <td>0.347864</td>\n      <td>1.157671</td>\n    </tr>\n    <tr>\n      <th>d</th>\n      <td>1.082971</td>\n      <td>-0.507684</td>\n      <td>0.068476</td>\n    </tr>\n    <tr>\n      <th>e</th>\n      <td>-0.053727</td>\n      <td>-0.466880</td>\n      <td>-2.188589</td>\n    </tr>\n    <tr>\n      <th>f</th>\n      <td>-1.687722</td>\n      <td>-0.453636</td>\n      <td>1.449944</td>\n    </tr>\n    <tr>\n      <th>g</th>\n      <td>0.418448</td>\n      <td>0.136925</td>\n      <td>-0.459506</td>\n    </tr>\n    <tr>\n      <th>a</th>\n      <td>-0.099870</td>\n      <td>2.283947</td>\n      <td>-0.746802</td>\n    </tr>\n    <tr>\n      <th>b</th>\n      <td>0.561272</td>\n      <td>-0.758681</td>\n      <td>-1.464779</td>\n    </tr>\n    <tr>\n      <th>c</th>\n      <td>-0.676359</td>\n      <td>0.347864</td>\n      <td>1.157671</td>\n    </tr>\n    <tr>\n      <th>d</th>\n      <td>1.082971</td>\n      <td>-0.507684</td>\n      <td>0.068476</td>\n    </tr>\n    <tr>\n      <th>e</th>\n      <td>-0.053727</td>\n      <td>-0.466880</td>\n      <td>-2.188589</td>\n    </tr>\n    <tr>\n      <th>f</th>\n      <td>-1.687722</td>\n      <td>-0.453636</td>\n      <td>1.449944</td>\n    </tr>\n    <tr>\n      <th>g</th>\n      <td>0.418448</td>\n      <td>0.136925</td>\n      <td>-0.459506</td>\n    </tr>\n    <tr>\n      <th>f</th>\n      <td>1.356902</td>\n      <td>1.024216</td>\n      <td>1.158559</td>\n    </tr>\n    <tr>\n      <th>g</th>\n      <td>1.032039</td>\n      <td>0.085899</td>\n      <td>-1.775441</td>\n    </tr>\n    <tr>\n      <th>x</th>\n      <td>0.834134</td>\n      <td>1.078912</td>\n      <td>0.273977</td>\n    </tr>\n    <tr>\n      <th>y</th>\n      <td>-0.042586</td>\n      <td>1.973453</td>\n      <td>-1.165919</td>\n    </tr>\n    <tr>\n      <th>z</th>\n      <td>-0.142268</td>\n      <td>1.289577</td>\n      <td>1.686377</td>\n    </tr>\n  </tbody>\n</table>\n</div>"
     },
     "metadata": {},
     "execution_count": 59
    }
   ],
   "source": [
    "df1.append(df2)  # alias for simple concat\n",
    "df1.append([df1, df2])  # can take a list of frames\n",
    "# append creates a copy and does not modify df1"
   ]
  },
  {
   "cell_type": "code",
   "execution_count": 60,
   "metadata": {},
   "outputs": [
    {
     "output_type": "execute_result",
     "data": {
      "text/plain": "pandas.core.series.Series"
     },
     "metadata": {},
     "execution_count": 60
    },
    {
     "output_type": "execute_result",
     "data": {
      "text/plain": "          0         1         2         0\na -0.099870  2.283947 -0.746802       NaN\nb  0.561272 -0.758681 -1.464779       NaN\nc -0.676359  0.347864  1.157671       NaN\nd  1.082971 -0.507684  0.068476       NaN\ne -0.053727 -0.466880 -2.188589       NaN\nf -1.687722 -0.453636  1.449944  1.356902\ng  0.418448  0.136925 -0.459506  1.032039\nx       NaN       NaN       NaN  0.834134\ny       NaN       NaN       NaN -0.042586\nz       NaN       NaN       NaN -0.142268",
      "text/html": "<div>\n<style scoped>\n    .dataframe tbody tr th:only-of-type {\n        vertical-align: middle;\n    }\n\n    .dataframe tbody tr th {\n        vertical-align: top;\n    }\n\n    .dataframe thead th {\n        text-align: right;\n    }\n</style>\n<table border=\"1\" class=\"dataframe\">\n  <thead>\n    <tr style=\"text-align: right;\">\n      <th></th>\n      <th>0</th>\n      <th>1</th>\n      <th>2</th>\n      <th>0</th>\n    </tr>\n  </thead>\n  <tbody>\n    <tr>\n      <th>a</th>\n      <td>-0.099870</td>\n      <td>2.283947</td>\n      <td>-0.746802</td>\n      <td>NaN</td>\n    </tr>\n    <tr>\n      <th>b</th>\n      <td>0.561272</td>\n      <td>-0.758681</td>\n      <td>-1.464779</td>\n      <td>NaN</td>\n    </tr>\n    <tr>\n      <th>c</th>\n      <td>-0.676359</td>\n      <td>0.347864</td>\n      <td>1.157671</td>\n      <td>NaN</td>\n    </tr>\n    <tr>\n      <th>d</th>\n      <td>1.082971</td>\n      <td>-0.507684</td>\n      <td>0.068476</td>\n      <td>NaN</td>\n    </tr>\n    <tr>\n      <th>e</th>\n      <td>-0.053727</td>\n      <td>-0.466880</td>\n      <td>-2.188589</td>\n      <td>NaN</td>\n    </tr>\n    <tr>\n      <th>f</th>\n      <td>-1.687722</td>\n      <td>-0.453636</td>\n      <td>1.449944</td>\n      <td>1.356902</td>\n    </tr>\n    <tr>\n      <th>g</th>\n      <td>0.418448</td>\n      <td>0.136925</td>\n      <td>-0.459506</td>\n      <td>1.032039</td>\n    </tr>\n    <tr>\n      <th>x</th>\n      <td>NaN</td>\n      <td>NaN</td>\n      <td>NaN</td>\n      <td>0.834134</td>\n    </tr>\n    <tr>\n      <th>y</th>\n      <td>NaN</td>\n      <td>NaN</td>\n      <td>NaN</td>\n      <td>-0.042586</td>\n    </tr>\n    <tr>\n      <th>z</th>\n      <td>NaN</td>\n      <td>NaN</td>\n      <td>NaN</td>\n      <td>-0.142268</td>\n    </tr>\n  </tbody>\n</table>\n</div>"
     },
     "metadata": {},
     "execution_count": 60
    }
   ],
   "source": [
    "type(df2[0])\n",
    "pd.concat([df1, df2[0]], axis=1)  # concat dataframe with a series"
   ]
  },
  {
   "cell_type": "markdown",
   "metadata": {},
   "source": [
    "### merge"
   ]
  },
  {
   "cell_type": "code",
   "execution_count": 69,
   "metadata": {},
   "outputs": [
    {
     "output_type": "execute_result",
     "data": {
      "text/plain": "           0        1A        2A        1B        2B\n0  -0.099870  2.283947 -0.746802       NaN       NaN\n1   0.561272 -0.758681 -1.464779       NaN       NaN\n2  -0.676359  0.347864  1.157671       NaN       NaN\n3   1.082971 -0.507684  0.068476       NaN       NaN\n4  -0.053727 -0.466880 -2.188589       NaN       NaN\n5  -1.687722 -0.453636  1.449944       NaN       NaN\n6   0.418448  0.136925 -0.459506       NaN       NaN\n7   1.356902       NaN       NaN  1.024216  1.158559\n8   1.032039       NaN       NaN  0.085899 -1.775441\n9   0.834134       NaN       NaN  1.078912  0.273977\n10 -0.042586       NaN       NaN  1.973453 -1.165919\n11 -0.142268       NaN       NaN  1.289577  1.686377",
      "text/html": "<div>\n<style scoped>\n    .dataframe tbody tr th:only-of-type {\n        vertical-align: middle;\n    }\n\n    .dataframe tbody tr th {\n        vertical-align: top;\n    }\n\n    .dataframe thead th {\n        text-align: right;\n    }\n</style>\n<table border=\"1\" class=\"dataframe\">\n  <thead>\n    <tr style=\"text-align: right;\">\n      <th></th>\n      <th>0</th>\n      <th>1A</th>\n      <th>2A</th>\n      <th>1B</th>\n      <th>2B</th>\n    </tr>\n  </thead>\n  <tbody>\n    <tr>\n      <th>0</th>\n      <td>-0.099870</td>\n      <td>2.283947</td>\n      <td>-0.746802</td>\n      <td>NaN</td>\n      <td>NaN</td>\n    </tr>\n    <tr>\n      <th>1</th>\n      <td>0.561272</td>\n      <td>-0.758681</td>\n      <td>-1.464779</td>\n      <td>NaN</td>\n      <td>NaN</td>\n    </tr>\n    <tr>\n      <th>2</th>\n      <td>-0.676359</td>\n      <td>0.347864</td>\n      <td>1.157671</td>\n      <td>NaN</td>\n      <td>NaN</td>\n    </tr>\n    <tr>\n      <th>3</th>\n      <td>1.082971</td>\n      <td>-0.507684</td>\n      <td>0.068476</td>\n      <td>NaN</td>\n      <td>NaN</td>\n    </tr>\n    <tr>\n      <th>4</th>\n      <td>-0.053727</td>\n      <td>-0.466880</td>\n      <td>-2.188589</td>\n      <td>NaN</td>\n      <td>NaN</td>\n    </tr>\n    <tr>\n      <th>5</th>\n      <td>-1.687722</td>\n      <td>-0.453636</td>\n      <td>1.449944</td>\n      <td>NaN</td>\n      <td>NaN</td>\n    </tr>\n    <tr>\n      <th>6</th>\n      <td>0.418448</td>\n      <td>0.136925</td>\n      <td>-0.459506</td>\n      <td>NaN</td>\n      <td>NaN</td>\n    </tr>\n    <tr>\n      <th>7</th>\n      <td>1.356902</td>\n      <td>NaN</td>\n      <td>NaN</td>\n      <td>1.024216</td>\n      <td>1.158559</td>\n    </tr>\n    <tr>\n      <th>8</th>\n      <td>1.032039</td>\n      <td>NaN</td>\n      <td>NaN</td>\n      <td>0.085899</td>\n      <td>-1.775441</td>\n    </tr>\n    <tr>\n      <th>9</th>\n      <td>0.834134</td>\n      <td>NaN</td>\n      <td>NaN</td>\n      <td>1.078912</td>\n      <td>0.273977</td>\n    </tr>\n    <tr>\n      <th>10</th>\n      <td>-0.042586</td>\n      <td>NaN</td>\n      <td>NaN</td>\n      <td>1.973453</td>\n      <td>-1.165919</td>\n    </tr>\n    <tr>\n      <th>11</th>\n      <td>-0.142268</td>\n      <td>NaN</td>\n      <td>NaN</td>\n      <td>1.289577</td>\n      <td>1.686377</td>\n    </tr>\n  </tbody>\n</table>\n</div>"
     },
     "metadata": {},
     "execution_count": 69
    }
   ],
   "source": [
    "# merge : takes 2 args with are dataframe or series\n",
    "\n",
    "pd.merge(df1, df2, how='outer', on=0, suffixes=('A', 'B'))"
   ]
  },
  {
   "cell_type": "code",
   "execution_count": 62,
   "metadata": {},
   "outputs": [
    {
     "output_type": "execute_result",
     "data": {
      "text/plain": "          0         1         2\n0 -0.099870  2.283947 -0.746802\n1  0.561272 -0.758681 -1.464779\n2 -0.676359  0.347864  1.157671\n3  1.082971 -0.507684  0.068476\n4 -0.053727 -0.466880 -2.188589\n5 -1.687722 -0.453636  1.449944\n6  0.418448  0.136925 -0.459506",
      "text/html": "<div>\n<style scoped>\n    .dataframe tbody tr th:only-of-type {\n        vertical-align: middle;\n    }\n\n    .dataframe tbody tr th {\n        vertical-align: top;\n    }\n\n    .dataframe thead th {\n        text-align: right;\n    }\n</style>\n<table border=\"1\" class=\"dataframe\">\n  <thead>\n    <tr style=\"text-align: right;\">\n      <th></th>\n      <th>0</th>\n      <th>1</th>\n      <th>2</th>\n    </tr>\n  </thead>\n  <tbody>\n    <tr>\n      <th>0</th>\n      <td>-0.099870</td>\n      <td>2.283947</td>\n      <td>-0.746802</td>\n    </tr>\n    <tr>\n      <th>1</th>\n      <td>0.561272</td>\n      <td>-0.758681</td>\n      <td>-1.464779</td>\n    </tr>\n    <tr>\n      <th>2</th>\n      <td>-0.676359</td>\n      <td>0.347864</td>\n      <td>1.157671</td>\n    </tr>\n    <tr>\n      <th>3</th>\n      <td>1.082971</td>\n      <td>-0.507684</td>\n      <td>0.068476</td>\n    </tr>\n    <tr>\n      <th>4</th>\n      <td>-0.053727</td>\n      <td>-0.466880</td>\n      <td>-2.188589</td>\n    </tr>\n    <tr>\n      <th>5</th>\n      <td>-1.687722</td>\n      <td>-0.453636</td>\n      <td>1.449944</td>\n    </tr>\n    <tr>\n      <th>6</th>\n      <td>0.418448</td>\n      <td>0.136925</td>\n      <td>-0.459506</td>\n    </tr>\n  </tbody>\n</table>\n</div>"
     },
     "metadata": {},
     "execution_count": 62
    }
   ],
   "source": [
    "pd.merge(df1, df2, how='left')"
   ]
  },
  {
   "cell_type": "code",
   "execution_count": 63,
   "metadata": {},
   "outputs": [
    {
     "output_type": "execute_result",
     "data": {
      "text/plain": "          0         1         2\na -0.099870  2.283947 -0.746802\nb  0.561272 -0.758681 -1.464779\nc -0.676359  0.347864  1.157671\nd  1.082971 -0.507684  0.068476\ne -0.053727 -0.466880 -2.188589\nf -1.687722 -0.453636  1.449944\ng  0.418448  0.136925 -0.459506",
      "text/html": "<div>\n<style scoped>\n    .dataframe tbody tr th:only-of-type {\n        vertical-align: middle;\n    }\n\n    .dataframe tbody tr th {\n        vertical-align: top;\n    }\n\n    .dataframe thead th {\n        text-align: right;\n    }\n</style>\n<table border=\"1\" class=\"dataframe\">\n  <thead>\n    <tr style=\"text-align: right;\">\n      <th></th>\n      <th>0</th>\n      <th>1</th>\n      <th>2</th>\n    </tr>\n  </thead>\n  <tbody>\n    <tr>\n      <th>a</th>\n      <td>-0.099870</td>\n      <td>2.283947</td>\n      <td>-0.746802</td>\n    </tr>\n    <tr>\n      <th>b</th>\n      <td>0.561272</td>\n      <td>-0.758681</td>\n      <td>-1.464779</td>\n    </tr>\n    <tr>\n      <th>c</th>\n      <td>-0.676359</td>\n      <td>0.347864</td>\n      <td>1.157671</td>\n    </tr>\n    <tr>\n      <th>d</th>\n      <td>1.082971</td>\n      <td>-0.507684</td>\n      <td>0.068476</td>\n    </tr>\n    <tr>\n      <th>e</th>\n      <td>-0.053727</td>\n      <td>-0.466880</td>\n      <td>-2.188589</td>\n    </tr>\n    <tr>\n      <th>f</th>\n      <td>-1.687722</td>\n      <td>-0.453636</td>\n      <td>1.449944</td>\n    </tr>\n    <tr>\n      <th>g</th>\n      <td>0.418448</td>\n      <td>0.136925</td>\n      <td>-0.459506</td>\n    </tr>\n  </tbody>\n</table>\n</div>"
     },
     "metadata": {},
     "execution_count": 63
    }
   ],
   "source": [
    "df1"
   ]
  },
  {
   "cell_type": "code",
   "execution_count": 64,
   "metadata": {},
   "outputs": [],
   "source": [
    "from marketdata.statics import get_country_statics, get_currency_statics\n",
    "currency_statics = get_currency_statics()\n",
    "country_statics = get_country_statics()"
   ]
  },
  {
   "cell_type": "code",
   "execution_count": 65,
   "metadata": {},
   "outputs": [
    {
     "output_type": "execute_result",
     "data": {
      "text/plain": "                    country             name  number\niso_code                                            \nAFN             Afghanistan          Afghani   971.0\nEUR           Aland Islands             Euro   978.0\nALL                 Albania              Lek     8.0\nDZD                 Algeria   Algerian Dinar    12.0\nUSD          American Samoa        US Dollar   840.0\n...                     ...              ...     ...\nXPF       Wallis and Futuna        CFP Franc   953.0\nMAD          Western Sahara  Moroccan Dirham   504.0\nYER                   Yemen      Yemeni Rial   886.0\nZMW                  Zambia   Zambian Kwacha   967.0\nZWL                Zimbabwe  Zimbabwe Dollar   932.0\n\n[260 rows x 3 columns]",
      "text/html": "<div>\n<style scoped>\n    .dataframe tbody tr th:only-of-type {\n        vertical-align: middle;\n    }\n\n    .dataframe tbody tr th {\n        vertical-align: top;\n    }\n\n    .dataframe thead th {\n        text-align: right;\n    }\n</style>\n<table border=\"1\" class=\"dataframe\">\n  <thead>\n    <tr style=\"text-align: right;\">\n      <th></th>\n      <th>country</th>\n      <th>name</th>\n      <th>number</th>\n    </tr>\n    <tr>\n      <th>iso_code</th>\n      <th></th>\n      <th></th>\n      <th></th>\n    </tr>\n  </thead>\n  <tbody>\n    <tr>\n      <th>AFN</th>\n      <td>Afghanistan</td>\n      <td>Afghani</td>\n      <td>971.0</td>\n    </tr>\n    <tr>\n      <th>EUR</th>\n      <td>Aland Islands</td>\n      <td>Euro</td>\n      <td>978.0</td>\n    </tr>\n    <tr>\n      <th>ALL</th>\n      <td>Albania</td>\n      <td>Lek</td>\n      <td>8.0</td>\n    </tr>\n    <tr>\n      <th>DZD</th>\n      <td>Algeria</td>\n      <td>Algerian Dinar</td>\n      <td>12.0</td>\n    </tr>\n    <tr>\n      <th>USD</th>\n      <td>American Samoa</td>\n      <td>US Dollar</td>\n      <td>840.0</td>\n    </tr>\n    <tr>\n      <th>...</th>\n      <td>...</td>\n      <td>...</td>\n      <td>...</td>\n    </tr>\n    <tr>\n      <th>XPF</th>\n      <td>Wallis and Futuna</td>\n      <td>CFP Franc</td>\n      <td>953.0</td>\n    </tr>\n    <tr>\n      <th>MAD</th>\n      <td>Western Sahara</td>\n      <td>Moroccan Dirham</td>\n      <td>504.0</td>\n    </tr>\n    <tr>\n      <th>YER</th>\n      <td>Yemen</td>\n      <td>Yemeni Rial</td>\n      <td>886.0</td>\n    </tr>\n    <tr>\n      <th>ZMW</th>\n      <td>Zambia</td>\n      <td>Zambian Kwacha</td>\n      <td>967.0</td>\n    </tr>\n    <tr>\n      <th>ZWL</th>\n      <td>Zimbabwe</td>\n      <td>Zimbabwe Dollar</td>\n      <td>932.0</td>\n    </tr>\n  </tbody>\n</table>\n<p>260 rows × 3 columns</p>\n</div>"
     },
     "metadata": {},
     "execution_count": 65
    }
   ],
   "source": [
    "currency_statics"
   ]
  },
  {
   "cell_type": "code",
   "execution_count": 66,
   "metadata": {},
   "outputs": [
    {
     "output_type": "execute_result",
     "data": {
      "text/plain": "                  iso_code2 iso_code3  numeric\nAfghanistan              AF       AFG        4\nAland Islands            AX       ALA      248\nAlbania                  AL       ALB        8\nAlgeria                  DZ       DZA       12\nAmerican Samoa           AS       ASM       16\n...                     ...       ...      ...\nWallis and Futuna        WF       WLF      876\nWestern Sahara           EH       ESH      732\nYemen                    YE       YEM      887\nZambia                   ZM       ZMB      894\nZimbabwe                 ZW       ZWE      716\n\n[249 rows x 3 columns]",
      "text/html": "<div>\n<style scoped>\n    .dataframe tbody tr th:only-of-type {\n        vertical-align: middle;\n    }\n\n    .dataframe tbody tr th {\n        vertical-align: top;\n    }\n\n    .dataframe thead th {\n        text-align: right;\n    }\n</style>\n<table border=\"1\" class=\"dataframe\">\n  <thead>\n    <tr style=\"text-align: right;\">\n      <th></th>\n      <th>iso_code2</th>\n      <th>iso_code3</th>\n      <th>numeric</th>\n    </tr>\n  </thead>\n  <tbody>\n    <tr>\n      <th>Afghanistan</th>\n      <td>AF</td>\n      <td>AFG</td>\n      <td>4</td>\n    </tr>\n    <tr>\n      <th>Aland Islands</th>\n      <td>AX</td>\n      <td>ALA</td>\n      <td>248</td>\n    </tr>\n    <tr>\n      <th>Albania</th>\n      <td>AL</td>\n      <td>ALB</td>\n      <td>8</td>\n    </tr>\n    <tr>\n      <th>Algeria</th>\n      <td>DZ</td>\n      <td>DZA</td>\n      <td>12</td>\n    </tr>\n    <tr>\n      <th>American Samoa</th>\n      <td>AS</td>\n      <td>ASM</td>\n      <td>16</td>\n    </tr>\n    <tr>\n      <th>...</th>\n      <td>...</td>\n      <td>...</td>\n      <td>...</td>\n    </tr>\n    <tr>\n      <th>Wallis and Futuna</th>\n      <td>WF</td>\n      <td>WLF</td>\n      <td>876</td>\n    </tr>\n    <tr>\n      <th>Western Sahara</th>\n      <td>EH</td>\n      <td>ESH</td>\n      <td>732</td>\n    </tr>\n    <tr>\n      <th>Yemen</th>\n      <td>YE</td>\n      <td>YEM</td>\n      <td>887</td>\n    </tr>\n    <tr>\n      <th>Zambia</th>\n      <td>ZM</td>\n      <td>ZMB</td>\n      <td>894</td>\n    </tr>\n    <tr>\n      <th>Zimbabwe</th>\n      <td>ZW</td>\n      <td>ZWE</td>\n      <td>716</td>\n    </tr>\n  </tbody>\n</table>\n<p>249 rows × 3 columns</p>\n</div>"
     },
     "metadata": {},
     "execution_count": 66
    }
   ],
   "source": [
    "country_statics"
   ]
  },
  {
   "cell_type": "code",
   "execution_count": 68,
   "metadata": {},
   "outputs": [
    {
     "output_type": "execute_result",
     "data": {
      "text/plain": "    iso_code2 iso_code3  numeric         country             name  number\nAFN        AF       AFG      4.0     Afghanistan          Afghani   971.0\nEUR        AX       ALA    248.0   Aland Islands             Euro   978.0\nALL        AL       ALB      8.0         Albania              Lek     8.0\nDZD        DZ       DZA     12.0         Algeria   Algerian Dinar    12.0\nUSD        AS       ASM     16.0  American Samoa        US Dollar   840.0\n..        ...       ...      ...             ...              ...     ...\nMAD        EH       ESH    732.0  Western Sahara  Moroccan Dirham   504.0\nYER        YE       YEM    887.0           Yemen      Yemeni Rial   886.0\nZMW        ZM       ZMB    894.0          Zambia   Zambian Kwacha   967.0\nZWL        ZW       ZWE    716.0        Zimbabwe  Zimbabwe Dollar   932.0\nEUR       NaN       NaN      NaN  European Union             Euro   978.0\n\n[273 rows x 6 columns]",
      "text/html": "<div>\n<style scoped>\n    .dataframe tbody tr th:only-of-type {\n        vertical-align: middle;\n    }\n\n    .dataframe tbody tr th {\n        vertical-align: top;\n    }\n\n    .dataframe thead th {\n        text-align: right;\n    }\n</style>\n<table border=\"1\" class=\"dataframe\">\n  <thead>\n    <tr style=\"text-align: right;\">\n      <th></th>\n      <th>iso_code2</th>\n      <th>iso_code3</th>\n      <th>numeric</th>\n      <th>country</th>\n      <th>name</th>\n      <th>number</th>\n    </tr>\n  </thead>\n  <tbody>\n    <tr>\n      <th>AFN</th>\n      <td>AF</td>\n      <td>AFG</td>\n      <td>4.0</td>\n      <td>Afghanistan</td>\n      <td>Afghani</td>\n      <td>971.0</td>\n    </tr>\n    <tr>\n      <th>EUR</th>\n      <td>AX</td>\n      <td>ALA</td>\n      <td>248.0</td>\n      <td>Aland Islands</td>\n      <td>Euro</td>\n      <td>978.0</td>\n    </tr>\n    <tr>\n      <th>ALL</th>\n      <td>AL</td>\n      <td>ALB</td>\n      <td>8.0</td>\n      <td>Albania</td>\n      <td>Lek</td>\n      <td>8.0</td>\n    </tr>\n    <tr>\n      <th>DZD</th>\n      <td>DZ</td>\n      <td>DZA</td>\n      <td>12.0</td>\n      <td>Algeria</td>\n      <td>Algerian Dinar</td>\n      <td>12.0</td>\n    </tr>\n    <tr>\n      <th>USD</th>\n      <td>AS</td>\n      <td>ASM</td>\n      <td>16.0</td>\n      <td>American Samoa</td>\n      <td>US Dollar</td>\n      <td>840.0</td>\n    </tr>\n    <tr>\n      <th>...</th>\n      <td>...</td>\n      <td>...</td>\n      <td>...</td>\n      <td>...</td>\n      <td>...</td>\n      <td>...</td>\n    </tr>\n    <tr>\n      <th>MAD</th>\n      <td>EH</td>\n      <td>ESH</td>\n      <td>732.0</td>\n      <td>Western Sahara</td>\n      <td>Moroccan Dirham</td>\n      <td>504.0</td>\n    </tr>\n    <tr>\n      <th>YER</th>\n      <td>YE</td>\n      <td>YEM</td>\n      <td>887.0</td>\n      <td>Yemen</td>\n      <td>Yemeni Rial</td>\n      <td>886.0</td>\n    </tr>\n    <tr>\n      <th>ZMW</th>\n      <td>ZM</td>\n      <td>ZMB</td>\n      <td>894.0</td>\n      <td>Zambia</td>\n      <td>Zambian Kwacha</td>\n      <td>967.0</td>\n    </tr>\n    <tr>\n      <th>ZWL</th>\n      <td>ZW</td>\n      <td>ZWE</td>\n      <td>716.0</td>\n      <td>Zimbabwe</td>\n      <td>Zimbabwe Dollar</td>\n      <td>932.0</td>\n    </tr>\n    <tr>\n      <th>EUR</th>\n      <td>NaN</td>\n      <td>NaN</td>\n      <td>NaN</td>\n      <td>European Union</td>\n      <td>Euro</td>\n      <td>978.0</td>\n    </tr>\n  </tbody>\n</table>\n<p>273 rows × 6 columns</p>\n</div>"
     },
     "metadata": {},
     "execution_count": 68
    }
   ],
   "source": [
    "pd.merge(country_statics, currency_statics, left_index=True, right_on='country', how='outer')"
   ]
  },
  {
   "cell_type": "code",
   "execution_count": 79,
   "metadata": {
    "tags": []
   },
   "outputs": [
    {
     "output_type": "stream",
     "name": "stdout",
     "text": "Database created and Successfully Connected to SQLite\n"
    },
    {
     "output_type": "execute_result",
     "data": {
      "text/plain": "<sqlite3.Cursor at 0x7f6ffcfcdc70>"
     },
     "metadata": {},
     "execution_count": 79
    },
    {
     "output_type": "stream",
     "name": "stdout",
     "text": "SQLite Database Version is:  [('3.32.3',)]\nThe SQLite connection is closed\n"
    }
   ],
   "source": [
    "import sqlite3\n",
    "\n",
    "try:\n",
    "    sqliteConnection = sqlite3.connect('SQLite_Python.db')\n",
    "    cursor = sqliteConnection.cursor()\n",
    "    print(\"Database created and Successfully Connected to SQLite\")\n",
    "\n",
    "    sqlite_select_Query = \"select sqlite_version();\"\n",
    "    cursor.execute(sqlite_select_Query)\n",
    "    record = cursor.fetchall()\n",
    "    print(\"SQLite Database Version is: \", record)\n",
    "    cursor.close()\n",
    "\n",
    "except sqlite3.Error as error:\n",
    "    print(\"Error while connecting to sqlite\", error)\n",
    "finally:\n",
    "    if (sqliteConnection):\n",
    "        sqliteConnection.close()\n",
    "        print(\"The SQLite connection is closed\")"
   ]
  },
  {
   "cell_type": "code",
   "execution_count": 80,
   "metadata": {
    "tags": []
   },
   "outputs": [],
   "source": [
    "from marketdata.daily import get_daily_data"
   ]
  },
  {
   "cell_type": "code",
   "execution_count": 83,
   "metadata": {},
   "outputs": [],
   "source": [
    "currencies = ['EUR', 'CAD', 'SEK', 'JPY']\n",
    "fx_rates = get_daily_data(currencies, base='USD')"
   ]
  },
  {
   "cell_type": "code",
   "execution_count": 84,
   "metadata": {},
   "outputs": [
    {
     "output_type": "execute_result",
     "data": {
      "text/plain": "<xarray.Dataset>\nDimensions:   (currency: 4, date: 100)\nCoordinates:\n  * currency  (currency) object 'CAD' 'EUR' 'JPY' 'SEK'\n  * date      (date) object '2020-04-13' '2020-04-14' ... '2020-08-28'\nData variables:\n    close     (currency, date) float64 0.7198 0.7202 0.7081 ... 0.1141 0.1156\n    high      (currency, date) float64 0.7212 0.7209 0.7205 ... 0.115 0.1156\n    low       (currency, date) float64 0.7145 0.7177 0.7071 ... 0.1135 0.114\n    open      (currency, date) float64 0.7147 0.7198 0.7199 ... 0.1142 0.1141",
      "text/html": "<div><svg style=\"position: absolute; width: 0; height: 0; overflow: hidden\">\n<defs>\n<symbol id=\"icon-database\" viewBox=\"0 0 32 32\">\n<path d=\"M16 0c-8.837 0-16 2.239-16 5v4c0 2.761 7.163 5 16 5s16-2.239 16-5v-4c0-2.761-7.163-5-16-5z\"></path>\n<path d=\"M16 17c-8.837 0-16-2.239-16-5v6c0 2.761 7.163 5 16 5s16-2.239 16-5v-6c0 2.761-7.163 5-16 5z\"></path>\n<path d=\"M16 26c-8.837 0-16-2.239-16-5v6c0 2.761 7.163 5 16 5s16-2.239 16-5v-6c0 2.761-7.163 5-16 5z\"></path>\n</symbol>\n<symbol id=\"icon-file-text2\" viewBox=\"0 0 32 32\">\n<path d=\"M28.681 7.159c-0.694-0.947-1.662-2.053-2.724-3.116s-2.169-2.030-3.116-2.724c-1.612-1.182-2.393-1.319-2.841-1.319h-15.5c-1.378 0-2.5 1.121-2.5 2.5v27c0 1.378 1.122 2.5 2.5 2.5h23c1.378 0 2.5-1.122 2.5-2.5v-19.5c0-0.448-0.137-1.23-1.319-2.841zM24.543 5.457c0.959 0.959 1.712 1.825 2.268 2.543h-4.811v-4.811c0.718 0.556 1.584 1.309 2.543 2.268zM28 29.5c0 0.271-0.229 0.5-0.5 0.5h-23c-0.271 0-0.5-0.229-0.5-0.5v-27c0-0.271 0.229-0.5 0.5-0.5 0 0 15.499-0 15.5 0v7c0 0.552 0.448 1 1 1h7v19.5z\"></path>\n<path d=\"M23 26h-14c-0.552 0-1-0.448-1-1s0.448-1 1-1h14c0.552 0 1 0.448 1 1s-0.448 1-1 1z\"></path>\n<path d=\"M23 22h-14c-0.552 0-1-0.448-1-1s0.448-1 1-1h14c0.552 0 1 0.448 1 1s-0.448 1-1 1z\"></path>\n<path d=\"M23 18h-14c-0.552 0-1-0.448-1-1s0.448-1 1-1h14c0.552 0 1 0.448 1 1s-0.448 1-1 1z\"></path>\n</symbol>\n</defs>\n</svg>\n<style>/* CSS stylesheet for displaying xarray objects in jupyterlab.\n *\n */\n\n:root {\n  --xr-font-color0: var(--jp-content-font-color0, rgba(0, 0, 0, 1));\n  --xr-font-color2: var(--jp-content-font-color2, rgba(0, 0, 0, 0.54));\n  --xr-font-color3: var(--jp-content-font-color3, rgba(0, 0, 0, 0.38));\n  --xr-border-color: var(--jp-border-color2, #e0e0e0);\n  --xr-disabled-color: var(--jp-layout-color3, #bdbdbd);\n  --xr-background-color: var(--jp-layout-color0, white);\n  --xr-background-color-row-even: var(--jp-layout-color1, white);\n  --xr-background-color-row-odd: var(--jp-layout-color2, #eeeeee);\n}\n\nhtml[theme=dark],\nbody.vscode-dark {\n  --xr-font-color0: rgba(255, 255, 255, 1);\n  --xr-font-color2: rgba(255, 255, 255, 0.54);\n  --xr-font-color3: rgba(255, 255, 255, 0.38);\n  --xr-border-color: #1F1F1F;\n  --xr-disabled-color: #515151;\n  --xr-background-color: #111111;\n  --xr-background-color-row-even: #111111;\n  --xr-background-color-row-odd: #313131;\n}\n\n.xr-wrap {\n  display: block;\n  min-width: 300px;\n  max-width: 700px;\n}\n\n.xr-text-repr-fallback {\n  /* fallback to plain text repr when CSS is not injected (untrusted notebook) */\n  display: none;\n}\n\n.xr-header {\n  padding-top: 6px;\n  padding-bottom: 6px;\n  margin-bottom: 4px;\n  border-bottom: solid 1px var(--xr-border-color);\n}\n\n.xr-header > div,\n.xr-header > ul {\n  display: inline;\n  margin-top: 0;\n  margin-bottom: 0;\n}\n\n.xr-obj-type,\n.xr-array-name {\n  margin-left: 2px;\n  margin-right: 10px;\n}\n\n.xr-obj-type {\n  color: var(--xr-font-color2);\n}\n\n.xr-sections {\n  padding-left: 0 !important;\n  display: grid;\n  grid-template-columns: 150px auto auto 1fr 20px 20px;\n}\n\n.xr-section-item {\n  display: contents;\n}\n\n.xr-section-item input {\n  display: none;\n}\n\n.xr-section-item input + label {\n  color: var(--xr-disabled-color);\n}\n\n.xr-section-item input:enabled + label {\n  cursor: pointer;\n  color: var(--xr-font-color2);\n}\n\n.xr-section-item input:enabled + label:hover {\n  color: var(--xr-font-color0);\n}\n\n.xr-section-summary {\n  grid-column: 1;\n  color: var(--xr-font-color2);\n  font-weight: 500;\n}\n\n.xr-section-summary > span {\n  display: inline-block;\n  padding-left: 0.5em;\n}\n\n.xr-section-summary-in:disabled + label {\n  color: var(--xr-font-color2);\n}\n\n.xr-section-summary-in + label:before {\n  display: inline-block;\n  content: '►';\n  font-size: 11px;\n  width: 15px;\n  text-align: center;\n}\n\n.xr-section-summary-in:disabled + label:before {\n  color: var(--xr-disabled-color);\n}\n\n.xr-section-summary-in:checked + label:before {\n  content: '▼';\n}\n\n.xr-section-summary-in:checked + label > span {\n  display: none;\n}\n\n.xr-section-summary,\n.xr-section-inline-details {\n  padding-top: 4px;\n  padding-bottom: 4px;\n}\n\n.xr-section-inline-details {\n  grid-column: 2 / -1;\n}\n\n.xr-section-details {\n  display: none;\n  grid-column: 1 / -1;\n  margin-bottom: 5px;\n}\n\n.xr-section-summary-in:checked ~ .xr-section-details {\n  display: contents;\n}\n\n.xr-array-wrap {\n  grid-column: 1 / -1;\n  display: grid;\n  grid-template-columns: 20px auto;\n}\n\n.xr-array-wrap > label {\n  grid-column: 1;\n  vertical-align: top;\n}\n\n.xr-preview {\n  color: var(--xr-font-color3);\n}\n\n.xr-array-preview,\n.xr-array-data {\n  padding: 0 5px !important;\n  grid-column: 2;\n}\n\n.xr-array-data,\n.xr-array-in:checked ~ .xr-array-preview {\n  display: none;\n}\n\n.xr-array-in:checked ~ .xr-array-data,\n.xr-array-preview {\n  display: inline-block;\n}\n\n.xr-dim-list {\n  display: inline-block !important;\n  list-style: none;\n  padding: 0 !important;\n  margin: 0;\n}\n\n.xr-dim-list li {\n  display: inline-block;\n  padding: 0;\n  margin: 0;\n}\n\n.xr-dim-list:before {\n  content: '(';\n}\n\n.xr-dim-list:after {\n  content: ')';\n}\n\n.xr-dim-list li:not(:last-child):after {\n  content: ',';\n  padding-right: 5px;\n}\n\n.xr-has-index {\n  font-weight: bold;\n}\n\n.xr-var-list,\n.xr-var-item {\n  display: contents;\n}\n\n.xr-var-item > div,\n.xr-var-item label,\n.xr-var-item > .xr-var-name span {\n  background-color: var(--xr-background-color-row-even);\n  margin-bottom: 0;\n}\n\n.xr-var-item > .xr-var-name:hover span {\n  padding-right: 5px;\n}\n\n.xr-var-list > li:nth-child(odd) > div,\n.xr-var-list > li:nth-child(odd) > label,\n.xr-var-list > li:nth-child(odd) > .xr-var-name span {\n  background-color: var(--xr-background-color-row-odd);\n}\n\n.xr-var-name {\n  grid-column: 1;\n}\n\n.xr-var-dims {\n  grid-column: 2;\n}\n\n.xr-var-dtype {\n  grid-column: 3;\n  text-align: right;\n  color: var(--xr-font-color2);\n}\n\n.xr-var-preview {\n  grid-column: 4;\n}\n\n.xr-var-name,\n.xr-var-dims,\n.xr-var-dtype,\n.xr-preview,\n.xr-attrs dt {\n  white-space: nowrap;\n  overflow: hidden;\n  text-overflow: ellipsis;\n  padding-right: 10px;\n}\n\n.xr-var-name:hover,\n.xr-var-dims:hover,\n.xr-var-dtype:hover,\n.xr-attrs dt:hover {\n  overflow: visible;\n  width: auto;\n  z-index: 1;\n}\n\n.xr-var-attrs,\n.xr-var-data {\n  display: none;\n  background-color: var(--xr-background-color) !important;\n  padding-bottom: 5px !important;\n}\n\n.xr-var-attrs-in:checked ~ .xr-var-attrs,\n.xr-var-data-in:checked ~ .xr-var-data {\n  display: block;\n}\n\n.xr-var-data > table {\n  float: right;\n}\n\n.xr-var-name span,\n.xr-var-data,\n.xr-attrs {\n  padding-left: 25px !important;\n}\n\n.xr-attrs,\n.xr-var-attrs,\n.xr-var-data {\n  grid-column: 1 / -1;\n}\n\ndl.xr-attrs {\n  padding: 0;\n  margin: 0;\n  display: grid;\n  grid-template-columns: 125px auto;\n}\n\n.xr-attrs dt, dd {\n  padding: 0;\n  margin: 0;\n  float: left;\n  padding-right: 10px;\n  width: auto;\n}\n\n.xr-attrs dt {\n  font-weight: normal;\n  grid-column: 1;\n}\n\n.xr-attrs dt:hover span {\n  display: inline-block;\n  background: var(--xr-background-color);\n  padding-right: 10px;\n}\n\n.xr-attrs dd {\n  grid-column: 2;\n  white-space: pre-wrap;\n  word-break: break-all;\n}\n\n.xr-icon-database,\n.xr-icon-file-text2 {\n  display: inline-block;\n  vertical-align: middle;\n  width: 1em;\n  height: 1.5em !important;\n  stroke-width: 0;\n  stroke: currentColor;\n  fill: currentColor;\n}\n</style><pre class='xr-text-repr-fallback'>&lt;xarray.Dataset&gt;\nDimensions:   (currency: 4, date: 100)\nCoordinates:\n  * currency  (currency) object &#x27;CAD&#x27; &#x27;EUR&#x27; &#x27;JPY&#x27; &#x27;SEK&#x27;\n  * date      (date) object &#x27;2020-04-13&#x27; &#x27;2020-04-14&#x27; ... &#x27;2020-08-28&#x27;\nData variables:\n    close     (currency, date) float64 0.7198 0.7202 0.7081 ... 0.1141 0.1156\n    high      (currency, date) float64 0.7212 0.7209 0.7205 ... 0.115 0.1156\n    low       (currency, date) float64 0.7145 0.7177 0.7071 ... 0.1135 0.114\n    open      (currency, date) float64 0.7147 0.7198 0.7199 ... 0.1142 0.1141</pre><div class='xr-wrap' hidden><div class='xr-header'><div class='xr-obj-type'>xarray.Dataset</div></div><ul class='xr-sections'><li class='xr-section-item'><input id='section-da816875-48f2-4fe7-a2cc-e25da4f73c62' class='xr-section-summary-in' type='checkbox' disabled ><label for='section-da816875-48f2-4fe7-a2cc-e25da4f73c62' class='xr-section-summary'  title='Expand/collapse section'>Dimensions:</label><div class='xr-section-inline-details'><ul class='xr-dim-list'><li><span class='xr-has-index'>currency</span>: 4</li><li><span class='xr-has-index'>date</span>: 100</li></ul></div><div class='xr-section-details'></div></li><li class='xr-section-item'><input id='section-1d8c9c33-7649-4e84-ac44-111d590748fa' class='xr-section-summary-in' type='checkbox'  checked><label for='section-1d8c9c33-7649-4e84-ac44-111d590748fa' class='xr-section-summary' >Coordinates: <span>(2)</span></label><div class='xr-section-inline-details'></div><div class='xr-section-details'><ul class='xr-var-list'><li class='xr-var-item'><div class='xr-var-name'><span class='xr-has-index'>currency</span></div><div class='xr-var-dims'>(currency)</div><div class='xr-var-dtype'>object</div><div class='xr-var-preview xr-preview'>&#x27;CAD&#x27; &#x27;EUR&#x27; &#x27;JPY&#x27; &#x27;SEK&#x27;</div><input id='attrs-1959df3c-5053-43e0-be0e-400d8c67c036' class='xr-var-attrs-in' type='checkbox' disabled><label for='attrs-1959df3c-5053-43e0-be0e-400d8c67c036' title='Show/Hide attributes'><svg class='icon xr-icon-file-text2'><use xlink:href='#icon-file-text2'></use></svg></label><input id='data-74eee1da-aae2-4ee0-8654-7955a1d3cf11' class='xr-var-data-in' type='checkbox'><label for='data-74eee1da-aae2-4ee0-8654-7955a1d3cf11' title='Show/Hide data repr'><svg class='icon xr-icon-database'><use xlink:href='#icon-database'></use></svg></label><div class='xr-var-attrs'><dl class='xr-attrs'></dl></div><div class='xr-var-data'><pre>array([&#x27;CAD&#x27;, &#x27;EUR&#x27;, &#x27;JPY&#x27;, &#x27;SEK&#x27;], dtype=object)</pre></div></li><li class='xr-var-item'><div class='xr-var-name'><span class='xr-has-index'>date</span></div><div class='xr-var-dims'>(date)</div><div class='xr-var-dtype'>object</div><div class='xr-var-preview xr-preview'>&#x27;2020-04-13&#x27; ... &#x27;2020-08-28&#x27;</div><input id='attrs-0881848d-912e-4bd2-806c-7f04e10adbe3' class='xr-var-attrs-in' type='checkbox' disabled><label for='attrs-0881848d-912e-4bd2-806c-7f04e10adbe3' title='Show/Hide attributes'><svg class='icon xr-icon-file-text2'><use xlink:href='#icon-file-text2'></use></svg></label><input id='data-efdd6c98-3b6d-4d2a-8b4d-701845354961' class='xr-var-data-in' type='checkbox'><label for='data-efdd6c98-3b6d-4d2a-8b4d-701845354961' title='Show/Hide data repr'><svg class='icon xr-icon-database'><use xlink:href='#icon-database'></use></svg></label><div class='xr-var-attrs'><dl class='xr-attrs'></dl></div><div class='xr-var-data'><pre>array([&#x27;2020-04-13&#x27;, &#x27;2020-04-14&#x27;, &#x27;2020-04-15&#x27;, &#x27;2020-04-16&#x27;, &#x27;2020-04-17&#x27;,\n       &#x27;2020-04-20&#x27;, &#x27;2020-04-21&#x27;, &#x27;2020-04-22&#x27;, &#x27;2020-04-23&#x27;, &#x27;2020-04-24&#x27;,\n       &#x27;2020-04-27&#x27;, &#x27;2020-04-28&#x27;, &#x27;2020-04-29&#x27;, &#x27;2020-04-30&#x27;, &#x27;2020-05-01&#x27;,\n       &#x27;2020-05-04&#x27;, &#x27;2020-05-05&#x27;, &#x27;2020-05-06&#x27;, &#x27;2020-05-07&#x27;, &#x27;2020-05-08&#x27;,\n       &#x27;2020-05-11&#x27;, &#x27;2020-05-12&#x27;, &#x27;2020-05-13&#x27;, &#x27;2020-05-14&#x27;, &#x27;2020-05-15&#x27;,\n       &#x27;2020-05-18&#x27;, &#x27;2020-05-19&#x27;, &#x27;2020-05-20&#x27;, &#x27;2020-05-21&#x27;, &#x27;2020-05-22&#x27;,\n       &#x27;2020-05-25&#x27;, &#x27;2020-05-26&#x27;, &#x27;2020-05-27&#x27;, &#x27;2020-05-28&#x27;, &#x27;2020-05-29&#x27;,\n       &#x27;2020-06-01&#x27;, &#x27;2020-06-02&#x27;, &#x27;2020-06-03&#x27;, &#x27;2020-06-04&#x27;, &#x27;2020-06-05&#x27;,\n       &#x27;2020-06-08&#x27;, &#x27;2020-06-09&#x27;, &#x27;2020-06-10&#x27;, &#x27;2020-06-11&#x27;, &#x27;2020-06-12&#x27;,\n       &#x27;2020-06-15&#x27;, &#x27;2020-06-16&#x27;, &#x27;2020-06-17&#x27;, &#x27;2020-06-18&#x27;, &#x27;2020-06-19&#x27;,\n       &#x27;2020-06-22&#x27;, &#x27;2020-06-23&#x27;, &#x27;2020-06-24&#x27;, &#x27;2020-06-25&#x27;, &#x27;2020-06-26&#x27;,\n       &#x27;2020-06-29&#x27;, &#x27;2020-06-30&#x27;, &#x27;2020-07-01&#x27;, &#x27;2020-07-02&#x27;, &#x27;2020-07-03&#x27;,\n       &#x27;2020-07-06&#x27;, &#x27;2020-07-07&#x27;, &#x27;2020-07-08&#x27;, &#x27;2020-07-09&#x27;, &#x27;2020-07-10&#x27;,\n       &#x27;2020-07-13&#x27;, &#x27;2020-07-14&#x27;, &#x27;2020-07-15&#x27;, &#x27;2020-07-16&#x27;, &#x27;2020-07-17&#x27;,\n       &#x27;2020-07-20&#x27;, &#x27;2020-07-21&#x27;, &#x27;2020-07-22&#x27;, &#x27;2020-07-23&#x27;, &#x27;2020-07-24&#x27;,\n       &#x27;2020-07-27&#x27;, &#x27;2020-07-28&#x27;, &#x27;2020-07-29&#x27;, &#x27;2020-07-30&#x27;, &#x27;2020-07-31&#x27;,\n       &#x27;2020-08-03&#x27;, &#x27;2020-08-04&#x27;, &#x27;2020-08-05&#x27;, &#x27;2020-08-06&#x27;, &#x27;2020-08-07&#x27;,\n       &#x27;2020-08-10&#x27;, &#x27;2020-08-11&#x27;, &#x27;2020-08-12&#x27;, &#x27;2020-08-13&#x27;, &#x27;2020-08-14&#x27;,\n       &#x27;2020-08-17&#x27;, &#x27;2020-08-18&#x27;, &#x27;2020-08-19&#x27;, &#x27;2020-08-20&#x27;, &#x27;2020-08-21&#x27;,\n       &#x27;2020-08-24&#x27;, &#x27;2020-08-25&#x27;, &#x27;2020-08-26&#x27;, &#x27;2020-08-27&#x27;, &#x27;2020-08-28&#x27;],\n      dtype=object)</pre></div></li></ul></div></li><li class='xr-section-item'><input id='section-7f9a195a-9167-4520-baec-b6d5c09f3c42' class='xr-section-summary-in' type='checkbox'  checked><label for='section-7f9a195a-9167-4520-baec-b6d5c09f3c42' class='xr-section-summary' >Data variables: <span>(4)</span></label><div class='xr-section-inline-details'></div><div class='xr-section-details'><ul class='xr-var-list'><li class='xr-var-item'><div class='xr-var-name'><span>close</span></div><div class='xr-var-dims'>(currency, date)</div><div class='xr-var-dtype'>float64</div><div class='xr-var-preview xr-preview'>0.7198 0.7202 ... 0.1141 0.1156</div><input id='attrs-c392fc9b-aa3f-42d8-812d-cfdca84f27f3' class='xr-var-attrs-in' type='checkbox' disabled><label for='attrs-c392fc9b-aa3f-42d8-812d-cfdca84f27f3' title='Show/Hide attributes'><svg class='icon xr-icon-file-text2'><use xlink:href='#icon-file-text2'></use></svg></label><input id='data-2a6a049b-810a-48e7-bc88-6cb3ac040acb' class='xr-var-data-in' type='checkbox'><label for='data-2a6a049b-810a-48e7-bc88-6cb3ac040acb' title='Show/Hide data repr'><svg class='icon xr-icon-database'><use xlink:href='#icon-database'></use></svg></label><div class='xr-var-attrs'><dl class='xr-attrs'></dl></div><div class='xr-var-data'><pre>array([[0.7198, 0.7202, 0.7081, 0.712 , 0.7138, 0.7076, 0.7041, 0.7058,\n        0.7105, 0.7089, 0.7128, 0.7141, 0.7204, 0.7164, 0.7094, 0.7098,\n        0.7129, 0.7055, 0.716 , 0.7175, 0.7131, 0.7107, 0.7092, 0.7117,\n        0.7081, 0.7173, 0.7172, 0.7188, 0.7167, 0.714 , 0.7148, 0.7251,\n        0.7266, 0.7256, 0.726 , 0.7361, 0.7388, 0.7401, 0.7394, 0.7443,\n        0.7471, 0.7451, 0.7454, 0.7334, 0.7356, 0.7386, 0.7379, 0.737 ,\n        0.7353, 0.7346, 0.7395, 0.7378, 0.7324, 0.7329, 0.73  , 0.7322,\n        0.7362, 0.7356, 0.7368, 0.7375, 0.7384, 0.7344, 0.7395, 0.7359,\n        0.7349, 0.7347, 0.7351, 0.7398, 0.7359, 0.7357, 0.7389, 0.7431,\n        0.7453, 0.7462, 0.7452, 0.7492, 0.7471, 0.7492, 0.7447, 0.7449,\n        0.746 , 0.7509, 0.7537, 0.7509, 0.7466, 0.7484, 0.7517, 0.7544,\n        0.7561, 0.7532, 0.7559, 0.7592, 0.7566, 0.7582, 0.7576, 0.7563,\n        0.7587, 0.7603, 0.7616, 0.7657],\n       [1.0915, 1.0983, 1.0901, 1.086 , 1.0874, 1.0864, 1.0854, 1.0823,\n        1.078 , 1.0824, 1.0829, 1.0823, 1.0875, 1.0943, 1.098 , 1.0904,\n        1.0844, 1.0797, 1.0838, 1.0838, 1.0809, 1.0852, 1.0818, 1.0803,\n        1.0818, 1.0916, 1.0923, 1.0978, 1.095 , 1.09  , 1.0894, 1.0982,\n        1.1013, 1.1073, 1.1107, 1.1131, 1.1172, 1.1231, 1.1321, 1.1287,\n        1.1293, 1.1338, 1.1376, 1.1299, 1.126 , 1.1329, 1.1258, 1.1244,\n        1.1209, 1.1176, 1.1273, 1.1308, 1.1252, 1.1221, 1.1218, 1.1249,\n...\n        0.0094, 0.0094, 0.0094, 0.0094, 0.0093, 0.0093, 0.0093, 0.0093,\n        0.0093, 0.0093, 0.0093, 0.0093, 0.0093, 0.0093, 0.0093, 0.0093,\n        0.0094, 0.0093, 0.0093, 0.0094, 0.0093, 0.0093, 0.0093, 0.0094,\n        0.0093, 0.0094, 0.0094, 0.0095, 0.0095, 0.0095, 0.0095, 0.0094,\n        0.0094, 0.0095, 0.0095, 0.0095, 0.0094, 0.0094, 0.0094, 0.0094,\n        0.0094, 0.0094, 0.0094, 0.0095, 0.0094, 0.0095, 0.0095, 0.0094,\n        0.0094, 0.0094, 0.0094, 0.0095],\n       [0.0995, 0.1002, 0.0992, 0.0994, 0.0997, 0.0992, 0.0985, 0.0985,\n        0.0989, 0.0993, 0.0994, 0.1007, 0.1011, 0.1019, 0.1011, 0.101 ,\n        0.1012, 0.1011, 0.1014, 0.1019, 0.1008, 0.1018, 0.1014, 0.1015,\n        0.101 , 0.1026, 0.1028, 0.1039, 0.1035, 0.103 , 0.1028, 0.1034,\n        0.1037, 0.1045, 0.1056, 0.1063, 0.1067, 0.1072, 0.1082, 0.1086,\n        0.1081, 0.1082, 0.1083, 0.1067, 0.1067, 0.1074, 0.1061, 0.1068,\n        0.1057, 0.1051, 0.1062, 0.1071, 0.1063, 0.1068, 0.1066, 0.1067,\n        0.1068, 0.107 , 0.1069, 0.107 , 0.1077, 0.1075, 0.1084, 0.1078,\n        0.1082, 0.1083, 0.1096, 0.1097, 0.1095, 0.1103, 0.1109, 0.1123,\n        0.1122, 0.1124, 0.1128, 0.1141, 0.1135, 0.1141, 0.1145, 0.1134,\n        0.1138, 0.1141, 0.115 , 0.1146, 0.1138, 0.1138, 0.1137, 0.1146,\n        0.1146, 0.1146, 0.1147, 0.1153, 0.1145, 0.1144, 0.1131, 0.1133,\n        0.1138, 0.1142, 0.1141, 0.1156]])</pre></div></li><li class='xr-var-item'><div class='xr-var-name'><span>high</span></div><div class='xr-var-dims'>(currency, date)</div><div class='xr-var-dtype'>float64</div><div class='xr-var-preview xr-preview'>0.7212 0.7209 ... 0.115 0.1156</div><input id='attrs-cfcee878-f937-40ff-b3c9-86405c7b9db1' class='xr-var-attrs-in' type='checkbox' disabled><label for='attrs-cfcee878-f937-40ff-b3c9-86405c7b9db1' title='Show/Hide attributes'><svg class='icon xr-icon-file-text2'><use xlink:href='#icon-file-text2'></use></svg></label><input id='data-47dd65e7-5395-4b37-88a8-c4e6f91875d8' class='xr-var-data-in' type='checkbox'><label for='data-47dd65e7-5395-4b37-88a8-c4e6f91875d8' title='Show/Hide data repr'><svg class='icon xr-icon-database'><use xlink:href='#icon-database'></use></svg></label><div class='xr-var-attrs'><dl class='xr-attrs'></dl></div><div class='xr-var-data'><pre>array([[0.7212, 0.7209, 0.7205, 0.7131, 0.7139, 0.7123, 0.7083, 0.7083,\n        0.7139, 0.7128, 0.7133, 0.7173, 0.7204, 0.7217, 0.7166, 0.7111,\n        0.7136, 0.7083, 0.7164, 0.7187, 0.7192, 0.7155, 0.7137, 0.7124,\n        0.7132, 0.7173, 0.721 , 0.7209, 0.7196, 0.7171, 0.7157, 0.7267,\n        0.7282, 0.7279, 0.729 , 0.7373, 0.7414, 0.7416, 0.7422, 0.7465,\n        0.7485, 0.7483, 0.7507, 0.746 , 0.739 , 0.7386, 0.7402, 0.7399,\n        0.7393, 0.7379, 0.7399, 0.7413, 0.739 , 0.7347, 0.7336, 0.7325,\n        0.7367, 0.738 , 0.7373, 0.7381, 0.7395, 0.7392, 0.7409, 0.741 ,\n        0.7364, 0.7385, 0.7354, 0.7403, 0.7405, 0.737 , 0.7391, 0.7447,\n        0.7461, 0.7488, 0.7473, 0.7493, 0.7499, 0.7498, 0.7498, 0.7476,\n        0.7472, 0.751 , 0.7555, 0.7549, 0.7514, 0.7497, 0.7533, 0.7557,\n        0.7579, 0.757 , 0.7579, 0.7601, 0.7611, 0.7592, 0.7598, 0.7611,\n        0.7592, 0.7613, 0.763 , 0.7662],\n       [1.0968, 1.0991, 1.0988, 1.0907, 1.0893, 1.0897, 1.088 , 1.0885,\n        1.0847, 1.083 , 1.086 , 1.0889, 1.0886, 1.0973, 1.1019, 1.0962,\n        1.0926, 1.0817, 1.0841, 1.0876, 1.0851, 1.0885, 1.0897, 1.0824,\n        1.0851, 1.0927, 1.0976, 1.0999, 1.1009, 1.0956, 1.0915, 1.0996,\n        1.1031, 1.1094, 1.1145, 1.1154, 1.1196, 1.1258, 1.1363, 1.1384,\n        1.132 , 1.1364, 1.1422, 1.1404, 1.1341, 1.1333, 1.1353, 1.1294,\n        1.1261, 1.1254, 1.1275, 1.1349, 1.1326, 1.126 , 1.1239, 1.1288,\n...\n        0.0094, 0.0094, 0.0094, 0.0094, 0.0094, 0.0093, 0.0094, 0.0093,\n        0.0093, 0.0093, 0.0093, 0.0093, 0.0093, 0.0093, 0.0093, 0.0093,\n        0.0094, 0.0094, 0.0093, 0.0094, 0.0094, 0.0094, 0.0093, 0.0094,\n        0.0094, 0.0094, 0.0095, 0.0095, 0.0095, 0.0095, 0.0095, 0.0096,\n        0.0095, 0.0095, 0.0095, 0.0095, 0.0095, 0.0095, 0.0094, 0.0094,\n        0.0094, 0.0094, 0.0094, 0.0095, 0.0095, 0.0095, 0.0095, 0.0095,\n        0.0094, 0.0095, 0.0095, 0.0095],\n       [0.1004, 0.1005, 0.1002, 0.0997, 0.0997, 0.0999, 0.0993, 0.0991,\n        0.0993, 0.0993, 0.0996, 0.1009, 0.1011, 0.1021, 0.1019, 0.1011,\n        0.1014, 0.1012, 0.1016, 0.1022, 0.102 , 0.1024, 0.1024, 0.1016,\n        0.1016, 0.1027, 0.1033, 0.104 , 0.1041, 0.1035, 0.103 , 0.1037,\n        0.1041, 0.1049, 0.1058, 0.1064, 0.1069, 0.1075, 0.1087, 0.109 ,\n        0.1088, 0.1087, 0.1089, 0.1085, 0.1078, 0.1074, 0.1077, 0.107 ,\n        0.1069, 0.106 , 0.1064, 0.1075, 0.1075, 0.1071, 0.1069, 0.1073,\n        0.1072, 0.1072, 0.1077, 0.107 , 0.1078, 0.108 , 0.1085, 0.1088,\n        0.1085, 0.109 , 0.1096, 0.1102, 0.1102, 0.1104, 0.1112, 0.1124,\n        0.1126, 0.1127, 0.1129, 0.1142, 0.1142, 0.1143, 0.1147, 0.1152,\n        0.114 , 0.1143, 0.1151, 0.1154, 0.1146, 0.1142, 0.1144, 0.1147,\n        0.115 , 0.1148, 0.1149, 0.1156, 0.1154, 0.1146, 0.1146, 0.1139,\n        0.114 , 0.1144, 0.115 , 0.1156]])</pre></div></li><li class='xr-var-item'><div class='xr-var-name'><span>low</span></div><div class='xr-var-dims'>(currency, date)</div><div class='xr-var-dtype'>float64</div><div class='xr-var-preview xr-preview'>0.7145 0.7177 ... 0.1135 0.114</div><input id='attrs-24d86733-b8cb-45c8-9a06-c0ef714b13a2' class='xr-var-attrs-in' type='checkbox' disabled><label for='attrs-24d86733-b8cb-45c8-9a06-c0ef714b13a2' title='Show/Hide attributes'><svg class='icon xr-icon-file-text2'><use xlink:href='#icon-file-text2'></use></svg></label><input id='data-4e33bddf-d811-49d5-9c62-6891a9250602' class='xr-var-data-in' type='checkbox'><label for='data-4e33bddf-d811-49d5-9c62-6891a9250602' title='Show/Hide data repr'><svg class='icon xr-icon-database'><use xlink:href='#icon-database'></use></svg></label><div class='xr-var-attrs'><dl class='xr-attrs'></dl></div><div class='xr-var-data'><pre>array([[0.7145, 0.7177, 0.7071, 0.7046, 0.7079, 0.7062, 0.7006, 0.7019,\n        0.7039, 0.7079, 0.7079, 0.7101, 0.7138, 0.7154, 0.7083, 0.7062,\n        0.709 , 0.7051, 0.7051, 0.7147, 0.7116, 0.7097, 0.708 , 0.7068,\n        0.7079, 0.7089, 0.7154, 0.7163, 0.7153, 0.7114, 0.7133, 0.7147,\n        0.723 , 0.7247, 0.7226, 0.7248, 0.7356, 0.7364, 0.7381, 0.7396,\n        0.7438, 0.741 , 0.7437, 0.7321, 0.7313, 0.7302, 0.7336, 0.7351,\n        0.734 , 0.7339, 0.7334, 0.7365, 0.7323, 0.731 , 0.7286, 0.7292,\n        0.7295, 0.7347, 0.7335, 0.7359, 0.737 , 0.7343, 0.7335, 0.735 ,\n        0.7331, 0.7341, 0.7323, 0.7343, 0.7358, 0.7354, 0.7348, 0.7385,\n        0.7413, 0.7443, 0.7433, 0.744 , 0.7454, 0.7465, 0.7425, 0.7437,\n        0.7429, 0.7447, 0.7505, 0.7501, 0.7458, 0.7461, 0.748 , 0.7488,\n        0.7541, 0.753 , 0.7535, 0.7553, 0.7555, 0.7545, 0.7551, 0.7549,\n        0.7548, 0.7568, 0.759 , 0.7609],\n       [1.0891, 1.0913, 1.0855, 1.0815, 1.081 , 1.084 , 1.0815, 1.0802,\n        1.0755, 1.0725, 1.081 , 1.0808, 1.0822, 1.0833, 1.0933, 1.0894,\n        1.0825, 1.0789, 1.0764, 1.0814, 1.0799, 1.0783, 1.081 , 1.0773,\n        1.0788, 1.0798, 1.0901, 1.092 , 1.0936, 1.0884, 1.0869, 1.0893,\n        1.0933, 1.099 , 1.1068, 1.1099, 1.1113, 1.1167, 1.1193, 1.1276,\n        1.1266, 1.1239, 1.1321, 1.1285, 1.1211, 1.1225, 1.1226, 1.1205,\n        1.1184, 1.1166, 1.1167, 1.1231, 1.1246, 1.1189, 1.1194, 1.1217,\n...\n        0.0093, 0.0093, 0.0093, 0.0093, 0.0093, 0.0093, 0.0093, 0.0093,\n        0.0093, 0.0092, 0.0093, 0.0093, 0.0093, 0.0093, 0.0093, 0.0093,\n        0.0093, 0.0093, 0.0093, 0.0093, 0.0093, 0.0093, 0.0093, 0.0093,\n        0.0093, 0.0093, 0.0094, 0.0094, 0.0095, 0.0095, 0.0095, 0.0094,\n        0.0094, 0.0094, 0.0094, 0.0095, 0.0094, 0.0094, 0.0094, 0.0093,\n        0.0093, 0.0093, 0.0094, 0.0094, 0.0094, 0.0094, 0.0094, 0.0094,\n        0.0094, 0.0094, 0.0094, 0.0094],\n       [0.0993, 0.0995, 0.0989, 0.0987, 0.099 , 0.0991, 0.0982, 0.0983,\n        0.0982, 0.0984, 0.0988, 0.0991, 0.1005, 0.1009, 0.1009, 0.1002,\n        0.1005, 0.101 , 0.1009, 0.1014, 0.1007, 0.1004, 0.1013, 0.1006,\n        0.1006, 0.1008, 0.1023, 0.1027, 0.1033, 0.1026, 0.1026, 0.1028,\n        0.103 , 0.1035, 0.1045, 0.1055, 0.106 , 0.1064, 0.1065, 0.1079,\n        0.1079, 0.1071, 0.1076, 0.1066, 0.106 , 0.1057, 0.1058, 0.1059,\n        0.1054, 0.105 , 0.1051, 0.1057, 0.1062, 0.1061, 0.1061, 0.1065,\n        0.106 , 0.1061, 0.1066, 0.1067, 0.1067, 0.1069, 0.1073, 0.1077,\n        0.1073, 0.1081, 0.1082, 0.1095, 0.1093, 0.1095, 0.11  , 0.1109,\n        0.1117, 0.1118, 0.1122, 0.1125, 0.1132, 0.1133, 0.1133, 0.1132,\n        0.1131, 0.1133, 0.1141, 0.1142, 0.1135, 0.1136, 0.1135, 0.1133,\n        0.1144, 0.114 , 0.1144, 0.1146, 0.1142, 0.1135, 0.1129, 0.1131,\n        0.1132, 0.1133, 0.1135, 0.114 ]])</pre></div></li><li class='xr-var-item'><div class='xr-var-name'><span>open</span></div><div class='xr-var-dims'>(currency, date)</div><div class='xr-var-dtype'>float64</div><div class='xr-var-preview xr-preview'>0.7147 0.7198 ... 0.1142 0.1141</div><input id='attrs-664a1042-1335-43b6-b2b3-ce8dd366e893' class='xr-var-attrs-in' type='checkbox' disabled><label for='attrs-664a1042-1335-43b6-b2b3-ce8dd366e893' title='Show/Hide attributes'><svg class='icon xr-icon-file-text2'><use xlink:href='#icon-file-text2'></use></svg></label><input id='data-9a52a8fb-f172-4196-b02e-8e4259f42c45' class='xr-var-data-in' type='checkbox'><label for='data-9a52a8fb-f172-4196-b02e-8e4259f42c45' title='Show/Hide data repr'><svg class='icon xr-icon-database'><use xlink:href='#icon-database'></use></svg></label><div class='xr-var-attrs'><dl class='xr-attrs'></dl></div><div class='xr-var-data'><pre>array([[0.7147, 0.7198, 0.7199, 0.7081, 0.7118, 0.7119, 0.708 , 0.7037,\n        0.7059, 0.7105, 0.7083, 0.7128, 0.7138, 0.7204, 0.7162, 0.7075,\n        0.7095, 0.7066, 0.7055, 0.7158, 0.7171, 0.7133, 0.7104, 0.7089,\n        0.7114, 0.709 , 0.7168, 0.7169, 0.7191, 0.7164, 0.7147, 0.7148,\n        0.7256, 0.7262, 0.7255, 0.7251, 0.7361, 0.7391, 0.7404, 0.7401,\n        0.7452, 0.7467, 0.7447, 0.7454, 0.7332, 0.7334, 0.7381, 0.7375,\n        0.7371, 0.7351, 0.7343, 0.7397, 0.7377, 0.7328, 0.7332, 0.7308,\n        0.7318, 0.7362, 0.736 , 0.7368, 0.7374, 0.7381, 0.7344, 0.7391,\n        0.7357, 0.7359, 0.7346, 0.7348, 0.74  , 0.7362, 0.7363, 0.7389,\n        0.743 , 0.7453, 0.7461, 0.7447, 0.7492, 0.7471, 0.7496, 0.745 ,\n        0.7462, 0.7464, 0.7509, 0.7538, 0.7513, 0.7468, 0.7483, 0.7514,\n        0.7547, 0.7561, 0.7541, 0.7559, 0.7597, 0.7569, 0.7586, 0.7589,\n        0.7563, 0.7591, 0.7608, 0.7618],\n       [1.0937, 1.0915, 1.0984, 1.0902, 1.086 , 1.0868, 1.0864, 1.0854,\n        1.0823, 1.078 , 1.0817, 1.0829, 1.0825, 1.0875, 1.0943, 1.0956,\n        1.0904, 1.0806, 1.0798, 1.0836, 1.0835, 1.081 , 1.0851, 1.0818,\n        1.0803, 1.082 , 1.0917, 1.0924, 1.0979, 1.0951, 1.0904, 1.0895,\n        1.0982, 1.1013, 1.1073, 1.1111, 1.1132, 1.1172, 1.1232, 1.1337,\n        1.1301, 1.1294, 1.1339, 1.1377, 1.1298, 1.1247, 1.1329, 1.1259,\n        1.1245, 1.1208, 1.118 , 1.1273, 1.1308, 1.1252, 1.1221, 1.1224,\n...\n        0.0093, 0.0094, 0.0094, 0.0094, 0.0094, 0.0093, 0.0093, 0.0093,\n        0.0093, 0.0093, 0.0093, 0.0093, 0.0093, 0.0093, 0.0093, 0.0093,\n        0.0093, 0.0094, 0.0093, 0.0093, 0.0094, 0.0093, 0.0093, 0.0093,\n        0.0094, 0.0093, 0.0094, 0.0094, 0.0095, 0.0095, 0.0095, 0.0095,\n        0.0095, 0.0094, 0.0095, 0.0095, 0.0095, 0.0094, 0.0094, 0.0094,\n        0.0094, 0.0094, 0.0094, 0.0094, 0.0095, 0.0094, 0.0095, 0.0094,\n        0.0094, 0.0094, 0.0094, 0.0094],\n       [0.1001, 0.0995, 0.1002, 0.0992, 0.0994, 0.0996, 0.0992, 0.0985,\n        0.0985, 0.0988, 0.0991, 0.0994, 0.1006, 0.1011, 0.1019, 0.1007,\n        0.1009, 0.101 , 0.1011, 0.1014, 0.1017, 0.1008, 0.1018, 0.1014,\n        0.1015, 0.1009, 0.1026, 0.1028, 0.1038, 0.1035, 0.103 , 0.1028,\n        0.1034, 0.1037, 0.1045, 0.1056, 0.1063, 0.1067, 0.1072, 0.1082,\n        0.1086, 0.1081, 0.1082, 0.1083, 0.1067, 0.1064, 0.1074, 0.1062,\n        0.1067, 0.1056, 0.1052, 0.1062, 0.1071, 0.1062, 0.1068, 0.1067,\n        0.1067, 0.1068, 0.107 , 0.1069, 0.1067, 0.1077, 0.1075, 0.1084,\n        0.1077, 0.1082, 0.1083, 0.1095, 0.1097, 0.1095, 0.1101, 0.1109,\n        0.1122, 0.1122, 0.1124, 0.1126, 0.1141, 0.1134, 0.1141, 0.1145,\n        0.1135, 0.1138, 0.1141, 0.115 , 0.1146, 0.1138, 0.1136, 0.1137,\n        0.1146, 0.1146, 0.1146, 0.1146, 0.1153, 0.1146, 0.1144, 0.1133,\n        0.1133, 0.1137, 0.1142, 0.1141]])</pre></div></li></ul></div></li><li class='xr-section-item'><input id='section-8ae9919a-5a3f-4d86-ab3e-fbf86aa2e8e4' class='xr-section-summary-in' type='checkbox' disabled ><label for='section-8ae9919a-5a3f-4d86-ab3e-fbf86aa2e8e4' class='xr-section-summary'  title='Expand/collapse section'>Attributes: <span>(0)</span></label><div class='xr-section-inline-details'></div><div class='xr-section-details'><dl class='xr-attrs'></dl></div></li></ul></div></div>"
     },
     "metadata": {},
     "execution_count": 84
    }
   ],
   "source": [
    "fx_rates"
   ]
  },
  {
   "cell_type": "code",
   "execution_count": 91,
   "metadata": {},
   "outputs": [
    {
     "output_type": "execute_result",
     "data": {
      "text/plain": "                    country             name  number\niso_code                                            \nAFN             Afghanistan          Afghani   971.0\nEUR           Aland Islands             Euro   978.0\nALL                 Albania              Lek     8.0\nDZD                 Algeria   Algerian Dinar    12.0\nUSD          American Samoa        US Dollar   840.0\n...                     ...              ...     ...\nXPF       Wallis and Futuna        CFP Franc   953.0\nMAD          Western Sahara  Moroccan Dirham   504.0\nYER                   Yemen      Yemeni Rial   886.0\nZMW                  Zambia   Zambian Kwacha   967.0\nZWL                Zimbabwe  Zimbabwe Dollar   932.0\n\n[260 rows x 3 columns]",
      "text/html": "<div>\n<style scoped>\n    .dataframe tbody tr th:only-of-type {\n        vertical-align: middle;\n    }\n\n    .dataframe tbody tr th {\n        vertical-align: top;\n    }\n\n    .dataframe thead th {\n        text-align: right;\n    }\n</style>\n<table border=\"1\" class=\"dataframe\">\n  <thead>\n    <tr style=\"text-align: right;\">\n      <th></th>\n      <th>country</th>\n      <th>name</th>\n      <th>number</th>\n    </tr>\n    <tr>\n      <th>iso_code</th>\n      <th></th>\n      <th></th>\n      <th></th>\n    </tr>\n  </thead>\n  <tbody>\n    <tr>\n      <th>AFN</th>\n      <td>Afghanistan</td>\n      <td>Afghani</td>\n      <td>971.0</td>\n    </tr>\n    <tr>\n      <th>EUR</th>\n      <td>Aland Islands</td>\n      <td>Euro</td>\n      <td>978.0</td>\n    </tr>\n    <tr>\n      <th>ALL</th>\n      <td>Albania</td>\n      <td>Lek</td>\n      <td>8.0</td>\n    </tr>\n    <tr>\n      <th>DZD</th>\n      <td>Algeria</td>\n      <td>Algerian Dinar</td>\n      <td>12.0</td>\n    </tr>\n    <tr>\n      <th>USD</th>\n      <td>American Samoa</td>\n      <td>US Dollar</td>\n      <td>840.0</td>\n    </tr>\n    <tr>\n      <th>...</th>\n      <td>...</td>\n      <td>...</td>\n      <td>...</td>\n    </tr>\n    <tr>\n      <th>XPF</th>\n      <td>Wallis and Futuna</td>\n      <td>CFP Franc</td>\n      <td>953.0</td>\n    </tr>\n    <tr>\n      <th>MAD</th>\n      <td>Western Sahara</td>\n      <td>Moroccan Dirham</td>\n      <td>504.0</td>\n    </tr>\n    <tr>\n      <th>YER</th>\n      <td>Yemen</td>\n      <td>Yemeni Rial</td>\n      <td>886.0</td>\n    </tr>\n    <tr>\n      <th>ZMW</th>\n      <td>Zambia</td>\n      <td>Zambian Kwacha</td>\n      <td>967.0</td>\n    </tr>\n    <tr>\n      <th>ZWL</th>\n      <td>Zimbabwe</td>\n      <td>Zimbabwe Dollar</td>\n      <td>932.0</td>\n    </tr>\n  </tbody>\n</table>\n<p>260 rows × 3 columns</p>\n</div>"
     },
     "metadata": {},
     "execution_count": 91
    }
   ],
   "source": [
    "currency_statics"
   ]
  },
  {
   "cell_type": "code",
   "execution_count": 111,
   "metadata": {},
   "outputs": [],
   "source": [
    "fx_rates_df = pd.concat({key: fx_rates[key].to_pandas().T for key in list(fx_rates.keys())}, axis=1)\n",
    "fx_rates_df.columns.names = ['field', 'currency']"
   ]
  },
  {
   "cell_type": "code",
   "execution_count": 113,
   "metadata": {},
   "outputs": [
    {
     "output_type": "execute_result",
     "data": {
      "text/plain": "field        close                            high  ...     low    open                        \ncurrency       CAD     EUR     JPY     SEK     CAD  ...     SEK     CAD     EUR     JPY     SEK\ndate                                                ...                                        \n2020-04-13  0.7198  1.0915  0.0093  0.0995  0.7212  ...  0.0993  0.7147  1.0937  0.0092  0.1001\n2020-04-14  0.7202  1.0983  0.0093  0.1002  0.7209  ...  0.0995  0.7198  1.0915  0.0093  0.0995\n2020-04-15  0.7081  1.0901  0.0093  0.0992  0.7205  ...  0.0989  0.7199  1.0984  0.0093  0.1002\n2020-04-16  0.7120  1.0860  0.0093  0.0994  0.7131  ...  0.0987  0.7081  1.0902  0.0093  0.0992\n2020-04-17  0.7138  1.0874  0.0093  0.0997  0.7139  ...  0.0990  0.7118  1.0860  0.0093  0.0994\n...            ...     ...     ...     ...     ...  ...     ...     ...     ...     ...     ...\n2020-08-24  0.7563  1.1794  0.0094  0.1133  0.7611  ...  0.1131  0.7589  1.1801  0.0094  0.1133\n2020-08-25  0.7587  1.1833  0.0094  0.1138  0.7592  ...  0.1132  0.7563  1.1794  0.0094  0.1133\n2020-08-26  0.7603  1.1835  0.0094  0.1142  0.7613  ...  0.1133  0.7591  1.1833  0.0094  0.1137\n2020-08-27  0.7616  1.1817  0.0094  0.1141  0.7630  ...  0.1135  0.7608  1.1836  0.0094  0.1142\n2020-08-28  0.7657  1.1914  0.0095  0.1156  0.7662  ...  0.1140  0.7618  1.1820  0.0094  0.1141\n\n[100 rows x 16 columns]",
      "text/html": "<div>\n<style scoped>\n    .dataframe tbody tr th:only-of-type {\n        vertical-align: middle;\n    }\n\n    .dataframe tbody tr th {\n        vertical-align: top;\n    }\n\n    .dataframe thead tr th {\n        text-align: left;\n    }\n\n    .dataframe thead tr:last-of-type th {\n        text-align: right;\n    }\n</style>\n<table border=\"1\" class=\"dataframe\">\n  <thead>\n    <tr>\n      <th>field</th>\n      <th colspan=\"4\" halign=\"left\">close</th>\n      <th>high</th>\n      <th>...</th>\n      <th>low</th>\n      <th colspan=\"4\" halign=\"left\">open</th>\n    </tr>\n    <tr>\n      <th>currency</th>\n      <th>CAD</th>\n      <th>EUR</th>\n      <th>JPY</th>\n      <th>SEK</th>\n      <th>CAD</th>\n      <th>...</th>\n      <th>SEK</th>\n      <th>CAD</th>\n      <th>EUR</th>\n      <th>JPY</th>\n      <th>SEK</th>\n    </tr>\n    <tr>\n      <th>date</th>\n      <th></th>\n      <th></th>\n      <th></th>\n      <th></th>\n      <th></th>\n      <th></th>\n      <th></th>\n      <th></th>\n      <th></th>\n      <th></th>\n      <th></th>\n    </tr>\n  </thead>\n  <tbody>\n    <tr>\n      <th>2020-04-13</th>\n      <td>0.7198</td>\n      <td>1.0915</td>\n      <td>0.0093</td>\n      <td>0.0995</td>\n      <td>0.7212</td>\n      <td>...</td>\n      <td>0.0993</td>\n      <td>0.7147</td>\n      <td>1.0937</td>\n      <td>0.0092</td>\n      <td>0.1001</td>\n    </tr>\n    <tr>\n      <th>2020-04-14</th>\n      <td>0.7202</td>\n      <td>1.0983</td>\n      <td>0.0093</td>\n      <td>0.1002</td>\n      <td>0.7209</td>\n      <td>...</td>\n      <td>0.0995</td>\n      <td>0.7198</td>\n      <td>1.0915</td>\n      <td>0.0093</td>\n      <td>0.0995</td>\n    </tr>\n    <tr>\n      <th>2020-04-15</th>\n      <td>0.7081</td>\n      <td>1.0901</td>\n      <td>0.0093</td>\n      <td>0.0992</td>\n      <td>0.7205</td>\n      <td>...</td>\n      <td>0.0989</td>\n      <td>0.7199</td>\n      <td>1.0984</td>\n      <td>0.0093</td>\n      <td>0.1002</td>\n    </tr>\n    <tr>\n      <th>2020-04-16</th>\n      <td>0.7120</td>\n      <td>1.0860</td>\n      <td>0.0093</td>\n      <td>0.0994</td>\n      <td>0.7131</td>\n      <td>...</td>\n      <td>0.0987</td>\n      <td>0.7081</td>\n      <td>1.0902</td>\n      <td>0.0093</td>\n      <td>0.0992</td>\n    </tr>\n    <tr>\n      <th>2020-04-17</th>\n      <td>0.7138</td>\n      <td>1.0874</td>\n      <td>0.0093</td>\n      <td>0.0997</td>\n      <td>0.7139</td>\n      <td>...</td>\n      <td>0.0990</td>\n      <td>0.7118</td>\n      <td>1.0860</td>\n      <td>0.0093</td>\n      <td>0.0994</td>\n    </tr>\n    <tr>\n      <th>...</th>\n      <td>...</td>\n      <td>...</td>\n      <td>...</td>\n      <td>...</td>\n      <td>...</td>\n      <td>...</td>\n      <td>...</td>\n      <td>...</td>\n      <td>...</td>\n      <td>...</td>\n      <td>...</td>\n    </tr>\n    <tr>\n      <th>2020-08-24</th>\n      <td>0.7563</td>\n      <td>1.1794</td>\n      <td>0.0094</td>\n      <td>0.1133</td>\n      <td>0.7611</td>\n      <td>...</td>\n      <td>0.1131</td>\n      <td>0.7589</td>\n      <td>1.1801</td>\n      <td>0.0094</td>\n      <td>0.1133</td>\n    </tr>\n    <tr>\n      <th>2020-08-25</th>\n      <td>0.7587</td>\n      <td>1.1833</td>\n      <td>0.0094</td>\n      <td>0.1138</td>\n      <td>0.7592</td>\n      <td>...</td>\n      <td>0.1132</td>\n      <td>0.7563</td>\n      <td>1.1794</td>\n      <td>0.0094</td>\n      <td>0.1133</td>\n    </tr>\n    <tr>\n      <th>2020-08-26</th>\n      <td>0.7603</td>\n      <td>1.1835</td>\n      <td>0.0094</td>\n      <td>0.1142</td>\n      <td>0.7613</td>\n      <td>...</td>\n      <td>0.1133</td>\n      <td>0.7591</td>\n      <td>1.1833</td>\n      <td>0.0094</td>\n      <td>0.1137</td>\n    </tr>\n    <tr>\n      <th>2020-08-27</th>\n      <td>0.7616</td>\n      <td>1.1817</td>\n      <td>0.0094</td>\n      <td>0.1141</td>\n      <td>0.7630</td>\n      <td>...</td>\n      <td>0.1135</td>\n      <td>0.7608</td>\n      <td>1.1836</td>\n      <td>0.0094</td>\n      <td>0.1142</td>\n    </tr>\n    <tr>\n      <th>2020-08-28</th>\n      <td>0.7657</td>\n      <td>1.1914</td>\n      <td>0.0095</td>\n      <td>0.1156</td>\n      <td>0.7662</td>\n      <td>...</td>\n      <td>0.1140</td>\n      <td>0.7618</td>\n      <td>1.1820</td>\n      <td>0.0094</td>\n      <td>0.1141</td>\n    </tr>\n  </tbody>\n</table>\n<p>100 rows × 16 columns</p>\n</div>"
     },
     "metadata": {},
     "execution_count": 113
    }
   ],
   "source": [
    "fx_rates_df"
   ]
  },
  {
   "cell_type": "code",
   "execution_count": 152,
   "metadata": {},
   "outputs": [],
   "source": [
    "currency_to_country = currency_statics['country'].drop_duplicates()"
   ]
  },
  {
   "cell_type": "code",
   "execution_count": 154,
   "metadata": {},
   "outputs": [],
   "source": [
    "df = pd.merge(currency_to_country, fx_rates_df.T, left_index=True, right_on='currency')\n",
    "df = df.sort_index()\n",
    "df = df.reset_index().set_index(df.index.names + ['country']).T"
   ]
  },
  {
   "cell_type": "code",
   "execution_count": 155,
   "metadata": {},
   "outputs": [
    {
     "output_type": "execute_result",
     "data": {
      "text/plain": "field        close                                        ...     open                           \\\ncurrency       CAD           EUR                          ...      EUR                      JPY   \ncountry     Canada Aland Islands Andorra Austria Belgium  ... Slovakia Slovenia   Spain   Japan   \n2020-04-13  0.7198        1.0915  1.0915  1.0915  1.0915  ...   1.0937   1.0937  1.0937  0.0092   \n2020-04-14  0.7202        1.0983  1.0983  1.0983  1.0983  ...   1.0915   1.0915  1.0915  0.0093   \n2020-04-15  0.7081        1.0901  1.0901  1.0901  1.0901  ...   1.0984   1.0984  1.0984  0.0093   \n2020-04-16  0.7120        1.0860  1.0860  1.0860  1.0860  ...   1.0902   1.0902  1.0902  0.0093   \n2020-04-17  0.7138        1.0874  1.0874  1.0874  1.0874  ...   1.0860   1.0860  1.0860  0.0093   \n...            ...           ...     ...     ...     ...  ...      ...      ...     ...     ...   \n2020-08-24  0.7563        1.1794  1.1794  1.1794  1.1794  ...   1.1801   1.1801  1.1801  0.0094   \n2020-08-25  0.7587        1.1833  1.1833  1.1833  1.1833  ...   1.1794   1.1794  1.1794  0.0094   \n2020-08-26  0.7603        1.1835  1.1835  1.1835  1.1835  ...   1.1833   1.1833  1.1833  0.0094   \n2020-08-27  0.7616        1.1817  1.1817  1.1817  1.1817  ...   1.1836   1.1836  1.1836  0.0094   \n2020-08-28  0.7657        1.1914  1.1914  1.1914  1.1914  ...   1.1820   1.1820  1.1820  0.0094   \n\nfield               \ncurrency       SEK  \ncountry     Sweden  \n2020-04-13  0.1001  \n2020-04-14  0.0995  \n2020-04-15  0.1002  \n2020-04-16  0.0992  \n2020-04-17  0.0994  \n...            ...  \n2020-08-24  0.1133  \n2020-08-25  0.1133  \n2020-08-26  0.1137  \n2020-08-27  0.1142  \n2020-08-28  0.1141  \n\n[100 rows x 144 columns]",
      "text/html": "<div>\n<style scoped>\n    .dataframe tbody tr th:only-of-type {\n        vertical-align: middle;\n    }\n\n    .dataframe tbody tr th {\n        vertical-align: top;\n    }\n\n    .dataframe thead tr th {\n        text-align: left;\n    }\n</style>\n<table border=\"1\" class=\"dataframe\">\n  <thead>\n    <tr>\n      <th>field</th>\n      <th colspan=\"5\" halign=\"left\">close</th>\n      <th>...</th>\n      <th colspan=\"5\" halign=\"left\">open</th>\n    </tr>\n    <tr>\n      <th>currency</th>\n      <th>CAD</th>\n      <th colspan=\"4\" halign=\"left\">EUR</th>\n      <th>...</th>\n      <th colspan=\"3\" halign=\"left\">EUR</th>\n      <th>JPY</th>\n      <th>SEK</th>\n    </tr>\n    <tr>\n      <th>country</th>\n      <th>Canada</th>\n      <th>Aland Islands</th>\n      <th>Andorra</th>\n      <th>Austria</th>\n      <th>Belgium</th>\n      <th>...</th>\n      <th>Slovakia</th>\n      <th>Slovenia</th>\n      <th>Spain</th>\n      <th>Japan</th>\n      <th>Sweden</th>\n    </tr>\n  </thead>\n  <tbody>\n    <tr>\n      <th>2020-04-13</th>\n      <td>0.7198</td>\n      <td>1.0915</td>\n      <td>1.0915</td>\n      <td>1.0915</td>\n      <td>1.0915</td>\n      <td>...</td>\n      <td>1.0937</td>\n      <td>1.0937</td>\n      <td>1.0937</td>\n      <td>0.0092</td>\n      <td>0.1001</td>\n    </tr>\n    <tr>\n      <th>2020-04-14</th>\n      <td>0.7202</td>\n      <td>1.0983</td>\n      <td>1.0983</td>\n      <td>1.0983</td>\n      <td>1.0983</td>\n      <td>...</td>\n      <td>1.0915</td>\n      <td>1.0915</td>\n      <td>1.0915</td>\n      <td>0.0093</td>\n      <td>0.0995</td>\n    </tr>\n    <tr>\n      <th>2020-04-15</th>\n      <td>0.7081</td>\n      <td>1.0901</td>\n      <td>1.0901</td>\n      <td>1.0901</td>\n      <td>1.0901</td>\n      <td>...</td>\n      <td>1.0984</td>\n      <td>1.0984</td>\n      <td>1.0984</td>\n      <td>0.0093</td>\n      <td>0.1002</td>\n    </tr>\n    <tr>\n      <th>2020-04-16</th>\n      <td>0.7120</td>\n      <td>1.0860</td>\n      <td>1.0860</td>\n      <td>1.0860</td>\n      <td>1.0860</td>\n      <td>...</td>\n      <td>1.0902</td>\n      <td>1.0902</td>\n      <td>1.0902</td>\n      <td>0.0093</td>\n      <td>0.0992</td>\n    </tr>\n    <tr>\n      <th>2020-04-17</th>\n      <td>0.7138</td>\n      <td>1.0874</td>\n      <td>1.0874</td>\n      <td>1.0874</td>\n      <td>1.0874</td>\n      <td>...</td>\n      <td>1.0860</td>\n      <td>1.0860</td>\n      <td>1.0860</td>\n      <td>0.0093</td>\n      <td>0.0994</td>\n    </tr>\n    <tr>\n      <th>...</th>\n      <td>...</td>\n      <td>...</td>\n      <td>...</td>\n      <td>...</td>\n      <td>...</td>\n      <td>...</td>\n      <td>...</td>\n      <td>...</td>\n      <td>...</td>\n      <td>...</td>\n      <td>...</td>\n    </tr>\n    <tr>\n      <th>2020-08-24</th>\n      <td>0.7563</td>\n      <td>1.1794</td>\n      <td>1.1794</td>\n      <td>1.1794</td>\n      <td>1.1794</td>\n      <td>...</td>\n      <td>1.1801</td>\n      <td>1.1801</td>\n      <td>1.1801</td>\n      <td>0.0094</td>\n      <td>0.1133</td>\n    </tr>\n    <tr>\n      <th>2020-08-25</th>\n      <td>0.7587</td>\n      <td>1.1833</td>\n      <td>1.1833</td>\n      <td>1.1833</td>\n      <td>1.1833</td>\n      <td>...</td>\n      <td>1.1794</td>\n      <td>1.1794</td>\n      <td>1.1794</td>\n      <td>0.0094</td>\n      <td>0.1133</td>\n    </tr>\n    <tr>\n      <th>2020-08-26</th>\n      <td>0.7603</td>\n      <td>1.1835</td>\n      <td>1.1835</td>\n      <td>1.1835</td>\n      <td>1.1835</td>\n      <td>...</td>\n      <td>1.1833</td>\n      <td>1.1833</td>\n      <td>1.1833</td>\n      <td>0.0094</td>\n      <td>0.1137</td>\n    </tr>\n    <tr>\n      <th>2020-08-27</th>\n      <td>0.7616</td>\n      <td>1.1817</td>\n      <td>1.1817</td>\n      <td>1.1817</td>\n      <td>1.1817</td>\n      <td>...</td>\n      <td>1.1836</td>\n      <td>1.1836</td>\n      <td>1.1836</td>\n      <td>0.0094</td>\n      <td>0.1142</td>\n    </tr>\n    <tr>\n      <th>2020-08-28</th>\n      <td>0.7657</td>\n      <td>1.1914</td>\n      <td>1.1914</td>\n      <td>1.1914</td>\n      <td>1.1914</td>\n      <td>...</td>\n      <td>1.1820</td>\n      <td>1.1820</td>\n      <td>1.1820</td>\n      <td>0.0094</td>\n      <td>0.1141</td>\n    </tr>\n  </tbody>\n</table>\n<p>100 rows × 144 columns</p>\n</div>"
     },
     "metadata": {},
     "execution_count": 155
    }
   ],
   "source": [
    "df"
   ]
  },
  {
   "cell_type": "code",
   "execution_count": 172,
   "metadata": {},
   "outputs": [],
   "source": [
    "tmp = pd.merge(country_statics['iso_code2'], df.T, left_index=True, right_on=df.columns.get_level_values('country')).drop('key_0', axis=1)\n",
    "tmp = tmp.reset_index().set_index(tmp.index.names + ['iso_code2']).sort_index().T"
   ]
  },
  {
   "cell_type": "code",
   "execution_count": 174,
   "metadata": {},
   "outputs": [
    {
     "output_type": "execute_result",
     "data": {
      "text/plain": "currency       CAD           EUR                          ...                               JPY  \\\ncountry     Canada Aland Islands Andorra Austria Belgium  ... Slovakia Slovenia   Spain   Japan   \niso_code2       CA            AX      AD      AT      BE  ...       SK       SI      ES      JP   \n2020-04-13  0.7198        1.0915  1.0915  1.0915  1.0915  ...   1.0915   1.0915  1.0915  0.0093   \n2020-04-14  0.7202        1.0983  1.0983  1.0983  1.0983  ...   1.0983   1.0983  1.0983  0.0093   \n2020-04-15  0.7081        1.0901  1.0901  1.0901  1.0901  ...   1.0901   1.0901  1.0901  0.0093   \n2020-04-16  0.7120        1.0860  1.0860  1.0860  1.0860  ...   1.0860   1.0860  1.0860  0.0093   \n2020-04-17  0.7138        1.0874  1.0874  1.0874  1.0874  ...   1.0874   1.0874  1.0874  0.0093   \n...            ...           ...     ...     ...     ...  ...      ...      ...     ...     ...   \n2020-08-24  0.7563        1.1794  1.1794  1.1794  1.1794  ...   1.1794   1.1794  1.1794  0.0094   \n2020-08-25  0.7587        1.1833  1.1833  1.1833  1.1833  ...   1.1833   1.1833  1.1833  0.0094   \n2020-08-26  0.7603        1.1835  1.1835  1.1835  1.1835  ...   1.1835   1.1835  1.1835  0.0094   \n2020-08-27  0.7616        1.1817  1.1817  1.1817  1.1817  ...   1.1817   1.1817  1.1817  0.0094   \n2020-08-28  0.7657        1.1914  1.1914  1.1914  1.1914  ...   1.1914   1.1914  1.1914  0.0095   \n\ncurrency       SEK  \ncountry     Sweden  \niso_code2       SE  \n2020-04-13  0.0995  \n2020-04-14  0.1002  \n2020-04-15  0.0992  \n2020-04-16  0.0994  \n2020-04-17  0.0997  \n...            ...  \n2020-08-24  0.1133  \n2020-08-25  0.1138  \n2020-08-26  0.1142  \n2020-08-27  0.1141  \n2020-08-28  0.1156  \n\n[100 rows x 35 columns]",
      "text/html": "<div>\n<style scoped>\n    .dataframe tbody tr th:only-of-type {\n        vertical-align: middle;\n    }\n\n    .dataframe tbody tr th {\n        vertical-align: top;\n    }\n\n    .dataframe thead tr th {\n        text-align: left;\n    }\n</style>\n<table border=\"1\" class=\"dataframe\">\n  <thead>\n    <tr>\n      <th>currency</th>\n      <th>CAD</th>\n      <th colspan=\"8\" halign=\"left\">EUR</th>\n      <th>JPY</th>\n      <th>SEK</th>\n    </tr>\n    <tr>\n      <th>country</th>\n      <th>Canada</th>\n      <th>Aland Islands</th>\n      <th>Andorra</th>\n      <th>Austria</th>\n      <th>Belgium</th>\n      <th>...</th>\n      <th>Slovakia</th>\n      <th>Slovenia</th>\n      <th>Spain</th>\n      <th>Japan</th>\n      <th>Sweden</th>\n    </tr>\n    <tr>\n      <th>iso_code2</th>\n      <th>CA</th>\n      <th>AX</th>\n      <th>AD</th>\n      <th>AT</th>\n      <th>BE</th>\n      <th>...</th>\n      <th>SK</th>\n      <th>SI</th>\n      <th>ES</th>\n      <th>JP</th>\n      <th>SE</th>\n    </tr>\n  </thead>\n  <tbody>\n    <tr>\n      <th>2020-04-13</th>\n      <td>0.7198</td>\n      <td>1.0915</td>\n      <td>1.0915</td>\n      <td>1.0915</td>\n      <td>1.0915</td>\n      <td>...</td>\n      <td>1.0915</td>\n      <td>1.0915</td>\n      <td>1.0915</td>\n      <td>0.0093</td>\n      <td>0.0995</td>\n    </tr>\n    <tr>\n      <th>2020-04-14</th>\n      <td>0.7202</td>\n      <td>1.0983</td>\n      <td>1.0983</td>\n      <td>1.0983</td>\n      <td>1.0983</td>\n      <td>...</td>\n      <td>1.0983</td>\n      <td>1.0983</td>\n      <td>1.0983</td>\n      <td>0.0093</td>\n      <td>0.1002</td>\n    </tr>\n    <tr>\n      <th>2020-04-15</th>\n      <td>0.7081</td>\n      <td>1.0901</td>\n      <td>1.0901</td>\n      <td>1.0901</td>\n      <td>1.0901</td>\n      <td>...</td>\n      <td>1.0901</td>\n      <td>1.0901</td>\n      <td>1.0901</td>\n      <td>0.0093</td>\n      <td>0.0992</td>\n    </tr>\n    <tr>\n      <th>2020-04-16</th>\n      <td>0.7120</td>\n      <td>1.0860</td>\n      <td>1.0860</td>\n      <td>1.0860</td>\n      <td>1.0860</td>\n      <td>...</td>\n      <td>1.0860</td>\n      <td>1.0860</td>\n      <td>1.0860</td>\n      <td>0.0093</td>\n      <td>0.0994</td>\n    </tr>\n    <tr>\n      <th>2020-04-17</th>\n      <td>0.7138</td>\n      <td>1.0874</td>\n      <td>1.0874</td>\n      <td>1.0874</td>\n      <td>1.0874</td>\n      <td>...</td>\n      <td>1.0874</td>\n      <td>1.0874</td>\n      <td>1.0874</td>\n      <td>0.0093</td>\n      <td>0.0997</td>\n    </tr>\n    <tr>\n      <th>...</th>\n      <td>...</td>\n      <td>...</td>\n      <td>...</td>\n      <td>...</td>\n      <td>...</td>\n      <td>...</td>\n      <td>...</td>\n      <td>...</td>\n      <td>...</td>\n      <td>...</td>\n      <td>...</td>\n    </tr>\n    <tr>\n      <th>2020-08-24</th>\n      <td>0.7563</td>\n      <td>1.1794</td>\n      <td>1.1794</td>\n      <td>1.1794</td>\n      <td>1.1794</td>\n      <td>...</td>\n      <td>1.1794</td>\n      <td>1.1794</td>\n      <td>1.1794</td>\n      <td>0.0094</td>\n      <td>0.1133</td>\n    </tr>\n    <tr>\n      <th>2020-08-25</th>\n      <td>0.7587</td>\n      <td>1.1833</td>\n      <td>1.1833</td>\n      <td>1.1833</td>\n      <td>1.1833</td>\n      <td>...</td>\n      <td>1.1833</td>\n      <td>1.1833</td>\n      <td>1.1833</td>\n      <td>0.0094</td>\n      <td>0.1138</td>\n    </tr>\n    <tr>\n      <th>2020-08-26</th>\n      <td>0.7603</td>\n      <td>1.1835</td>\n      <td>1.1835</td>\n      <td>1.1835</td>\n      <td>1.1835</td>\n      <td>...</td>\n      <td>1.1835</td>\n      <td>1.1835</td>\n      <td>1.1835</td>\n      <td>0.0094</td>\n      <td>0.1142</td>\n    </tr>\n    <tr>\n      <th>2020-08-27</th>\n      <td>0.7616</td>\n      <td>1.1817</td>\n      <td>1.1817</td>\n      <td>1.1817</td>\n      <td>1.1817</td>\n      <td>...</td>\n      <td>1.1817</td>\n      <td>1.1817</td>\n      <td>1.1817</td>\n      <td>0.0094</td>\n      <td>0.1141</td>\n    </tr>\n    <tr>\n      <th>2020-08-28</th>\n      <td>0.7657</td>\n      <td>1.1914</td>\n      <td>1.1914</td>\n      <td>1.1914</td>\n      <td>1.1914</td>\n      <td>...</td>\n      <td>1.1914</td>\n      <td>1.1914</td>\n      <td>1.1914</td>\n      <td>0.0095</td>\n      <td>0.1156</td>\n    </tr>\n  </tbody>\n</table>\n<p>100 rows × 35 columns</p>\n</div>"
     },
     "metadata": {},
     "execution_count": 174
    }
   ],
   "source": [
    "tmp['close']"
   ]
  },
  {
   "cell_type": "code",
   "execution_count": 176,
   "metadata": {},
   "outputs": [],
   "source": [
    "dfc = tmp['close']"
   ]
  },
  {
   "cell_type": "code",
   "execution_count": 192,
   "metadata": {},
   "outputs": [],
   "source": [
    "dfc2 = dfc.droplevel(['currency', 'country'], axis=1)\n",
    "dfc2.index.name = 'date'"
   ]
  },
  {
   "cell_type": "code",
   "execution_count": 185,
   "metadata": {},
   "outputs": [],
   "source": [
    "statics_df = dfc.columns.to_frame(index=False).set_index('iso_code2')"
   ]
  },
  {
   "cell_type": "code",
   "execution_count": 193,
   "metadata": {},
   "outputs": [
    {
     "output_type": "execute_result",
     "data": {
      "text/plain": "<xarray.DataArray (date: 100, iso_code2: 35)>\narray([[0.7198, 1.0915, 1.0915, ..., 1.0915, 0.0093, 0.0995],\n       [0.7202, 1.0983, 1.0983, ..., 1.0983, 0.0093, 0.1002],\n       [0.7081, 1.0901, 1.0901, ..., 1.0901, 0.0093, 0.0992],\n       ...,\n       [0.7603, 1.1835, 1.1835, ..., 1.1835, 0.0094, 0.1142],\n       [0.7616, 1.1817, 1.1817, ..., 1.1817, 0.0094, 0.1141],\n       [0.7657, 1.1914, 1.1914, ..., 1.1914, 0.0095, 0.1156]])\nCoordinates:\n  * date       (date) object '2020-04-13' '2020-04-14' ... '2020-08-28'\n  * iso_code2  (iso_code2) object 'CA' 'AX' 'AD' 'AT' ... 'SI' 'ES' 'JP' 'SE'",
      "text/html": "<div><svg style=\"position: absolute; width: 0; height: 0; overflow: hidden\">\n<defs>\n<symbol id=\"icon-database\" viewBox=\"0 0 32 32\">\n<path d=\"M16 0c-8.837 0-16 2.239-16 5v4c0 2.761 7.163 5 16 5s16-2.239 16-5v-4c0-2.761-7.163-5-16-5z\"></path>\n<path d=\"M16 17c-8.837 0-16-2.239-16-5v6c0 2.761 7.163 5 16 5s16-2.239 16-5v-6c0 2.761-7.163 5-16 5z\"></path>\n<path d=\"M16 26c-8.837 0-16-2.239-16-5v6c0 2.761 7.163 5 16 5s16-2.239 16-5v-6c0 2.761-7.163 5-16 5z\"></path>\n</symbol>\n<symbol id=\"icon-file-text2\" viewBox=\"0 0 32 32\">\n<path d=\"M28.681 7.159c-0.694-0.947-1.662-2.053-2.724-3.116s-2.169-2.030-3.116-2.724c-1.612-1.182-2.393-1.319-2.841-1.319h-15.5c-1.378 0-2.5 1.121-2.5 2.5v27c0 1.378 1.122 2.5 2.5 2.5h23c1.378 0 2.5-1.122 2.5-2.5v-19.5c0-0.448-0.137-1.23-1.319-2.841zM24.543 5.457c0.959 0.959 1.712 1.825 2.268 2.543h-4.811v-4.811c0.718 0.556 1.584 1.309 2.543 2.268zM28 29.5c0 0.271-0.229 0.5-0.5 0.5h-23c-0.271 0-0.5-0.229-0.5-0.5v-27c0-0.271 0.229-0.5 0.5-0.5 0 0 15.499-0 15.5 0v7c0 0.552 0.448 1 1 1h7v19.5z\"></path>\n<path d=\"M23 26h-14c-0.552 0-1-0.448-1-1s0.448-1 1-1h14c0.552 0 1 0.448 1 1s-0.448 1-1 1z\"></path>\n<path d=\"M23 22h-14c-0.552 0-1-0.448-1-1s0.448-1 1-1h14c0.552 0 1 0.448 1 1s-0.448 1-1 1z\"></path>\n<path d=\"M23 18h-14c-0.552 0-1-0.448-1-1s0.448-1 1-1h14c0.552 0 1 0.448 1 1s-0.448 1-1 1z\"></path>\n</symbol>\n</defs>\n</svg>\n<style>/* CSS stylesheet for displaying xarray objects in jupyterlab.\n *\n */\n\n:root {\n  --xr-font-color0: var(--jp-content-font-color0, rgba(0, 0, 0, 1));\n  --xr-font-color2: var(--jp-content-font-color2, rgba(0, 0, 0, 0.54));\n  --xr-font-color3: var(--jp-content-font-color3, rgba(0, 0, 0, 0.38));\n  --xr-border-color: var(--jp-border-color2, #e0e0e0);\n  --xr-disabled-color: var(--jp-layout-color3, #bdbdbd);\n  --xr-background-color: var(--jp-layout-color0, white);\n  --xr-background-color-row-even: var(--jp-layout-color1, white);\n  --xr-background-color-row-odd: var(--jp-layout-color2, #eeeeee);\n}\n\nhtml[theme=dark],\nbody.vscode-dark {\n  --xr-font-color0: rgba(255, 255, 255, 1);\n  --xr-font-color2: rgba(255, 255, 255, 0.54);\n  --xr-font-color3: rgba(255, 255, 255, 0.38);\n  --xr-border-color: #1F1F1F;\n  --xr-disabled-color: #515151;\n  --xr-background-color: #111111;\n  --xr-background-color-row-even: #111111;\n  --xr-background-color-row-odd: #313131;\n}\n\n.xr-wrap {\n  display: block;\n  min-width: 300px;\n  max-width: 700px;\n}\n\n.xr-text-repr-fallback {\n  /* fallback to plain text repr when CSS is not injected (untrusted notebook) */\n  display: none;\n}\n\n.xr-header {\n  padding-top: 6px;\n  padding-bottom: 6px;\n  margin-bottom: 4px;\n  border-bottom: solid 1px var(--xr-border-color);\n}\n\n.xr-header > div,\n.xr-header > ul {\n  display: inline;\n  margin-top: 0;\n  margin-bottom: 0;\n}\n\n.xr-obj-type,\n.xr-array-name {\n  margin-left: 2px;\n  margin-right: 10px;\n}\n\n.xr-obj-type {\n  color: var(--xr-font-color2);\n}\n\n.xr-sections {\n  padding-left: 0 !important;\n  display: grid;\n  grid-template-columns: 150px auto auto 1fr 20px 20px;\n}\n\n.xr-section-item {\n  display: contents;\n}\n\n.xr-section-item input {\n  display: none;\n}\n\n.xr-section-item input + label {\n  color: var(--xr-disabled-color);\n}\n\n.xr-section-item input:enabled + label {\n  cursor: pointer;\n  color: var(--xr-font-color2);\n}\n\n.xr-section-item input:enabled + label:hover {\n  color: var(--xr-font-color0);\n}\n\n.xr-section-summary {\n  grid-column: 1;\n  color: var(--xr-font-color2);\n  font-weight: 500;\n}\n\n.xr-section-summary > span {\n  display: inline-block;\n  padding-left: 0.5em;\n}\n\n.xr-section-summary-in:disabled + label {\n  color: var(--xr-font-color2);\n}\n\n.xr-section-summary-in + label:before {\n  display: inline-block;\n  content: '►';\n  font-size: 11px;\n  width: 15px;\n  text-align: center;\n}\n\n.xr-section-summary-in:disabled + label:before {\n  color: var(--xr-disabled-color);\n}\n\n.xr-section-summary-in:checked + label:before {\n  content: '▼';\n}\n\n.xr-section-summary-in:checked + label > span {\n  display: none;\n}\n\n.xr-section-summary,\n.xr-section-inline-details {\n  padding-top: 4px;\n  padding-bottom: 4px;\n}\n\n.xr-section-inline-details {\n  grid-column: 2 / -1;\n}\n\n.xr-section-details {\n  display: none;\n  grid-column: 1 / -1;\n  margin-bottom: 5px;\n}\n\n.xr-section-summary-in:checked ~ .xr-section-details {\n  display: contents;\n}\n\n.xr-array-wrap {\n  grid-column: 1 / -1;\n  display: grid;\n  grid-template-columns: 20px auto;\n}\n\n.xr-array-wrap > label {\n  grid-column: 1;\n  vertical-align: top;\n}\n\n.xr-preview {\n  color: var(--xr-font-color3);\n}\n\n.xr-array-preview,\n.xr-array-data {\n  padding: 0 5px !important;\n  grid-column: 2;\n}\n\n.xr-array-data,\n.xr-array-in:checked ~ .xr-array-preview {\n  display: none;\n}\n\n.xr-array-in:checked ~ .xr-array-data,\n.xr-array-preview {\n  display: inline-block;\n}\n\n.xr-dim-list {\n  display: inline-block !important;\n  list-style: none;\n  padding: 0 !important;\n  margin: 0;\n}\n\n.xr-dim-list li {\n  display: inline-block;\n  padding: 0;\n  margin: 0;\n}\n\n.xr-dim-list:before {\n  content: '(';\n}\n\n.xr-dim-list:after {\n  content: ')';\n}\n\n.xr-dim-list li:not(:last-child):after {\n  content: ',';\n  padding-right: 5px;\n}\n\n.xr-has-index {\n  font-weight: bold;\n}\n\n.xr-var-list,\n.xr-var-item {\n  display: contents;\n}\n\n.xr-var-item > div,\n.xr-var-item label,\n.xr-var-item > .xr-var-name span {\n  background-color: var(--xr-background-color-row-even);\n  margin-bottom: 0;\n}\n\n.xr-var-item > .xr-var-name:hover span {\n  padding-right: 5px;\n}\n\n.xr-var-list > li:nth-child(odd) > div,\n.xr-var-list > li:nth-child(odd) > label,\n.xr-var-list > li:nth-child(odd) > .xr-var-name span {\n  background-color: var(--xr-background-color-row-odd);\n}\n\n.xr-var-name {\n  grid-column: 1;\n}\n\n.xr-var-dims {\n  grid-column: 2;\n}\n\n.xr-var-dtype {\n  grid-column: 3;\n  text-align: right;\n  color: var(--xr-font-color2);\n}\n\n.xr-var-preview {\n  grid-column: 4;\n}\n\n.xr-var-name,\n.xr-var-dims,\n.xr-var-dtype,\n.xr-preview,\n.xr-attrs dt {\n  white-space: nowrap;\n  overflow: hidden;\n  text-overflow: ellipsis;\n  padding-right: 10px;\n}\n\n.xr-var-name:hover,\n.xr-var-dims:hover,\n.xr-var-dtype:hover,\n.xr-attrs dt:hover {\n  overflow: visible;\n  width: auto;\n  z-index: 1;\n}\n\n.xr-var-attrs,\n.xr-var-data {\n  display: none;\n  background-color: var(--xr-background-color) !important;\n  padding-bottom: 5px !important;\n}\n\n.xr-var-attrs-in:checked ~ .xr-var-attrs,\n.xr-var-data-in:checked ~ .xr-var-data {\n  display: block;\n}\n\n.xr-var-data > table {\n  float: right;\n}\n\n.xr-var-name span,\n.xr-var-data,\n.xr-attrs {\n  padding-left: 25px !important;\n}\n\n.xr-attrs,\n.xr-var-attrs,\n.xr-var-data {\n  grid-column: 1 / -1;\n}\n\ndl.xr-attrs {\n  padding: 0;\n  margin: 0;\n  display: grid;\n  grid-template-columns: 125px auto;\n}\n\n.xr-attrs dt, dd {\n  padding: 0;\n  margin: 0;\n  float: left;\n  padding-right: 10px;\n  width: auto;\n}\n\n.xr-attrs dt {\n  font-weight: normal;\n  grid-column: 1;\n}\n\n.xr-attrs dt:hover span {\n  display: inline-block;\n  background: var(--xr-background-color);\n  padding-right: 10px;\n}\n\n.xr-attrs dd {\n  grid-column: 2;\n  white-space: pre-wrap;\n  word-break: break-all;\n}\n\n.xr-icon-database,\n.xr-icon-file-text2 {\n  display: inline-block;\n  vertical-align: middle;\n  width: 1em;\n  height: 1.5em !important;\n  stroke-width: 0;\n  stroke: currentColor;\n  fill: currentColor;\n}\n</style><pre class='xr-text-repr-fallback'>&lt;xarray.DataArray (date: 100, iso_code2: 35)&gt;\narray([[0.7198, 1.0915, 1.0915, ..., 1.0915, 0.0093, 0.0995],\n       [0.7202, 1.0983, 1.0983, ..., 1.0983, 0.0093, 0.1002],\n       [0.7081, 1.0901, 1.0901, ..., 1.0901, 0.0093, 0.0992],\n       ...,\n       [0.7603, 1.1835, 1.1835, ..., 1.1835, 0.0094, 0.1142],\n       [0.7616, 1.1817, 1.1817, ..., 1.1817, 0.0094, 0.1141],\n       [0.7657, 1.1914, 1.1914, ..., 1.1914, 0.0095, 0.1156]])\nCoordinates:\n  * date       (date) object &#x27;2020-04-13&#x27; &#x27;2020-04-14&#x27; ... &#x27;2020-08-28&#x27;\n  * iso_code2  (iso_code2) object &#x27;CA&#x27; &#x27;AX&#x27; &#x27;AD&#x27; &#x27;AT&#x27; ... &#x27;SI&#x27; &#x27;ES&#x27; &#x27;JP&#x27; &#x27;SE&#x27;</pre><div class='xr-wrap' hidden><div class='xr-header'><div class='xr-obj-type'>xarray.DataArray</div><div class='xr-array-name'></div><ul class='xr-dim-list'><li><span class='xr-has-index'>date</span>: 100</li><li><span class='xr-has-index'>iso_code2</span>: 35</li></ul></div><ul class='xr-sections'><li class='xr-section-item'><div class='xr-array-wrap'><input id='section-2fd300dc-e426-47aa-b089-005034504cbd' class='xr-array-in' type='checkbox' checked><label for='section-2fd300dc-e426-47aa-b089-005034504cbd' title='Show/hide data repr'><svg class='icon xr-icon-database'><use xlink:href='#icon-database'></use></svg></label><div class='xr-array-preview xr-preview'><span>0.7198 1.091 1.091 1.091 1.091 ... 1.191 1.191 1.191 0.0095 0.1156</span></div><div class='xr-array-data'><pre>array([[0.7198, 1.0915, 1.0915, ..., 1.0915, 0.0093, 0.0995],\n       [0.7202, 1.0983, 1.0983, ..., 1.0983, 0.0093, 0.1002],\n       [0.7081, 1.0901, 1.0901, ..., 1.0901, 0.0093, 0.0992],\n       ...,\n       [0.7603, 1.1835, 1.1835, ..., 1.1835, 0.0094, 0.1142],\n       [0.7616, 1.1817, 1.1817, ..., 1.1817, 0.0094, 0.1141],\n       [0.7657, 1.1914, 1.1914, ..., 1.1914, 0.0095, 0.1156]])</pre></div></div></li><li class='xr-section-item'><input id='section-bf993aef-7124-4ee7-aef0-4a85d6467c20' class='xr-section-summary-in' type='checkbox'  checked><label for='section-bf993aef-7124-4ee7-aef0-4a85d6467c20' class='xr-section-summary' >Coordinates: <span>(2)</span></label><div class='xr-section-inline-details'></div><div class='xr-section-details'><ul class='xr-var-list'><li class='xr-var-item'><div class='xr-var-name'><span class='xr-has-index'>date</span></div><div class='xr-var-dims'>(date)</div><div class='xr-var-dtype'>object</div><div class='xr-var-preview xr-preview'>&#x27;2020-04-13&#x27; ... &#x27;2020-08-28&#x27;</div><input id='attrs-336b7dff-a66b-4dde-9ca1-0cc5290082b5' class='xr-var-attrs-in' type='checkbox' disabled><label for='attrs-336b7dff-a66b-4dde-9ca1-0cc5290082b5' title='Show/Hide attributes'><svg class='icon xr-icon-file-text2'><use xlink:href='#icon-file-text2'></use></svg></label><input id='data-6eb99fba-d83f-4f6f-b00c-4397fc70db00' class='xr-var-data-in' type='checkbox'><label for='data-6eb99fba-d83f-4f6f-b00c-4397fc70db00' title='Show/Hide data repr'><svg class='icon xr-icon-database'><use xlink:href='#icon-database'></use></svg></label><div class='xr-var-attrs'><dl class='xr-attrs'></dl></div><div class='xr-var-data'><pre>array([&#x27;2020-04-13&#x27;, &#x27;2020-04-14&#x27;, &#x27;2020-04-15&#x27;, &#x27;2020-04-16&#x27;, &#x27;2020-04-17&#x27;,\n       &#x27;2020-04-20&#x27;, &#x27;2020-04-21&#x27;, &#x27;2020-04-22&#x27;, &#x27;2020-04-23&#x27;, &#x27;2020-04-24&#x27;,\n       &#x27;2020-04-27&#x27;, &#x27;2020-04-28&#x27;, &#x27;2020-04-29&#x27;, &#x27;2020-04-30&#x27;, &#x27;2020-05-01&#x27;,\n       &#x27;2020-05-04&#x27;, &#x27;2020-05-05&#x27;, &#x27;2020-05-06&#x27;, &#x27;2020-05-07&#x27;, &#x27;2020-05-08&#x27;,\n       &#x27;2020-05-11&#x27;, &#x27;2020-05-12&#x27;, &#x27;2020-05-13&#x27;, &#x27;2020-05-14&#x27;, &#x27;2020-05-15&#x27;,\n       &#x27;2020-05-18&#x27;, &#x27;2020-05-19&#x27;, &#x27;2020-05-20&#x27;, &#x27;2020-05-21&#x27;, &#x27;2020-05-22&#x27;,\n       &#x27;2020-05-25&#x27;, &#x27;2020-05-26&#x27;, &#x27;2020-05-27&#x27;, &#x27;2020-05-28&#x27;, &#x27;2020-05-29&#x27;,\n       &#x27;2020-06-01&#x27;, &#x27;2020-06-02&#x27;, &#x27;2020-06-03&#x27;, &#x27;2020-06-04&#x27;, &#x27;2020-06-05&#x27;,\n       &#x27;2020-06-08&#x27;, &#x27;2020-06-09&#x27;, &#x27;2020-06-10&#x27;, &#x27;2020-06-11&#x27;, &#x27;2020-06-12&#x27;,\n       &#x27;2020-06-15&#x27;, &#x27;2020-06-16&#x27;, &#x27;2020-06-17&#x27;, &#x27;2020-06-18&#x27;, &#x27;2020-06-19&#x27;,\n       &#x27;2020-06-22&#x27;, &#x27;2020-06-23&#x27;, &#x27;2020-06-24&#x27;, &#x27;2020-06-25&#x27;, &#x27;2020-06-26&#x27;,\n       &#x27;2020-06-29&#x27;, &#x27;2020-06-30&#x27;, &#x27;2020-07-01&#x27;, &#x27;2020-07-02&#x27;, &#x27;2020-07-03&#x27;,\n       &#x27;2020-07-06&#x27;, &#x27;2020-07-07&#x27;, &#x27;2020-07-08&#x27;, &#x27;2020-07-09&#x27;, &#x27;2020-07-10&#x27;,\n       &#x27;2020-07-13&#x27;, &#x27;2020-07-14&#x27;, &#x27;2020-07-15&#x27;, &#x27;2020-07-16&#x27;, &#x27;2020-07-17&#x27;,\n       &#x27;2020-07-20&#x27;, &#x27;2020-07-21&#x27;, &#x27;2020-07-22&#x27;, &#x27;2020-07-23&#x27;, &#x27;2020-07-24&#x27;,\n       &#x27;2020-07-27&#x27;, &#x27;2020-07-28&#x27;, &#x27;2020-07-29&#x27;, &#x27;2020-07-30&#x27;, &#x27;2020-07-31&#x27;,\n       &#x27;2020-08-03&#x27;, &#x27;2020-08-04&#x27;, &#x27;2020-08-05&#x27;, &#x27;2020-08-06&#x27;, &#x27;2020-08-07&#x27;,\n       &#x27;2020-08-10&#x27;, &#x27;2020-08-11&#x27;, &#x27;2020-08-12&#x27;, &#x27;2020-08-13&#x27;, &#x27;2020-08-14&#x27;,\n       &#x27;2020-08-17&#x27;, &#x27;2020-08-18&#x27;, &#x27;2020-08-19&#x27;, &#x27;2020-08-20&#x27;, &#x27;2020-08-21&#x27;,\n       &#x27;2020-08-24&#x27;, &#x27;2020-08-25&#x27;, &#x27;2020-08-26&#x27;, &#x27;2020-08-27&#x27;, &#x27;2020-08-28&#x27;],\n      dtype=object)</pre></div></li><li class='xr-var-item'><div class='xr-var-name'><span class='xr-has-index'>iso_code2</span></div><div class='xr-var-dims'>(iso_code2)</div><div class='xr-var-dtype'>object</div><div class='xr-var-preview xr-preview'>&#x27;CA&#x27; &#x27;AX&#x27; &#x27;AD&#x27; ... &#x27;ES&#x27; &#x27;JP&#x27; &#x27;SE&#x27;</div><input id='attrs-bbef5b8f-1055-4555-bd6e-9a9fbce1fbf8' class='xr-var-attrs-in' type='checkbox' disabled><label for='attrs-bbef5b8f-1055-4555-bd6e-9a9fbce1fbf8' title='Show/Hide attributes'><svg class='icon xr-icon-file-text2'><use xlink:href='#icon-file-text2'></use></svg></label><input id='data-e8e78914-89c0-4584-8271-41be1ea51ff4' class='xr-var-data-in' type='checkbox'><label for='data-e8e78914-89c0-4584-8271-41be1ea51ff4' title='Show/Hide data repr'><svg class='icon xr-icon-database'><use xlink:href='#icon-database'></use></svg></label><div class='xr-var-attrs'><dl class='xr-attrs'></dl></div><div class='xr-var-data'><pre>array([&#x27;CA&#x27;, &#x27;AX&#x27;, &#x27;AD&#x27;, &#x27;AT&#x27;, &#x27;BE&#x27;, &#x27;CY&#x27;, &#x27;EE&#x27;, &#x27;FI&#x27;, &#x27;FR&#x27;, &#x27;GF&#x27;, &#x27;TF&#x27;, &#x27;DE&#x27;,\n       &#x27;GR&#x27;, &#x27;GP&#x27;, &#x27;VA&#x27;, &#x27;IE&#x27;, &#x27;IT&#x27;, &#x27;LV&#x27;, &#x27;LT&#x27;, &#x27;LU&#x27;, &#x27;MT&#x27;, &#x27;MQ&#x27;, &#x27;YT&#x27;, &#x27;MC&#x27;,\n       &#x27;ME&#x27;, &#x27;NL&#x27;, &#x27;PT&#x27;, &#x27;MF&#x27;, &#x27;PM&#x27;, &#x27;SM&#x27;, &#x27;SK&#x27;, &#x27;SI&#x27;, &#x27;ES&#x27;, &#x27;JP&#x27;, &#x27;SE&#x27;],\n      dtype=object)</pre></div></li></ul></div></li><li class='xr-section-item'><input id='section-41b0a46d-6951-4442-99e8-fa59ffc3198c' class='xr-section-summary-in' type='checkbox' disabled ><label for='section-41b0a46d-6951-4442-99e8-fa59ffc3198c' class='xr-section-summary'  title='Expand/collapse section'>Attributes: <span>(0)</span></label><div class='xr-section-inline-details'></div><div class='xr-section-details'><dl class='xr-attrs'></dl></div></li></ul></div></div>"
     },
     "metadata": {},
     "execution_count": 193
    }
   ],
   "source": [
    "xr.DataArray(dfc2)"
   ]
  },
  {
   "cell_type": "code",
   "execution_count": 204,
   "metadata": {},
   "outputs": [],
   "source": [
    "dst = xr.Dataset()\n",
    "dst['close'] = xr.DataArray(dfc2)\n",
    "dst = dst.assign(statics_df.to_xarray())"
   ]
  },
  {
   "cell_type": "code",
   "execution_count": 286,
   "metadata": {},
   "outputs": [
    {
     "output_type": "execute_result",
     "data": {
      "text/plain": "<xarray.Dataset>\nDimensions:    (iso_code2: 35)\nCoordinates:\n  * iso_code2  (iso_code2) object 'CA' 'AX' 'AD' 'AT' ... 'SI' 'ES' 'JP' 'SE'\nData variables:\n    currency   (iso_code2) object 'CAD' 'EUR' 'EUR' 'EUR' ... 'EUR' 'JPY' 'SEK'\n    country    (iso_code2) object 'Canada' 'Aland Islands' ... 'Japan' 'Sweden'",
      "text/html": "<div><svg style=\"position: absolute; width: 0; height: 0; overflow: hidden\">\n<defs>\n<symbol id=\"icon-database\" viewBox=\"0 0 32 32\">\n<path d=\"M16 0c-8.837 0-16 2.239-16 5v4c0 2.761 7.163 5 16 5s16-2.239 16-5v-4c0-2.761-7.163-5-16-5z\"></path>\n<path d=\"M16 17c-8.837 0-16-2.239-16-5v6c0 2.761 7.163 5 16 5s16-2.239 16-5v-6c0 2.761-7.163 5-16 5z\"></path>\n<path d=\"M16 26c-8.837 0-16-2.239-16-5v6c0 2.761 7.163 5 16 5s16-2.239 16-5v-6c0 2.761-7.163 5-16 5z\"></path>\n</symbol>\n<symbol id=\"icon-file-text2\" viewBox=\"0 0 32 32\">\n<path d=\"M28.681 7.159c-0.694-0.947-1.662-2.053-2.724-3.116s-2.169-2.030-3.116-2.724c-1.612-1.182-2.393-1.319-2.841-1.319h-15.5c-1.378 0-2.5 1.121-2.5 2.5v27c0 1.378 1.122 2.5 2.5 2.5h23c1.378 0 2.5-1.122 2.5-2.5v-19.5c0-0.448-0.137-1.23-1.319-2.841zM24.543 5.457c0.959 0.959 1.712 1.825 2.268 2.543h-4.811v-4.811c0.718 0.556 1.584 1.309 2.543 2.268zM28 29.5c0 0.271-0.229 0.5-0.5 0.5h-23c-0.271 0-0.5-0.229-0.5-0.5v-27c0-0.271 0.229-0.5 0.5-0.5 0 0 15.499-0 15.5 0v7c0 0.552 0.448 1 1 1h7v19.5z\"></path>\n<path d=\"M23 26h-14c-0.552 0-1-0.448-1-1s0.448-1 1-1h14c0.552 0 1 0.448 1 1s-0.448 1-1 1z\"></path>\n<path d=\"M23 22h-14c-0.552 0-1-0.448-1-1s0.448-1 1-1h14c0.552 0 1 0.448 1 1s-0.448 1-1 1z\"></path>\n<path d=\"M23 18h-14c-0.552 0-1-0.448-1-1s0.448-1 1-1h14c0.552 0 1 0.448 1 1s-0.448 1-1 1z\"></path>\n</symbol>\n</defs>\n</svg>\n<style>/* CSS stylesheet for displaying xarray objects in jupyterlab.\n *\n */\n\n:root {\n  --xr-font-color0: var(--jp-content-font-color0, rgba(0, 0, 0, 1));\n  --xr-font-color2: var(--jp-content-font-color2, rgba(0, 0, 0, 0.54));\n  --xr-font-color3: var(--jp-content-font-color3, rgba(0, 0, 0, 0.38));\n  --xr-border-color: var(--jp-border-color2, #e0e0e0);\n  --xr-disabled-color: var(--jp-layout-color3, #bdbdbd);\n  --xr-background-color: var(--jp-layout-color0, white);\n  --xr-background-color-row-even: var(--jp-layout-color1, white);\n  --xr-background-color-row-odd: var(--jp-layout-color2, #eeeeee);\n}\n\nhtml[theme=dark],\nbody.vscode-dark {\n  --xr-font-color0: rgba(255, 255, 255, 1);\n  --xr-font-color2: rgba(255, 255, 255, 0.54);\n  --xr-font-color3: rgba(255, 255, 255, 0.38);\n  --xr-border-color: #1F1F1F;\n  --xr-disabled-color: #515151;\n  --xr-background-color: #111111;\n  --xr-background-color-row-even: #111111;\n  --xr-background-color-row-odd: #313131;\n}\n\n.xr-wrap {\n  display: block;\n  min-width: 300px;\n  max-width: 700px;\n}\n\n.xr-text-repr-fallback {\n  /* fallback to plain text repr when CSS is not injected (untrusted notebook) */\n  display: none;\n}\n\n.xr-header {\n  padding-top: 6px;\n  padding-bottom: 6px;\n  margin-bottom: 4px;\n  border-bottom: solid 1px var(--xr-border-color);\n}\n\n.xr-header > div,\n.xr-header > ul {\n  display: inline;\n  margin-top: 0;\n  margin-bottom: 0;\n}\n\n.xr-obj-type,\n.xr-array-name {\n  margin-left: 2px;\n  margin-right: 10px;\n}\n\n.xr-obj-type {\n  color: var(--xr-font-color2);\n}\n\n.xr-sections {\n  padding-left: 0 !important;\n  display: grid;\n  grid-template-columns: 150px auto auto 1fr 20px 20px;\n}\n\n.xr-section-item {\n  display: contents;\n}\n\n.xr-section-item input {\n  display: none;\n}\n\n.xr-section-item input + label {\n  color: var(--xr-disabled-color);\n}\n\n.xr-section-item input:enabled + label {\n  cursor: pointer;\n  color: var(--xr-font-color2);\n}\n\n.xr-section-item input:enabled + label:hover {\n  color: var(--xr-font-color0);\n}\n\n.xr-section-summary {\n  grid-column: 1;\n  color: var(--xr-font-color2);\n  font-weight: 500;\n}\n\n.xr-section-summary > span {\n  display: inline-block;\n  padding-left: 0.5em;\n}\n\n.xr-section-summary-in:disabled + label {\n  color: var(--xr-font-color2);\n}\n\n.xr-section-summary-in + label:before {\n  display: inline-block;\n  content: '►';\n  font-size: 11px;\n  width: 15px;\n  text-align: center;\n}\n\n.xr-section-summary-in:disabled + label:before {\n  color: var(--xr-disabled-color);\n}\n\n.xr-section-summary-in:checked + label:before {\n  content: '▼';\n}\n\n.xr-section-summary-in:checked + label > span {\n  display: none;\n}\n\n.xr-section-summary,\n.xr-section-inline-details {\n  padding-top: 4px;\n  padding-bottom: 4px;\n}\n\n.xr-section-inline-details {\n  grid-column: 2 / -1;\n}\n\n.xr-section-details {\n  display: none;\n  grid-column: 1 / -1;\n  margin-bottom: 5px;\n}\n\n.xr-section-summary-in:checked ~ .xr-section-details {\n  display: contents;\n}\n\n.xr-array-wrap {\n  grid-column: 1 / -1;\n  display: grid;\n  grid-template-columns: 20px auto;\n}\n\n.xr-array-wrap > label {\n  grid-column: 1;\n  vertical-align: top;\n}\n\n.xr-preview {\n  color: var(--xr-font-color3);\n}\n\n.xr-array-preview,\n.xr-array-data {\n  padding: 0 5px !important;\n  grid-column: 2;\n}\n\n.xr-array-data,\n.xr-array-in:checked ~ .xr-array-preview {\n  display: none;\n}\n\n.xr-array-in:checked ~ .xr-array-data,\n.xr-array-preview {\n  display: inline-block;\n}\n\n.xr-dim-list {\n  display: inline-block !important;\n  list-style: none;\n  padding: 0 !important;\n  margin: 0;\n}\n\n.xr-dim-list li {\n  display: inline-block;\n  padding: 0;\n  margin: 0;\n}\n\n.xr-dim-list:before {\n  content: '(';\n}\n\n.xr-dim-list:after {\n  content: ')';\n}\n\n.xr-dim-list li:not(:last-child):after {\n  content: ',';\n  padding-right: 5px;\n}\n\n.xr-has-index {\n  font-weight: bold;\n}\n\n.xr-var-list,\n.xr-var-item {\n  display: contents;\n}\n\n.xr-var-item > div,\n.xr-var-item label,\n.xr-var-item > .xr-var-name span {\n  background-color: var(--xr-background-color-row-even);\n  margin-bottom: 0;\n}\n\n.xr-var-item > .xr-var-name:hover span {\n  padding-right: 5px;\n}\n\n.xr-var-list > li:nth-child(odd) > div,\n.xr-var-list > li:nth-child(odd) > label,\n.xr-var-list > li:nth-child(odd) > .xr-var-name span {\n  background-color: var(--xr-background-color-row-odd);\n}\n\n.xr-var-name {\n  grid-column: 1;\n}\n\n.xr-var-dims {\n  grid-column: 2;\n}\n\n.xr-var-dtype {\n  grid-column: 3;\n  text-align: right;\n  color: var(--xr-font-color2);\n}\n\n.xr-var-preview {\n  grid-column: 4;\n}\n\n.xr-var-name,\n.xr-var-dims,\n.xr-var-dtype,\n.xr-preview,\n.xr-attrs dt {\n  white-space: nowrap;\n  overflow: hidden;\n  text-overflow: ellipsis;\n  padding-right: 10px;\n}\n\n.xr-var-name:hover,\n.xr-var-dims:hover,\n.xr-var-dtype:hover,\n.xr-attrs dt:hover {\n  overflow: visible;\n  width: auto;\n  z-index: 1;\n}\n\n.xr-var-attrs,\n.xr-var-data {\n  display: none;\n  background-color: var(--xr-background-color) !important;\n  padding-bottom: 5px !important;\n}\n\n.xr-var-attrs-in:checked ~ .xr-var-attrs,\n.xr-var-data-in:checked ~ .xr-var-data {\n  display: block;\n}\n\n.xr-var-data > table {\n  float: right;\n}\n\n.xr-var-name span,\n.xr-var-data,\n.xr-attrs {\n  padding-left: 25px !important;\n}\n\n.xr-attrs,\n.xr-var-attrs,\n.xr-var-data {\n  grid-column: 1 / -1;\n}\n\ndl.xr-attrs {\n  padding: 0;\n  margin: 0;\n  display: grid;\n  grid-template-columns: 125px auto;\n}\n\n.xr-attrs dt, dd {\n  padding: 0;\n  margin: 0;\n  float: left;\n  padding-right: 10px;\n  width: auto;\n}\n\n.xr-attrs dt {\n  font-weight: normal;\n  grid-column: 1;\n}\n\n.xr-attrs dt:hover span {\n  display: inline-block;\n  background: var(--xr-background-color);\n  padding-right: 10px;\n}\n\n.xr-attrs dd {\n  grid-column: 2;\n  white-space: pre-wrap;\n  word-break: break-all;\n}\n\n.xr-icon-database,\n.xr-icon-file-text2 {\n  display: inline-block;\n  vertical-align: middle;\n  width: 1em;\n  height: 1.5em !important;\n  stroke-width: 0;\n  stroke: currentColor;\n  fill: currentColor;\n}\n</style><pre class='xr-text-repr-fallback'>&lt;xarray.Dataset&gt;\nDimensions:    (iso_code2: 35)\nCoordinates:\n  * iso_code2  (iso_code2) object &#x27;CA&#x27; &#x27;AX&#x27; &#x27;AD&#x27; &#x27;AT&#x27; ... &#x27;SI&#x27; &#x27;ES&#x27; &#x27;JP&#x27; &#x27;SE&#x27;\nData variables:\n    currency   (iso_code2) object &#x27;CAD&#x27; &#x27;EUR&#x27; &#x27;EUR&#x27; &#x27;EUR&#x27; ... &#x27;EUR&#x27; &#x27;JPY&#x27; &#x27;SEK&#x27;\n    country    (iso_code2) object &#x27;Canada&#x27; &#x27;Aland Islands&#x27; ... &#x27;Japan&#x27; &#x27;Sweden&#x27;</pre><div class='xr-wrap' hidden><div class='xr-header'><div class='xr-obj-type'>xarray.Dataset</div></div><ul class='xr-sections'><li class='xr-section-item'><input id='section-e9e9984a-9642-4ca3-9b62-c4b2dcceb6f9' class='xr-section-summary-in' type='checkbox' disabled ><label for='section-e9e9984a-9642-4ca3-9b62-c4b2dcceb6f9' class='xr-section-summary'  title='Expand/collapse section'>Dimensions:</label><div class='xr-section-inline-details'><ul class='xr-dim-list'><li><span class='xr-has-index'>iso_code2</span>: 35</li></ul></div><div class='xr-section-details'></div></li><li class='xr-section-item'><input id='section-2d738796-71f4-48c2-a842-d537518ad318' class='xr-section-summary-in' type='checkbox'  checked><label for='section-2d738796-71f4-48c2-a842-d537518ad318' class='xr-section-summary' >Coordinates: <span>(1)</span></label><div class='xr-section-inline-details'></div><div class='xr-section-details'><ul class='xr-var-list'><li class='xr-var-item'><div class='xr-var-name'><span class='xr-has-index'>iso_code2</span></div><div class='xr-var-dims'>(iso_code2)</div><div class='xr-var-dtype'>object</div><div class='xr-var-preview xr-preview'>&#x27;CA&#x27; &#x27;AX&#x27; &#x27;AD&#x27; ... &#x27;ES&#x27; &#x27;JP&#x27; &#x27;SE&#x27;</div><input id='attrs-6eb01c4b-a901-47b9-809a-1799d5419d8a' class='xr-var-attrs-in' type='checkbox' disabled><label for='attrs-6eb01c4b-a901-47b9-809a-1799d5419d8a' title='Show/Hide attributes'><svg class='icon xr-icon-file-text2'><use xlink:href='#icon-file-text2'></use></svg></label><input id='data-025a4afa-e2db-4828-b2c1-406775f3acde' class='xr-var-data-in' type='checkbox'><label for='data-025a4afa-e2db-4828-b2c1-406775f3acde' title='Show/Hide data repr'><svg class='icon xr-icon-database'><use xlink:href='#icon-database'></use></svg></label><div class='xr-var-attrs'><dl class='xr-attrs'></dl></div><div class='xr-var-data'><pre>array([&#x27;CA&#x27;, &#x27;AX&#x27;, &#x27;AD&#x27;, &#x27;AT&#x27;, &#x27;BE&#x27;, &#x27;CY&#x27;, &#x27;EE&#x27;, &#x27;FI&#x27;, &#x27;FR&#x27;, &#x27;GF&#x27;, &#x27;TF&#x27;, &#x27;DE&#x27;,\n       &#x27;GR&#x27;, &#x27;GP&#x27;, &#x27;VA&#x27;, &#x27;IE&#x27;, &#x27;IT&#x27;, &#x27;LV&#x27;, &#x27;LT&#x27;, &#x27;LU&#x27;, &#x27;MT&#x27;, &#x27;MQ&#x27;, &#x27;YT&#x27;, &#x27;MC&#x27;,\n       &#x27;ME&#x27;, &#x27;NL&#x27;, &#x27;PT&#x27;, &#x27;MF&#x27;, &#x27;PM&#x27;, &#x27;SM&#x27;, &#x27;SK&#x27;, &#x27;SI&#x27;, &#x27;ES&#x27;, &#x27;JP&#x27;, &#x27;SE&#x27;],\n      dtype=object)</pre></div></li></ul></div></li><li class='xr-section-item'><input id='section-886347d6-1aba-4a18-9066-3a13d5094b4a' class='xr-section-summary-in' type='checkbox'  checked><label for='section-886347d6-1aba-4a18-9066-3a13d5094b4a' class='xr-section-summary' >Data variables: <span>(2)</span></label><div class='xr-section-inline-details'></div><div class='xr-section-details'><ul class='xr-var-list'><li class='xr-var-item'><div class='xr-var-name'><span>currency</span></div><div class='xr-var-dims'>(iso_code2)</div><div class='xr-var-dtype'>object</div><div class='xr-var-preview xr-preview'>&#x27;CAD&#x27; &#x27;EUR&#x27; &#x27;EUR&#x27; ... &#x27;JPY&#x27; &#x27;SEK&#x27;</div><input id='attrs-20244914-2bcc-419b-bf8d-5efe3287103f' class='xr-var-attrs-in' type='checkbox' disabled><label for='attrs-20244914-2bcc-419b-bf8d-5efe3287103f' title='Show/Hide attributes'><svg class='icon xr-icon-file-text2'><use xlink:href='#icon-file-text2'></use></svg></label><input id='data-cc5660e1-82ef-460c-b850-2d4f8e1293fb' class='xr-var-data-in' type='checkbox'><label for='data-cc5660e1-82ef-460c-b850-2d4f8e1293fb' title='Show/Hide data repr'><svg class='icon xr-icon-database'><use xlink:href='#icon-database'></use></svg></label><div class='xr-var-attrs'><dl class='xr-attrs'></dl></div><div class='xr-var-data'><pre>array([&#x27;CAD&#x27;, &#x27;EUR&#x27;, &#x27;EUR&#x27;, &#x27;EUR&#x27;, &#x27;EUR&#x27;, &#x27;EUR&#x27;, &#x27;EUR&#x27;, &#x27;EUR&#x27;, &#x27;EUR&#x27;,\n       &#x27;EUR&#x27;, &#x27;EUR&#x27;, &#x27;EUR&#x27;, &#x27;EUR&#x27;, &#x27;EUR&#x27;, &#x27;EUR&#x27;, &#x27;EUR&#x27;, &#x27;EUR&#x27;, &#x27;EUR&#x27;,\n       &#x27;EUR&#x27;, &#x27;EUR&#x27;, &#x27;EUR&#x27;, &#x27;EUR&#x27;, &#x27;EUR&#x27;, &#x27;EUR&#x27;, &#x27;EUR&#x27;, &#x27;EUR&#x27;, &#x27;EUR&#x27;,\n       &#x27;EUR&#x27;, &#x27;EUR&#x27;, &#x27;EUR&#x27;, &#x27;EUR&#x27;, &#x27;EUR&#x27;, &#x27;EUR&#x27;, &#x27;JPY&#x27;, &#x27;SEK&#x27;],\n      dtype=object)</pre></div></li><li class='xr-var-item'><div class='xr-var-name'><span>country</span></div><div class='xr-var-dims'>(iso_code2)</div><div class='xr-var-dtype'>object</div><div class='xr-var-preview xr-preview'>&#x27;Canada&#x27; ... &#x27;Sweden&#x27;</div><input id='attrs-b792a6fa-b073-46ab-953a-3d9a670d9a55' class='xr-var-attrs-in' type='checkbox' disabled><label for='attrs-b792a6fa-b073-46ab-953a-3d9a670d9a55' title='Show/Hide attributes'><svg class='icon xr-icon-file-text2'><use xlink:href='#icon-file-text2'></use></svg></label><input id='data-9f3d2425-9d09-4a88-beb2-01a735582aa3' class='xr-var-data-in' type='checkbox'><label for='data-9f3d2425-9d09-4a88-beb2-01a735582aa3' title='Show/Hide data repr'><svg class='icon xr-icon-database'><use xlink:href='#icon-database'></use></svg></label><div class='xr-var-attrs'><dl class='xr-attrs'></dl></div><div class='xr-var-data'><pre>array([&#x27;Canada&#x27;, &#x27;Aland Islands&#x27;, &#x27;Andorra&#x27;, &#x27;Austria&#x27;, &#x27;Belgium&#x27;,\n       &#x27;Cyprus&#x27;, &#x27;Estonia&#x27;, &#x27;Finland&#x27;, &#x27;France&#x27;, &#x27;French Guiana&#x27;,\n       &#x27;French Southern Territories&#x27;, &#x27;Germany&#x27;, &#x27;Greece&#x27;, &#x27;Guadeloupe&#x27;,\n       &#x27;Holy See&#x27;, &#x27;Ireland&#x27;, &#x27;Italy&#x27;, &#x27;Latvia&#x27;, &#x27;Lithuania&#x27;,\n       &#x27;Luxembourg&#x27;, &#x27;Malta&#x27;, &#x27;Martinique&#x27;, &#x27;Mayotte&#x27;, &#x27;Monaco&#x27;,\n       &#x27;Montenegro&#x27;, &#x27;Netherlands&#x27;, &#x27;Portugal&#x27;, &#x27;Saint Martin&#x27;,\n       &#x27;Saint Pierre and Miquelon&#x27;, &#x27;San Marino&#x27;, &#x27;Slovakia&#x27;, &#x27;Slovenia&#x27;,\n       &#x27;Spain&#x27;, &#x27;Japan&#x27;, &#x27;Sweden&#x27;], dtype=object)</pre></div></li></ul></div></li><li class='xr-section-item'><input id='section-42a4d1a3-33d8-4b38-bae8-549139a08966' class='xr-section-summary-in' type='checkbox' disabled ><label for='section-42a4d1a3-33d8-4b38-bae8-549139a08966' class='xr-section-summary'  title='Expand/collapse section'>Attributes: <span>(0)</span></label><div class='xr-section-inline-details'></div><div class='xr-section-details'><dl class='xr-attrs'></dl></div></li></ul></div></div>"
     },
     "metadata": {},
     "execution_count": 286
    },
    {
     "output_type": "execute_result",
     "data": {
      "text/plain": "<xarray.Dataset>\nDimensions:    (iso_code2: 35)\nCoordinates:\n  * iso_code2  (iso_code2) object 'CA' 'AX' 'AD' 'AT' ... 'SI' 'ES' 'JP' 'SE'\nData variables:\n    currency   (iso_code2) object 'CAD' 'EUR' 'EUR' 'EUR' ... 'EUR' 'JPY' 'SEK'\n    country    (iso_code2) object 'Canada' 'Aland Islands' ... 'Japan' 'Sweden'",
      "text/html": "<div><svg style=\"position: absolute; width: 0; height: 0; overflow: hidden\">\n<defs>\n<symbol id=\"icon-database\" viewBox=\"0 0 32 32\">\n<path d=\"M16 0c-8.837 0-16 2.239-16 5v4c0 2.761 7.163 5 16 5s16-2.239 16-5v-4c0-2.761-7.163-5-16-5z\"></path>\n<path d=\"M16 17c-8.837 0-16-2.239-16-5v6c0 2.761 7.163 5 16 5s16-2.239 16-5v-6c0 2.761-7.163 5-16 5z\"></path>\n<path d=\"M16 26c-8.837 0-16-2.239-16-5v6c0 2.761 7.163 5 16 5s16-2.239 16-5v-6c0 2.761-7.163 5-16 5z\"></path>\n</symbol>\n<symbol id=\"icon-file-text2\" viewBox=\"0 0 32 32\">\n<path d=\"M28.681 7.159c-0.694-0.947-1.662-2.053-2.724-3.116s-2.169-2.030-3.116-2.724c-1.612-1.182-2.393-1.319-2.841-1.319h-15.5c-1.378 0-2.5 1.121-2.5 2.5v27c0 1.378 1.122 2.5 2.5 2.5h23c1.378 0 2.5-1.122 2.5-2.5v-19.5c0-0.448-0.137-1.23-1.319-2.841zM24.543 5.457c0.959 0.959 1.712 1.825 2.268 2.543h-4.811v-4.811c0.718 0.556 1.584 1.309 2.543 2.268zM28 29.5c0 0.271-0.229 0.5-0.5 0.5h-23c-0.271 0-0.5-0.229-0.5-0.5v-27c0-0.271 0.229-0.5 0.5-0.5 0 0 15.499-0 15.5 0v7c0 0.552 0.448 1 1 1h7v19.5z\"></path>\n<path d=\"M23 26h-14c-0.552 0-1-0.448-1-1s0.448-1 1-1h14c0.552 0 1 0.448 1 1s-0.448 1-1 1z\"></path>\n<path d=\"M23 22h-14c-0.552 0-1-0.448-1-1s0.448-1 1-1h14c0.552 0 1 0.448 1 1s-0.448 1-1 1z\"></path>\n<path d=\"M23 18h-14c-0.552 0-1-0.448-1-1s0.448-1 1-1h14c0.552 0 1 0.448 1 1s-0.448 1-1 1z\"></path>\n</symbol>\n</defs>\n</svg>\n<style>/* CSS stylesheet for displaying xarray objects in jupyterlab.\n *\n */\n\n:root {\n  --xr-font-color0: var(--jp-content-font-color0, rgba(0, 0, 0, 1));\n  --xr-font-color2: var(--jp-content-font-color2, rgba(0, 0, 0, 0.54));\n  --xr-font-color3: var(--jp-content-font-color3, rgba(0, 0, 0, 0.38));\n  --xr-border-color: var(--jp-border-color2, #e0e0e0);\n  --xr-disabled-color: var(--jp-layout-color3, #bdbdbd);\n  --xr-background-color: var(--jp-layout-color0, white);\n  --xr-background-color-row-even: var(--jp-layout-color1, white);\n  --xr-background-color-row-odd: var(--jp-layout-color2, #eeeeee);\n}\n\nhtml[theme=dark],\nbody.vscode-dark {\n  --xr-font-color0: rgba(255, 255, 255, 1);\n  --xr-font-color2: rgba(255, 255, 255, 0.54);\n  --xr-font-color3: rgba(255, 255, 255, 0.38);\n  --xr-border-color: #1F1F1F;\n  --xr-disabled-color: #515151;\n  --xr-background-color: #111111;\n  --xr-background-color-row-even: #111111;\n  --xr-background-color-row-odd: #313131;\n}\n\n.xr-wrap {\n  display: block;\n  min-width: 300px;\n  max-width: 700px;\n}\n\n.xr-text-repr-fallback {\n  /* fallback to plain text repr when CSS is not injected (untrusted notebook) */\n  display: none;\n}\n\n.xr-header {\n  padding-top: 6px;\n  padding-bottom: 6px;\n  margin-bottom: 4px;\n  border-bottom: solid 1px var(--xr-border-color);\n}\n\n.xr-header > div,\n.xr-header > ul {\n  display: inline;\n  margin-top: 0;\n  margin-bottom: 0;\n}\n\n.xr-obj-type,\n.xr-array-name {\n  margin-left: 2px;\n  margin-right: 10px;\n}\n\n.xr-obj-type {\n  color: var(--xr-font-color2);\n}\n\n.xr-sections {\n  padding-left: 0 !important;\n  display: grid;\n  grid-template-columns: 150px auto auto 1fr 20px 20px;\n}\n\n.xr-section-item {\n  display: contents;\n}\n\n.xr-section-item input {\n  display: none;\n}\n\n.xr-section-item input + label {\n  color: var(--xr-disabled-color);\n}\n\n.xr-section-item input:enabled + label {\n  cursor: pointer;\n  color: var(--xr-font-color2);\n}\n\n.xr-section-item input:enabled + label:hover {\n  color: var(--xr-font-color0);\n}\n\n.xr-section-summary {\n  grid-column: 1;\n  color: var(--xr-font-color2);\n  font-weight: 500;\n}\n\n.xr-section-summary > span {\n  display: inline-block;\n  padding-left: 0.5em;\n}\n\n.xr-section-summary-in:disabled + label {\n  color: var(--xr-font-color2);\n}\n\n.xr-section-summary-in + label:before {\n  display: inline-block;\n  content: '►';\n  font-size: 11px;\n  width: 15px;\n  text-align: center;\n}\n\n.xr-section-summary-in:disabled + label:before {\n  color: var(--xr-disabled-color);\n}\n\n.xr-section-summary-in:checked + label:before {\n  content: '▼';\n}\n\n.xr-section-summary-in:checked + label > span {\n  display: none;\n}\n\n.xr-section-summary,\n.xr-section-inline-details {\n  padding-top: 4px;\n  padding-bottom: 4px;\n}\n\n.xr-section-inline-details {\n  grid-column: 2 / -1;\n}\n\n.xr-section-details {\n  display: none;\n  grid-column: 1 / -1;\n  margin-bottom: 5px;\n}\n\n.xr-section-summary-in:checked ~ .xr-section-details {\n  display: contents;\n}\n\n.xr-array-wrap {\n  grid-column: 1 / -1;\n  display: grid;\n  grid-template-columns: 20px auto;\n}\n\n.xr-array-wrap > label {\n  grid-column: 1;\n  vertical-align: top;\n}\n\n.xr-preview {\n  color: var(--xr-font-color3);\n}\n\n.xr-array-preview,\n.xr-array-data {\n  padding: 0 5px !important;\n  grid-column: 2;\n}\n\n.xr-array-data,\n.xr-array-in:checked ~ .xr-array-preview {\n  display: none;\n}\n\n.xr-array-in:checked ~ .xr-array-data,\n.xr-array-preview {\n  display: inline-block;\n}\n\n.xr-dim-list {\n  display: inline-block !important;\n  list-style: none;\n  padding: 0 !important;\n  margin: 0;\n}\n\n.xr-dim-list li {\n  display: inline-block;\n  padding: 0;\n  margin: 0;\n}\n\n.xr-dim-list:before {\n  content: '(';\n}\n\n.xr-dim-list:after {\n  content: ')';\n}\n\n.xr-dim-list li:not(:last-child):after {\n  content: ',';\n  padding-right: 5px;\n}\n\n.xr-has-index {\n  font-weight: bold;\n}\n\n.xr-var-list,\n.xr-var-item {\n  display: contents;\n}\n\n.xr-var-item > div,\n.xr-var-item label,\n.xr-var-item > .xr-var-name span {\n  background-color: var(--xr-background-color-row-even);\n  margin-bottom: 0;\n}\n\n.xr-var-item > .xr-var-name:hover span {\n  padding-right: 5px;\n}\n\n.xr-var-list > li:nth-child(odd) > div,\n.xr-var-list > li:nth-child(odd) > label,\n.xr-var-list > li:nth-child(odd) > .xr-var-name span {\n  background-color: var(--xr-background-color-row-odd);\n}\n\n.xr-var-name {\n  grid-column: 1;\n}\n\n.xr-var-dims {\n  grid-column: 2;\n}\n\n.xr-var-dtype {\n  grid-column: 3;\n  text-align: right;\n  color: var(--xr-font-color2);\n}\n\n.xr-var-preview {\n  grid-column: 4;\n}\n\n.xr-var-name,\n.xr-var-dims,\n.xr-var-dtype,\n.xr-preview,\n.xr-attrs dt {\n  white-space: nowrap;\n  overflow: hidden;\n  text-overflow: ellipsis;\n  padding-right: 10px;\n}\n\n.xr-var-name:hover,\n.xr-var-dims:hover,\n.xr-var-dtype:hover,\n.xr-attrs dt:hover {\n  overflow: visible;\n  width: auto;\n  z-index: 1;\n}\n\n.xr-var-attrs,\n.xr-var-data {\n  display: none;\n  background-color: var(--xr-background-color) !important;\n  padding-bottom: 5px !important;\n}\n\n.xr-var-attrs-in:checked ~ .xr-var-attrs,\n.xr-var-data-in:checked ~ .xr-var-data {\n  display: block;\n}\n\n.xr-var-data > table {\n  float: right;\n}\n\n.xr-var-name span,\n.xr-var-data,\n.xr-attrs {\n  padding-left: 25px !important;\n}\n\n.xr-attrs,\n.xr-var-attrs,\n.xr-var-data {\n  grid-column: 1 / -1;\n}\n\ndl.xr-attrs {\n  padding: 0;\n  margin: 0;\n  display: grid;\n  grid-template-columns: 125px auto;\n}\n\n.xr-attrs dt, dd {\n  padding: 0;\n  margin: 0;\n  float: left;\n  padding-right: 10px;\n  width: auto;\n}\n\n.xr-attrs dt {\n  font-weight: normal;\n  grid-column: 1;\n}\n\n.xr-attrs dt:hover span {\n  display: inline-block;\n  background: var(--xr-background-color);\n  padding-right: 10px;\n}\n\n.xr-attrs dd {\n  grid-column: 2;\n  white-space: pre-wrap;\n  word-break: break-all;\n}\n\n.xr-icon-database,\n.xr-icon-file-text2 {\n  display: inline-block;\n  vertical-align: middle;\n  width: 1em;\n  height: 1.5em !important;\n  stroke-width: 0;\n  stroke: currentColor;\n  fill: currentColor;\n}\n</style><pre class='xr-text-repr-fallback'>&lt;xarray.Dataset&gt;\nDimensions:    (iso_code2: 35)\nCoordinates:\n  * iso_code2  (iso_code2) object &#x27;CA&#x27; &#x27;AX&#x27; &#x27;AD&#x27; &#x27;AT&#x27; ... &#x27;SI&#x27; &#x27;ES&#x27; &#x27;JP&#x27; &#x27;SE&#x27;\nData variables:\n    currency   (iso_code2) object &#x27;CAD&#x27; &#x27;EUR&#x27; &#x27;EUR&#x27; &#x27;EUR&#x27; ... &#x27;EUR&#x27; &#x27;JPY&#x27; &#x27;SEK&#x27;\n    country    (iso_code2) object &#x27;Canada&#x27; &#x27;Aland Islands&#x27; ... &#x27;Japan&#x27; &#x27;Sweden&#x27;</pre><div class='xr-wrap' hidden><div class='xr-header'><div class='xr-obj-type'>xarray.Dataset</div></div><ul class='xr-sections'><li class='xr-section-item'><input id='section-942b53c9-deed-48c0-a7d1-b5c7fd305265' class='xr-section-summary-in' type='checkbox' disabled ><label for='section-942b53c9-deed-48c0-a7d1-b5c7fd305265' class='xr-section-summary'  title='Expand/collapse section'>Dimensions:</label><div class='xr-section-inline-details'><ul class='xr-dim-list'><li><span class='xr-has-index'>iso_code2</span>: 35</li></ul></div><div class='xr-section-details'></div></li><li class='xr-section-item'><input id='section-63568465-983c-417a-aae2-c30e7102e1e7' class='xr-section-summary-in' type='checkbox'  checked><label for='section-63568465-983c-417a-aae2-c30e7102e1e7' class='xr-section-summary' >Coordinates: <span>(1)</span></label><div class='xr-section-inline-details'></div><div class='xr-section-details'><ul class='xr-var-list'><li class='xr-var-item'><div class='xr-var-name'><span class='xr-has-index'>iso_code2</span></div><div class='xr-var-dims'>(iso_code2)</div><div class='xr-var-dtype'>object</div><div class='xr-var-preview xr-preview'>&#x27;CA&#x27; &#x27;AX&#x27; &#x27;AD&#x27; ... &#x27;ES&#x27; &#x27;JP&#x27; &#x27;SE&#x27;</div><input id='attrs-f99bfccf-55a0-41c8-9db1-1b404ad46a0c' class='xr-var-attrs-in' type='checkbox' disabled><label for='attrs-f99bfccf-55a0-41c8-9db1-1b404ad46a0c' title='Show/Hide attributes'><svg class='icon xr-icon-file-text2'><use xlink:href='#icon-file-text2'></use></svg></label><input id='data-0b273493-0962-4c81-b78a-93ffcaa1430e' class='xr-var-data-in' type='checkbox'><label for='data-0b273493-0962-4c81-b78a-93ffcaa1430e' title='Show/Hide data repr'><svg class='icon xr-icon-database'><use xlink:href='#icon-database'></use></svg></label><div class='xr-var-attrs'><dl class='xr-attrs'></dl></div><div class='xr-var-data'><pre>array([&#x27;CA&#x27;, &#x27;AX&#x27;, &#x27;AD&#x27;, &#x27;AT&#x27;, &#x27;BE&#x27;, &#x27;CY&#x27;, &#x27;EE&#x27;, &#x27;FI&#x27;, &#x27;FR&#x27;, &#x27;GF&#x27;, &#x27;TF&#x27;, &#x27;DE&#x27;,\n       &#x27;GR&#x27;, &#x27;GP&#x27;, &#x27;VA&#x27;, &#x27;IE&#x27;, &#x27;IT&#x27;, &#x27;LV&#x27;, &#x27;LT&#x27;, &#x27;LU&#x27;, &#x27;MT&#x27;, &#x27;MQ&#x27;, &#x27;YT&#x27;, &#x27;MC&#x27;,\n       &#x27;ME&#x27;, &#x27;NL&#x27;, &#x27;PT&#x27;, &#x27;MF&#x27;, &#x27;PM&#x27;, &#x27;SM&#x27;, &#x27;SK&#x27;, &#x27;SI&#x27;, &#x27;ES&#x27;, &#x27;JP&#x27;, &#x27;SE&#x27;],\n      dtype=object)</pre></div></li></ul></div></li><li class='xr-section-item'><input id='section-1d313d0b-8ce7-4e74-a0f6-b300628e7e13' class='xr-section-summary-in' type='checkbox'  checked><label for='section-1d313d0b-8ce7-4e74-a0f6-b300628e7e13' class='xr-section-summary' >Data variables: <span>(2)</span></label><div class='xr-section-inline-details'></div><div class='xr-section-details'><ul class='xr-var-list'><li class='xr-var-item'><div class='xr-var-name'><span>currency</span></div><div class='xr-var-dims'>(iso_code2)</div><div class='xr-var-dtype'>object</div><div class='xr-var-preview xr-preview'>&#x27;CAD&#x27; &#x27;EUR&#x27; &#x27;EUR&#x27; ... &#x27;JPY&#x27; &#x27;SEK&#x27;</div><input id='attrs-17092863-c53b-4dd9-8ede-2db8c82d70bc' class='xr-var-attrs-in' type='checkbox' disabled><label for='attrs-17092863-c53b-4dd9-8ede-2db8c82d70bc' title='Show/Hide attributes'><svg class='icon xr-icon-file-text2'><use xlink:href='#icon-file-text2'></use></svg></label><input id='data-b75eae3e-4448-41ae-bd92-4808008c5dce' class='xr-var-data-in' type='checkbox'><label for='data-b75eae3e-4448-41ae-bd92-4808008c5dce' title='Show/Hide data repr'><svg class='icon xr-icon-database'><use xlink:href='#icon-database'></use></svg></label><div class='xr-var-attrs'><dl class='xr-attrs'></dl></div><div class='xr-var-data'><pre>array([&#x27;CAD&#x27;, &#x27;EUR&#x27;, &#x27;EUR&#x27;, &#x27;EUR&#x27;, &#x27;EUR&#x27;, &#x27;EUR&#x27;, &#x27;EUR&#x27;, &#x27;EUR&#x27;, &#x27;EUR&#x27;,\n       &#x27;EUR&#x27;, &#x27;EUR&#x27;, &#x27;EUR&#x27;, &#x27;EUR&#x27;, &#x27;EUR&#x27;, &#x27;EUR&#x27;, &#x27;EUR&#x27;, &#x27;EUR&#x27;, &#x27;EUR&#x27;,\n       &#x27;EUR&#x27;, &#x27;EUR&#x27;, &#x27;EUR&#x27;, &#x27;EUR&#x27;, &#x27;EUR&#x27;, &#x27;EUR&#x27;, &#x27;EUR&#x27;, &#x27;EUR&#x27;, &#x27;EUR&#x27;,\n       &#x27;EUR&#x27;, &#x27;EUR&#x27;, &#x27;EUR&#x27;, &#x27;EUR&#x27;, &#x27;EUR&#x27;, &#x27;EUR&#x27;, &#x27;JPY&#x27;, &#x27;SEK&#x27;],\n      dtype=object)</pre></div></li><li class='xr-var-item'><div class='xr-var-name'><span>country</span></div><div class='xr-var-dims'>(iso_code2)</div><div class='xr-var-dtype'>object</div><div class='xr-var-preview xr-preview'>&#x27;Canada&#x27; ... &#x27;Sweden&#x27;</div><input id='attrs-7c20a270-a2ae-4927-af51-161ddad3e269' class='xr-var-attrs-in' type='checkbox' disabled><label for='attrs-7c20a270-a2ae-4927-af51-161ddad3e269' title='Show/Hide attributes'><svg class='icon xr-icon-file-text2'><use xlink:href='#icon-file-text2'></use></svg></label><input id='data-d7d0c145-93f4-44be-a2f4-4429680f44d6' class='xr-var-data-in' type='checkbox'><label for='data-d7d0c145-93f4-44be-a2f4-4429680f44d6' title='Show/Hide data repr'><svg class='icon xr-icon-database'><use xlink:href='#icon-database'></use></svg></label><div class='xr-var-attrs'><dl class='xr-attrs'></dl></div><div class='xr-var-data'><pre>array([&#x27;Canada&#x27;, &#x27;Aland Islands&#x27;, &#x27;Andorra&#x27;, &#x27;Austria&#x27;, &#x27;Belgium&#x27;,\n       &#x27;Cyprus&#x27;, &#x27;Estonia&#x27;, &#x27;Finland&#x27;, &#x27;France&#x27;, &#x27;French Guiana&#x27;,\n       &#x27;French Southern Territories&#x27;, &#x27;Germany&#x27;, &#x27;Greece&#x27;, &#x27;Guadeloupe&#x27;,\n       &#x27;Holy See&#x27;, &#x27;Ireland&#x27;, &#x27;Italy&#x27;, &#x27;Latvia&#x27;, &#x27;Lithuania&#x27;,\n       &#x27;Luxembourg&#x27;, &#x27;Malta&#x27;, &#x27;Martinique&#x27;, &#x27;Mayotte&#x27;, &#x27;Monaco&#x27;,\n       &#x27;Montenegro&#x27;, &#x27;Netherlands&#x27;, &#x27;Portugal&#x27;, &#x27;Saint Martin&#x27;,\n       &#x27;Saint Pierre and Miquelon&#x27;, &#x27;San Marino&#x27;, &#x27;Slovakia&#x27;, &#x27;Slovenia&#x27;,\n       &#x27;Spain&#x27;, &#x27;Japan&#x27;, &#x27;Sweden&#x27;], dtype=object)</pre></div></li></ul></div></li><li class='xr-section-item'><input id='section-2f190842-48f9-4835-9c67-1ef053cf93b9' class='xr-section-summary-in' type='checkbox' disabled ><label for='section-2f190842-48f9-4835-9c67-1ef053cf93b9' class='xr-section-summary'  title='Expand/collapse section'>Attributes: <span>(0)</span></label><div class='xr-section-inline-details'></div><div class='xr-section-details'><dl class='xr-attrs'></dl></div></li></ul></div></div>"
     },
     "metadata": {},
     "execution_count": 286
    }
   ],
   "source": [
    "statics_df.to_xarray()  # create xarray.Dataset with columns as separate fields\n",
    "# can add it to existing dataset using assign\n",
    "\n",
    "xr.Dataset.from_dataframe(statics_df)  # another way to do the same thing"
   ]
  },
  {
   "cell_type": "code",
   "execution_count": 224,
   "metadata": {},
   "outputs": [
    {
     "output_type": "execute_result",
     "data": {
      "text/plain": "<xarray.Dataset>\nDimensions:    (date: 100, iso_code2: 3)\nCoordinates:\n  * date       (date) object '2020-04-13' '2020-04-14' ... '2020-08-28'\n  * iso_code2  (iso_code2) object 'CA' 'AT' 'ES'\nData variables:\n    close      (date, iso_code2) float64 0.7198 1.091 1.091 ... 1.191 1.191\n    currency   (iso_code2) object 'CAD' 'EUR' 'EUR'\n    country    (iso_code2) object 'Canada' 'Austria' 'Spain'",
      "text/html": "<div><svg style=\"position: absolute; width: 0; height: 0; overflow: hidden\">\n<defs>\n<symbol id=\"icon-database\" viewBox=\"0 0 32 32\">\n<path d=\"M16 0c-8.837 0-16 2.239-16 5v4c0 2.761 7.163 5 16 5s16-2.239 16-5v-4c0-2.761-7.163-5-16-5z\"></path>\n<path d=\"M16 17c-8.837 0-16-2.239-16-5v6c0 2.761 7.163 5 16 5s16-2.239 16-5v-6c0 2.761-7.163 5-16 5z\"></path>\n<path d=\"M16 26c-8.837 0-16-2.239-16-5v6c0 2.761 7.163 5 16 5s16-2.239 16-5v-6c0 2.761-7.163 5-16 5z\"></path>\n</symbol>\n<symbol id=\"icon-file-text2\" viewBox=\"0 0 32 32\">\n<path d=\"M28.681 7.159c-0.694-0.947-1.662-2.053-2.724-3.116s-2.169-2.030-3.116-2.724c-1.612-1.182-2.393-1.319-2.841-1.319h-15.5c-1.378 0-2.5 1.121-2.5 2.5v27c0 1.378 1.122 2.5 2.5 2.5h23c1.378 0 2.5-1.122 2.5-2.5v-19.5c0-0.448-0.137-1.23-1.319-2.841zM24.543 5.457c0.959 0.959 1.712 1.825 2.268 2.543h-4.811v-4.811c0.718 0.556 1.584 1.309 2.543 2.268zM28 29.5c0 0.271-0.229 0.5-0.5 0.5h-23c-0.271 0-0.5-0.229-0.5-0.5v-27c0-0.271 0.229-0.5 0.5-0.5 0 0 15.499-0 15.5 0v7c0 0.552 0.448 1 1 1h7v19.5z\"></path>\n<path d=\"M23 26h-14c-0.552 0-1-0.448-1-1s0.448-1 1-1h14c0.552 0 1 0.448 1 1s-0.448 1-1 1z\"></path>\n<path d=\"M23 22h-14c-0.552 0-1-0.448-1-1s0.448-1 1-1h14c0.552 0 1 0.448 1 1s-0.448 1-1 1z\"></path>\n<path d=\"M23 18h-14c-0.552 0-1-0.448-1-1s0.448-1 1-1h14c0.552 0 1 0.448 1 1s-0.448 1-1 1z\"></path>\n</symbol>\n</defs>\n</svg>\n<style>/* CSS stylesheet for displaying xarray objects in jupyterlab.\n *\n */\n\n:root {\n  --xr-font-color0: var(--jp-content-font-color0, rgba(0, 0, 0, 1));\n  --xr-font-color2: var(--jp-content-font-color2, rgba(0, 0, 0, 0.54));\n  --xr-font-color3: var(--jp-content-font-color3, rgba(0, 0, 0, 0.38));\n  --xr-border-color: var(--jp-border-color2, #e0e0e0);\n  --xr-disabled-color: var(--jp-layout-color3, #bdbdbd);\n  --xr-background-color: var(--jp-layout-color0, white);\n  --xr-background-color-row-even: var(--jp-layout-color1, white);\n  --xr-background-color-row-odd: var(--jp-layout-color2, #eeeeee);\n}\n\nhtml[theme=dark],\nbody.vscode-dark {\n  --xr-font-color0: rgba(255, 255, 255, 1);\n  --xr-font-color2: rgba(255, 255, 255, 0.54);\n  --xr-font-color3: rgba(255, 255, 255, 0.38);\n  --xr-border-color: #1F1F1F;\n  --xr-disabled-color: #515151;\n  --xr-background-color: #111111;\n  --xr-background-color-row-even: #111111;\n  --xr-background-color-row-odd: #313131;\n}\n\n.xr-wrap {\n  display: block;\n  min-width: 300px;\n  max-width: 700px;\n}\n\n.xr-text-repr-fallback {\n  /* fallback to plain text repr when CSS is not injected (untrusted notebook) */\n  display: none;\n}\n\n.xr-header {\n  padding-top: 6px;\n  padding-bottom: 6px;\n  margin-bottom: 4px;\n  border-bottom: solid 1px var(--xr-border-color);\n}\n\n.xr-header > div,\n.xr-header > ul {\n  display: inline;\n  margin-top: 0;\n  margin-bottom: 0;\n}\n\n.xr-obj-type,\n.xr-array-name {\n  margin-left: 2px;\n  margin-right: 10px;\n}\n\n.xr-obj-type {\n  color: var(--xr-font-color2);\n}\n\n.xr-sections {\n  padding-left: 0 !important;\n  display: grid;\n  grid-template-columns: 150px auto auto 1fr 20px 20px;\n}\n\n.xr-section-item {\n  display: contents;\n}\n\n.xr-section-item input {\n  display: none;\n}\n\n.xr-section-item input + label {\n  color: var(--xr-disabled-color);\n}\n\n.xr-section-item input:enabled + label {\n  cursor: pointer;\n  color: var(--xr-font-color2);\n}\n\n.xr-section-item input:enabled + label:hover {\n  color: var(--xr-font-color0);\n}\n\n.xr-section-summary {\n  grid-column: 1;\n  color: var(--xr-font-color2);\n  font-weight: 500;\n}\n\n.xr-section-summary > span {\n  display: inline-block;\n  padding-left: 0.5em;\n}\n\n.xr-section-summary-in:disabled + label {\n  color: var(--xr-font-color2);\n}\n\n.xr-section-summary-in + label:before {\n  display: inline-block;\n  content: '►';\n  font-size: 11px;\n  width: 15px;\n  text-align: center;\n}\n\n.xr-section-summary-in:disabled + label:before {\n  color: var(--xr-disabled-color);\n}\n\n.xr-section-summary-in:checked + label:before {\n  content: '▼';\n}\n\n.xr-section-summary-in:checked + label > span {\n  display: none;\n}\n\n.xr-section-summary,\n.xr-section-inline-details {\n  padding-top: 4px;\n  padding-bottom: 4px;\n}\n\n.xr-section-inline-details {\n  grid-column: 2 / -1;\n}\n\n.xr-section-details {\n  display: none;\n  grid-column: 1 / -1;\n  margin-bottom: 5px;\n}\n\n.xr-section-summary-in:checked ~ .xr-section-details {\n  display: contents;\n}\n\n.xr-array-wrap {\n  grid-column: 1 / -1;\n  display: grid;\n  grid-template-columns: 20px auto;\n}\n\n.xr-array-wrap > label {\n  grid-column: 1;\n  vertical-align: top;\n}\n\n.xr-preview {\n  color: var(--xr-font-color3);\n}\n\n.xr-array-preview,\n.xr-array-data {\n  padding: 0 5px !important;\n  grid-column: 2;\n}\n\n.xr-array-data,\n.xr-array-in:checked ~ .xr-array-preview {\n  display: none;\n}\n\n.xr-array-in:checked ~ .xr-array-data,\n.xr-array-preview {\n  display: inline-block;\n}\n\n.xr-dim-list {\n  display: inline-block !important;\n  list-style: none;\n  padding: 0 !important;\n  margin: 0;\n}\n\n.xr-dim-list li {\n  display: inline-block;\n  padding: 0;\n  margin: 0;\n}\n\n.xr-dim-list:before {\n  content: '(';\n}\n\n.xr-dim-list:after {\n  content: ')';\n}\n\n.xr-dim-list li:not(:last-child):after {\n  content: ',';\n  padding-right: 5px;\n}\n\n.xr-has-index {\n  font-weight: bold;\n}\n\n.xr-var-list,\n.xr-var-item {\n  display: contents;\n}\n\n.xr-var-item > div,\n.xr-var-item label,\n.xr-var-item > .xr-var-name span {\n  background-color: var(--xr-background-color-row-even);\n  margin-bottom: 0;\n}\n\n.xr-var-item > .xr-var-name:hover span {\n  padding-right: 5px;\n}\n\n.xr-var-list > li:nth-child(odd) > div,\n.xr-var-list > li:nth-child(odd) > label,\n.xr-var-list > li:nth-child(odd) > .xr-var-name span {\n  background-color: var(--xr-background-color-row-odd);\n}\n\n.xr-var-name {\n  grid-column: 1;\n}\n\n.xr-var-dims {\n  grid-column: 2;\n}\n\n.xr-var-dtype {\n  grid-column: 3;\n  text-align: right;\n  color: var(--xr-font-color2);\n}\n\n.xr-var-preview {\n  grid-column: 4;\n}\n\n.xr-var-name,\n.xr-var-dims,\n.xr-var-dtype,\n.xr-preview,\n.xr-attrs dt {\n  white-space: nowrap;\n  overflow: hidden;\n  text-overflow: ellipsis;\n  padding-right: 10px;\n}\n\n.xr-var-name:hover,\n.xr-var-dims:hover,\n.xr-var-dtype:hover,\n.xr-attrs dt:hover {\n  overflow: visible;\n  width: auto;\n  z-index: 1;\n}\n\n.xr-var-attrs,\n.xr-var-data {\n  display: none;\n  background-color: var(--xr-background-color) !important;\n  padding-bottom: 5px !important;\n}\n\n.xr-var-attrs-in:checked ~ .xr-var-attrs,\n.xr-var-data-in:checked ~ .xr-var-data {\n  display: block;\n}\n\n.xr-var-data > table {\n  float: right;\n}\n\n.xr-var-name span,\n.xr-var-data,\n.xr-attrs {\n  padding-left: 25px !important;\n}\n\n.xr-attrs,\n.xr-var-attrs,\n.xr-var-data {\n  grid-column: 1 / -1;\n}\n\ndl.xr-attrs {\n  padding: 0;\n  margin: 0;\n  display: grid;\n  grid-template-columns: 125px auto;\n}\n\n.xr-attrs dt, dd {\n  padding: 0;\n  margin: 0;\n  float: left;\n  padding-right: 10px;\n  width: auto;\n}\n\n.xr-attrs dt {\n  font-weight: normal;\n  grid-column: 1;\n}\n\n.xr-attrs dt:hover span {\n  display: inline-block;\n  background: var(--xr-background-color);\n  padding-right: 10px;\n}\n\n.xr-attrs dd {\n  grid-column: 2;\n  white-space: pre-wrap;\n  word-break: break-all;\n}\n\n.xr-icon-database,\n.xr-icon-file-text2 {\n  display: inline-block;\n  vertical-align: middle;\n  width: 1em;\n  height: 1.5em !important;\n  stroke-width: 0;\n  stroke: currentColor;\n  fill: currentColor;\n}\n</style><pre class='xr-text-repr-fallback'>&lt;xarray.Dataset&gt;\nDimensions:    (date: 100, iso_code2: 3)\nCoordinates:\n  * date       (date) object &#x27;2020-04-13&#x27; &#x27;2020-04-14&#x27; ... &#x27;2020-08-28&#x27;\n  * iso_code2  (iso_code2) object &#x27;CA&#x27; &#x27;AT&#x27; &#x27;ES&#x27;\nData variables:\n    close      (date, iso_code2) float64 0.7198 1.091 1.091 ... 1.191 1.191\n    currency   (iso_code2) object &#x27;CAD&#x27; &#x27;EUR&#x27; &#x27;EUR&#x27;\n    country    (iso_code2) object &#x27;Canada&#x27; &#x27;Austria&#x27; &#x27;Spain&#x27;</pre><div class='xr-wrap' hidden><div class='xr-header'><div class='xr-obj-type'>xarray.Dataset</div></div><ul class='xr-sections'><li class='xr-section-item'><input id='section-274dfaa4-8303-4d8b-a039-0d1037a25bfc' class='xr-section-summary-in' type='checkbox' disabled ><label for='section-274dfaa4-8303-4d8b-a039-0d1037a25bfc' class='xr-section-summary'  title='Expand/collapse section'>Dimensions:</label><div class='xr-section-inline-details'><ul class='xr-dim-list'><li><span class='xr-has-index'>date</span>: 100</li><li><span class='xr-has-index'>iso_code2</span>: 3</li></ul></div><div class='xr-section-details'></div></li><li class='xr-section-item'><input id='section-8a218cc4-bb61-4f13-ad3a-c8f16fc867a3' class='xr-section-summary-in' type='checkbox'  checked><label for='section-8a218cc4-bb61-4f13-ad3a-c8f16fc867a3' class='xr-section-summary' >Coordinates: <span>(2)</span></label><div class='xr-section-inline-details'></div><div class='xr-section-details'><ul class='xr-var-list'><li class='xr-var-item'><div class='xr-var-name'><span class='xr-has-index'>date</span></div><div class='xr-var-dims'>(date)</div><div class='xr-var-dtype'>object</div><div class='xr-var-preview xr-preview'>&#x27;2020-04-13&#x27; ... &#x27;2020-08-28&#x27;</div><input id='attrs-23cba598-51e6-4ac5-9b81-bc80537cb63d' class='xr-var-attrs-in' type='checkbox' disabled><label for='attrs-23cba598-51e6-4ac5-9b81-bc80537cb63d' title='Show/Hide attributes'><svg class='icon xr-icon-file-text2'><use xlink:href='#icon-file-text2'></use></svg></label><input id='data-6df38f7d-1417-441a-9ab0-13bb9da77204' class='xr-var-data-in' type='checkbox'><label for='data-6df38f7d-1417-441a-9ab0-13bb9da77204' title='Show/Hide data repr'><svg class='icon xr-icon-database'><use xlink:href='#icon-database'></use></svg></label><div class='xr-var-attrs'><dl class='xr-attrs'></dl></div><div class='xr-var-data'><pre>array([&#x27;2020-04-13&#x27;, &#x27;2020-04-14&#x27;, &#x27;2020-04-15&#x27;, &#x27;2020-04-16&#x27;, &#x27;2020-04-17&#x27;,\n       &#x27;2020-04-20&#x27;, &#x27;2020-04-21&#x27;, &#x27;2020-04-22&#x27;, &#x27;2020-04-23&#x27;, &#x27;2020-04-24&#x27;,\n       &#x27;2020-04-27&#x27;, &#x27;2020-04-28&#x27;, &#x27;2020-04-29&#x27;, &#x27;2020-04-30&#x27;, &#x27;2020-05-01&#x27;,\n       &#x27;2020-05-04&#x27;, &#x27;2020-05-05&#x27;, &#x27;2020-05-06&#x27;, &#x27;2020-05-07&#x27;, &#x27;2020-05-08&#x27;,\n       &#x27;2020-05-11&#x27;, &#x27;2020-05-12&#x27;, &#x27;2020-05-13&#x27;, &#x27;2020-05-14&#x27;, &#x27;2020-05-15&#x27;,\n       &#x27;2020-05-18&#x27;, &#x27;2020-05-19&#x27;, &#x27;2020-05-20&#x27;, &#x27;2020-05-21&#x27;, &#x27;2020-05-22&#x27;,\n       &#x27;2020-05-25&#x27;, &#x27;2020-05-26&#x27;, &#x27;2020-05-27&#x27;, &#x27;2020-05-28&#x27;, &#x27;2020-05-29&#x27;,\n       &#x27;2020-06-01&#x27;, &#x27;2020-06-02&#x27;, &#x27;2020-06-03&#x27;, &#x27;2020-06-04&#x27;, &#x27;2020-06-05&#x27;,\n       &#x27;2020-06-08&#x27;, &#x27;2020-06-09&#x27;, &#x27;2020-06-10&#x27;, &#x27;2020-06-11&#x27;, &#x27;2020-06-12&#x27;,\n       &#x27;2020-06-15&#x27;, &#x27;2020-06-16&#x27;, &#x27;2020-06-17&#x27;, &#x27;2020-06-18&#x27;, &#x27;2020-06-19&#x27;,\n       &#x27;2020-06-22&#x27;, &#x27;2020-06-23&#x27;, &#x27;2020-06-24&#x27;, &#x27;2020-06-25&#x27;, &#x27;2020-06-26&#x27;,\n       &#x27;2020-06-29&#x27;, &#x27;2020-06-30&#x27;, &#x27;2020-07-01&#x27;, &#x27;2020-07-02&#x27;, &#x27;2020-07-03&#x27;,\n       &#x27;2020-07-06&#x27;, &#x27;2020-07-07&#x27;, &#x27;2020-07-08&#x27;, &#x27;2020-07-09&#x27;, &#x27;2020-07-10&#x27;,\n       &#x27;2020-07-13&#x27;, &#x27;2020-07-14&#x27;, &#x27;2020-07-15&#x27;, &#x27;2020-07-16&#x27;, &#x27;2020-07-17&#x27;,\n       &#x27;2020-07-20&#x27;, &#x27;2020-07-21&#x27;, &#x27;2020-07-22&#x27;, &#x27;2020-07-23&#x27;, &#x27;2020-07-24&#x27;,\n       &#x27;2020-07-27&#x27;, &#x27;2020-07-28&#x27;, &#x27;2020-07-29&#x27;, &#x27;2020-07-30&#x27;, &#x27;2020-07-31&#x27;,\n       &#x27;2020-08-03&#x27;, &#x27;2020-08-04&#x27;, &#x27;2020-08-05&#x27;, &#x27;2020-08-06&#x27;, &#x27;2020-08-07&#x27;,\n       &#x27;2020-08-10&#x27;, &#x27;2020-08-11&#x27;, &#x27;2020-08-12&#x27;, &#x27;2020-08-13&#x27;, &#x27;2020-08-14&#x27;,\n       &#x27;2020-08-17&#x27;, &#x27;2020-08-18&#x27;, &#x27;2020-08-19&#x27;, &#x27;2020-08-20&#x27;, &#x27;2020-08-21&#x27;,\n       &#x27;2020-08-24&#x27;, &#x27;2020-08-25&#x27;, &#x27;2020-08-26&#x27;, &#x27;2020-08-27&#x27;, &#x27;2020-08-28&#x27;],\n      dtype=object)</pre></div></li><li class='xr-var-item'><div class='xr-var-name'><span class='xr-has-index'>iso_code2</span></div><div class='xr-var-dims'>(iso_code2)</div><div class='xr-var-dtype'>object</div><div class='xr-var-preview xr-preview'>&#x27;CA&#x27; &#x27;AT&#x27; &#x27;ES&#x27;</div><input id='attrs-301df3b8-0257-4cd8-a3cd-bb064b7edd57' class='xr-var-attrs-in' type='checkbox' disabled><label for='attrs-301df3b8-0257-4cd8-a3cd-bb064b7edd57' title='Show/Hide attributes'><svg class='icon xr-icon-file-text2'><use xlink:href='#icon-file-text2'></use></svg></label><input id='data-b12ec740-c51f-4925-9429-546f0c6b9bed' class='xr-var-data-in' type='checkbox'><label for='data-b12ec740-c51f-4925-9429-546f0c6b9bed' title='Show/Hide data repr'><svg class='icon xr-icon-database'><use xlink:href='#icon-database'></use></svg></label><div class='xr-var-attrs'><dl class='xr-attrs'></dl></div><div class='xr-var-data'><pre>array([&#x27;CA&#x27;, &#x27;AT&#x27;, &#x27;ES&#x27;], dtype=object)</pre></div></li></ul></div></li><li class='xr-section-item'><input id='section-45269d05-931a-4f92-b1f6-cbbc0dc3e478' class='xr-section-summary-in' type='checkbox'  checked><label for='section-45269d05-931a-4f92-b1f6-cbbc0dc3e478' class='xr-section-summary' >Data variables: <span>(3)</span></label><div class='xr-section-inline-details'></div><div class='xr-section-details'><ul class='xr-var-list'><li class='xr-var-item'><div class='xr-var-name'><span>close</span></div><div class='xr-var-dims'>(date, iso_code2)</div><div class='xr-var-dtype'>float64</div><div class='xr-var-preview xr-preview'>0.7198 1.091 1.091 ... 1.191 1.191</div><input id='attrs-0d5be99c-8217-4677-b7c0-5a733ec23368' class='xr-var-attrs-in' type='checkbox' disabled><label for='attrs-0d5be99c-8217-4677-b7c0-5a733ec23368' title='Show/Hide attributes'><svg class='icon xr-icon-file-text2'><use xlink:href='#icon-file-text2'></use></svg></label><input id='data-087f2b59-8081-413c-b57b-405f735d8c2a' class='xr-var-data-in' type='checkbox'><label for='data-087f2b59-8081-413c-b57b-405f735d8c2a' title='Show/Hide data repr'><svg class='icon xr-icon-database'><use xlink:href='#icon-database'></use></svg></label><div class='xr-var-attrs'><dl class='xr-attrs'></dl></div><div class='xr-var-data'><pre>array([[0.7198, 1.0915, 1.0915],\n       [0.7202, 1.0983, 1.0983],\n       [0.7081, 1.0901, 1.0901],\n       [0.712 , 1.086 , 1.086 ],\n       [0.7138, 1.0874, 1.0874],\n       [0.7076, 1.0864, 1.0864],\n       [0.7041, 1.0854, 1.0854],\n       [0.7058, 1.0823, 1.0823],\n       [0.7105, 1.078 , 1.078 ],\n       [0.7089, 1.0824, 1.0824],\n       [0.7128, 1.0829, 1.0829],\n       [0.7141, 1.0823, 1.0823],\n       [0.7204, 1.0875, 1.0875],\n       [0.7164, 1.0943, 1.0943],\n       [0.7094, 1.098 , 1.098 ],\n       [0.7098, 1.0904, 1.0904],\n       [0.7129, 1.0844, 1.0844],\n       [0.7055, 1.0797, 1.0797],\n       [0.716 , 1.0838, 1.0838],\n       [0.7175, 1.0838, 1.0838],\n...\n       [0.746 , 1.1758, 1.1758],\n       [0.7509, 1.1798, 1.1798],\n       [0.7537, 1.1872, 1.1872],\n       [0.7509, 1.1881, 1.1881],\n       [0.7466, 1.1787, 1.1787],\n       [0.7484, 1.174 , 1.174 ],\n       [0.7517, 1.1742, 1.1742],\n       [0.7544, 1.1787, 1.1787],\n       [0.7561, 1.1817, 1.1817],\n       [0.7532, 1.1841, 1.1841],\n       [0.7559, 1.1873, 1.1873],\n       [0.7592, 1.1939, 1.1939],\n       [0.7566, 1.1851, 1.1851],\n       [0.7582, 1.1865, 1.1865],\n       [0.7576, 1.1796, 1.1796],\n       [0.7563, 1.1794, 1.1794],\n       [0.7587, 1.1833, 1.1833],\n       [0.7603, 1.1835, 1.1835],\n       [0.7616, 1.1817, 1.1817],\n       [0.7657, 1.1914, 1.1914]])</pre></div></li><li class='xr-var-item'><div class='xr-var-name'><span>currency</span></div><div class='xr-var-dims'>(iso_code2)</div><div class='xr-var-dtype'>object</div><div class='xr-var-preview xr-preview'>&#x27;CAD&#x27; &#x27;EUR&#x27; &#x27;EUR&#x27;</div><input id='attrs-a9891826-d4e3-46f2-838f-3746ce9082f8' class='xr-var-attrs-in' type='checkbox' disabled><label for='attrs-a9891826-d4e3-46f2-838f-3746ce9082f8' title='Show/Hide attributes'><svg class='icon xr-icon-file-text2'><use xlink:href='#icon-file-text2'></use></svg></label><input id='data-10486778-b405-4641-aff2-2d636ede83e6' class='xr-var-data-in' type='checkbox'><label for='data-10486778-b405-4641-aff2-2d636ede83e6' title='Show/Hide data repr'><svg class='icon xr-icon-database'><use xlink:href='#icon-database'></use></svg></label><div class='xr-var-attrs'><dl class='xr-attrs'></dl></div><div class='xr-var-data'><pre>array([&#x27;CAD&#x27;, &#x27;EUR&#x27;, &#x27;EUR&#x27;], dtype=object)</pre></div></li><li class='xr-var-item'><div class='xr-var-name'><span>country</span></div><div class='xr-var-dims'>(iso_code2)</div><div class='xr-var-dtype'>object</div><div class='xr-var-preview xr-preview'>&#x27;Canada&#x27; &#x27;Austria&#x27; &#x27;Spain&#x27;</div><input id='attrs-4aee5303-9c80-4084-a032-90c9a18df43f' class='xr-var-attrs-in' type='checkbox' disabled><label for='attrs-4aee5303-9c80-4084-a032-90c9a18df43f' title='Show/Hide attributes'><svg class='icon xr-icon-file-text2'><use xlink:href='#icon-file-text2'></use></svg></label><input id='data-257cbd7c-ab65-4f02-a177-ff9e2bbed6bf' class='xr-var-data-in' type='checkbox'><label for='data-257cbd7c-ab65-4f02-a177-ff9e2bbed6bf' title='Show/Hide data repr'><svg class='icon xr-icon-database'><use xlink:href='#icon-database'></use></svg></label><div class='xr-var-attrs'><dl class='xr-attrs'></dl></div><div class='xr-var-data'><pre>array([&#x27;Canada&#x27;, &#x27;Austria&#x27;, &#x27;Spain&#x27;], dtype=object)</pre></div></li></ul></div></li><li class='xr-section-item'><input id='section-6e530da9-dc2f-473f-9df6-e0f3f4e316bb' class='xr-section-summary-in' type='checkbox' disabled ><label for='section-6e530da9-dc2f-473f-9df6-e0f3f4e316bb' class='xr-section-summary'  title='Expand/collapse section'>Attributes: <span>(0)</span></label><div class='xr-section-inline-details'></div><div class='xr-section-details'><dl class='xr-attrs'></dl></div></li></ul></div></div>"
     },
     "metadata": {},
     "execution_count": 224
    }
   ],
   "source": [
    "# select from dataset, pass dict with coordinates as keys and values/slices/boolean indexes as values\n",
    "dst.sel(dict(iso_code2=dst.iso_code2.isin(['CA', 'AT', 'ES']))) "
   ]
  },
  {
   "cell_type": "code",
   "execution_count": 235,
   "metadata": {},
   "outputs": [],
   "source": [
    "open_df = tmp['open'].droplevel(['currency', 'country'], axis=1)\n",
    "open_df.index.name = 'date'\n",
    "dst['open'] = open_df"
   ]
  },
  {
   "cell_type": "code",
   "execution_count": 236,
   "metadata": {},
   "outputs": [
    {
     "output_type": "execute_result",
     "data": {
      "text/plain": "['close', 'currency', 'country', 'open']"
     },
     "metadata": {},
     "execution_count": 236
    }
   ],
   "source": [
    "list(dst.keys())  # get variable list"
   ]
  },
  {
   "cell_type": "code",
   "execution_count": 237,
   "metadata": {},
   "outputs": [
    {
     "output_type": "execute_result",
     "data": {
      "text/plain": "<xarray.Dataset>\nDimensions:    (date: 100, iso_code2: 35)\nCoordinates:\n  * date       (date) object '2020-04-13' '2020-04-14' ... '2020-08-28'\n  * iso_code2  (iso_code2) object 'CA' 'AX' 'AD' 'AT' ... 'SI' 'ES' 'JP' 'SE'\nData variables:\n    close      (date, iso_code2) float64 0.7198 1.091 1.091 ... 0.0095 0.1156\n    currency   (iso_code2) object 'CAD' 'EUR' 'EUR' 'EUR' ... 'EUR' 'JPY' 'SEK'\n    country    (iso_code2) object 'Canada' 'Aland Islands' ... 'Japan' 'Sweden'\n    open       (date, iso_code2) float64 0.7147 1.094 1.094 ... 0.0094 0.1141",
      "text/html": "<div><svg style=\"position: absolute; width: 0; height: 0; overflow: hidden\">\n<defs>\n<symbol id=\"icon-database\" viewBox=\"0 0 32 32\">\n<path d=\"M16 0c-8.837 0-16 2.239-16 5v4c0 2.761 7.163 5 16 5s16-2.239 16-5v-4c0-2.761-7.163-5-16-5z\"></path>\n<path d=\"M16 17c-8.837 0-16-2.239-16-5v6c0 2.761 7.163 5 16 5s16-2.239 16-5v-6c0 2.761-7.163 5-16 5z\"></path>\n<path d=\"M16 26c-8.837 0-16-2.239-16-5v6c0 2.761 7.163 5 16 5s16-2.239 16-5v-6c0 2.761-7.163 5-16 5z\"></path>\n</symbol>\n<symbol id=\"icon-file-text2\" viewBox=\"0 0 32 32\">\n<path d=\"M28.681 7.159c-0.694-0.947-1.662-2.053-2.724-3.116s-2.169-2.030-3.116-2.724c-1.612-1.182-2.393-1.319-2.841-1.319h-15.5c-1.378 0-2.5 1.121-2.5 2.5v27c0 1.378 1.122 2.5 2.5 2.5h23c1.378 0 2.5-1.122 2.5-2.5v-19.5c0-0.448-0.137-1.23-1.319-2.841zM24.543 5.457c0.959 0.959 1.712 1.825 2.268 2.543h-4.811v-4.811c0.718 0.556 1.584 1.309 2.543 2.268zM28 29.5c0 0.271-0.229 0.5-0.5 0.5h-23c-0.271 0-0.5-0.229-0.5-0.5v-27c0-0.271 0.229-0.5 0.5-0.5 0 0 15.499-0 15.5 0v7c0 0.552 0.448 1 1 1h7v19.5z\"></path>\n<path d=\"M23 26h-14c-0.552 0-1-0.448-1-1s0.448-1 1-1h14c0.552 0 1 0.448 1 1s-0.448 1-1 1z\"></path>\n<path d=\"M23 22h-14c-0.552 0-1-0.448-1-1s0.448-1 1-1h14c0.552 0 1 0.448 1 1s-0.448 1-1 1z\"></path>\n<path d=\"M23 18h-14c-0.552 0-1-0.448-1-1s0.448-1 1-1h14c0.552 0 1 0.448 1 1s-0.448 1-1 1z\"></path>\n</symbol>\n</defs>\n</svg>\n<style>/* CSS stylesheet for displaying xarray objects in jupyterlab.\n *\n */\n\n:root {\n  --xr-font-color0: var(--jp-content-font-color0, rgba(0, 0, 0, 1));\n  --xr-font-color2: var(--jp-content-font-color2, rgba(0, 0, 0, 0.54));\n  --xr-font-color3: var(--jp-content-font-color3, rgba(0, 0, 0, 0.38));\n  --xr-border-color: var(--jp-border-color2, #e0e0e0);\n  --xr-disabled-color: var(--jp-layout-color3, #bdbdbd);\n  --xr-background-color: var(--jp-layout-color0, white);\n  --xr-background-color-row-even: var(--jp-layout-color1, white);\n  --xr-background-color-row-odd: var(--jp-layout-color2, #eeeeee);\n}\n\nhtml[theme=dark],\nbody.vscode-dark {\n  --xr-font-color0: rgba(255, 255, 255, 1);\n  --xr-font-color2: rgba(255, 255, 255, 0.54);\n  --xr-font-color3: rgba(255, 255, 255, 0.38);\n  --xr-border-color: #1F1F1F;\n  --xr-disabled-color: #515151;\n  --xr-background-color: #111111;\n  --xr-background-color-row-even: #111111;\n  --xr-background-color-row-odd: #313131;\n}\n\n.xr-wrap {\n  display: block;\n  min-width: 300px;\n  max-width: 700px;\n}\n\n.xr-text-repr-fallback {\n  /* fallback to plain text repr when CSS is not injected (untrusted notebook) */\n  display: none;\n}\n\n.xr-header {\n  padding-top: 6px;\n  padding-bottom: 6px;\n  margin-bottom: 4px;\n  border-bottom: solid 1px var(--xr-border-color);\n}\n\n.xr-header > div,\n.xr-header > ul {\n  display: inline;\n  margin-top: 0;\n  margin-bottom: 0;\n}\n\n.xr-obj-type,\n.xr-array-name {\n  margin-left: 2px;\n  margin-right: 10px;\n}\n\n.xr-obj-type {\n  color: var(--xr-font-color2);\n}\n\n.xr-sections {\n  padding-left: 0 !important;\n  display: grid;\n  grid-template-columns: 150px auto auto 1fr 20px 20px;\n}\n\n.xr-section-item {\n  display: contents;\n}\n\n.xr-section-item input {\n  display: none;\n}\n\n.xr-section-item input + label {\n  color: var(--xr-disabled-color);\n}\n\n.xr-section-item input:enabled + label {\n  cursor: pointer;\n  color: var(--xr-font-color2);\n}\n\n.xr-section-item input:enabled + label:hover {\n  color: var(--xr-font-color0);\n}\n\n.xr-section-summary {\n  grid-column: 1;\n  color: var(--xr-font-color2);\n  font-weight: 500;\n}\n\n.xr-section-summary > span {\n  display: inline-block;\n  padding-left: 0.5em;\n}\n\n.xr-section-summary-in:disabled + label {\n  color: var(--xr-font-color2);\n}\n\n.xr-section-summary-in + label:before {\n  display: inline-block;\n  content: '►';\n  font-size: 11px;\n  width: 15px;\n  text-align: center;\n}\n\n.xr-section-summary-in:disabled + label:before {\n  color: var(--xr-disabled-color);\n}\n\n.xr-section-summary-in:checked + label:before {\n  content: '▼';\n}\n\n.xr-section-summary-in:checked + label > span {\n  display: none;\n}\n\n.xr-section-summary,\n.xr-section-inline-details {\n  padding-top: 4px;\n  padding-bottom: 4px;\n}\n\n.xr-section-inline-details {\n  grid-column: 2 / -1;\n}\n\n.xr-section-details {\n  display: none;\n  grid-column: 1 / -1;\n  margin-bottom: 5px;\n}\n\n.xr-section-summary-in:checked ~ .xr-section-details {\n  display: contents;\n}\n\n.xr-array-wrap {\n  grid-column: 1 / -1;\n  display: grid;\n  grid-template-columns: 20px auto;\n}\n\n.xr-array-wrap > label {\n  grid-column: 1;\n  vertical-align: top;\n}\n\n.xr-preview {\n  color: var(--xr-font-color3);\n}\n\n.xr-array-preview,\n.xr-array-data {\n  padding: 0 5px !important;\n  grid-column: 2;\n}\n\n.xr-array-data,\n.xr-array-in:checked ~ .xr-array-preview {\n  display: none;\n}\n\n.xr-array-in:checked ~ .xr-array-data,\n.xr-array-preview {\n  display: inline-block;\n}\n\n.xr-dim-list {\n  display: inline-block !important;\n  list-style: none;\n  padding: 0 !important;\n  margin: 0;\n}\n\n.xr-dim-list li {\n  display: inline-block;\n  padding: 0;\n  margin: 0;\n}\n\n.xr-dim-list:before {\n  content: '(';\n}\n\n.xr-dim-list:after {\n  content: ')';\n}\n\n.xr-dim-list li:not(:last-child):after {\n  content: ',';\n  padding-right: 5px;\n}\n\n.xr-has-index {\n  font-weight: bold;\n}\n\n.xr-var-list,\n.xr-var-item {\n  display: contents;\n}\n\n.xr-var-item > div,\n.xr-var-item label,\n.xr-var-item > .xr-var-name span {\n  background-color: var(--xr-background-color-row-even);\n  margin-bottom: 0;\n}\n\n.xr-var-item > .xr-var-name:hover span {\n  padding-right: 5px;\n}\n\n.xr-var-list > li:nth-child(odd) > div,\n.xr-var-list > li:nth-child(odd) > label,\n.xr-var-list > li:nth-child(odd) > .xr-var-name span {\n  background-color: var(--xr-background-color-row-odd);\n}\n\n.xr-var-name {\n  grid-column: 1;\n}\n\n.xr-var-dims {\n  grid-column: 2;\n}\n\n.xr-var-dtype {\n  grid-column: 3;\n  text-align: right;\n  color: var(--xr-font-color2);\n}\n\n.xr-var-preview {\n  grid-column: 4;\n}\n\n.xr-var-name,\n.xr-var-dims,\n.xr-var-dtype,\n.xr-preview,\n.xr-attrs dt {\n  white-space: nowrap;\n  overflow: hidden;\n  text-overflow: ellipsis;\n  padding-right: 10px;\n}\n\n.xr-var-name:hover,\n.xr-var-dims:hover,\n.xr-var-dtype:hover,\n.xr-attrs dt:hover {\n  overflow: visible;\n  width: auto;\n  z-index: 1;\n}\n\n.xr-var-attrs,\n.xr-var-data {\n  display: none;\n  background-color: var(--xr-background-color) !important;\n  padding-bottom: 5px !important;\n}\n\n.xr-var-attrs-in:checked ~ .xr-var-attrs,\n.xr-var-data-in:checked ~ .xr-var-data {\n  display: block;\n}\n\n.xr-var-data > table {\n  float: right;\n}\n\n.xr-var-name span,\n.xr-var-data,\n.xr-attrs {\n  padding-left: 25px !important;\n}\n\n.xr-attrs,\n.xr-var-attrs,\n.xr-var-data {\n  grid-column: 1 / -1;\n}\n\ndl.xr-attrs {\n  padding: 0;\n  margin: 0;\n  display: grid;\n  grid-template-columns: 125px auto;\n}\n\n.xr-attrs dt, dd {\n  padding: 0;\n  margin: 0;\n  float: left;\n  padding-right: 10px;\n  width: auto;\n}\n\n.xr-attrs dt {\n  font-weight: normal;\n  grid-column: 1;\n}\n\n.xr-attrs dt:hover span {\n  display: inline-block;\n  background: var(--xr-background-color);\n  padding-right: 10px;\n}\n\n.xr-attrs dd {\n  grid-column: 2;\n  white-space: pre-wrap;\n  word-break: break-all;\n}\n\n.xr-icon-database,\n.xr-icon-file-text2 {\n  display: inline-block;\n  vertical-align: middle;\n  width: 1em;\n  height: 1.5em !important;\n  stroke-width: 0;\n  stroke: currentColor;\n  fill: currentColor;\n}\n</style><pre class='xr-text-repr-fallback'>&lt;xarray.Dataset&gt;\nDimensions:    (date: 100, iso_code2: 35)\nCoordinates:\n  * date       (date) object &#x27;2020-04-13&#x27; &#x27;2020-04-14&#x27; ... &#x27;2020-08-28&#x27;\n  * iso_code2  (iso_code2) object &#x27;CA&#x27; &#x27;AX&#x27; &#x27;AD&#x27; &#x27;AT&#x27; ... &#x27;SI&#x27; &#x27;ES&#x27; &#x27;JP&#x27; &#x27;SE&#x27;\nData variables:\n    close      (date, iso_code2) float64 0.7198 1.091 1.091 ... 0.0095 0.1156\n    currency   (iso_code2) object &#x27;CAD&#x27; &#x27;EUR&#x27; &#x27;EUR&#x27; &#x27;EUR&#x27; ... &#x27;EUR&#x27; &#x27;JPY&#x27; &#x27;SEK&#x27;\n    country    (iso_code2) object &#x27;Canada&#x27; &#x27;Aland Islands&#x27; ... &#x27;Japan&#x27; &#x27;Sweden&#x27;\n    open       (date, iso_code2) float64 0.7147 1.094 1.094 ... 0.0094 0.1141</pre><div class='xr-wrap' hidden><div class='xr-header'><div class='xr-obj-type'>xarray.Dataset</div></div><ul class='xr-sections'><li class='xr-section-item'><input id='section-c90c8998-ce28-4651-923e-5b8e40a05c3f' class='xr-section-summary-in' type='checkbox' disabled ><label for='section-c90c8998-ce28-4651-923e-5b8e40a05c3f' class='xr-section-summary'  title='Expand/collapse section'>Dimensions:</label><div class='xr-section-inline-details'><ul class='xr-dim-list'><li><span class='xr-has-index'>date</span>: 100</li><li><span class='xr-has-index'>iso_code2</span>: 35</li></ul></div><div class='xr-section-details'></div></li><li class='xr-section-item'><input id='section-386c48ec-f8e0-48b6-9aaa-7790bbbba50b' class='xr-section-summary-in' type='checkbox'  checked><label for='section-386c48ec-f8e0-48b6-9aaa-7790bbbba50b' class='xr-section-summary' >Coordinates: <span>(2)</span></label><div class='xr-section-inline-details'></div><div class='xr-section-details'><ul class='xr-var-list'><li class='xr-var-item'><div class='xr-var-name'><span class='xr-has-index'>date</span></div><div class='xr-var-dims'>(date)</div><div class='xr-var-dtype'>object</div><div class='xr-var-preview xr-preview'>&#x27;2020-04-13&#x27; ... &#x27;2020-08-28&#x27;</div><input id='attrs-80aa7d5f-95cd-4bd0-9daa-81d023838c4b' class='xr-var-attrs-in' type='checkbox' disabled><label for='attrs-80aa7d5f-95cd-4bd0-9daa-81d023838c4b' title='Show/Hide attributes'><svg class='icon xr-icon-file-text2'><use xlink:href='#icon-file-text2'></use></svg></label><input id='data-f6ef1e6a-07e7-4869-9c14-78efa8e8d373' class='xr-var-data-in' type='checkbox'><label for='data-f6ef1e6a-07e7-4869-9c14-78efa8e8d373' title='Show/Hide data repr'><svg class='icon xr-icon-database'><use xlink:href='#icon-database'></use></svg></label><div class='xr-var-attrs'><dl class='xr-attrs'></dl></div><div class='xr-var-data'><pre>array([&#x27;2020-04-13&#x27;, &#x27;2020-04-14&#x27;, &#x27;2020-04-15&#x27;, &#x27;2020-04-16&#x27;, &#x27;2020-04-17&#x27;,\n       &#x27;2020-04-20&#x27;, &#x27;2020-04-21&#x27;, &#x27;2020-04-22&#x27;, &#x27;2020-04-23&#x27;, &#x27;2020-04-24&#x27;,\n       &#x27;2020-04-27&#x27;, &#x27;2020-04-28&#x27;, &#x27;2020-04-29&#x27;, &#x27;2020-04-30&#x27;, &#x27;2020-05-01&#x27;,\n       &#x27;2020-05-04&#x27;, &#x27;2020-05-05&#x27;, &#x27;2020-05-06&#x27;, &#x27;2020-05-07&#x27;, &#x27;2020-05-08&#x27;,\n       &#x27;2020-05-11&#x27;, &#x27;2020-05-12&#x27;, &#x27;2020-05-13&#x27;, &#x27;2020-05-14&#x27;, &#x27;2020-05-15&#x27;,\n       &#x27;2020-05-18&#x27;, &#x27;2020-05-19&#x27;, &#x27;2020-05-20&#x27;, &#x27;2020-05-21&#x27;, &#x27;2020-05-22&#x27;,\n       &#x27;2020-05-25&#x27;, &#x27;2020-05-26&#x27;, &#x27;2020-05-27&#x27;, &#x27;2020-05-28&#x27;, &#x27;2020-05-29&#x27;,\n       &#x27;2020-06-01&#x27;, &#x27;2020-06-02&#x27;, &#x27;2020-06-03&#x27;, &#x27;2020-06-04&#x27;, &#x27;2020-06-05&#x27;,\n       &#x27;2020-06-08&#x27;, &#x27;2020-06-09&#x27;, &#x27;2020-06-10&#x27;, &#x27;2020-06-11&#x27;, &#x27;2020-06-12&#x27;,\n       &#x27;2020-06-15&#x27;, &#x27;2020-06-16&#x27;, &#x27;2020-06-17&#x27;, &#x27;2020-06-18&#x27;, &#x27;2020-06-19&#x27;,\n       &#x27;2020-06-22&#x27;, &#x27;2020-06-23&#x27;, &#x27;2020-06-24&#x27;, &#x27;2020-06-25&#x27;, &#x27;2020-06-26&#x27;,\n       &#x27;2020-06-29&#x27;, &#x27;2020-06-30&#x27;, &#x27;2020-07-01&#x27;, &#x27;2020-07-02&#x27;, &#x27;2020-07-03&#x27;,\n       &#x27;2020-07-06&#x27;, &#x27;2020-07-07&#x27;, &#x27;2020-07-08&#x27;, &#x27;2020-07-09&#x27;, &#x27;2020-07-10&#x27;,\n       &#x27;2020-07-13&#x27;, &#x27;2020-07-14&#x27;, &#x27;2020-07-15&#x27;, &#x27;2020-07-16&#x27;, &#x27;2020-07-17&#x27;,\n       &#x27;2020-07-20&#x27;, &#x27;2020-07-21&#x27;, &#x27;2020-07-22&#x27;, &#x27;2020-07-23&#x27;, &#x27;2020-07-24&#x27;,\n       &#x27;2020-07-27&#x27;, &#x27;2020-07-28&#x27;, &#x27;2020-07-29&#x27;, &#x27;2020-07-30&#x27;, &#x27;2020-07-31&#x27;,\n       &#x27;2020-08-03&#x27;, &#x27;2020-08-04&#x27;, &#x27;2020-08-05&#x27;, &#x27;2020-08-06&#x27;, &#x27;2020-08-07&#x27;,\n       &#x27;2020-08-10&#x27;, &#x27;2020-08-11&#x27;, &#x27;2020-08-12&#x27;, &#x27;2020-08-13&#x27;, &#x27;2020-08-14&#x27;,\n       &#x27;2020-08-17&#x27;, &#x27;2020-08-18&#x27;, &#x27;2020-08-19&#x27;, &#x27;2020-08-20&#x27;, &#x27;2020-08-21&#x27;,\n       &#x27;2020-08-24&#x27;, &#x27;2020-08-25&#x27;, &#x27;2020-08-26&#x27;, &#x27;2020-08-27&#x27;, &#x27;2020-08-28&#x27;],\n      dtype=object)</pre></div></li><li class='xr-var-item'><div class='xr-var-name'><span class='xr-has-index'>iso_code2</span></div><div class='xr-var-dims'>(iso_code2)</div><div class='xr-var-dtype'>object</div><div class='xr-var-preview xr-preview'>&#x27;CA&#x27; &#x27;AX&#x27; &#x27;AD&#x27; ... &#x27;ES&#x27; &#x27;JP&#x27; &#x27;SE&#x27;</div><input id='attrs-cab67807-cc04-4bcc-975c-cb6f6427d43b' class='xr-var-attrs-in' type='checkbox' disabled><label for='attrs-cab67807-cc04-4bcc-975c-cb6f6427d43b' title='Show/Hide attributes'><svg class='icon xr-icon-file-text2'><use xlink:href='#icon-file-text2'></use></svg></label><input id='data-f69a4699-50b7-453b-b581-f7ef9fb6b8f1' class='xr-var-data-in' type='checkbox'><label for='data-f69a4699-50b7-453b-b581-f7ef9fb6b8f1' title='Show/Hide data repr'><svg class='icon xr-icon-database'><use xlink:href='#icon-database'></use></svg></label><div class='xr-var-attrs'><dl class='xr-attrs'></dl></div><div class='xr-var-data'><pre>array([&#x27;CA&#x27;, &#x27;AX&#x27;, &#x27;AD&#x27;, &#x27;AT&#x27;, &#x27;BE&#x27;, &#x27;CY&#x27;, &#x27;EE&#x27;, &#x27;FI&#x27;, &#x27;FR&#x27;, &#x27;GF&#x27;, &#x27;TF&#x27;, &#x27;DE&#x27;,\n       &#x27;GR&#x27;, &#x27;GP&#x27;, &#x27;VA&#x27;, &#x27;IE&#x27;, &#x27;IT&#x27;, &#x27;LV&#x27;, &#x27;LT&#x27;, &#x27;LU&#x27;, &#x27;MT&#x27;, &#x27;MQ&#x27;, &#x27;YT&#x27;, &#x27;MC&#x27;,\n       &#x27;ME&#x27;, &#x27;NL&#x27;, &#x27;PT&#x27;, &#x27;MF&#x27;, &#x27;PM&#x27;, &#x27;SM&#x27;, &#x27;SK&#x27;, &#x27;SI&#x27;, &#x27;ES&#x27;, &#x27;JP&#x27;, &#x27;SE&#x27;],\n      dtype=object)</pre></div></li></ul></div></li><li class='xr-section-item'><input id='section-b15482b0-819f-4599-96a1-ee1725dfc7c2' class='xr-section-summary-in' type='checkbox'  checked><label for='section-b15482b0-819f-4599-96a1-ee1725dfc7c2' class='xr-section-summary' >Data variables: <span>(4)</span></label><div class='xr-section-inline-details'></div><div class='xr-section-details'><ul class='xr-var-list'><li class='xr-var-item'><div class='xr-var-name'><span>close</span></div><div class='xr-var-dims'>(date, iso_code2)</div><div class='xr-var-dtype'>float64</div><div class='xr-var-preview xr-preview'>0.7198 1.091 ... 0.0095 0.1156</div><input id='attrs-f69085bd-060c-44c4-b396-6fad84db605c' class='xr-var-attrs-in' type='checkbox' disabled><label for='attrs-f69085bd-060c-44c4-b396-6fad84db605c' title='Show/Hide attributes'><svg class='icon xr-icon-file-text2'><use xlink:href='#icon-file-text2'></use></svg></label><input id='data-c1b113de-db19-45dc-9faa-e77ac42b3185' class='xr-var-data-in' type='checkbox'><label for='data-c1b113de-db19-45dc-9faa-e77ac42b3185' title='Show/Hide data repr'><svg class='icon xr-icon-database'><use xlink:href='#icon-database'></use></svg></label><div class='xr-var-attrs'><dl class='xr-attrs'></dl></div><div class='xr-var-data'><pre>array([[0.7198, 1.0915, 1.0915, ..., 1.0915, 0.0093, 0.0995],\n       [0.7202, 1.0983, 1.0983, ..., 1.0983, 0.0093, 0.1002],\n       [0.7081, 1.0901, 1.0901, ..., 1.0901, 0.0093, 0.0992],\n       ...,\n       [0.7603, 1.1835, 1.1835, ..., 1.1835, 0.0094, 0.1142],\n       [0.7616, 1.1817, 1.1817, ..., 1.1817, 0.0094, 0.1141],\n       [0.7657, 1.1914, 1.1914, ..., 1.1914, 0.0095, 0.1156]])</pre></div></li><li class='xr-var-item'><div class='xr-var-name'><span>currency</span></div><div class='xr-var-dims'>(iso_code2)</div><div class='xr-var-dtype'>object</div><div class='xr-var-preview xr-preview'>&#x27;CAD&#x27; &#x27;EUR&#x27; &#x27;EUR&#x27; ... &#x27;JPY&#x27; &#x27;SEK&#x27;</div><input id='attrs-babb521b-e3f6-4e9d-b75d-dff849dc6a0d' class='xr-var-attrs-in' type='checkbox' disabled><label for='attrs-babb521b-e3f6-4e9d-b75d-dff849dc6a0d' title='Show/Hide attributes'><svg class='icon xr-icon-file-text2'><use xlink:href='#icon-file-text2'></use></svg></label><input id='data-09a616a3-fbf7-430c-8d1d-b5c69d40a552' class='xr-var-data-in' type='checkbox'><label for='data-09a616a3-fbf7-430c-8d1d-b5c69d40a552' title='Show/Hide data repr'><svg class='icon xr-icon-database'><use xlink:href='#icon-database'></use></svg></label><div class='xr-var-attrs'><dl class='xr-attrs'></dl></div><div class='xr-var-data'><pre>array([&#x27;CAD&#x27;, &#x27;EUR&#x27;, &#x27;EUR&#x27;, &#x27;EUR&#x27;, &#x27;EUR&#x27;, &#x27;EUR&#x27;, &#x27;EUR&#x27;, &#x27;EUR&#x27;, &#x27;EUR&#x27;,\n       &#x27;EUR&#x27;, &#x27;EUR&#x27;, &#x27;EUR&#x27;, &#x27;EUR&#x27;, &#x27;EUR&#x27;, &#x27;EUR&#x27;, &#x27;EUR&#x27;, &#x27;EUR&#x27;, &#x27;EUR&#x27;,\n       &#x27;EUR&#x27;, &#x27;EUR&#x27;, &#x27;EUR&#x27;, &#x27;EUR&#x27;, &#x27;EUR&#x27;, &#x27;EUR&#x27;, &#x27;EUR&#x27;, &#x27;EUR&#x27;, &#x27;EUR&#x27;,\n       &#x27;EUR&#x27;, &#x27;EUR&#x27;, &#x27;EUR&#x27;, &#x27;EUR&#x27;, &#x27;EUR&#x27;, &#x27;EUR&#x27;, &#x27;JPY&#x27;, &#x27;SEK&#x27;],\n      dtype=object)</pre></div></li><li class='xr-var-item'><div class='xr-var-name'><span>country</span></div><div class='xr-var-dims'>(iso_code2)</div><div class='xr-var-dtype'>object</div><div class='xr-var-preview xr-preview'>&#x27;Canada&#x27; ... &#x27;Sweden&#x27;</div><input id='attrs-a7bb1466-33e8-4fc9-8869-ed4732f7e641' class='xr-var-attrs-in' type='checkbox' disabled><label for='attrs-a7bb1466-33e8-4fc9-8869-ed4732f7e641' title='Show/Hide attributes'><svg class='icon xr-icon-file-text2'><use xlink:href='#icon-file-text2'></use></svg></label><input id='data-f27b59a3-3711-4383-ba62-dd159607198c' class='xr-var-data-in' type='checkbox'><label for='data-f27b59a3-3711-4383-ba62-dd159607198c' title='Show/Hide data repr'><svg class='icon xr-icon-database'><use xlink:href='#icon-database'></use></svg></label><div class='xr-var-attrs'><dl class='xr-attrs'></dl></div><div class='xr-var-data'><pre>array([&#x27;Canada&#x27;, &#x27;Aland Islands&#x27;, &#x27;Andorra&#x27;, &#x27;Austria&#x27;, &#x27;Belgium&#x27;,\n       &#x27;Cyprus&#x27;, &#x27;Estonia&#x27;, &#x27;Finland&#x27;, &#x27;France&#x27;, &#x27;French Guiana&#x27;,\n       &#x27;French Southern Territories&#x27;, &#x27;Germany&#x27;, &#x27;Greece&#x27;, &#x27;Guadeloupe&#x27;,\n       &#x27;Holy See&#x27;, &#x27;Ireland&#x27;, &#x27;Italy&#x27;, &#x27;Latvia&#x27;, &#x27;Lithuania&#x27;,\n       &#x27;Luxembourg&#x27;, &#x27;Malta&#x27;, &#x27;Martinique&#x27;, &#x27;Mayotte&#x27;, &#x27;Monaco&#x27;,\n       &#x27;Montenegro&#x27;, &#x27;Netherlands&#x27;, &#x27;Portugal&#x27;, &#x27;Saint Martin&#x27;,\n       &#x27;Saint Pierre and Miquelon&#x27;, &#x27;San Marino&#x27;, &#x27;Slovakia&#x27;, &#x27;Slovenia&#x27;,\n       &#x27;Spain&#x27;, &#x27;Japan&#x27;, &#x27;Sweden&#x27;], dtype=object)</pre></div></li><li class='xr-var-item'><div class='xr-var-name'><span>open</span></div><div class='xr-var-dims'>(date, iso_code2)</div><div class='xr-var-dtype'>float64</div><div class='xr-var-preview xr-preview'>0.7147 1.094 ... 0.0094 0.1141</div><input id='attrs-43dc5155-5d7b-474d-8fa0-c5356079a92a' class='xr-var-attrs-in' type='checkbox' disabled><label for='attrs-43dc5155-5d7b-474d-8fa0-c5356079a92a' title='Show/Hide attributes'><svg class='icon xr-icon-file-text2'><use xlink:href='#icon-file-text2'></use></svg></label><input id='data-c422926e-e215-419e-8f99-018cf780efad' class='xr-var-data-in' type='checkbox'><label for='data-c422926e-e215-419e-8f99-018cf780efad' title='Show/Hide data repr'><svg class='icon xr-icon-database'><use xlink:href='#icon-database'></use></svg></label><div class='xr-var-attrs'><dl class='xr-attrs'></dl></div><div class='xr-var-data'><pre>array([[0.7147, 1.0937, 1.0937, ..., 1.0937, 0.0092, 0.1001],\n       [0.7198, 1.0915, 1.0915, ..., 1.0915, 0.0093, 0.0995],\n       [0.7199, 1.0984, 1.0984, ..., 1.0984, 0.0093, 0.1002],\n       ...,\n       [0.7591, 1.1833, 1.1833, ..., 1.1833, 0.0094, 0.1137],\n       [0.7608, 1.1836, 1.1836, ..., 1.1836, 0.0094, 0.1142],\n       [0.7618, 1.182 , 1.182 , ..., 1.182 , 0.0094, 0.1141]])</pre></div></li></ul></div></li><li class='xr-section-item'><input id='section-1c1205ae-372b-4c7b-acf8-791d9f4a0db5' class='xr-section-summary-in' type='checkbox' disabled ><label for='section-1c1205ae-372b-4c7b-acf8-791d9f4a0db5' class='xr-section-summary'  title='Expand/collapse section'>Attributes: <span>(0)</span></label><div class='xr-section-inline-details'></div><div class='xr-section-details'><dl class='xr-attrs'></dl></div></li></ul></div></div>"
     },
     "metadata": {},
     "execution_count": 237
    }
   ],
   "source": [
    "dst"
   ]
  },
  {
   "cell_type": "code",
   "execution_count": 239,
   "metadata": {},
   "outputs": [
    {
     "output_type": "execute_result",
     "data": {
      "text/plain": "<xarray.Dataset>\nDimensions:    (date: 100, iso_code2: 2)\nCoordinates:\n  * date       (date) object '2020-04-13' '2020-04-14' ... '2020-08-28'\n  * iso_code2  (iso_code2) object 'CA' 'ES'\nData variables:\n    close      (date, iso_code2) float64 0.7198 1.091 0.7202 ... 0.7657 1.191\n    currency   (iso_code2) object 'CAD' 'EUR'\n    country    (iso_code2) object 'Canada' 'Spain'\n    open       (date, iso_code2) float64 0.7147 1.094 0.7198 ... 0.7618 1.182",
      "text/html": "<div><svg style=\"position: absolute; width: 0; height: 0; overflow: hidden\">\n<defs>\n<symbol id=\"icon-database\" viewBox=\"0 0 32 32\">\n<path d=\"M16 0c-8.837 0-16 2.239-16 5v4c0 2.761 7.163 5 16 5s16-2.239 16-5v-4c0-2.761-7.163-5-16-5z\"></path>\n<path d=\"M16 17c-8.837 0-16-2.239-16-5v6c0 2.761 7.163 5 16 5s16-2.239 16-5v-6c0 2.761-7.163 5-16 5z\"></path>\n<path d=\"M16 26c-8.837 0-16-2.239-16-5v6c0 2.761 7.163 5 16 5s16-2.239 16-5v-6c0 2.761-7.163 5-16 5z\"></path>\n</symbol>\n<symbol id=\"icon-file-text2\" viewBox=\"0 0 32 32\">\n<path d=\"M28.681 7.159c-0.694-0.947-1.662-2.053-2.724-3.116s-2.169-2.030-3.116-2.724c-1.612-1.182-2.393-1.319-2.841-1.319h-15.5c-1.378 0-2.5 1.121-2.5 2.5v27c0 1.378 1.122 2.5 2.5 2.5h23c1.378 0 2.5-1.122 2.5-2.5v-19.5c0-0.448-0.137-1.23-1.319-2.841zM24.543 5.457c0.959 0.959 1.712 1.825 2.268 2.543h-4.811v-4.811c0.718 0.556 1.584 1.309 2.543 2.268zM28 29.5c0 0.271-0.229 0.5-0.5 0.5h-23c-0.271 0-0.5-0.229-0.5-0.5v-27c0-0.271 0.229-0.5 0.5-0.5 0 0 15.499-0 15.5 0v7c0 0.552 0.448 1 1 1h7v19.5z\"></path>\n<path d=\"M23 26h-14c-0.552 0-1-0.448-1-1s0.448-1 1-1h14c0.552 0 1 0.448 1 1s-0.448 1-1 1z\"></path>\n<path d=\"M23 22h-14c-0.552 0-1-0.448-1-1s0.448-1 1-1h14c0.552 0 1 0.448 1 1s-0.448 1-1 1z\"></path>\n<path d=\"M23 18h-14c-0.552 0-1-0.448-1-1s0.448-1 1-1h14c0.552 0 1 0.448 1 1s-0.448 1-1 1z\"></path>\n</symbol>\n</defs>\n</svg>\n<style>/* CSS stylesheet for displaying xarray objects in jupyterlab.\n *\n */\n\n:root {\n  --xr-font-color0: var(--jp-content-font-color0, rgba(0, 0, 0, 1));\n  --xr-font-color2: var(--jp-content-font-color2, rgba(0, 0, 0, 0.54));\n  --xr-font-color3: var(--jp-content-font-color3, rgba(0, 0, 0, 0.38));\n  --xr-border-color: var(--jp-border-color2, #e0e0e0);\n  --xr-disabled-color: var(--jp-layout-color3, #bdbdbd);\n  --xr-background-color: var(--jp-layout-color0, white);\n  --xr-background-color-row-even: var(--jp-layout-color1, white);\n  --xr-background-color-row-odd: var(--jp-layout-color2, #eeeeee);\n}\n\nhtml[theme=dark],\nbody.vscode-dark {\n  --xr-font-color0: rgba(255, 255, 255, 1);\n  --xr-font-color2: rgba(255, 255, 255, 0.54);\n  --xr-font-color3: rgba(255, 255, 255, 0.38);\n  --xr-border-color: #1F1F1F;\n  --xr-disabled-color: #515151;\n  --xr-background-color: #111111;\n  --xr-background-color-row-even: #111111;\n  --xr-background-color-row-odd: #313131;\n}\n\n.xr-wrap {\n  display: block;\n  min-width: 300px;\n  max-width: 700px;\n}\n\n.xr-text-repr-fallback {\n  /* fallback to plain text repr when CSS is not injected (untrusted notebook) */\n  display: none;\n}\n\n.xr-header {\n  padding-top: 6px;\n  padding-bottom: 6px;\n  margin-bottom: 4px;\n  border-bottom: solid 1px var(--xr-border-color);\n}\n\n.xr-header > div,\n.xr-header > ul {\n  display: inline;\n  margin-top: 0;\n  margin-bottom: 0;\n}\n\n.xr-obj-type,\n.xr-array-name {\n  margin-left: 2px;\n  margin-right: 10px;\n}\n\n.xr-obj-type {\n  color: var(--xr-font-color2);\n}\n\n.xr-sections {\n  padding-left: 0 !important;\n  display: grid;\n  grid-template-columns: 150px auto auto 1fr 20px 20px;\n}\n\n.xr-section-item {\n  display: contents;\n}\n\n.xr-section-item input {\n  display: none;\n}\n\n.xr-section-item input + label {\n  color: var(--xr-disabled-color);\n}\n\n.xr-section-item input:enabled + label {\n  cursor: pointer;\n  color: var(--xr-font-color2);\n}\n\n.xr-section-item input:enabled + label:hover {\n  color: var(--xr-font-color0);\n}\n\n.xr-section-summary {\n  grid-column: 1;\n  color: var(--xr-font-color2);\n  font-weight: 500;\n}\n\n.xr-section-summary > span {\n  display: inline-block;\n  padding-left: 0.5em;\n}\n\n.xr-section-summary-in:disabled + label {\n  color: var(--xr-font-color2);\n}\n\n.xr-section-summary-in + label:before {\n  display: inline-block;\n  content: '►';\n  font-size: 11px;\n  width: 15px;\n  text-align: center;\n}\n\n.xr-section-summary-in:disabled + label:before {\n  color: var(--xr-disabled-color);\n}\n\n.xr-section-summary-in:checked + label:before {\n  content: '▼';\n}\n\n.xr-section-summary-in:checked + label > span {\n  display: none;\n}\n\n.xr-section-summary,\n.xr-section-inline-details {\n  padding-top: 4px;\n  padding-bottom: 4px;\n}\n\n.xr-section-inline-details {\n  grid-column: 2 / -1;\n}\n\n.xr-section-details {\n  display: none;\n  grid-column: 1 / -1;\n  margin-bottom: 5px;\n}\n\n.xr-section-summary-in:checked ~ .xr-section-details {\n  display: contents;\n}\n\n.xr-array-wrap {\n  grid-column: 1 / -1;\n  display: grid;\n  grid-template-columns: 20px auto;\n}\n\n.xr-array-wrap > label {\n  grid-column: 1;\n  vertical-align: top;\n}\n\n.xr-preview {\n  color: var(--xr-font-color3);\n}\n\n.xr-array-preview,\n.xr-array-data {\n  padding: 0 5px !important;\n  grid-column: 2;\n}\n\n.xr-array-data,\n.xr-array-in:checked ~ .xr-array-preview {\n  display: none;\n}\n\n.xr-array-in:checked ~ .xr-array-data,\n.xr-array-preview {\n  display: inline-block;\n}\n\n.xr-dim-list {\n  display: inline-block !important;\n  list-style: none;\n  padding: 0 !important;\n  margin: 0;\n}\n\n.xr-dim-list li {\n  display: inline-block;\n  padding: 0;\n  margin: 0;\n}\n\n.xr-dim-list:before {\n  content: '(';\n}\n\n.xr-dim-list:after {\n  content: ')';\n}\n\n.xr-dim-list li:not(:last-child):after {\n  content: ',';\n  padding-right: 5px;\n}\n\n.xr-has-index {\n  font-weight: bold;\n}\n\n.xr-var-list,\n.xr-var-item {\n  display: contents;\n}\n\n.xr-var-item > div,\n.xr-var-item label,\n.xr-var-item > .xr-var-name span {\n  background-color: var(--xr-background-color-row-even);\n  margin-bottom: 0;\n}\n\n.xr-var-item > .xr-var-name:hover span {\n  padding-right: 5px;\n}\n\n.xr-var-list > li:nth-child(odd) > div,\n.xr-var-list > li:nth-child(odd) > label,\n.xr-var-list > li:nth-child(odd) > .xr-var-name span {\n  background-color: var(--xr-background-color-row-odd);\n}\n\n.xr-var-name {\n  grid-column: 1;\n}\n\n.xr-var-dims {\n  grid-column: 2;\n}\n\n.xr-var-dtype {\n  grid-column: 3;\n  text-align: right;\n  color: var(--xr-font-color2);\n}\n\n.xr-var-preview {\n  grid-column: 4;\n}\n\n.xr-var-name,\n.xr-var-dims,\n.xr-var-dtype,\n.xr-preview,\n.xr-attrs dt {\n  white-space: nowrap;\n  overflow: hidden;\n  text-overflow: ellipsis;\n  padding-right: 10px;\n}\n\n.xr-var-name:hover,\n.xr-var-dims:hover,\n.xr-var-dtype:hover,\n.xr-attrs dt:hover {\n  overflow: visible;\n  width: auto;\n  z-index: 1;\n}\n\n.xr-var-attrs,\n.xr-var-data {\n  display: none;\n  background-color: var(--xr-background-color) !important;\n  padding-bottom: 5px !important;\n}\n\n.xr-var-attrs-in:checked ~ .xr-var-attrs,\n.xr-var-data-in:checked ~ .xr-var-data {\n  display: block;\n}\n\n.xr-var-data > table {\n  float: right;\n}\n\n.xr-var-name span,\n.xr-var-data,\n.xr-attrs {\n  padding-left: 25px !important;\n}\n\n.xr-attrs,\n.xr-var-attrs,\n.xr-var-data {\n  grid-column: 1 / -1;\n}\n\ndl.xr-attrs {\n  padding: 0;\n  margin: 0;\n  display: grid;\n  grid-template-columns: 125px auto;\n}\n\n.xr-attrs dt, dd {\n  padding: 0;\n  margin: 0;\n  float: left;\n  padding-right: 10px;\n  width: auto;\n}\n\n.xr-attrs dt {\n  font-weight: normal;\n  grid-column: 1;\n}\n\n.xr-attrs dt:hover span {\n  display: inline-block;\n  background: var(--xr-background-color);\n  padding-right: 10px;\n}\n\n.xr-attrs dd {\n  grid-column: 2;\n  white-space: pre-wrap;\n  word-break: break-all;\n}\n\n.xr-icon-database,\n.xr-icon-file-text2 {\n  display: inline-block;\n  vertical-align: middle;\n  width: 1em;\n  height: 1.5em !important;\n  stroke-width: 0;\n  stroke: currentColor;\n  fill: currentColor;\n}\n</style><pre class='xr-text-repr-fallback'>&lt;xarray.Dataset&gt;\nDimensions:    (date: 100, iso_code2: 2)\nCoordinates:\n  * date       (date) object &#x27;2020-04-13&#x27; &#x27;2020-04-14&#x27; ... &#x27;2020-08-28&#x27;\n  * iso_code2  (iso_code2) object &#x27;CA&#x27; &#x27;ES&#x27;\nData variables:\n    close      (date, iso_code2) float64 0.7198 1.091 0.7202 ... 0.7657 1.191\n    currency   (iso_code2) object &#x27;CAD&#x27; &#x27;EUR&#x27;\n    country    (iso_code2) object &#x27;Canada&#x27; &#x27;Spain&#x27;\n    open       (date, iso_code2) float64 0.7147 1.094 0.7198 ... 0.7618 1.182</pre><div class='xr-wrap' hidden><div class='xr-header'><div class='xr-obj-type'>xarray.Dataset</div></div><ul class='xr-sections'><li class='xr-section-item'><input id='section-f93c3836-4e70-4a38-9936-7f5f6a786078' class='xr-section-summary-in' type='checkbox' disabled ><label for='section-f93c3836-4e70-4a38-9936-7f5f6a786078' class='xr-section-summary'  title='Expand/collapse section'>Dimensions:</label><div class='xr-section-inline-details'><ul class='xr-dim-list'><li><span class='xr-has-index'>date</span>: 100</li><li><span class='xr-has-index'>iso_code2</span>: 2</li></ul></div><div class='xr-section-details'></div></li><li class='xr-section-item'><input id='section-f2772a3f-079a-4817-a362-c6795fe7d614' class='xr-section-summary-in' type='checkbox'  checked><label for='section-f2772a3f-079a-4817-a362-c6795fe7d614' class='xr-section-summary' >Coordinates: <span>(2)</span></label><div class='xr-section-inline-details'></div><div class='xr-section-details'><ul class='xr-var-list'><li class='xr-var-item'><div class='xr-var-name'><span class='xr-has-index'>date</span></div><div class='xr-var-dims'>(date)</div><div class='xr-var-dtype'>object</div><div class='xr-var-preview xr-preview'>&#x27;2020-04-13&#x27; ... &#x27;2020-08-28&#x27;</div><input id='attrs-1f4a7c0c-dbdc-4dd6-9c3a-196e912d2387' class='xr-var-attrs-in' type='checkbox' disabled><label for='attrs-1f4a7c0c-dbdc-4dd6-9c3a-196e912d2387' title='Show/Hide attributes'><svg class='icon xr-icon-file-text2'><use xlink:href='#icon-file-text2'></use></svg></label><input id='data-19ad838d-a5af-419b-a5a5-7309d949765d' class='xr-var-data-in' type='checkbox'><label for='data-19ad838d-a5af-419b-a5a5-7309d949765d' title='Show/Hide data repr'><svg class='icon xr-icon-database'><use xlink:href='#icon-database'></use></svg></label><div class='xr-var-attrs'><dl class='xr-attrs'></dl></div><div class='xr-var-data'><pre>array([&#x27;2020-04-13&#x27;, &#x27;2020-04-14&#x27;, &#x27;2020-04-15&#x27;, &#x27;2020-04-16&#x27;, &#x27;2020-04-17&#x27;,\n       &#x27;2020-04-20&#x27;, &#x27;2020-04-21&#x27;, &#x27;2020-04-22&#x27;, &#x27;2020-04-23&#x27;, &#x27;2020-04-24&#x27;,\n       &#x27;2020-04-27&#x27;, &#x27;2020-04-28&#x27;, &#x27;2020-04-29&#x27;, &#x27;2020-04-30&#x27;, &#x27;2020-05-01&#x27;,\n       &#x27;2020-05-04&#x27;, &#x27;2020-05-05&#x27;, &#x27;2020-05-06&#x27;, &#x27;2020-05-07&#x27;, &#x27;2020-05-08&#x27;,\n       &#x27;2020-05-11&#x27;, &#x27;2020-05-12&#x27;, &#x27;2020-05-13&#x27;, &#x27;2020-05-14&#x27;, &#x27;2020-05-15&#x27;,\n       &#x27;2020-05-18&#x27;, &#x27;2020-05-19&#x27;, &#x27;2020-05-20&#x27;, &#x27;2020-05-21&#x27;, &#x27;2020-05-22&#x27;,\n       &#x27;2020-05-25&#x27;, &#x27;2020-05-26&#x27;, &#x27;2020-05-27&#x27;, &#x27;2020-05-28&#x27;, &#x27;2020-05-29&#x27;,\n       &#x27;2020-06-01&#x27;, &#x27;2020-06-02&#x27;, &#x27;2020-06-03&#x27;, &#x27;2020-06-04&#x27;, &#x27;2020-06-05&#x27;,\n       &#x27;2020-06-08&#x27;, &#x27;2020-06-09&#x27;, &#x27;2020-06-10&#x27;, &#x27;2020-06-11&#x27;, &#x27;2020-06-12&#x27;,\n       &#x27;2020-06-15&#x27;, &#x27;2020-06-16&#x27;, &#x27;2020-06-17&#x27;, &#x27;2020-06-18&#x27;, &#x27;2020-06-19&#x27;,\n       &#x27;2020-06-22&#x27;, &#x27;2020-06-23&#x27;, &#x27;2020-06-24&#x27;, &#x27;2020-06-25&#x27;, &#x27;2020-06-26&#x27;,\n       &#x27;2020-06-29&#x27;, &#x27;2020-06-30&#x27;, &#x27;2020-07-01&#x27;, &#x27;2020-07-02&#x27;, &#x27;2020-07-03&#x27;,\n       &#x27;2020-07-06&#x27;, &#x27;2020-07-07&#x27;, &#x27;2020-07-08&#x27;, &#x27;2020-07-09&#x27;, &#x27;2020-07-10&#x27;,\n       &#x27;2020-07-13&#x27;, &#x27;2020-07-14&#x27;, &#x27;2020-07-15&#x27;, &#x27;2020-07-16&#x27;, &#x27;2020-07-17&#x27;,\n       &#x27;2020-07-20&#x27;, &#x27;2020-07-21&#x27;, &#x27;2020-07-22&#x27;, &#x27;2020-07-23&#x27;, &#x27;2020-07-24&#x27;,\n       &#x27;2020-07-27&#x27;, &#x27;2020-07-28&#x27;, &#x27;2020-07-29&#x27;, &#x27;2020-07-30&#x27;, &#x27;2020-07-31&#x27;,\n       &#x27;2020-08-03&#x27;, &#x27;2020-08-04&#x27;, &#x27;2020-08-05&#x27;, &#x27;2020-08-06&#x27;, &#x27;2020-08-07&#x27;,\n       &#x27;2020-08-10&#x27;, &#x27;2020-08-11&#x27;, &#x27;2020-08-12&#x27;, &#x27;2020-08-13&#x27;, &#x27;2020-08-14&#x27;,\n       &#x27;2020-08-17&#x27;, &#x27;2020-08-18&#x27;, &#x27;2020-08-19&#x27;, &#x27;2020-08-20&#x27;, &#x27;2020-08-21&#x27;,\n       &#x27;2020-08-24&#x27;, &#x27;2020-08-25&#x27;, &#x27;2020-08-26&#x27;, &#x27;2020-08-27&#x27;, &#x27;2020-08-28&#x27;],\n      dtype=object)</pre></div></li><li class='xr-var-item'><div class='xr-var-name'><span class='xr-has-index'>iso_code2</span></div><div class='xr-var-dims'>(iso_code2)</div><div class='xr-var-dtype'>object</div><div class='xr-var-preview xr-preview'>&#x27;CA&#x27; &#x27;ES&#x27;</div><input id='attrs-d6450338-c8de-49df-b9e3-ef7594a59056' class='xr-var-attrs-in' type='checkbox' disabled><label for='attrs-d6450338-c8de-49df-b9e3-ef7594a59056' title='Show/Hide attributes'><svg class='icon xr-icon-file-text2'><use xlink:href='#icon-file-text2'></use></svg></label><input id='data-37175644-0e02-4f4d-932a-410476d608cd' class='xr-var-data-in' type='checkbox'><label for='data-37175644-0e02-4f4d-932a-410476d608cd' title='Show/Hide data repr'><svg class='icon xr-icon-database'><use xlink:href='#icon-database'></use></svg></label><div class='xr-var-attrs'><dl class='xr-attrs'></dl></div><div class='xr-var-data'><pre>array([&#x27;CA&#x27;, &#x27;ES&#x27;], dtype=object)</pre></div></li></ul></div></li><li class='xr-section-item'><input id='section-a3467be8-d032-494b-9a99-5fa19569227f' class='xr-section-summary-in' type='checkbox'  checked><label for='section-a3467be8-d032-494b-9a99-5fa19569227f' class='xr-section-summary' >Data variables: <span>(4)</span></label><div class='xr-section-inline-details'></div><div class='xr-section-details'><ul class='xr-var-list'><li class='xr-var-item'><div class='xr-var-name'><span>close</span></div><div class='xr-var-dims'>(date, iso_code2)</div><div class='xr-var-dtype'>float64</div><div class='xr-var-preview xr-preview'>0.7198 1.091 ... 0.7657 1.191</div><input id='attrs-49b4d772-c0d5-43f0-a5ec-e1242ee802ce' class='xr-var-attrs-in' type='checkbox' disabled><label for='attrs-49b4d772-c0d5-43f0-a5ec-e1242ee802ce' title='Show/Hide attributes'><svg class='icon xr-icon-file-text2'><use xlink:href='#icon-file-text2'></use></svg></label><input id='data-c9ee0ef7-1262-4357-aa1e-d1c5d7f650b0' class='xr-var-data-in' type='checkbox'><label for='data-c9ee0ef7-1262-4357-aa1e-d1c5d7f650b0' title='Show/Hide data repr'><svg class='icon xr-icon-database'><use xlink:href='#icon-database'></use></svg></label><div class='xr-var-attrs'><dl class='xr-attrs'></dl></div><div class='xr-var-data'><pre>array([[0.7198, 1.0915],\n       [0.7202, 1.0983],\n       [0.7081, 1.0901],\n       [0.712 , 1.086 ],\n       [0.7138, 1.0874],\n       [0.7076, 1.0864],\n       [0.7041, 1.0854],\n       [0.7058, 1.0823],\n       [0.7105, 1.078 ],\n       [0.7089, 1.0824],\n       [0.7128, 1.0829],\n       [0.7141, 1.0823],\n       [0.7204, 1.0875],\n       [0.7164, 1.0943],\n       [0.7094, 1.098 ],\n       [0.7098, 1.0904],\n       [0.7129, 1.0844],\n       [0.7055, 1.0797],\n       [0.716 , 1.0838],\n       [0.7175, 1.0838],\n...\n       [0.746 , 1.1758],\n       [0.7509, 1.1798],\n       [0.7537, 1.1872],\n       [0.7509, 1.1881],\n       [0.7466, 1.1787],\n       [0.7484, 1.174 ],\n       [0.7517, 1.1742],\n       [0.7544, 1.1787],\n       [0.7561, 1.1817],\n       [0.7532, 1.1841],\n       [0.7559, 1.1873],\n       [0.7592, 1.1939],\n       [0.7566, 1.1851],\n       [0.7582, 1.1865],\n       [0.7576, 1.1796],\n       [0.7563, 1.1794],\n       [0.7587, 1.1833],\n       [0.7603, 1.1835],\n       [0.7616, 1.1817],\n       [0.7657, 1.1914]])</pre></div></li><li class='xr-var-item'><div class='xr-var-name'><span>currency</span></div><div class='xr-var-dims'>(iso_code2)</div><div class='xr-var-dtype'>object</div><div class='xr-var-preview xr-preview'>&#x27;CAD&#x27; &#x27;EUR&#x27;</div><input id='attrs-952b804f-1112-4f27-88bc-cfa71bb817f1' class='xr-var-attrs-in' type='checkbox' disabled><label for='attrs-952b804f-1112-4f27-88bc-cfa71bb817f1' title='Show/Hide attributes'><svg class='icon xr-icon-file-text2'><use xlink:href='#icon-file-text2'></use></svg></label><input id='data-016d6a6a-e8c5-4acd-98d6-446f69742028' class='xr-var-data-in' type='checkbox'><label for='data-016d6a6a-e8c5-4acd-98d6-446f69742028' title='Show/Hide data repr'><svg class='icon xr-icon-database'><use xlink:href='#icon-database'></use></svg></label><div class='xr-var-attrs'><dl class='xr-attrs'></dl></div><div class='xr-var-data'><pre>array([&#x27;CAD&#x27;, &#x27;EUR&#x27;], dtype=object)</pre></div></li><li class='xr-var-item'><div class='xr-var-name'><span>country</span></div><div class='xr-var-dims'>(iso_code2)</div><div class='xr-var-dtype'>object</div><div class='xr-var-preview xr-preview'>&#x27;Canada&#x27; &#x27;Spain&#x27;</div><input id='attrs-3f64588a-a9c8-4038-bb52-695cf06dcbcb' class='xr-var-attrs-in' type='checkbox' disabled><label for='attrs-3f64588a-a9c8-4038-bb52-695cf06dcbcb' title='Show/Hide attributes'><svg class='icon xr-icon-file-text2'><use xlink:href='#icon-file-text2'></use></svg></label><input id='data-9eb9e290-ed9a-4a0d-8f9e-39b718db24ea' class='xr-var-data-in' type='checkbox'><label for='data-9eb9e290-ed9a-4a0d-8f9e-39b718db24ea' title='Show/Hide data repr'><svg class='icon xr-icon-database'><use xlink:href='#icon-database'></use></svg></label><div class='xr-var-attrs'><dl class='xr-attrs'></dl></div><div class='xr-var-data'><pre>array([&#x27;Canada&#x27;, &#x27;Spain&#x27;], dtype=object)</pre></div></li><li class='xr-var-item'><div class='xr-var-name'><span>open</span></div><div class='xr-var-dims'>(date, iso_code2)</div><div class='xr-var-dtype'>float64</div><div class='xr-var-preview xr-preview'>0.7147 1.094 ... 0.7618 1.182</div><input id='attrs-68ee9720-80bb-4f0e-b2fc-2986884ee23e' class='xr-var-attrs-in' type='checkbox' disabled><label for='attrs-68ee9720-80bb-4f0e-b2fc-2986884ee23e' title='Show/Hide attributes'><svg class='icon xr-icon-file-text2'><use xlink:href='#icon-file-text2'></use></svg></label><input id='data-a16ef5c4-8261-47be-96a2-d5d3b4aa0067' class='xr-var-data-in' type='checkbox'><label for='data-a16ef5c4-8261-47be-96a2-d5d3b4aa0067' title='Show/Hide data repr'><svg class='icon xr-icon-database'><use xlink:href='#icon-database'></use></svg></label><div class='xr-var-attrs'><dl class='xr-attrs'></dl></div><div class='xr-var-data'><pre>array([[0.7147, 1.0937],\n       [0.7198, 1.0915],\n       [0.7199, 1.0984],\n       [0.7081, 1.0902],\n       [0.7118, 1.086 ],\n       [0.7119, 1.0868],\n       [0.708 , 1.0864],\n       [0.7037, 1.0854],\n       [0.7059, 1.0823],\n       [0.7105, 1.078 ],\n       [0.7083, 1.0817],\n       [0.7128, 1.0829],\n       [0.7138, 1.0825],\n       [0.7204, 1.0875],\n       [0.7162, 1.0943],\n       [0.7075, 1.0956],\n       [0.7095, 1.0904],\n       [0.7066, 1.0806],\n       [0.7055, 1.0798],\n       [0.7158, 1.0836],\n...\n       [0.7462, 1.1794],\n       [0.7464, 1.176 ],\n       [0.7509, 1.1798],\n       [0.7538, 1.1873],\n       [0.7513, 1.1881],\n       [0.7468, 1.1776],\n       [0.7483, 1.1742],\n       [0.7514, 1.1744],\n       [0.7547, 1.1787],\n       [0.7561, 1.1817],\n       [0.7541, 1.1842],\n       [0.7559, 1.1872],\n       [0.7597, 1.194 ],\n       [0.7569, 1.1851],\n       [0.7586, 1.1865],\n       [0.7589, 1.1801],\n       [0.7563, 1.1794],\n       [0.7591, 1.1833],\n       [0.7608, 1.1836],\n       [0.7618, 1.182 ]])</pre></div></li></ul></div></li><li class='xr-section-item'><input id='section-37cf3be8-6bf6-4b29-ad33-a6e63e0bb2b6' class='xr-section-summary-in' type='checkbox' disabled ><label for='section-37cf3be8-6bf6-4b29-ad33-a6e63e0bb2b6' class='xr-section-summary'  title='Expand/collapse section'>Attributes: <span>(0)</span></label><div class='xr-section-inline-details'></div><div class='xr-section-details'><dl class='xr-attrs'></dl></div></li></ul></div></div>"
     },
     "metadata": {},
     "execution_count": 239
    }
   ],
   "source": [
    "dst.sel(dict(iso_code2=['CA', 'ES']))"
   ]
  },
  {
   "cell_type": "code",
   "execution_count": 250,
   "metadata": {},
   "outputs": [
    {
     "output_type": "execute_result",
     "data": {
      "text/plain": "<xarray.Dataset>\nDimensions:    (date: 14, iso_code2: 35)\nCoordinates:\n  * date       (date) datetime64[ns] 2020-04-13 2020-04-14 ... 2020-04-30\n  * iso_code2  (iso_code2) object 'CA' 'AX' 'AD' 'AT' ... 'SI' 'ES' 'JP' 'SE'\nData variables:\n    close      (date, iso_code2) float64 0.7198 1.091 1.091 ... 0.0093 0.1019\n    currency   (iso_code2) object 'CAD' 'EUR' 'EUR' 'EUR' ... 'EUR' 'JPY' 'SEK'\n    country    (iso_code2) object 'Canada' 'Aland Islands' ... 'Japan' 'Sweden'\n    open       (date, iso_code2) float64 0.7147 1.094 1.094 ... 0.0094 0.1011",
      "text/html": "<div><svg style=\"position: absolute; width: 0; height: 0; overflow: hidden\">\n<defs>\n<symbol id=\"icon-database\" viewBox=\"0 0 32 32\">\n<path d=\"M16 0c-8.837 0-16 2.239-16 5v4c0 2.761 7.163 5 16 5s16-2.239 16-5v-4c0-2.761-7.163-5-16-5z\"></path>\n<path d=\"M16 17c-8.837 0-16-2.239-16-5v6c0 2.761 7.163 5 16 5s16-2.239 16-5v-6c0 2.761-7.163 5-16 5z\"></path>\n<path d=\"M16 26c-8.837 0-16-2.239-16-5v6c0 2.761 7.163 5 16 5s16-2.239 16-5v-6c0 2.761-7.163 5-16 5z\"></path>\n</symbol>\n<symbol id=\"icon-file-text2\" viewBox=\"0 0 32 32\">\n<path d=\"M28.681 7.159c-0.694-0.947-1.662-2.053-2.724-3.116s-2.169-2.030-3.116-2.724c-1.612-1.182-2.393-1.319-2.841-1.319h-15.5c-1.378 0-2.5 1.121-2.5 2.5v27c0 1.378 1.122 2.5 2.5 2.5h23c1.378 0 2.5-1.122 2.5-2.5v-19.5c0-0.448-0.137-1.23-1.319-2.841zM24.543 5.457c0.959 0.959 1.712 1.825 2.268 2.543h-4.811v-4.811c0.718 0.556 1.584 1.309 2.543 2.268zM28 29.5c0 0.271-0.229 0.5-0.5 0.5h-23c-0.271 0-0.5-0.229-0.5-0.5v-27c0-0.271 0.229-0.5 0.5-0.5 0 0 15.499-0 15.5 0v7c0 0.552 0.448 1 1 1h7v19.5z\"></path>\n<path d=\"M23 26h-14c-0.552 0-1-0.448-1-1s0.448-1 1-1h14c0.552 0 1 0.448 1 1s-0.448 1-1 1z\"></path>\n<path d=\"M23 22h-14c-0.552 0-1-0.448-1-1s0.448-1 1-1h14c0.552 0 1 0.448 1 1s-0.448 1-1 1z\"></path>\n<path d=\"M23 18h-14c-0.552 0-1-0.448-1-1s0.448-1 1-1h14c0.552 0 1 0.448 1 1s-0.448 1-1 1z\"></path>\n</symbol>\n</defs>\n</svg>\n<style>/* CSS stylesheet for displaying xarray objects in jupyterlab.\n *\n */\n\n:root {\n  --xr-font-color0: var(--jp-content-font-color0, rgba(0, 0, 0, 1));\n  --xr-font-color2: var(--jp-content-font-color2, rgba(0, 0, 0, 0.54));\n  --xr-font-color3: var(--jp-content-font-color3, rgba(0, 0, 0, 0.38));\n  --xr-border-color: var(--jp-border-color2, #e0e0e0);\n  --xr-disabled-color: var(--jp-layout-color3, #bdbdbd);\n  --xr-background-color: var(--jp-layout-color0, white);\n  --xr-background-color-row-even: var(--jp-layout-color1, white);\n  --xr-background-color-row-odd: var(--jp-layout-color2, #eeeeee);\n}\n\nhtml[theme=dark],\nbody.vscode-dark {\n  --xr-font-color0: rgba(255, 255, 255, 1);\n  --xr-font-color2: rgba(255, 255, 255, 0.54);\n  --xr-font-color3: rgba(255, 255, 255, 0.38);\n  --xr-border-color: #1F1F1F;\n  --xr-disabled-color: #515151;\n  --xr-background-color: #111111;\n  --xr-background-color-row-even: #111111;\n  --xr-background-color-row-odd: #313131;\n}\n\n.xr-wrap {\n  display: block;\n  min-width: 300px;\n  max-width: 700px;\n}\n\n.xr-text-repr-fallback {\n  /* fallback to plain text repr when CSS is not injected (untrusted notebook) */\n  display: none;\n}\n\n.xr-header {\n  padding-top: 6px;\n  padding-bottom: 6px;\n  margin-bottom: 4px;\n  border-bottom: solid 1px var(--xr-border-color);\n}\n\n.xr-header > div,\n.xr-header > ul {\n  display: inline;\n  margin-top: 0;\n  margin-bottom: 0;\n}\n\n.xr-obj-type,\n.xr-array-name {\n  margin-left: 2px;\n  margin-right: 10px;\n}\n\n.xr-obj-type {\n  color: var(--xr-font-color2);\n}\n\n.xr-sections {\n  padding-left: 0 !important;\n  display: grid;\n  grid-template-columns: 150px auto auto 1fr 20px 20px;\n}\n\n.xr-section-item {\n  display: contents;\n}\n\n.xr-section-item input {\n  display: none;\n}\n\n.xr-section-item input + label {\n  color: var(--xr-disabled-color);\n}\n\n.xr-section-item input:enabled + label {\n  cursor: pointer;\n  color: var(--xr-font-color2);\n}\n\n.xr-section-item input:enabled + label:hover {\n  color: var(--xr-font-color0);\n}\n\n.xr-section-summary {\n  grid-column: 1;\n  color: var(--xr-font-color2);\n  font-weight: 500;\n}\n\n.xr-section-summary > span {\n  display: inline-block;\n  padding-left: 0.5em;\n}\n\n.xr-section-summary-in:disabled + label {\n  color: var(--xr-font-color2);\n}\n\n.xr-section-summary-in + label:before {\n  display: inline-block;\n  content: '►';\n  font-size: 11px;\n  width: 15px;\n  text-align: center;\n}\n\n.xr-section-summary-in:disabled + label:before {\n  color: var(--xr-disabled-color);\n}\n\n.xr-section-summary-in:checked + label:before {\n  content: '▼';\n}\n\n.xr-section-summary-in:checked + label > span {\n  display: none;\n}\n\n.xr-section-summary,\n.xr-section-inline-details {\n  padding-top: 4px;\n  padding-bottom: 4px;\n}\n\n.xr-section-inline-details {\n  grid-column: 2 / -1;\n}\n\n.xr-section-details {\n  display: none;\n  grid-column: 1 / -1;\n  margin-bottom: 5px;\n}\n\n.xr-section-summary-in:checked ~ .xr-section-details {\n  display: contents;\n}\n\n.xr-array-wrap {\n  grid-column: 1 / -1;\n  display: grid;\n  grid-template-columns: 20px auto;\n}\n\n.xr-array-wrap > label {\n  grid-column: 1;\n  vertical-align: top;\n}\n\n.xr-preview {\n  color: var(--xr-font-color3);\n}\n\n.xr-array-preview,\n.xr-array-data {\n  padding: 0 5px !important;\n  grid-column: 2;\n}\n\n.xr-array-data,\n.xr-array-in:checked ~ .xr-array-preview {\n  display: none;\n}\n\n.xr-array-in:checked ~ .xr-array-data,\n.xr-array-preview {\n  display: inline-block;\n}\n\n.xr-dim-list {\n  display: inline-block !important;\n  list-style: none;\n  padding: 0 !important;\n  margin: 0;\n}\n\n.xr-dim-list li {\n  display: inline-block;\n  padding: 0;\n  margin: 0;\n}\n\n.xr-dim-list:before {\n  content: '(';\n}\n\n.xr-dim-list:after {\n  content: ')';\n}\n\n.xr-dim-list li:not(:last-child):after {\n  content: ',';\n  padding-right: 5px;\n}\n\n.xr-has-index {\n  font-weight: bold;\n}\n\n.xr-var-list,\n.xr-var-item {\n  display: contents;\n}\n\n.xr-var-item > div,\n.xr-var-item label,\n.xr-var-item > .xr-var-name span {\n  background-color: var(--xr-background-color-row-even);\n  margin-bottom: 0;\n}\n\n.xr-var-item > .xr-var-name:hover span {\n  padding-right: 5px;\n}\n\n.xr-var-list > li:nth-child(odd) > div,\n.xr-var-list > li:nth-child(odd) > label,\n.xr-var-list > li:nth-child(odd) > .xr-var-name span {\n  background-color: var(--xr-background-color-row-odd);\n}\n\n.xr-var-name {\n  grid-column: 1;\n}\n\n.xr-var-dims {\n  grid-column: 2;\n}\n\n.xr-var-dtype {\n  grid-column: 3;\n  text-align: right;\n  color: var(--xr-font-color2);\n}\n\n.xr-var-preview {\n  grid-column: 4;\n}\n\n.xr-var-name,\n.xr-var-dims,\n.xr-var-dtype,\n.xr-preview,\n.xr-attrs dt {\n  white-space: nowrap;\n  overflow: hidden;\n  text-overflow: ellipsis;\n  padding-right: 10px;\n}\n\n.xr-var-name:hover,\n.xr-var-dims:hover,\n.xr-var-dtype:hover,\n.xr-attrs dt:hover {\n  overflow: visible;\n  width: auto;\n  z-index: 1;\n}\n\n.xr-var-attrs,\n.xr-var-data {\n  display: none;\n  background-color: var(--xr-background-color) !important;\n  padding-bottom: 5px !important;\n}\n\n.xr-var-attrs-in:checked ~ .xr-var-attrs,\n.xr-var-data-in:checked ~ .xr-var-data {\n  display: block;\n}\n\n.xr-var-data > table {\n  float: right;\n}\n\n.xr-var-name span,\n.xr-var-data,\n.xr-attrs {\n  padding-left: 25px !important;\n}\n\n.xr-attrs,\n.xr-var-attrs,\n.xr-var-data {\n  grid-column: 1 / -1;\n}\n\ndl.xr-attrs {\n  padding: 0;\n  margin: 0;\n  display: grid;\n  grid-template-columns: 125px auto;\n}\n\n.xr-attrs dt, dd {\n  padding: 0;\n  margin: 0;\n  float: left;\n  padding-right: 10px;\n  width: auto;\n}\n\n.xr-attrs dt {\n  font-weight: normal;\n  grid-column: 1;\n}\n\n.xr-attrs dt:hover span {\n  display: inline-block;\n  background: var(--xr-background-color);\n  padding-right: 10px;\n}\n\n.xr-attrs dd {\n  grid-column: 2;\n  white-space: pre-wrap;\n  word-break: break-all;\n}\n\n.xr-icon-database,\n.xr-icon-file-text2 {\n  display: inline-block;\n  vertical-align: middle;\n  width: 1em;\n  height: 1.5em !important;\n  stroke-width: 0;\n  stroke: currentColor;\n  fill: currentColor;\n}\n</style><pre class='xr-text-repr-fallback'>&lt;xarray.Dataset&gt;\nDimensions:    (date: 14, iso_code2: 35)\nCoordinates:\n  * date       (date) datetime64[ns] 2020-04-13 2020-04-14 ... 2020-04-30\n  * iso_code2  (iso_code2) object &#x27;CA&#x27; &#x27;AX&#x27; &#x27;AD&#x27; &#x27;AT&#x27; ... &#x27;SI&#x27; &#x27;ES&#x27; &#x27;JP&#x27; &#x27;SE&#x27;\nData variables:\n    close      (date, iso_code2) float64 0.7198 1.091 1.091 ... 0.0093 0.1019\n    currency   (iso_code2) object &#x27;CAD&#x27; &#x27;EUR&#x27; &#x27;EUR&#x27; &#x27;EUR&#x27; ... &#x27;EUR&#x27; &#x27;JPY&#x27; &#x27;SEK&#x27;\n    country    (iso_code2) object &#x27;Canada&#x27; &#x27;Aland Islands&#x27; ... &#x27;Japan&#x27; &#x27;Sweden&#x27;\n    open       (date, iso_code2) float64 0.7147 1.094 1.094 ... 0.0094 0.1011</pre><div class='xr-wrap' hidden><div class='xr-header'><div class='xr-obj-type'>xarray.Dataset</div></div><ul class='xr-sections'><li class='xr-section-item'><input id='section-2abbc454-35db-429c-8834-73db6d7d8203' class='xr-section-summary-in' type='checkbox' disabled ><label for='section-2abbc454-35db-429c-8834-73db6d7d8203' class='xr-section-summary'  title='Expand/collapse section'>Dimensions:</label><div class='xr-section-inline-details'><ul class='xr-dim-list'><li><span class='xr-has-index'>date</span>: 14</li><li><span class='xr-has-index'>iso_code2</span>: 35</li></ul></div><div class='xr-section-details'></div></li><li class='xr-section-item'><input id='section-37df2073-a844-42c1-9cab-fdeb911921ff' class='xr-section-summary-in' type='checkbox'  checked><label for='section-37df2073-a844-42c1-9cab-fdeb911921ff' class='xr-section-summary' >Coordinates: <span>(2)</span></label><div class='xr-section-inline-details'></div><div class='xr-section-details'><ul class='xr-var-list'><li class='xr-var-item'><div class='xr-var-name'><span class='xr-has-index'>date</span></div><div class='xr-var-dims'>(date)</div><div class='xr-var-dtype'>datetime64[ns]</div><div class='xr-var-preview xr-preview'>2020-04-13 ... 2020-04-30</div><input id='attrs-e5c7b454-7cf6-468d-a190-b7b9df0f32ad' class='xr-var-attrs-in' type='checkbox' disabled><label for='attrs-e5c7b454-7cf6-468d-a190-b7b9df0f32ad' title='Show/Hide attributes'><svg class='icon xr-icon-file-text2'><use xlink:href='#icon-file-text2'></use></svg></label><input id='data-990c1ccf-a712-4976-b7fc-22a4df9ad96c' class='xr-var-data-in' type='checkbox'><label for='data-990c1ccf-a712-4976-b7fc-22a4df9ad96c' title='Show/Hide data repr'><svg class='icon xr-icon-database'><use xlink:href='#icon-database'></use></svg></label><div class='xr-var-attrs'><dl class='xr-attrs'></dl></div><div class='xr-var-data'><pre>array([&#x27;2020-04-13T00:00:00.000000000&#x27;, &#x27;2020-04-14T00:00:00.000000000&#x27;,\n       &#x27;2020-04-15T00:00:00.000000000&#x27;, &#x27;2020-04-16T00:00:00.000000000&#x27;,\n       &#x27;2020-04-17T00:00:00.000000000&#x27;, &#x27;2020-04-20T00:00:00.000000000&#x27;,\n       &#x27;2020-04-21T00:00:00.000000000&#x27;, &#x27;2020-04-22T00:00:00.000000000&#x27;,\n       &#x27;2020-04-23T00:00:00.000000000&#x27;, &#x27;2020-04-24T00:00:00.000000000&#x27;,\n       &#x27;2020-04-27T00:00:00.000000000&#x27;, &#x27;2020-04-28T00:00:00.000000000&#x27;,\n       &#x27;2020-04-29T00:00:00.000000000&#x27;, &#x27;2020-04-30T00:00:00.000000000&#x27;],\n      dtype=&#x27;datetime64[ns]&#x27;)</pre></div></li><li class='xr-var-item'><div class='xr-var-name'><span class='xr-has-index'>iso_code2</span></div><div class='xr-var-dims'>(iso_code2)</div><div class='xr-var-dtype'>object</div><div class='xr-var-preview xr-preview'>&#x27;CA&#x27; &#x27;AX&#x27; &#x27;AD&#x27; ... &#x27;ES&#x27; &#x27;JP&#x27; &#x27;SE&#x27;</div><input id='attrs-e55f53d3-3e1e-4209-835a-c0051b7aaf9a' class='xr-var-attrs-in' type='checkbox' disabled><label for='attrs-e55f53d3-3e1e-4209-835a-c0051b7aaf9a' title='Show/Hide attributes'><svg class='icon xr-icon-file-text2'><use xlink:href='#icon-file-text2'></use></svg></label><input id='data-3e5c8443-f45f-4df5-b2ab-3c2fed23a6a5' class='xr-var-data-in' type='checkbox'><label for='data-3e5c8443-f45f-4df5-b2ab-3c2fed23a6a5' title='Show/Hide data repr'><svg class='icon xr-icon-database'><use xlink:href='#icon-database'></use></svg></label><div class='xr-var-attrs'><dl class='xr-attrs'></dl></div><div class='xr-var-data'><pre>array([&#x27;CA&#x27;, &#x27;AX&#x27;, &#x27;AD&#x27;, &#x27;AT&#x27;, &#x27;BE&#x27;, &#x27;CY&#x27;, &#x27;EE&#x27;, &#x27;FI&#x27;, &#x27;FR&#x27;, &#x27;GF&#x27;, &#x27;TF&#x27;, &#x27;DE&#x27;,\n       &#x27;GR&#x27;, &#x27;GP&#x27;, &#x27;VA&#x27;, &#x27;IE&#x27;, &#x27;IT&#x27;, &#x27;LV&#x27;, &#x27;LT&#x27;, &#x27;LU&#x27;, &#x27;MT&#x27;, &#x27;MQ&#x27;, &#x27;YT&#x27;, &#x27;MC&#x27;,\n       &#x27;ME&#x27;, &#x27;NL&#x27;, &#x27;PT&#x27;, &#x27;MF&#x27;, &#x27;PM&#x27;, &#x27;SM&#x27;, &#x27;SK&#x27;, &#x27;SI&#x27;, &#x27;ES&#x27;, &#x27;JP&#x27;, &#x27;SE&#x27;],\n      dtype=object)</pre></div></li></ul></div></li><li class='xr-section-item'><input id='section-cdff273b-a041-41d1-a72e-a5800cd361a9' class='xr-section-summary-in' type='checkbox'  checked><label for='section-cdff273b-a041-41d1-a72e-a5800cd361a9' class='xr-section-summary' >Data variables: <span>(4)</span></label><div class='xr-section-inline-details'></div><div class='xr-section-details'><ul class='xr-var-list'><li class='xr-var-item'><div class='xr-var-name'><span>close</span></div><div class='xr-var-dims'>(date, iso_code2)</div><div class='xr-var-dtype'>float64</div><div class='xr-var-preview xr-preview'>0.7198 1.091 ... 0.0093 0.1019</div><input id='attrs-2179c94b-7efb-452b-8bf6-8bcb176bc20a' class='xr-var-attrs-in' type='checkbox' disabled><label for='attrs-2179c94b-7efb-452b-8bf6-8bcb176bc20a' title='Show/Hide attributes'><svg class='icon xr-icon-file-text2'><use xlink:href='#icon-file-text2'></use></svg></label><input id='data-78af03d5-2c3c-4eff-8389-5ee611a3386a' class='xr-var-data-in' type='checkbox'><label for='data-78af03d5-2c3c-4eff-8389-5ee611a3386a' title='Show/Hide data repr'><svg class='icon xr-icon-database'><use xlink:href='#icon-database'></use></svg></label><div class='xr-var-attrs'><dl class='xr-attrs'></dl></div><div class='xr-var-data'><pre>array([[0.7198, 1.0915, 1.0915, 1.0915, 1.0915, 1.0915, 1.0915, 1.0915,\n        1.0915, 1.0915, 1.0915, 1.0915, 1.0915, 1.0915, 1.0915, 1.0915,\n        1.0915, 1.0915, 1.0915, 1.0915, 1.0915, 1.0915, 1.0915, 1.0915,\n        1.0915, 1.0915, 1.0915, 1.0915, 1.0915, 1.0915, 1.0915, 1.0915,\n        1.0915, 0.0093, 0.0995],\n       [0.7202, 1.0983, 1.0983, 1.0983, 1.0983, 1.0983, 1.0983, 1.0983,\n        1.0983, 1.0983, 1.0983, 1.0983, 1.0983, 1.0983, 1.0983, 1.0983,\n        1.0983, 1.0983, 1.0983, 1.0983, 1.0983, 1.0983, 1.0983, 1.0983,\n        1.0983, 1.0983, 1.0983, 1.0983, 1.0983, 1.0983, 1.0983, 1.0983,\n        1.0983, 0.0093, 0.1002],\n       [0.7081, 1.0901, 1.0901, 1.0901, 1.0901, 1.0901, 1.0901, 1.0901,\n        1.0901, 1.0901, 1.0901, 1.0901, 1.0901, 1.0901, 1.0901, 1.0901,\n        1.0901, 1.0901, 1.0901, 1.0901, 1.0901, 1.0901, 1.0901, 1.0901,\n        1.0901, 1.0901, 1.0901, 1.0901, 1.0901, 1.0901, 1.0901, 1.0901,\n        1.0901, 0.0093, 0.0992],\n       [0.712 , 1.086 , 1.086 , 1.086 , 1.086 , 1.086 , 1.086 , 1.086 ,\n        1.086 , 1.086 , 1.086 , 1.086 , 1.086 , 1.086 , 1.086 , 1.086 ,\n        1.086 , 1.086 , 1.086 , 1.086 , 1.086 , 1.086 , 1.086 , 1.086 ,\n        1.086 , 1.086 , 1.086 , 1.086 , 1.086 , 1.086 , 1.086 , 1.086 ,\n        1.086 , 0.0093, 0.0994],\n...\n       [0.7128, 1.0829, 1.0829, 1.0829, 1.0829, 1.0829, 1.0829, 1.0829,\n        1.0829, 1.0829, 1.0829, 1.0829, 1.0829, 1.0829, 1.0829, 1.0829,\n        1.0829, 1.0829, 1.0829, 1.0829, 1.0829, 1.0829, 1.0829, 1.0829,\n        1.0829, 1.0829, 1.0829, 1.0829, 1.0829, 1.0829, 1.0829, 1.0829,\n        1.0829, 0.0093, 0.0994],\n       [0.7141, 1.0823, 1.0823, 1.0823, 1.0823, 1.0823, 1.0823, 1.0823,\n        1.0823, 1.0823, 1.0823, 1.0823, 1.0823, 1.0823, 1.0823, 1.0823,\n        1.0823, 1.0823, 1.0823, 1.0823, 1.0823, 1.0823, 1.0823, 1.0823,\n        1.0823, 1.0823, 1.0823, 1.0823, 1.0823, 1.0823, 1.0823, 1.0823,\n        1.0823, 0.0094, 0.1007],\n       [0.7204, 1.0875, 1.0875, 1.0875, 1.0875, 1.0875, 1.0875, 1.0875,\n        1.0875, 1.0875, 1.0875, 1.0875, 1.0875, 1.0875, 1.0875, 1.0875,\n        1.0875, 1.0875, 1.0875, 1.0875, 1.0875, 1.0875, 1.0875, 1.0875,\n        1.0875, 1.0875, 1.0875, 1.0875, 1.0875, 1.0875, 1.0875, 1.0875,\n        1.0875, 0.0094, 0.1011],\n       [0.7164, 1.0943, 1.0943, 1.0943, 1.0943, 1.0943, 1.0943, 1.0943,\n        1.0943, 1.0943, 1.0943, 1.0943, 1.0943, 1.0943, 1.0943, 1.0943,\n        1.0943, 1.0943, 1.0943, 1.0943, 1.0943, 1.0943, 1.0943, 1.0943,\n        1.0943, 1.0943, 1.0943, 1.0943, 1.0943, 1.0943, 1.0943, 1.0943,\n        1.0943, 0.0093, 0.1019]])</pre></div></li><li class='xr-var-item'><div class='xr-var-name'><span>currency</span></div><div class='xr-var-dims'>(iso_code2)</div><div class='xr-var-dtype'>object</div><div class='xr-var-preview xr-preview'>&#x27;CAD&#x27; &#x27;EUR&#x27; &#x27;EUR&#x27; ... &#x27;JPY&#x27; &#x27;SEK&#x27;</div><input id='attrs-f0d4ef95-e59f-48b3-bf35-d1b4ca1e08ae' class='xr-var-attrs-in' type='checkbox' disabled><label for='attrs-f0d4ef95-e59f-48b3-bf35-d1b4ca1e08ae' title='Show/Hide attributes'><svg class='icon xr-icon-file-text2'><use xlink:href='#icon-file-text2'></use></svg></label><input id='data-23f4a0ae-3df0-42c6-b7d0-7c78745931a9' class='xr-var-data-in' type='checkbox'><label for='data-23f4a0ae-3df0-42c6-b7d0-7c78745931a9' title='Show/Hide data repr'><svg class='icon xr-icon-database'><use xlink:href='#icon-database'></use></svg></label><div class='xr-var-attrs'><dl class='xr-attrs'></dl></div><div class='xr-var-data'><pre>array([&#x27;CAD&#x27;, &#x27;EUR&#x27;, &#x27;EUR&#x27;, &#x27;EUR&#x27;, &#x27;EUR&#x27;, &#x27;EUR&#x27;, &#x27;EUR&#x27;, &#x27;EUR&#x27;, &#x27;EUR&#x27;,\n       &#x27;EUR&#x27;, &#x27;EUR&#x27;, &#x27;EUR&#x27;, &#x27;EUR&#x27;, &#x27;EUR&#x27;, &#x27;EUR&#x27;, &#x27;EUR&#x27;, &#x27;EUR&#x27;, &#x27;EUR&#x27;,\n       &#x27;EUR&#x27;, &#x27;EUR&#x27;, &#x27;EUR&#x27;, &#x27;EUR&#x27;, &#x27;EUR&#x27;, &#x27;EUR&#x27;, &#x27;EUR&#x27;, &#x27;EUR&#x27;, &#x27;EUR&#x27;,\n       &#x27;EUR&#x27;, &#x27;EUR&#x27;, &#x27;EUR&#x27;, &#x27;EUR&#x27;, &#x27;EUR&#x27;, &#x27;EUR&#x27;, &#x27;JPY&#x27;, &#x27;SEK&#x27;],\n      dtype=object)</pre></div></li><li class='xr-var-item'><div class='xr-var-name'><span>country</span></div><div class='xr-var-dims'>(iso_code2)</div><div class='xr-var-dtype'>object</div><div class='xr-var-preview xr-preview'>&#x27;Canada&#x27; ... &#x27;Sweden&#x27;</div><input id='attrs-90613c1b-3947-4954-a0be-9a023960c57f' class='xr-var-attrs-in' type='checkbox' disabled><label for='attrs-90613c1b-3947-4954-a0be-9a023960c57f' title='Show/Hide attributes'><svg class='icon xr-icon-file-text2'><use xlink:href='#icon-file-text2'></use></svg></label><input id='data-1499d733-4bf9-4eea-8902-bb42f7ae848e' class='xr-var-data-in' type='checkbox'><label for='data-1499d733-4bf9-4eea-8902-bb42f7ae848e' title='Show/Hide data repr'><svg class='icon xr-icon-database'><use xlink:href='#icon-database'></use></svg></label><div class='xr-var-attrs'><dl class='xr-attrs'></dl></div><div class='xr-var-data'><pre>array([&#x27;Canada&#x27;, &#x27;Aland Islands&#x27;, &#x27;Andorra&#x27;, &#x27;Austria&#x27;, &#x27;Belgium&#x27;,\n       &#x27;Cyprus&#x27;, &#x27;Estonia&#x27;, &#x27;Finland&#x27;, &#x27;France&#x27;, &#x27;French Guiana&#x27;,\n       &#x27;French Southern Territories&#x27;, &#x27;Germany&#x27;, &#x27;Greece&#x27;, &#x27;Guadeloupe&#x27;,\n       &#x27;Holy See&#x27;, &#x27;Ireland&#x27;, &#x27;Italy&#x27;, &#x27;Latvia&#x27;, &#x27;Lithuania&#x27;,\n       &#x27;Luxembourg&#x27;, &#x27;Malta&#x27;, &#x27;Martinique&#x27;, &#x27;Mayotte&#x27;, &#x27;Monaco&#x27;,\n       &#x27;Montenegro&#x27;, &#x27;Netherlands&#x27;, &#x27;Portugal&#x27;, &#x27;Saint Martin&#x27;,\n       &#x27;Saint Pierre and Miquelon&#x27;, &#x27;San Marino&#x27;, &#x27;Slovakia&#x27;, &#x27;Slovenia&#x27;,\n       &#x27;Spain&#x27;, &#x27;Japan&#x27;, &#x27;Sweden&#x27;], dtype=object)</pre></div></li><li class='xr-var-item'><div class='xr-var-name'><span>open</span></div><div class='xr-var-dims'>(date, iso_code2)</div><div class='xr-var-dtype'>float64</div><div class='xr-var-preview xr-preview'>0.7147 1.094 ... 0.0094 0.1011</div><input id='attrs-4d6f1992-1b7f-46c8-ab3b-a0f62a2a3bf3' class='xr-var-attrs-in' type='checkbox' disabled><label for='attrs-4d6f1992-1b7f-46c8-ab3b-a0f62a2a3bf3' title='Show/Hide attributes'><svg class='icon xr-icon-file-text2'><use xlink:href='#icon-file-text2'></use></svg></label><input id='data-76daefdb-ea23-453f-befb-ac82955864b8' class='xr-var-data-in' type='checkbox'><label for='data-76daefdb-ea23-453f-befb-ac82955864b8' title='Show/Hide data repr'><svg class='icon xr-icon-database'><use xlink:href='#icon-database'></use></svg></label><div class='xr-var-attrs'><dl class='xr-attrs'></dl></div><div class='xr-var-data'><pre>array([[0.7147, 1.0937, 1.0937, 1.0937, 1.0937, 1.0937, 1.0937, 1.0937,\n        1.0937, 1.0937, 1.0937, 1.0937, 1.0937, 1.0937, 1.0937, 1.0937,\n        1.0937, 1.0937, 1.0937, 1.0937, 1.0937, 1.0937, 1.0937, 1.0937,\n        1.0937, 1.0937, 1.0937, 1.0937, 1.0937, 1.0937, 1.0937, 1.0937,\n        1.0937, 0.0092, 0.1001],\n       [0.7198, 1.0915, 1.0915, 1.0915, 1.0915, 1.0915, 1.0915, 1.0915,\n        1.0915, 1.0915, 1.0915, 1.0915, 1.0915, 1.0915, 1.0915, 1.0915,\n        1.0915, 1.0915, 1.0915, 1.0915, 1.0915, 1.0915, 1.0915, 1.0915,\n        1.0915, 1.0915, 1.0915, 1.0915, 1.0915, 1.0915, 1.0915, 1.0915,\n        1.0915, 0.0093, 0.0995],\n       [0.7199, 1.0984, 1.0984, 1.0984, 1.0984, 1.0984, 1.0984, 1.0984,\n        1.0984, 1.0984, 1.0984, 1.0984, 1.0984, 1.0984, 1.0984, 1.0984,\n        1.0984, 1.0984, 1.0984, 1.0984, 1.0984, 1.0984, 1.0984, 1.0984,\n        1.0984, 1.0984, 1.0984, 1.0984, 1.0984, 1.0984, 1.0984, 1.0984,\n        1.0984, 0.0093, 0.1002],\n       [0.7081, 1.0902, 1.0902, 1.0902, 1.0902, 1.0902, 1.0902, 1.0902,\n        1.0902, 1.0902, 1.0902, 1.0902, 1.0902, 1.0902, 1.0902, 1.0902,\n        1.0902, 1.0902, 1.0902, 1.0902, 1.0902, 1.0902, 1.0902, 1.0902,\n        1.0902, 1.0902, 1.0902, 1.0902, 1.0902, 1.0902, 1.0902, 1.0902,\n        1.0902, 0.0093, 0.0992],\n...\n       [0.7083, 1.0817, 1.0817, 1.0817, 1.0817, 1.0817, 1.0817, 1.0817,\n        1.0817, 1.0817, 1.0817, 1.0817, 1.0817, 1.0817, 1.0817, 1.0817,\n        1.0817, 1.0817, 1.0817, 1.0817, 1.0817, 1.0817, 1.0817, 1.0817,\n        1.0817, 1.0817, 1.0817, 1.0817, 1.0817, 1.0817, 1.0817, 1.0817,\n        1.0817, 0.0093, 0.0991],\n       [0.7128, 1.0829, 1.0829, 1.0829, 1.0829, 1.0829, 1.0829, 1.0829,\n        1.0829, 1.0829, 1.0829, 1.0829, 1.0829, 1.0829, 1.0829, 1.0829,\n        1.0829, 1.0829, 1.0829, 1.0829, 1.0829, 1.0829, 1.0829, 1.0829,\n        1.0829, 1.0829, 1.0829, 1.0829, 1.0829, 1.0829, 1.0829, 1.0829,\n        1.0829, 0.0093, 0.0994],\n       [0.7138, 1.0825, 1.0825, 1.0825, 1.0825, 1.0825, 1.0825, 1.0825,\n        1.0825, 1.0825, 1.0825, 1.0825, 1.0825, 1.0825, 1.0825, 1.0825,\n        1.0825, 1.0825, 1.0825, 1.0825, 1.0825, 1.0825, 1.0825, 1.0825,\n        1.0825, 1.0825, 1.0825, 1.0825, 1.0825, 1.0825, 1.0825, 1.0825,\n        1.0825, 0.0094, 0.1006],\n       [0.7204, 1.0875, 1.0875, 1.0875, 1.0875, 1.0875, 1.0875, 1.0875,\n        1.0875, 1.0875, 1.0875, 1.0875, 1.0875, 1.0875, 1.0875, 1.0875,\n        1.0875, 1.0875, 1.0875, 1.0875, 1.0875, 1.0875, 1.0875, 1.0875,\n        1.0875, 1.0875, 1.0875, 1.0875, 1.0875, 1.0875, 1.0875, 1.0875,\n        1.0875, 0.0094, 0.1011]])</pre></div></li></ul></div></li><li class='xr-section-item'><input id='section-54db9b0c-f6b3-484c-843c-6e001c699015' class='xr-section-summary-in' type='checkbox' disabled ><label for='section-54db9b0c-f6b3-484c-843c-6e001c699015' class='xr-section-summary'  title='Expand/collapse section'>Attributes: <span>(0)</span></label><div class='xr-section-inline-details'></div><div class='xr-section-details'><dl class='xr-attrs'></dl></div></li></ul></div></div>"
     },
     "metadata": {},
     "execution_count": 250
    }
   ],
   "source": [
    "dst['date'] = pd.to_datetime(dst['date'].values)\n",
    "dst.sel(dict(date='2020-04'))  # pandas datetime indexing also works from within xarray"
   ]
  },
  {
   "cell_type": "code",
   "execution_count": 252,
   "metadata": {},
   "outputs": [
    {
     "output_type": "execute_result",
     "data": {
      "text/plain": "<xarray.Dataset>\nDimensions:    (date: 100, iso_code2: 35)\nCoordinates:\n  * iso_code2  (iso_code2) object 'CA' 'AX' 'AD' 'AT' ... 'SI' 'ES' 'JP' 'SE'\n  * date       (date) datetime64[ns] 2020-04-13 2020-04-14 ... 2020-08-28\nData variables:\n    close      (date, iso_code2) float64 0.7198 1.091 1.091 ... 0.0095 0.1156\n    open       (date, iso_code2) float64 0.7147 1.094 1.094 ... 0.0094 0.1141\n    currency   (iso_code2) object 'CAD' 'EUR' 'EUR' 'EUR' ... 'EUR' 'JPY' 'SEK'",
      "text/html": "<div><svg style=\"position: absolute; width: 0; height: 0; overflow: hidden\">\n<defs>\n<symbol id=\"icon-database\" viewBox=\"0 0 32 32\">\n<path d=\"M16 0c-8.837 0-16 2.239-16 5v4c0 2.761 7.163 5 16 5s16-2.239 16-5v-4c0-2.761-7.163-5-16-5z\"></path>\n<path d=\"M16 17c-8.837 0-16-2.239-16-5v6c0 2.761 7.163 5 16 5s16-2.239 16-5v-6c0 2.761-7.163 5-16 5z\"></path>\n<path d=\"M16 26c-8.837 0-16-2.239-16-5v6c0 2.761 7.163 5 16 5s16-2.239 16-5v-6c0 2.761-7.163 5-16 5z\"></path>\n</symbol>\n<symbol id=\"icon-file-text2\" viewBox=\"0 0 32 32\">\n<path d=\"M28.681 7.159c-0.694-0.947-1.662-2.053-2.724-3.116s-2.169-2.030-3.116-2.724c-1.612-1.182-2.393-1.319-2.841-1.319h-15.5c-1.378 0-2.5 1.121-2.5 2.5v27c0 1.378 1.122 2.5 2.5 2.5h23c1.378 0 2.5-1.122 2.5-2.5v-19.5c0-0.448-0.137-1.23-1.319-2.841zM24.543 5.457c0.959 0.959 1.712 1.825 2.268 2.543h-4.811v-4.811c0.718 0.556 1.584 1.309 2.543 2.268zM28 29.5c0 0.271-0.229 0.5-0.5 0.5h-23c-0.271 0-0.5-0.229-0.5-0.5v-27c0-0.271 0.229-0.5 0.5-0.5 0 0 15.499-0 15.5 0v7c0 0.552 0.448 1 1 1h7v19.5z\"></path>\n<path d=\"M23 26h-14c-0.552 0-1-0.448-1-1s0.448-1 1-1h14c0.552 0 1 0.448 1 1s-0.448 1-1 1z\"></path>\n<path d=\"M23 22h-14c-0.552 0-1-0.448-1-1s0.448-1 1-1h14c0.552 0 1 0.448 1 1s-0.448 1-1 1z\"></path>\n<path d=\"M23 18h-14c-0.552 0-1-0.448-1-1s0.448-1 1-1h14c0.552 0 1 0.448 1 1s-0.448 1-1 1z\"></path>\n</symbol>\n</defs>\n</svg>\n<style>/* CSS stylesheet for displaying xarray objects in jupyterlab.\n *\n */\n\n:root {\n  --xr-font-color0: var(--jp-content-font-color0, rgba(0, 0, 0, 1));\n  --xr-font-color2: var(--jp-content-font-color2, rgba(0, 0, 0, 0.54));\n  --xr-font-color3: var(--jp-content-font-color3, rgba(0, 0, 0, 0.38));\n  --xr-border-color: var(--jp-border-color2, #e0e0e0);\n  --xr-disabled-color: var(--jp-layout-color3, #bdbdbd);\n  --xr-background-color: var(--jp-layout-color0, white);\n  --xr-background-color-row-even: var(--jp-layout-color1, white);\n  --xr-background-color-row-odd: var(--jp-layout-color2, #eeeeee);\n}\n\nhtml[theme=dark],\nbody.vscode-dark {\n  --xr-font-color0: rgba(255, 255, 255, 1);\n  --xr-font-color2: rgba(255, 255, 255, 0.54);\n  --xr-font-color3: rgba(255, 255, 255, 0.38);\n  --xr-border-color: #1F1F1F;\n  --xr-disabled-color: #515151;\n  --xr-background-color: #111111;\n  --xr-background-color-row-even: #111111;\n  --xr-background-color-row-odd: #313131;\n}\n\n.xr-wrap {\n  display: block;\n  min-width: 300px;\n  max-width: 700px;\n}\n\n.xr-text-repr-fallback {\n  /* fallback to plain text repr when CSS is not injected (untrusted notebook) */\n  display: none;\n}\n\n.xr-header {\n  padding-top: 6px;\n  padding-bottom: 6px;\n  margin-bottom: 4px;\n  border-bottom: solid 1px var(--xr-border-color);\n}\n\n.xr-header > div,\n.xr-header > ul {\n  display: inline;\n  margin-top: 0;\n  margin-bottom: 0;\n}\n\n.xr-obj-type,\n.xr-array-name {\n  margin-left: 2px;\n  margin-right: 10px;\n}\n\n.xr-obj-type {\n  color: var(--xr-font-color2);\n}\n\n.xr-sections {\n  padding-left: 0 !important;\n  display: grid;\n  grid-template-columns: 150px auto auto 1fr 20px 20px;\n}\n\n.xr-section-item {\n  display: contents;\n}\n\n.xr-section-item input {\n  display: none;\n}\n\n.xr-section-item input + label {\n  color: var(--xr-disabled-color);\n}\n\n.xr-section-item input:enabled + label {\n  cursor: pointer;\n  color: var(--xr-font-color2);\n}\n\n.xr-section-item input:enabled + label:hover {\n  color: var(--xr-font-color0);\n}\n\n.xr-section-summary {\n  grid-column: 1;\n  color: var(--xr-font-color2);\n  font-weight: 500;\n}\n\n.xr-section-summary > span {\n  display: inline-block;\n  padding-left: 0.5em;\n}\n\n.xr-section-summary-in:disabled + label {\n  color: var(--xr-font-color2);\n}\n\n.xr-section-summary-in + label:before {\n  display: inline-block;\n  content: '►';\n  font-size: 11px;\n  width: 15px;\n  text-align: center;\n}\n\n.xr-section-summary-in:disabled + label:before {\n  color: var(--xr-disabled-color);\n}\n\n.xr-section-summary-in:checked + label:before {\n  content: '▼';\n}\n\n.xr-section-summary-in:checked + label > span {\n  display: none;\n}\n\n.xr-section-summary,\n.xr-section-inline-details {\n  padding-top: 4px;\n  padding-bottom: 4px;\n}\n\n.xr-section-inline-details {\n  grid-column: 2 / -1;\n}\n\n.xr-section-details {\n  display: none;\n  grid-column: 1 / -1;\n  margin-bottom: 5px;\n}\n\n.xr-section-summary-in:checked ~ .xr-section-details {\n  display: contents;\n}\n\n.xr-array-wrap {\n  grid-column: 1 / -1;\n  display: grid;\n  grid-template-columns: 20px auto;\n}\n\n.xr-array-wrap > label {\n  grid-column: 1;\n  vertical-align: top;\n}\n\n.xr-preview {\n  color: var(--xr-font-color3);\n}\n\n.xr-array-preview,\n.xr-array-data {\n  padding: 0 5px !important;\n  grid-column: 2;\n}\n\n.xr-array-data,\n.xr-array-in:checked ~ .xr-array-preview {\n  display: none;\n}\n\n.xr-array-in:checked ~ .xr-array-data,\n.xr-array-preview {\n  display: inline-block;\n}\n\n.xr-dim-list {\n  display: inline-block !important;\n  list-style: none;\n  padding: 0 !important;\n  margin: 0;\n}\n\n.xr-dim-list li {\n  display: inline-block;\n  padding: 0;\n  margin: 0;\n}\n\n.xr-dim-list:before {\n  content: '(';\n}\n\n.xr-dim-list:after {\n  content: ')';\n}\n\n.xr-dim-list li:not(:last-child):after {\n  content: ',';\n  padding-right: 5px;\n}\n\n.xr-has-index {\n  font-weight: bold;\n}\n\n.xr-var-list,\n.xr-var-item {\n  display: contents;\n}\n\n.xr-var-item > div,\n.xr-var-item label,\n.xr-var-item > .xr-var-name span {\n  background-color: var(--xr-background-color-row-even);\n  margin-bottom: 0;\n}\n\n.xr-var-item > .xr-var-name:hover span {\n  padding-right: 5px;\n}\n\n.xr-var-list > li:nth-child(odd) > div,\n.xr-var-list > li:nth-child(odd) > label,\n.xr-var-list > li:nth-child(odd) > .xr-var-name span {\n  background-color: var(--xr-background-color-row-odd);\n}\n\n.xr-var-name {\n  grid-column: 1;\n}\n\n.xr-var-dims {\n  grid-column: 2;\n}\n\n.xr-var-dtype {\n  grid-column: 3;\n  text-align: right;\n  color: var(--xr-font-color2);\n}\n\n.xr-var-preview {\n  grid-column: 4;\n}\n\n.xr-var-name,\n.xr-var-dims,\n.xr-var-dtype,\n.xr-preview,\n.xr-attrs dt {\n  white-space: nowrap;\n  overflow: hidden;\n  text-overflow: ellipsis;\n  padding-right: 10px;\n}\n\n.xr-var-name:hover,\n.xr-var-dims:hover,\n.xr-var-dtype:hover,\n.xr-attrs dt:hover {\n  overflow: visible;\n  width: auto;\n  z-index: 1;\n}\n\n.xr-var-attrs,\n.xr-var-data {\n  display: none;\n  background-color: var(--xr-background-color) !important;\n  padding-bottom: 5px !important;\n}\n\n.xr-var-attrs-in:checked ~ .xr-var-attrs,\n.xr-var-data-in:checked ~ .xr-var-data {\n  display: block;\n}\n\n.xr-var-data > table {\n  float: right;\n}\n\n.xr-var-name span,\n.xr-var-data,\n.xr-attrs {\n  padding-left: 25px !important;\n}\n\n.xr-attrs,\n.xr-var-attrs,\n.xr-var-data {\n  grid-column: 1 / -1;\n}\n\ndl.xr-attrs {\n  padding: 0;\n  margin: 0;\n  display: grid;\n  grid-template-columns: 125px auto;\n}\n\n.xr-attrs dt, dd {\n  padding: 0;\n  margin: 0;\n  float: left;\n  padding-right: 10px;\n  width: auto;\n}\n\n.xr-attrs dt {\n  font-weight: normal;\n  grid-column: 1;\n}\n\n.xr-attrs dt:hover span {\n  display: inline-block;\n  background: var(--xr-background-color);\n  padding-right: 10px;\n}\n\n.xr-attrs dd {\n  grid-column: 2;\n  white-space: pre-wrap;\n  word-break: break-all;\n}\n\n.xr-icon-database,\n.xr-icon-file-text2 {\n  display: inline-block;\n  vertical-align: middle;\n  width: 1em;\n  height: 1.5em !important;\n  stroke-width: 0;\n  stroke: currentColor;\n  fill: currentColor;\n}\n</style><pre class='xr-text-repr-fallback'>&lt;xarray.Dataset&gt;\nDimensions:    (date: 100, iso_code2: 35)\nCoordinates:\n  * iso_code2  (iso_code2) object &#x27;CA&#x27; &#x27;AX&#x27; &#x27;AD&#x27; &#x27;AT&#x27; ... &#x27;SI&#x27; &#x27;ES&#x27; &#x27;JP&#x27; &#x27;SE&#x27;\n  * date       (date) datetime64[ns] 2020-04-13 2020-04-14 ... 2020-08-28\nData variables:\n    close      (date, iso_code2) float64 0.7198 1.091 1.091 ... 0.0095 0.1156\n    open       (date, iso_code2) float64 0.7147 1.094 1.094 ... 0.0094 0.1141\n    currency   (iso_code2) object &#x27;CAD&#x27; &#x27;EUR&#x27; &#x27;EUR&#x27; &#x27;EUR&#x27; ... &#x27;EUR&#x27; &#x27;JPY&#x27; &#x27;SEK&#x27;</pre><div class='xr-wrap' hidden><div class='xr-header'><div class='xr-obj-type'>xarray.Dataset</div></div><ul class='xr-sections'><li class='xr-section-item'><input id='section-2ba99cda-0d10-4c7d-a51a-e5f0561d3f23' class='xr-section-summary-in' type='checkbox' disabled ><label for='section-2ba99cda-0d10-4c7d-a51a-e5f0561d3f23' class='xr-section-summary'  title='Expand/collapse section'>Dimensions:</label><div class='xr-section-inline-details'><ul class='xr-dim-list'><li><span class='xr-has-index'>date</span>: 100</li><li><span class='xr-has-index'>iso_code2</span>: 35</li></ul></div><div class='xr-section-details'></div></li><li class='xr-section-item'><input id='section-ceba562a-0cae-4eaf-a83b-f362b8dcb487' class='xr-section-summary-in' type='checkbox'  checked><label for='section-ceba562a-0cae-4eaf-a83b-f362b8dcb487' class='xr-section-summary' >Coordinates: <span>(2)</span></label><div class='xr-section-inline-details'></div><div class='xr-section-details'><ul class='xr-var-list'><li class='xr-var-item'><div class='xr-var-name'><span class='xr-has-index'>iso_code2</span></div><div class='xr-var-dims'>(iso_code2)</div><div class='xr-var-dtype'>object</div><div class='xr-var-preview xr-preview'>&#x27;CA&#x27; &#x27;AX&#x27; &#x27;AD&#x27; ... &#x27;ES&#x27; &#x27;JP&#x27; &#x27;SE&#x27;</div><input id='attrs-71deeea4-73ad-45e0-a6e4-92ee8c5d07eb' class='xr-var-attrs-in' type='checkbox' disabled><label for='attrs-71deeea4-73ad-45e0-a6e4-92ee8c5d07eb' title='Show/Hide attributes'><svg class='icon xr-icon-file-text2'><use xlink:href='#icon-file-text2'></use></svg></label><input id='data-623a5f15-9e35-4a81-bf56-fefb4cc5e646' class='xr-var-data-in' type='checkbox'><label for='data-623a5f15-9e35-4a81-bf56-fefb4cc5e646' title='Show/Hide data repr'><svg class='icon xr-icon-database'><use xlink:href='#icon-database'></use></svg></label><div class='xr-var-attrs'><dl class='xr-attrs'></dl></div><div class='xr-var-data'><pre>array([&#x27;CA&#x27;, &#x27;AX&#x27;, &#x27;AD&#x27;, &#x27;AT&#x27;, &#x27;BE&#x27;, &#x27;CY&#x27;, &#x27;EE&#x27;, &#x27;FI&#x27;, &#x27;FR&#x27;, &#x27;GF&#x27;, &#x27;TF&#x27;, &#x27;DE&#x27;,\n       &#x27;GR&#x27;, &#x27;GP&#x27;, &#x27;VA&#x27;, &#x27;IE&#x27;, &#x27;IT&#x27;, &#x27;LV&#x27;, &#x27;LT&#x27;, &#x27;LU&#x27;, &#x27;MT&#x27;, &#x27;MQ&#x27;, &#x27;YT&#x27;, &#x27;MC&#x27;,\n       &#x27;ME&#x27;, &#x27;NL&#x27;, &#x27;PT&#x27;, &#x27;MF&#x27;, &#x27;PM&#x27;, &#x27;SM&#x27;, &#x27;SK&#x27;, &#x27;SI&#x27;, &#x27;ES&#x27;, &#x27;JP&#x27;, &#x27;SE&#x27;],\n      dtype=object)</pre></div></li><li class='xr-var-item'><div class='xr-var-name'><span class='xr-has-index'>date</span></div><div class='xr-var-dims'>(date)</div><div class='xr-var-dtype'>datetime64[ns]</div><div class='xr-var-preview xr-preview'>2020-04-13 ... 2020-08-28</div><input id='attrs-96c95e3e-fcc7-4113-a64d-2c472dfec857' class='xr-var-attrs-in' type='checkbox' disabled><label for='attrs-96c95e3e-fcc7-4113-a64d-2c472dfec857' title='Show/Hide attributes'><svg class='icon xr-icon-file-text2'><use xlink:href='#icon-file-text2'></use></svg></label><input id='data-d7d26848-5a09-4a55-b887-059924f68a9e' class='xr-var-data-in' type='checkbox'><label for='data-d7d26848-5a09-4a55-b887-059924f68a9e' title='Show/Hide data repr'><svg class='icon xr-icon-database'><use xlink:href='#icon-database'></use></svg></label><div class='xr-var-attrs'><dl class='xr-attrs'></dl></div><div class='xr-var-data'><pre>array([&#x27;2020-04-13T00:00:00.000000000&#x27;, &#x27;2020-04-14T00:00:00.000000000&#x27;,\n       &#x27;2020-04-15T00:00:00.000000000&#x27;, &#x27;2020-04-16T00:00:00.000000000&#x27;,\n       &#x27;2020-04-17T00:00:00.000000000&#x27;, &#x27;2020-04-20T00:00:00.000000000&#x27;,\n       &#x27;2020-04-21T00:00:00.000000000&#x27;, &#x27;2020-04-22T00:00:00.000000000&#x27;,\n       &#x27;2020-04-23T00:00:00.000000000&#x27;, &#x27;2020-04-24T00:00:00.000000000&#x27;,\n       &#x27;2020-04-27T00:00:00.000000000&#x27;, &#x27;2020-04-28T00:00:00.000000000&#x27;,\n       &#x27;2020-04-29T00:00:00.000000000&#x27;, &#x27;2020-04-30T00:00:00.000000000&#x27;,\n       &#x27;2020-05-01T00:00:00.000000000&#x27;, &#x27;2020-05-04T00:00:00.000000000&#x27;,\n       &#x27;2020-05-05T00:00:00.000000000&#x27;, &#x27;2020-05-06T00:00:00.000000000&#x27;,\n       &#x27;2020-05-07T00:00:00.000000000&#x27;, &#x27;2020-05-08T00:00:00.000000000&#x27;,\n       &#x27;2020-05-11T00:00:00.000000000&#x27;, &#x27;2020-05-12T00:00:00.000000000&#x27;,\n       &#x27;2020-05-13T00:00:00.000000000&#x27;, &#x27;2020-05-14T00:00:00.000000000&#x27;,\n       &#x27;2020-05-15T00:00:00.000000000&#x27;, &#x27;2020-05-18T00:00:00.000000000&#x27;,\n       &#x27;2020-05-19T00:00:00.000000000&#x27;, &#x27;2020-05-20T00:00:00.000000000&#x27;,\n       &#x27;2020-05-21T00:00:00.000000000&#x27;, &#x27;2020-05-22T00:00:00.000000000&#x27;,\n       &#x27;2020-05-25T00:00:00.000000000&#x27;, &#x27;2020-05-26T00:00:00.000000000&#x27;,\n       &#x27;2020-05-27T00:00:00.000000000&#x27;, &#x27;2020-05-28T00:00:00.000000000&#x27;,\n       &#x27;2020-05-29T00:00:00.000000000&#x27;, &#x27;2020-06-01T00:00:00.000000000&#x27;,\n       &#x27;2020-06-02T00:00:00.000000000&#x27;, &#x27;2020-06-03T00:00:00.000000000&#x27;,\n       &#x27;2020-06-04T00:00:00.000000000&#x27;, &#x27;2020-06-05T00:00:00.000000000&#x27;,\n       &#x27;2020-06-08T00:00:00.000000000&#x27;, &#x27;2020-06-09T00:00:00.000000000&#x27;,\n       &#x27;2020-06-10T00:00:00.000000000&#x27;, &#x27;2020-06-11T00:00:00.000000000&#x27;,\n       &#x27;2020-06-12T00:00:00.000000000&#x27;, &#x27;2020-06-15T00:00:00.000000000&#x27;,\n       &#x27;2020-06-16T00:00:00.000000000&#x27;, &#x27;2020-06-17T00:00:00.000000000&#x27;,\n       &#x27;2020-06-18T00:00:00.000000000&#x27;, &#x27;2020-06-19T00:00:00.000000000&#x27;,\n       &#x27;2020-06-22T00:00:00.000000000&#x27;, &#x27;2020-06-23T00:00:00.000000000&#x27;,\n       &#x27;2020-06-24T00:00:00.000000000&#x27;, &#x27;2020-06-25T00:00:00.000000000&#x27;,\n       &#x27;2020-06-26T00:00:00.000000000&#x27;, &#x27;2020-06-29T00:00:00.000000000&#x27;,\n       &#x27;2020-06-30T00:00:00.000000000&#x27;, &#x27;2020-07-01T00:00:00.000000000&#x27;,\n       &#x27;2020-07-02T00:00:00.000000000&#x27;, &#x27;2020-07-03T00:00:00.000000000&#x27;,\n       &#x27;2020-07-06T00:00:00.000000000&#x27;, &#x27;2020-07-07T00:00:00.000000000&#x27;,\n       &#x27;2020-07-08T00:00:00.000000000&#x27;, &#x27;2020-07-09T00:00:00.000000000&#x27;,\n       &#x27;2020-07-10T00:00:00.000000000&#x27;, &#x27;2020-07-13T00:00:00.000000000&#x27;,\n       &#x27;2020-07-14T00:00:00.000000000&#x27;, &#x27;2020-07-15T00:00:00.000000000&#x27;,\n       &#x27;2020-07-16T00:00:00.000000000&#x27;, &#x27;2020-07-17T00:00:00.000000000&#x27;,\n       &#x27;2020-07-20T00:00:00.000000000&#x27;, &#x27;2020-07-21T00:00:00.000000000&#x27;,\n       &#x27;2020-07-22T00:00:00.000000000&#x27;, &#x27;2020-07-23T00:00:00.000000000&#x27;,\n       &#x27;2020-07-24T00:00:00.000000000&#x27;, &#x27;2020-07-27T00:00:00.000000000&#x27;,\n       &#x27;2020-07-28T00:00:00.000000000&#x27;, &#x27;2020-07-29T00:00:00.000000000&#x27;,\n       &#x27;2020-07-30T00:00:00.000000000&#x27;, &#x27;2020-07-31T00:00:00.000000000&#x27;,\n       &#x27;2020-08-03T00:00:00.000000000&#x27;, &#x27;2020-08-04T00:00:00.000000000&#x27;,\n       &#x27;2020-08-05T00:00:00.000000000&#x27;, &#x27;2020-08-06T00:00:00.000000000&#x27;,\n       &#x27;2020-08-07T00:00:00.000000000&#x27;, &#x27;2020-08-10T00:00:00.000000000&#x27;,\n       &#x27;2020-08-11T00:00:00.000000000&#x27;, &#x27;2020-08-12T00:00:00.000000000&#x27;,\n       &#x27;2020-08-13T00:00:00.000000000&#x27;, &#x27;2020-08-14T00:00:00.000000000&#x27;,\n       &#x27;2020-08-17T00:00:00.000000000&#x27;, &#x27;2020-08-18T00:00:00.000000000&#x27;,\n       &#x27;2020-08-19T00:00:00.000000000&#x27;, &#x27;2020-08-20T00:00:00.000000000&#x27;,\n       &#x27;2020-08-21T00:00:00.000000000&#x27;, &#x27;2020-08-24T00:00:00.000000000&#x27;,\n       &#x27;2020-08-25T00:00:00.000000000&#x27;, &#x27;2020-08-26T00:00:00.000000000&#x27;,\n       &#x27;2020-08-27T00:00:00.000000000&#x27;, &#x27;2020-08-28T00:00:00.000000000&#x27;],\n      dtype=&#x27;datetime64[ns]&#x27;)</pre></div></li></ul></div></li><li class='xr-section-item'><input id='section-7c3984e3-2431-4357-bb25-0bd58582af14' class='xr-section-summary-in' type='checkbox'  checked><label for='section-7c3984e3-2431-4357-bb25-0bd58582af14' class='xr-section-summary' >Data variables: <span>(3)</span></label><div class='xr-section-inline-details'></div><div class='xr-section-details'><ul class='xr-var-list'><li class='xr-var-item'><div class='xr-var-name'><span>close</span></div><div class='xr-var-dims'>(date, iso_code2)</div><div class='xr-var-dtype'>float64</div><div class='xr-var-preview xr-preview'>0.7198 1.091 ... 0.0095 0.1156</div><input id='attrs-158c1e22-95b9-481e-b034-7f9736dd8158' class='xr-var-attrs-in' type='checkbox' disabled><label for='attrs-158c1e22-95b9-481e-b034-7f9736dd8158' title='Show/Hide attributes'><svg class='icon xr-icon-file-text2'><use xlink:href='#icon-file-text2'></use></svg></label><input id='data-1576072e-bf01-45ff-8b1b-38ec6e662ae7' class='xr-var-data-in' type='checkbox'><label for='data-1576072e-bf01-45ff-8b1b-38ec6e662ae7' title='Show/Hide data repr'><svg class='icon xr-icon-database'><use xlink:href='#icon-database'></use></svg></label><div class='xr-var-attrs'><dl class='xr-attrs'></dl></div><div class='xr-var-data'><pre>array([[0.7198, 1.0915, 1.0915, ..., 1.0915, 0.0093, 0.0995],\n       [0.7202, 1.0983, 1.0983, ..., 1.0983, 0.0093, 0.1002],\n       [0.7081, 1.0901, 1.0901, ..., 1.0901, 0.0093, 0.0992],\n       ...,\n       [0.7603, 1.1835, 1.1835, ..., 1.1835, 0.0094, 0.1142],\n       [0.7616, 1.1817, 1.1817, ..., 1.1817, 0.0094, 0.1141],\n       [0.7657, 1.1914, 1.1914, ..., 1.1914, 0.0095, 0.1156]])</pre></div></li><li class='xr-var-item'><div class='xr-var-name'><span>open</span></div><div class='xr-var-dims'>(date, iso_code2)</div><div class='xr-var-dtype'>float64</div><div class='xr-var-preview xr-preview'>0.7147 1.094 ... 0.0094 0.1141</div><input id='attrs-040fd770-05c0-4ee9-aeec-e285ad610e89' class='xr-var-attrs-in' type='checkbox' disabled><label for='attrs-040fd770-05c0-4ee9-aeec-e285ad610e89' title='Show/Hide attributes'><svg class='icon xr-icon-file-text2'><use xlink:href='#icon-file-text2'></use></svg></label><input id='data-c7209e1b-db86-47a7-bc7b-78315b965630' class='xr-var-data-in' type='checkbox'><label for='data-c7209e1b-db86-47a7-bc7b-78315b965630' title='Show/Hide data repr'><svg class='icon xr-icon-database'><use xlink:href='#icon-database'></use></svg></label><div class='xr-var-attrs'><dl class='xr-attrs'></dl></div><div class='xr-var-data'><pre>array([[0.7147, 1.0937, 1.0937, ..., 1.0937, 0.0092, 0.1001],\n       [0.7198, 1.0915, 1.0915, ..., 1.0915, 0.0093, 0.0995],\n       [0.7199, 1.0984, 1.0984, ..., 1.0984, 0.0093, 0.1002],\n       ...,\n       [0.7591, 1.1833, 1.1833, ..., 1.1833, 0.0094, 0.1137],\n       [0.7608, 1.1836, 1.1836, ..., 1.1836, 0.0094, 0.1142],\n       [0.7618, 1.182 , 1.182 , ..., 1.182 , 0.0094, 0.1141]])</pre></div></li><li class='xr-var-item'><div class='xr-var-name'><span>currency</span></div><div class='xr-var-dims'>(iso_code2)</div><div class='xr-var-dtype'>object</div><div class='xr-var-preview xr-preview'>&#x27;CAD&#x27; &#x27;EUR&#x27; &#x27;EUR&#x27; ... &#x27;JPY&#x27; &#x27;SEK&#x27;</div><input id='attrs-fdbe2dcd-dc2a-448e-bed2-1014a9d678c8' class='xr-var-attrs-in' type='checkbox' disabled><label for='attrs-fdbe2dcd-dc2a-448e-bed2-1014a9d678c8' title='Show/Hide attributes'><svg class='icon xr-icon-file-text2'><use xlink:href='#icon-file-text2'></use></svg></label><input id='data-e52a6e01-7c1a-409a-b110-31c7e3224033' class='xr-var-data-in' type='checkbox'><label for='data-e52a6e01-7c1a-409a-b110-31c7e3224033' title='Show/Hide data repr'><svg class='icon xr-icon-database'><use xlink:href='#icon-database'></use></svg></label><div class='xr-var-attrs'><dl class='xr-attrs'></dl></div><div class='xr-var-data'><pre>array([&#x27;CAD&#x27;, &#x27;EUR&#x27;, &#x27;EUR&#x27;, &#x27;EUR&#x27;, &#x27;EUR&#x27;, &#x27;EUR&#x27;, &#x27;EUR&#x27;, &#x27;EUR&#x27;, &#x27;EUR&#x27;,\n       &#x27;EUR&#x27;, &#x27;EUR&#x27;, &#x27;EUR&#x27;, &#x27;EUR&#x27;, &#x27;EUR&#x27;, &#x27;EUR&#x27;, &#x27;EUR&#x27;, &#x27;EUR&#x27;, &#x27;EUR&#x27;,\n       &#x27;EUR&#x27;, &#x27;EUR&#x27;, &#x27;EUR&#x27;, &#x27;EUR&#x27;, &#x27;EUR&#x27;, &#x27;EUR&#x27;, &#x27;EUR&#x27;, &#x27;EUR&#x27;, &#x27;EUR&#x27;,\n       &#x27;EUR&#x27;, &#x27;EUR&#x27;, &#x27;EUR&#x27;, &#x27;EUR&#x27;, &#x27;EUR&#x27;, &#x27;EUR&#x27;, &#x27;JPY&#x27;, &#x27;SEK&#x27;],\n      dtype=object)</pre></div></li></ul></div></li><li class='xr-section-item'><input id='section-2fe8554d-a3da-4e0e-ac5d-803aee2f9692' class='xr-section-summary-in' type='checkbox' disabled ><label for='section-2fe8554d-a3da-4e0e-ac5d-803aee2f9692' class='xr-section-summary'  title='Expand/collapse section'>Attributes: <span>(0)</span></label><div class='xr-section-inline-details'></div><div class='xr-section-details'><dl class='xr-attrs'></dl></div></li></ul></div></div>"
     },
     "metadata": {},
     "execution_count": 252
    }
   ],
   "source": [
    "dst[['close', 'open', 'currency']]  # select varible subset"
   ]
  },
  {
   "cell_type": "code",
   "execution_count": 257,
   "metadata": {},
   "outputs": [
    {
     "output_type": "execute_result",
     "data": {
      "text/plain": "Frozen(SortedKeysDict({'date': 100, 'iso_code2': 35}))"
     },
     "metadata": {},
     "execution_count": 257
    }
   ],
   "source": [
    "dst.dims  # dimensions"
   ]
  },
  {
   "cell_type": "code",
   "execution_count": 262,
   "metadata": {},
   "outputs": [],
   "source": [
    "country_statics.index.name = 'name'\n",
    "cst =country_statics.reset_index().set_index('iso_code2')\n",
    "cst.columns.name = 'static_field'"
   ]
  },
  {
   "cell_type": "code",
   "execution_count": 267,
   "metadata": {},
   "outputs": [],
   "source": [
    "dst['static'] = cst"
   ]
  },
  {
   "cell_type": "code",
   "execution_count": 268,
   "metadata": {},
   "outputs": [
    {
     "output_type": "execute_result",
     "data": {
      "text/plain": "<xarray.Dataset>\nDimensions:       (date: 100, iso_code2: 35, static_field: 3)\nCoordinates:\n  * iso_code2     (iso_code2) object 'CA' 'AX' 'AD' 'AT' ... 'SI' 'ES' 'JP' 'SE'\n  * date          (date) datetime64[ns] 2020-04-13 2020-04-14 ... 2020-08-28\n  * static_field  (static_field) object 'name' 'iso_code3' 'numeric'\nData variables:\n    close         (date, iso_code2) float64 0.7198 1.091 1.091 ... 0.0095 0.1156\n    currency      (iso_code2) object 'CAD' 'EUR' 'EUR' ... 'EUR' 'JPY' 'SEK'\n    country       (iso_code2) object 'Canada' 'Aland Islands' ... 'Sweden'\n    open          (date, iso_code2) float64 0.7147 1.094 1.094 ... 0.0094 0.1141\n    static        (iso_code2, static_field) object 'Canada' 'CAN' ... 'SWE' 752",
      "text/html": "<div><svg style=\"position: absolute; width: 0; height: 0; overflow: hidden\">\n<defs>\n<symbol id=\"icon-database\" viewBox=\"0 0 32 32\">\n<path d=\"M16 0c-8.837 0-16 2.239-16 5v4c0 2.761 7.163 5 16 5s16-2.239 16-5v-4c0-2.761-7.163-5-16-5z\"></path>\n<path d=\"M16 17c-8.837 0-16-2.239-16-5v6c0 2.761 7.163 5 16 5s16-2.239 16-5v-6c0 2.761-7.163 5-16 5z\"></path>\n<path d=\"M16 26c-8.837 0-16-2.239-16-5v6c0 2.761 7.163 5 16 5s16-2.239 16-5v-6c0 2.761-7.163 5-16 5z\"></path>\n</symbol>\n<symbol id=\"icon-file-text2\" viewBox=\"0 0 32 32\">\n<path d=\"M28.681 7.159c-0.694-0.947-1.662-2.053-2.724-3.116s-2.169-2.030-3.116-2.724c-1.612-1.182-2.393-1.319-2.841-1.319h-15.5c-1.378 0-2.5 1.121-2.5 2.5v27c0 1.378 1.122 2.5 2.5 2.5h23c1.378 0 2.5-1.122 2.5-2.5v-19.5c0-0.448-0.137-1.23-1.319-2.841zM24.543 5.457c0.959 0.959 1.712 1.825 2.268 2.543h-4.811v-4.811c0.718 0.556 1.584 1.309 2.543 2.268zM28 29.5c0 0.271-0.229 0.5-0.5 0.5h-23c-0.271 0-0.5-0.229-0.5-0.5v-27c0-0.271 0.229-0.5 0.5-0.5 0 0 15.499-0 15.5 0v7c0 0.552 0.448 1 1 1h7v19.5z\"></path>\n<path d=\"M23 26h-14c-0.552 0-1-0.448-1-1s0.448-1 1-1h14c0.552 0 1 0.448 1 1s-0.448 1-1 1z\"></path>\n<path d=\"M23 22h-14c-0.552 0-1-0.448-1-1s0.448-1 1-1h14c0.552 0 1 0.448 1 1s-0.448 1-1 1z\"></path>\n<path d=\"M23 18h-14c-0.552 0-1-0.448-1-1s0.448-1 1-1h14c0.552 0 1 0.448 1 1s-0.448 1-1 1z\"></path>\n</symbol>\n</defs>\n</svg>\n<style>/* CSS stylesheet for displaying xarray objects in jupyterlab.\n *\n */\n\n:root {\n  --xr-font-color0: var(--jp-content-font-color0, rgba(0, 0, 0, 1));\n  --xr-font-color2: var(--jp-content-font-color2, rgba(0, 0, 0, 0.54));\n  --xr-font-color3: var(--jp-content-font-color3, rgba(0, 0, 0, 0.38));\n  --xr-border-color: var(--jp-border-color2, #e0e0e0);\n  --xr-disabled-color: var(--jp-layout-color3, #bdbdbd);\n  --xr-background-color: var(--jp-layout-color0, white);\n  --xr-background-color-row-even: var(--jp-layout-color1, white);\n  --xr-background-color-row-odd: var(--jp-layout-color2, #eeeeee);\n}\n\nhtml[theme=dark],\nbody.vscode-dark {\n  --xr-font-color0: rgba(255, 255, 255, 1);\n  --xr-font-color2: rgba(255, 255, 255, 0.54);\n  --xr-font-color3: rgba(255, 255, 255, 0.38);\n  --xr-border-color: #1F1F1F;\n  --xr-disabled-color: #515151;\n  --xr-background-color: #111111;\n  --xr-background-color-row-even: #111111;\n  --xr-background-color-row-odd: #313131;\n}\n\n.xr-wrap {\n  display: block;\n  min-width: 300px;\n  max-width: 700px;\n}\n\n.xr-text-repr-fallback {\n  /* fallback to plain text repr when CSS is not injected (untrusted notebook) */\n  display: none;\n}\n\n.xr-header {\n  padding-top: 6px;\n  padding-bottom: 6px;\n  margin-bottom: 4px;\n  border-bottom: solid 1px var(--xr-border-color);\n}\n\n.xr-header > div,\n.xr-header > ul {\n  display: inline;\n  margin-top: 0;\n  margin-bottom: 0;\n}\n\n.xr-obj-type,\n.xr-array-name {\n  margin-left: 2px;\n  margin-right: 10px;\n}\n\n.xr-obj-type {\n  color: var(--xr-font-color2);\n}\n\n.xr-sections {\n  padding-left: 0 !important;\n  display: grid;\n  grid-template-columns: 150px auto auto 1fr 20px 20px;\n}\n\n.xr-section-item {\n  display: contents;\n}\n\n.xr-section-item input {\n  display: none;\n}\n\n.xr-section-item input + label {\n  color: var(--xr-disabled-color);\n}\n\n.xr-section-item input:enabled + label {\n  cursor: pointer;\n  color: var(--xr-font-color2);\n}\n\n.xr-section-item input:enabled + label:hover {\n  color: var(--xr-font-color0);\n}\n\n.xr-section-summary {\n  grid-column: 1;\n  color: var(--xr-font-color2);\n  font-weight: 500;\n}\n\n.xr-section-summary > span {\n  display: inline-block;\n  padding-left: 0.5em;\n}\n\n.xr-section-summary-in:disabled + label {\n  color: var(--xr-font-color2);\n}\n\n.xr-section-summary-in + label:before {\n  display: inline-block;\n  content: '►';\n  font-size: 11px;\n  width: 15px;\n  text-align: center;\n}\n\n.xr-section-summary-in:disabled + label:before {\n  color: var(--xr-disabled-color);\n}\n\n.xr-section-summary-in:checked + label:before {\n  content: '▼';\n}\n\n.xr-section-summary-in:checked + label > span {\n  display: none;\n}\n\n.xr-section-summary,\n.xr-section-inline-details {\n  padding-top: 4px;\n  padding-bottom: 4px;\n}\n\n.xr-section-inline-details {\n  grid-column: 2 / -1;\n}\n\n.xr-section-details {\n  display: none;\n  grid-column: 1 / -1;\n  margin-bottom: 5px;\n}\n\n.xr-section-summary-in:checked ~ .xr-section-details {\n  display: contents;\n}\n\n.xr-array-wrap {\n  grid-column: 1 / -1;\n  display: grid;\n  grid-template-columns: 20px auto;\n}\n\n.xr-array-wrap > label {\n  grid-column: 1;\n  vertical-align: top;\n}\n\n.xr-preview {\n  color: var(--xr-font-color3);\n}\n\n.xr-array-preview,\n.xr-array-data {\n  padding: 0 5px !important;\n  grid-column: 2;\n}\n\n.xr-array-data,\n.xr-array-in:checked ~ .xr-array-preview {\n  display: none;\n}\n\n.xr-array-in:checked ~ .xr-array-data,\n.xr-array-preview {\n  display: inline-block;\n}\n\n.xr-dim-list {\n  display: inline-block !important;\n  list-style: none;\n  padding: 0 !important;\n  margin: 0;\n}\n\n.xr-dim-list li {\n  display: inline-block;\n  padding: 0;\n  margin: 0;\n}\n\n.xr-dim-list:before {\n  content: '(';\n}\n\n.xr-dim-list:after {\n  content: ')';\n}\n\n.xr-dim-list li:not(:last-child):after {\n  content: ',';\n  padding-right: 5px;\n}\n\n.xr-has-index {\n  font-weight: bold;\n}\n\n.xr-var-list,\n.xr-var-item {\n  display: contents;\n}\n\n.xr-var-item > div,\n.xr-var-item label,\n.xr-var-item > .xr-var-name span {\n  background-color: var(--xr-background-color-row-even);\n  margin-bottom: 0;\n}\n\n.xr-var-item > .xr-var-name:hover span {\n  padding-right: 5px;\n}\n\n.xr-var-list > li:nth-child(odd) > div,\n.xr-var-list > li:nth-child(odd) > label,\n.xr-var-list > li:nth-child(odd) > .xr-var-name span {\n  background-color: var(--xr-background-color-row-odd);\n}\n\n.xr-var-name {\n  grid-column: 1;\n}\n\n.xr-var-dims {\n  grid-column: 2;\n}\n\n.xr-var-dtype {\n  grid-column: 3;\n  text-align: right;\n  color: var(--xr-font-color2);\n}\n\n.xr-var-preview {\n  grid-column: 4;\n}\n\n.xr-var-name,\n.xr-var-dims,\n.xr-var-dtype,\n.xr-preview,\n.xr-attrs dt {\n  white-space: nowrap;\n  overflow: hidden;\n  text-overflow: ellipsis;\n  padding-right: 10px;\n}\n\n.xr-var-name:hover,\n.xr-var-dims:hover,\n.xr-var-dtype:hover,\n.xr-attrs dt:hover {\n  overflow: visible;\n  width: auto;\n  z-index: 1;\n}\n\n.xr-var-attrs,\n.xr-var-data {\n  display: none;\n  background-color: var(--xr-background-color) !important;\n  padding-bottom: 5px !important;\n}\n\n.xr-var-attrs-in:checked ~ .xr-var-attrs,\n.xr-var-data-in:checked ~ .xr-var-data {\n  display: block;\n}\n\n.xr-var-data > table {\n  float: right;\n}\n\n.xr-var-name span,\n.xr-var-data,\n.xr-attrs {\n  padding-left: 25px !important;\n}\n\n.xr-attrs,\n.xr-var-attrs,\n.xr-var-data {\n  grid-column: 1 / -1;\n}\n\ndl.xr-attrs {\n  padding: 0;\n  margin: 0;\n  display: grid;\n  grid-template-columns: 125px auto;\n}\n\n.xr-attrs dt, dd {\n  padding: 0;\n  margin: 0;\n  float: left;\n  padding-right: 10px;\n  width: auto;\n}\n\n.xr-attrs dt {\n  font-weight: normal;\n  grid-column: 1;\n}\n\n.xr-attrs dt:hover span {\n  display: inline-block;\n  background: var(--xr-background-color);\n  padding-right: 10px;\n}\n\n.xr-attrs dd {\n  grid-column: 2;\n  white-space: pre-wrap;\n  word-break: break-all;\n}\n\n.xr-icon-database,\n.xr-icon-file-text2 {\n  display: inline-block;\n  vertical-align: middle;\n  width: 1em;\n  height: 1.5em !important;\n  stroke-width: 0;\n  stroke: currentColor;\n  fill: currentColor;\n}\n</style><pre class='xr-text-repr-fallback'>&lt;xarray.Dataset&gt;\nDimensions:       (date: 100, iso_code2: 35, static_field: 3)\nCoordinates:\n  * iso_code2     (iso_code2) object &#x27;CA&#x27; &#x27;AX&#x27; &#x27;AD&#x27; &#x27;AT&#x27; ... &#x27;SI&#x27; &#x27;ES&#x27; &#x27;JP&#x27; &#x27;SE&#x27;\n  * date          (date) datetime64[ns] 2020-04-13 2020-04-14 ... 2020-08-28\n  * static_field  (static_field) object &#x27;name&#x27; &#x27;iso_code3&#x27; &#x27;numeric&#x27;\nData variables:\n    close         (date, iso_code2) float64 0.7198 1.091 1.091 ... 0.0095 0.1156\n    currency      (iso_code2) object &#x27;CAD&#x27; &#x27;EUR&#x27; &#x27;EUR&#x27; ... &#x27;EUR&#x27; &#x27;JPY&#x27; &#x27;SEK&#x27;\n    country       (iso_code2) object &#x27;Canada&#x27; &#x27;Aland Islands&#x27; ... &#x27;Sweden&#x27;\n    open          (date, iso_code2) float64 0.7147 1.094 1.094 ... 0.0094 0.1141\n    static        (iso_code2, static_field) object &#x27;Canada&#x27; &#x27;CAN&#x27; ... &#x27;SWE&#x27; 752</pre><div class='xr-wrap' hidden><div class='xr-header'><div class='xr-obj-type'>xarray.Dataset</div></div><ul class='xr-sections'><li class='xr-section-item'><input id='section-41e36fc7-c431-4a8e-83cf-5a66c3348f6f' class='xr-section-summary-in' type='checkbox' disabled ><label for='section-41e36fc7-c431-4a8e-83cf-5a66c3348f6f' class='xr-section-summary'  title='Expand/collapse section'>Dimensions:</label><div class='xr-section-inline-details'><ul class='xr-dim-list'><li><span class='xr-has-index'>date</span>: 100</li><li><span class='xr-has-index'>iso_code2</span>: 35</li><li><span class='xr-has-index'>static_field</span>: 3</li></ul></div><div class='xr-section-details'></div></li><li class='xr-section-item'><input id='section-b6705493-b710-4908-8c55-730be346f1cb' class='xr-section-summary-in' type='checkbox'  checked><label for='section-b6705493-b710-4908-8c55-730be346f1cb' class='xr-section-summary' >Coordinates: <span>(3)</span></label><div class='xr-section-inline-details'></div><div class='xr-section-details'><ul class='xr-var-list'><li class='xr-var-item'><div class='xr-var-name'><span class='xr-has-index'>iso_code2</span></div><div class='xr-var-dims'>(iso_code2)</div><div class='xr-var-dtype'>object</div><div class='xr-var-preview xr-preview'>&#x27;CA&#x27; &#x27;AX&#x27; &#x27;AD&#x27; ... &#x27;ES&#x27; &#x27;JP&#x27; &#x27;SE&#x27;</div><input id='attrs-dbc2b59b-8511-49e7-bfdf-c0b42e18c38a' class='xr-var-attrs-in' type='checkbox' disabled><label for='attrs-dbc2b59b-8511-49e7-bfdf-c0b42e18c38a' title='Show/Hide attributes'><svg class='icon xr-icon-file-text2'><use xlink:href='#icon-file-text2'></use></svg></label><input id='data-7b839648-2c49-473d-926c-1bf6a4e7e472' class='xr-var-data-in' type='checkbox'><label for='data-7b839648-2c49-473d-926c-1bf6a4e7e472' title='Show/Hide data repr'><svg class='icon xr-icon-database'><use xlink:href='#icon-database'></use></svg></label><div class='xr-var-attrs'><dl class='xr-attrs'></dl></div><div class='xr-var-data'><pre>array([&#x27;CA&#x27;, &#x27;AX&#x27;, &#x27;AD&#x27;, &#x27;AT&#x27;, &#x27;BE&#x27;, &#x27;CY&#x27;, &#x27;EE&#x27;, &#x27;FI&#x27;, &#x27;FR&#x27;, &#x27;GF&#x27;, &#x27;TF&#x27;, &#x27;DE&#x27;,\n       &#x27;GR&#x27;, &#x27;GP&#x27;, &#x27;VA&#x27;, &#x27;IE&#x27;, &#x27;IT&#x27;, &#x27;LV&#x27;, &#x27;LT&#x27;, &#x27;LU&#x27;, &#x27;MT&#x27;, &#x27;MQ&#x27;, &#x27;YT&#x27;, &#x27;MC&#x27;,\n       &#x27;ME&#x27;, &#x27;NL&#x27;, &#x27;PT&#x27;, &#x27;MF&#x27;, &#x27;PM&#x27;, &#x27;SM&#x27;, &#x27;SK&#x27;, &#x27;SI&#x27;, &#x27;ES&#x27;, &#x27;JP&#x27;, &#x27;SE&#x27;],\n      dtype=object)</pre></div></li><li class='xr-var-item'><div class='xr-var-name'><span class='xr-has-index'>date</span></div><div class='xr-var-dims'>(date)</div><div class='xr-var-dtype'>datetime64[ns]</div><div class='xr-var-preview xr-preview'>2020-04-13 ... 2020-08-28</div><input id='attrs-3dbdb7df-7264-4e18-9744-079ba2be21b1' class='xr-var-attrs-in' type='checkbox' disabled><label for='attrs-3dbdb7df-7264-4e18-9744-079ba2be21b1' title='Show/Hide attributes'><svg class='icon xr-icon-file-text2'><use xlink:href='#icon-file-text2'></use></svg></label><input id='data-12b10ef2-9673-4ecc-9c06-89528ed3f52d' class='xr-var-data-in' type='checkbox'><label for='data-12b10ef2-9673-4ecc-9c06-89528ed3f52d' title='Show/Hide data repr'><svg class='icon xr-icon-database'><use xlink:href='#icon-database'></use></svg></label><div class='xr-var-attrs'><dl class='xr-attrs'></dl></div><div class='xr-var-data'><pre>array([&#x27;2020-04-13T00:00:00.000000000&#x27;, &#x27;2020-04-14T00:00:00.000000000&#x27;,\n       &#x27;2020-04-15T00:00:00.000000000&#x27;, &#x27;2020-04-16T00:00:00.000000000&#x27;,\n       &#x27;2020-04-17T00:00:00.000000000&#x27;, &#x27;2020-04-20T00:00:00.000000000&#x27;,\n       &#x27;2020-04-21T00:00:00.000000000&#x27;, &#x27;2020-04-22T00:00:00.000000000&#x27;,\n       &#x27;2020-04-23T00:00:00.000000000&#x27;, &#x27;2020-04-24T00:00:00.000000000&#x27;,\n       &#x27;2020-04-27T00:00:00.000000000&#x27;, &#x27;2020-04-28T00:00:00.000000000&#x27;,\n       &#x27;2020-04-29T00:00:00.000000000&#x27;, &#x27;2020-04-30T00:00:00.000000000&#x27;,\n       &#x27;2020-05-01T00:00:00.000000000&#x27;, &#x27;2020-05-04T00:00:00.000000000&#x27;,\n       &#x27;2020-05-05T00:00:00.000000000&#x27;, &#x27;2020-05-06T00:00:00.000000000&#x27;,\n       &#x27;2020-05-07T00:00:00.000000000&#x27;, &#x27;2020-05-08T00:00:00.000000000&#x27;,\n       &#x27;2020-05-11T00:00:00.000000000&#x27;, &#x27;2020-05-12T00:00:00.000000000&#x27;,\n       &#x27;2020-05-13T00:00:00.000000000&#x27;, &#x27;2020-05-14T00:00:00.000000000&#x27;,\n       &#x27;2020-05-15T00:00:00.000000000&#x27;, &#x27;2020-05-18T00:00:00.000000000&#x27;,\n       &#x27;2020-05-19T00:00:00.000000000&#x27;, &#x27;2020-05-20T00:00:00.000000000&#x27;,\n       &#x27;2020-05-21T00:00:00.000000000&#x27;, &#x27;2020-05-22T00:00:00.000000000&#x27;,\n       &#x27;2020-05-25T00:00:00.000000000&#x27;, &#x27;2020-05-26T00:00:00.000000000&#x27;,\n       &#x27;2020-05-27T00:00:00.000000000&#x27;, &#x27;2020-05-28T00:00:00.000000000&#x27;,\n       &#x27;2020-05-29T00:00:00.000000000&#x27;, &#x27;2020-06-01T00:00:00.000000000&#x27;,\n       &#x27;2020-06-02T00:00:00.000000000&#x27;, &#x27;2020-06-03T00:00:00.000000000&#x27;,\n       &#x27;2020-06-04T00:00:00.000000000&#x27;, &#x27;2020-06-05T00:00:00.000000000&#x27;,\n       &#x27;2020-06-08T00:00:00.000000000&#x27;, &#x27;2020-06-09T00:00:00.000000000&#x27;,\n       &#x27;2020-06-10T00:00:00.000000000&#x27;, &#x27;2020-06-11T00:00:00.000000000&#x27;,\n       &#x27;2020-06-12T00:00:00.000000000&#x27;, &#x27;2020-06-15T00:00:00.000000000&#x27;,\n       &#x27;2020-06-16T00:00:00.000000000&#x27;, &#x27;2020-06-17T00:00:00.000000000&#x27;,\n       &#x27;2020-06-18T00:00:00.000000000&#x27;, &#x27;2020-06-19T00:00:00.000000000&#x27;,\n       &#x27;2020-06-22T00:00:00.000000000&#x27;, &#x27;2020-06-23T00:00:00.000000000&#x27;,\n       &#x27;2020-06-24T00:00:00.000000000&#x27;, &#x27;2020-06-25T00:00:00.000000000&#x27;,\n       &#x27;2020-06-26T00:00:00.000000000&#x27;, &#x27;2020-06-29T00:00:00.000000000&#x27;,\n       &#x27;2020-06-30T00:00:00.000000000&#x27;, &#x27;2020-07-01T00:00:00.000000000&#x27;,\n       &#x27;2020-07-02T00:00:00.000000000&#x27;, &#x27;2020-07-03T00:00:00.000000000&#x27;,\n       &#x27;2020-07-06T00:00:00.000000000&#x27;, &#x27;2020-07-07T00:00:00.000000000&#x27;,\n       &#x27;2020-07-08T00:00:00.000000000&#x27;, &#x27;2020-07-09T00:00:00.000000000&#x27;,\n       &#x27;2020-07-10T00:00:00.000000000&#x27;, &#x27;2020-07-13T00:00:00.000000000&#x27;,\n       &#x27;2020-07-14T00:00:00.000000000&#x27;, &#x27;2020-07-15T00:00:00.000000000&#x27;,\n       &#x27;2020-07-16T00:00:00.000000000&#x27;, &#x27;2020-07-17T00:00:00.000000000&#x27;,\n       &#x27;2020-07-20T00:00:00.000000000&#x27;, &#x27;2020-07-21T00:00:00.000000000&#x27;,\n       &#x27;2020-07-22T00:00:00.000000000&#x27;, &#x27;2020-07-23T00:00:00.000000000&#x27;,\n       &#x27;2020-07-24T00:00:00.000000000&#x27;, &#x27;2020-07-27T00:00:00.000000000&#x27;,\n       &#x27;2020-07-28T00:00:00.000000000&#x27;, &#x27;2020-07-29T00:00:00.000000000&#x27;,\n       &#x27;2020-07-30T00:00:00.000000000&#x27;, &#x27;2020-07-31T00:00:00.000000000&#x27;,\n       &#x27;2020-08-03T00:00:00.000000000&#x27;, &#x27;2020-08-04T00:00:00.000000000&#x27;,\n       &#x27;2020-08-05T00:00:00.000000000&#x27;, &#x27;2020-08-06T00:00:00.000000000&#x27;,\n       &#x27;2020-08-07T00:00:00.000000000&#x27;, &#x27;2020-08-10T00:00:00.000000000&#x27;,\n       &#x27;2020-08-11T00:00:00.000000000&#x27;, &#x27;2020-08-12T00:00:00.000000000&#x27;,\n       &#x27;2020-08-13T00:00:00.000000000&#x27;, &#x27;2020-08-14T00:00:00.000000000&#x27;,\n       &#x27;2020-08-17T00:00:00.000000000&#x27;, &#x27;2020-08-18T00:00:00.000000000&#x27;,\n       &#x27;2020-08-19T00:00:00.000000000&#x27;, &#x27;2020-08-20T00:00:00.000000000&#x27;,\n       &#x27;2020-08-21T00:00:00.000000000&#x27;, &#x27;2020-08-24T00:00:00.000000000&#x27;,\n       &#x27;2020-08-25T00:00:00.000000000&#x27;, &#x27;2020-08-26T00:00:00.000000000&#x27;,\n       &#x27;2020-08-27T00:00:00.000000000&#x27;, &#x27;2020-08-28T00:00:00.000000000&#x27;],\n      dtype=&#x27;datetime64[ns]&#x27;)</pre></div></li><li class='xr-var-item'><div class='xr-var-name'><span class='xr-has-index'>static_field</span></div><div class='xr-var-dims'>(static_field)</div><div class='xr-var-dtype'>object</div><div class='xr-var-preview xr-preview'>&#x27;name&#x27; &#x27;iso_code3&#x27; &#x27;numeric&#x27;</div><input id='attrs-81d28fe3-accc-45d4-8822-950a28e3c389' class='xr-var-attrs-in' type='checkbox' disabled><label for='attrs-81d28fe3-accc-45d4-8822-950a28e3c389' title='Show/Hide attributes'><svg class='icon xr-icon-file-text2'><use xlink:href='#icon-file-text2'></use></svg></label><input id='data-65d65159-ef29-4601-be76-095236693090' class='xr-var-data-in' type='checkbox'><label for='data-65d65159-ef29-4601-be76-095236693090' title='Show/Hide data repr'><svg class='icon xr-icon-database'><use xlink:href='#icon-database'></use></svg></label><div class='xr-var-attrs'><dl class='xr-attrs'></dl></div><div class='xr-var-data'><pre>array([&#x27;name&#x27;, &#x27;iso_code3&#x27;, &#x27;numeric&#x27;], dtype=object)</pre></div></li></ul></div></li><li class='xr-section-item'><input id='section-67d70a65-b04e-4630-8000-2462e198ea03' class='xr-section-summary-in' type='checkbox'  checked><label for='section-67d70a65-b04e-4630-8000-2462e198ea03' class='xr-section-summary' >Data variables: <span>(5)</span></label><div class='xr-section-inline-details'></div><div class='xr-section-details'><ul class='xr-var-list'><li class='xr-var-item'><div class='xr-var-name'><span>close</span></div><div class='xr-var-dims'>(date, iso_code2)</div><div class='xr-var-dtype'>float64</div><div class='xr-var-preview xr-preview'>0.7198 1.091 ... 0.0095 0.1156</div><input id='attrs-1018a00a-1f15-46a7-96be-75d56d398d60' class='xr-var-attrs-in' type='checkbox' disabled><label for='attrs-1018a00a-1f15-46a7-96be-75d56d398d60' title='Show/Hide attributes'><svg class='icon xr-icon-file-text2'><use xlink:href='#icon-file-text2'></use></svg></label><input id='data-0c0d4adc-0334-41f6-a9a5-ff2ddf3d8e75' class='xr-var-data-in' type='checkbox'><label for='data-0c0d4adc-0334-41f6-a9a5-ff2ddf3d8e75' title='Show/Hide data repr'><svg class='icon xr-icon-database'><use xlink:href='#icon-database'></use></svg></label><div class='xr-var-attrs'><dl class='xr-attrs'></dl></div><div class='xr-var-data'><pre>array([[0.7198, 1.0915, 1.0915, ..., 1.0915, 0.0093, 0.0995],\n       [0.7202, 1.0983, 1.0983, ..., 1.0983, 0.0093, 0.1002],\n       [0.7081, 1.0901, 1.0901, ..., 1.0901, 0.0093, 0.0992],\n       ...,\n       [0.7603, 1.1835, 1.1835, ..., 1.1835, 0.0094, 0.1142],\n       [0.7616, 1.1817, 1.1817, ..., 1.1817, 0.0094, 0.1141],\n       [0.7657, 1.1914, 1.1914, ..., 1.1914, 0.0095, 0.1156]])</pre></div></li><li class='xr-var-item'><div class='xr-var-name'><span>currency</span></div><div class='xr-var-dims'>(iso_code2)</div><div class='xr-var-dtype'>object</div><div class='xr-var-preview xr-preview'>&#x27;CAD&#x27; &#x27;EUR&#x27; &#x27;EUR&#x27; ... &#x27;JPY&#x27; &#x27;SEK&#x27;</div><input id='attrs-f54fab26-a797-4974-90cb-9b1bf0acd63a' class='xr-var-attrs-in' type='checkbox' disabled><label for='attrs-f54fab26-a797-4974-90cb-9b1bf0acd63a' title='Show/Hide attributes'><svg class='icon xr-icon-file-text2'><use xlink:href='#icon-file-text2'></use></svg></label><input id='data-823660ee-abd6-448c-bba2-6385a3b1de64' class='xr-var-data-in' type='checkbox'><label for='data-823660ee-abd6-448c-bba2-6385a3b1de64' title='Show/Hide data repr'><svg class='icon xr-icon-database'><use xlink:href='#icon-database'></use></svg></label><div class='xr-var-attrs'><dl class='xr-attrs'></dl></div><div class='xr-var-data'><pre>array([&#x27;CAD&#x27;, &#x27;EUR&#x27;, &#x27;EUR&#x27;, &#x27;EUR&#x27;, &#x27;EUR&#x27;, &#x27;EUR&#x27;, &#x27;EUR&#x27;, &#x27;EUR&#x27;, &#x27;EUR&#x27;,\n       &#x27;EUR&#x27;, &#x27;EUR&#x27;, &#x27;EUR&#x27;, &#x27;EUR&#x27;, &#x27;EUR&#x27;, &#x27;EUR&#x27;, &#x27;EUR&#x27;, &#x27;EUR&#x27;, &#x27;EUR&#x27;,\n       &#x27;EUR&#x27;, &#x27;EUR&#x27;, &#x27;EUR&#x27;, &#x27;EUR&#x27;, &#x27;EUR&#x27;, &#x27;EUR&#x27;, &#x27;EUR&#x27;, &#x27;EUR&#x27;, &#x27;EUR&#x27;,\n       &#x27;EUR&#x27;, &#x27;EUR&#x27;, &#x27;EUR&#x27;, &#x27;EUR&#x27;, &#x27;EUR&#x27;, &#x27;EUR&#x27;, &#x27;JPY&#x27;, &#x27;SEK&#x27;],\n      dtype=object)</pre></div></li><li class='xr-var-item'><div class='xr-var-name'><span>country</span></div><div class='xr-var-dims'>(iso_code2)</div><div class='xr-var-dtype'>object</div><div class='xr-var-preview xr-preview'>&#x27;Canada&#x27; ... &#x27;Sweden&#x27;</div><input id='attrs-aeac7bf9-0fc9-4590-ae8e-cfbe7340b954' class='xr-var-attrs-in' type='checkbox' disabled><label for='attrs-aeac7bf9-0fc9-4590-ae8e-cfbe7340b954' title='Show/Hide attributes'><svg class='icon xr-icon-file-text2'><use xlink:href='#icon-file-text2'></use></svg></label><input id='data-895041c1-7a6b-4ae3-871e-6e60c722e7f1' class='xr-var-data-in' type='checkbox'><label for='data-895041c1-7a6b-4ae3-871e-6e60c722e7f1' title='Show/Hide data repr'><svg class='icon xr-icon-database'><use xlink:href='#icon-database'></use></svg></label><div class='xr-var-attrs'><dl class='xr-attrs'></dl></div><div class='xr-var-data'><pre>array([&#x27;Canada&#x27;, &#x27;Aland Islands&#x27;, &#x27;Andorra&#x27;, &#x27;Austria&#x27;, &#x27;Belgium&#x27;,\n       &#x27;Cyprus&#x27;, &#x27;Estonia&#x27;, &#x27;Finland&#x27;, &#x27;France&#x27;, &#x27;French Guiana&#x27;,\n       &#x27;French Southern Territories&#x27;, &#x27;Germany&#x27;, &#x27;Greece&#x27;, &#x27;Guadeloupe&#x27;,\n       &#x27;Holy See&#x27;, &#x27;Ireland&#x27;, &#x27;Italy&#x27;, &#x27;Latvia&#x27;, &#x27;Lithuania&#x27;,\n       &#x27;Luxembourg&#x27;, &#x27;Malta&#x27;, &#x27;Martinique&#x27;, &#x27;Mayotte&#x27;, &#x27;Monaco&#x27;,\n       &#x27;Montenegro&#x27;, &#x27;Netherlands&#x27;, &#x27;Portugal&#x27;, &#x27;Saint Martin&#x27;,\n       &#x27;Saint Pierre and Miquelon&#x27;, &#x27;San Marino&#x27;, &#x27;Slovakia&#x27;, &#x27;Slovenia&#x27;,\n       &#x27;Spain&#x27;, &#x27;Japan&#x27;, &#x27;Sweden&#x27;], dtype=object)</pre></div></li><li class='xr-var-item'><div class='xr-var-name'><span>open</span></div><div class='xr-var-dims'>(date, iso_code2)</div><div class='xr-var-dtype'>float64</div><div class='xr-var-preview xr-preview'>0.7147 1.094 ... 0.0094 0.1141</div><input id='attrs-a9ae23f5-163c-4092-a775-8ed481f3a01e' class='xr-var-attrs-in' type='checkbox' disabled><label for='attrs-a9ae23f5-163c-4092-a775-8ed481f3a01e' title='Show/Hide attributes'><svg class='icon xr-icon-file-text2'><use xlink:href='#icon-file-text2'></use></svg></label><input id='data-1b5811b3-d98c-461e-8e0d-10519ddb84f4' class='xr-var-data-in' type='checkbox'><label for='data-1b5811b3-d98c-461e-8e0d-10519ddb84f4' title='Show/Hide data repr'><svg class='icon xr-icon-database'><use xlink:href='#icon-database'></use></svg></label><div class='xr-var-attrs'><dl class='xr-attrs'></dl></div><div class='xr-var-data'><pre>array([[0.7147, 1.0937, 1.0937, ..., 1.0937, 0.0092, 0.1001],\n       [0.7198, 1.0915, 1.0915, ..., 1.0915, 0.0093, 0.0995],\n       [0.7199, 1.0984, 1.0984, ..., 1.0984, 0.0093, 0.1002],\n       ...,\n       [0.7591, 1.1833, 1.1833, ..., 1.1833, 0.0094, 0.1137],\n       [0.7608, 1.1836, 1.1836, ..., 1.1836, 0.0094, 0.1142],\n       [0.7618, 1.182 , 1.182 , ..., 1.182 , 0.0094, 0.1141]])</pre></div></li><li class='xr-var-item'><div class='xr-var-name'><span>static</span></div><div class='xr-var-dims'>(iso_code2, static_field)</div><div class='xr-var-dtype'>object</div><div class='xr-var-preview xr-preview'>&#x27;Canada&#x27; &#x27;CAN&#x27; 124 ... &#x27;SWE&#x27; 752</div><input id='attrs-12f5d1fd-a4b6-46c3-b585-7ff9611cc8b9' class='xr-var-attrs-in' type='checkbox' disabled><label for='attrs-12f5d1fd-a4b6-46c3-b585-7ff9611cc8b9' title='Show/Hide attributes'><svg class='icon xr-icon-file-text2'><use xlink:href='#icon-file-text2'></use></svg></label><input id='data-0c472926-8cef-4930-8f3d-143851fa12c4' class='xr-var-data-in' type='checkbox'><label for='data-0c472926-8cef-4930-8f3d-143851fa12c4' title='Show/Hide data repr'><svg class='icon xr-icon-database'><use xlink:href='#icon-database'></use></svg></label><div class='xr-var-attrs'><dl class='xr-attrs'></dl></div><div class='xr-var-data'><pre>array([[&#x27;Canada&#x27;, &#x27;CAN&#x27;, 124],\n       [&#x27;Aland Islands&#x27;, &#x27;ALA&#x27;, 248],\n       [&#x27;Andorra&#x27;, &#x27;AND&#x27;, 20],\n       [&#x27;Austria&#x27;, &#x27;AUT&#x27;, 40],\n       [&#x27;Belgium&#x27;, &#x27;BEL&#x27;, 56],\n       [&#x27;Cyprus&#x27;, &#x27;CYP&#x27;, 196],\n       [&#x27;Estonia&#x27;, &#x27;EST&#x27;, 233],\n       [&#x27;Finland&#x27;, &#x27;FIN&#x27;, 246],\n       [&#x27;France&#x27;, &#x27;FRA&#x27;, 250],\n       [&#x27;French Guiana&#x27;, &#x27;GUF&#x27;, 254],\n       [&#x27;French Southern Territories&#x27;, &#x27;ATF&#x27;, 260],\n       [&#x27;Germany&#x27;, &#x27;DEU&#x27;, 276],\n       [&#x27;Greece&#x27;, &#x27;GRC&#x27;, 300],\n       [&#x27;Guadeloupe&#x27;, &#x27;GLP&#x27;, 312],\n       [&#x27;Holy See&#x27;, &#x27;VAT&#x27;, 336],\n       [&#x27;Ireland&#x27;, &#x27;IRL&#x27;, 372],\n       [&#x27;Italy&#x27;, &#x27;ITA&#x27;, 380],\n       [&#x27;Latvia&#x27;, &#x27;LVA&#x27;, 428],\n       [&#x27;Lithuania&#x27;, &#x27;LTU&#x27;, 440],\n       [&#x27;Luxembourg&#x27;, &#x27;LUX&#x27;, 442],\n       [&#x27;Malta&#x27;, &#x27;MLT&#x27;, 470],\n       [&#x27;Martinique&#x27;, &#x27;MTQ&#x27;, 474],\n       [&#x27;Mayotte&#x27;, &#x27;MYT&#x27;, 175],\n       [&#x27;Monaco&#x27;, &#x27;MCO&#x27;, 492],\n       [&#x27;Montenegro&#x27;, &#x27;MNE&#x27;, 499],\n       [&#x27;Netherlands&#x27;, &#x27;NLD&#x27;, 528],\n       [&#x27;Portugal&#x27;, &#x27;PRT&#x27;, 620],\n       [&#x27;Saint Martin&#x27;, &#x27;MAF&#x27;, 663],\n       [&#x27;Saint Pierre and Miquelon&#x27;, &#x27;SPM&#x27;, 666],\n       [&#x27;San Marino&#x27;, &#x27;SMR&#x27;, 674],\n       [&#x27;Slovakia&#x27;, &#x27;SVK&#x27;, 703],\n       [&#x27;Slovenia&#x27;, &#x27;SVN&#x27;, 705],\n       [&#x27;Spain&#x27;, &#x27;ESP&#x27;, 724],\n       [&#x27;Japan&#x27;, &#x27;JPN&#x27;, 392],\n       [&#x27;Sweden&#x27;, &#x27;SWE&#x27;, 752]], dtype=object)</pre></div></li></ul></div></li><li class='xr-section-item'><input id='section-b00547e6-0985-4969-a429-740818927a8c' class='xr-section-summary-in' type='checkbox' disabled ><label for='section-b00547e6-0985-4969-a429-740818927a8c' class='xr-section-summary'  title='Expand/collapse section'>Attributes: <span>(0)</span></label><div class='xr-section-inline-details'></div><div class='xr-section-details'><dl class='xr-attrs'></dl></div></li></ul></div></div>"
     },
     "metadata": {},
     "execution_count": 268
    }
   ],
   "source": [
    "dst"
   ]
  },
  {
   "cell_type": "code",
   "execution_count": 269,
   "metadata": {},
   "outputs": [
    {
     "output_type": "execute_result",
     "data": {
      "text/plain": "<xarray.Dataset>\nDimensions:       (date: 100, iso_code2: 3, static_field: 3)\nCoordinates:\n  * iso_code2     (iso_code2) object 'CA' 'ES' 'AD'\n  * date          (date) datetime64[ns] 2020-04-13 2020-04-14 ... 2020-08-28\n  * static_field  (static_field) object 'name' 'iso_code3' 'numeric'\nData variables:\n    close         (date, iso_code2) float64 0.7198 1.091 1.091 ... 1.191 1.191\n    currency      (iso_code2) object 'CAD' 'EUR' 'EUR'\n    country       (iso_code2) object 'Canada' 'Spain' 'Andorra'\n    open          (date, iso_code2) float64 0.7147 1.094 1.094 ... 1.182 1.182\n    static        (iso_code2, static_field) object 'Canada' 'CAN' ... 'AND' 20",
      "text/html": "<div><svg style=\"position: absolute; width: 0; height: 0; overflow: hidden\">\n<defs>\n<symbol id=\"icon-database\" viewBox=\"0 0 32 32\">\n<path d=\"M16 0c-8.837 0-16 2.239-16 5v4c0 2.761 7.163 5 16 5s16-2.239 16-5v-4c0-2.761-7.163-5-16-5z\"></path>\n<path d=\"M16 17c-8.837 0-16-2.239-16-5v6c0 2.761 7.163 5 16 5s16-2.239 16-5v-6c0 2.761-7.163 5-16 5z\"></path>\n<path d=\"M16 26c-8.837 0-16-2.239-16-5v6c0 2.761 7.163 5 16 5s16-2.239 16-5v-6c0 2.761-7.163 5-16 5z\"></path>\n</symbol>\n<symbol id=\"icon-file-text2\" viewBox=\"0 0 32 32\">\n<path d=\"M28.681 7.159c-0.694-0.947-1.662-2.053-2.724-3.116s-2.169-2.030-3.116-2.724c-1.612-1.182-2.393-1.319-2.841-1.319h-15.5c-1.378 0-2.5 1.121-2.5 2.5v27c0 1.378 1.122 2.5 2.5 2.5h23c1.378 0 2.5-1.122 2.5-2.5v-19.5c0-0.448-0.137-1.23-1.319-2.841zM24.543 5.457c0.959 0.959 1.712 1.825 2.268 2.543h-4.811v-4.811c0.718 0.556 1.584 1.309 2.543 2.268zM28 29.5c0 0.271-0.229 0.5-0.5 0.5h-23c-0.271 0-0.5-0.229-0.5-0.5v-27c0-0.271 0.229-0.5 0.5-0.5 0 0 15.499-0 15.5 0v7c0 0.552 0.448 1 1 1h7v19.5z\"></path>\n<path d=\"M23 26h-14c-0.552 0-1-0.448-1-1s0.448-1 1-1h14c0.552 0 1 0.448 1 1s-0.448 1-1 1z\"></path>\n<path d=\"M23 22h-14c-0.552 0-1-0.448-1-1s0.448-1 1-1h14c0.552 0 1 0.448 1 1s-0.448 1-1 1z\"></path>\n<path d=\"M23 18h-14c-0.552 0-1-0.448-1-1s0.448-1 1-1h14c0.552 0 1 0.448 1 1s-0.448 1-1 1z\"></path>\n</symbol>\n</defs>\n</svg>\n<style>/* CSS stylesheet for displaying xarray objects in jupyterlab.\n *\n */\n\n:root {\n  --xr-font-color0: var(--jp-content-font-color0, rgba(0, 0, 0, 1));\n  --xr-font-color2: var(--jp-content-font-color2, rgba(0, 0, 0, 0.54));\n  --xr-font-color3: var(--jp-content-font-color3, rgba(0, 0, 0, 0.38));\n  --xr-border-color: var(--jp-border-color2, #e0e0e0);\n  --xr-disabled-color: var(--jp-layout-color3, #bdbdbd);\n  --xr-background-color: var(--jp-layout-color0, white);\n  --xr-background-color-row-even: var(--jp-layout-color1, white);\n  --xr-background-color-row-odd: var(--jp-layout-color2, #eeeeee);\n}\n\nhtml[theme=dark],\nbody.vscode-dark {\n  --xr-font-color0: rgba(255, 255, 255, 1);\n  --xr-font-color2: rgba(255, 255, 255, 0.54);\n  --xr-font-color3: rgba(255, 255, 255, 0.38);\n  --xr-border-color: #1F1F1F;\n  --xr-disabled-color: #515151;\n  --xr-background-color: #111111;\n  --xr-background-color-row-even: #111111;\n  --xr-background-color-row-odd: #313131;\n}\n\n.xr-wrap {\n  display: block;\n  min-width: 300px;\n  max-width: 700px;\n}\n\n.xr-text-repr-fallback {\n  /* fallback to plain text repr when CSS is not injected (untrusted notebook) */\n  display: none;\n}\n\n.xr-header {\n  padding-top: 6px;\n  padding-bottom: 6px;\n  margin-bottom: 4px;\n  border-bottom: solid 1px var(--xr-border-color);\n}\n\n.xr-header > div,\n.xr-header > ul {\n  display: inline;\n  margin-top: 0;\n  margin-bottom: 0;\n}\n\n.xr-obj-type,\n.xr-array-name {\n  margin-left: 2px;\n  margin-right: 10px;\n}\n\n.xr-obj-type {\n  color: var(--xr-font-color2);\n}\n\n.xr-sections {\n  padding-left: 0 !important;\n  display: grid;\n  grid-template-columns: 150px auto auto 1fr 20px 20px;\n}\n\n.xr-section-item {\n  display: contents;\n}\n\n.xr-section-item input {\n  display: none;\n}\n\n.xr-section-item input + label {\n  color: var(--xr-disabled-color);\n}\n\n.xr-section-item input:enabled + label {\n  cursor: pointer;\n  color: var(--xr-font-color2);\n}\n\n.xr-section-item input:enabled + label:hover {\n  color: var(--xr-font-color0);\n}\n\n.xr-section-summary {\n  grid-column: 1;\n  color: var(--xr-font-color2);\n  font-weight: 500;\n}\n\n.xr-section-summary > span {\n  display: inline-block;\n  padding-left: 0.5em;\n}\n\n.xr-section-summary-in:disabled + label {\n  color: var(--xr-font-color2);\n}\n\n.xr-section-summary-in + label:before {\n  display: inline-block;\n  content: '►';\n  font-size: 11px;\n  width: 15px;\n  text-align: center;\n}\n\n.xr-section-summary-in:disabled + label:before {\n  color: var(--xr-disabled-color);\n}\n\n.xr-section-summary-in:checked + label:before {\n  content: '▼';\n}\n\n.xr-section-summary-in:checked + label > span {\n  display: none;\n}\n\n.xr-section-summary,\n.xr-section-inline-details {\n  padding-top: 4px;\n  padding-bottom: 4px;\n}\n\n.xr-section-inline-details {\n  grid-column: 2 / -1;\n}\n\n.xr-section-details {\n  display: none;\n  grid-column: 1 / -1;\n  margin-bottom: 5px;\n}\n\n.xr-section-summary-in:checked ~ .xr-section-details {\n  display: contents;\n}\n\n.xr-array-wrap {\n  grid-column: 1 / -1;\n  display: grid;\n  grid-template-columns: 20px auto;\n}\n\n.xr-array-wrap > label {\n  grid-column: 1;\n  vertical-align: top;\n}\n\n.xr-preview {\n  color: var(--xr-font-color3);\n}\n\n.xr-array-preview,\n.xr-array-data {\n  padding: 0 5px !important;\n  grid-column: 2;\n}\n\n.xr-array-data,\n.xr-array-in:checked ~ .xr-array-preview {\n  display: none;\n}\n\n.xr-array-in:checked ~ .xr-array-data,\n.xr-array-preview {\n  display: inline-block;\n}\n\n.xr-dim-list {\n  display: inline-block !important;\n  list-style: none;\n  padding: 0 !important;\n  margin: 0;\n}\n\n.xr-dim-list li {\n  display: inline-block;\n  padding: 0;\n  margin: 0;\n}\n\n.xr-dim-list:before {\n  content: '(';\n}\n\n.xr-dim-list:after {\n  content: ')';\n}\n\n.xr-dim-list li:not(:last-child):after {\n  content: ',';\n  padding-right: 5px;\n}\n\n.xr-has-index {\n  font-weight: bold;\n}\n\n.xr-var-list,\n.xr-var-item {\n  display: contents;\n}\n\n.xr-var-item > div,\n.xr-var-item label,\n.xr-var-item > .xr-var-name span {\n  background-color: var(--xr-background-color-row-even);\n  margin-bottom: 0;\n}\n\n.xr-var-item > .xr-var-name:hover span {\n  padding-right: 5px;\n}\n\n.xr-var-list > li:nth-child(odd) > div,\n.xr-var-list > li:nth-child(odd) > label,\n.xr-var-list > li:nth-child(odd) > .xr-var-name span {\n  background-color: var(--xr-background-color-row-odd);\n}\n\n.xr-var-name {\n  grid-column: 1;\n}\n\n.xr-var-dims {\n  grid-column: 2;\n}\n\n.xr-var-dtype {\n  grid-column: 3;\n  text-align: right;\n  color: var(--xr-font-color2);\n}\n\n.xr-var-preview {\n  grid-column: 4;\n}\n\n.xr-var-name,\n.xr-var-dims,\n.xr-var-dtype,\n.xr-preview,\n.xr-attrs dt {\n  white-space: nowrap;\n  overflow: hidden;\n  text-overflow: ellipsis;\n  padding-right: 10px;\n}\n\n.xr-var-name:hover,\n.xr-var-dims:hover,\n.xr-var-dtype:hover,\n.xr-attrs dt:hover {\n  overflow: visible;\n  width: auto;\n  z-index: 1;\n}\n\n.xr-var-attrs,\n.xr-var-data {\n  display: none;\n  background-color: var(--xr-background-color) !important;\n  padding-bottom: 5px !important;\n}\n\n.xr-var-attrs-in:checked ~ .xr-var-attrs,\n.xr-var-data-in:checked ~ .xr-var-data {\n  display: block;\n}\n\n.xr-var-data > table {\n  float: right;\n}\n\n.xr-var-name span,\n.xr-var-data,\n.xr-attrs {\n  padding-left: 25px !important;\n}\n\n.xr-attrs,\n.xr-var-attrs,\n.xr-var-data {\n  grid-column: 1 / -1;\n}\n\ndl.xr-attrs {\n  padding: 0;\n  margin: 0;\n  display: grid;\n  grid-template-columns: 125px auto;\n}\n\n.xr-attrs dt, dd {\n  padding: 0;\n  margin: 0;\n  float: left;\n  padding-right: 10px;\n  width: auto;\n}\n\n.xr-attrs dt {\n  font-weight: normal;\n  grid-column: 1;\n}\n\n.xr-attrs dt:hover span {\n  display: inline-block;\n  background: var(--xr-background-color);\n  padding-right: 10px;\n}\n\n.xr-attrs dd {\n  grid-column: 2;\n  white-space: pre-wrap;\n  word-break: break-all;\n}\n\n.xr-icon-database,\n.xr-icon-file-text2 {\n  display: inline-block;\n  vertical-align: middle;\n  width: 1em;\n  height: 1.5em !important;\n  stroke-width: 0;\n  stroke: currentColor;\n  fill: currentColor;\n}\n</style><pre class='xr-text-repr-fallback'>&lt;xarray.Dataset&gt;\nDimensions:       (date: 100, iso_code2: 3, static_field: 3)\nCoordinates:\n  * iso_code2     (iso_code2) object &#x27;CA&#x27; &#x27;ES&#x27; &#x27;AD&#x27;\n  * date          (date) datetime64[ns] 2020-04-13 2020-04-14 ... 2020-08-28\n  * static_field  (static_field) object &#x27;name&#x27; &#x27;iso_code3&#x27; &#x27;numeric&#x27;\nData variables:\n    close         (date, iso_code2) float64 0.7198 1.091 1.091 ... 1.191 1.191\n    currency      (iso_code2) object &#x27;CAD&#x27; &#x27;EUR&#x27; &#x27;EUR&#x27;\n    country       (iso_code2) object &#x27;Canada&#x27; &#x27;Spain&#x27; &#x27;Andorra&#x27;\n    open          (date, iso_code2) float64 0.7147 1.094 1.094 ... 1.182 1.182\n    static        (iso_code2, static_field) object &#x27;Canada&#x27; &#x27;CAN&#x27; ... &#x27;AND&#x27; 20</pre><div class='xr-wrap' hidden><div class='xr-header'><div class='xr-obj-type'>xarray.Dataset</div></div><ul class='xr-sections'><li class='xr-section-item'><input id='section-4493a2fa-5850-4f98-87eb-215c4c82444a' class='xr-section-summary-in' type='checkbox' disabled ><label for='section-4493a2fa-5850-4f98-87eb-215c4c82444a' class='xr-section-summary'  title='Expand/collapse section'>Dimensions:</label><div class='xr-section-inline-details'><ul class='xr-dim-list'><li><span class='xr-has-index'>date</span>: 100</li><li><span class='xr-has-index'>iso_code2</span>: 3</li><li><span class='xr-has-index'>static_field</span>: 3</li></ul></div><div class='xr-section-details'></div></li><li class='xr-section-item'><input id='section-0fd2382d-a33b-4bb0-9e88-3bfd9ef6c5e2' class='xr-section-summary-in' type='checkbox'  checked><label for='section-0fd2382d-a33b-4bb0-9e88-3bfd9ef6c5e2' class='xr-section-summary' >Coordinates: <span>(3)</span></label><div class='xr-section-inline-details'></div><div class='xr-section-details'><ul class='xr-var-list'><li class='xr-var-item'><div class='xr-var-name'><span class='xr-has-index'>iso_code2</span></div><div class='xr-var-dims'>(iso_code2)</div><div class='xr-var-dtype'>object</div><div class='xr-var-preview xr-preview'>&#x27;CA&#x27; &#x27;ES&#x27; &#x27;AD&#x27;</div><input id='attrs-dc09bd17-b645-4f29-af3b-12c811173e88' class='xr-var-attrs-in' type='checkbox' disabled><label for='attrs-dc09bd17-b645-4f29-af3b-12c811173e88' title='Show/Hide attributes'><svg class='icon xr-icon-file-text2'><use xlink:href='#icon-file-text2'></use></svg></label><input id='data-14c8637b-d1ce-4ef2-94e6-fc78daf51003' class='xr-var-data-in' type='checkbox'><label for='data-14c8637b-d1ce-4ef2-94e6-fc78daf51003' title='Show/Hide data repr'><svg class='icon xr-icon-database'><use xlink:href='#icon-database'></use></svg></label><div class='xr-var-attrs'><dl class='xr-attrs'></dl></div><div class='xr-var-data'><pre>array([&#x27;CA&#x27;, &#x27;ES&#x27;, &#x27;AD&#x27;], dtype=object)</pre></div></li><li class='xr-var-item'><div class='xr-var-name'><span class='xr-has-index'>date</span></div><div class='xr-var-dims'>(date)</div><div class='xr-var-dtype'>datetime64[ns]</div><div class='xr-var-preview xr-preview'>2020-04-13 ... 2020-08-28</div><input id='attrs-1b24534f-9360-4e6c-b17e-af612a65b4ca' class='xr-var-attrs-in' type='checkbox' disabled><label for='attrs-1b24534f-9360-4e6c-b17e-af612a65b4ca' title='Show/Hide attributes'><svg class='icon xr-icon-file-text2'><use xlink:href='#icon-file-text2'></use></svg></label><input id='data-fa278919-38ff-4c62-a0f5-fd94e66b8ba3' class='xr-var-data-in' type='checkbox'><label for='data-fa278919-38ff-4c62-a0f5-fd94e66b8ba3' title='Show/Hide data repr'><svg class='icon xr-icon-database'><use xlink:href='#icon-database'></use></svg></label><div class='xr-var-attrs'><dl class='xr-attrs'></dl></div><div class='xr-var-data'><pre>array([&#x27;2020-04-13T00:00:00.000000000&#x27;, &#x27;2020-04-14T00:00:00.000000000&#x27;,\n       &#x27;2020-04-15T00:00:00.000000000&#x27;, &#x27;2020-04-16T00:00:00.000000000&#x27;,\n       &#x27;2020-04-17T00:00:00.000000000&#x27;, &#x27;2020-04-20T00:00:00.000000000&#x27;,\n       &#x27;2020-04-21T00:00:00.000000000&#x27;, &#x27;2020-04-22T00:00:00.000000000&#x27;,\n       &#x27;2020-04-23T00:00:00.000000000&#x27;, &#x27;2020-04-24T00:00:00.000000000&#x27;,\n       &#x27;2020-04-27T00:00:00.000000000&#x27;, &#x27;2020-04-28T00:00:00.000000000&#x27;,\n       &#x27;2020-04-29T00:00:00.000000000&#x27;, &#x27;2020-04-30T00:00:00.000000000&#x27;,\n       &#x27;2020-05-01T00:00:00.000000000&#x27;, &#x27;2020-05-04T00:00:00.000000000&#x27;,\n       &#x27;2020-05-05T00:00:00.000000000&#x27;, &#x27;2020-05-06T00:00:00.000000000&#x27;,\n       &#x27;2020-05-07T00:00:00.000000000&#x27;, &#x27;2020-05-08T00:00:00.000000000&#x27;,\n       &#x27;2020-05-11T00:00:00.000000000&#x27;, &#x27;2020-05-12T00:00:00.000000000&#x27;,\n       &#x27;2020-05-13T00:00:00.000000000&#x27;, &#x27;2020-05-14T00:00:00.000000000&#x27;,\n       &#x27;2020-05-15T00:00:00.000000000&#x27;, &#x27;2020-05-18T00:00:00.000000000&#x27;,\n       &#x27;2020-05-19T00:00:00.000000000&#x27;, &#x27;2020-05-20T00:00:00.000000000&#x27;,\n       &#x27;2020-05-21T00:00:00.000000000&#x27;, &#x27;2020-05-22T00:00:00.000000000&#x27;,\n       &#x27;2020-05-25T00:00:00.000000000&#x27;, &#x27;2020-05-26T00:00:00.000000000&#x27;,\n       &#x27;2020-05-27T00:00:00.000000000&#x27;, &#x27;2020-05-28T00:00:00.000000000&#x27;,\n       &#x27;2020-05-29T00:00:00.000000000&#x27;, &#x27;2020-06-01T00:00:00.000000000&#x27;,\n       &#x27;2020-06-02T00:00:00.000000000&#x27;, &#x27;2020-06-03T00:00:00.000000000&#x27;,\n       &#x27;2020-06-04T00:00:00.000000000&#x27;, &#x27;2020-06-05T00:00:00.000000000&#x27;,\n       &#x27;2020-06-08T00:00:00.000000000&#x27;, &#x27;2020-06-09T00:00:00.000000000&#x27;,\n       &#x27;2020-06-10T00:00:00.000000000&#x27;, &#x27;2020-06-11T00:00:00.000000000&#x27;,\n       &#x27;2020-06-12T00:00:00.000000000&#x27;, &#x27;2020-06-15T00:00:00.000000000&#x27;,\n       &#x27;2020-06-16T00:00:00.000000000&#x27;, &#x27;2020-06-17T00:00:00.000000000&#x27;,\n       &#x27;2020-06-18T00:00:00.000000000&#x27;, &#x27;2020-06-19T00:00:00.000000000&#x27;,\n       &#x27;2020-06-22T00:00:00.000000000&#x27;, &#x27;2020-06-23T00:00:00.000000000&#x27;,\n       &#x27;2020-06-24T00:00:00.000000000&#x27;, &#x27;2020-06-25T00:00:00.000000000&#x27;,\n       &#x27;2020-06-26T00:00:00.000000000&#x27;, &#x27;2020-06-29T00:00:00.000000000&#x27;,\n       &#x27;2020-06-30T00:00:00.000000000&#x27;, &#x27;2020-07-01T00:00:00.000000000&#x27;,\n       &#x27;2020-07-02T00:00:00.000000000&#x27;, &#x27;2020-07-03T00:00:00.000000000&#x27;,\n       &#x27;2020-07-06T00:00:00.000000000&#x27;, &#x27;2020-07-07T00:00:00.000000000&#x27;,\n       &#x27;2020-07-08T00:00:00.000000000&#x27;, &#x27;2020-07-09T00:00:00.000000000&#x27;,\n       &#x27;2020-07-10T00:00:00.000000000&#x27;, &#x27;2020-07-13T00:00:00.000000000&#x27;,\n       &#x27;2020-07-14T00:00:00.000000000&#x27;, &#x27;2020-07-15T00:00:00.000000000&#x27;,\n       &#x27;2020-07-16T00:00:00.000000000&#x27;, &#x27;2020-07-17T00:00:00.000000000&#x27;,\n       &#x27;2020-07-20T00:00:00.000000000&#x27;, &#x27;2020-07-21T00:00:00.000000000&#x27;,\n       &#x27;2020-07-22T00:00:00.000000000&#x27;, &#x27;2020-07-23T00:00:00.000000000&#x27;,\n       &#x27;2020-07-24T00:00:00.000000000&#x27;, &#x27;2020-07-27T00:00:00.000000000&#x27;,\n       &#x27;2020-07-28T00:00:00.000000000&#x27;, &#x27;2020-07-29T00:00:00.000000000&#x27;,\n       &#x27;2020-07-30T00:00:00.000000000&#x27;, &#x27;2020-07-31T00:00:00.000000000&#x27;,\n       &#x27;2020-08-03T00:00:00.000000000&#x27;, &#x27;2020-08-04T00:00:00.000000000&#x27;,\n       &#x27;2020-08-05T00:00:00.000000000&#x27;, &#x27;2020-08-06T00:00:00.000000000&#x27;,\n       &#x27;2020-08-07T00:00:00.000000000&#x27;, &#x27;2020-08-10T00:00:00.000000000&#x27;,\n       &#x27;2020-08-11T00:00:00.000000000&#x27;, &#x27;2020-08-12T00:00:00.000000000&#x27;,\n       &#x27;2020-08-13T00:00:00.000000000&#x27;, &#x27;2020-08-14T00:00:00.000000000&#x27;,\n       &#x27;2020-08-17T00:00:00.000000000&#x27;, &#x27;2020-08-18T00:00:00.000000000&#x27;,\n       &#x27;2020-08-19T00:00:00.000000000&#x27;, &#x27;2020-08-20T00:00:00.000000000&#x27;,\n       &#x27;2020-08-21T00:00:00.000000000&#x27;, &#x27;2020-08-24T00:00:00.000000000&#x27;,\n       &#x27;2020-08-25T00:00:00.000000000&#x27;, &#x27;2020-08-26T00:00:00.000000000&#x27;,\n       &#x27;2020-08-27T00:00:00.000000000&#x27;, &#x27;2020-08-28T00:00:00.000000000&#x27;],\n      dtype=&#x27;datetime64[ns]&#x27;)</pre></div></li><li class='xr-var-item'><div class='xr-var-name'><span class='xr-has-index'>static_field</span></div><div class='xr-var-dims'>(static_field)</div><div class='xr-var-dtype'>object</div><div class='xr-var-preview xr-preview'>&#x27;name&#x27; &#x27;iso_code3&#x27; &#x27;numeric&#x27;</div><input id='attrs-1fdd606b-ff70-47b4-b198-35c855ce76c1' class='xr-var-attrs-in' type='checkbox' disabled><label for='attrs-1fdd606b-ff70-47b4-b198-35c855ce76c1' title='Show/Hide attributes'><svg class='icon xr-icon-file-text2'><use xlink:href='#icon-file-text2'></use></svg></label><input id='data-30d21016-2e17-41f4-a812-07851f4369e5' class='xr-var-data-in' type='checkbox'><label for='data-30d21016-2e17-41f4-a812-07851f4369e5' title='Show/Hide data repr'><svg class='icon xr-icon-database'><use xlink:href='#icon-database'></use></svg></label><div class='xr-var-attrs'><dl class='xr-attrs'></dl></div><div class='xr-var-data'><pre>array([&#x27;name&#x27;, &#x27;iso_code3&#x27;, &#x27;numeric&#x27;], dtype=object)</pre></div></li></ul></div></li><li class='xr-section-item'><input id='section-f33e0fa4-5dc7-4672-a0bf-b01f6d75ce86' class='xr-section-summary-in' type='checkbox'  checked><label for='section-f33e0fa4-5dc7-4672-a0bf-b01f6d75ce86' class='xr-section-summary' >Data variables: <span>(5)</span></label><div class='xr-section-inline-details'></div><div class='xr-section-details'><ul class='xr-var-list'><li class='xr-var-item'><div class='xr-var-name'><span>close</span></div><div class='xr-var-dims'>(date, iso_code2)</div><div class='xr-var-dtype'>float64</div><div class='xr-var-preview xr-preview'>0.7198 1.091 1.091 ... 1.191 1.191</div><input id='attrs-b0b7df41-98c0-4cd8-b55b-475cd2677aab' class='xr-var-attrs-in' type='checkbox' disabled><label for='attrs-b0b7df41-98c0-4cd8-b55b-475cd2677aab' title='Show/Hide attributes'><svg class='icon xr-icon-file-text2'><use xlink:href='#icon-file-text2'></use></svg></label><input id='data-927edd95-6070-456c-aa30-fbf8325cdf84' class='xr-var-data-in' type='checkbox'><label for='data-927edd95-6070-456c-aa30-fbf8325cdf84' title='Show/Hide data repr'><svg class='icon xr-icon-database'><use xlink:href='#icon-database'></use></svg></label><div class='xr-var-attrs'><dl class='xr-attrs'></dl></div><div class='xr-var-data'><pre>array([[0.7198, 1.0915, 1.0915],\n       [0.7202, 1.0983, 1.0983],\n       [0.7081, 1.0901, 1.0901],\n       [0.712 , 1.086 , 1.086 ],\n       [0.7138, 1.0874, 1.0874],\n       [0.7076, 1.0864, 1.0864],\n       [0.7041, 1.0854, 1.0854],\n       [0.7058, 1.0823, 1.0823],\n       [0.7105, 1.078 , 1.078 ],\n       [0.7089, 1.0824, 1.0824],\n       [0.7128, 1.0829, 1.0829],\n       [0.7141, 1.0823, 1.0823],\n       [0.7204, 1.0875, 1.0875],\n       [0.7164, 1.0943, 1.0943],\n       [0.7094, 1.098 , 1.098 ],\n       [0.7098, 1.0904, 1.0904],\n       [0.7129, 1.0844, 1.0844],\n       [0.7055, 1.0797, 1.0797],\n       [0.716 , 1.0838, 1.0838],\n       [0.7175, 1.0838, 1.0838],\n...\n       [0.746 , 1.1758, 1.1758],\n       [0.7509, 1.1798, 1.1798],\n       [0.7537, 1.1872, 1.1872],\n       [0.7509, 1.1881, 1.1881],\n       [0.7466, 1.1787, 1.1787],\n       [0.7484, 1.174 , 1.174 ],\n       [0.7517, 1.1742, 1.1742],\n       [0.7544, 1.1787, 1.1787],\n       [0.7561, 1.1817, 1.1817],\n       [0.7532, 1.1841, 1.1841],\n       [0.7559, 1.1873, 1.1873],\n       [0.7592, 1.1939, 1.1939],\n       [0.7566, 1.1851, 1.1851],\n       [0.7582, 1.1865, 1.1865],\n       [0.7576, 1.1796, 1.1796],\n       [0.7563, 1.1794, 1.1794],\n       [0.7587, 1.1833, 1.1833],\n       [0.7603, 1.1835, 1.1835],\n       [0.7616, 1.1817, 1.1817],\n       [0.7657, 1.1914, 1.1914]])</pre></div></li><li class='xr-var-item'><div class='xr-var-name'><span>currency</span></div><div class='xr-var-dims'>(iso_code2)</div><div class='xr-var-dtype'>object</div><div class='xr-var-preview xr-preview'>&#x27;CAD&#x27; &#x27;EUR&#x27; &#x27;EUR&#x27;</div><input id='attrs-33facd55-86d7-45bf-bcae-e732992f38df' class='xr-var-attrs-in' type='checkbox' disabled><label for='attrs-33facd55-86d7-45bf-bcae-e732992f38df' title='Show/Hide attributes'><svg class='icon xr-icon-file-text2'><use xlink:href='#icon-file-text2'></use></svg></label><input id='data-a5836c52-9731-4c22-b972-880369928000' class='xr-var-data-in' type='checkbox'><label for='data-a5836c52-9731-4c22-b972-880369928000' title='Show/Hide data repr'><svg class='icon xr-icon-database'><use xlink:href='#icon-database'></use></svg></label><div class='xr-var-attrs'><dl class='xr-attrs'></dl></div><div class='xr-var-data'><pre>array([&#x27;CAD&#x27;, &#x27;EUR&#x27;, &#x27;EUR&#x27;], dtype=object)</pre></div></li><li class='xr-var-item'><div class='xr-var-name'><span>country</span></div><div class='xr-var-dims'>(iso_code2)</div><div class='xr-var-dtype'>object</div><div class='xr-var-preview xr-preview'>&#x27;Canada&#x27; &#x27;Spain&#x27; &#x27;Andorra&#x27;</div><input id='attrs-00c105d7-0b22-4582-9540-067c65e91b34' class='xr-var-attrs-in' type='checkbox' disabled><label for='attrs-00c105d7-0b22-4582-9540-067c65e91b34' title='Show/Hide attributes'><svg class='icon xr-icon-file-text2'><use xlink:href='#icon-file-text2'></use></svg></label><input id='data-7fbdf091-9565-4a72-9922-ed40ee5a5935' class='xr-var-data-in' type='checkbox'><label for='data-7fbdf091-9565-4a72-9922-ed40ee5a5935' title='Show/Hide data repr'><svg class='icon xr-icon-database'><use xlink:href='#icon-database'></use></svg></label><div class='xr-var-attrs'><dl class='xr-attrs'></dl></div><div class='xr-var-data'><pre>array([&#x27;Canada&#x27;, &#x27;Spain&#x27;, &#x27;Andorra&#x27;], dtype=object)</pre></div></li><li class='xr-var-item'><div class='xr-var-name'><span>open</span></div><div class='xr-var-dims'>(date, iso_code2)</div><div class='xr-var-dtype'>float64</div><div class='xr-var-preview xr-preview'>0.7147 1.094 1.094 ... 1.182 1.182</div><input id='attrs-a2903929-54f4-4cdf-9868-f4aac1f4972b' class='xr-var-attrs-in' type='checkbox' disabled><label for='attrs-a2903929-54f4-4cdf-9868-f4aac1f4972b' title='Show/Hide attributes'><svg class='icon xr-icon-file-text2'><use xlink:href='#icon-file-text2'></use></svg></label><input id='data-b3450b3a-91a8-4ff5-a8bb-45be2af99533' class='xr-var-data-in' type='checkbox'><label for='data-b3450b3a-91a8-4ff5-a8bb-45be2af99533' title='Show/Hide data repr'><svg class='icon xr-icon-database'><use xlink:href='#icon-database'></use></svg></label><div class='xr-var-attrs'><dl class='xr-attrs'></dl></div><div class='xr-var-data'><pre>array([[0.7147, 1.0937, 1.0937],\n       [0.7198, 1.0915, 1.0915],\n       [0.7199, 1.0984, 1.0984],\n       [0.7081, 1.0902, 1.0902],\n       [0.7118, 1.086 , 1.086 ],\n       [0.7119, 1.0868, 1.0868],\n       [0.708 , 1.0864, 1.0864],\n       [0.7037, 1.0854, 1.0854],\n       [0.7059, 1.0823, 1.0823],\n       [0.7105, 1.078 , 1.078 ],\n       [0.7083, 1.0817, 1.0817],\n       [0.7128, 1.0829, 1.0829],\n       [0.7138, 1.0825, 1.0825],\n       [0.7204, 1.0875, 1.0875],\n       [0.7162, 1.0943, 1.0943],\n       [0.7075, 1.0956, 1.0956],\n       [0.7095, 1.0904, 1.0904],\n       [0.7066, 1.0806, 1.0806],\n       [0.7055, 1.0798, 1.0798],\n       [0.7158, 1.0836, 1.0836],\n...\n       [0.7462, 1.1794, 1.1794],\n       [0.7464, 1.176 , 1.176 ],\n       [0.7509, 1.1798, 1.1798],\n       [0.7538, 1.1873, 1.1873],\n       [0.7513, 1.1881, 1.1881],\n       [0.7468, 1.1776, 1.1776],\n       [0.7483, 1.1742, 1.1742],\n       [0.7514, 1.1744, 1.1744],\n       [0.7547, 1.1787, 1.1787],\n       [0.7561, 1.1817, 1.1817],\n       [0.7541, 1.1842, 1.1842],\n       [0.7559, 1.1872, 1.1872],\n       [0.7597, 1.194 , 1.194 ],\n       [0.7569, 1.1851, 1.1851],\n       [0.7586, 1.1865, 1.1865],\n       [0.7589, 1.1801, 1.1801],\n       [0.7563, 1.1794, 1.1794],\n       [0.7591, 1.1833, 1.1833],\n       [0.7608, 1.1836, 1.1836],\n       [0.7618, 1.182 , 1.182 ]])</pre></div></li><li class='xr-var-item'><div class='xr-var-name'><span>static</span></div><div class='xr-var-dims'>(iso_code2, static_field)</div><div class='xr-var-dtype'>object</div><div class='xr-var-preview xr-preview'>&#x27;Canada&#x27; &#x27;CAN&#x27; 124 ... &#x27;AND&#x27; 20</div><input id='attrs-bf41dcd6-7073-49eb-bc70-8b369d95ffe8' class='xr-var-attrs-in' type='checkbox' disabled><label for='attrs-bf41dcd6-7073-49eb-bc70-8b369d95ffe8' title='Show/Hide attributes'><svg class='icon xr-icon-file-text2'><use xlink:href='#icon-file-text2'></use></svg></label><input id='data-a17dbb96-751b-406f-97a8-ae7dc8c6fb48' class='xr-var-data-in' type='checkbox'><label for='data-a17dbb96-751b-406f-97a8-ae7dc8c6fb48' title='Show/Hide data repr'><svg class='icon xr-icon-database'><use xlink:href='#icon-database'></use></svg></label><div class='xr-var-attrs'><dl class='xr-attrs'></dl></div><div class='xr-var-data'><pre>array([[&#x27;Canada&#x27;, &#x27;CAN&#x27;, 124],\n       [&#x27;Spain&#x27;, &#x27;ESP&#x27;, 724],\n       [&#x27;Andorra&#x27;, &#x27;AND&#x27;, 20]], dtype=object)</pre></div></li></ul></div></li><li class='xr-section-item'><input id='section-2ecffead-b7ae-43ac-8a68-87992e94c6e9' class='xr-section-summary-in' type='checkbox' disabled ><label for='section-2ecffead-b7ae-43ac-8a68-87992e94c6e9' class='xr-section-summary'  title='Expand/collapse section'>Attributes: <span>(0)</span></label><div class='xr-section-inline-details'></div><div class='xr-section-details'><dl class='xr-attrs'></dl></div></li></ul></div></div>"
     },
     "metadata": {},
     "execution_count": 269
    }
   ],
   "source": [
    "dst.sel(dict(iso_code2=['CA', 'ES', 'AD']))"
   ]
  },
  {
   "cell_type": "code",
   "execution_count": 278,
   "metadata": {},
   "outputs": [],
   "source": [
    "month_ser = dst.date.to_pandas().dt.month  # dt specifier for pandas to access datetime methods (similar to str)\n",
    "year_ser = dst.date.to_pandas().dt.year"
   ]
  },
  {
   "cell_type": "code",
   "execution_count": 281,
   "metadata": {},
   "outputs": [],
   "source": [
    "date_info = pd.concat([month_ser, year_ser], keys=['month', 'year'], axis=1)\n",
    "date_info.index.name = 'date'\n",
    "date_info.columns.name = 'component'"
   ]
  },
  {
   "cell_type": "code",
   "execution_count": 283,
   "metadata": {},
   "outputs": [],
   "source": [
    "dst['date_info'] = date_info"
   ]
  },
  {
   "cell_type": "code",
   "execution_count": 284,
   "metadata": {},
   "outputs": [
    {
     "output_type": "execute_result",
     "data": {
      "text/plain": "<xarray.Dataset>\nDimensions:       (component: 2, date: 100, iso_code2: 35, static_field: 3)\nCoordinates:\n  * iso_code2     (iso_code2) object 'CA' 'AX' 'AD' 'AT' ... 'SI' 'ES' 'JP' 'SE'\n  * date          (date) datetime64[ns] 2020-04-13 2020-04-14 ... 2020-08-28\n  * static_field  (static_field) object 'name' 'iso_code3' 'numeric'\n  * component     (component) object 'month' 'year'\nData variables:\n    close         (date, iso_code2) float64 0.7198 1.091 1.091 ... 0.0095 0.1156\n    currency      (iso_code2) object 'CAD' 'EUR' 'EUR' ... 'EUR' 'JPY' 'SEK'\n    country       (iso_code2) object 'Canada' 'Aland Islands' ... 'Sweden'\n    open          (date, iso_code2) float64 0.7147 1.094 1.094 ... 0.0094 0.1141\n    static        (iso_code2, static_field) object 'Canada' 'CAN' ... 'SWE' 752\n    date_info     (date, component) int64 4 2020 4 2020 4 ... 2020 8 2020 8 2020",
      "text/html": "<div><svg style=\"position: absolute; width: 0; height: 0; overflow: hidden\">\n<defs>\n<symbol id=\"icon-database\" viewBox=\"0 0 32 32\">\n<path d=\"M16 0c-8.837 0-16 2.239-16 5v4c0 2.761 7.163 5 16 5s16-2.239 16-5v-4c0-2.761-7.163-5-16-5z\"></path>\n<path d=\"M16 17c-8.837 0-16-2.239-16-5v6c0 2.761 7.163 5 16 5s16-2.239 16-5v-6c0 2.761-7.163 5-16 5z\"></path>\n<path d=\"M16 26c-8.837 0-16-2.239-16-5v6c0 2.761 7.163 5 16 5s16-2.239 16-5v-6c0 2.761-7.163 5-16 5z\"></path>\n</symbol>\n<symbol id=\"icon-file-text2\" viewBox=\"0 0 32 32\">\n<path d=\"M28.681 7.159c-0.694-0.947-1.662-2.053-2.724-3.116s-2.169-2.030-3.116-2.724c-1.612-1.182-2.393-1.319-2.841-1.319h-15.5c-1.378 0-2.5 1.121-2.5 2.5v27c0 1.378 1.122 2.5 2.5 2.5h23c1.378 0 2.5-1.122 2.5-2.5v-19.5c0-0.448-0.137-1.23-1.319-2.841zM24.543 5.457c0.959 0.959 1.712 1.825 2.268 2.543h-4.811v-4.811c0.718 0.556 1.584 1.309 2.543 2.268zM28 29.5c0 0.271-0.229 0.5-0.5 0.5h-23c-0.271 0-0.5-0.229-0.5-0.5v-27c0-0.271 0.229-0.5 0.5-0.5 0 0 15.499-0 15.5 0v7c0 0.552 0.448 1 1 1h7v19.5z\"></path>\n<path d=\"M23 26h-14c-0.552 0-1-0.448-1-1s0.448-1 1-1h14c0.552 0 1 0.448 1 1s-0.448 1-1 1z\"></path>\n<path d=\"M23 22h-14c-0.552 0-1-0.448-1-1s0.448-1 1-1h14c0.552 0 1 0.448 1 1s-0.448 1-1 1z\"></path>\n<path d=\"M23 18h-14c-0.552 0-1-0.448-1-1s0.448-1 1-1h14c0.552 0 1 0.448 1 1s-0.448 1-1 1z\"></path>\n</symbol>\n</defs>\n</svg>\n<style>/* CSS stylesheet for displaying xarray objects in jupyterlab.\n *\n */\n\n:root {\n  --xr-font-color0: var(--jp-content-font-color0, rgba(0, 0, 0, 1));\n  --xr-font-color2: var(--jp-content-font-color2, rgba(0, 0, 0, 0.54));\n  --xr-font-color3: var(--jp-content-font-color3, rgba(0, 0, 0, 0.38));\n  --xr-border-color: var(--jp-border-color2, #e0e0e0);\n  --xr-disabled-color: var(--jp-layout-color3, #bdbdbd);\n  --xr-background-color: var(--jp-layout-color0, white);\n  --xr-background-color-row-even: var(--jp-layout-color1, white);\n  --xr-background-color-row-odd: var(--jp-layout-color2, #eeeeee);\n}\n\nhtml[theme=dark],\nbody.vscode-dark {\n  --xr-font-color0: rgba(255, 255, 255, 1);\n  --xr-font-color2: rgba(255, 255, 255, 0.54);\n  --xr-font-color3: rgba(255, 255, 255, 0.38);\n  --xr-border-color: #1F1F1F;\n  --xr-disabled-color: #515151;\n  --xr-background-color: #111111;\n  --xr-background-color-row-even: #111111;\n  --xr-background-color-row-odd: #313131;\n}\n\n.xr-wrap {\n  display: block;\n  min-width: 300px;\n  max-width: 700px;\n}\n\n.xr-text-repr-fallback {\n  /* fallback to plain text repr when CSS is not injected (untrusted notebook) */\n  display: none;\n}\n\n.xr-header {\n  padding-top: 6px;\n  padding-bottom: 6px;\n  margin-bottom: 4px;\n  border-bottom: solid 1px var(--xr-border-color);\n}\n\n.xr-header > div,\n.xr-header > ul {\n  display: inline;\n  margin-top: 0;\n  margin-bottom: 0;\n}\n\n.xr-obj-type,\n.xr-array-name {\n  margin-left: 2px;\n  margin-right: 10px;\n}\n\n.xr-obj-type {\n  color: var(--xr-font-color2);\n}\n\n.xr-sections {\n  padding-left: 0 !important;\n  display: grid;\n  grid-template-columns: 150px auto auto 1fr 20px 20px;\n}\n\n.xr-section-item {\n  display: contents;\n}\n\n.xr-section-item input {\n  display: none;\n}\n\n.xr-section-item input + label {\n  color: var(--xr-disabled-color);\n}\n\n.xr-section-item input:enabled + label {\n  cursor: pointer;\n  color: var(--xr-font-color2);\n}\n\n.xr-section-item input:enabled + label:hover {\n  color: var(--xr-font-color0);\n}\n\n.xr-section-summary {\n  grid-column: 1;\n  color: var(--xr-font-color2);\n  font-weight: 500;\n}\n\n.xr-section-summary > span {\n  display: inline-block;\n  padding-left: 0.5em;\n}\n\n.xr-section-summary-in:disabled + label {\n  color: var(--xr-font-color2);\n}\n\n.xr-section-summary-in + label:before {\n  display: inline-block;\n  content: '►';\n  font-size: 11px;\n  width: 15px;\n  text-align: center;\n}\n\n.xr-section-summary-in:disabled + label:before {\n  color: var(--xr-disabled-color);\n}\n\n.xr-section-summary-in:checked + label:before {\n  content: '▼';\n}\n\n.xr-section-summary-in:checked + label > span {\n  display: none;\n}\n\n.xr-section-summary,\n.xr-section-inline-details {\n  padding-top: 4px;\n  padding-bottom: 4px;\n}\n\n.xr-section-inline-details {\n  grid-column: 2 / -1;\n}\n\n.xr-section-details {\n  display: none;\n  grid-column: 1 / -1;\n  margin-bottom: 5px;\n}\n\n.xr-section-summary-in:checked ~ .xr-section-details {\n  display: contents;\n}\n\n.xr-array-wrap {\n  grid-column: 1 / -1;\n  display: grid;\n  grid-template-columns: 20px auto;\n}\n\n.xr-array-wrap > label {\n  grid-column: 1;\n  vertical-align: top;\n}\n\n.xr-preview {\n  color: var(--xr-font-color3);\n}\n\n.xr-array-preview,\n.xr-array-data {\n  padding: 0 5px !important;\n  grid-column: 2;\n}\n\n.xr-array-data,\n.xr-array-in:checked ~ .xr-array-preview {\n  display: none;\n}\n\n.xr-array-in:checked ~ .xr-array-data,\n.xr-array-preview {\n  display: inline-block;\n}\n\n.xr-dim-list {\n  display: inline-block !important;\n  list-style: none;\n  padding: 0 !important;\n  margin: 0;\n}\n\n.xr-dim-list li {\n  display: inline-block;\n  padding: 0;\n  margin: 0;\n}\n\n.xr-dim-list:before {\n  content: '(';\n}\n\n.xr-dim-list:after {\n  content: ')';\n}\n\n.xr-dim-list li:not(:last-child):after {\n  content: ',';\n  padding-right: 5px;\n}\n\n.xr-has-index {\n  font-weight: bold;\n}\n\n.xr-var-list,\n.xr-var-item {\n  display: contents;\n}\n\n.xr-var-item > div,\n.xr-var-item label,\n.xr-var-item > .xr-var-name span {\n  background-color: var(--xr-background-color-row-even);\n  margin-bottom: 0;\n}\n\n.xr-var-item > .xr-var-name:hover span {\n  padding-right: 5px;\n}\n\n.xr-var-list > li:nth-child(odd) > div,\n.xr-var-list > li:nth-child(odd) > label,\n.xr-var-list > li:nth-child(odd) > .xr-var-name span {\n  background-color: var(--xr-background-color-row-odd);\n}\n\n.xr-var-name {\n  grid-column: 1;\n}\n\n.xr-var-dims {\n  grid-column: 2;\n}\n\n.xr-var-dtype {\n  grid-column: 3;\n  text-align: right;\n  color: var(--xr-font-color2);\n}\n\n.xr-var-preview {\n  grid-column: 4;\n}\n\n.xr-var-name,\n.xr-var-dims,\n.xr-var-dtype,\n.xr-preview,\n.xr-attrs dt {\n  white-space: nowrap;\n  overflow: hidden;\n  text-overflow: ellipsis;\n  padding-right: 10px;\n}\n\n.xr-var-name:hover,\n.xr-var-dims:hover,\n.xr-var-dtype:hover,\n.xr-attrs dt:hover {\n  overflow: visible;\n  width: auto;\n  z-index: 1;\n}\n\n.xr-var-attrs,\n.xr-var-data {\n  display: none;\n  background-color: var(--xr-background-color) !important;\n  padding-bottom: 5px !important;\n}\n\n.xr-var-attrs-in:checked ~ .xr-var-attrs,\n.xr-var-data-in:checked ~ .xr-var-data {\n  display: block;\n}\n\n.xr-var-data > table {\n  float: right;\n}\n\n.xr-var-name span,\n.xr-var-data,\n.xr-attrs {\n  padding-left: 25px !important;\n}\n\n.xr-attrs,\n.xr-var-attrs,\n.xr-var-data {\n  grid-column: 1 / -1;\n}\n\ndl.xr-attrs {\n  padding: 0;\n  margin: 0;\n  display: grid;\n  grid-template-columns: 125px auto;\n}\n\n.xr-attrs dt, dd {\n  padding: 0;\n  margin: 0;\n  float: left;\n  padding-right: 10px;\n  width: auto;\n}\n\n.xr-attrs dt {\n  font-weight: normal;\n  grid-column: 1;\n}\n\n.xr-attrs dt:hover span {\n  display: inline-block;\n  background: var(--xr-background-color);\n  padding-right: 10px;\n}\n\n.xr-attrs dd {\n  grid-column: 2;\n  white-space: pre-wrap;\n  word-break: break-all;\n}\n\n.xr-icon-database,\n.xr-icon-file-text2 {\n  display: inline-block;\n  vertical-align: middle;\n  width: 1em;\n  height: 1.5em !important;\n  stroke-width: 0;\n  stroke: currentColor;\n  fill: currentColor;\n}\n</style><pre class='xr-text-repr-fallback'>&lt;xarray.Dataset&gt;\nDimensions:       (component: 2, date: 100, iso_code2: 35, static_field: 3)\nCoordinates:\n  * iso_code2     (iso_code2) object &#x27;CA&#x27; &#x27;AX&#x27; &#x27;AD&#x27; &#x27;AT&#x27; ... &#x27;SI&#x27; &#x27;ES&#x27; &#x27;JP&#x27; &#x27;SE&#x27;\n  * date          (date) datetime64[ns] 2020-04-13 2020-04-14 ... 2020-08-28\n  * static_field  (static_field) object &#x27;name&#x27; &#x27;iso_code3&#x27; &#x27;numeric&#x27;\n  * component     (component) object &#x27;month&#x27; &#x27;year&#x27;\nData variables:\n    close         (date, iso_code2) float64 0.7198 1.091 1.091 ... 0.0095 0.1156\n    currency      (iso_code2) object &#x27;CAD&#x27; &#x27;EUR&#x27; &#x27;EUR&#x27; ... &#x27;EUR&#x27; &#x27;JPY&#x27; &#x27;SEK&#x27;\n    country       (iso_code2) object &#x27;Canada&#x27; &#x27;Aland Islands&#x27; ... &#x27;Sweden&#x27;\n    open          (date, iso_code2) float64 0.7147 1.094 1.094 ... 0.0094 0.1141\n    static        (iso_code2, static_field) object &#x27;Canada&#x27; &#x27;CAN&#x27; ... &#x27;SWE&#x27; 752\n    date_info     (date, component) int64 4 2020 4 2020 4 ... 2020 8 2020 8 2020</pre><div class='xr-wrap' hidden><div class='xr-header'><div class='xr-obj-type'>xarray.Dataset</div></div><ul class='xr-sections'><li class='xr-section-item'><input id='section-a9249a60-1ead-4c00-ab0f-8cbd21160e60' class='xr-section-summary-in' type='checkbox' disabled ><label for='section-a9249a60-1ead-4c00-ab0f-8cbd21160e60' class='xr-section-summary'  title='Expand/collapse section'>Dimensions:</label><div class='xr-section-inline-details'><ul class='xr-dim-list'><li><span class='xr-has-index'>component</span>: 2</li><li><span class='xr-has-index'>date</span>: 100</li><li><span class='xr-has-index'>iso_code2</span>: 35</li><li><span class='xr-has-index'>static_field</span>: 3</li></ul></div><div class='xr-section-details'></div></li><li class='xr-section-item'><input id='section-c3886bbf-02b6-4d34-a718-85c8514eb520' class='xr-section-summary-in' type='checkbox'  checked><label for='section-c3886bbf-02b6-4d34-a718-85c8514eb520' class='xr-section-summary' >Coordinates: <span>(4)</span></label><div class='xr-section-inline-details'></div><div class='xr-section-details'><ul class='xr-var-list'><li class='xr-var-item'><div class='xr-var-name'><span class='xr-has-index'>iso_code2</span></div><div class='xr-var-dims'>(iso_code2)</div><div class='xr-var-dtype'>object</div><div class='xr-var-preview xr-preview'>&#x27;CA&#x27; &#x27;AX&#x27; &#x27;AD&#x27; ... &#x27;ES&#x27; &#x27;JP&#x27; &#x27;SE&#x27;</div><input id='attrs-4e5a41d9-2826-4d63-b766-815d5a222bbb' class='xr-var-attrs-in' type='checkbox' disabled><label for='attrs-4e5a41d9-2826-4d63-b766-815d5a222bbb' title='Show/Hide attributes'><svg class='icon xr-icon-file-text2'><use xlink:href='#icon-file-text2'></use></svg></label><input id='data-bb54998b-6d9e-4a8a-ae63-07f67bc444a4' class='xr-var-data-in' type='checkbox'><label for='data-bb54998b-6d9e-4a8a-ae63-07f67bc444a4' title='Show/Hide data repr'><svg class='icon xr-icon-database'><use xlink:href='#icon-database'></use></svg></label><div class='xr-var-attrs'><dl class='xr-attrs'></dl></div><div class='xr-var-data'><pre>array([&#x27;CA&#x27;, &#x27;AX&#x27;, &#x27;AD&#x27;, &#x27;AT&#x27;, &#x27;BE&#x27;, &#x27;CY&#x27;, &#x27;EE&#x27;, &#x27;FI&#x27;, &#x27;FR&#x27;, &#x27;GF&#x27;, &#x27;TF&#x27;, &#x27;DE&#x27;,\n       &#x27;GR&#x27;, &#x27;GP&#x27;, &#x27;VA&#x27;, &#x27;IE&#x27;, &#x27;IT&#x27;, &#x27;LV&#x27;, &#x27;LT&#x27;, &#x27;LU&#x27;, &#x27;MT&#x27;, &#x27;MQ&#x27;, &#x27;YT&#x27;, &#x27;MC&#x27;,\n       &#x27;ME&#x27;, &#x27;NL&#x27;, &#x27;PT&#x27;, &#x27;MF&#x27;, &#x27;PM&#x27;, &#x27;SM&#x27;, &#x27;SK&#x27;, &#x27;SI&#x27;, &#x27;ES&#x27;, &#x27;JP&#x27;, &#x27;SE&#x27;],\n      dtype=object)</pre></div></li><li class='xr-var-item'><div class='xr-var-name'><span class='xr-has-index'>date</span></div><div class='xr-var-dims'>(date)</div><div class='xr-var-dtype'>datetime64[ns]</div><div class='xr-var-preview xr-preview'>2020-04-13 ... 2020-08-28</div><input id='attrs-04e7f333-0535-4965-9951-f7102a38c990' class='xr-var-attrs-in' type='checkbox' disabled><label for='attrs-04e7f333-0535-4965-9951-f7102a38c990' title='Show/Hide attributes'><svg class='icon xr-icon-file-text2'><use xlink:href='#icon-file-text2'></use></svg></label><input id='data-8903e674-006d-4403-a641-6d5a887455f7' class='xr-var-data-in' type='checkbox'><label for='data-8903e674-006d-4403-a641-6d5a887455f7' title='Show/Hide data repr'><svg class='icon xr-icon-database'><use xlink:href='#icon-database'></use></svg></label><div class='xr-var-attrs'><dl class='xr-attrs'></dl></div><div class='xr-var-data'><pre>array([&#x27;2020-04-13T00:00:00.000000000&#x27;, &#x27;2020-04-14T00:00:00.000000000&#x27;,\n       &#x27;2020-04-15T00:00:00.000000000&#x27;, &#x27;2020-04-16T00:00:00.000000000&#x27;,\n       &#x27;2020-04-17T00:00:00.000000000&#x27;, &#x27;2020-04-20T00:00:00.000000000&#x27;,\n       &#x27;2020-04-21T00:00:00.000000000&#x27;, &#x27;2020-04-22T00:00:00.000000000&#x27;,\n       &#x27;2020-04-23T00:00:00.000000000&#x27;, &#x27;2020-04-24T00:00:00.000000000&#x27;,\n       &#x27;2020-04-27T00:00:00.000000000&#x27;, &#x27;2020-04-28T00:00:00.000000000&#x27;,\n       &#x27;2020-04-29T00:00:00.000000000&#x27;, &#x27;2020-04-30T00:00:00.000000000&#x27;,\n       &#x27;2020-05-01T00:00:00.000000000&#x27;, &#x27;2020-05-04T00:00:00.000000000&#x27;,\n       &#x27;2020-05-05T00:00:00.000000000&#x27;, &#x27;2020-05-06T00:00:00.000000000&#x27;,\n       &#x27;2020-05-07T00:00:00.000000000&#x27;, &#x27;2020-05-08T00:00:00.000000000&#x27;,\n       &#x27;2020-05-11T00:00:00.000000000&#x27;, &#x27;2020-05-12T00:00:00.000000000&#x27;,\n       &#x27;2020-05-13T00:00:00.000000000&#x27;, &#x27;2020-05-14T00:00:00.000000000&#x27;,\n       &#x27;2020-05-15T00:00:00.000000000&#x27;, &#x27;2020-05-18T00:00:00.000000000&#x27;,\n       &#x27;2020-05-19T00:00:00.000000000&#x27;, &#x27;2020-05-20T00:00:00.000000000&#x27;,\n       &#x27;2020-05-21T00:00:00.000000000&#x27;, &#x27;2020-05-22T00:00:00.000000000&#x27;,\n       &#x27;2020-05-25T00:00:00.000000000&#x27;, &#x27;2020-05-26T00:00:00.000000000&#x27;,\n       &#x27;2020-05-27T00:00:00.000000000&#x27;, &#x27;2020-05-28T00:00:00.000000000&#x27;,\n       &#x27;2020-05-29T00:00:00.000000000&#x27;, &#x27;2020-06-01T00:00:00.000000000&#x27;,\n       &#x27;2020-06-02T00:00:00.000000000&#x27;, &#x27;2020-06-03T00:00:00.000000000&#x27;,\n       &#x27;2020-06-04T00:00:00.000000000&#x27;, &#x27;2020-06-05T00:00:00.000000000&#x27;,\n       &#x27;2020-06-08T00:00:00.000000000&#x27;, &#x27;2020-06-09T00:00:00.000000000&#x27;,\n       &#x27;2020-06-10T00:00:00.000000000&#x27;, &#x27;2020-06-11T00:00:00.000000000&#x27;,\n       &#x27;2020-06-12T00:00:00.000000000&#x27;, &#x27;2020-06-15T00:00:00.000000000&#x27;,\n       &#x27;2020-06-16T00:00:00.000000000&#x27;, &#x27;2020-06-17T00:00:00.000000000&#x27;,\n       &#x27;2020-06-18T00:00:00.000000000&#x27;, &#x27;2020-06-19T00:00:00.000000000&#x27;,\n       &#x27;2020-06-22T00:00:00.000000000&#x27;, &#x27;2020-06-23T00:00:00.000000000&#x27;,\n       &#x27;2020-06-24T00:00:00.000000000&#x27;, &#x27;2020-06-25T00:00:00.000000000&#x27;,\n       &#x27;2020-06-26T00:00:00.000000000&#x27;, &#x27;2020-06-29T00:00:00.000000000&#x27;,\n       &#x27;2020-06-30T00:00:00.000000000&#x27;, &#x27;2020-07-01T00:00:00.000000000&#x27;,\n       &#x27;2020-07-02T00:00:00.000000000&#x27;, &#x27;2020-07-03T00:00:00.000000000&#x27;,\n       &#x27;2020-07-06T00:00:00.000000000&#x27;, &#x27;2020-07-07T00:00:00.000000000&#x27;,\n       &#x27;2020-07-08T00:00:00.000000000&#x27;, &#x27;2020-07-09T00:00:00.000000000&#x27;,\n       &#x27;2020-07-10T00:00:00.000000000&#x27;, &#x27;2020-07-13T00:00:00.000000000&#x27;,\n       &#x27;2020-07-14T00:00:00.000000000&#x27;, &#x27;2020-07-15T00:00:00.000000000&#x27;,\n       &#x27;2020-07-16T00:00:00.000000000&#x27;, &#x27;2020-07-17T00:00:00.000000000&#x27;,\n       &#x27;2020-07-20T00:00:00.000000000&#x27;, &#x27;2020-07-21T00:00:00.000000000&#x27;,\n       &#x27;2020-07-22T00:00:00.000000000&#x27;, &#x27;2020-07-23T00:00:00.000000000&#x27;,\n       &#x27;2020-07-24T00:00:00.000000000&#x27;, &#x27;2020-07-27T00:00:00.000000000&#x27;,\n       &#x27;2020-07-28T00:00:00.000000000&#x27;, &#x27;2020-07-29T00:00:00.000000000&#x27;,\n       &#x27;2020-07-30T00:00:00.000000000&#x27;, &#x27;2020-07-31T00:00:00.000000000&#x27;,\n       &#x27;2020-08-03T00:00:00.000000000&#x27;, &#x27;2020-08-04T00:00:00.000000000&#x27;,\n       &#x27;2020-08-05T00:00:00.000000000&#x27;, &#x27;2020-08-06T00:00:00.000000000&#x27;,\n       &#x27;2020-08-07T00:00:00.000000000&#x27;, &#x27;2020-08-10T00:00:00.000000000&#x27;,\n       &#x27;2020-08-11T00:00:00.000000000&#x27;, &#x27;2020-08-12T00:00:00.000000000&#x27;,\n       &#x27;2020-08-13T00:00:00.000000000&#x27;, &#x27;2020-08-14T00:00:00.000000000&#x27;,\n       &#x27;2020-08-17T00:00:00.000000000&#x27;, &#x27;2020-08-18T00:00:00.000000000&#x27;,\n       &#x27;2020-08-19T00:00:00.000000000&#x27;, &#x27;2020-08-20T00:00:00.000000000&#x27;,\n       &#x27;2020-08-21T00:00:00.000000000&#x27;, &#x27;2020-08-24T00:00:00.000000000&#x27;,\n       &#x27;2020-08-25T00:00:00.000000000&#x27;, &#x27;2020-08-26T00:00:00.000000000&#x27;,\n       &#x27;2020-08-27T00:00:00.000000000&#x27;, &#x27;2020-08-28T00:00:00.000000000&#x27;],\n      dtype=&#x27;datetime64[ns]&#x27;)</pre></div></li><li class='xr-var-item'><div class='xr-var-name'><span class='xr-has-index'>static_field</span></div><div class='xr-var-dims'>(static_field)</div><div class='xr-var-dtype'>object</div><div class='xr-var-preview xr-preview'>&#x27;name&#x27; &#x27;iso_code3&#x27; &#x27;numeric&#x27;</div><input id='attrs-7d648690-8421-4476-b7ce-7b11c88f2054' class='xr-var-attrs-in' type='checkbox' disabled><label for='attrs-7d648690-8421-4476-b7ce-7b11c88f2054' title='Show/Hide attributes'><svg class='icon xr-icon-file-text2'><use xlink:href='#icon-file-text2'></use></svg></label><input id='data-9e435f77-14d1-4ba4-8c1d-cdd9edd18d51' class='xr-var-data-in' type='checkbox'><label for='data-9e435f77-14d1-4ba4-8c1d-cdd9edd18d51' title='Show/Hide data repr'><svg class='icon xr-icon-database'><use xlink:href='#icon-database'></use></svg></label><div class='xr-var-attrs'><dl class='xr-attrs'></dl></div><div class='xr-var-data'><pre>array([&#x27;name&#x27;, &#x27;iso_code3&#x27;, &#x27;numeric&#x27;], dtype=object)</pre></div></li><li class='xr-var-item'><div class='xr-var-name'><span class='xr-has-index'>component</span></div><div class='xr-var-dims'>(component)</div><div class='xr-var-dtype'>object</div><div class='xr-var-preview xr-preview'>&#x27;month&#x27; &#x27;year&#x27;</div><input id='attrs-8e28e777-b9fb-4af0-98fb-7b8dc7d27542' class='xr-var-attrs-in' type='checkbox' disabled><label for='attrs-8e28e777-b9fb-4af0-98fb-7b8dc7d27542' title='Show/Hide attributes'><svg class='icon xr-icon-file-text2'><use xlink:href='#icon-file-text2'></use></svg></label><input id='data-2e620c5f-3cf9-45ee-a272-c9c58d48db55' class='xr-var-data-in' type='checkbox'><label for='data-2e620c5f-3cf9-45ee-a272-c9c58d48db55' title='Show/Hide data repr'><svg class='icon xr-icon-database'><use xlink:href='#icon-database'></use></svg></label><div class='xr-var-attrs'><dl class='xr-attrs'></dl></div><div class='xr-var-data'><pre>array([&#x27;month&#x27;, &#x27;year&#x27;], dtype=object)</pre></div></li></ul></div></li><li class='xr-section-item'><input id='section-d9aad3b4-e7c2-44ff-a248-d40e2f8f6e8f' class='xr-section-summary-in' type='checkbox'  checked><label for='section-d9aad3b4-e7c2-44ff-a248-d40e2f8f6e8f' class='xr-section-summary' >Data variables: <span>(6)</span></label><div class='xr-section-inline-details'></div><div class='xr-section-details'><ul class='xr-var-list'><li class='xr-var-item'><div class='xr-var-name'><span>close</span></div><div class='xr-var-dims'>(date, iso_code2)</div><div class='xr-var-dtype'>float64</div><div class='xr-var-preview xr-preview'>0.7198 1.091 ... 0.0095 0.1156</div><input id='attrs-d3f96b64-1a79-463e-b4f1-6318c8c816cc' class='xr-var-attrs-in' type='checkbox' disabled><label for='attrs-d3f96b64-1a79-463e-b4f1-6318c8c816cc' title='Show/Hide attributes'><svg class='icon xr-icon-file-text2'><use xlink:href='#icon-file-text2'></use></svg></label><input id='data-99ebf045-a6ad-490f-8afa-53ffb70dd280' class='xr-var-data-in' type='checkbox'><label for='data-99ebf045-a6ad-490f-8afa-53ffb70dd280' title='Show/Hide data repr'><svg class='icon xr-icon-database'><use xlink:href='#icon-database'></use></svg></label><div class='xr-var-attrs'><dl class='xr-attrs'></dl></div><div class='xr-var-data'><pre>array([[0.7198, 1.0915, 1.0915, ..., 1.0915, 0.0093, 0.0995],\n       [0.7202, 1.0983, 1.0983, ..., 1.0983, 0.0093, 0.1002],\n       [0.7081, 1.0901, 1.0901, ..., 1.0901, 0.0093, 0.0992],\n       ...,\n       [0.7603, 1.1835, 1.1835, ..., 1.1835, 0.0094, 0.1142],\n       [0.7616, 1.1817, 1.1817, ..., 1.1817, 0.0094, 0.1141],\n       [0.7657, 1.1914, 1.1914, ..., 1.1914, 0.0095, 0.1156]])</pre></div></li><li class='xr-var-item'><div class='xr-var-name'><span>currency</span></div><div class='xr-var-dims'>(iso_code2)</div><div class='xr-var-dtype'>object</div><div class='xr-var-preview xr-preview'>&#x27;CAD&#x27; &#x27;EUR&#x27; &#x27;EUR&#x27; ... &#x27;JPY&#x27; &#x27;SEK&#x27;</div><input id='attrs-310b9a8e-ce40-4a78-bf33-1086d6d7cfa6' class='xr-var-attrs-in' type='checkbox' disabled><label for='attrs-310b9a8e-ce40-4a78-bf33-1086d6d7cfa6' title='Show/Hide attributes'><svg class='icon xr-icon-file-text2'><use xlink:href='#icon-file-text2'></use></svg></label><input id='data-1f600f18-944d-40b7-9b9e-10c8e5aa5464' class='xr-var-data-in' type='checkbox'><label for='data-1f600f18-944d-40b7-9b9e-10c8e5aa5464' title='Show/Hide data repr'><svg class='icon xr-icon-database'><use xlink:href='#icon-database'></use></svg></label><div class='xr-var-attrs'><dl class='xr-attrs'></dl></div><div class='xr-var-data'><pre>array([&#x27;CAD&#x27;, &#x27;EUR&#x27;, &#x27;EUR&#x27;, &#x27;EUR&#x27;, &#x27;EUR&#x27;, &#x27;EUR&#x27;, &#x27;EUR&#x27;, &#x27;EUR&#x27;, &#x27;EUR&#x27;,\n       &#x27;EUR&#x27;, &#x27;EUR&#x27;, &#x27;EUR&#x27;, &#x27;EUR&#x27;, &#x27;EUR&#x27;, &#x27;EUR&#x27;, &#x27;EUR&#x27;, &#x27;EUR&#x27;, &#x27;EUR&#x27;,\n       &#x27;EUR&#x27;, &#x27;EUR&#x27;, &#x27;EUR&#x27;, &#x27;EUR&#x27;, &#x27;EUR&#x27;, &#x27;EUR&#x27;, &#x27;EUR&#x27;, &#x27;EUR&#x27;, &#x27;EUR&#x27;,\n       &#x27;EUR&#x27;, &#x27;EUR&#x27;, &#x27;EUR&#x27;, &#x27;EUR&#x27;, &#x27;EUR&#x27;, &#x27;EUR&#x27;, &#x27;JPY&#x27;, &#x27;SEK&#x27;],\n      dtype=object)</pre></div></li><li class='xr-var-item'><div class='xr-var-name'><span>country</span></div><div class='xr-var-dims'>(iso_code2)</div><div class='xr-var-dtype'>object</div><div class='xr-var-preview xr-preview'>&#x27;Canada&#x27; ... &#x27;Sweden&#x27;</div><input id='attrs-a843b85d-6917-4d8f-8dff-b0a587ea5924' class='xr-var-attrs-in' type='checkbox' disabled><label for='attrs-a843b85d-6917-4d8f-8dff-b0a587ea5924' title='Show/Hide attributes'><svg class='icon xr-icon-file-text2'><use xlink:href='#icon-file-text2'></use></svg></label><input id='data-51e4cbb1-07d0-4869-b138-983776533c62' class='xr-var-data-in' type='checkbox'><label for='data-51e4cbb1-07d0-4869-b138-983776533c62' title='Show/Hide data repr'><svg class='icon xr-icon-database'><use xlink:href='#icon-database'></use></svg></label><div class='xr-var-attrs'><dl class='xr-attrs'></dl></div><div class='xr-var-data'><pre>array([&#x27;Canada&#x27;, &#x27;Aland Islands&#x27;, &#x27;Andorra&#x27;, &#x27;Austria&#x27;, &#x27;Belgium&#x27;,\n       &#x27;Cyprus&#x27;, &#x27;Estonia&#x27;, &#x27;Finland&#x27;, &#x27;France&#x27;, &#x27;French Guiana&#x27;,\n       &#x27;French Southern Territories&#x27;, &#x27;Germany&#x27;, &#x27;Greece&#x27;, &#x27;Guadeloupe&#x27;,\n       &#x27;Holy See&#x27;, &#x27;Ireland&#x27;, &#x27;Italy&#x27;, &#x27;Latvia&#x27;, &#x27;Lithuania&#x27;,\n       &#x27;Luxembourg&#x27;, &#x27;Malta&#x27;, &#x27;Martinique&#x27;, &#x27;Mayotte&#x27;, &#x27;Monaco&#x27;,\n       &#x27;Montenegro&#x27;, &#x27;Netherlands&#x27;, &#x27;Portugal&#x27;, &#x27;Saint Martin&#x27;,\n       &#x27;Saint Pierre and Miquelon&#x27;, &#x27;San Marino&#x27;, &#x27;Slovakia&#x27;, &#x27;Slovenia&#x27;,\n       &#x27;Spain&#x27;, &#x27;Japan&#x27;, &#x27;Sweden&#x27;], dtype=object)</pre></div></li><li class='xr-var-item'><div class='xr-var-name'><span>open</span></div><div class='xr-var-dims'>(date, iso_code2)</div><div class='xr-var-dtype'>float64</div><div class='xr-var-preview xr-preview'>0.7147 1.094 ... 0.0094 0.1141</div><input id='attrs-d0d207fc-9773-4e97-8937-72035c954bd9' class='xr-var-attrs-in' type='checkbox' disabled><label for='attrs-d0d207fc-9773-4e97-8937-72035c954bd9' title='Show/Hide attributes'><svg class='icon xr-icon-file-text2'><use xlink:href='#icon-file-text2'></use></svg></label><input id='data-737518a8-de24-409b-bc75-37e64cd74dd3' class='xr-var-data-in' type='checkbox'><label for='data-737518a8-de24-409b-bc75-37e64cd74dd3' title='Show/Hide data repr'><svg class='icon xr-icon-database'><use xlink:href='#icon-database'></use></svg></label><div class='xr-var-attrs'><dl class='xr-attrs'></dl></div><div class='xr-var-data'><pre>array([[0.7147, 1.0937, 1.0937, ..., 1.0937, 0.0092, 0.1001],\n       [0.7198, 1.0915, 1.0915, ..., 1.0915, 0.0093, 0.0995],\n       [0.7199, 1.0984, 1.0984, ..., 1.0984, 0.0093, 0.1002],\n       ...,\n       [0.7591, 1.1833, 1.1833, ..., 1.1833, 0.0094, 0.1137],\n       [0.7608, 1.1836, 1.1836, ..., 1.1836, 0.0094, 0.1142],\n       [0.7618, 1.182 , 1.182 , ..., 1.182 , 0.0094, 0.1141]])</pre></div></li><li class='xr-var-item'><div class='xr-var-name'><span>static</span></div><div class='xr-var-dims'>(iso_code2, static_field)</div><div class='xr-var-dtype'>object</div><div class='xr-var-preview xr-preview'>&#x27;Canada&#x27; &#x27;CAN&#x27; 124 ... &#x27;SWE&#x27; 752</div><input id='attrs-66ff265a-e40a-481c-86ff-4da784730d5a' class='xr-var-attrs-in' type='checkbox' disabled><label for='attrs-66ff265a-e40a-481c-86ff-4da784730d5a' title='Show/Hide attributes'><svg class='icon xr-icon-file-text2'><use xlink:href='#icon-file-text2'></use></svg></label><input id='data-d1ef32c9-988c-4679-aea2-c3513bc1ba2a' class='xr-var-data-in' type='checkbox'><label for='data-d1ef32c9-988c-4679-aea2-c3513bc1ba2a' title='Show/Hide data repr'><svg class='icon xr-icon-database'><use xlink:href='#icon-database'></use></svg></label><div class='xr-var-attrs'><dl class='xr-attrs'></dl></div><div class='xr-var-data'><pre>array([[&#x27;Canada&#x27;, &#x27;CAN&#x27;, 124],\n       [&#x27;Aland Islands&#x27;, &#x27;ALA&#x27;, 248],\n       [&#x27;Andorra&#x27;, &#x27;AND&#x27;, 20],\n       [&#x27;Austria&#x27;, &#x27;AUT&#x27;, 40],\n       [&#x27;Belgium&#x27;, &#x27;BEL&#x27;, 56],\n       [&#x27;Cyprus&#x27;, &#x27;CYP&#x27;, 196],\n       [&#x27;Estonia&#x27;, &#x27;EST&#x27;, 233],\n       [&#x27;Finland&#x27;, &#x27;FIN&#x27;, 246],\n       [&#x27;France&#x27;, &#x27;FRA&#x27;, 250],\n       [&#x27;French Guiana&#x27;, &#x27;GUF&#x27;, 254],\n       [&#x27;French Southern Territories&#x27;, &#x27;ATF&#x27;, 260],\n       [&#x27;Germany&#x27;, &#x27;DEU&#x27;, 276],\n       [&#x27;Greece&#x27;, &#x27;GRC&#x27;, 300],\n       [&#x27;Guadeloupe&#x27;, &#x27;GLP&#x27;, 312],\n       [&#x27;Holy See&#x27;, &#x27;VAT&#x27;, 336],\n       [&#x27;Ireland&#x27;, &#x27;IRL&#x27;, 372],\n       [&#x27;Italy&#x27;, &#x27;ITA&#x27;, 380],\n       [&#x27;Latvia&#x27;, &#x27;LVA&#x27;, 428],\n       [&#x27;Lithuania&#x27;, &#x27;LTU&#x27;, 440],\n       [&#x27;Luxembourg&#x27;, &#x27;LUX&#x27;, 442],\n       [&#x27;Malta&#x27;, &#x27;MLT&#x27;, 470],\n       [&#x27;Martinique&#x27;, &#x27;MTQ&#x27;, 474],\n       [&#x27;Mayotte&#x27;, &#x27;MYT&#x27;, 175],\n       [&#x27;Monaco&#x27;, &#x27;MCO&#x27;, 492],\n       [&#x27;Montenegro&#x27;, &#x27;MNE&#x27;, 499],\n       [&#x27;Netherlands&#x27;, &#x27;NLD&#x27;, 528],\n       [&#x27;Portugal&#x27;, &#x27;PRT&#x27;, 620],\n       [&#x27;Saint Martin&#x27;, &#x27;MAF&#x27;, 663],\n       [&#x27;Saint Pierre and Miquelon&#x27;, &#x27;SPM&#x27;, 666],\n       [&#x27;San Marino&#x27;, &#x27;SMR&#x27;, 674],\n       [&#x27;Slovakia&#x27;, &#x27;SVK&#x27;, 703],\n       [&#x27;Slovenia&#x27;, &#x27;SVN&#x27;, 705],\n       [&#x27;Spain&#x27;, &#x27;ESP&#x27;, 724],\n       [&#x27;Japan&#x27;, &#x27;JPN&#x27;, 392],\n       [&#x27;Sweden&#x27;, &#x27;SWE&#x27;, 752]], dtype=object)</pre></div></li><li class='xr-var-item'><div class='xr-var-name'><span>date_info</span></div><div class='xr-var-dims'>(date, component)</div><div class='xr-var-dtype'>int64</div><div class='xr-var-preview xr-preview'>4 2020 4 2020 4 ... 8 2020 8 2020</div><input id='attrs-3fd78423-a885-4d23-8bf5-dc9add63b5da' class='xr-var-attrs-in' type='checkbox' disabled><label for='attrs-3fd78423-a885-4d23-8bf5-dc9add63b5da' title='Show/Hide attributes'><svg class='icon xr-icon-file-text2'><use xlink:href='#icon-file-text2'></use></svg></label><input id='data-f01810f8-0616-4bdd-8fad-121d0755b0f9' class='xr-var-data-in' type='checkbox'><label for='data-f01810f8-0616-4bdd-8fad-121d0755b0f9' title='Show/Hide data repr'><svg class='icon xr-icon-database'><use xlink:href='#icon-database'></use></svg></label><div class='xr-var-attrs'><dl class='xr-attrs'></dl></div><div class='xr-var-data'><pre>array([[   4, 2020],\n       [   4, 2020],\n       [   4, 2020],\n       [   4, 2020],\n       [   4, 2020],\n       [   4, 2020],\n       [   4, 2020],\n       [   4, 2020],\n       [   4, 2020],\n       [   4, 2020],\n       [   4, 2020],\n       [   4, 2020],\n       [   4, 2020],\n       [   4, 2020],\n       [   5, 2020],\n       [   5, 2020],\n       [   5, 2020],\n       [   5, 2020],\n       [   5, 2020],\n       [   5, 2020],\n...\n       [   8, 2020],\n       [   8, 2020],\n       [   8, 2020],\n       [   8, 2020],\n       [   8, 2020],\n       [   8, 2020],\n       [   8, 2020],\n       [   8, 2020],\n       [   8, 2020],\n       [   8, 2020],\n       [   8, 2020],\n       [   8, 2020],\n       [   8, 2020],\n       [   8, 2020],\n       [   8, 2020],\n       [   8, 2020],\n       [   8, 2020],\n       [   8, 2020],\n       [   8, 2020],\n       [   8, 2020]])</pre></div></li></ul></div></li><li class='xr-section-item'><input id='section-3074d963-8645-40c5-a46d-eca81aa3e3e8' class='xr-section-summary-in' type='checkbox' disabled ><label for='section-3074d963-8645-40c5-a46d-eca81aa3e3e8' class='xr-section-summary'  title='Expand/collapse section'>Attributes: <span>(0)</span></label><div class='xr-section-inline-details'></div><div class='xr-section-details'><dl class='xr-attrs'></dl></div></li></ul></div></div>"
     },
     "metadata": {},
     "execution_count": 284
    }
   ],
   "source": [
    "dst"
   ]
  },
  {
   "cell_type": "code",
   "execution_count": 285,
   "metadata": {},
   "outputs": [
    {
     "output_type": "execute_result",
     "data": {
      "text/plain": "<xarray.Dataset>\nDimensions:    (date: 100, iso_code2: 35)\nCoordinates:\n  * date       (date) datetime64[ns] 2020-04-13 2020-04-14 ... 2020-08-28\n  * iso_code2  (iso_code2) object 'CA' 'AX' 'AD' 'AT' ... 'SI' 'ES' 'JP' 'SE'\nData variables:\n    open       (date, iso_code2) float64 0.7147 1.094 1.094 ... 0.0094 0.1141\n    close      (date, iso_code2) float64 0.7198 1.091 1.091 ... 0.0095 0.1156",
      "text/html": "<div><svg style=\"position: absolute; width: 0; height: 0; overflow: hidden\">\n<defs>\n<symbol id=\"icon-database\" viewBox=\"0 0 32 32\">\n<path d=\"M16 0c-8.837 0-16 2.239-16 5v4c0 2.761 7.163 5 16 5s16-2.239 16-5v-4c0-2.761-7.163-5-16-5z\"></path>\n<path d=\"M16 17c-8.837 0-16-2.239-16-5v6c0 2.761 7.163 5 16 5s16-2.239 16-5v-6c0 2.761-7.163 5-16 5z\"></path>\n<path d=\"M16 26c-8.837 0-16-2.239-16-5v6c0 2.761 7.163 5 16 5s16-2.239 16-5v-6c0 2.761-7.163 5-16 5z\"></path>\n</symbol>\n<symbol id=\"icon-file-text2\" viewBox=\"0 0 32 32\">\n<path d=\"M28.681 7.159c-0.694-0.947-1.662-2.053-2.724-3.116s-2.169-2.030-3.116-2.724c-1.612-1.182-2.393-1.319-2.841-1.319h-15.5c-1.378 0-2.5 1.121-2.5 2.5v27c0 1.378 1.122 2.5 2.5 2.5h23c1.378 0 2.5-1.122 2.5-2.5v-19.5c0-0.448-0.137-1.23-1.319-2.841zM24.543 5.457c0.959 0.959 1.712 1.825 2.268 2.543h-4.811v-4.811c0.718 0.556 1.584 1.309 2.543 2.268zM28 29.5c0 0.271-0.229 0.5-0.5 0.5h-23c-0.271 0-0.5-0.229-0.5-0.5v-27c0-0.271 0.229-0.5 0.5-0.5 0 0 15.499-0 15.5 0v7c0 0.552 0.448 1 1 1h7v19.5z\"></path>\n<path d=\"M23 26h-14c-0.552 0-1-0.448-1-1s0.448-1 1-1h14c0.552 0 1 0.448 1 1s-0.448 1-1 1z\"></path>\n<path d=\"M23 22h-14c-0.552 0-1-0.448-1-1s0.448-1 1-1h14c0.552 0 1 0.448 1 1s-0.448 1-1 1z\"></path>\n<path d=\"M23 18h-14c-0.552 0-1-0.448-1-1s0.448-1 1-1h14c0.552 0 1 0.448 1 1s-0.448 1-1 1z\"></path>\n</symbol>\n</defs>\n</svg>\n<style>/* CSS stylesheet for displaying xarray objects in jupyterlab.\n *\n */\n\n:root {\n  --xr-font-color0: var(--jp-content-font-color0, rgba(0, 0, 0, 1));\n  --xr-font-color2: var(--jp-content-font-color2, rgba(0, 0, 0, 0.54));\n  --xr-font-color3: var(--jp-content-font-color3, rgba(0, 0, 0, 0.38));\n  --xr-border-color: var(--jp-border-color2, #e0e0e0);\n  --xr-disabled-color: var(--jp-layout-color3, #bdbdbd);\n  --xr-background-color: var(--jp-layout-color0, white);\n  --xr-background-color-row-even: var(--jp-layout-color1, white);\n  --xr-background-color-row-odd: var(--jp-layout-color2, #eeeeee);\n}\n\nhtml[theme=dark],\nbody.vscode-dark {\n  --xr-font-color0: rgba(255, 255, 255, 1);\n  --xr-font-color2: rgba(255, 255, 255, 0.54);\n  --xr-font-color3: rgba(255, 255, 255, 0.38);\n  --xr-border-color: #1F1F1F;\n  --xr-disabled-color: #515151;\n  --xr-background-color: #111111;\n  --xr-background-color-row-even: #111111;\n  --xr-background-color-row-odd: #313131;\n}\n\n.xr-wrap {\n  display: block;\n  min-width: 300px;\n  max-width: 700px;\n}\n\n.xr-text-repr-fallback {\n  /* fallback to plain text repr when CSS is not injected (untrusted notebook) */\n  display: none;\n}\n\n.xr-header {\n  padding-top: 6px;\n  padding-bottom: 6px;\n  margin-bottom: 4px;\n  border-bottom: solid 1px var(--xr-border-color);\n}\n\n.xr-header > div,\n.xr-header > ul {\n  display: inline;\n  margin-top: 0;\n  margin-bottom: 0;\n}\n\n.xr-obj-type,\n.xr-array-name {\n  margin-left: 2px;\n  margin-right: 10px;\n}\n\n.xr-obj-type {\n  color: var(--xr-font-color2);\n}\n\n.xr-sections {\n  padding-left: 0 !important;\n  display: grid;\n  grid-template-columns: 150px auto auto 1fr 20px 20px;\n}\n\n.xr-section-item {\n  display: contents;\n}\n\n.xr-section-item input {\n  display: none;\n}\n\n.xr-section-item input + label {\n  color: var(--xr-disabled-color);\n}\n\n.xr-section-item input:enabled + label {\n  cursor: pointer;\n  color: var(--xr-font-color2);\n}\n\n.xr-section-item input:enabled + label:hover {\n  color: var(--xr-font-color0);\n}\n\n.xr-section-summary {\n  grid-column: 1;\n  color: var(--xr-font-color2);\n  font-weight: 500;\n}\n\n.xr-section-summary > span {\n  display: inline-block;\n  padding-left: 0.5em;\n}\n\n.xr-section-summary-in:disabled + label {\n  color: var(--xr-font-color2);\n}\n\n.xr-section-summary-in + label:before {\n  display: inline-block;\n  content: '►';\n  font-size: 11px;\n  width: 15px;\n  text-align: center;\n}\n\n.xr-section-summary-in:disabled + label:before {\n  color: var(--xr-disabled-color);\n}\n\n.xr-section-summary-in:checked + label:before {\n  content: '▼';\n}\n\n.xr-section-summary-in:checked + label > span {\n  display: none;\n}\n\n.xr-section-summary,\n.xr-section-inline-details {\n  padding-top: 4px;\n  padding-bottom: 4px;\n}\n\n.xr-section-inline-details {\n  grid-column: 2 / -1;\n}\n\n.xr-section-details {\n  display: none;\n  grid-column: 1 / -1;\n  margin-bottom: 5px;\n}\n\n.xr-section-summary-in:checked ~ .xr-section-details {\n  display: contents;\n}\n\n.xr-array-wrap {\n  grid-column: 1 / -1;\n  display: grid;\n  grid-template-columns: 20px auto;\n}\n\n.xr-array-wrap > label {\n  grid-column: 1;\n  vertical-align: top;\n}\n\n.xr-preview {\n  color: var(--xr-font-color3);\n}\n\n.xr-array-preview,\n.xr-array-data {\n  padding: 0 5px !important;\n  grid-column: 2;\n}\n\n.xr-array-data,\n.xr-array-in:checked ~ .xr-array-preview {\n  display: none;\n}\n\n.xr-array-in:checked ~ .xr-array-data,\n.xr-array-preview {\n  display: inline-block;\n}\n\n.xr-dim-list {\n  display: inline-block !important;\n  list-style: none;\n  padding: 0 !important;\n  margin: 0;\n}\n\n.xr-dim-list li {\n  display: inline-block;\n  padding: 0;\n  margin: 0;\n}\n\n.xr-dim-list:before {\n  content: '(';\n}\n\n.xr-dim-list:after {\n  content: ')';\n}\n\n.xr-dim-list li:not(:last-child):after {\n  content: ',';\n  padding-right: 5px;\n}\n\n.xr-has-index {\n  font-weight: bold;\n}\n\n.xr-var-list,\n.xr-var-item {\n  display: contents;\n}\n\n.xr-var-item > div,\n.xr-var-item label,\n.xr-var-item > .xr-var-name span {\n  background-color: var(--xr-background-color-row-even);\n  margin-bottom: 0;\n}\n\n.xr-var-item > .xr-var-name:hover span {\n  padding-right: 5px;\n}\n\n.xr-var-list > li:nth-child(odd) > div,\n.xr-var-list > li:nth-child(odd) > label,\n.xr-var-list > li:nth-child(odd) > .xr-var-name span {\n  background-color: var(--xr-background-color-row-odd);\n}\n\n.xr-var-name {\n  grid-column: 1;\n}\n\n.xr-var-dims {\n  grid-column: 2;\n}\n\n.xr-var-dtype {\n  grid-column: 3;\n  text-align: right;\n  color: var(--xr-font-color2);\n}\n\n.xr-var-preview {\n  grid-column: 4;\n}\n\n.xr-var-name,\n.xr-var-dims,\n.xr-var-dtype,\n.xr-preview,\n.xr-attrs dt {\n  white-space: nowrap;\n  overflow: hidden;\n  text-overflow: ellipsis;\n  padding-right: 10px;\n}\n\n.xr-var-name:hover,\n.xr-var-dims:hover,\n.xr-var-dtype:hover,\n.xr-attrs dt:hover {\n  overflow: visible;\n  width: auto;\n  z-index: 1;\n}\n\n.xr-var-attrs,\n.xr-var-data {\n  display: none;\n  background-color: var(--xr-background-color) !important;\n  padding-bottom: 5px !important;\n}\n\n.xr-var-attrs-in:checked ~ .xr-var-attrs,\n.xr-var-data-in:checked ~ .xr-var-data {\n  display: block;\n}\n\n.xr-var-data > table {\n  float: right;\n}\n\n.xr-var-name span,\n.xr-var-data,\n.xr-attrs {\n  padding-left: 25px !important;\n}\n\n.xr-attrs,\n.xr-var-attrs,\n.xr-var-data {\n  grid-column: 1 / -1;\n}\n\ndl.xr-attrs {\n  padding: 0;\n  margin: 0;\n  display: grid;\n  grid-template-columns: 125px auto;\n}\n\n.xr-attrs dt, dd {\n  padding: 0;\n  margin: 0;\n  float: left;\n  padding-right: 10px;\n  width: auto;\n}\n\n.xr-attrs dt {\n  font-weight: normal;\n  grid-column: 1;\n}\n\n.xr-attrs dt:hover span {\n  display: inline-block;\n  background: var(--xr-background-color);\n  padding-right: 10px;\n}\n\n.xr-attrs dd {\n  grid-column: 2;\n  white-space: pre-wrap;\n  word-break: break-all;\n}\n\n.xr-icon-database,\n.xr-icon-file-text2 {\n  display: inline-block;\n  vertical-align: middle;\n  width: 1em;\n  height: 1.5em !important;\n  stroke-width: 0;\n  stroke: currentColor;\n  fill: currentColor;\n}\n</style><pre class='xr-text-repr-fallback'>&lt;xarray.Dataset&gt;\nDimensions:    (date: 100, iso_code2: 35)\nCoordinates:\n  * date       (date) datetime64[ns] 2020-04-13 2020-04-14 ... 2020-08-28\n  * iso_code2  (iso_code2) object &#x27;CA&#x27; &#x27;AX&#x27; &#x27;AD&#x27; &#x27;AT&#x27; ... &#x27;SI&#x27; &#x27;ES&#x27; &#x27;JP&#x27; &#x27;SE&#x27;\nData variables:\n    open       (date, iso_code2) float64 0.7147 1.094 1.094 ... 0.0094 0.1141\n    close      (date, iso_code2) float64 0.7198 1.091 1.091 ... 0.0095 0.1156</pre><div class='xr-wrap' hidden><div class='xr-header'><div class='xr-obj-type'>xarray.Dataset</div></div><ul class='xr-sections'><li class='xr-section-item'><input id='section-3ffe98b1-cb7c-4fc7-8551-288fe197da7f' class='xr-section-summary-in' type='checkbox' disabled ><label for='section-3ffe98b1-cb7c-4fc7-8551-288fe197da7f' class='xr-section-summary'  title='Expand/collapse section'>Dimensions:</label><div class='xr-section-inline-details'><ul class='xr-dim-list'><li><span class='xr-has-index'>date</span>: 100</li><li><span class='xr-has-index'>iso_code2</span>: 35</li></ul></div><div class='xr-section-details'></div></li><li class='xr-section-item'><input id='section-58bcdda3-3445-4ea8-aaf7-0a47c0b4d19c' class='xr-section-summary-in' type='checkbox'  checked><label for='section-58bcdda3-3445-4ea8-aaf7-0a47c0b4d19c' class='xr-section-summary' >Coordinates: <span>(2)</span></label><div class='xr-section-inline-details'></div><div class='xr-section-details'><ul class='xr-var-list'><li class='xr-var-item'><div class='xr-var-name'><span class='xr-has-index'>date</span></div><div class='xr-var-dims'>(date)</div><div class='xr-var-dtype'>datetime64[ns]</div><div class='xr-var-preview xr-preview'>2020-04-13 ... 2020-08-28</div><input id='attrs-e9087b13-bafb-4938-9a67-95d0dd841a02' class='xr-var-attrs-in' type='checkbox' disabled><label for='attrs-e9087b13-bafb-4938-9a67-95d0dd841a02' title='Show/Hide attributes'><svg class='icon xr-icon-file-text2'><use xlink:href='#icon-file-text2'></use></svg></label><input id='data-f38b88dc-c1ea-4b5f-8164-dcea8369a425' class='xr-var-data-in' type='checkbox'><label for='data-f38b88dc-c1ea-4b5f-8164-dcea8369a425' title='Show/Hide data repr'><svg class='icon xr-icon-database'><use xlink:href='#icon-database'></use></svg></label><div class='xr-var-attrs'><dl class='xr-attrs'></dl></div><div class='xr-var-data'><pre>array([&#x27;2020-04-13T00:00:00.000000000&#x27;, &#x27;2020-04-14T00:00:00.000000000&#x27;,\n       &#x27;2020-04-15T00:00:00.000000000&#x27;, &#x27;2020-04-16T00:00:00.000000000&#x27;,\n       &#x27;2020-04-17T00:00:00.000000000&#x27;, &#x27;2020-04-20T00:00:00.000000000&#x27;,\n       &#x27;2020-04-21T00:00:00.000000000&#x27;, &#x27;2020-04-22T00:00:00.000000000&#x27;,\n       &#x27;2020-04-23T00:00:00.000000000&#x27;, &#x27;2020-04-24T00:00:00.000000000&#x27;,\n       &#x27;2020-04-27T00:00:00.000000000&#x27;, &#x27;2020-04-28T00:00:00.000000000&#x27;,\n       &#x27;2020-04-29T00:00:00.000000000&#x27;, &#x27;2020-04-30T00:00:00.000000000&#x27;,\n       &#x27;2020-05-01T00:00:00.000000000&#x27;, &#x27;2020-05-04T00:00:00.000000000&#x27;,\n       &#x27;2020-05-05T00:00:00.000000000&#x27;, &#x27;2020-05-06T00:00:00.000000000&#x27;,\n       &#x27;2020-05-07T00:00:00.000000000&#x27;, &#x27;2020-05-08T00:00:00.000000000&#x27;,\n       &#x27;2020-05-11T00:00:00.000000000&#x27;, &#x27;2020-05-12T00:00:00.000000000&#x27;,\n       &#x27;2020-05-13T00:00:00.000000000&#x27;, &#x27;2020-05-14T00:00:00.000000000&#x27;,\n       &#x27;2020-05-15T00:00:00.000000000&#x27;, &#x27;2020-05-18T00:00:00.000000000&#x27;,\n       &#x27;2020-05-19T00:00:00.000000000&#x27;, &#x27;2020-05-20T00:00:00.000000000&#x27;,\n       &#x27;2020-05-21T00:00:00.000000000&#x27;, &#x27;2020-05-22T00:00:00.000000000&#x27;,\n       &#x27;2020-05-25T00:00:00.000000000&#x27;, &#x27;2020-05-26T00:00:00.000000000&#x27;,\n       &#x27;2020-05-27T00:00:00.000000000&#x27;, &#x27;2020-05-28T00:00:00.000000000&#x27;,\n       &#x27;2020-05-29T00:00:00.000000000&#x27;, &#x27;2020-06-01T00:00:00.000000000&#x27;,\n       &#x27;2020-06-02T00:00:00.000000000&#x27;, &#x27;2020-06-03T00:00:00.000000000&#x27;,\n       &#x27;2020-06-04T00:00:00.000000000&#x27;, &#x27;2020-06-05T00:00:00.000000000&#x27;,\n       &#x27;2020-06-08T00:00:00.000000000&#x27;, &#x27;2020-06-09T00:00:00.000000000&#x27;,\n       &#x27;2020-06-10T00:00:00.000000000&#x27;, &#x27;2020-06-11T00:00:00.000000000&#x27;,\n       &#x27;2020-06-12T00:00:00.000000000&#x27;, &#x27;2020-06-15T00:00:00.000000000&#x27;,\n       &#x27;2020-06-16T00:00:00.000000000&#x27;, &#x27;2020-06-17T00:00:00.000000000&#x27;,\n       &#x27;2020-06-18T00:00:00.000000000&#x27;, &#x27;2020-06-19T00:00:00.000000000&#x27;,\n       &#x27;2020-06-22T00:00:00.000000000&#x27;, &#x27;2020-06-23T00:00:00.000000000&#x27;,\n       &#x27;2020-06-24T00:00:00.000000000&#x27;, &#x27;2020-06-25T00:00:00.000000000&#x27;,\n       &#x27;2020-06-26T00:00:00.000000000&#x27;, &#x27;2020-06-29T00:00:00.000000000&#x27;,\n       &#x27;2020-06-30T00:00:00.000000000&#x27;, &#x27;2020-07-01T00:00:00.000000000&#x27;,\n       &#x27;2020-07-02T00:00:00.000000000&#x27;, &#x27;2020-07-03T00:00:00.000000000&#x27;,\n       &#x27;2020-07-06T00:00:00.000000000&#x27;, &#x27;2020-07-07T00:00:00.000000000&#x27;,\n       &#x27;2020-07-08T00:00:00.000000000&#x27;, &#x27;2020-07-09T00:00:00.000000000&#x27;,\n       &#x27;2020-07-10T00:00:00.000000000&#x27;, &#x27;2020-07-13T00:00:00.000000000&#x27;,\n       &#x27;2020-07-14T00:00:00.000000000&#x27;, &#x27;2020-07-15T00:00:00.000000000&#x27;,\n       &#x27;2020-07-16T00:00:00.000000000&#x27;, &#x27;2020-07-17T00:00:00.000000000&#x27;,\n       &#x27;2020-07-20T00:00:00.000000000&#x27;, &#x27;2020-07-21T00:00:00.000000000&#x27;,\n       &#x27;2020-07-22T00:00:00.000000000&#x27;, &#x27;2020-07-23T00:00:00.000000000&#x27;,\n       &#x27;2020-07-24T00:00:00.000000000&#x27;, &#x27;2020-07-27T00:00:00.000000000&#x27;,\n       &#x27;2020-07-28T00:00:00.000000000&#x27;, &#x27;2020-07-29T00:00:00.000000000&#x27;,\n       &#x27;2020-07-30T00:00:00.000000000&#x27;, &#x27;2020-07-31T00:00:00.000000000&#x27;,\n       &#x27;2020-08-03T00:00:00.000000000&#x27;, &#x27;2020-08-04T00:00:00.000000000&#x27;,\n       &#x27;2020-08-05T00:00:00.000000000&#x27;, &#x27;2020-08-06T00:00:00.000000000&#x27;,\n       &#x27;2020-08-07T00:00:00.000000000&#x27;, &#x27;2020-08-10T00:00:00.000000000&#x27;,\n       &#x27;2020-08-11T00:00:00.000000000&#x27;, &#x27;2020-08-12T00:00:00.000000000&#x27;,\n       &#x27;2020-08-13T00:00:00.000000000&#x27;, &#x27;2020-08-14T00:00:00.000000000&#x27;,\n       &#x27;2020-08-17T00:00:00.000000000&#x27;, &#x27;2020-08-18T00:00:00.000000000&#x27;,\n       &#x27;2020-08-19T00:00:00.000000000&#x27;, &#x27;2020-08-20T00:00:00.000000000&#x27;,\n       &#x27;2020-08-21T00:00:00.000000000&#x27;, &#x27;2020-08-24T00:00:00.000000000&#x27;,\n       &#x27;2020-08-25T00:00:00.000000000&#x27;, &#x27;2020-08-26T00:00:00.000000000&#x27;,\n       &#x27;2020-08-27T00:00:00.000000000&#x27;, &#x27;2020-08-28T00:00:00.000000000&#x27;],\n      dtype=&#x27;datetime64[ns]&#x27;)</pre></div></li><li class='xr-var-item'><div class='xr-var-name'><span class='xr-has-index'>iso_code2</span></div><div class='xr-var-dims'>(iso_code2)</div><div class='xr-var-dtype'>object</div><div class='xr-var-preview xr-preview'>&#x27;CA&#x27; &#x27;AX&#x27; &#x27;AD&#x27; ... &#x27;ES&#x27; &#x27;JP&#x27; &#x27;SE&#x27;</div><input id='attrs-0e9173a7-64ae-48da-b404-57fc80df432b' class='xr-var-attrs-in' type='checkbox' disabled><label for='attrs-0e9173a7-64ae-48da-b404-57fc80df432b' title='Show/Hide attributes'><svg class='icon xr-icon-file-text2'><use xlink:href='#icon-file-text2'></use></svg></label><input id='data-8ed1cabd-ec63-4c56-9615-3abba8d4bd50' class='xr-var-data-in' type='checkbox'><label for='data-8ed1cabd-ec63-4c56-9615-3abba8d4bd50' title='Show/Hide data repr'><svg class='icon xr-icon-database'><use xlink:href='#icon-database'></use></svg></label><div class='xr-var-attrs'><dl class='xr-attrs'></dl></div><div class='xr-var-data'><pre>array([&#x27;CA&#x27;, &#x27;AX&#x27;, &#x27;AD&#x27;, &#x27;AT&#x27;, &#x27;BE&#x27;, &#x27;CY&#x27;, &#x27;EE&#x27;, &#x27;FI&#x27;, &#x27;FR&#x27;, &#x27;GF&#x27;, &#x27;TF&#x27;, &#x27;DE&#x27;,\n       &#x27;GR&#x27;, &#x27;GP&#x27;, &#x27;VA&#x27;, &#x27;IE&#x27;, &#x27;IT&#x27;, &#x27;LV&#x27;, &#x27;LT&#x27;, &#x27;LU&#x27;, &#x27;MT&#x27;, &#x27;MQ&#x27;, &#x27;YT&#x27;, &#x27;MC&#x27;,\n       &#x27;ME&#x27;, &#x27;NL&#x27;, &#x27;PT&#x27;, &#x27;MF&#x27;, &#x27;PM&#x27;, &#x27;SM&#x27;, &#x27;SK&#x27;, &#x27;SI&#x27;, &#x27;ES&#x27;, &#x27;JP&#x27;, &#x27;SE&#x27;],\n      dtype=object)</pre></div></li></ul></div></li><li class='xr-section-item'><input id='section-f6f54356-3e83-4e7a-962b-d5271c684c99' class='xr-section-summary-in' type='checkbox'  checked><label for='section-f6f54356-3e83-4e7a-962b-d5271c684c99' class='xr-section-summary' >Data variables: <span>(2)</span></label><div class='xr-section-inline-details'></div><div class='xr-section-details'><ul class='xr-var-list'><li class='xr-var-item'><div class='xr-var-name'><span>open</span></div><div class='xr-var-dims'>(date, iso_code2)</div><div class='xr-var-dtype'>float64</div><div class='xr-var-preview xr-preview'>0.7147 1.094 ... 0.0094 0.1141</div><input id='attrs-c252b16c-81fc-4a92-84d5-8724895fdbb7' class='xr-var-attrs-in' type='checkbox' disabled><label for='attrs-c252b16c-81fc-4a92-84d5-8724895fdbb7' title='Show/Hide attributes'><svg class='icon xr-icon-file-text2'><use xlink:href='#icon-file-text2'></use></svg></label><input id='data-d301dc65-c81c-4b0a-af89-6af8f705da12' class='xr-var-data-in' type='checkbox'><label for='data-d301dc65-c81c-4b0a-af89-6af8f705da12' title='Show/Hide data repr'><svg class='icon xr-icon-database'><use xlink:href='#icon-database'></use></svg></label><div class='xr-var-attrs'><dl class='xr-attrs'></dl></div><div class='xr-var-data'><pre>array([[0.7147, 1.0937, 1.0937, ..., 1.0937, 0.0092, 0.1001],\n       [0.7198, 1.0915, 1.0915, ..., 1.0915, 0.0093, 0.0995],\n       [0.7199, 1.0984, 1.0984, ..., 1.0984, 0.0093, 0.1002],\n       ...,\n       [0.7591, 1.1833, 1.1833, ..., 1.1833, 0.0094, 0.1137],\n       [0.7608, 1.1836, 1.1836, ..., 1.1836, 0.0094, 0.1142],\n       [0.7618, 1.182 , 1.182 , ..., 1.182 , 0.0094, 0.1141]])</pre></div></li><li class='xr-var-item'><div class='xr-var-name'><span>close</span></div><div class='xr-var-dims'>(date, iso_code2)</div><div class='xr-var-dtype'>float64</div><div class='xr-var-preview xr-preview'>0.7198 1.091 ... 0.0095 0.1156</div><input id='attrs-7ad868d1-6f57-4aac-affe-69fd3c05aec9' class='xr-var-attrs-in' type='checkbox' disabled><label for='attrs-7ad868d1-6f57-4aac-affe-69fd3c05aec9' title='Show/Hide attributes'><svg class='icon xr-icon-file-text2'><use xlink:href='#icon-file-text2'></use></svg></label><input id='data-c9ca6b44-b5a9-4f9a-a8ee-12d0821444c2' class='xr-var-data-in' type='checkbox'><label for='data-c9ca6b44-b5a9-4f9a-a8ee-12d0821444c2' title='Show/Hide data repr'><svg class='icon xr-icon-database'><use xlink:href='#icon-database'></use></svg></label><div class='xr-var-attrs'><dl class='xr-attrs'></dl></div><div class='xr-var-data'><pre>array([[0.7198, 1.0915, 1.0915, ..., 1.0915, 0.0093, 0.0995],\n       [0.7202, 1.0983, 1.0983, ..., 1.0983, 0.0093, 0.1002],\n       [0.7081, 1.0901, 1.0901, ..., 1.0901, 0.0093, 0.0992],\n       ...,\n       [0.7603, 1.1835, 1.1835, ..., 1.1835, 0.0094, 0.1142],\n       [0.7616, 1.1817, 1.1817, ..., 1.1817, 0.0094, 0.1141],\n       [0.7657, 1.1914, 1.1914, ..., 1.1914, 0.0095, 0.1156]])</pre></div></li></ul></div></li><li class='xr-section-item'><input id='section-571924e5-2f73-409d-9716-437454b29134' class='xr-section-summary-in' type='checkbox' disabled ><label for='section-571924e5-2f73-409d-9716-437454b29134' class='xr-section-summary'  title='Expand/collapse section'>Attributes: <span>(0)</span></label><div class='xr-section-inline-details'></div><div class='xr-section-details'><dl class='xr-attrs'></dl></div></li></ul></div></div>"
     },
     "metadata": {},
     "execution_count": 285
    }
   ],
   "source": [
    "dst[['open', 'close']]  # only relevant coordinates are left"
   ]
  },
  {
   "cell_type": "code",
   "execution_count": 289,
   "metadata": {},
   "outputs": [
    {
     "output_type": "execute_result",
     "data": {
      "text/plain": "              open                                  ...   close                                \niso_code2       AD      AT      AX      BE      CA  ...      SK      SM      TF      VA      YT\ndate                                                ...                                        \n2020-04-13  1.0937  1.0937  1.0937  1.0937  0.7147  ...  1.0915  1.0915  1.0915  1.0915  1.0915\n2020-04-14  1.0915  1.0915  1.0915  1.0915  0.7198  ...  1.0983  1.0983  1.0983  1.0983  1.0983\n2020-04-15  1.0984  1.0984  1.0984  1.0984  0.7199  ...  1.0901  1.0901  1.0901  1.0901  1.0901\n2020-04-16  1.0902  1.0902  1.0902  1.0902  0.7081  ...  1.0860  1.0860  1.0860  1.0860  1.0860\n2020-04-17  1.0860  1.0860  1.0860  1.0860  0.7118  ...  1.0874  1.0874  1.0874  1.0874  1.0874\n...            ...     ...     ...     ...     ...  ...     ...     ...     ...     ...     ...\n2020-08-24  1.1801  1.1801  1.1801  1.1801  0.7589  ...  1.1794  1.1794  1.1794  1.1794  1.1794\n2020-08-25  1.1794  1.1794  1.1794  1.1794  0.7563  ...  1.1833  1.1833  1.1833  1.1833  1.1833\n2020-08-26  1.1833  1.1833  1.1833  1.1833  0.7591  ...  1.1835  1.1835  1.1835  1.1835  1.1835\n2020-08-27  1.1836  1.1836  1.1836  1.1836  0.7608  ...  1.1817  1.1817  1.1817  1.1817  1.1817\n2020-08-28  1.1820  1.1820  1.1820  1.1820  0.7618  ...  1.1914  1.1914  1.1914  1.1914  1.1914\n\n[100 rows x 70 columns]",
      "text/html": "<div>\n<style scoped>\n    .dataframe tbody tr th:only-of-type {\n        vertical-align: middle;\n    }\n\n    .dataframe tbody tr th {\n        vertical-align: top;\n    }\n\n    .dataframe thead tr th {\n        text-align: left;\n    }\n\n    .dataframe thead tr:last-of-type th {\n        text-align: right;\n    }\n</style>\n<table border=\"1\" class=\"dataframe\">\n  <thead>\n    <tr>\n      <th></th>\n      <th colspan=\"5\" halign=\"left\">open</th>\n      <th>...</th>\n      <th colspan=\"5\" halign=\"left\">close</th>\n    </tr>\n    <tr>\n      <th>iso_code2</th>\n      <th>AD</th>\n      <th>AT</th>\n      <th>AX</th>\n      <th>BE</th>\n      <th>CA</th>\n      <th>...</th>\n      <th>SK</th>\n      <th>SM</th>\n      <th>TF</th>\n      <th>VA</th>\n      <th>YT</th>\n    </tr>\n    <tr>\n      <th>date</th>\n      <th></th>\n      <th></th>\n      <th></th>\n      <th></th>\n      <th></th>\n      <th></th>\n      <th></th>\n      <th></th>\n      <th></th>\n      <th></th>\n      <th></th>\n    </tr>\n  </thead>\n  <tbody>\n    <tr>\n      <th>2020-04-13</th>\n      <td>1.0937</td>\n      <td>1.0937</td>\n      <td>1.0937</td>\n      <td>1.0937</td>\n      <td>0.7147</td>\n      <td>...</td>\n      <td>1.0915</td>\n      <td>1.0915</td>\n      <td>1.0915</td>\n      <td>1.0915</td>\n      <td>1.0915</td>\n    </tr>\n    <tr>\n      <th>2020-04-14</th>\n      <td>1.0915</td>\n      <td>1.0915</td>\n      <td>1.0915</td>\n      <td>1.0915</td>\n      <td>0.7198</td>\n      <td>...</td>\n      <td>1.0983</td>\n      <td>1.0983</td>\n      <td>1.0983</td>\n      <td>1.0983</td>\n      <td>1.0983</td>\n    </tr>\n    <tr>\n      <th>2020-04-15</th>\n      <td>1.0984</td>\n      <td>1.0984</td>\n      <td>1.0984</td>\n      <td>1.0984</td>\n      <td>0.7199</td>\n      <td>...</td>\n      <td>1.0901</td>\n      <td>1.0901</td>\n      <td>1.0901</td>\n      <td>1.0901</td>\n      <td>1.0901</td>\n    </tr>\n    <tr>\n      <th>2020-04-16</th>\n      <td>1.0902</td>\n      <td>1.0902</td>\n      <td>1.0902</td>\n      <td>1.0902</td>\n      <td>0.7081</td>\n      <td>...</td>\n      <td>1.0860</td>\n      <td>1.0860</td>\n      <td>1.0860</td>\n      <td>1.0860</td>\n      <td>1.0860</td>\n    </tr>\n    <tr>\n      <th>2020-04-17</th>\n      <td>1.0860</td>\n      <td>1.0860</td>\n      <td>1.0860</td>\n      <td>1.0860</td>\n      <td>0.7118</td>\n      <td>...</td>\n      <td>1.0874</td>\n      <td>1.0874</td>\n      <td>1.0874</td>\n      <td>1.0874</td>\n      <td>1.0874</td>\n    </tr>\n    <tr>\n      <th>...</th>\n      <td>...</td>\n      <td>...</td>\n      <td>...</td>\n      <td>...</td>\n      <td>...</td>\n      <td>...</td>\n      <td>...</td>\n      <td>...</td>\n      <td>...</td>\n      <td>...</td>\n      <td>...</td>\n    </tr>\n    <tr>\n      <th>2020-08-24</th>\n      <td>1.1801</td>\n      <td>1.1801</td>\n      <td>1.1801</td>\n      <td>1.1801</td>\n      <td>0.7589</td>\n      <td>...</td>\n      <td>1.1794</td>\n      <td>1.1794</td>\n      <td>1.1794</td>\n      <td>1.1794</td>\n      <td>1.1794</td>\n    </tr>\n    <tr>\n      <th>2020-08-25</th>\n      <td>1.1794</td>\n      <td>1.1794</td>\n      <td>1.1794</td>\n      <td>1.1794</td>\n      <td>0.7563</td>\n      <td>...</td>\n      <td>1.1833</td>\n      <td>1.1833</td>\n      <td>1.1833</td>\n      <td>1.1833</td>\n      <td>1.1833</td>\n    </tr>\n    <tr>\n      <th>2020-08-26</th>\n      <td>1.1833</td>\n      <td>1.1833</td>\n      <td>1.1833</td>\n      <td>1.1833</td>\n      <td>0.7591</td>\n      <td>...</td>\n      <td>1.1835</td>\n      <td>1.1835</td>\n      <td>1.1835</td>\n      <td>1.1835</td>\n      <td>1.1835</td>\n    </tr>\n    <tr>\n      <th>2020-08-27</th>\n      <td>1.1836</td>\n      <td>1.1836</td>\n      <td>1.1836</td>\n      <td>1.1836</td>\n      <td>0.7608</td>\n      <td>...</td>\n      <td>1.1817</td>\n      <td>1.1817</td>\n      <td>1.1817</td>\n      <td>1.1817</td>\n      <td>1.1817</td>\n    </tr>\n    <tr>\n      <th>2020-08-28</th>\n      <td>1.1820</td>\n      <td>1.1820</td>\n      <td>1.1820</td>\n      <td>1.1820</td>\n      <td>0.7618</td>\n      <td>...</td>\n      <td>1.1914</td>\n      <td>1.1914</td>\n      <td>1.1914</td>\n      <td>1.1914</td>\n      <td>1.1914</td>\n    </tr>\n  </tbody>\n</table>\n<p>100 rows × 70 columns</p>\n</div>"
     },
     "metadata": {},
     "execution_count": 289
    }
   ],
   "source": [
    "dst[['open', 'close']].to_dataframe().unstack('iso_code2')  # MI dataframe from xr.Dataset fields"
   ]
  },
  {
   "cell_type": "code",
   "execution_count": 298,
   "metadata": {},
   "outputs": [],
   "source": [
    "# selecting column level second field - want to create column multiindex\n",
    "df_tmp = dst[['open', 'close', 'currency']].to_dataframe()\n",
    "df_tmp.columns.name = 'field'  # add name to the unique column level formed from dataset variables\n",
    "df2 = df_tmp.reset_index().set_index(df_tmp.index.names + ['currency']).unstack(['iso_code2', 'currency'])"
   ]
  },
  {
   "cell_type": "code",
   "execution_count": 299,
   "metadata": {},
   "outputs": [
    {
     "output_type": "execute_result",
     "data": {
      "text/plain": "field         open                                  ...   close                                \niso_code2       CA      AX      AD      AT      BE  ...      SK      SI      ES      JP      SE\ncurrency       CAD     EUR     EUR     EUR     EUR  ...     EUR     EUR     EUR     JPY     SEK\ndate                                                ...                                        \n2020-04-13  0.7147  1.0937  1.0937  1.0937  1.0937  ...  1.0915  1.0915  1.0915  0.0093  0.0995\n2020-04-14  0.7198  1.0915  1.0915  1.0915  1.0915  ...  1.0983  1.0983  1.0983  0.0093  0.1002\n2020-04-15  0.7199  1.0984  1.0984  1.0984  1.0984  ...  1.0901  1.0901  1.0901  0.0093  0.0992\n2020-04-16  0.7081  1.0902  1.0902  1.0902  1.0902  ...  1.0860  1.0860  1.0860  0.0093  0.0994\n2020-04-17  0.7118  1.0860  1.0860  1.0860  1.0860  ...  1.0874  1.0874  1.0874  0.0093  0.0997\n...            ...     ...     ...     ...     ...  ...     ...     ...     ...     ...     ...\n2020-08-24  0.7589  1.1801  1.1801  1.1801  1.1801  ...  1.1794  1.1794  1.1794  0.0094  0.1133\n2020-08-25  0.7563  1.1794  1.1794  1.1794  1.1794  ...  1.1833  1.1833  1.1833  0.0094  0.1138\n2020-08-26  0.7591  1.1833  1.1833  1.1833  1.1833  ...  1.1835  1.1835  1.1835  0.0094  0.1142\n2020-08-27  0.7608  1.1836  1.1836  1.1836  1.1836  ...  1.1817  1.1817  1.1817  0.0094  0.1141\n2020-08-28  0.7618  1.1820  1.1820  1.1820  1.1820  ...  1.1914  1.1914  1.1914  0.0095  0.1156\n\n[100 rows x 70 columns]",
      "text/html": "<div>\n<style scoped>\n    .dataframe tbody tr th:only-of-type {\n        vertical-align: middle;\n    }\n\n    .dataframe tbody tr th {\n        vertical-align: top;\n    }\n\n    .dataframe thead tr th {\n        text-align: left;\n    }\n\n    .dataframe thead tr:last-of-type th {\n        text-align: right;\n    }\n</style>\n<table border=\"1\" class=\"dataframe\">\n  <thead>\n    <tr>\n      <th>field</th>\n      <th colspan=\"5\" halign=\"left\">open</th>\n      <th>...</th>\n      <th colspan=\"5\" halign=\"left\">close</th>\n    </tr>\n    <tr>\n      <th>iso_code2</th>\n      <th>CA</th>\n      <th>AX</th>\n      <th>AD</th>\n      <th>AT</th>\n      <th>BE</th>\n      <th>...</th>\n      <th>SK</th>\n      <th>SI</th>\n      <th>ES</th>\n      <th>JP</th>\n      <th>SE</th>\n    </tr>\n    <tr>\n      <th>currency</th>\n      <th>CAD</th>\n      <th>EUR</th>\n      <th>EUR</th>\n      <th>EUR</th>\n      <th>EUR</th>\n      <th>...</th>\n      <th>EUR</th>\n      <th>EUR</th>\n      <th>EUR</th>\n      <th>JPY</th>\n      <th>SEK</th>\n    </tr>\n    <tr>\n      <th>date</th>\n      <th></th>\n      <th></th>\n      <th></th>\n      <th></th>\n      <th></th>\n      <th></th>\n      <th></th>\n      <th></th>\n      <th></th>\n      <th></th>\n      <th></th>\n    </tr>\n  </thead>\n  <tbody>\n    <tr>\n      <th>2020-04-13</th>\n      <td>0.7147</td>\n      <td>1.0937</td>\n      <td>1.0937</td>\n      <td>1.0937</td>\n      <td>1.0937</td>\n      <td>...</td>\n      <td>1.0915</td>\n      <td>1.0915</td>\n      <td>1.0915</td>\n      <td>0.0093</td>\n      <td>0.0995</td>\n    </tr>\n    <tr>\n      <th>2020-04-14</th>\n      <td>0.7198</td>\n      <td>1.0915</td>\n      <td>1.0915</td>\n      <td>1.0915</td>\n      <td>1.0915</td>\n      <td>...</td>\n      <td>1.0983</td>\n      <td>1.0983</td>\n      <td>1.0983</td>\n      <td>0.0093</td>\n      <td>0.1002</td>\n    </tr>\n    <tr>\n      <th>2020-04-15</th>\n      <td>0.7199</td>\n      <td>1.0984</td>\n      <td>1.0984</td>\n      <td>1.0984</td>\n      <td>1.0984</td>\n      <td>...</td>\n      <td>1.0901</td>\n      <td>1.0901</td>\n      <td>1.0901</td>\n      <td>0.0093</td>\n      <td>0.0992</td>\n    </tr>\n    <tr>\n      <th>2020-04-16</th>\n      <td>0.7081</td>\n      <td>1.0902</td>\n      <td>1.0902</td>\n      <td>1.0902</td>\n      <td>1.0902</td>\n      <td>...</td>\n      <td>1.0860</td>\n      <td>1.0860</td>\n      <td>1.0860</td>\n      <td>0.0093</td>\n      <td>0.0994</td>\n    </tr>\n    <tr>\n      <th>2020-04-17</th>\n      <td>0.7118</td>\n      <td>1.0860</td>\n      <td>1.0860</td>\n      <td>1.0860</td>\n      <td>1.0860</td>\n      <td>...</td>\n      <td>1.0874</td>\n      <td>1.0874</td>\n      <td>1.0874</td>\n      <td>0.0093</td>\n      <td>0.0997</td>\n    </tr>\n    <tr>\n      <th>...</th>\n      <td>...</td>\n      <td>...</td>\n      <td>...</td>\n      <td>...</td>\n      <td>...</td>\n      <td>...</td>\n      <td>...</td>\n      <td>...</td>\n      <td>...</td>\n      <td>...</td>\n      <td>...</td>\n    </tr>\n    <tr>\n      <th>2020-08-24</th>\n      <td>0.7589</td>\n      <td>1.1801</td>\n      <td>1.1801</td>\n      <td>1.1801</td>\n      <td>1.1801</td>\n      <td>...</td>\n      <td>1.1794</td>\n      <td>1.1794</td>\n      <td>1.1794</td>\n      <td>0.0094</td>\n      <td>0.1133</td>\n    </tr>\n    <tr>\n      <th>2020-08-25</th>\n      <td>0.7563</td>\n      <td>1.1794</td>\n      <td>1.1794</td>\n      <td>1.1794</td>\n      <td>1.1794</td>\n      <td>...</td>\n      <td>1.1833</td>\n      <td>1.1833</td>\n      <td>1.1833</td>\n      <td>0.0094</td>\n      <td>0.1138</td>\n    </tr>\n    <tr>\n      <th>2020-08-26</th>\n      <td>0.7591</td>\n      <td>1.1833</td>\n      <td>1.1833</td>\n      <td>1.1833</td>\n      <td>1.1833</td>\n      <td>...</td>\n      <td>1.1835</td>\n      <td>1.1835</td>\n      <td>1.1835</td>\n      <td>0.0094</td>\n      <td>0.1142</td>\n    </tr>\n    <tr>\n      <th>2020-08-27</th>\n      <td>0.7608</td>\n      <td>1.1836</td>\n      <td>1.1836</td>\n      <td>1.1836</td>\n      <td>1.1836</td>\n      <td>...</td>\n      <td>1.1817</td>\n      <td>1.1817</td>\n      <td>1.1817</td>\n      <td>0.0094</td>\n      <td>0.1141</td>\n    </tr>\n    <tr>\n      <th>2020-08-28</th>\n      <td>0.7618</td>\n      <td>1.1820</td>\n      <td>1.1820</td>\n      <td>1.1820</td>\n      <td>1.1820</td>\n      <td>...</td>\n      <td>1.1914</td>\n      <td>1.1914</td>\n      <td>1.1914</td>\n      <td>0.0095</td>\n      <td>0.1156</td>\n    </tr>\n  </tbody>\n</table>\n<p>100 rows × 70 columns</p>\n</div>"
     },
     "metadata": {},
     "execution_count": 299
    }
   ],
   "source": [
    "df2"
   ]
  },
  {
   "cell_type": "code",
   "execution_count": 312,
   "metadata": {},
   "outputs": [],
   "source": [
    "df_tmp = pd.merge(currency_statics['name'], df2.T, left_index=True, right_on=df2.T.reset_index()['currency']).drop('key_0', axis=1)"
   ]
  },
  {
   "cell_type": "code",
   "execution_count": 314,
   "metadata": {},
   "outputs": [
    {
     "output_type": "execute_result",
     "data": {
      "text/plain": "field         open                                  ...           close    open   close  \\\niso_code2       AX      AD      AT      BE      CY  ...              CA      JP      JP   \ncurrency       EUR     EUR     EUR     EUR     EUR  ...             CAD     JPY     JPY   \nname          Euro    Euro    Euro    Euro    Euro  ... Canadian Dollar     Yen     Yen   \n2020-04-13  1.0937  1.0937  1.0937  1.0937  1.0937  ...          0.7198  0.0092  0.0093   \n2020-04-14  1.0915  1.0915  1.0915  1.0915  1.0915  ...          0.7202  0.0093  0.0093   \n2020-04-15  1.0984  1.0984  1.0984  1.0984  1.0984  ...          0.7081  0.0093  0.0093   \n2020-04-16  1.0902  1.0902  1.0902  1.0902  1.0902  ...          0.7120  0.0093  0.0093   \n2020-04-17  1.0860  1.0860  1.0860  1.0860  1.0860  ...          0.7138  0.0093  0.0093   \n...            ...     ...     ...     ...     ...  ...             ...     ...     ...   \n2020-08-24  1.1801  1.1801  1.1801  1.1801  1.1801  ...          0.7563  0.0094  0.0094   \n2020-08-25  1.1794  1.1794  1.1794  1.1794  1.1794  ...          0.7587  0.0094  0.0094   \n2020-08-26  1.1833  1.1833  1.1833  1.1833  1.1833  ...          0.7603  0.0094  0.0094   \n2020-08-27  1.1836  1.1836  1.1836  1.1836  1.1836  ...          0.7616  0.0094  0.0094   \n2020-08-28  1.1820  1.1820  1.1820  1.1820  1.1820  ...          0.7657  0.0094  0.0095   \n\nfield               open         close  \niso_code2             SE            SE  \ncurrency             SEK           SEK  \nname       Swedish Krona Swedish Krona  \n2020-04-13        0.1001        0.0995  \n2020-04-14        0.0995        0.1002  \n2020-04-15        0.1002        0.0992  \n2020-04-16        0.0992        0.0994  \n2020-04-17        0.0994        0.0997  \n...                  ...           ...  \n2020-08-24        0.1133        0.1133  \n2020-08-25        0.1133        0.1138  \n2020-08-26        0.1137        0.1142  \n2020-08-27        0.1142        0.1141  \n2020-08-28        0.1141        0.1156  \n\n[100 rows x 2118 columns]",
      "text/html": "<div>\n<style scoped>\n    .dataframe tbody tr th:only-of-type {\n        vertical-align: middle;\n    }\n\n    .dataframe tbody tr th {\n        vertical-align: top;\n    }\n\n    .dataframe thead tr th {\n        text-align: left;\n    }\n</style>\n<table border=\"1\" class=\"dataframe\">\n  <thead>\n    <tr>\n      <th>field</th>\n      <th colspan=\"5\" halign=\"left\">open</th>\n      <th>...</th>\n      <th>close</th>\n      <th>open</th>\n      <th>close</th>\n      <th>open</th>\n      <th>close</th>\n    </tr>\n    <tr>\n      <th>iso_code2</th>\n      <th>AX</th>\n      <th>AD</th>\n      <th>AT</th>\n      <th>BE</th>\n      <th>CY</th>\n      <th>...</th>\n      <th>CA</th>\n      <th>JP</th>\n      <th>JP</th>\n      <th>SE</th>\n      <th>SE</th>\n    </tr>\n    <tr>\n      <th>currency</th>\n      <th>EUR</th>\n      <th>EUR</th>\n      <th>EUR</th>\n      <th>EUR</th>\n      <th>EUR</th>\n      <th>...</th>\n      <th>CAD</th>\n      <th>JPY</th>\n      <th>JPY</th>\n      <th>SEK</th>\n      <th>SEK</th>\n    </tr>\n    <tr>\n      <th>name</th>\n      <th>Euro</th>\n      <th>Euro</th>\n      <th>Euro</th>\n      <th>Euro</th>\n      <th>Euro</th>\n      <th>...</th>\n      <th>Canadian Dollar</th>\n      <th>Yen</th>\n      <th>Yen</th>\n      <th>Swedish Krona</th>\n      <th>Swedish Krona</th>\n    </tr>\n  </thead>\n  <tbody>\n    <tr>\n      <th>2020-04-13</th>\n      <td>1.0937</td>\n      <td>1.0937</td>\n      <td>1.0937</td>\n      <td>1.0937</td>\n      <td>1.0937</td>\n      <td>...</td>\n      <td>0.7198</td>\n      <td>0.0092</td>\n      <td>0.0093</td>\n      <td>0.1001</td>\n      <td>0.0995</td>\n    </tr>\n    <tr>\n      <th>2020-04-14</th>\n      <td>1.0915</td>\n      <td>1.0915</td>\n      <td>1.0915</td>\n      <td>1.0915</td>\n      <td>1.0915</td>\n      <td>...</td>\n      <td>0.7202</td>\n      <td>0.0093</td>\n      <td>0.0093</td>\n      <td>0.0995</td>\n      <td>0.1002</td>\n    </tr>\n    <tr>\n      <th>2020-04-15</th>\n      <td>1.0984</td>\n      <td>1.0984</td>\n      <td>1.0984</td>\n      <td>1.0984</td>\n      <td>1.0984</td>\n      <td>...</td>\n      <td>0.7081</td>\n      <td>0.0093</td>\n      <td>0.0093</td>\n      <td>0.1002</td>\n      <td>0.0992</td>\n    </tr>\n    <tr>\n      <th>2020-04-16</th>\n      <td>1.0902</td>\n      <td>1.0902</td>\n      <td>1.0902</td>\n      <td>1.0902</td>\n      <td>1.0902</td>\n      <td>...</td>\n      <td>0.7120</td>\n      <td>0.0093</td>\n      <td>0.0093</td>\n      <td>0.0992</td>\n      <td>0.0994</td>\n    </tr>\n    <tr>\n      <th>2020-04-17</th>\n      <td>1.0860</td>\n      <td>1.0860</td>\n      <td>1.0860</td>\n      <td>1.0860</td>\n      <td>1.0860</td>\n      <td>...</td>\n      <td>0.7138</td>\n      <td>0.0093</td>\n      <td>0.0093</td>\n      <td>0.0994</td>\n      <td>0.0997</td>\n    </tr>\n    <tr>\n      <th>...</th>\n      <td>...</td>\n      <td>...</td>\n      <td>...</td>\n      <td>...</td>\n      <td>...</td>\n      <td>...</td>\n      <td>...</td>\n      <td>...</td>\n      <td>...</td>\n      <td>...</td>\n      <td>...</td>\n    </tr>\n    <tr>\n      <th>2020-08-24</th>\n      <td>1.1801</td>\n      <td>1.1801</td>\n      <td>1.1801</td>\n      <td>1.1801</td>\n      <td>1.1801</td>\n      <td>...</td>\n      <td>0.7563</td>\n      <td>0.0094</td>\n      <td>0.0094</td>\n      <td>0.1133</td>\n      <td>0.1133</td>\n    </tr>\n    <tr>\n      <th>2020-08-25</th>\n      <td>1.1794</td>\n      <td>1.1794</td>\n      <td>1.1794</td>\n      <td>1.1794</td>\n      <td>1.1794</td>\n      <td>...</td>\n      <td>0.7587</td>\n      <td>0.0094</td>\n      <td>0.0094</td>\n      <td>0.1133</td>\n      <td>0.1138</td>\n    </tr>\n    <tr>\n      <th>2020-08-26</th>\n      <td>1.1833</td>\n      <td>1.1833</td>\n      <td>1.1833</td>\n      <td>1.1833</td>\n      <td>1.1833</td>\n      <td>...</td>\n      <td>0.7603</td>\n      <td>0.0094</td>\n      <td>0.0094</td>\n      <td>0.1137</td>\n      <td>0.1142</td>\n    </tr>\n    <tr>\n      <th>2020-08-27</th>\n      <td>1.1836</td>\n      <td>1.1836</td>\n      <td>1.1836</td>\n      <td>1.1836</td>\n      <td>1.1836</td>\n      <td>...</td>\n      <td>0.7616</td>\n      <td>0.0094</td>\n      <td>0.0094</td>\n      <td>0.1142</td>\n      <td>0.1141</td>\n    </tr>\n    <tr>\n      <th>2020-08-28</th>\n      <td>1.1820</td>\n      <td>1.1820</td>\n      <td>1.1820</td>\n      <td>1.1820</td>\n      <td>1.1820</td>\n      <td>...</td>\n      <td>0.7657</td>\n      <td>0.0094</td>\n      <td>0.0095</td>\n      <td>0.1141</td>\n      <td>0.1156</td>\n    </tr>\n  </tbody>\n</table>\n<p>100 rows × 2118 columns</p>\n</div>"
     },
     "metadata": {},
     "execution_count": 314
    }
   ],
   "source": [
    "df_tmp = df_tmp.reset_index().set_index(df_tmp.index.names + ['name']).T\n",
    "df_tmp"
   ]
  },
  {
   "cell_type": "code",
   "execution_count": 315,
   "metadata": {},
   "outputs": [
    {
     "output_type": "execute_result",
     "data": {
      "text/plain": "field         open                                  ...   close                                \niso_code2       AX      AD      AT      BE      CY  ...      PM      SM      SK      SI      ES\ncurrency       EUR     EUR     EUR     EUR     EUR  ...     EUR     EUR     EUR     EUR     EUR\n2020-04-13  1.0937  1.0937  1.0937  1.0937  1.0937  ...  1.0915  1.0915  1.0915  1.0915  1.0915\n2020-04-14  1.0915  1.0915  1.0915  1.0915  1.0915  ...  1.0983  1.0983  1.0983  1.0983  1.0983\n2020-04-15  1.0984  1.0984  1.0984  1.0984  1.0984  ...  1.0901  1.0901  1.0901  1.0901  1.0901\n2020-04-16  1.0902  1.0902  1.0902  1.0902  1.0902  ...  1.0860  1.0860  1.0860  1.0860  1.0860\n2020-04-17  1.0860  1.0860  1.0860  1.0860  1.0860  ...  1.0874  1.0874  1.0874  1.0874  1.0874\n...            ...     ...     ...     ...     ...  ...     ...     ...     ...     ...     ...\n2020-08-24  1.1801  1.1801  1.1801  1.1801  1.1801  ...  1.1794  1.1794  1.1794  1.1794  1.1794\n2020-08-25  1.1794  1.1794  1.1794  1.1794  1.1794  ...  1.1833  1.1833  1.1833  1.1833  1.1833\n2020-08-26  1.1833  1.1833  1.1833  1.1833  1.1833  ...  1.1835  1.1835  1.1835  1.1835  1.1835\n2020-08-27  1.1836  1.1836  1.1836  1.1836  1.1836  ...  1.1817  1.1817  1.1817  1.1817  1.1817\n2020-08-28  1.1820  1.1820  1.1820  1.1820  1.1820  ...  1.1914  1.1914  1.1914  1.1914  1.1914\n\n[100 rows x 2112 columns]",
      "text/html": "<div>\n<style scoped>\n    .dataframe tbody tr th:only-of-type {\n        vertical-align: middle;\n    }\n\n    .dataframe tbody tr th {\n        vertical-align: top;\n    }\n\n    .dataframe thead tr th {\n        text-align: left;\n    }\n</style>\n<table border=\"1\" class=\"dataframe\">\n  <thead>\n    <tr>\n      <th>field</th>\n      <th colspan=\"5\" halign=\"left\">open</th>\n      <th>...</th>\n      <th colspan=\"5\" halign=\"left\">close</th>\n    </tr>\n    <tr>\n      <th>iso_code2</th>\n      <th>AX</th>\n      <th>AD</th>\n      <th>AT</th>\n      <th>BE</th>\n      <th>CY</th>\n      <th>...</th>\n      <th>PM</th>\n      <th>SM</th>\n      <th>SK</th>\n      <th>SI</th>\n      <th>ES</th>\n    </tr>\n    <tr>\n      <th>currency</th>\n      <th>EUR</th>\n      <th>EUR</th>\n      <th>EUR</th>\n      <th>EUR</th>\n      <th>EUR</th>\n      <th>...</th>\n      <th>EUR</th>\n      <th>EUR</th>\n      <th>EUR</th>\n      <th>EUR</th>\n      <th>EUR</th>\n    </tr>\n  </thead>\n  <tbody>\n    <tr>\n      <th>2020-04-13</th>\n      <td>1.0937</td>\n      <td>1.0937</td>\n      <td>1.0937</td>\n      <td>1.0937</td>\n      <td>1.0937</td>\n      <td>...</td>\n      <td>1.0915</td>\n      <td>1.0915</td>\n      <td>1.0915</td>\n      <td>1.0915</td>\n      <td>1.0915</td>\n    </tr>\n    <tr>\n      <th>2020-04-14</th>\n      <td>1.0915</td>\n      <td>1.0915</td>\n      <td>1.0915</td>\n      <td>1.0915</td>\n      <td>1.0915</td>\n      <td>...</td>\n      <td>1.0983</td>\n      <td>1.0983</td>\n      <td>1.0983</td>\n      <td>1.0983</td>\n      <td>1.0983</td>\n    </tr>\n    <tr>\n      <th>2020-04-15</th>\n      <td>1.0984</td>\n      <td>1.0984</td>\n      <td>1.0984</td>\n      <td>1.0984</td>\n      <td>1.0984</td>\n      <td>...</td>\n      <td>1.0901</td>\n      <td>1.0901</td>\n      <td>1.0901</td>\n      <td>1.0901</td>\n      <td>1.0901</td>\n    </tr>\n    <tr>\n      <th>2020-04-16</th>\n      <td>1.0902</td>\n      <td>1.0902</td>\n      <td>1.0902</td>\n      <td>1.0902</td>\n      <td>1.0902</td>\n      <td>...</td>\n      <td>1.0860</td>\n      <td>1.0860</td>\n      <td>1.0860</td>\n      <td>1.0860</td>\n      <td>1.0860</td>\n    </tr>\n    <tr>\n      <th>2020-04-17</th>\n      <td>1.0860</td>\n      <td>1.0860</td>\n      <td>1.0860</td>\n      <td>1.0860</td>\n      <td>1.0860</td>\n      <td>...</td>\n      <td>1.0874</td>\n      <td>1.0874</td>\n      <td>1.0874</td>\n      <td>1.0874</td>\n      <td>1.0874</td>\n    </tr>\n    <tr>\n      <th>...</th>\n      <td>...</td>\n      <td>...</td>\n      <td>...</td>\n      <td>...</td>\n      <td>...</td>\n      <td>...</td>\n      <td>...</td>\n      <td>...</td>\n      <td>...</td>\n      <td>...</td>\n      <td>...</td>\n    </tr>\n    <tr>\n      <th>2020-08-24</th>\n      <td>1.1801</td>\n      <td>1.1801</td>\n      <td>1.1801</td>\n      <td>1.1801</td>\n      <td>1.1801</td>\n      <td>...</td>\n      <td>1.1794</td>\n      <td>1.1794</td>\n      <td>1.1794</td>\n      <td>1.1794</td>\n      <td>1.1794</td>\n    </tr>\n    <tr>\n      <th>2020-08-25</th>\n      <td>1.1794</td>\n      <td>1.1794</td>\n      <td>1.1794</td>\n      <td>1.1794</td>\n      <td>1.1794</td>\n      <td>...</td>\n      <td>1.1833</td>\n      <td>1.1833</td>\n      <td>1.1833</td>\n      <td>1.1833</td>\n      <td>1.1833</td>\n    </tr>\n    <tr>\n      <th>2020-08-26</th>\n      <td>1.1833</td>\n      <td>1.1833</td>\n      <td>1.1833</td>\n      <td>1.1833</td>\n      <td>1.1833</td>\n      <td>...</td>\n      <td>1.1835</td>\n      <td>1.1835</td>\n      <td>1.1835</td>\n      <td>1.1835</td>\n      <td>1.1835</td>\n    </tr>\n    <tr>\n      <th>2020-08-27</th>\n      <td>1.1836</td>\n      <td>1.1836</td>\n      <td>1.1836</td>\n      <td>1.1836</td>\n      <td>1.1836</td>\n      <td>...</td>\n      <td>1.1817</td>\n      <td>1.1817</td>\n      <td>1.1817</td>\n      <td>1.1817</td>\n      <td>1.1817</td>\n    </tr>\n    <tr>\n      <th>2020-08-28</th>\n      <td>1.1820</td>\n      <td>1.1820</td>\n      <td>1.1820</td>\n      <td>1.1820</td>\n      <td>1.1820</td>\n      <td>...</td>\n      <td>1.1914</td>\n      <td>1.1914</td>\n      <td>1.1914</td>\n      <td>1.1914</td>\n      <td>1.1914</td>\n    </tr>\n  </tbody>\n</table>\n<p>100 rows × 2112 columns</p>\n</div>"
     },
     "metadata": {},
     "execution_count": 315
    }
   ],
   "source": [
    "df_tmp.xs('Euro', level='name', axis=1)"
   ]
  },
  {
   "cell_type": "code",
   "execution_count": 320,
   "metadata": {},
   "outputs": [],
   "source": [
    "df_tmp.loc[:, (slice(None), ['AX', 'ES'])] = -1"
   ]
  },
  {
   "cell_type": "code",
   "execution_count": 321,
   "metadata": {},
   "outputs": [
    {
     "output_type": "execute_result",
     "data": {
      "text/plain": "field      open                                  ...           close    open   close  \\\niso_code2    AX      AD      AT      BE      CY  ...              CA      JP      JP   \ncurrency    EUR     EUR     EUR     EUR     EUR  ...             CAD     JPY     JPY   \nname       Euro    Euro    Euro    Euro    Euro  ... Canadian Dollar     Yen     Yen   \n2020-04-13   -1  1.0937  1.0937  1.0937  1.0937  ...          0.7198  0.0092  0.0093   \n2020-04-14   -1  1.0915  1.0915  1.0915  1.0915  ...          0.7202  0.0093  0.0093   \n2020-04-15   -1  1.0984  1.0984  1.0984  1.0984  ...          0.7081  0.0093  0.0093   \n2020-04-16   -1  1.0902  1.0902  1.0902  1.0902  ...          0.7120  0.0093  0.0093   \n2020-04-17   -1  1.0860  1.0860  1.0860  1.0860  ...          0.7138  0.0093  0.0093   \n...         ...     ...     ...     ...     ...  ...             ...     ...     ...   \n2020-08-24   -1  1.1801  1.1801  1.1801  1.1801  ...          0.7563  0.0094  0.0094   \n2020-08-25   -1  1.1794  1.1794  1.1794  1.1794  ...          0.7587  0.0094  0.0094   \n2020-08-26   -1  1.1833  1.1833  1.1833  1.1833  ...          0.7603  0.0094  0.0094   \n2020-08-27   -1  1.1836  1.1836  1.1836  1.1836  ...          0.7616  0.0094  0.0094   \n2020-08-28   -1  1.1820  1.1820  1.1820  1.1820  ...          0.7657  0.0094  0.0095   \n\nfield               open         close  \niso_code2             SE            SE  \ncurrency             SEK           SEK  \nname       Swedish Krona Swedish Krona  \n2020-04-13        0.1001        0.0995  \n2020-04-14        0.0995        0.1002  \n2020-04-15        0.1002        0.0992  \n2020-04-16        0.0992        0.0994  \n2020-04-17        0.0994        0.0997  \n...                  ...           ...  \n2020-08-24        0.1133        0.1133  \n2020-08-25        0.1133        0.1138  \n2020-08-26        0.1137        0.1142  \n2020-08-27        0.1142        0.1141  \n2020-08-28        0.1141        0.1156  \n\n[100 rows x 2118 columns]",
      "text/html": "<div>\n<style scoped>\n    .dataframe tbody tr th:only-of-type {\n        vertical-align: middle;\n    }\n\n    .dataframe tbody tr th {\n        vertical-align: top;\n    }\n\n    .dataframe thead tr th {\n        text-align: left;\n    }\n</style>\n<table border=\"1\" class=\"dataframe\">\n  <thead>\n    <tr>\n      <th>field</th>\n      <th colspan=\"5\" halign=\"left\">open</th>\n      <th>...</th>\n      <th>close</th>\n      <th>open</th>\n      <th>close</th>\n      <th>open</th>\n      <th>close</th>\n    </tr>\n    <tr>\n      <th>iso_code2</th>\n      <th>AX</th>\n      <th>AD</th>\n      <th>AT</th>\n      <th>BE</th>\n      <th>CY</th>\n      <th>...</th>\n      <th>CA</th>\n      <th>JP</th>\n      <th>JP</th>\n      <th>SE</th>\n      <th>SE</th>\n    </tr>\n    <tr>\n      <th>currency</th>\n      <th>EUR</th>\n      <th>EUR</th>\n      <th>EUR</th>\n      <th>EUR</th>\n      <th>EUR</th>\n      <th>...</th>\n      <th>CAD</th>\n      <th>JPY</th>\n      <th>JPY</th>\n      <th>SEK</th>\n      <th>SEK</th>\n    </tr>\n    <tr>\n      <th>name</th>\n      <th>Euro</th>\n      <th>Euro</th>\n      <th>Euro</th>\n      <th>Euro</th>\n      <th>Euro</th>\n      <th>...</th>\n      <th>Canadian Dollar</th>\n      <th>Yen</th>\n      <th>Yen</th>\n      <th>Swedish Krona</th>\n      <th>Swedish Krona</th>\n    </tr>\n  </thead>\n  <tbody>\n    <tr>\n      <th>2020-04-13</th>\n      <td>-1</td>\n      <td>1.0937</td>\n      <td>1.0937</td>\n      <td>1.0937</td>\n      <td>1.0937</td>\n      <td>...</td>\n      <td>0.7198</td>\n      <td>0.0092</td>\n      <td>0.0093</td>\n      <td>0.1001</td>\n      <td>0.0995</td>\n    </tr>\n    <tr>\n      <th>2020-04-14</th>\n      <td>-1</td>\n      <td>1.0915</td>\n      <td>1.0915</td>\n      <td>1.0915</td>\n      <td>1.0915</td>\n      <td>...</td>\n      <td>0.7202</td>\n      <td>0.0093</td>\n      <td>0.0093</td>\n      <td>0.0995</td>\n      <td>0.1002</td>\n    </tr>\n    <tr>\n      <th>2020-04-15</th>\n      <td>-1</td>\n      <td>1.0984</td>\n      <td>1.0984</td>\n      <td>1.0984</td>\n      <td>1.0984</td>\n      <td>...</td>\n      <td>0.7081</td>\n      <td>0.0093</td>\n      <td>0.0093</td>\n      <td>0.1002</td>\n      <td>0.0992</td>\n    </tr>\n    <tr>\n      <th>2020-04-16</th>\n      <td>-1</td>\n      <td>1.0902</td>\n      <td>1.0902</td>\n      <td>1.0902</td>\n      <td>1.0902</td>\n      <td>...</td>\n      <td>0.7120</td>\n      <td>0.0093</td>\n      <td>0.0093</td>\n      <td>0.0992</td>\n      <td>0.0994</td>\n    </tr>\n    <tr>\n      <th>2020-04-17</th>\n      <td>-1</td>\n      <td>1.0860</td>\n      <td>1.0860</td>\n      <td>1.0860</td>\n      <td>1.0860</td>\n      <td>...</td>\n      <td>0.7138</td>\n      <td>0.0093</td>\n      <td>0.0093</td>\n      <td>0.0994</td>\n      <td>0.0997</td>\n    </tr>\n    <tr>\n      <th>...</th>\n      <td>...</td>\n      <td>...</td>\n      <td>...</td>\n      <td>...</td>\n      <td>...</td>\n      <td>...</td>\n      <td>...</td>\n      <td>...</td>\n      <td>...</td>\n      <td>...</td>\n      <td>...</td>\n    </tr>\n    <tr>\n      <th>2020-08-24</th>\n      <td>-1</td>\n      <td>1.1801</td>\n      <td>1.1801</td>\n      <td>1.1801</td>\n      <td>1.1801</td>\n      <td>...</td>\n      <td>0.7563</td>\n      <td>0.0094</td>\n      <td>0.0094</td>\n      <td>0.1133</td>\n      <td>0.1133</td>\n    </tr>\n    <tr>\n      <th>2020-08-25</th>\n      <td>-1</td>\n      <td>1.1794</td>\n      <td>1.1794</td>\n      <td>1.1794</td>\n      <td>1.1794</td>\n      <td>...</td>\n      <td>0.7587</td>\n      <td>0.0094</td>\n      <td>0.0094</td>\n      <td>0.1133</td>\n      <td>0.1138</td>\n    </tr>\n    <tr>\n      <th>2020-08-26</th>\n      <td>-1</td>\n      <td>1.1833</td>\n      <td>1.1833</td>\n      <td>1.1833</td>\n      <td>1.1833</td>\n      <td>...</td>\n      <td>0.7603</td>\n      <td>0.0094</td>\n      <td>0.0094</td>\n      <td>0.1137</td>\n      <td>0.1142</td>\n    </tr>\n    <tr>\n      <th>2020-08-27</th>\n      <td>-1</td>\n      <td>1.1836</td>\n      <td>1.1836</td>\n      <td>1.1836</td>\n      <td>1.1836</td>\n      <td>...</td>\n      <td>0.7616</td>\n      <td>0.0094</td>\n      <td>0.0094</td>\n      <td>0.1142</td>\n      <td>0.1141</td>\n    </tr>\n    <tr>\n      <th>2020-08-28</th>\n      <td>-1</td>\n      <td>1.1820</td>\n      <td>1.1820</td>\n      <td>1.1820</td>\n      <td>1.1820</td>\n      <td>...</td>\n      <td>0.7657</td>\n      <td>0.0094</td>\n      <td>0.0095</td>\n      <td>0.1141</td>\n      <td>0.1156</td>\n    </tr>\n  </tbody>\n</table>\n<p>100 rows × 2118 columns</p>\n</div>"
     },
     "metadata": {},
     "execution_count": 321
    }
   ],
   "source": [
    "df_tmp"
   ]
  },
  {
   "cell_type": "code",
   "execution_count": null,
   "metadata": {},
   "outputs": [],
   "source": []
  }
 ]
}