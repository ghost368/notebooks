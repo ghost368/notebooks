{
 "cells": [
  {
   "cell_type": "code",
   "execution_count": 1,
   "metadata": {},
   "outputs": [],
   "source": [
    "import re\n",
    "from pytools.regex import PatternSequence"
   ]
  },
  {
   "cell_type": "code",
   "execution_count": 14,
   "metadata": {},
   "outputs": [],
   "source": [
    "from IPython.core.interactiveshell import InteractiveShell\n",
    "InteractiveShell.ast_node_interactivity = \"all\""
   ]
  },
  {
   "cell_type": "code",
   "execution_count": 9,
   "metadata": {},
   "outputs": [
    {
     "data": {
      "text/plain": [
       "'This is a string '"
      ]
     },
     "execution_count": 9,
     "metadata": {},
     "output_type": "execute_result"
    },
    {
     "data": {
      "text/plain": [
       "'This is a string'"
      ]
     },
     "execution_count": 9,
     "metadata": {},
     "output_type": "execute_result"
    },
    {
     "data": {
      "text/plain": [
       "'This is a number '"
      ]
     },
     "execution_count": 9,
     "metadata": {},
     "output_type": "execute_result"
    },
    {
     "data": {
      "text/plain": [
       "['This', 'is', 'a', 'string']"
      ]
     },
     "execution_count": 9,
     "metadata": {},
     "output_type": "execute_result"
    }
   ],
   "source": [
    "s = 'This is a string '\n",
    "s\n",
    "\n",
    "s.strip()\n",
    "s.replace('string', 'number')\n",
    "s.split()  # accepts delimiters"
   ]
  },
  {
   "cell_type": "code",
   "execution_count": 14,
   "metadata": {},
   "outputs": [
    {
     "data": {
      "text/plain": [
       "'This is a string'"
      ]
     },
     "execution_count": 14,
     "metadata": {},
     "output_type": "execute_result"
    },
    {
     "data": {
      "text/plain": [
       "'This is a 12'"
      ]
     },
     "execution_count": 14,
     "metadata": {},
     "output_type": "execute_result"
    },
    {
     "data": {
      "text/plain": [
       "'This is a string'"
      ]
     },
     "execution_count": 14,
     "metadata": {},
     "output_type": "execute_result"
    },
    {
     "data": {
      "text/plain": [
       "'This is a word'"
      ]
     },
     "execution_count": 14,
     "metadata": {},
     "output_type": "execute_result"
    },
    {
     "data": {
      "text/plain": [
       "'This is a word'"
      ]
     },
     "execution_count": 14,
     "metadata": {},
     "output_type": "execute_result"
    }
   ],
   "source": [
    "s = 'This is a {}'\n",
    "s.format('string')\n",
    "s.format(12)\n",
    "\n",
    "x = 'string'\n",
    "f'This is a {x}'\n",
    "\n",
    "s = 'This {} a {}'\n",
    "s.format('is', 'word')\n",
    "\n",
    "s = 'This {x} a {y}'\n",
    "s.format(y='word', x='is')"
   ]
  },
  {
   "cell_type": "code",
   "execution_count": 17,
   "metadata": {},
   "outputs": [
    {
     "data": {
      "text/plain": [
       "'This is a string'"
      ]
     },
     "execution_count": 17,
     "metadata": {},
     "output_type": "execute_result"
    },
    {
     "data": {
      "text/plain": [
       "2"
      ]
     },
     "execution_count": 17,
     "metadata": {},
     "output_type": "execute_result"
    }
   ],
   "source": [
    "s = 'this is a string'\n",
    "s.capitalize()\n",
    "\n",
    "'this is a string, this string is wide'.count('string')"
   ]
  },
  {
   "cell_type": "code",
   "execution_count": 19,
   "metadata": {},
   "outputs": [
    {
     "data": {
      "text/plain": [
       "b'this is a string'"
      ]
     },
     "execution_count": 19,
     "metadata": {},
     "output_type": "execute_result"
    },
    {
     "data": {
      "text/plain": [
       "'this is a string'"
      ]
     },
     "execution_count": 19,
     "metadata": {},
     "output_type": "execute_result"
    }
   ],
   "source": [
    "bs = s.encode('utf-8')\n",
    "bs\n",
    "\n",
    "bs.decode('utf-8')"
   ]
  },
  {
   "cell_type": "code",
   "execution_count": 22,
   "metadata": {},
   "outputs": [
    {
     "data": {
      "text/plain": [
       "10"
      ]
     },
     "execution_count": 22,
     "metadata": {},
     "output_type": "execute_result"
    }
   ],
   "source": [
    "'this is a string'.find('str')"
   ]
  },
  {
   "cell_type": "code",
   "execution_count": 30,
   "metadata": {},
   "outputs": [
    {
     "data": {
      "text/plain": [
       "True"
      ]
     },
     "execution_count": 30,
     "metadata": {},
     "output_type": "execute_result"
    },
    {
     "data": {
      "text/plain": [
       "False"
      ]
     },
     "execution_count": 30,
     "metadata": {},
     "output_type": "execute_result"
    },
    {
     "data": {
      "text/plain": [
       "True"
      ]
     },
     "execution_count": 30,
     "metadata": {},
     "output_type": "execute_result"
    },
    {
     "data": {
      "text/plain": [
       "True"
      ]
     },
     "execution_count": 30,
     "metadata": {},
     "output_type": "execute_result"
    },
    {
     "data": {
      "text/plain": [
       "False"
      ]
     },
     "execution_count": 30,
     "metadata": {},
     "output_type": "execute_result"
    },
    {
     "data": {
      "text/plain": [
       "False"
      ]
     },
     "execution_count": 30,
     "metadata": {},
     "output_type": "execute_result"
    }
   ],
   "source": [
    "'abc'.isalpha()  # alphabetic chars\n",
    "'5abs'.isalpha()\n",
    "'5abs'.isalnum()  # alphanumeric\n",
    "'2322'.isdigit()  # all digits\n"
   ]
  },
  {
   "cell_type": "code",
   "execution_count": 32,
   "metadata": {},
   "outputs": [
    {
     "data": {
      "text/plain": [
       "'this : is : a : string'"
      ]
     },
     "execution_count": 32,
     "metadata": {},
     "output_type": "execute_result"
    }
   ],
   "source": [
    "' : '.join(['this', 'is', 'a', 'string'])"
   ]
  },
  {
   "cell_type": "code",
   "execution_count": 33,
   "metadata": {},
   "outputs": [
    {
     "data": {
      "text/plain": [
       "['this is a string ', ' it is wide']"
      ]
     },
     "execution_count": 33,
     "metadata": {},
     "output_type": "execute_result"
    }
   ],
   "source": [
    "'this is a string \\n it is wide'.splitlines()"
   ]
  },
  {
   "cell_type": "markdown",
   "metadata": {},
   "source": [
    "# Regular expressions"
   ]
  },
  {
   "cell_type": "markdown",
   "metadata": {},
   "source": [
    "explore: \n",
    "* re.sub\n",
    "* re.match\n",
    "* re.find\n",
    "* re.findall\n"
   ]
  },
  {
   "cell_type": "markdown",
   "metadata": {},
   "source": [
    "## PatternSequence tests"
   ]
  },
  {
   "cell_type": "code",
   "execution_count": 2,
   "metadata": {},
   "outputs": [],
   "source": [
    "currency_symbol_to_iso3 = {'£': 'GBP', '$': 'USD', '€': 'EUR'}\n",
    "currencies = list(currency_symbol_to_iso3.values())\n",
    "currency_symbols = list(currency_symbol_to_iso3.keys())"
   ]
  },
  {
   "cell_type": "code",
   "execution_count": 3,
   "metadata": {},
   "outputs": [],
   "source": [
    "ps = PatternSequence()\n",
    "ps.add(f'([-+]?\\d*\\.\\d+|\\d+)\\s*({\"|\".join(currencies)})', \n",
    "        lambda g: {'amount': float(g[0]), 'currency': g[1]})\n",
    "ps.add(f'({\"|\".join(currency_symbols)})\\s*([-+]?\\d*\\.\\d+|\\d+)'.replace('$', '\\$'), \n",
    "        lambda g: {'amount': float(g[1]), \n",
    "'currency': currency_symbol_to_iso3[g[0]]})"
   ]
  },
  {
   "cell_type": "code",
   "execution_count": 4,
   "metadata": {},
   "outputs": [
    {
     "data": {
      "text/plain": [
       "['([-+]?\\\\d*\\\\.\\\\d+|\\\\d+)\\\\s*(GBP|USD|EUR)',\n",
       " '(£|\\\\$|€)\\\\s*([-+]?\\\\d*\\\\.\\\\d+|\\\\d+)']"
      ]
     },
     "execution_count": 4,
     "metadata": {},
     "output_type": "execute_result"
    }
   ],
   "source": [
    "ps.get_patterns()"
   ]
  },
  {
   "cell_type": "code",
   "execution_count": 5,
   "metadata": {
    "tags": []
   },
   "outputs": [
    {
     "data": {
      "text/plain": [
       "{'amount': -13.342, 'currency': 'USD'}"
      ]
     },
     "execution_count": 5,
     "metadata": {},
     "output_type": "execute_result"
    }
   ],
   "source": [
    "ps.match('$-13.342')"
   ]
  },
  {
   "cell_type": "markdown",
   "metadata": {},
   "source": [
    "## regex"
   ]
  },
  {
   "cell_type": "code",
   "execution_count": 28,
   "metadata": {},
   "outputs": [
    {
     "data": {
      "text/plain": [
       "<re.Match object; span=(0, 4), match='word'>"
      ]
     },
     "execution_count": 28,
     "metadata": {},
     "output_type": "execute_result"
    },
    {
     "data": {
      "text/plain": [
       "True"
      ]
     },
     "execution_count": 28,
     "metadata": {},
     "output_type": "execute_result"
    },
    {
     "data": {
      "text/plain": [
       "True"
      ]
     },
     "execution_count": 28,
     "metadata": {},
     "output_type": "execute_result"
    },
    {
     "data": {
      "text/plain": [
       "<re.Match object; span=(0, 1), match='$'>"
      ]
     },
     "execution_count": 28,
     "metadata": {},
     "output_type": "execute_result"
    },
    {
     "data": {
      "text/plain": [
       "<re.Match object; span=(0, 4), match='word'>"
      ]
     },
     "execution_count": 28,
     "metadata": {},
     "output_type": "execute_result"
    }
   ],
   "source": [
    "# most characters match themselves\n",
    "re.match('word', 'word')\n",
    "\n",
    "re.match('word', 'this is a word') is None  # because 'word' is exact pattern, need to allow other things before it\n",
    "\n",
    "re.match('word', 'word is good')  # but the ok if the pattern is found at the start of the string\n",
    "\n",
    "# metacharacters:  . ^ $ * + ? { } [ ] \\ | ( )\n",
    "re.match('$', '$') is None\n",
    "re.match('\\$', '$')  # use slash to actually match metacharacters"
   ]
  },
  {
   "cell_type": "markdown",
   "metadata": {},
   "source": [
    "### classes ```[..]```"
   ]
  },
  {
   "cell_type": "code",
   "execution_count": 29,
   "metadata": {},
   "outputs": [
    {
     "data": {
      "text/plain": [
       "<re.Match object; span=(0, 1), match='4'>"
      ]
     },
     "execution_count": 29,
     "metadata": {},
     "output_type": "execute_result"
    },
    {
     "data": {
      "text/plain": [
       "<re.Match object; span=(0, 1), match='b'>"
      ]
     },
     "execution_count": 29,
     "metadata": {},
     "output_type": "execute_result"
    },
    {
     "data": {
      "text/plain": [
       "<re.Match object; span=(0, 1), match='y'>"
      ]
     },
     "execution_count": 29,
     "metadata": {},
     "output_type": "execute_result"
    }
   ],
   "source": [
    "# [...] - defines a class of characters to match, listed or a range with -, like 0-9\n",
    "re.match('[1-5]', '4')\n",
    "re.match('[a-e]', 'b')\n",
    "re.match('[abxy]', 'y')\n",
    "\n",
    "# [a-z] for any of the lowercase"
   ]
  },
  {
   "cell_type": "code",
   "execution_count": 33,
   "metadata": {},
   "outputs": [
    {
     "data": {
      "text/plain": [
       "<re.Match object; span=(0, 1), match='$'>"
      ]
     },
     "execution_count": 33,
     "metadata": {},
     "output_type": "execute_result"
    },
    {
     "data": {
      "text/plain": [
       "True"
      ]
     },
     "execution_count": 33,
     "metadata": {},
     "output_type": "execute_result"
    },
    {
     "data": {
      "text/plain": [
       "<re.Match object; span=(0, 1), match='x'>"
      ]
     },
     "execution_count": 33,
     "metadata": {},
     "output_type": "execute_result"
    }
   ],
   "source": [
    "re.match('[$£]', '$')  # metachars not active inside classes; can use [$] instead of \\$ to match $\n",
    "\n",
    "re.match('[^abc]', 'a') is None  # ^ at the start of the class - match all except the characters\n",
    "re.match('[^abc]', 'xyz') "
   ]
  },
  {
   "cell_type": "markdown",
   "metadata": {},
   "source": [
    "### backslash ```\\```"
   ]
  },
  {
   "cell_type": "code",
   "execution_count": 36,
   "metadata": {},
   "outputs": [
    {
     "data": {
      "text/plain": [
       "<re.Match object; span=(0, 1), match='a'>"
      ]
     },
     "execution_count": 36,
     "metadata": {},
     "output_type": "execute_result"
    },
    {
     "data": {
      "text/plain": [
       "True"
      ]
     },
     "execution_count": 36,
     "metadata": {},
     "output_type": "execute_result"
    }
   ],
   "source": [
    "# \\w - any alphanumeric char, same as [a-zA-Z0-9_]\n",
    "re.match('\\w', 'ab x')\n",
    "re.match('\\w', '&ab x') is None\n",
    "\n",
    "# \\W is for any non-alphanumeric, i.e. [^a-zA-Z0-9_]\n",
    "# by convention, capital letter often mean a negation"
   ]
  },
  {
   "cell_type": "markdown",
   "metadata": {},
   "source": [
    "* \\d : 0-9\n",
    "* \\s : any whitespace\n",
    "* . : anything except newline\n",
    "\n",
    "* class can be a union of chars, ranges and escapes: like ```[0-6\\s,.]```"
   ]
  },
  {
   "cell_type": "code",
   "execution_count": 39,
   "metadata": {},
   "outputs": [
    {
     "data": {
      "text/plain": [
       "<re.Match object; span=(0, 2), match='ct'>"
      ]
     },
     "execution_count": 39,
     "metadata": {},
     "output_type": "execute_result"
    },
    {
     "data": {
      "text/plain": [
       "<re.Match object; span=(0, 3), match='cat'>"
      ]
     },
     "execution_count": 39,
     "metadata": {},
     "output_type": "execute_result"
    },
    {
     "data": {
      "text/plain": [
       "<re.Match object; span=(0, 6), match='caaaat'>"
      ]
     },
     "execution_count": 39,
     "metadata": {},
     "output_type": "execute_result"
    }
   ],
   "source": [
    "# * : repeat 0,1 or many times; is applied to the char before *\n",
    "re.match('ca*t', 'ct')\n",
    "re.match('ca*t', 'cat')\n",
    "re.match('ca*t', 'caaaatt, other things')"
   ]
  },
  {
   "cell_type": "code",
   "execution_count": 41,
   "metadata": {},
   "outputs": [
    {
     "data": {
      "text/plain": [
       "<re.Match object; span=(0, 15), match='181857198198273'>"
      ]
     },
     "execution_count": 41,
     "metadata": {},
     "output_type": "execute_result"
    }
   ],
   "source": [
    "re.match('[0-9]*', '181857198198273')  #can repeat classes\n",
    "# * is greedy and will take as many repetitions as possible, while the whole pattern is matched;\n",
    "# in case the next step in the match fail, it will go back and try to match fewer repetitions"
   ]
  },
  {
   "cell_type": "markdown",
   "metadata": {},
   "source": [
    "* ```+``` : same as ```*``` but requires at least one occurence\n",
    "* ```?``` : match once or zero times\n",
    "* ```{m,n}``` : at least m, at most n repetition (so ? is {0, 1}, {0,} is *, {1,} is +)"
   ]
  },
  {
   "cell_type": "code",
   "execution_count": 44,
   "metadata": {},
   "outputs": [
    {
     "data": {
      "text/plain": [
       "<re.Match object; span=(0, 3), match='abb'>"
      ]
     },
     "execution_count": 44,
     "metadata": {},
     "output_type": "execute_result"
    },
    {
     "data": {
      "text/plain": [
       "True"
      ]
     },
     "execution_count": 44,
     "metadata": {},
     "output_type": "execute_result"
    },
    {
     "data": {
      "text/plain": [
       "<re.Match object; span=(0, 3), match='AbB'>"
      ]
     },
     "execution_count": 44,
     "metadata": {},
     "output_type": "execute_result"
    }
   ],
   "source": [
    "# compiling pattern string into regexps\n",
    "p = re.compile('ab*')\n",
    "p_no_case = re.compile('ab*', re.IGNORECASE)  # can use special re flags\n",
    "\n",
    "# regexp has .match(..) method\n",
    "p.match('abb')\n",
    "p.match('AbB') is None\n",
    "p_no_case.match('AbB')"
   ]
  },
  {
   "cell_type": "raw",
   "metadata": {},
   "source": [
    "Backslash plague:\n",
    "\n",
    "* say we want to match '\\section'  (with backslash)\n",
    "* for this we need to pass '\\\\section' to re.compile\n",
    "* but python strings also use '\\' for escapes, so we need to pass '\\\\\\\\section'\n",
    "* this is very inconvenient\n",
    "\n",
    "* Need to use python raw strings: r'\\\\section' instead of '\\\\\\\\section'\n",
    "* r can be put together with other prefixes, like fr'\\n${25}'"
   ]
  },
  {
   "cell_type": "markdown",
   "metadata": {},
   "source": [
    "Methods of a compiled regexp (we used only .match(..) so far)\n",
    "\n",
    "|method| operation|\n",
    "|:-----|:-------|\n",
    "|```match()```|  Determine if the RE matches at the beginning of the string.|\n",
    "|```search()```|  Scan through a string, looking for any location where this RE matches.|\n",
    "|```findall()```|  Find all substrings where the RE matches, and returns them as a list.|\n",
    "|```finditer()```|  Find all substrings where the RE matches, and returns them as an iterator.|"
   ]
  },
  {
   "cell_type": "code",
   "execution_count": 45,
   "metadata": {},
   "outputs": [
    {
     "data": {
      "text/plain": [
       "True"
      ]
     },
     "execution_count": 45,
     "metadata": {},
     "output_type": "execute_result"
    },
    {
     "data": {
      "text/plain": [
       "<re.Match object; span=(3, 4), match='2'>"
      ]
     },
     "execution_count": 45,
     "metadata": {},
     "output_type": "execute_result"
    }
   ],
   "source": [
    "re.match('[0-3]', 'abc2') is None\n",
    "re.search('[0-3]', 'abc2')"
   ]
  },
  {
   "cell_type": "code",
   "execution_count": 50,
   "metadata": {},
   "outputs": [
    {
     "data": {
      "text/plain": [
       "4"
      ]
     },
     "execution_count": 50,
     "metadata": {},
     "output_type": "execute_result"
    },
    {
     "data": {
      "text/plain": [
       "5"
      ]
     },
     "execution_count": 50,
     "metadata": {},
     "output_type": "execute_result"
    },
    {
     "data": {
      "text/plain": [
       "(4, 5)"
      ]
     },
     "execution_count": 50,
     "metadata": {},
     "output_type": "execute_result"
    },
    {
     "data": {
      "text/plain": [
       "'3'"
      ]
     },
     "execution_count": 50,
     "metadata": {},
     "output_type": "execute_result"
    }
   ],
   "source": [
    "m = re.search('[0-4]', 'abc 3 xyz')\n",
    "m.start()\n",
    "m.end()\n",
    "m.span()\n",
    "m.group()  # returns the substring that was matched (pattern with all options restricted to particular found case)"
   ]
  },
  {
   "cell_type": "code",
   "execution_count": 57,
   "metadata": {},
   "outputs": [
    {
     "data": {
      "text/plain": [
       "['12$', '43$', '123$']"
      ]
     },
     "execution_count": 57,
     "metadata": {},
     "output_type": "execute_result"
    },
    {
     "data": {
      "text/plain": [
       "<callable_iterator at 0x7f4338d1ce20>"
      ]
     },
     "execution_count": 57,
     "metadata": {},
     "output_type": "execute_result"
    },
    {
     "data": {
      "text/plain": [
       "[<re.Match object; span=(0, 3), match='12$'>,\n",
       " <re.Match object; span=(8, 11), match='43$'>,\n",
       " <re.Match object; span=(17, 21), match='123$'>]"
      ]
     },
     "execution_count": 57,
     "metadata": {},
     "output_type": "execute_result"
    }
   ],
   "source": [
    "re.findall(r'\\d*\\$', '12$ and 43$ plus 123$')  # returns list\n",
    "# raw python string for pattern must be used!!\n",
    "\n",
    "match_iter = re.finditer(r'\\d*\\$', '12$ and 43$ plus 123$')  # returns iterator for all separate matches\n",
    "match_iter \n",
    "list(match_iter)"
   ]
  },
  {
   "cell_type": "markdown",
   "metadata": {},
   "source": [
    "* re has all the same methods: re.match, re.search etc.; to be used as ```re.match(patter_str, input_str)```.\n",
    "it caches compiled regexps, so using .compile(..) is not needed, (unless we save a pattern and use it many times in the code - can do it to reduce notation)\n",
    "\n",
    "* also .compiled is useful if we apply a flag during regexp compilation\n",
    "\n",
    "* flags:\n",
    "    - IGNORECASE : match irrespectively of the case 'a' will match 'A', etc\n",
    "    - MULTILINE : ^ and $ will match start/end of each line, not only start/end of the string \n",
    "    - DOTALL : make '.' include '\\n' and thus match everything\n",
    "    - and others"
   ]
  },
  {
   "cell_type": "markdown",
   "metadata": {},
   "source": [
    "### zero-width assertions"
   ]
  },
  {
   "cell_type": "code",
   "execution_count": 68,
   "metadata": {},
   "outputs": [
    {
     "data": {
      "text/plain": [
       "['5', 'v']"
      ]
     },
     "execution_count": 68,
     "metadata": {},
     "output_type": "execute_result"
    },
    {
     "data": {
      "text/plain": [
       "['a']"
      ]
     },
     "execution_count": 68,
     "metadata": {},
     "output_type": "execute_result"
    },
    {
     "data": {
      "text/plain": [
       "['c']"
      ]
     },
     "execution_count": 68,
     "metadata": {},
     "output_type": "execute_result"
    },
    {
     "data": {
      "text/plain": [
       "True"
      ]
     },
     "execution_count": 68,
     "metadata": {},
     "output_type": "execute_result"
    },
    {
     "data": {
      "text/plain": [
       "<re.Match object; span=(0, 3), match='abc'>"
      ]
     },
     "execution_count": 68,
     "metadata": {},
     "output_type": "execute_result"
    },
    {
     "data": {
      "text/plain": [
       "['a', 'b', 'c']"
      ]
     },
     "execution_count": 68,
     "metadata": {},
     "output_type": "execute_result"
    },
    {
     "data": {
      "text/plain": [
       "['abc', '']"
      ]
     },
     "execution_count": 68,
     "metadata": {},
     "output_type": "execute_result"
    }
   ],
   "source": [
    "# | - alternation\n",
    "re.findall('[0-9]|[a-z]', '5 £$% v')\n",
    "\n",
    "# ^ match start of the string\n",
    "re.findall('^[a-z]', 'abc')\n",
    "\n",
    "# $ end of the string\n",
    "re.findall('[a-z]$', 'abc')\n",
    "\n",
    "re.match('^[a-z]$', 'abc') is None\n",
    "re.match('^[a-z]*$', 'abc')\n",
    "\n",
    "re.findall('[a-z]', 'abc')\n",
    "re.findall('[a-z]*', 'abc')  # won't match all repetition options, only the largest one and empty"
   ]
  },
  {
   "cell_type": "markdown",
   "metadata": {},
   "source": [
    "\\A and \\Z match the start/end of the string (even in MULTILINE mode, unlike ^ and $)"
   ]
  },
  {
   "cell_type": "code",
   "execution_count": 76,
   "metadata": {},
   "outputs": [
    {
     "data": {
      "text/plain": [
       "<re.Match object; span=(10, 14), match='word'>"
      ]
     },
     "execution_count": 76,
     "metadata": {},
     "output_type": "execute_result"
    },
    {
     "data": {
      "text/plain": [
       "True"
      ]
     },
     "execution_count": 76,
     "metadata": {},
     "output_type": "execute_result"
    }
   ],
   "source": [
    "# \\b start or end of the word (a sequence of alphanumeric chars)\n",
    "re.search(r'\\bword\\b', 'this is a word')  # MUST USE r'' (raw string), in python string \\b is backspace\n",
    "re.search(r'\\bword\\b', 'this is a buzzword') is None\n",
    "\n",
    "# \\B : only match inside words (not at the edges)"
   ]
  },
  {
   "cell_type": "markdown",
   "metadata": {},
   "source": [
    "###  groups ```(...)```"
   ]
  },
  {
   "cell_type": "code",
   "execution_count": 88,
   "metadata": {},
   "outputs": [
    {
     "data": {
      "text/plain": [
       "<re.Match object; span=(0, 4), match='1212'>"
      ]
     },
     "execution_count": 88,
     "metadata": {},
     "output_type": "execute_result"
    },
    {
     "data": {
      "text/plain": [
       "('12', '34')"
      ]
     },
     "execution_count": 88,
     "metadata": {},
     "output_type": "execute_result"
    },
    {
     "data": {
      "text/plain": [
       "((0, 2), (4, 6))"
      ]
     },
     "execution_count": 88,
     "metadata": {},
     "output_type": "execute_result"
    },
    {
     "data": {
      "text/plain": [
       "('12', '34')"
      ]
     },
     "execution_count": 88,
     "metadata": {},
     "output_type": "execute_result"
    },
    {
     "data": {
      "text/plain": [
       "('12', '34')"
      ]
     },
     "execution_count": 88,
     "metadata": {},
     "output_type": "execute_result"
    }
   ],
   "source": [
    "# each group in the pattern is written inside (..)\n",
    "# qualifiers can be applied to groups\n",
    "re.match('(12)+', '1212')\n",
    "\n",
    "# if pattern contains multiple groups: their values and positions can be accessed with passing index from 1 to \n",
    "# .group(..), .span(..)\n",
    "# .groups() will return a list of group matched values (groups numbered from left to right)\n",
    "m = re.match('(12)*(34)*', '123434')\n",
    "m.groups()\n",
    "\n",
    "m.span(1), m.span(2)\n",
    "m.group(1), m.group(2)\n",
    "m.group(1, 2)"
   ]
  },
  {
   "cell_type": "code",
   "execution_count": 89,
   "metadata": {},
   "outputs": [
    {
     "data": {
      "text/plain": [
       "('abc', 'b')"
      ]
     },
     "execution_count": 89,
     "metadata": {},
     "output_type": "execute_result"
    }
   ],
   "source": [
    "# nested groups\n",
    "m = re.match(r'(a(b)c)d', 'abcd')\n",
    "m.groups()"
   ]
  },
  {
   "cell_type": "code",
   "execution_count": 93,
   "metadata": {},
   "outputs": [
    {
     "data": {
      "text/plain": [
       "<re.Match object; span=(0, 5), match='ab ab'>"
      ]
     },
     "execution_count": 93,
     "metadata": {},
     "output_type": "execute_result"
    },
    {
     "data": {
      "text/plain": [
       "True"
      ]
     },
     "execution_count": 93,
     "metadata": {},
     "output_type": "execute_result"
    }
   ],
   "source": [
    "# group backreferences : \\1 means that we must exactly match the first matched group (can do \\2, \\3 etc)\n",
    "re.match(r'(ab|xy)\\s+\\1', 'ab ab')\n",
    "re.match(r'(ab|xy)\\s+\\1', 'ab xy') is None"
   ]
  },
  {
   "cell_type": "markdown",
   "metadata": {},
   "source": [
    "### Extensions\n",
    "* specified by ```(?...)``` (so here ? is not used for repetition, since there's nothing to repeat it's not ambigious)\n",
    "* ? is followed by a symbol that determines the extension, ?P prefix instead of ? means pure python extension"
   ]
  },
  {
   "cell_type": "code",
   "execution_count": 94,
   "metadata": {},
   "outputs": [
    {
     "data": {
      "text/plain": [
       "()"
      ]
     },
     "execution_count": 94,
     "metadata": {},
     "output_type": "execute_result"
    }
   ],
   "source": [
    "# non-capturing groups (will be skipped in .groups(), only to organize the pattern)\n",
    "m = re.match(\"(?:[abc])+\", \"abc\")\n",
    "m.groups()\n",
    "\n",
    "# useful for modifying existing pattern, for which other code already uses the order of output groups "
   ]
  },
  {
   "cell_type": "code",
   "execution_count": 98,
   "metadata": {},
   "outputs": [
    {
     "data": {
      "text/plain": [
       "{'first': 'Jane', 'last': 'Doe'}"
      ]
     },
     "execution_count": 98,
     "metadata": {},
     "output_type": "execute_result"
    },
    {
     "data": {
      "text/plain": [
       "('Jane', 'Doe')"
      ]
     },
     "execution_count": 98,
     "metadata": {},
     "output_type": "execute_result"
    },
    {
     "data": {
      "text/plain": [
       "('Jane', 'Doe')"
      ]
     },
     "execution_count": 98,
     "metadata": {},
     "output_type": "execute_result"
    },
    {
     "data": {
      "text/plain": [
       "{'first': 'Jane', 'middle': 'Diana', 'last': 'Doe'}"
      ]
     },
     "execution_count": 98,
     "metadata": {},
     "output_type": "execute_result"
    }
   ],
   "source": [
    "# named group : (?P<name>...)\n",
    "# useful if the groups will be later processed, make the code more robust and clear, no magic numbers; compare\n",
    "m = re.match(r'(?P<first>\\w+) (?P<last>\\w+)', 'Jane Doe')\n",
    "m.groupdict()  # has specific groupdict method !!\n",
    "m.groups()\n",
    "\n",
    "m = re.match(r'(\\w+) (\\w+)', 'Jane Doe')\n",
    "m.groups()\n",
    "\n",
    "# first method is more robust, e.g. to a change like this\n",
    "m = re.match(r'(?P<first>\\w+) (?P<middle>\\w+) (?P<last>\\w+)', 'Jane Diana Doe')\n",
    "m.groupdict()"
   ]
  },
  {
   "cell_type": "code",
   "execution_count": 104,
   "metadata": {},
   "outputs": [
    {
     "data": {
      "text/plain": [
       "<re.Match object; span=(0, 13), match='Jane Doe Jane'>"
      ]
     },
     "execution_count": 104,
     "metadata": {},
     "output_type": "execute_result"
    }
   ],
   "source": [
    "# backreference with name : (?P=name)\n",
    "re.match(r'(?P<first>\\w+) (?P<last>\\w+) (?P=first)', 'Jane Doe Jane')"
   ]
  },
  {
   "cell_type": "code",
   "execution_count": 108,
   "metadata": {},
   "outputs": [
    {
     "data": {
      "text/plain": [
       "('name', 'csv')"
      ]
     },
     "execution_count": 108,
     "metadata": {},
     "output_type": "execute_result"
    },
    {
     "data": {
      "text/plain": [
       "True"
      ]
     },
     "execution_count": 108,
     "metadata": {},
     "output_type": "execute_result"
    }
   ],
   "source": [
    "# lookahead : (?=...) - check if the pattern is matched (fail if not) and continue from the same position to match \n",
    "# the main pattern further (this group won't show up anywhere)\n",
    "# (?!...) is a similar negative pattern\n",
    "\n",
    "# e.g. match filename main part and extension, but extension cannot be .txt or .md\n",
    "filename_pat = re.compile('(.*)[.]((?!txt$|md$)[^.]*)$')\n",
    "m = filename_pat.match('name.csv')\n",
    "m.groups()\n",
    "filename_pat.match('name.md') is None"
   ]
  },
  {
   "cell_type": "markdown",
   "metadata": {},
   "source": [
    "### modifying strings with re"
   ]
  },
  {
   "cell_type": "code",
   "execution_count": 111,
   "metadata": {},
   "outputs": [
    {
     "data": {
      "text/plain": [
       "['This', 'is', 'a', 'string']"
      ]
     },
     "execution_count": 111,
     "metadata": {},
     "output_type": "execute_result"
    },
    {
     "data": {
      "text/plain": [
       "['This', ' , ', 'is', ' ', 'a', '$', 'string']"
      ]
     },
     "execution_count": 111,
     "metadata": {},
     "output_type": "execute_result"
    }
   ],
   "source": [
    "# .split() : split string using whatever matches the pattern as delimiter\n",
    "re.split(r'\\W+', 'This , is a$string')\n",
    "\n",
    "re.split(r'(\\W+)', 'This , is a$string')  # delimiter pattern inside (..) - then found delims also returned "
   ]
  },
  {
   "cell_type": "code",
   "execution_count": 122,
   "metadata": {},
   "outputs": [
    {
     "data": {
      "text/plain": [
       "'repl_string, other word, repl_string'"
      ]
     },
     "execution_count": 122,
     "metadata": {},
     "output_type": "execute_result"
    },
    {
     "data": {
      "text/plain": [
       "('repl_string, other word, repl_string', 2)"
      ]
     },
     "execution_count": 122,
     "metadata": {},
     "output_type": "execute_result"
    }
   ],
   "source": [
    "# .sub() : replace whatever matches the pattern by another string\n",
    "s = 'abxyz, other word, xyz'\n",
    "replacement = 'repl_string'\n",
    "re.sub(r'(ab)*xyz', replacement, s)\n",
    "re.subn(r'(ab)*xyz', replacement, s)  # also returns the number of replacements"
   ]
  },
  {
   "cell_type": "code",
   "execution_count": 124,
   "metadata": {},
   "outputs": [
    {
     "data": {
      "text/plain": [
       "'section{First} section{second}'"
      ]
     },
     "execution_count": 124,
     "metadata": {},
     "output_type": "execute_result"
    }
   ],
   "source": [
    "p = re.compile('section{ ( [^}]* ) }')  \n",
    "# here attention (!): [^}]* must be used since * is greedy and has priority over } after the group end\n",
    "p.sub(r'subsection{\\1}','section{First} section{second}')"
   ]
  },
  {
   "cell_type": "code",
   "execution_count": 125,
   "metadata": {},
   "outputs": [
    {
     "data": {
      "text/plain": [
       "'Currencies like , RUB, , JPY and '"
      ]
     },
     "execution_count": 125,
     "metadata": {},
     "output_type": "execute_result"
    }
   ],
   "source": [
    "# removing a list of strings \n",
    "str_to_remove = ['USD', 'EUR', 'GBP']\n",
    "re.sub(fr'({\"|\".join(str_to_remove)})', '', 'Currencies like USD, RUB, EUR, JPY and GBP')"
   ]
  },
  {
   "cell_type": "code",
   "execution_count": 127,
   "metadata": {},
   "outputs": [
    {
     "data": {
      "text/plain": [
       "'this is a phrase'"
      ]
     },
     "execution_count": 127,
     "metadata": {},
     "output_type": "execute_result"
    },
    {
     "data": {
      "text/plain": [
       "'this is a buzzword'"
      ]
     },
     "execution_count": 127,
     "metadata": {},
     "output_type": "execute_result"
    }
   ],
   "source": [
    "# substitude only words\n",
    "re.sub(r'\\bword\\b', 'phrase', 'this is a word') \n",
    "re.sub(r'\\bword\\b', 'phrase', 'this is a buzzword')  # not replacing unlike string .replace()"
   ]
  },
  {
   "cell_type": "markdown",
   "metadata": {},
   "source": [
    "# Context-free grammars. Lark"
   ]
  },
  {
   "cell_type": "markdown",
   "metadata": {},
   "source": [
    "### EBNF grammar\n",
    "* Tree parsing algorithms \n",
    "* DSL - Domain Specific Language\n",
    "(put info)"
   ]
  },
  {
   "cell_type": "markdown",
   "metadata": {},
   "source": [
    "lark in PyPi goes under the name lark-parser"
   ]
  },
  {
   "cell_type": "code",
   "execution_count": 1,
   "metadata": {},
   "outputs": [],
   "source": [
    "from lark import Lark"
   ]
  },
  {
   "cell_type": "code",
   "execution_count": 15,
   "metadata": {},
   "outputs": [],
   "source": [
    "# simple grammar (grammar is specify as a string, usually multiline or in a separate text file)\n",
    "\n",
    "grammar = r\"\"\"\n",
    "start: WORD \",\" WORD \"!\"\n",
    "%import common.WORD\n",
    "%ignore \" \"\n",
    "\"\"\""
   ]
  },
  {
   "cell_type": "code",
   "execution_count": 16,
   "metadata": {},
   "outputs": [
    {
     "data": {
      "text/plain": [
       "Tree(start, [Token(WORD, 'Hello'), Token(WORD, 'World')])"
      ]
     },
     "execution_count": 16,
     "metadata": {},
     "output_type": "execute_result"
    }
   ],
   "source": [
    "parser = Lark(grammar)\n",
    "\n",
    "parser.parse('Hello,   World!')  # returns a Tree instance"
   ]
  },
  {
   "cell_type": "code",
   "execution_count": 38,
   "metadata": {},
   "outputs": [],
   "source": [
    "# grammar arythmetic operations\n",
    "\n",
    "parser = Lark('''?sum: product\n",
    "                     | sum \"+\" product   -> add\n",
    "                     | sum \"-\" product   -> sub\n",
    " \n",
    "                 ?product: item\n",
    "                     | product \"*\" item  -> mul\n",
    "                     | product \"/\" item  -> div\n",
    " \n",
    "                 ?item: NUMBER           -> number\n",
    "                      | \"-\" item         -> neg\n",
    "                      | \"(\" sum \")\"\n",
    " \n",
    "                 %import common.NUMBER\n",
    "                 %import common.WS\n",
    "                 %ignore WS\n",
    "         ''', start='sum')"
   ]
  },
  {
   "cell_type": "code",
   "execution_count": 40,
   "metadata": {},
   "outputs": [
    {
     "data": {
      "text/plain": [
       "Tree(mul, [Tree(add, [Tree(number, [Token(NUMBER, '3')]), Tree(number, [Token(NUMBER, '4')])]), Tree(sub, [Tree(number, [Token(NUMBER, '1')]), Tree(div, [Tree(add, [Tree(number, [Token(NUMBER, '4')]), Tree(number, [Token(NUMBER, '2')])]), Tree(number, [Token(NUMBER, '4')])])])])"
      ]
     },
     "execution_count": 40,
     "metadata": {},
     "output_type": "execute_result"
    }
   ],
   "source": [
    "parser.parse('(3 + 4) * (1-(4+2)/4)')"
   ]
  },
  {
   "cell_type": "markdown",
   "metadata": {},
   "source": [
    "Grammar:\n",
    "* terminals - define the language alphabet\n",
    "* rules - define structure\n",
    "* terminal may be a string, a regular expression, or a concatenation of these and other terminals"
   ]
  },
  {
   "cell_type": "markdown",
   "metadata": {},
   "source": [
    "* in re ? means optional (0 or 1 repeatition)\n",
    "* in EBNF optionals are supported (and auto-expanded) ```a b? c    ->    (a c | a b c)```\n",
    "* b* also means repetition\n",
    "\n",
    "and so on\n",
    "\n"
   ]
  },
  {
   "cell_type": "markdown",
   "metadata": {},
   "source": [
    "* each definition or directive is in its own line in the grammar\n",
    "* comments : //\n",
    "* definition is a named rule or terminal\n",
    "```\n",
    "rule: <EBNF EXPRESSION>\n",
    "      | etc.\n",
    "\n",
    "TERM: <EBNF EXPRESSION>   // Rules aren't allowed\n",
    "```\n",
    "* rule names are always in lowercase, terminals names - in uppercase\n",
    "* parsing starts with the rule 'start'\n",
    "* terminal syntax (support strings, regexps inside /../, grammar operators like |,?,*,+)\n",
    "```\n",
    "<NAME> [. <priority>] : <literals-and-or-terminals>\n",
    "```\n",
    "\n",
    "* examples of terminals\n",
    "```\n",
    "IF: \"if\"\n",
    "INTEGER : /[0-9]+/\n",
    "INTEGER2 : (\"0\"..\"9\")+          //# Same as INTEGER\n",
    "DECIMAL.2: INTEGER? \".\" INTEGER  //# Will be matched before INTEGER\n",
    "WHITESPACE: (\" \" | /\\t/ )+\n",
    "SQL_SELECT: \"select\"i\n",
    "```"
   ]
  },
  {
   "cell_type": "markdown",
   "metadata": {},
   "source": [
    "rules\n",
    "* syntax\n",
    "```\n",
    "<name> : <items-to-match>  [-> <alias> ]\n",
    "       | ...\n",
    "```\n",
    "* extended to multiple lines by | 'or' operator\n",
    "* item is terminal, rule, (item, item, item) - group, item with qualifier like item*, item?, [item, item] - optional group\n",
    "* "
   ]
  },
  {
   "cell_type": "code",
   "execution_count": null,
   "metadata": {},
   "outputs": [],
   "source": [
    "# further explore\n",
    "\n",
    "# how to use Tree\n",
    "# Transformer"
   ]
  }
 ],
 "metadata": {
  "kernelspec": {
   "display_name": "Python 3.8.5 64-bit ('.env': conda)",
   "language": "python",
   "name": "python38564bitenvconda0c5505c1c7e4463c89831e784fc8d707"
  },
  "language_info": {
   "codemirror_mode": {
    "name": "ipython",
    "version": 3
   },
   "file_extension": ".py",
   "mimetype": "text/x-python",
   "name": "python",
   "nbconvert_exporter": "python",
   "pygments_lexer": "ipython3",
   "version": "3.8.5"
  }
 },
 "nbformat": 4,
 "nbformat_minor": 2
}
