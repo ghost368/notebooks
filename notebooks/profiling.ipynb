{
 "metadata": {
  "language_info": {
   "codemirror_mode": {
    "name": "ipython",
    "version": 3
   },
   "file_extension": ".py",
   "mimetype": "text/x-python",
   "name": "python",
   "nbconvert_exporter": "python",
   "pygments_lexer": "ipython3",
   "version": 3
  },
  "orig_nbformat": 2,
  "kernelspec": {
   "name": "python_defaultSpec_1596699866563",
   "display_name": "Python 3.8.3 64-bit ('.env': conda)"
  }
 },
 "nbformat": 4,
 "nbformat_minor": 2,
 "cells": [
  {
   "cell_type": "code",
   "execution_count": 1,
   "metadata": {},
   "outputs": [],
   "source": [
    "from IPython.core.interactiveshell import InteractiveShell\n",
    "InteractiveShell.ast_node_interactivity = \"all\"\n",
    "import numpy as np"
   ]
  },
  {
   "cell_type": "code",
   "execution_count": 2,
   "metadata": {},
   "outputs": [],
   "source": [
    "import cProfile  # main python tool for profiling\n",
    "import pstats  # tool for analysis of cProfile output"
   ]
  },
  {
   "cell_type": "code",
   "execution_count": 3,
   "metadata": {},
   "outputs": [],
   "source": [
    "def str_lower(s):\n",
    "    return s.lower()\n",
    "\n",
    "def correct_strings(arr):\n",
    "    output = []\n",
    "    for s in arr:\n",
    "        output.append(str_lower(s))\n",
    "    return np.array(output)"
   ]
  },
  {
   "cell_type": "code",
   "execution_count": 4,
   "metadata": {
    "tags": []
   },
   "outputs": [
    {
     "output_type": "stream",
     "name": "stdout",
     "text": "Thu Aug  6 09:15:00 2020    prof_stats\n\n         3005 function calls in 0.018 seconds\n\n   Ordered by: call count, cumulative time\n\n   ncalls  tottime  percall  cumtime  percall filename:lineno(function)\n     1000    0.005    0.000    0.005    0.000 <ipython-input-3-58cafce30a78>:1(str_lower)\n     1000    0.000    0.000    0.000    0.000 {method 'lower' of 'str' objects}\n     1000    0.000    0.000    0.000    0.000 {method 'append' of 'list' objects}\n        1    0.000    0.000    0.018    0.018 {built-in method builtins.exec}\n        1    0.000    0.000    0.018    0.018 <string>:1(<module>)\n        1    0.011    0.011    0.018    0.018 <ipython-input-3-58cafce30a78>:4(correct_strings)\n        1    0.001    0.001    0.001    0.001 {built-in method numpy.array}\n        1    0.000    0.000    0.000    0.000 {method 'disable' of '_lsprof.Profiler' objects}\n\n\n"
    },
    {
     "output_type": "execute_result",
     "data": {
      "text/plain": "<pstats.Stats at 0x7f400031e490>"
     },
     "metadata": {},
     "execution_count": 4
    },
    {
     "output_type": "stream",
     "name": "stdout",
     "text": "Thu Aug  6 09:15:00 2020    prof_stats\n\n         3005 function calls in 0.018 seconds\n\n   Ordered by: call count\n\n   ncalls  tottime  percall  cumtime  percall filename:lineno(function)\n        1    0.000    0.000    0.000    0.000 {method 'disable' of '_lsprof.Profiler' objects}\n        1    0.000    0.000    0.018    0.018 <string>:1(<module>)\n        1    0.011    0.011    0.018    0.018 <ipython-input-3-58cafce30a78>:4(correct_strings)\n        1    0.001    0.001    0.001    0.001 {built-in method numpy.array}\n        1    0.000    0.000    0.018    0.018 {built-in method builtins.exec}\n     1000    0.005    0.000    0.005    0.000 <ipython-input-3-58cafce30a78>:1(str_lower)\n     1000    0.000    0.000    0.000    0.000 {method 'append' of 'list' objects}\n     1000    0.000    0.000    0.000    0.000 {method 'lower' of 'str' objects}\n\n\n"
    },
    {
     "output_type": "execute_result",
     "data": {
      "text/plain": "<pstats.Stats at 0x7f400031e490>"
     },
     "metadata": {},
     "execution_count": 4
    },
    {
     "output_type": "stream",
     "name": "stdout",
     "text": "Thu Aug  6 09:15:00 2020    prof_stats\n\n         3005 function calls in 0.018 seconds\n\n   Ordered by: call count\n   List reduced from 8 to 5 due to restriction <5>\n\n   ncalls  tottime  percall  cumtime  percall filename:lineno(function)\n     1000    0.000    0.000    0.000    0.000 {method 'lower' of 'str' objects}\n     1000    0.000    0.000    0.000    0.000 {method 'append' of 'list' objects}\n     1000    0.005    0.000    0.005    0.000 <ipython-input-3-58cafce30a78>:1(str_lower)\n        1    0.000    0.000    0.018    0.018 {built-in method builtins.exec}\n        1    0.001    0.001    0.001    0.001 {built-in method numpy.array}\n\n\n"
    },
    {
     "output_type": "execute_result",
     "data": {
      "text/plain": "<pstats.Stats at 0x7f400031e490>"
     },
     "metadata": {},
     "execution_count": 4
    }
   ],
   "source": [
    "input = np.array(['ABCE']*1000)\n",
    "\n",
    "cProfile.run('correct_strings(input)', 'prof_stats')  # run profiling, save to file 'prof_stats'\n",
    "\n",
    "p = pstats.Stats('prof_stats').strip_dirs()  # strip_dirs() is useful for getting rid of full paths \n",
    "\n",
    "p.sort_stats('ncalls', 'cumtime').print_stats()  # can sort along one or multiple fields and print the output\n",
    "p.sort_stats('ncalls').reverse_order().print_stats()  # to reverse_order\n",
    "p.sort_stats('ncalls').print_stats(5)  # to show top 5 functions"
   ]
  },
  {
   "cell_type": "markdown",
   "metadata": {},
   "source": [
    "### Profile script from command line\n",
    "\n",
    "* run  ```python -m cProfile -o profile_output.cprof script.py``` (profile result output to the file profile_output.cprof)\n",
    "* run ```pstats -m profile_output.cprof```\n",
    "    - this will open pstats console\n",
    "    - use ```sort ncalls```, ```sort ncalls cumtime``` to sort w.r.t. one or more fields\n",
    "    - use ```stats``` or ```stats 10``` to show all or some number of stats rows"
   ]
  },
  {
   "cell_type": "code",
   "execution_count": null,
   "metadata": {},
   "outputs": [],
   "source": []
  }
 ]
}