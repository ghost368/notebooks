{
 "cells": [
  {
   "cell_type": "code",
   "execution_count": 4,
   "metadata": {},
   "outputs": [],
   "source": [
    "from IPython.core.interactiveshell import InteractiveShell\n",
    "InteractiveShell.ast_node_interactivity = \"all\""
   ]
  },
  {
   "cell_type": "markdown",
   "metadata": {},
   "source": [
    "## Class magic methods\n",
    "\n",
    "```__init__``` - class initialization\n",
    "```__new__``` - creation of the initial self instance (see examples below)\n",
    "\n",
    "### string representations\n",
    "\n",
    "* ```__repr__``` - display on console or repr()\n",
    "* ```__str__``` - str()\n",
    "\n",
    "### maths operators\n",
    "*  ```__add__, __sub__, __mul__, __truediv__, __pow__```\n",
    "* ```__and__, __or__, __xor__``` etc, - logical operators\n",
    "\n",
    "### container-like class\n",
    "* ```__len__``` - len()\n",
    "* ```__getitem__``` - x[item]\n",
    "* ```__setitem__``` - x[item] = value\n",
    "* ```__contains__``` - item in x\n",
    "* ```__iter__``` - iter(), get a new iterator from the container, e.g. in the for loop (for item in x: ...)\n",
    "* ```__next__``` - next step in an iterator object\n",
    "\n",
    "### more\n",
    "* ```__bytes__``` - computes bytestring representation, must return bytestring\n",
    "* ```__lt__, __eq__, ```etc - comparisons (mb used together with @total_ordering)\n",
    "* ```__hash__``` - hash map \n",
    "* ```__getattr__, __getattribute__``` - getting attribute, ```__getattr__``` is applied after ```__getattribute__``` fails or throws ```AttributeError``` (so that dot-access can be used inside getattr, would lead to an inf loop in certain cases otherwise)\n",
    "* ```__setattr__, __delattr__``` - set or delete attribute, x.item = value; del x.item\n",
    "* ```__call__``` - to emulate a callable object\n",
    "* ```__enter__, __exit__``` - context managers (low-level definition, better to use @contextmanager)\n",
    "\n"
   ]
  },
  {
   "cell_type": "markdown",
   "metadata": {},
   "source": [
    "### \\_\\_new\\_\\_\n",
    "new is called before init and it actually creates the initial self instance that we then initialize in init.\n",
    "overriding new is not frequently needed, and deals mostly with object creation;\n",
    "new takes class cls as argument, if it returns the current class instance, then init is later called, otherwise init is ignored and constructor called new and returns whatever new returns"
   ]
  },
  {
   "cell_type": "code",
   "execution_count": 44,
   "metadata": {},
   "outputs": [],
   "source": [
    "# example of singleton implementation with __new__\n",
    "\n",
    "class Singleton(object):\n",
    "    _instance = None  # Keep instance reference \n",
    "    \n",
    "    def __new__(cls, *args, **kwargs):\n",
    "        if not cls._instance:\n",
    "            cls._instance = object.__new__(cls, *args, **kwargs)\n",
    "        return cls._instance"
   ]
  },
  {
   "cell_type": "markdown",
   "metadata": {},
   "source": [
    "### Class and instance attributes"
   ]
  },
  {
   "cell_type": "code",
   "execution_count": 13,
   "metadata": {},
   "outputs": [
    {
     "data": {
      "text/plain": [
       "10"
      ]
     },
     "execution_count": 13,
     "metadata": {},
     "output_type": "execute_result"
    },
    {
     "data": {
      "text/plain": [
       "'C'"
      ]
     },
     "execution_count": 13,
     "metadata": {},
     "output_type": "execute_result"
    },
    {
     "data": {
      "text/plain": [
       "'C'"
      ]
     },
     "execution_count": 13,
     "metadata": {},
     "output_type": "execute_result"
    }
   ],
   "source": [
    "# class and instance attibutes\n",
    "\n",
    "class Temperature:\n",
    "    unit = 'C'\n",
    "    def __init__(self, value):\n",
    "        self.value = value\n",
    "    \n",
    "    @classmethod\n",
    "    def set_unit(cls, new_unit):\n",
    "        cls.unit = new_unit\n",
    "    \n",
    "    @staticmethod\n",
    "    def get_unit_list():  # static method does not take sefl or cls, and cannot modify class attributes\n",
    "        return ['F', 'C']\n",
    "    \n",
    "t = Temperature(10)\n",
    "t.value\n",
    "t.unit  # can access class attr both from instance and class\n",
    "Temperature.unit"
   ]
  },
  {
   "cell_type": "code",
   "execution_count": 14,
   "metadata": {},
   "outputs": [
    {
     "data": {
      "text/plain": [
       "'F'"
      ]
     },
     "execution_count": 14,
     "metadata": {},
     "output_type": "execute_result"
    },
    {
     "data": {
      "text/plain": [
       "'C'"
      ]
     },
     "execution_count": 14,
     "metadata": {},
     "output_type": "execute_result"
    },
    {
     "data": {
      "text/plain": [
       "'F'"
      ]
     },
     "execution_count": 14,
     "metadata": {},
     "output_type": "execute_result"
    },
    {
     "data": {
      "text/plain": [
       "'M'"
      ]
     },
     "execution_count": 14,
     "metadata": {},
     "output_type": "execute_result"
    }
   ],
   "source": [
    "t.unit = 'F'  # class attr mutates to instance attr\n",
    "t.unit\n",
    "Temperature.unit\n",
    "\n",
    "# but can change class attr with class method\n",
    "Temperature.set_unit('F')\n",
    "Temperature.unit\n",
    "\n",
    "Temperature.unit = 'M'  # can simply change attributes directly\n",
    "Temperature.unit"
   ]
  },
  {
   "cell_type": "markdown",
   "metadata": {},
   "source": [
    "All versions of constuctors (including copy constructor) must be implemented using single init function, through the use of differnt kwargs, or by checking the type of args (kwargs is a more robust preferable way)"
   ]
  },
  {
   "cell_type": "code",
   "execution_count": 16,
   "metadata": {},
   "outputs": [],
   "source": [
    "class Parent:\n",
    "\n",
    "    def __init__(self, other=None, name=None):  # only one constructor can be defined, need to treat all cases in it\n",
    "        if other:\n",
    "            self._name = other._name\n",
    "            self._num = 1\n",
    "            return\n",
    "        if not name:\n",
    "            name = 'noname'\n",
    "        self._name = name\n",
    "\n",
    "    def print_name(self):\n",
    "        print(self._name)\n",
    "\n",
    "\n",
    "# child will inherit all parent fields, and all methods to work with them, unless they're overriden\n",
    "class Child(Parent):  \n",
    "    def print_name_caps(self):\n",
    "        print(self._name.capitalize())\n",
    "\n",
    "    def __init__(self, other=None, name=None):\n",
    "        super().__init__(other, name)  # use base class constructor\n",
    "        self._num = 2  # complement it with child class code\n",
    "\n"
   ]
  },
  {
   "cell_type": "markdown",
   "metadata": {},
   "source": [
    "super() is preferred to use inside child classes. In the above example ```super().__init__``` would be equivalent to ```Parent.__init__```"
   ]
  },
  {
   "cell_type": "code",
   "execution_count": 17,
   "metadata": {
    "tags": []
   },
   "outputs": [
    {
     "name": "stdout",
     "output_type": "stream",
     "text": [
      "Alex\n",
      "Alex\n"
     ]
    },
    {
     "data": {
      "text/plain": [
       "2"
      ]
     },
     "execution_count": 17,
     "metadata": {},
     "output_type": "execute_result"
    },
    {
     "name": "stdout",
     "output_type": "stream",
     "text": [
      "Alex\n",
      "Alex\n"
     ]
    }
   ],
   "source": [
    "p = Parent(name='Alex')\n",
    "p.print_name()\n",
    "\n",
    "p = Parent(p)\n",
    "p.print_name()\n",
    "\n",
    "\n",
    "c = Child(p)  # since copy constructor is defined in Parent - can create child from Parent \n",
    "c._num\n",
    "\n",
    "c.print_name()\n",
    "c.print_name_caps()\n"
   ]
  },
  {
   "cell_type": "markdown",
   "metadata": {},
   "source": [
    "### property decorators"
   ]
  },
  {
   "cell_type": "code",
   "execution_count": 23,
   "metadata": {},
   "outputs": [],
   "source": [
    "class Temperature:\n",
    "    def __init__(self, value):\n",
    "        self.value = value  # here value is property defined below, not to mix with _value which is class variable\n",
    "    \n",
    "    @property  # use property name to define its getter\n",
    "    def value(self):\n",
    "        print('Getting value...')  # add extra code to value getter\n",
    "        return self._value\n",
    "    \n",
    "    @value.setter  # specific decorator for the property setter\n",
    "    def value(self, value):\n",
    "        print('Setting value...')\n",
    "        if value < -270:\n",
    "            raise ValueError\n",
    "        self._value = value\n",
    "    \n",
    "# simplifies the creation of getter and setter for a variable\n",
    "# unlike simple variable (non-private), allow extra code at get/set steps (logging, setted value checks etc)"
   ]
  },
  {
   "cell_type": "code",
   "execution_count": 24,
   "metadata": {},
   "outputs": [
    {
     "name": "stdout",
     "output_type": "stream",
     "text": [
      "Setting value...\n",
      "Getting value...\n"
     ]
    },
    {
     "data": {
      "text/plain": [
       "5"
      ]
     },
     "execution_count": 24,
     "metadata": {},
     "output_type": "execute_result"
    }
   ],
   "source": [
    "t = Temperature(5)\n",
    "t.value"
   ]
  },
  {
   "cell_type": "code",
   "execution_count": null,
   "metadata": {},
   "outputs": [],
   "source": []
  },
  {
   "cell_type": "markdown",
   "metadata": {},
   "source": [
    "## Mixin classes\n",
    "Mix-in classes are small classes that implement some class functionality, later can be used as parent (including in multiple inheritance) to add functionality to the class, not 'is a' relationship, but rather some additional functions."
   ]
  },
  {
   "cell_type": "code",
   "execution_count": 27,
   "metadata": {},
   "outputs": [
    {
     "data": {
      "text/plain": [
       "7"
      ]
     },
     "execution_count": 27,
     "metadata": {},
     "output_type": "execute_result"
    }
   ],
   "source": [
    "# example SetItemMixin\n",
    "\n",
    "class SetItemMixin:  # implements general functionality to set attribute when set item is called\n",
    "    def __setitem__(self, key, value):\n",
    "        setattr(self, key, value)\n",
    "    \n",
    "class Record(SetItemMixin):\n",
    "    def __init__(self, a, b):\n",
    "        self.a = a\n",
    "        self.b = b\n",
    "        \n",
    "rec = Record(4, 5)\n",
    "rec['c'] = 7\n",
    "rec.c"
   ]
  },
  {
   "cell_type": "code",
   "execution_count": null,
   "metadata": {},
   "outputs": [],
   "source": []
  },
  {
   "cell_type": "markdown",
   "metadata": {},
   "source": [
    "## Overriding getattr and setattr\n",
    "getattr normally is responsible for dot access, setattr to dot assingment (including transitive assingment, like obj.some_dict[key] = val),\n",
    "setattr is the only such method in a class; \n",
    "for getting attribute there is getattr and getattribute; \n",
    "getattribute is automatically called first, if the attribute is found in self.\\_\\_dict\\_\\_, then attribute is returned normally, if it's not found then the custom implementation from getattr is called if it exists, or we get attribute error\n",
    "\n",
    "when overriding setattr, need to use parent class default implementation of setattr when we want to really set smth to the attribute (otherwise will get a recursion : e.g. we want setattr to set some dict variable key-value, but we need to somehow access the setter for this dict variable), see the examples below. Also remember that setattr is already called in init, if we initialized some variables"
   ]
  },
  {
   "cell_type": "code",
   "execution_count": 42,
   "metadata": {},
   "outputs": [
    {
     "data": {
      "text/plain": [
       "5"
      ]
     },
     "execution_count": 42,
     "metadata": {},
     "output_type": "execute_result"
    },
    {
     "data": {
      "text/plain": [
       "10"
      ]
     },
     "execution_count": 42,
     "metadata": {},
     "output_type": "execute_result"
    },
    {
     "data": {
      "text/plain": [
       "{'x': 5, 'dct': {'a': 10, 'b': 12}}"
      ]
     },
     "execution_count": 42,
     "metadata": {},
     "output_type": "execute_result"
    }
   ],
   "source": [
    "class Record():\n",
    "    def __init__(self, x):\n",
    "        self.x = x  # setattr is already called here \n",
    "        self.dct = {'a': 10}\n",
    "    \n",
    "    def __getattr__(self, key):\n",
    "        return self.dct[key]\n",
    "\n",
    "    def __setattr__(self, key, value):  # when overriding always need to preverse usual behaviour for some group of cases\n",
    "        if key in ['x', 'dct'] + list(self.__dict__.keys()):\n",
    "            super().__setattr__(key, value)  # calling normal setattr \n",
    "        else:\n",
    "            self.dct[key] = value\n",
    "     \n",
    "rec = Record(5)\n",
    "rec.x\n",
    "rec.a\n",
    "\n",
    "rec.b = 12\n",
    "rec.__dict__"
   ]
  },
  {
   "cell_type": "markdown",
   "metadata": {},
   "source": [
    "### *In python 3 all classes inherit from object, so there's no reason to do this explicitly*"
   ]
  },
  {
   "cell_type": "code",
   "execution_count": 17,
   "metadata": {},
   "outputs": [
    {
     "data": {
      "text/plain": [
       "True"
      ]
     },
     "execution_count": 17,
     "metadata": {},
     "output_type": "execute_result"
    }
   ],
   "source": [
    "issubclass(Child, Parent)  # use to check for subclass"
   ]
  },
  {
   "cell_type": "markdown",
   "metadata": {},
   "source": [
    "### ABC module\n",
    "\n",
    "* collections have some classes derived from ABCs, of they can be further subclassed\n",
    "* collections.abc submodule has some abstract classes to test different properties (e.g. if an object is hashable or not)"
   ]
  },
  {
   "cell_type": "code",
   "execution_count": 40,
   "metadata": {},
   "outputs": [
    {
     "data": {
      "text/plain": [
       "tuple"
      ]
     },
     "execution_count": 40,
     "metadata": {},
     "output_type": "execute_result"
    }
   ],
   "source": [
    "from abc import ABC\n",
    "\n",
    "class MyABC(ABC):  # use ABC to define other ABCs\n",
    "    pass\n",
    "\n",
    "MyABC.register(tuple)  # can register any existing unrelated class and subclass (even built-in), called virtual subclasses\n",
    "\n",
    "assert issubclass(tuple, MyABC)\n",
    "assert isinstance((), MyABC)"
   ]
  },
  {
   "cell_type": "code",
   "execution_count": 45,
   "metadata": {},
   "outputs": [],
   "source": [
    "# @abstractmethod decorator says that a method is abstract and must be overriden in all subclasses\n",
    "# will work only for ABC subclass or ancestor\n",
    "# must be the most inner if there are multiple decorators for a method\n",
    "from abc import abstractmethod\n",
    "\n",
    "class C(ABC):  # inheritance from ABC forces abstract methods to be implemented in the Child classes (old way was to raise NotImplementedError \n",
    "    # in the base class)\n",
    "\n",
    "    def __init__(self, x):\n",
    "        self._x = x\n",
    "    \n",
    "    @property\n",
    "    @abstractmethod  # abstract methods may have an implementation (unlike say Java)\n",
    "    def x(self):\n",
    "        return self._x\n",
    "    \n",
    "    @x.setter\n",
    "    @abstractmethod\n",
    "    def x(self, value):\n",
    "        self._x = value \n",
    "\n",
    "    @abstractmethod\n",
    "    def print_x(self):  # use pass to skip the base class definition of an abstract method \n",
    "        pass\n",
    "\n",
    "# can use together with @classmethod, @staticmethod etc"
   ]
  },
  {
   "cell_type": "code",
   "execution_count": 34,
   "metadata": {
    "tags": []
   },
   "outputs": [
    {
     "name": "stdout",
     "output_type": "stream",
     "text": [
      "5\n"
     ]
    }
   ],
   "source": [
    "# c = C(5)  # won't work, even though methods are defined - they are abstract\n",
    "\n",
    "# concrete implementation of C\n",
    "class D(C):\n",
    "\n",
    "    @property\n",
    "    def x(self):\n",
    "        return super().x  # can call super() to use base class abstract method implementation\n",
    "    \n",
    "    @x.setter\n",
    "    def x(self, value):\n",
    "        super().x(self, value)\n",
    "\n",
    "    def print_x(self):  # use pass to skip the base class definition of an abstract method \n",
    "        print(self.x)\n",
    "\n",
    "d = D(5)\n",
    "d.print_x()"
   ]
  },
  {
   "cell_type": "code",
   "execution_count": 50,
   "metadata": {},
   "outputs": [
    {
     "data": {
      "text/plain": [
       "25"
      ]
     },
     "execution_count": 50,
     "metadata": {},
     "output_type": "execute_result"
    },
    {
     "data": {
      "text/plain": [
       "35"
      ]
     },
     "execution_count": 50,
     "metadata": {},
     "output_type": "execute_result"
    }
   ],
   "source": [
    "# example\n",
    "class C:\n",
    "    \n",
    "    def __init__(self, x):\n",
    "        self._x = x\n",
    "\n",
    "    def foo(self):\n",
    "        return self._x\n",
    "\n",
    "    def bar(self):\n",
    "        return self.foo() + 10\n",
    "\n",
    "\n",
    "class D(C):\n",
    "    def foo(self):\n",
    "        return self._x**2\n",
    "\n",
    "d = D(5)\n",
    "d.foo()\n",
    "d.bar()  # bar() is not defined in D but it will correctly use the foo() method from D, not from C"
   ]
  },
  {
   "cell_type": "markdown",
   "metadata": {},
   "source": [
    "## collections.abc\n",
    "\n",
    "* ABCs in collections.abc provide ways to implement commonly needed interfaces, and subclass built-in class through composition + interface inheritance rather than direct subclassing\n",
    "* examples below also provide good ways to use composition (field with 'base' class inside and passing methods to it, that are not overriden) rather than inheritance (and of course rather than multiple inheritance)"
   ]
  },
  {
   "cell_type": "code",
   "execution_count": 59,
   "metadata": {
    "tags": []
   },
   "outputs": [
    {
     "data": {
      "text/plain": [
       "{1, 2, 3}"
      ]
     },
     "execution_count": 59,
     "metadata": {},
     "output_type": "execute_result"
    },
    {
     "name": "stdout",
     "output_type": "stream",
     "text": [
      "a [1, 2, 3]\n"
     ]
    }
   ],
   "source": [
    "# subclassing built-in types are most subtle since a lot of methods are implemented in C and won't use other python methods\n",
    "\n",
    "class MyDict(dict):\n",
    "    def __getitem__(self, key):\n",
    "        value = super().__getitem__(key)\n",
    "        return set(value)\n",
    "\n",
    "d = MyDict(a=[1, 2, 3])\n",
    "d['a']  # works for get item\n",
    "\n",
    "for k, v in d.items():\n",
    "    print(k, v)  # overriding not applied here, actually .item() is not using __getitem__\n",
    "\n",
    "# in such way it's not possible to implement only the key methods and have others implied from compositions"
   ]
  },
  {
   "cell_type": "code",
   "execution_count": 76,
   "metadata": {
    "tags": []
   },
   "outputs": [
    {
     "data": {
      "text/plain": [
       "True"
      ]
     },
     "execution_count": 76,
     "metadata": {},
     "output_type": "execute_result"
    },
    {
     "data": {
      "text/plain": [
       "{1, 2, 3}"
      ]
     },
     "execution_count": 76,
     "metadata": {},
     "output_type": "execute_result"
    },
    {
     "name": "stdout",
     "output_type": "stream",
     "text": [
      "a {1, 2, 3}\n"
     ]
    }
   ],
   "source": [
    "# subclassing built-in classes is not recommended\n",
    "# collections.abc contain abstract classes that requires a minimal set of method and will extend the other through compositions\n",
    "# they replicate the behaviour of common built-in types\n",
    "\n",
    "\n",
    "# example\n",
    "from collections.abc import MutableMapping\n",
    "\n",
    "# MutableMapping requires abstract method implementation for __getitem__, __setitem__, __delitem__, __len__, insert\n",
    "# all other method will be implied\n",
    "\n",
    "# can also be used to check objects for the implementation of the class behaviour\n",
    "isinstance({'a': 1}, MutableMapping)\n",
    "\n",
    "\n",
    "class MyDict(MutableMapping):   # using composition + collection.abc to 'subclass' built-in dict \n",
    "    def __init__(self, *args, **kwargs):  # pass constructor to dict()\n",
    "        self._storage = dict(*args, **kwargs)\n",
    "\n",
    "    def __setitem__(self, key, value):  # just pass the method to the internal base class variable (for those that we don't want to adjust)\n",
    "        self._storage.__setitem__(key, value)\n",
    "\n",
    "    def __getitem__(self, key):  # reimplement the method that we want to adjust\n",
    "        return set(self._storage.__getitem__(key))\n",
    "\n",
    "    def __delitem__(self, key):\n",
    "        self._storage.__delitem__(key)\n",
    "\n",
    "    def __iter__(self):\n",
    "        return self._storage.__iter__()\n",
    "    \n",
    "    def __len__(self):\n",
    "        return self._storage.__len__()\n",
    "\n",
    "    # the methods above were compulsory to implement for MutableMapping (we used the dict implementation for most of them, except a custom implementation for __getitem__)\n",
    "\n",
    "    def my_print(self):   # can add new methods\n",
    "        print(self.keys(), self.values())  # keys() and values() already implied by MutableMapping\n",
    "\n",
    "\n",
    "d = MyDict(a=[1, 2, 3])\n",
    "d['a']\n",
    "\n",
    "for k, v in d.items():  # works with modified getitem\n",
    "    print(k, v)"
   ]
  },
  {
   "cell_type": "markdown",
   "metadata": {},
   "source": [
    "Attention: old ABCs from collections (like UserDict) are deprecated and must not be used. Use only ABCs from collections.abc"
   ]
  },
  {
   "cell_type": "code",
   "execution_count": 86,
   "metadata": {
    "tags": []
   },
   "outputs": [
    {
     "data": {
      "text/plain": [
       "2"
      ]
     },
     "execution_count": 86,
     "metadata": {},
     "output_type": "execute_result"
    },
    {
     "data": {
      "text/plain": [
       "[2, 3]"
      ]
     },
     "execution_count": 86,
     "metadata": {},
     "output_type": "execute_result"
    },
    {
     "data": {
      "text/plain": [
       "True"
      ]
     },
     "execution_count": 86,
     "metadata": {},
     "output_type": "execute_result"
    },
    {
     "name": "stdout",
     "output_type": "stream",
     "text": [
      "1\n",
      "2\n",
      "3\n"
     ]
    }
   ],
   "source": [
    "# extending built-in list with set intersection operators\n",
    "from collections.abc import Sequence\n",
    "# Sequence must implement __getitem__ and __len__\n",
    "\n",
    "class MyList(Sequence):\n",
    "\n",
    "    def __init__(self, *args, **kwargs):  # passing contruction to list() and store in a private field\n",
    "        self._storage = list(*args, **kwargs)\n",
    "    \n",
    "    def __len__(self):\n",
    "        return self._storage.__len__()\n",
    "\n",
    "    def __getitem__(self, i):  # abstract Sequence methods are implemented (passed to list)\n",
    "        return self._storage.__getitem__(i)\n",
    "\n",
    "    def __and__(self, other):  # new set intersection operator\n",
    "        return list(set(self._storage) & set(other))\n",
    "    \n",
    "    def __rand__(self, other):  # RHS operator version (to do e.g. [1, 2, 3] & my_list)\n",
    "        return self.__and__(other)\n",
    "\n",
    "lst = MyList([1, 2, 3])\n",
    "lst[1]\n",
    "lst & [2, 3, 4]\n",
    "\n",
    "# usual sequence method (implied by Sequence interface)\n",
    "1 in lst  # __contains__\n",
    "for x in lst:  # __iter__\n",
    "    print(x)"
   ]
  }
 ],
 "metadata": {
  "kernelspec": {
   "display_name": "Python 3.8.3 64-bit ('base': conda)",
   "language": "python",
   "name": "python38364bitbaseconda7f1a1ec8d02b46548ff265219daefbaf"
  },
  "language_info": {
   "codemirror_mode": {
    "name": "ipython",
    "version": 3
   },
   "file_extension": ".py",
   "mimetype": "text/x-python",
   "name": "python",
   "nbconvert_exporter": "python",
   "pygments_lexer": "ipython3",
   "version": "3.8.3"
  }
 },
 "nbformat": 4,
 "nbformat_minor": 4
}
