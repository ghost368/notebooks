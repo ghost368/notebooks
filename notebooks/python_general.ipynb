{
 "metadata": {
  "language_info": {
   "codemirror_mode": {
    "name": "ipython",
    "version": 3
   },
   "file_extension": ".py",
   "mimetype": "text/x-python",
   "name": "python",
   "nbconvert_exporter": "python",
   "pygments_lexer": "ipython3",
   "version": 3
  },
  "orig_nbformat": 2,
  "kernelspec": {
   "name": "python_defaultSpec_1596359123519",
   "display_name": "Python 3.8.3 64-bit ('.env': conda)"
  }
 },
 "nbformat": 4,
 "nbformat_minor": 2,
 "cells": [
  {
   "cell_type": "code",
   "execution_count": 13,
   "metadata": {},
   "outputs": [],
   "source": [
    "from IPython.core.interactiveshell import InteractiveShell\n",
    "InteractiveShell.ast_node_interactivity = \"all\""
   ]
  },
  {
   "cell_type": "markdown",
   "metadata": {},
   "source": [
    "## Itertools"
   ]
  },
  {
   "cell_type": "code",
   "execution_count": 1,
   "metadata": {},
   "outputs": [],
   "source": [
    "import itertools as it"
   ]
  },
  {
   "cell_type": "markdown",
   "metadata": {},
   "source": [
    "## Built-in tools"
   ]
  },
  {
   "cell_type": "code",
   "execution_count": 2,
   "metadata": {
    "tags": []
   },
   "outputs": [
    {
     "output_type": "stream",
     "name": "stdout",
     "text": "Getting name\nAdam\nSetting name to John\nDeleting name\n"
    }
   ],
   "source": [
    "# @property\n",
    "# allows to define setter, getter and deleter for a class field\n",
    "\n",
    "# old way (very low-level way : using __setattr__, __getattr__ etc)\n",
    "class Person:\n",
    "    def __init__(self, name):\n",
    "        self._name = name\n",
    "\n",
    "    def get_name(self):\n",
    "        print('Getting name')\n",
    "        return self._name\n",
    "\n",
    "    def set_name(self, value):\n",
    "        print('Setting name to ' + value)\n",
    "        self._name = value\n",
    "\n",
    "    def del_name(self):\n",
    "        print('Deleting name')\n",
    "        del self._name\n",
    "\n",
    "    # Set property to use get_name, set_name\n",
    "    # and del_name methods\n",
    "    name = property(get_name, set_name, del_name, 'Name property')\n",
    "\n",
    "p = Person('Adam')\n",
    "print(p.name)\n",
    "p.name = 'John'\n",
    "del p.name"
   ]
  },
  {
   "cell_type": "code",
   "execution_count": 3,
   "metadata": {
    "tags": []
   },
   "outputs": [
    {
     "output_type": "stream",
     "name": "stdout",
     "text": "Getting name\nThe name is: Adam\nSetting name to John\nDeleting name\n"
    }
   ],
   "source": [
    "# using @property decorator\n",
    "\n",
    "class Person:\n",
    "    def __init__(self, name):\n",
    "        self._name = name\n",
    "\n",
    "    @property\n",
    "    def name(self):\n",
    "        print('Getting name')\n",
    "        return self._name\n",
    "\n",
    "    @name.setter\n",
    "    def name(self, value):\n",
    "        print('Setting name to ' + value)\n",
    "        self._name = value\n",
    "\n",
    "    @name.deleter\n",
    "    def name(self):\n",
    "        print('Deleting name')\n",
    "        del self._name\n",
    "\n",
    "p = Person('Adam')\n",
    "print('The name is:', p.name)\n",
    "p.name = 'John'\n",
    "del p.name\n",
    "\n",
    "# don't need to use () around property"
   ]
  },
  {
   "cell_type": "markdown",
   "metadata": {},
   "source": [
    "## Functools"
   ]
  },
  {
   "cell_type": "code",
   "execution_count": 26,
   "metadata": {},
   "outputs": [],
   "source": [
    "from functools import cached_property, lru_cache, partial, partialmethod, reduce"
   ]
  },
  {
   "cell_type": "code",
   "execution_count": 14,
   "metadata": {},
   "outputs": [
    {
     "output_type": "execute_result",
     "data": {
      "text/plain": "10"
     },
     "metadata": {},
     "execution_count": 14
    },
    {
     "output_type": "execute_result",
     "data": {
      "text/plain": "3.0244932174682617"
     },
     "metadata": {},
     "execution_count": 14
    },
    {
     "output_type": "execute_result",
     "data": {
      "text/plain": "10"
     },
     "metadata": {},
     "execution_count": 14
    },
    {
     "output_type": "execute_result",
     "data": {
      "text/plain": "0.0379331111907959"
     },
     "metadata": {},
     "execution_count": 14
    }
   ],
   "source": [
    "# @cached_property - caches the output of an expensive class method (that uses only instance data - thus has to be calculated only once)\n",
    "import time\n",
    "\n",
    "class Dataset:\n",
    "\n",
    "    def __init__(self, data):\n",
    "        self._data = data\n",
    "    \n",
    "    @cached_property\n",
    "    def fun(self):\n",
    "        time.sleep(3)\n",
    "        return self._data\n",
    "    \n",
    "inst = Dataset(10)\n",
    "start = time.time()\n",
    "inst.fun  # fun is applied, but don't need to use ()\n",
    "time.time() - start\n",
    "new_start = time.time()\n",
    "inst.fun  # cache is applied\n",
    "time.time() - new_start"
   ]
  },
  {
   "cell_type": "code",
   "execution_count": 18,
   "metadata": {},
   "outputs": [
    {
     "output_type": "execute_result",
     "data": {
      "text/plain": "[0, 1, 1, 2, 3, 5, 8, 13, 21, 34, 55, 89, 144, 233, 377, 610]"
     },
     "metadata": {},
     "execution_count": 18
    },
    {
     "output_type": "execute_result",
     "data": {
      "text/plain": "CacheInfo(hits=28, misses=16, maxsize=128, currsize=16)"
     },
     "metadata": {},
     "execution_count": 18
    },
    {
     "output_type": "execute_result",
     "data": {
      "text/plain": "CacheInfo(hits=0, misses=0, maxsize=128, currsize=0)"
     },
     "metadata": {},
     "execution_count": 18
    }
   ],
   "source": [
    "# @lru.cache - caches certain number of recent function calls, so don't have to run the func all over again\n",
    "# args: maxsize - max number of cached argument sets (default 128, unlimited cache if None)\n",
    "#       typed - if True f(3) and f(3.0) will be stored separately, since the inputs, though the same, have different type, default False\n",
    "\n",
    "# cache is stored via a dict -> all arguments must be hashable (e.g. list won't work)\n",
    "# f(a=4, b=5) and f(b=5, a=4) will be stored separately\n",
    "\n",
    "# LRU means Least Recently Used\n",
    "\n",
    "#example\n",
    "@lru_cache\n",
    "def fib(n):\n",
    "    if n < 2:\n",
    "        return n\n",
    "    return fib(n-1) + fib(n-2)\n",
    "\n",
    "[fib(n) for n in range(16)]\n",
    "\n",
    "fib.cache_info()  # info on the cache and call history so far\n",
    "fib.cache_clear()  # clear all cache\n",
    "fib.cache_info()\n",
    "\n",
    "# lru_cache only works within the same process (values won't be saved after the process is closed); for permanent cache need to use custom tools (maybe simple save result in a file, then read if file exists, see also percache lib on pypi and similar)"
   ]
  },
  {
   "cell_type": "markdown",
   "metadata": {},
   "source": [
    "```@functools.total_ordering``` : when providing one of __lt__(), __le__(), __gt__(), or __ge__() and __eq__() to the class, it reconstructs the rest (e.g. >, >= etc from just < and =)"
   ]
  },
  {
   "cell_type": "code",
   "execution_count": 32,
   "metadata": {},
   "outputs": [
    {
     "output_type": "execute_result",
     "data": {
      "text/plain": "-1"
     },
     "metadata": {},
     "execution_count": 32
    },
    {
     "output_type": "execute_result",
     "data": {
      "text/plain": "<function __main__.f(x, y)>"
     },
     "metadata": {},
     "execution_count": 32
    },
    {
     "output_type": "execute_result",
     "data": {
      "text/plain": "()"
     },
     "metadata": {},
     "execution_count": 32
    },
    {
     "output_type": "execute_result",
     "data": {
      "text/plain": "{'y': 4}"
     },
     "metadata": {},
     "execution_count": 32
    }
   ],
   "source": [
    "# functools.partial : freezes some portion of the arguments\n",
    "# partial(func, /, *args, **keywords)\n",
    "\n",
    "def f(x, y):\n",
    "    return x-y\n",
    "\n",
    "f_partial = partial(f, y=4)\n",
    "f_partial(3)\n",
    "\n",
    "# partial returns a callable object which contains the following fields\n",
    "f_partial.func\n",
    "f_partial.args\n",
    "f_partial.keywords"
   ]
  },
  {
   "cell_type": "code",
   "execution_count": 23,
   "metadata": {},
   "outputs": [
    {
     "output_type": "execute_result",
     "data": {
      "text/plain": "False"
     },
     "metadata": {},
     "execution_count": 23
    },
    {
     "output_type": "execute_result",
     "data": {
      "text/plain": "True"
     },
     "metadata": {},
     "execution_count": 23
    }
   ],
   "source": [
    "# functools.partialmethod : like partial but for class methods\n",
    "\n",
    "class Cell(object):\n",
    "    def __init__(self):\n",
    "        self._alive = False\n",
    "\n",
    "    @property\n",
    "    def alive(self):\n",
    "        return self._alive\n",
    "\n",
    "    def set_state(self, state):\n",
    "        self._alive = bool(state)\n",
    "\n",
    "    set_alive = partialmethod(set_state, True)\n",
    "    set_dead = partialmethod(set_state, False)\n",
    "\n",
    "c = Cell()\n",
    "c.alive\n",
    "c.set_alive()\n",
    "c.alive"
   ]
  },
  {
   "cell_type": "code",
   "execution_count": 27,
   "metadata": {},
   "outputs": [
    {
     "output_type": "execute_result",
     "data": {
      "text/plain": "15"
     },
     "metadata": {},
     "execution_count": 27
    }
   ],
   "source": [
    "# function.reduce : apply function of two arguments cumulatively to the items of iterable, from left to right, so as to reduce the iterable to a single value\n",
    "\n",
    "reduce(lambda x, y: x+y, [1, 2, 3, 4, 5])"
   ]
  },
  {
   "cell_type": "code",
   "execution_count": 29,
   "metadata": {},
   "outputs": [],
   "source": [
    "# functools.wraps : recommended to use when constructing other decorators to automatically adjust new function metadata\n",
    "\n",
    "from functools import wraps\n",
    "def my_decorator(f):\n",
    "    @wraps(f)\n",
    "    def wrapper(*args, **kwds):\n",
    "        print('Calling decorated function')\n",
    "        return f(*args, **kwds)\n",
    "    return wrapper\n",
    "\n",
    "@my_decorator\n",
    "def example():\n",
    "    \"\"\"Docstring\"\"\"\n",
    "    print('Called example function')"
   ]
  },
  {
   "cell_type": "markdown",
   "metadata": {},
   "source": [
    "## Operator"
   ]
  },
  {
   "cell_type": "code",
   "execution_count": 34,
   "metadata": {},
   "outputs": [
    {
     "output_type": "execute_result",
     "data": {
      "text/plain": "True"
     },
     "metadata": {},
     "execution_count": 34
    }
   ],
   "source": [
    "import operator  # contains standard operators in functional form\n",
    "\n",
    "operator.le(4, 5)\n",
    "\n",
    "# others are eq, ne, ge, gt, is  and many others, see https://docs.python.org/3/library/operator.html"
   ]
  },
  {
   "cell_type": "markdown",
   "metadata": {},
   "source": [
    "## Collections\n",
    "\n",
    "In addition to built-in containers ```list, tuple, dict, set``` implements\n",
    "```namedtuple, deque, Counter, OrderedDict, defaultdict```"
   ]
  },
  {
   "cell_type": "code",
   "execution_count": 37,
   "metadata": {},
   "outputs": [],
   "source": [
    "from collections import Counter, namedtuple, deque, OrderedDict, defaultdict"
   ]
  },
  {
   "cell_type": "markdown",
   "metadata": {},
   "source": [
    "Counter"
   ]
  },
  {
   "cell_type": "code",
   "execution_count": 49,
   "metadata": {},
   "outputs": [
    {
     "output_type": "execute_result",
     "data": {
      "text/plain": "Counter({1: 2, 2: 2, 3: 5, 4: 3, 5: 2, 6: 1})"
     },
     "metadata": {},
     "execution_count": 49
    },
    {
     "output_type": "execute_result",
     "data": {
      "text/plain": "Counter({1: 4, 2: 2, 3: 5, 4: 3, 5: 2, 6: 1})"
     },
     "metadata": {},
     "execution_count": 49
    },
    {
     "output_type": "execute_result",
     "data": {
      "text/plain": "[1, 1, 1, 1, 2, 2, 3, 3, 3, 3, 3, 4, 4, 4, 5, 5, 6]"
     },
     "metadata": {},
     "execution_count": 49
    },
    {
     "output_type": "execute_result",
     "data": {
      "text/plain": "[(3, 5), (1, 4)]"
     },
     "metadata": {},
     "execution_count": 49
    },
    {
     "output_type": "execute_result",
     "data": {
      "text/plain": "Counter({1: 2, 2: 1, 3: 5, 4: 3, 5: 2, 6: 1})"
     },
     "metadata": {},
     "execution_count": 49
    },
    {
     "output_type": "execute_result",
     "data": {
      "text/plain": "Counter({1: 2, 2: 2, 3: 6, 4: 4, 5: 2, 6: 1})"
     },
     "metadata": {},
     "execution_count": 49
    }
   ],
   "source": [
    "# Counter\n",
    "\n",
    "data = [1, 2, 2, 1, 3, 3, 3, 4, 3, 4, 5, 6, 5, 4, 3]\n",
    "ctr = Counter(data)\n",
    "\n",
    "ctr\n",
    "ctr[1] = 4  # can modify ctr as dict\n",
    "ctr\n",
    "\n",
    "list(ctr.elements())\n",
    "ctr.most_common(2)\n",
    "\n",
    "ctr.subtract(Counter([1, 1, 2]))  # subtract one counter from another inplace\n",
    "ctr\n",
    "\n",
    "ctr.update([2, 3, 4])  # update counter using new iterable or another counter\n",
    "ctr"
   ]
  },
  {
   "cell_type": "code",
   "execution_count": 50,
   "metadata": {},
   "outputs": [
    {
     "output_type": "execute_result",
     "data": {
      "text/plain": "Counter({'a': 4, 'b': 3})"
     },
     "metadata": {},
     "execution_count": 50
    },
    {
     "output_type": "execute_result",
     "data": {
      "text/plain": "Counter({'a': 4, 'b': 5})"
     },
     "metadata": {},
     "execution_count": 50
    }
   ],
   "source": [
    "Counter(a=4, b=3)  # can construct counters directly\n",
    "Counter({'a':4, 'b':5})"
   ]
  },
  {
   "cell_type": "code",
   "execution_count": 51,
   "metadata": {},
   "outputs": [
    {
     "output_type": "execute_result",
     "data": {
      "text/plain": "dict_values([2, 2, 6, 4, 2, 1])"
     },
     "metadata": {},
     "execution_count": 51
    }
   ],
   "source": [
    "ctr.values()"
   ]
  },
  {
   "cell_type": "code",
   "execution_count": 56,
   "metadata": {},
   "outputs": [
    {
     "output_type": "execute_result",
     "data": {
      "text/plain": "11"
     },
     "metadata": {},
     "execution_count": 56
    },
    {
     "output_type": "execute_result",
     "data": {
      "text/plain": "[]"
     },
     "metadata": {},
     "execution_count": 56
    },
    {
     "output_type": "execute_result",
     "data": {
      "text/plain": "set()"
     },
     "metadata": {},
     "execution_count": 56
    },
    {
     "output_type": "execute_result",
     "data": {
      "text/plain": "{}"
     },
     "metadata": {},
     "execution_count": 56
    },
    {
     "output_type": "execute_result",
     "data": {
      "text/plain": "dict_items([])"
     },
     "metadata": {},
     "execution_count": 56
    },
    {
     "output_type": "execute_result",
     "data": {
      "text/plain": "Counter({'a': 4, 'b': 2})"
     },
     "metadata": {},
     "execution_count": 56
    },
    {
     "output_type": "execute_result",
     "data": {
      "text/plain": "[]"
     },
     "metadata": {},
     "execution_count": 56
    }
   ],
   "source": [
    "c = Counter([1, 2, 3, 2, 1, 3, 4, 3, 4, 2, 5])\n",
    "\n",
    "# common patterns with counters\n",
    "sum(c.values())                 # total of all counts\n",
    "c.clear()                       # reset all counts\n",
    "list(c)                         # list unique elements\n",
    "set(c)                          # convert to a set\n",
    "dict(c)                         # convert to a regular dictionary\n",
    "c.items()                       # convert to a list of (elem, cnt) pairs\n",
    "Counter(dict([('a', 4), ('b', 2)]))    # convert from a list of (elem, cnt) pairs\n",
    "\n",
    "n=2\n",
    "c.most_common()[:-n-1:-1]       # n least common elements\n",
    "c += Counter()                  # remove zero and negative counts"
   ]
  },
  {
   "cell_type": "code",
   "execution_count": 57,
   "metadata": {},
   "outputs": [
    {
     "output_type": "execute_result",
     "data": {
      "text/plain": "Counter({'a': 4, 'b': 3})"
     },
     "metadata": {},
     "execution_count": 57
    },
    {
     "output_type": "execute_result",
     "data": {
      "text/plain": "Counter({'a': 2})"
     },
     "metadata": {},
     "execution_count": 57
    },
    {
     "output_type": "execute_result",
     "data": {
      "text/plain": "Counter({'a': 1, 'b': 1})"
     },
     "metadata": {},
     "execution_count": 57
    },
    {
     "output_type": "execute_result",
     "data": {
      "text/plain": "Counter({'a': 3, 'b': 2})"
     },
     "metadata": {},
     "execution_count": 57
    }
   ],
   "source": [
    "# multiset operations\n",
    "\n",
    "c = Counter(a=3, b=1)\n",
    "d = Counter(a=1, b=2)\n",
    "\n",
    "c+d\n",
    "c-d  # counts truncated at zero\n",
    "c&d\n",
    "c|d\n",
    "\n",
    "# Counter was designed for counting, but values can be any objects, not necessarily integers"
   ]
  },
  {
   "cell_type": "markdown",
   "metadata": {},
   "source": [
    "defaultdict"
   ]
  },
  {
   "cell_type": "code",
   "execution_count": 69,
   "metadata": {},
   "outputs": [
    {
     "output_type": "execute_result",
     "data": {
      "text/plain": "defaultdict(<function __main__.default()>, {'a': 9})"
     },
     "metadata": {},
     "execution_count": 69
    },
    {
     "output_type": "execute_result",
     "data": {
      "text/plain": "9"
     },
     "metadata": {},
     "execution_count": 69
    },
    {
     "output_type": "execute_result",
     "data": {
      "text/plain": "4"
     },
     "metadata": {},
     "execution_count": 69
    },
    {
     "output_type": "execute_result",
     "data": {
      "text/plain": "defaultdict(<function __main__.default()>, {'a': 9, 'b': 4})"
     },
     "metadata": {},
     "execution_count": 69
    }
   ],
   "source": [
    "def default():  # can be any function w/o arguments\n",
    "    return 4\n",
    "\n",
    "d = defaultdict(default)\n",
    "d['a'] = 9\n",
    "d\n",
    "\n",
    "d['a']\n",
    "d['b']  # for a missing key, an entry with default value is automatically added\n",
    "d"
   ]
  },
  {
   "cell_type": "markdown",
   "metadata": {},
   "source": [
    "namedtuple"
   ]
  },
  {
   "cell_type": "code",
   "execution_count": 80,
   "metadata": {},
   "outputs": [
    {
     "output_type": "execute_result",
     "data": {
      "text/plain": "4"
     },
     "metadata": {},
     "execution_count": 80
    },
    {
     "output_type": "execute_result",
     "data": {
      "text/plain": "5"
     },
     "metadata": {},
     "execution_count": 80
    },
    {
     "output_type": "execute_result",
     "data": {
      "text/plain": "5"
     },
     "metadata": {},
     "execution_count": 80
    },
    {
     "output_type": "execute_result",
     "data": {
      "text/plain": "Point(x=4, y=12)"
     },
     "metadata": {},
     "execution_count": 80
    }
   ],
   "source": [
    "Point = namedtuple('Point', ['x', 'y'])  # fast way to create simple structs\n",
    "# namedtuple returns a new tuple subclass called Point (like the first arg)\n",
    "\n",
    "pt = Point(4, 5)\n",
    "\n",
    "pt.x\n",
    "pt.y\n",
    "pt[1]  # standard tuple functionality is all still there\n",
    "\n",
    "# for short var names can simply pass a single str, like this\n",
    "Point = namedtuple('Point', 'x y')\n",
    "\n",
    "d = dict(x=4, y=12)\n",
    "Point(**d)  # dict to namedtuple"
   ]
  },
  {
   "cell_type": "markdown",
   "metadata": {},
   "source": [
    "OrderedDict"
   ]
  },
  {
   "cell_type": "code",
   "execution_count": 86,
   "metadata": {},
   "outputs": [
    {
     "output_type": "execute_result",
     "data": {
      "text/plain": "OrderedDict([('a', 4), ('b', 5), ('c', 7)])"
     },
     "metadata": {},
     "execution_count": 86
    },
    {
     "output_type": "execute_result",
     "data": {
      "text/plain": "('c', 7)"
     },
     "metadata": {},
     "execution_count": 86
    },
    {
     "output_type": "execute_result",
     "data": {
      "text/plain": "OrderedDict([('a', 4), ('b', 5)])"
     },
     "metadata": {},
     "execution_count": 86
    },
    {
     "output_type": "execute_result",
     "data": {
      "text/plain": "('a', 4)"
     },
     "metadata": {},
     "execution_count": 86
    },
    {
     "output_type": "execute_result",
     "data": {
      "text/plain": "OrderedDict([('b', 5)])"
     },
     "metadata": {},
     "execution_count": 86
    }
   ],
   "source": [
    "# like dict by remembers the order of insertion\n",
    "ord_dict = OrderedDict()\n",
    "ord_dict['a'] = 4\n",
    "ord_dict['b'] = 5\n",
    "ord_dict['c'] = 7\n",
    "\n",
    "ord_dict\n",
    "ord_dict.popitem()  # get and remove the last inserted item (LIFO)\n",
    "ord_dict\n",
    "ord_dict.popitem(last=False)  # same with the first (FIFO) if last=False\n",
    "ord_dict"
   ]
  },
  {
   "cell_type": "markdown",
   "metadata": {},
   "source": [
    "collections provide various ABCs like Iterable, Iterator, Container etc (similar may be available in typing - for type check; those from collections should be used for creating concrete subclasses)"
   ]
  },
  {
   "cell_type": "markdown",
   "metadata": {},
   "source": [
    "## Typing"
   ]
  },
  {
   "cell_type": "code",
   "execution_count": 89,
   "metadata": {},
   "outputs": [],
   "source": [
    "# type hints\n",
    "def f(x: str, y: bool) -> int:\n",
    "    if y:\n",
    "        return len(x)\n",
    "    else:\n",
    "        return 0"
   ]
  },
  {
   "cell_type": "markdown",
   "metadata": {},
   "source": [
    "Type hints:\n",
    "* can be added for critical components and ignored for private functions\n",
    "* will not change the code behaviour\n",
    "* useful in small scripts that will be only used once\n",
    "* valuable in the shared, complex or production code that will be maintained later\n",
    "* tools such as mypy help to show hints related to typing\n",
    "\n",
    "A rule of thumb is that type hint is necessary when a unit test is necessary for a function; another criteria is if the function is public or private (starts with _ and is only for internal class/module use)"
   ]
  },
  {
   "cell_type": "markdown",
   "metadata": {},
   "source": [
    "**typing** module provides type aliases for type hints and checks"
   ]
  },
  {
   "cell_type": "code",
   "execution_count": 90,
   "metadata": {},
   "outputs": [
    {
     "output_type": "execute_result",
     "data": {
      "text/plain": "typing.List[str]"
     },
     "metadata": {},
     "execution_count": 90
    },
    {
     "output_type": "execute_result",
     "data": {
      "text/plain": "typing.Dict[str, int]"
     },
     "metadata": {},
     "execution_count": 90
    },
    {
     "output_type": "execute_result",
     "data": {
      "text/plain": "typing.Sequence[float]"
     },
     "metadata": {},
     "execution_count": 90
    },
    {
     "output_type": "execute_result",
     "data": {
      "text/plain": "typing.Union[typing.List[float], float]"
     },
     "metadata": {},
     "execution_count": 90
    }
   ],
   "source": [
    "# provides types for general objects\n",
    "from typing import List, Tuple, Dict, Sequence, Callable, Iterable, Iterator\n",
    "\n",
    "# and ways to combine them\n",
    "from typing import Union, Optional\n",
    "\n",
    "# can do e.g.\n",
    "List[str]\n",
    "Dict[str, int]\n",
    "Sequence[float]\n",
    "Union[List[float], float]\n",
    "\n",
    "# many more are available here https://docs.python.org/3/library/typing.html\n",
    "# it's often possible to match exactly the needed type"
   ]
  },
  {
   "cell_type": "code",
   "execution_count": 94,
   "metadata": {},
   "outputs": [
    {
     "output_type": "execute_result",
     "data": {
      "text/plain": "True"
     },
     "metadata": {},
     "execution_count": 94
    },
    {
     "output_type": "execute_result",
     "data": {
      "text/plain": "typing.Literal['USD', 'GBP', 'EUR']"
     },
     "metadata": {},
     "execution_count": 94
    }
   ],
   "source": [
    "from typing import SupportsInt, Literal\n",
    "\n",
    "isinstance(4, SupportsInt)  # check if there's int() method\n",
    "\n",
    "Currency = Literal['USD', 'GBP', 'EUR']  # type for restricted list of strings (not any string)\n",
    "Currency"
   ]
  },
  {
   "cell_type": "markdown",
   "metadata": {},
   "source": [
    "## Special methods\n",
    "\n",
    "like ```__init__``` or ```__add__``` - they have special meaning inside a class"
   ]
  },
  {
   "cell_type": "markdown",
   "metadata": {},
   "source": [
    "### string representations\n",
    "\n",
    "* ```__repr__``` - display on console or repr()\n",
    "* ```__str__``` - str()\n",
    "\n",
    "### maths operators\n",
    "*  ```__add__, __sub__, __mul__, __truediv__, __pow__```\n",
    "* ```__and__, __or__, __xor__``` etc, - logical operators\n",
    "\n",
    "### container-like class\n",
    "* ```__len__``` - len()\n",
    "* ```__getitem__``` - x[item]\n",
    "* ```__setitem__``` - x[item] = value\n",
    "* ```__contains__``` - item in x\n",
    "* ```__iter__``` - iter(), get a new iterator from the container, e.g. in the for loop (for item in x: ...)\n",
    "* ```__next__``` - next step in an iterator object\n",
    "\n",
    "### more\n",
    "* ```__bytes__``` - computes bytestring representation, must return bytestring\n",
    "* ```__lt__, __eq__, ```etc - comparisons (mb used together with @total_ordering)\n",
    "* ```__hash__``` - hash map \n",
    "* ```__getattr__, __getattribute__``` - getting attribute, ```__getattr__``` is applied after ```__getattribute__``` fails or throws ```AttributeError``` (so that dot-access can be used inside getattr, would lead to an inf loop in certain cases otherwise)\n",
    "* ```__setattr__, __delattr__``` - set or delete attribute, x.item = value; del x.item\n",
    "* ```__call__``` - to emulate a callable object\n",
    "* ```__enter__, __exit__``` - context managers (low-level definition, better to use @contextmanager)\n",
    "\n"
   ]
  },
  {
   "cell_type": "markdown",
   "metadata": {},
   "source": [
    "## Inheritance from basic types. Using abc\n",
    "\n",
    "very good article : https://treyhunner.com/2019/04/why-you-shouldnt-inherit-from-list-and-dict-in-python/\n",
    "work through and create some examples"
   ]
  },
  {
   "cell_type": "code",
   "execution_count": 96,
   "metadata": {
    "tags": []
   },
   "outputs": [
    {
     "output_type": "stream",
     "name": "stdout",
     "text": "b\nc\na\n"
    }
   ],
   "source": [
    "# set is iterable, save lists of str in a set if each element is supposed to be unique\n",
    "\n",
    "for s in {'a', 'b', 'c'}:\n",
    "    print(s)"
   ]
  },
  {
   "cell_type": "code",
   "execution_count": 97,
   "metadata": {},
   "outputs": [],
   "source": [
    "import pandas as pd"
   ]
  },
  {
   "cell_type": "code",
   "execution_count": 100,
   "metadata": {},
   "outputs": [],
   "source": [
    "x = pd.DataFrame([[1, 2, 3], [4, 3, 5]]).T"
   ]
  },
  {
   "cell_type": "code",
   "execution_count": 101,
   "metadata": {},
   "outputs": [
    {
     "output_type": "execute_result",
     "data": {
      "text/plain": "   0  1\n0  1  4\n1  2  3\n2  3  5",
      "text/html": "<div>\n<style scoped>\n    .dataframe tbody tr th:only-of-type {\n        vertical-align: middle;\n    }\n\n    .dataframe tbody tr th {\n        vertical-align: top;\n    }\n\n    .dataframe thead th {\n        text-align: right;\n    }\n</style>\n<table border=\"1\" class=\"dataframe\">\n  <thead>\n    <tr style=\"text-align: right;\">\n      <th></th>\n      <th>0</th>\n      <th>1</th>\n    </tr>\n  </thead>\n  <tbody>\n    <tr>\n      <th>0</th>\n      <td>1</td>\n      <td>4</td>\n    </tr>\n    <tr>\n      <th>1</th>\n      <td>2</td>\n      <td>3</td>\n    </tr>\n    <tr>\n      <th>2</th>\n      <td>3</td>\n      <td>5</td>\n    </tr>\n  </tbody>\n</table>\n</div>"
     },
     "metadata": {},
     "execution_count": 101
    }
   ],
   "source": [
    "x"
   ]
  },
  {
   "cell_type": "code",
   "execution_count": 104,
   "metadata": {},
   "outputs": [
    {
     "output_type": "execute_result",
     "data": {
      "text/plain": "Int64Index([1, 2], dtype='int64')"
     },
     "metadata": {},
     "execution_count": 104
    }
   ],
   "source": [
    "x.index.intersection({1, 2})"
   ]
  },
  {
   "cell_type": "code",
   "execution_count": null,
   "metadata": {},
   "outputs": [],
   "source": []
  }
 ]
}