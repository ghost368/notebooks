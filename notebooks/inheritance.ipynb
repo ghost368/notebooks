{
 "metadata": {
  "language_info": {
   "codemirror_mode": {
    "name": "ipython",
    "version": 3
   },
   "file_extension": ".py",
   "mimetype": "text/x-python",
   "name": "python",
   "nbconvert_exporter": "python",
   "pygments_lexer": "ipython3",
   "version": 3
  },
  "orig_nbformat": 2,
  "kernelspec": {
   "name": "python_defaultSpec_1596629976401",
   "display_name": "Python 3.8.3 64-bit ('.env': conda)"
  }
 },
 "nbformat": 4,
 "nbformat_minor": 2,
 "cells": [
  {
   "cell_type": "code",
   "execution_count": 32,
   "metadata": {},
   "outputs": [],
   "source": [
    "from IPython.core.interactiveshell import InteractiveShell\n",
    "InteractiveShell.ast_node_interactivity = \"all\""
   ]
  },
  {
   "cell_type": "code",
   "execution_count": 25,
   "metadata": {},
   "outputs": [],
   "source": [
    "class Parent:\n",
    "\n",
    "    def __init__(self, other=None, name=None):\n",
    "        if other:\n",
    "            self._name = other._name\n",
    "            return\n",
    "        if not name:\n",
    "            name = 'noname'\n",
    "        self._name = name\n",
    "\n",
    "    def print_name(self):\n",
    "        print(self._name)\n",
    "\n",
    "\n",
    "class Child(Parent):\n",
    "    def print_name_caps(self):\n",
    "        print(self._name.capitalize())"
   ]
  },
  {
   "cell_type": "code",
   "execution_count": 26,
   "metadata": {
    "tags": []
   },
   "outputs": [
    {
     "output_type": "stream",
     "name": "stdout",
     "text": "Alex\nAlex\n"
    }
   ],
   "source": [
    "p = Parent(name='Alex')\n",
    "p.print_name()\n",
    "\n",
    "\n",
    "p = Parent(p)\n",
    "p.print_name()"
   ]
  },
  {
   "cell_type": "code",
   "execution_count": 27,
   "metadata": {
    "tags": []
   },
   "outputs": [
    {
     "output_type": "stream",
     "name": "stdout",
     "text": "Alex\nAlex\n"
    }
   ],
   "source": [
    "c = Child(p); #('jack')\n",
    "c.print_name()\n",
    "c.print_name_caps()"
   ]
  },
  {
   "cell_type": "code",
   "execution_count": 92,
   "metadata": {},
   "outputs": [],
   "source": [
    "class ListUnique(list):\n",
    "\n",
    "    def __and__(self, other):\n",
    "        return list(set(self) & set(other))\n",
    "    \n",
    "    def __rand__(self, other):\n",
    "        return list(set(self) & set(other))\n"
   ]
  },
  {
   "cell_type": "code",
   "execution_count": 93,
   "metadata": {},
   "outputs": [],
   "source": [
    "x = ListUnique([1, 2, 3])"
   ]
  },
  {
   "cell_type": "code",
   "execution_count": 94,
   "metadata": {
    "tags": []
   },
   "outputs": [
    {
     "output_type": "execute_result",
     "data": {
      "text/plain": "[2, 3]"
     },
     "metadata": {},
     "execution_count": 94
    }
   ],
   "source": [
    "[2, 3, 4] & x"
   ]
  },
  {
   "cell_type": "code",
   "execution_count": 85,
   "metadata": {},
   "outputs": [
    {
     "output_type": "execute_result",
     "data": {
      "text/plain": "__main__.ListSet"
     },
     "metadata": {},
     "execution_count": 85
    },
    {
     "output_type": "execute_result",
     "data": {
      "text/plain": "list"
     },
     "metadata": {},
     "execution_count": 85
    },
    {
     "output_type": "execute_result",
     "data": {
      "text/plain": "[1, 2, 3]"
     },
     "metadata": {},
     "execution_count": 85
    }
   ],
   "source": [
    "type(x)\n",
    "\n",
    "y = list(x)\n",
    "type(y)\n",
    "y"
   ]
  },
  {
   "cell_type": "code",
   "execution_count": null,
   "metadata": {},
   "outputs": [],
   "source": []
  }
 ]
}