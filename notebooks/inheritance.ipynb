{
 "metadata": {
  "language_info": {
   "codemirror_mode": {
    "name": "ipython",
    "version": 3
   },
   "file_extension": ".py",
   "mimetype": "text/x-python",
   "name": "python",
   "nbconvert_exporter": "python",
   "pygments_lexer": "ipython3",
   "version": 3
  },
  "orig_nbformat": 2,
  "kernelspec": {
   "name": "python_defaultSpec_1596699825220",
   "display_name": "Python 3.8.3 64-bit ('.env': conda)"
  }
 },
 "nbformat": 4,
 "nbformat_minor": 2,
 "cells": [
  {
   "cell_type": "code",
   "execution_count": 4,
   "metadata": {},
   "outputs": [],
   "source": [
    "from IPython.core.interactiveshell import InteractiveShell\n",
    "InteractiveShell.ast_node_interactivity = \"all\""
   ]
  },
  {
   "cell_type": "code",
   "execution_count": 6,
   "metadata": {},
   "outputs": [],
   "source": [
    "class Parent:\n",
    "\n",
    "    def __init__(self, other=None, name=None):  # only one constructor can be defined, need to treat all cases in it\n",
    "        if other:\n",
    "            self._name = other._name\n",
    "            self._num = 1\n",
    "            return\n",
    "        if not name:\n",
    "            name = 'noname'\n",
    "        self._name = name\n",
    "\n",
    "    def print_name(self):\n",
    "        print(self._name)\n",
    "\n",
    "\n",
    "# child will inherit all parent fields, and all methods to work with them, unless they're overriden\n",
    "class Child(Parent):  \n",
    "    def print_name_caps(self):\n",
    "        print(self._name.capitalize())"
   ]
  },
  {
   "cell_type": "code",
   "execution_count": 2,
   "metadata": {
    "tags": []
   },
   "outputs": [
    {
     "output_type": "stream",
     "name": "stdout",
     "text": "Alex\nAlex\n"
    }
   ],
   "source": [
    "p = Parent(name='Alex')\n",
    "p.print_name()\n",
    "\n",
    "\n",
    "p = Parent(p)\n",
    "p.print_name()"
   ]
  },
  {
   "cell_type": "code",
   "execution_count": 5,
   "metadata": {
    "tags": []
   },
   "outputs": [
    {
     "output_type": "execute_result",
     "data": {
      "text/plain": "1"
     },
     "metadata": {},
     "execution_count": 5
    },
    {
     "output_type": "stream",
     "name": "stdout",
     "text": "Alex\nAlex\n"
    }
   ],
   "source": [
    "c = Child(p)  # since copy constructor is defined in Parent - can create child from Parent \n",
    "\n",
    "c._num\n",
    "\n",
    "c.print_name()\n",
    "c.print_name_caps()"
   ]
  },
  {
   "cell_type": "code",
   "execution_count": 15,
   "metadata": {},
   "outputs": [
    {
     "output_type": "execute_result",
     "data": {
      "text/plain": "2"
     },
     "metadata": {},
     "execution_count": 15
    }
   ],
   "source": [
    "class Child(Parent):  \n",
    "\n",
    "    def __init__(self, other=None, name=None):\n",
    "        super().__init__(other, name)  # use base class constructor\n",
    "        self._num = 2  # complement it with child class code\n",
    "\n",
    "\n",
    "c = Child(p)\n",
    "c._num"
   ]
  },
  {
   "cell_type": "markdown",
   "metadata": {},
   "source": [
    "super() is preferred to use inside child classes. In the above example ```super().__init__``` would be equivalent to ```Parent.__init__```"
   ]
  },
  {
   "cell_type": "code",
   "execution_count": 17,
   "metadata": {},
   "outputs": [
    {
     "output_type": "execute_result",
     "data": {
      "text/plain": "True"
     },
     "metadata": {},
     "execution_count": 17
    }
   ],
   "source": [
    "issubclass(Child, Parent)  # use to check for subclass"
   ]
  },
  {
   "cell_type": "markdown",
   "metadata": {},
   "source": [
    "# explore ABC module"
   ]
  },
  {
   "cell_type": "markdown",
   "metadata": {},
   "source": [
    "composition is always recommeneded instead of inheritance if possible\n",
    "* inheritance may create obscure construction, hard to work with\n",
    "* existing code may check for type, not just use methods of a class, so inheritance won't guarantee that all code used for base class will work for the derived class\n",
    "* instead of inheriting to just add a couple of methods and try to use derived class everywhere instead of base - just write several simple functions (instead of methods) to apply where necessary\n",
    "* try to restrict inheritance to subclassing simple interface (e.g. via abc module), and not existing class that's used in many places already"
   ]
  },
  {
   "cell_type": "code",
   "execution_count": null,
   "metadata": {},
   "outputs": [],
   "source": []
  }
 ]
}