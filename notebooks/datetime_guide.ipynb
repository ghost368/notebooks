{
 "metadata": {
  "language_info": {
   "codemirror_mode": {
    "name": "ipython",
    "version": 3
   },
   "file_extension": ".py",
   "mimetype": "text/x-python",
   "name": "python",
   "nbconvert_exporter": "python",
   "pygments_lexer": "ipython3",
   "version": 3
  },
  "orig_nbformat": 2,
  "kernelspec": {
   "name": "python_defaultSpec_1596464586027",
   "display_name": "Python 3.8.3 64-bit"
  }
 },
 "nbformat": 4,
 "nbformat_minor": 2,
 "cells": [
  {
   "cell_type": "code",
   "execution_count": 10,
   "metadata": {},
   "outputs": [],
   "source": [
    "from IPython.core.interactiveshell import InteractiveShell\n",
    "InteractiveShell.ast_node_interactivity = \"all\""
   ]
  },
  {
   "cell_type": "code",
   "execution_count": 2,
   "metadata": {},
   "outputs": [],
   "source": [
    "import datetime as dt\n",
    "import time"
   ]
  },
  {
   "cell_type": "markdown",
   "metadata": {},
   "source": [
    "* working with datetimes in different timezones is complicated for multiple reasons\n",
    "* one is irregularity of daylight saving time periods - that's why time itself cannot be converted between different timezones without a date (!!!)\n",
    "\n",
    "* all computers count time from Unit epoch instant : 1970-01-01:00-00-00 UTC\n",
    "\n",
    "* UTC is never adjust to daylight saving, etc - the only stable timezone\n",
    "\n",
    "* On 32-bit systems the time will overflow on 19 Jan 2038 - has to be solved in advance (similar to 2K problem)"
   ]
  },
  {
   "cell_type": "code",
   "execution_count": 4,
   "metadata": {},
   "outputs": [
    {
     "output_type": "execute_result",
     "data": {
      "text/plain": "1596465054.7500594"
     },
     "metadata": {},
     "execution_count": 4
    }
   ],
   "source": [
    "time.time()  # number of seconds since Unit epoch"
   ]
  },
  {
   "cell_type": "markdown",
   "metadata": {},
   "source": [
    "* It's preferred to use datetime rather time module\n",
    "* There may be some minor simplifications when dealing with time due to leap seconds, etc"
   ]
  },
  {
   "cell_type": "code",
   "execution_count": 11,
   "metadata": {},
   "outputs": [
    {
     "output_type": "execute_result",
     "data": {
      "text/plain": "datetime.date(2020, 1, 31)"
     },
     "metadata": {},
     "execution_count": 11
    },
    {
     "output_type": "execute_result",
     "data": {
      "text/plain": "datetime.time(13, 14, 31)"
     },
     "metadata": {},
     "execution_count": 11
    },
    {
     "output_type": "execute_result",
     "data": {
      "text/plain": "datetime.datetime(2020, 1, 31, 13, 14, 31)"
     },
     "metadata": {},
     "execution_count": 11
    }
   ],
   "source": [
    "dt.date(year=2020, month=1, day=31)\n",
    "dt.time(hour=13, minute=14, second=31)\n",
    "dt.datetime(year=2020, month=1, day=31, hour=13, minute=14, second=31)"
   ]
  },
  {
   "cell_type": "code",
   "execution_count": 12,
   "metadata": {},
   "outputs": [
    {
     "output_type": "execute_result",
     "data": {
      "text/plain": "datetime.date(2020, 8, 3)"
     },
     "metadata": {},
     "execution_count": 12
    },
    {
     "output_type": "execute_result",
     "data": {
      "text/plain": "datetime.datetime(2020, 8, 3, 15, 37, 30, 50935)"
     },
     "metadata": {},
     "execution_count": 12
    }
   ],
   "source": [
    "dt.date.today()\n",
    "dt.datetime.now()\n",
    "\n",
    "# dt.combine to combine date and time"
   ]
  },
  {
   "cell_type": "code",
   "execution_count": 20,
   "metadata": {},
   "outputs": [
    {
     "output_type": "execute_result",
     "data": {
      "text/plain": "datetime.date(2020, 4, 15)"
     },
     "metadata": {},
     "execution_count": 20
    },
    {
     "output_type": "execute_result",
     "data": {
      "text/plain": "datetime.datetime(2010, 4, 24, 0, 0)"
     },
     "metadata": {},
     "execution_count": 20
    },
    {
     "output_type": "execute_result",
     "data": {
      "text/plain": "'2020-15*04'"
     },
     "metadata": {},
     "execution_count": 20
    }
   ],
   "source": [
    "d = dt.date.fromisoformat('2020-04-15')\n",
    "d\n",
    "\n",
    "dt.datetime.strptime('24/04/2010', r'%d/%m/%Y')  # custom input format\n",
    "\n",
    "d.strftime('%Y-%d*%m')  # custom str output format"
   ]
  },
  {
   "cell_type": "code",
   "execution_count": 26,
   "metadata": {},
   "outputs": [
    {
     "output_type": "execute_result",
     "data": {
      "text/plain": "datetime.timedelta(days=184, seconds=56582, microseconds=891624)"
     },
     "metadata": {},
     "execution_count": 26
    },
    {
     "output_type": "execute_result",
     "data": {
      "text/plain": "datetime.timedelta"
     },
     "metadata": {},
     "execution_count": 26
    },
    {
     "output_type": "execute_result",
     "data": {
      "text/plain": "184"
     },
     "metadata": {},
     "execution_count": 26
    }
   ],
   "source": [
    "# time delta\n",
    "\n",
    "td = dt.datetime.now() - dt.datetime(2020, 2, 1)\n",
    "td\n",
    "type(td)\n",
    "td.days"
   ]
  },
  {
   "cell_type": "code",
   "execution_count": 27,
   "metadata": {},
   "outputs": [],
   "source": [
    "from dateutil import tz"
   ]
  },
  {
   "cell_type": "code",
   "execution_count": 31,
   "metadata": {},
   "outputs": [
    {
     "output_type": "execute_result",
     "data": {
      "text/plain": "tzfile('/usr/share/zoneinfo/Europe/London')"
     },
     "metadata": {},
     "execution_count": 31
    }
   ],
   "source": [
    "lon_tz = tz.gettz('Europe/London')\n",
    "lon_tz"
   ]
  },
  {
   "cell_type": "code",
   "execution_count": 35,
   "metadata": {},
   "outputs": [
    {
     "output_type": "execute_result",
     "data": {
      "text/plain": "datetime.datetime(2010, 12, 21, 0, 0, tzinfo=tzfile('/usr/share/zoneinfo/Europe/London'))"
     },
     "metadata": {},
     "execution_count": 35
    },
    {
     "output_type": "execute_result",
     "data": {
      "text/plain": "'GMT'"
     },
     "metadata": {},
     "execution_count": 35
    }
   ],
   "source": [
    "# datetime with timezone\n",
    "dtz = dt.datetime(2010, 12, 21, tzinfo=lon_tz)\n",
    "dtz\n",
    "\n",
    "dtz.tzname()"
   ]
  },
  {
   "cell_type": "markdown",
   "metadata": {},
   "source": [
    "## naive and aware datetime instances\n",
    "* naive ones don't contain any timezone information\n",
    "* aware ones do\n",
    "* naive instances do not represent well defined moment in time\n",
    "* difference is determined by **tzinfo** attribute\n",
    "* python 3.9 will have new implementation zoneinfo for tzinfo, dateutils also has tzinfo implementations"
   ]
  },
  {
   "cell_type": "code",
   "execution_count": 40,
   "metadata": {},
   "outputs": [
    {
     "output_type": "execute_result",
     "data": {
      "text/plain": "datetime.datetime(2020, 8, 4, 15, 51, 25, 427729)"
     },
     "metadata": {},
     "execution_count": 40
    },
    {
     "output_type": "execute_result",
     "data": {
      "text/plain": "datetime.date(2020, 8, 4)"
     },
     "metadata": {},
     "execution_count": 40
    }
   ],
   "source": [
    "dt.datetime.now() + dt.timedelta(days=1)  # arythmetics with datetimes and timedelta\n",
    "dt.date.today() + dt.timedelta(days=1, hours=3)  # if used with date - time part will be ignored"
   ]
  },
  {
   "cell_type": "code",
   "execution_count": 51,
   "metadata": {},
   "outputs": [
    {
     "output_type": "execute_result",
     "data": {
      "text/plain": "datetime.date(2020, 9, 3)"
     },
     "metadata": {},
     "execution_count": 51
    },
    {
     "output_type": "execute_result",
     "data": {
      "text/plain": "relativedelta(years=-2, months=-8, days=-27)"
     },
     "metadata": {},
     "execution_count": 51
    },
    {
     "output_type": "execute_result",
     "data": {
      "text/plain": "datetime.date(2021, 7, 3)"
     },
     "metadata": {},
     "execution_count": 51
    }
   ],
   "source": [
    "# relativedelta to use months, years etc\n",
    "from dateutil.relativedelta import relativedelta\n",
    "next_month = relativedelta(months=+1)\n",
    "dt.date.today() + next_month  \n",
    "\n",
    "relativedelta(dt.date.today(), dt.date.today() + dt.timedelta(days = 1000))  # days to (years, months, days)\n",
    "\n",
    "dt.date.today() + relativedelta(years=+1, months=-1)  # next year, one month before"
   ]
  },
  {
   "cell_type": "code",
   "execution_count": 62,
   "metadata": {},
   "outputs": [
    {
     "output_type": "execute_result",
     "data": {
      "text/plain": "datetime.date(2020, 8, 7)"
     },
     "metadata": {},
     "execution_count": 62
    },
    {
     "output_type": "execute_result",
     "data": {
      "text/plain": "datetime.date(2020, 8, 28)"
     },
     "metadata": {},
     "execution_count": 62
    }
   ],
   "source": [
    "# relativedelta has many other uses\n",
    "import calendar\n",
    "from dateutil import rrule\n",
    "\n",
    "today = dt.date.today()\n",
    "\n",
    "today + relativedelta(weekday=rrule.FR)  # nearest friday\n",
    "today + relativedelta(day=31, weekday=rrule.FR(-1))  # nearest friday"
   ]
  },
  {
   "cell_type": "code",
   "execution_count": 67,
   "metadata": {},
   "outputs": [
    {
     "output_type": "execute_result",
     "data": {
      "text/plain": "[datetime.datetime(2020, 8, 3, 0, 0),\n datetime.datetime(2020, 9, 3, 0, 0),\n datetime.datetime(2020, 10, 3, 0, 0),\n datetime.datetime(2020, 11, 3, 0, 0)]"
     },
     "metadata": {},
     "execution_count": 67
    }
   ],
   "source": [
    "# dateutil.rrule\n",
    "list(rrule.rrule(freq=rrule.MONTHLY, count=4, dtstart=today))  # returns an iterator"
   ]
  },
  {
   "cell_type": "code",
   "execution_count": 71,
   "metadata": {},
   "outputs": [
    {
     "output_type": "execute_result",
     "data": {
      "text/plain": "[datetime.datetime(2021, 1, 2, 0, 0),\n datetime.datetime(2021, 1, 5, 0, 0),\n datetime.datetime(2021, 1, 7, 0, 0),\n datetime.datetime(2021, 1, 9, 0, 0),\n datetime.datetime(2021, 1, 12, 0, 0),\n datetime.datetime(2021, 1, 14, 0, 0),\n datetime.datetime(2021, 1, 16, 0, 0),\n datetime.datetime(2021, 1, 19, 0, 0),\n datetime.datetime(2021, 1, 21, 0, 0),\n datetime.datetime(2021, 1, 23, 0, 0),\n datetime.datetime(2021, 1, 26, 0, 0),\n datetime.datetime(2021, 1, 28, 0, 0),\n datetime.datetime(2021, 1, 30, 0, 0),\n datetime.datetime(2022, 1, 1, 0, 0),\n datetime.datetime(2022, 1, 4, 0, 0),\n datetime.datetime(2022, 1, 6, 0, 0),\n datetime.datetime(2022, 1, 8, 0, 0),\n datetime.datetime(2022, 1, 11, 0, 0),\n datetime.datetime(2022, 1, 13, 0, 0),\n datetime.datetime(2022, 1, 15, 0, 0),\n datetime.datetime(2022, 1, 18, 0, 0),\n datetime.datetime(2022, 1, 20, 0, 0),\n datetime.datetime(2022, 1, 22, 0, 0),\n datetime.datetime(2022, 1, 25, 0, 0),\n datetime.datetime(2022, 1, 27, 0, 0),\n datetime.datetime(2022, 1, 29, 0, 0)]"
     },
     "metadata": {},
     "execution_count": 71
    }
   ],
   "source": [
    "# every January select days by a list of weekdays\n",
    "list(rrule.rrule(rrule.YEARLY, bymonth=1, byweekday=[1, 3, 5], dtstart=today,\n",
    "             until=today+relativedelta(years=2)))"
   ]
  },
  {
   "cell_type": "code",
   "execution_count": 77,
   "metadata": {},
   "outputs": [
    {
     "output_type": "execute_result",
     "data": {
      "text/plain": "[datetime.datetime(2020, 8, 14, 0, 0),\n datetime.datetime(2020, 9, 11, 0, 0),\n datetime.datetime(2020, 10, 9, 0, 0),\n datetime.datetime(2020, 11, 13, 0, 0),\n datetime.datetime(2020, 12, 11, 0, 0),\n datetime.datetime(2021, 1, 8, 0, 0),\n datetime.datetime(2021, 2, 12, 0, 0),\n datetime.datetime(2021, 3, 12, 0, 0),\n datetime.datetime(2021, 4, 9, 0, 0),\n datetime.datetime(2021, 5, 14, 0, 0)]"
     },
     "metadata": {},
     "execution_count": 77
    }
   ],
   "source": [
    "# monthly on the second Friday, 10 occurencies\n",
    "list(rrule.rrule(rrule.MONTHLY, count=10, byweekday=rrule.FR(2), dtstart=today))"
   ]
  },
  {
   "cell_type": "markdown",
   "metadata": {},
   "source": [
    "lots of tricks for individual dates can be done with dateutils, see https://dateutil.readthedocs.io/en/stable/index.html"
   ]
  },
  {
   "cell_type": "markdown",
   "metadata": {},
   "source": [
    "### pytz (also provided functionality for timezones, to be used as tzinfo argument for datetimes)\n",
    "\n",
    "## (explore !)"
   ]
  },
  {
   "cell_type": "code",
   "execution_count": null,
   "metadata": {},
   "outputs": [],
   "source": []
  }
 ]
}