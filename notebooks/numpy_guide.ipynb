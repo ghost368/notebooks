{
 "metadata": {
  "language_info": {
   "codemirror_mode": {
    "name": "ipython",
    "version": 3
   },
   "file_extension": ".py",
   "mimetype": "text/x-python",
   "name": "python",
   "nbconvert_exporter": "python",
   "pygments_lexer": "ipython3",
   "version": 3
  },
  "orig_nbformat": 2,
  "kernelspec": {
   "name": "python_defaultSpec_1596439399300",
   "display_name": "Python 3.8.3 64-bit ('.env': conda)"
  }
 },
 "nbformat": 4,
 "nbformat_minor": 2,
 "cells": [
  {
   "cell_type": "code",
   "execution_count": 6,
   "metadata": {},
   "outputs": [],
   "source": [
    "from IPython.core.interactiveshell import InteractiveShell\n",
    "InteractiveShell.ast_node_interactivity = \"all\"\n",
    "import numpy as np"
   ]
  },
  {
   "cell_type": "code",
   "execution_count": 7,
   "metadata": {},
   "outputs": [
    {
     "output_type": "execute_result",
     "data": {
      "text/plain": "numpy.ndarray"
     },
     "metadata": {},
     "execution_count": 7
    },
    {
     "output_type": "execute_result",
     "data": {
      "text/plain": "True"
     },
     "metadata": {},
     "execution_count": 7
    }
   ],
   "source": [
    "# main type ndarray\n",
    "\n",
    "arr = np.array([1, 2])\n",
    "type(arr)\n",
    "isinstance(arr, np.ndarray)"
   ]
  },
  {
   "cell_type": "markdown",
   "metadata": {},
   "source": [
    "floating data representation : matissa + exponent\n",
    "\n",
    "e.g. ```6.573*10^5``` - mantissa is 6.573 and exponent is 5\n",
    "\n",
    "* single precision: 32 bits overall, 23 bits for mantissa, 8 bits for exponent\n",
    "* double precision: 64 bits overall, 52 bins for mantissa, 11 bits for exponent\n",
    "\n",
    "double precision should be use in most numerical computations (types like np.float64)"
   ]
  },
  {
   "cell_type": "markdown",
   "metadata": {},
   "source": [
    "* ndarray - collection of items of the same type\n",
    "* indexed by integers\n",
    "* homogeneous - all block are interpreted in exactly the same way\n",
    "\n",
    "* each object interpretation - specified by *data-type object*\n",
    "* array elements can be built-in and custom structures and classes"
   ]
  },
  {
   "cell_type": "code",
   "execution_count": 14,
   "metadata": {},
   "outputs": [
    {
     "output_type": "execute_result",
     "data": {
      "text/plain": "dtype('int32')"
     },
     "metadata": {},
     "execution_count": 14
    },
    {
     "output_type": "execute_result",
     "data": {
      "text/plain": "(2, 2)"
     },
     "metadata": {},
     "execution_count": 14
    },
    {
     "output_type": "execute_result",
     "data": {
      "text/plain": "5"
     },
     "metadata": {},
     "execution_count": 14
    },
    {
     "output_type": "execute_result",
     "data": {
      "text/plain": "5"
     },
     "metadata": {},
     "execution_count": 14
    },
    {
     "output_type": "execute_result",
     "data": {
      "text/plain": "array([[  1, -18],\n       [  2,   5]], dtype=int32)"
     },
     "metadata": {},
     "execution_count": 14
    }
   ],
   "source": [
    "arr = np.array([[1, 2], [2, 5]], dtype=np.int32)  # can construct using a dtype\n",
    "arr.dtype\n",
    "arr.shape\n",
    "\n",
    "# usual indexing and slicing works\n",
    "arr[1, 1]\n",
    "arr[(1, 1)]  # can index with a tuple\n",
    "\n",
    "# ndarray is mutable\n",
    "arr[0,1] = -18\n",
    "arr"
   ]
  },
  {
   "cell_type": "code",
   "execution_count": 20,
   "metadata": {},
   "outputs": [
    {
     "output_type": "execute_result",
     "data": {
      "text/plain": "array([[4.9e-324, 9.9e-324, 1.5e-323, 2.0e-323, 2.5e-323],\n       [3.0e-323, 3.5e-323, 4.0e-323, 4.4e-323, 4.9e-323],\n       [5.4e-323, 5.9e-323, 6.4e-323, 6.9e-323, 7.4e-323]])"
     },
     "metadata": {},
     "execution_count": 20
    }
   ],
   "source": [
    "np.ndarray((3, 5), dtype=np.float64)  # constructor, filled with some garbage"
   ]
  },
  {
   "cell_type": "markdown",
   "metadata": {},
   "source": [
    "Numpy keeps data in a single sequential array in memory. Multidimensional structure can be based on row-major (C-style) or column major (F-style) order\n",
    "\n",
    "Array stored in a single sequence also called contiguous array (C-contiguous, F-contiguous)"
   ]
  },
  {
   "cell_type": "code",
   "execution_count": 32,
   "metadata": {},
   "outputs": [
    {
     "output_type": "execute_result",
     "data": {
      "text/plain": "array([[1, 2],\n       [3, 4]])"
     },
     "metadata": {},
     "execution_count": 32
    },
    {
     "output_type": "execute_result",
     "data": {
      "text/plain": "array([[1, 3],\n       [2, 4]])"
     },
     "metadata": {},
     "execution_count": 32
    }
   ],
   "source": [
    "np.ndarray((2, 2), buffer=np.array([1, 2, 3, 4]), dtype=int)  # when passing a buffer need to specify dtype ! to decode correctly\n",
    "\n",
    "np.ndarray((2, 2), buffer=np.array([1, 2, 3, 4]), dtype=int, order='F')  # Fstyle order (column based)"
   ]
  },
  {
   "cell_type": "markdown",
   "metadata": {},
   "source": [
    "### other constructors"
   ]
  },
  {
   "cell_type": "code",
   "execution_count": 46,
   "metadata": {},
   "outputs": [
    {
     "output_type": "execute_result",
     "data": {
      "text/plain": "array([[ True,  True,  True,  True,  True],\n       [ True,  True,  True,  True,  True],\n       [ True,  True,  True,  True,  True],\n       [ True,  True,  True,  True,  True]])"
     },
     "metadata": {},
     "execution_count": 46
    },
    {
     "output_type": "execute_result",
     "data": {
      "text/plain": "array([[1., 1., 1., 1., 1.],\n       [1., 1., 1., 1., 1.],\n       [1., 1., 1., 1., 1.],\n       [1., 1., 1., 1., 1.]])"
     },
     "metadata": {},
     "execution_count": 46
    },
    {
     "output_type": "execute_result",
     "data": {
      "text/plain": "array([[0, 0, 0],\n       [0, 0, 0],\n       [0, 0, 0],\n       [0, 0, 0]])"
     },
     "metadata": {},
     "execution_count": 46
    },
    {
     "output_type": "execute_result",
     "data": {
      "text/plain": "array([['hello', 'hello', 'hello'],\n       ['hello', 'hello', 'hello']], dtype='<U5')"
     },
     "metadata": {},
     "execution_count": 46
    }
   ],
   "source": [
    "np.ones((4, 5), dtype=bool)\n",
    "np.ones((4, 5), dtype=np.float64)\n",
    "\n",
    "np.zeros((4, 3), dtype=int)\n",
    "\n",
    "np.full(shape=(2,3), fill_value='hello')"
   ]
  },
  {
   "cell_type": "code",
   "execution_count": null,
   "metadata": {},
   "outputs": [],
   "source": []
  },
  {
   "cell_type": "markdown",
   "metadata": {},
   "source": [
    "## Methods\n",
    "\n",
    "a lot of methods exists as array object methods and as np functions (like np.any(arr) or arr.any())"
   ]
  },
  {
   "cell_type": "code",
   "execution_count": 47,
   "metadata": {},
   "outputs": [],
   "source": [
    "arr = np.array([1, 3, 4, 6, 2, 5, 3, 4, 7, 6, 4])"
   ]
  },
  {
   "cell_type": "code",
   "execution_count": 50,
   "metadata": {},
   "outputs": [
    {
     "output_type": "execute_result",
     "data": {
      "text/plain": "True"
     },
     "metadata": {},
     "execution_count": 50
    },
    {
     "output_type": "execute_result",
     "data": {
      "text/plain": "False"
     },
     "metadata": {},
     "execution_count": 50
    }
   ],
   "source": [
    "arr.any()  # if any element is True/non-zero\n",
    "np.zeros(4).any()"
   ]
  },
  {
   "cell_type": "code",
   "execution_count": 52,
   "metadata": {},
   "outputs": [
    {
     "output_type": "execute_result",
     "data": {
      "text/plain": "array([ 0,  4,  1,  6,  2,  7, 10,  5,  3,  9,  8])"
     },
     "metadata": {},
     "execution_count": 52
    }
   ],
   "source": [
    "# argmax, argmin\n",
    "\n",
    "arr.argsort()  # returns indices that would sort the array"
   ]
  },
  {
   "cell_type": "code",
   "execution_count": 54,
   "metadata": {},
   "outputs": [
    {
     "output_type": "execute_result",
     "data": {
      "text/plain": "array([1., 3., 4., 6., 2., 5., 3., 4., 7., 6., 4.])"
     },
     "metadata": {},
     "execution_count": 54
    },
    {
     "output_type": "execute_result",
     "data": {
      "text/plain": "array(['1', '3', '4', '6', '2', '5', '3', '4', '7', '6', '4'],\n      dtype='<U21')"
     },
     "metadata": {},
     "execution_count": 54
    }
   ],
   "source": [
    "# casting\n",
    "\n",
    "arr.astype(float)\n",
    "\n",
    "arr.astype(str)"
   ]
  },
  {
   "cell_type": "markdown",
   "metadata": {},
   "source": [
    "### Endianness\n",
    "\n",
    "The smallest data group with an address is eight bits long and is called a byte. Larger groups comprise two or more bytes, for example a 32-bit word contains four bytes. There are two possible ways a computer could number the individual bytes in a larger group, starting at either end, and over the course of computer history, both methods have been used, leading to occasional problems.\n",
    "\n",
    "Internally, any given computer will work equally well regardless of what endianness it uses, since its hardware will consistently use the same endianness to both store and load its data. For this reason, programmers and computer users normally ignore the endianness of the computer they are working with. \n",
    "\n",
    "However, endianness can become an issue when moving data external to the computer – as when transmitting data between different computers, or a programmer investigating internal computer bytes of data from a memory dump – and the endianness used differs from expectation. In these cases, the endianness of the data must be understood and accounted for."
   ]
  },
  {
   "cell_type": "code",
   "execution_count": 59,
   "metadata": {},
   "outputs": [
    {
     "output_type": "execute_result",
     "data": {
      "text/plain": "array([ 72057594037927936, 216172782113783808, 288230376151711744,\n       432345564227567616, 144115188075855872, 360287970189639680,\n       216172782113783808, 288230376151711744, 504403158265495552,\n       432345564227567616, 288230376151711744])"
     },
     "metadata": {},
     "execution_count": 59
    },
    {
     "output_type": "execute_result",
     "data": {
      "text/plain": "array([1, 3, 4, 6, 2, 5, 3, 4, 7, 6, 4])"
     },
     "metadata": {},
     "execution_count": 59
    }
   ],
   "source": [
    "arr.byteswap()  # toggle between big-endian and little-endian\n",
    "# on any given computer one part will be a mess, another one - true numbers; but for external data may need to swap byte order to get real values\n",
    "arr.byteswap().byteswap()"
   ]
  },
  {
   "cell_type": "code",
   "execution_count": 66,
   "metadata": {},
   "outputs": [
    {
     "output_type": "execute_result",
     "data": {
      "text/plain": "array([ 8,  3, -2])"
     },
     "metadata": {},
     "execution_count": 66
    }
   ],
   "source": [
    "np.choose([1, 0, 1], [[2, 3, 3], [8, 4, -2]])  # choose 1st, 2nd, 3rd etc elements from different arrays for which the numbers are defined in the first index arg\n",
    "\n",
    "# clip"
   ]
  },
  {
   "cell_type": "code",
   "execution_count": 81,
   "metadata": {},
   "outputs": [
    {
     "output_type": "execute_result",
     "data": {
      "text/plain": "array([[0, 3],\n       [1, 4],\n       [2, 5]])"
     },
     "metadata": {},
     "execution_count": 81
    },
    {
     "output_type": "execute_result",
     "data": {
      "text/plain": "array([[0, 1],\n       [2, 3],\n       [4, 5]])"
     },
     "metadata": {},
     "execution_count": 81
    },
    {
     "output_type": "execute_result",
     "data": {
      "text/plain": "array([0, 1, 2, 3, 4, 5])"
     },
     "metadata": {},
     "execution_count": 81
    },
    {
     "output_type": "execute_result",
     "data": {
      "text/plain": "array([0, 2, 4, 1, 3, 5])"
     },
     "metadata": {},
     "execution_count": 81
    },
    {
     "output_type": "execute_result",
     "data": {
      "text/plain": "array([[0, 1],\n       [4, 5]])"
     },
     "metadata": {},
     "execution_count": 81
    }
   ],
   "source": [
    "np.arange(6).reshape(3, 2, order='F')\n",
    "arr = np.arange(6).reshape(3, 2)  # order is 'C' by default\n",
    "arr\n",
    "\n",
    "arr.flatten()\n",
    "arr.flatten(order='F')\n",
    "\n",
    "\n",
    "arr.compress([True, False, True], axis=0)  # apply bool array mask along given axis"
   ]
  },
  {
   "cell_type": "code",
   "execution_count": 79,
   "metadata": {},
   "outputs": [
    {
     "output_type": "execute_result",
     "data": {
      "text/plain": "array([ 0,  1,  3,  6, 10, 15])"
     },
     "metadata": {},
     "execution_count": 79
    },
    {
     "output_type": "execute_result",
     "data": {
      "text/plain": "array([[0, 1],\n       [2, 4],\n       [6, 9]])"
     },
     "metadata": {},
     "execution_count": 79
    },
    {
     "output_type": "execute_result",
     "data": {
      "text/plain": "array([[0, 1],\n       [2, 3],\n       [4, 5]])"
     },
     "metadata": {},
     "execution_count": 79
    }
   ],
   "source": [
    "# copy, cumsum, cumprod\n",
    "arr.cumsum()  # will flatten the array if no dim specified\n",
    "np.cumsum(arr, axis=0)\n",
    "\n",
    "arr.f"
   ]
  },
  {
   "cell_type": "code",
   "execution_count": 128,
   "metadata": {},
   "outputs": [
    {
     "output_type": "execute_result",
     "data": {
      "text/plain": "array([[ 0,  1,  2],\n       [ 3,  4,  5],\n       [ 6,  7,  8],\n       [ 9, 10, 11]])"
     },
     "metadata": {},
     "execution_count": 128
    },
    {
     "output_type": "execute_result",
     "data": {
      "text/plain": "array([0, 4, 8])"
     },
     "metadata": {},
     "execution_count": 128
    },
    {
     "output_type": "execute_result",
     "data": {
      "text/plain": "array([1, 5])"
     },
     "metadata": {},
     "execution_count": 128
    },
    {
     "output_type": "execute_result",
     "data": {
      "text/plain": "array([ 3,  7, 11])"
     },
     "metadata": {},
     "execution_count": 128
    },
    {
     "output_type": "execute_result",
     "data": {
      "text/plain": "21"
     },
     "metadata": {},
     "execution_count": 128
    }
   ],
   "source": [
    "arr = np.arange(12).reshape(4, 3)\n",
    "arr\n",
    "\n",
    "arr.diagonal()  # one of the matrix diagonals\n",
    "arr.diagonal(offset=1)\n",
    "arr.diagonal(offset=-1)\n",
    "\n",
    "arr.trace(offset=-1)  # same rules but calculates the diagonal value sum (trace)"
   ]
  },
  {
   "cell_type": "code",
   "execution_count": 103,
   "metadata": {},
   "outputs": [
    {
     "output_type": "execute_result",
     "data": {
      "text/plain": "2"
     },
     "metadata": {},
     "execution_count": 103
    },
    {
     "output_type": "execute_result",
     "data": {
      "text/plain": "2"
     },
     "metadata": {},
     "execution_count": 103
    },
    {
     "output_type": "execute_result",
     "data": {
      "text/plain": "(4,)"
     },
     "metadata": {},
     "execution_count": 103
    },
    {
     "output_type": "execute_result",
     "data": {
      "text/plain": "array([[0, 1, 2, 3]])"
     },
     "metadata": {},
     "execution_count": 103
    }
   ],
   "source": [
    "np.arange(4).dot(np.array([1, 1, -1, 1]))  # array dot-product\n",
    "\n",
    "arr.T.dot(np.array([1, 1, -1, 1]))  # matrix-vector dot-product\n",
    "\n",
    "arr = np.arange(4)\n",
    "arr.shape  # one-dim array - cannot transpose\n",
    "arr.reshape(1, 4)  # need to create 2d array, then can transpose and use in matrix operations\n",
    "# 1d array can be used in matrix products if the required shape is (len(arr), 1)"
   ]
  },
  {
   "cell_type": "code",
   "execution_count": null,
   "metadata": {},
   "outputs": [],
   "source": [
    "# np.dump(file), np.load(file) - pickle for np arrays\n",
    "\n",
    "# min, max, mean, nonzero, std, sum, squeeze, var"
   ]
  },
  {
   "cell_type": "code",
   "execution_count": 107,
   "metadata": {},
   "outputs": [
    {
     "output_type": "execute_result",
     "data": {
      "text/plain": "array([[0, 1],\n       [2, 3],\n       [4, 5]])"
     },
     "metadata": {},
     "execution_count": 107
    },
    {
     "output_type": "execute_result",
     "data": {
      "text/plain": "array([[0, 1],\n       [2, 3],\n       [4, 5]])"
     },
     "metadata": {},
     "execution_count": 107
    },
    {
     "output_type": "execute_result",
     "data": {
      "text/plain": "array([[-18,   1],\n       [  2,   3],\n       [  4,   5]])"
     },
     "metadata": {},
     "execution_count": 107
    }
   ],
   "source": [
    "# ravel vs flatten : both functions for flattening the array\n",
    "\n",
    "arr = np.arange(6).reshape(3, 2)\n",
    "arr\n",
    "\n",
    "arr_flat = arr.flatten()  # returns a copy\n",
    "arr_flat[0] = -18\n",
    "arr\n",
    "\n",
    "arr_flat = arr.ravel()  # return a view of the original array where possible\n",
    "arr_flat[0] = -18\n",
    "arr\n",
    "\n",
    "# representations of the original arrays are called views (i.e. if we change smth in the view - we'll see the change in the original array)"
   ]
  },
  {
   "cell_type": "code",
   "execution_count": 111,
   "metadata": {},
   "outputs": [
    {
     "output_type": "execute_result",
     "data": {
      "text/plain": "array([0, 0, 0, 0, 0, 1, 1, 1, 1, 1, 2, 2, 2, 2, 2])"
     },
     "metadata": {},
     "execution_count": 111
    },
    {
     "output_type": "execute_result",
     "data": {
      "text/plain": "array([[0, 0, 0, 0, 0],\n       [1, 1, 1, 1, 1],\n       [2, 2, 2, 2, 2]])"
     },
     "metadata": {},
     "execution_count": 111
    }
   ],
   "source": [
    "np.repeat(np.arange(3), 5)\n",
    "\n",
    "# np.repeat(np.arange(3), 5, axis=1)  # not possible\n",
    "np.repeat(np.arange(3).reshape(3, 1), 5, axis=1)  # ok after creating a 2d array"
   ]
  },
  {
   "cell_type": "code",
   "execution_count": 112,
   "metadata": {},
   "outputs": [
    {
     "output_type": "execute_result",
     "data": {
      "text/plain": "array([2.4, 1.4])"
     },
     "metadata": {},
     "execution_count": 112
    }
   ],
   "source": [
    "np.round([2.43, 1.45], 1)"
   ]
  },
  {
   "cell_type": "code",
   "execution_count": 114,
   "metadata": {},
   "outputs": [
    {
     "output_type": "execute_result",
     "data": {
      "text/plain": "array([[-18,   1],\n       [  2,   3],\n       [  4,   5]])"
     },
     "metadata": {},
     "execution_count": 114
    },
    {
     "output_type": "execute_result",
     "data": {
      "text/plain": "  C_CONTIGUOUS : True\n  F_CONTIGUOUS : False\n  OWNDATA : False\n  WRITEABLE : True\n  ALIGNED : True\n  WRITEBACKIFCOPY : False\n  UPDATEIFCOPY : False"
     },
     "metadata": {},
     "execution_count": 114
    }
   ],
   "source": [
    "arr\n",
    "arr.flags  # some useful info; can also set flags using .setflags(..)"
   ]
  },
  {
   "cell_type": "code",
   "execution_count": 117,
   "metadata": {},
   "outputs": [
    {
     "output_type": "execute_result",
     "data": {
      "text/plain": "array([[1, 4],\n       [1, 3]])"
     },
     "metadata": {},
     "execution_count": 117
    },
    {
     "output_type": "execute_result",
     "data": {
      "text/plain": "array([1, 1, 3, 4])"
     },
     "metadata": {},
     "execution_count": 117
    },
    {
     "output_type": "execute_result",
     "data": {
      "text/plain": "array([[1, 1],\n       [3, 4]])"
     },
     "metadata": {},
     "execution_count": 117
    }
   ],
   "source": [
    "# sort\n",
    "\n",
    "a = np.array([[1,4],[3,1]])\n",
    "np.sort(a)                # sort along the last axis\n",
    "\n",
    "np.sort(a, axis=None)     # sort the flattened array\n",
    "\n",
    "np.sort(a, axis=0)        # sort along the first axis"
   ]
  },
  {
   "cell_type": "markdown",
   "metadata": {},
   "source": [
    "# explore dtype with field names !! (structured array?)"
   ]
  },
  {
   "cell_type": "code",
   "execution_count": 123,
   "metadata": {},
   "outputs": [
    {
     "output_type": "execute_result",
     "data": {
      "text/plain": "array([[1, 2],\n       [0, 2],\n       [1, 0]])"
     },
     "metadata": {},
     "execution_count": 123
    },
    {
     "output_type": "execute_result",
     "data": {
      "text/plain": "array([2, 3])"
     },
     "metadata": {},
     "execution_count": 123
    }
   ],
   "source": [
    "arr = np.arange(6).reshape(3, 2)\n",
    "arr.take([(1, 2), (0, 2), (1,0)])  # select values for a groups of indices\n",
    "\n",
    "np.arange(1, 5)[[1, 2]]  # simpler approach will work for 1d array "
   ]
  },
  {
   "cell_type": "code",
   "execution_count": 124,
   "metadata": {},
   "outputs": [
    {
     "output_type": "execute_result",
     "data": {
      "text/plain": "b'\\x00\\x00\\x00\\x00\\x00\\x00\\x00\\x00\\x01\\x00\\x00\\x00\\x00\\x00\\x00\\x00\\x02\\x00\\x00\\x00\\x00\\x00\\x00\\x00\\x03\\x00\\x00\\x00\\x00\\x00\\x00\\x00\\x04\\x00\\x00\\x00\\x00\\x00\\x00\\x00\\x05\\x00\\x00\\x00\\x00\\x00\\x00\\x00'"
     },
     "metadata": {},
     "execution_count": 124
    }
   ],
   "source": [
    "arr.tobytes()  # convert to binary string"
   ]
  },
  {
   "cell_type": "code",
   "execution_count": 127,
   "metadata": {},
   "outputs": [
    {
     "output_type": "execute_result",
     "data": {
      "text/plain": "[[0, 1], [2, 3], [4, 5]]"
     },
     "metadata": {},
     "execution_count": 127
    }
   ],
   "source": [
    "arr.tolist()"
   ]
  },
  {
   "cell_type": "code",
   "execution_count": 135,
   "metadata": {},
   "outputs": [
    {
     "output_type": "execute_result",
     "data": {
      "text/plain": "array([[ 0,  1,  2],\n       [ 3,  4,  5],\n       [ 6,  7,  8],\n       [ 9, 10, 11]])"
     },
     "metadata": {},
     "execution_count": 135
    },
    {
     "output_type": "execute_result",
     "data": {
      "text/plain": "array([[ 0,  3,  6,  9],\n       [ 1,  4,  7, 10],\n       [ 2,  5,  8, 11]])"
     },
     "metadata": {},
     "execution_count": 135
    },
    {
     "output_type": "execute_result",
     "data": {
      "text/plain": "array([[[ 0,  1,  2],\n        [ 3,  4,  5],\n        [ 6,  7,  8]],\n\n       [[ 9, 10, 11],\n        [12, 13, 14],\n        [15, 16, 17]],\n\n       [[18, 19, 20],\n        [21, 22, 23],\n        [24, 25, 26]]])"
     },
     "metadata": {},
     "execution_count": 135
    },
    {
     "output_type": "execute_result",
     "data": {
      "text/plain": "array([[[ 0,  9, 18],\n        [ 3, 12, 21],\n        [ 6, 15, 24]],\n\n       [[ 1, 10, 19],\n        [ 4, 13, 22],\n        [ 7, 16, 25]],\n\n       [[ 2, 11, 20],\n        [ 5, 14, 23],\n        [ 8, 17, 26]]])"
     },
     "metadata": {},
     "execution_count": 135
    }
   ],
   "source": [
    "arr\n",
    "arr.swapaxes(1, 0)  # same as transpose\n",
    "\n",
    "arr3d = np.arange(27).reshape(3, 3, 3)\n",
    "arr3d\n",
    "arr3d.swapaxes(0, 2)  # swap any pair of axes"
   ]
  },
  {
   "cell_type": "code",
   "execution_count": 153,
   "metadata": {},
   "outputs": [
    {
     "output_type": "execute_result",
     "data": {
      "text/plain": "array([[1, 2, 3],\n       [5, 2, 6]])"
     },
     "metadata": {},
     "execution_count": 153
    },
    {
     "output_type": "execute_result",
     "data": {
      "text/plain": "array([[ True, False, False, False, False, False, False, False,  True,\n        False, False, False, False, False, False, False,  True, False,\n        False, False, False, False, False, False],\n       [ True, False, False, False, False, False, False, False,  True,\n        False, False, False, False, False, False, False,  True, False,\n        False, False, False, False, False, False]])"
     },
     "metadata": {},
     "execution_count": 153
    },
    {
     "output_type": "execute_result",
     "data": {
      "text/plain": "array([[4.9e-324, 9.9e-324, 1.5e-323],\n       [2.5e-323, 9.9e-324, 3.0e-323]])"
     },
     "metadata": {},
     "execution_count": 153
    },
    {
     "output_type": "execute_result",
     "data": {
      "text/plain": "array([[1, 0, 2, 0, 3, 0],\n       [5, 0, 2, 0, 6, 0]], dtype=int32)"
     },
     "metadata": {},
     "execution_count": 153
    },
    {
     "output_type": "execute_result",
     "data": {
      "text/plain": "matrix([[1, 2, 3],\n        [5, 2, 6]])"
     },
     "metadata": {},
     "execution_count": 153
    },
    {
     "output_type": "execute_result",
     "data": {
      "text/plain": "array([[-20,   2,   3],\n       [  5,   2,   6]])"
     },
     "metadata": {},
     "execution_count": 153
    }
   ],
   "source": [
    "arr = np.array([[1, 2, 3], [5, 2, 6]], dtype=np.int64)\n",
    "arr\n",
    "\n",
    "# generating new data views of the same array (the same bytes in memory interpreted for a different dtype, not type casting!)\n",
    "arr.view(dtype=bool)\n",
    "arr.view(dtype=float)\n",
    "arr.view(dtype=np.int32)\n",
    "\n",
    "mx = arr.view(type=np.matrix)  # can also pass numpy data type (e.g. view arr as matrix)\n",
    "mx\n",
    "mx[0, 0] = -20  # it's a view, so points to the same data, and can change it\n",
    "arr"
   ]
  },
  {
   "cell_type": "code",
   "execution_count": 156,
   "metadata": {},
   "outputs": [
    {
     "output_type": "execute_result",
     "data": {
      "text/plain": "array([[-20,   2,   3],\n       [  5,   2,   6]])"
     },
     "metadata": {},
     "execution_count": 156
    },
    {
     "output_type": "execute_result",
     "data": {
      "text/plain": "48"
     },
     "metadata": {},
     "execution_count": 156
    },
    {
     "output_type": "execute_result",
     "data": {
      "text/plain": "(2, 3)"
     },
     "metadata": {},
     "execution_count": 156
    },
    {
     "output_type": "execute_result",
     "data": {
      "text/plain": "2"
     },
     "metadata": {},
     "execution_count": 156
    },
    {
     "output_type": "execute_result",
     "data": {
      "text/plain": "6"
     },
     "metadata": {},
     "execution_count": 156
    },
    {
     "output_type": "execute_result",
     "data": {
      "text/plain": "<memory at 0x7f1eee5ecad0>"
     },
     "metadata": {},
     "execution_count": 156
    }
   ],
   "source": [
    "# attributes\n",
    "arr\n",
    "\n",
    "arr.nbytes\n",
    "arr.shape\n",
    "arr.ndim\n",
    "arr.size\n",
    "arr.data"
   ]
  },
  {
   "cell_type": "code",
   "execution_count": 162,
   "metadata": {},
   "outputs": [
    {
     "output_type": "execute_result",
     "data": {
      "text/plain": "array([ True, False, False])"
     },
     "metadata": {},
     "execution_count": 162
    },
    {
     "output_type": "execute_result",
     "data": {
      "text/plain": "array([ 6,  0, 12])"
     },
     "metadata": {},
     "execution_count": 162
    }
   ],
   "source": [
    "arr1 = np.array([2, 1, 4])\n",
    "arr2 = np.array([3, 0, 3])\n",
    "\n",
    "arr1 <= arr2  # same shape comparison\n",
    "arr1 * arr2  # component-wise arythmetic operations"
   ]
  },
  {
   "cell_type": "code",
   "execution_count": 179,
   "metadata": {},
   "outputs": [
    {
     "output_type": "execute_result",
     "data": {
      "text/plain": "array(5)"
     },
     "metadata": {},
     "execution_count": 179
    },
    {
     "output_type": "execute_result",
     "data": {
      "text/plain": "()"
     },
     "metadata": {},
     "execution_count": 179
    },
    {
     "output_type": "execute_result",
     "data": {
      "text/plain": "5"
     },
     "metadata": {},
     "execution_count": 179
    }
   ],
   "source": [
    "# scalar arrays\n",
    "scalar_arr = np.array(5)\n",
    "scalar_arr\n",
    "\n",
    "scalar_arr.shape\n",
    "scalar_arr.sum()"
   ]
  },
  {
   "cell_type": "markdown",
   "metadata": {},
   "source": [
    "### array scalars"
   ]
  },
  {
   "cell_type": "code",
   "execution_count": 194,
   "metadata": {},
   "outputs": [
    {
     "output_type": "execute_result",
     "data": {
      "text/plain": "False"
     },
     "metadata": {},
     "execution_count": 194
    },
    {
     "output_type": "execute_result",
     "data": {
      "text/plain": "True"
     },
     "metadata": {},
     "execution_count": 194
    },
    {
     "output_type": "execute_result",
     "data": {
      "text/plain": "False"
     },
     "metadata": {},
     "execution_count": 194
    }
   ],
   "source": [
    "isinstance(4, np.int64)\n",
    "isinstance(np.int64(4), np.int64)\n",
    "isinstance(np.array(4), np.int64)"
   ]
  },
  {
   "cell_type": "code",
   "execution_count": 205,
   "metadata": {},
   "outputs": [
    {
     "output_type": "execute_result",
     "data": {
      "text/plain": "True"
     },
     "metadata": {},
     "execution_count": 205
    }
   ],
   "source": [
    "isinstance(4, np.object)"
   ]
  },
  {
   "cell_type": "code",
   "execution_count": 211,
   "metadata": {},
   "outputs": [
    {
     "output_type": "execute_result",
     "data": {
      "text/plain": "numpy.int64"
     },
     "metadata": {},
     "execution_count": 211
    },
    {
     "output_type": "execute_result",
     "data": {
      "text/plain": "False"
     },
     "metadata": {},
     "execution_count": 211
    },
    {
     "output_type": "execute_result",
     "data": {
      "text/plain": "True"
     },
     "metadata": {},
     "execution_count": 211
    },
    {
     "output_type": "execute_result",
     "data": {
      "text/plain": "int"
     },
     "metadata": {},
     "execution_count": 211
    }
   ],
   "source": [
    "# numpy has a complicated hierarchy of types\n",
    "# it supports native python types : np.int, np.float, np.object, np.bool etc\n",
    "# but has many more type with extra info : like np.int32, np.int64, np.uint8 etc\n",
    "\n",
    "x = np.int64(3)\n",
    "type(x)\n",
    "isinstance(x, np.int)\n",
    "isinstance(x, np.integer)  # do not mix int (python built-in) and integer\n",
    "\n",
    "x = 3\n",
    "type(x)\n",
    "# from python output it's not clear what kind of e.g. int we have"
   ]
  },
  {
   "cell_type": "code",
   "execution_count": 213,
   "metadata": {},
   "outputs": [
    {
     "output_type": "execute_result",
     "data": {
      "text/plain": "numpy.int64"
     },
     "metadata": {},
     "execution_count": 213
    },
    {
     "output_type": "execute_result",
     "data": {
      "text/plain": "numpy.ndarray"
     },
     "metadata": {},
     "execution_count": 213
    }
   ],
   "source": [
    "# numpy supports scalars, and the scalar type hierarchy mimics (almost) the dtype hieararchy\n",
    "\n",
    "x = np.array([1, 2, 3], dtype=np.int64)\n",
    "type(x[1])\n",
    "type(np.array(x[1]))  # scalar array is different though from numpy scalar"
   ]
  },
  {
   "cell_type": "code",
   "execution_count": 222,
   "metadata": {},
   "outputs": [
    {
     "output_type": "execute_result",
     "data": {
      "text/plain": "  C_CONTIGUOUS : True\n  F_CONTIGUOUS : True\n  OWNDATA : True\n  WRITEABLE : False\n  ALIGNED : True\n  WRITEBACKIFCOPY : False\n  UPDATEIFCOPY : False"
     },
     "metadata": {},
     "execution_count": 222
    },
    {
     "output_type": "execute_result",
     "data": {
      "text/plain": "0"
     },
     "metadata": {},
     "execution_count": 222
    },
    {
     "output_type": "execute_result",
     "data": {
      "text/plain": "4"
     },
     "metadata": {},
     "execution_count": 222
    },
    {
     "output_type": "execute_result",
     "data": {
      "text/plain": "True"
     },
     "metadata": {},
     "execution_count": 222
    }
   ],
   "source": [
    "# numpy scalars have a lot of various method and attributes (support all of ndarray methods, though a lot are not implemented in numpy.generic - base class for all scalar types)\n",
    "\n",
    "# all numpy scalars are inherited from numpy.generic that has all the same methods as ndarray\n",
    "# but a lot of them don't make sense for scalars and are not implemented\n",
    "\n",
    "np.int64(4).flags\n",
    "np.int64(4).ndim\n",
    "np.int64(4).sum()"
   ]
  },
  {
   "cell_type": "code",
   "execution_count": 221,
   "metadata": {},
   "outputs": [
    {
     "output_type": "execute_result",
     "data": {
      "text/plain": "True"
     },
     "metadata": {},
     "execution_count": 221
    }
   ],
   "source": [
    "x = np.int32(5)\n",
    "isinstance(x, np.generic)"
   ]
  },
  {
   "cell_type": "markdown",
   "metadata": {},
   "source": [
    "#### definining new type\n",
    "\n",
    "* can subclass ndarray and define a method of interest : but this will only work to some extent; a lot of the things that work in ndarray are based on the check that this is ndarray, so some functionality will be lost\n",
    "* the best way to define it in C using numpy C-API\n",
    "* often inheritance is probably not needed, potentially a function or a new class which has ndarray as a data field (composition) will work well"
   ]
  },
  {
   "cell_type": "markdown",
   "metadata": {},
   "source": [
    "### data types\n",
    "\n",
    "* np.dtype - data type objects\n",
    "* describe the type, size, byteorder (little/big endian), data element own features if it's a structured object\n",
    "* a numpy scalar type is associated with each data type, any element extracted from ndarray via indexing will have this data type"
   ]
  },
  {
   "cell_type": "markdown",
   "metadata": {},
   "source": [
    "**np.dtype objects are not the same as scalar type objects, but can used instead of one another when creating arrays**"
   ]
  },
  {
   "cell_type": "code",
   "execution_count": 235,
   "metadata": {},
   "outputs": [
    {
     "output_type": "execute_result",
     "data": {
      "text/plain": "True"
     },
     "metadata": {},
     "execution_count": 235
    },
    {
     "output_type": "execute_result",
     "data": {
      "text/plain": "'>'"
     },
     "metadata": {},
     "execution_count": 235
    },
    {
     "output_type": "execute_result",
     "data": {
      "text/plain": "'int32'"
     },
     "metadata": {},
     "execution_count": 235
    },
    {
     "output_type": "execute_result",
     "data": {
      "text/plain": "True"
     },
     "metadata": {},
     "execution_count": 235
    },
    {
     "output_type": "execute_result",
     "data": {
      "text/plain": "dtype('<U3')"
     },
     "metadata": {},
     "execution_count": 235
    }
   ],
   "source": [
    "np.dtype('<i4') == np.int32  # dtype and the corresponding scalar type\n",
    "\n",
    "dt = np.dtype('>i4')  # > specifies big-endian byteorder\n",
    "dt.byteorder\n",
    "dt.name\n",
    "\n",
    "isinstance('abs', np.unicode)  # unicode scalar type\n",
    "np.array('abs').dtype  # unicode dtype '<U3' - 3 chars"
   ]
  },
  {
   "cell_type": "markdown",
   "metadata": {},
   "source": [
    "### structured data type"
   ]
  },
  {
   "cell_type": "code",
   "execution_count": 248,
   "metadata": {},
   "outputs": [
    {
     "output_type": "execute_result",
     "data": {
      "text/plain": "dtype([('name', '<U16'), ('grades', '<f8', (2,))])"
     },
     "metadata": {},
     "execution_count": 248
    },
    {
     "output_type": "execute_result",
     "data": {
      "text/plain": "dtype('<U16')"
     },
     "metadata": {},
     "execution_count": 248
    },
    {
     "output_type": "execute_result",
     "data": {
      "text/plain": "dtype(('<f8', (2,)))"
     },
     "metadata": {},
     "execution_count": 248
    }
   ],
   "source": [
    "# dtype can be specified by dict-like list of tuples\n",
    "dt = np.dtype([('name', np.unicode_, 16), ('grades', np.float64, (2,))])\n",
    "dt\n",
    "dt['name']\n",
    "dt['grades']"
   ]
  },
  {
   "cell_type": "code",
   "execution_count": 249,
   "metadata": {},
   "outputs": [
    {
     "output_type": "execute_result",
     "data": {
      "text/plain": "array([('Sarah', [8., 7.]), ('John', [6., 7.])],\n      dtype=[('name', '<U16'), ('grades', '<f8', (2,))])"
     },
     "metadata": {},
     "execution_count": 249
    },
    {
     "output_type": "execute_result",
     "data": {
      "text/plain": "array(['Sarah', 'John'], dtype='<U16')"
     },
     "metadata": {},
     "execution_count": 249
    },
    {
     "output_type": "execute_result",
     "data": {
      "text/plain": "array([[8., 7.],\n       [6., 7.]])"
     },
     "metadata": {},
     "execution_count": 249
    },
    {
     "output_type": "execute_result",
     "data": {
      "text/plain": "('John', [6., 7.])"
     },
     "metadata": {},
     "execution_count": 249
    },
    {
     "output_type": "execute_result",
     "data": {
      "text/plain": "'Sarah'"
     },
     "metadata": {},
     "execution_count": 249
    }
   ],
   "source": [
    "# can use structured data type for arrays with elements of mixed data\n",
    "x = np.array([('Sarah', (8.0, 7.0)), ('John', (6.0, 7.0))], dtype=dt)\n",
    "x\n",
    "\n",
    "x['name']  # names used in the dtype structure can be used to access numpy array subarrays (just like in pandas)\n",
    "x['grades']\n",
    "x[1]\n",
    "x[0]['name']"
   ]
  },
  {
   "cell_type": "code",
   "execution_count": 255,
   "metadata": {},
   "outputs": [
    {
     "output_type": "execute_result",
     "data": {
      "text/plain": "dtype('int64')"
     },
     "metadata": {},
     "execution_count": 255
    },
    {
     "output_type": "execute_result",
     "data": {
      "text/plain": "dtype('int64')"
     },
     "metadata": {},
     "execution_count": 255
    },
    {
     "output_type": "execute_result",
     "data": {
      "text/plain": "dtype('float64')"
     },
     "metadata": {},
     "execution_count": 255
    }
   ],
   "source": [
    "# np.dtype is a dtype constructor, can accept python types, list for of tuples (name, scalar type), type strings etc\n",
    "np.dtype(int)\n",
    "np.dtype(np.int64)\n",
    "np.dtype('f8')  # type string\n",
    "\n",
    "# dtype also has functions to change byteorder"
   ]
  },
  {
   "cell_type": "code",
   "execution_count": 277,
   "metadata": {},
   "outputs": [
    {
     "output_type": "execute_result",
     "data": {
      "text/plain": "'<i8'"
     },
     "metadata": {},
     "execution_count": 277
    },
    {
     "output_type": "execute_result",
     "data": {
      "text/plain": "'int64'"
     },
     "metadata": {},
     "execution_count": 277
    },
    {
     "output_type": "execute_result",
     "data": {
      "text/plain": "7"
     },
     "metadata": {},
     "execution_count": 277
    },
    {
     "output_type": "execute_result",
     "data": {
      "text/plain": "numpy.int64"
     },
     "metadata": {},
     "execution_count": 277
    },
    {
     "output_type": "execute_result",
     "data": {
      "text/plain": "8"
     },
     "metadata": {},
     "execution_count": 277
    }
   ],
   "source": [
    "dt = np.dtype(int)\n",
    "\n",
    "# dtype object attributes\n",
    "dt.str\n",
    "dt.name\n",
    "dt.num  # unique id number (for each dtype)\n",
    "dt.type\n",
    "dt.itemsize"
   ]
  },
  {
   "cell_type": "code",
   "execution_count": 280,
   "metadata": {},
   "outputs": [
    {
     "output_type": "execute_result",
     "data": {
      "text/plain": "dtype([('name', '<U24'), ('score', '<i8')])"
     },
     "metadata": {},
     "execution_count": 280
    },
    {
     "output_type": "execute_result",
     "data": {
      "text/plain": "mappingproxy({'name': (dtype('<U24'), 0), 'score': (dtype('int64'), 96)})"
     },
     "metadata": {},
     "execution_count": 280
    },
    {
     "output_type": "execute_result",
     "data": {
      "text/plain": "('name', 'score')"
     },
     "metadata": {},
     "execution_count": 280
    }
   ],
   "source": [
    "# for structured dtypes\n",
    "dt = np.dtype([('name', '<U24'), ('score', np.int64)])\n",
    "dt\n",
    "\n",
    "dt.fields  # returns a dict\n",
    "dt.names"
   ]
  },
  {
   "cell_type": "code",
   "execution_count": 265,
   "metadata": {
    "tags": []
   },
   "outputs": [
    {
     "output_type": "execute_result",
     "data": {
      "text/plain": "'i'"
     },
     "metadata": {},
     "execution_count": 265
    },
    {
     "output_type": "stream",
     "name": "stdout",
     "text": "\nb boolean\ni signed integer\nu unsigned integer\nf floating-point\nc complex floating-point\nm timedelta\nM datetime\nO object\nS (byte-)string\nU Unicode\nV void\n\n"
    }
   ],
   "source": [
    "dt.kind\n",
    "\n",
    "# various dtype kinds (may be useful)\n",
    "print(\"\"\"\n",
    "b boolean\n",
    "i signed integer\n",
    "u unsigned integer\n",
    "f floating-point\n",
    "c complex floating-point\n",
    "m timedelta\n",
    "M datetime\n",
    "O object\n",
    "S (byte-)string\n",
    "U Unicode\n",
    "V void\n",
    "\"\"\")"
   ]
  },
  {
   "cell_type": "code",
   "execution_count": 266,
   "metadata": {},
   "outputs": [
    {
     "output_type": "execute_result",
     "data": {
      "text/plain": "True"
     },
     "metadata": {},
     "execution_count": 266
    }
   ],
   "source": [
    "x = np.array([1, 2, 3])\n",
    "x.dtype.kind == 'i'"
   ]
  },
  {
   "cell_type": "markdown",
   "metadata": {},
   "source": [
    "**numbers** module - hierarchy of abstract numerical classes (not of which can be instantiated)"
   ]
  },
  {
   "cell_type": "code",
   "execution_count": 272,
   "metadata": {},
   "outputs": [
    {
     "output_type": "execute_result",
     "data": {
      "text/plain": "True"
     },
     "metadata": {},
     "execution_count": 272
    },
    {
     "output_type": "execute_result",
     "data": {
      "text/plain": "False"
     },
     "metadata": {},
     "execution_count": 272
    },
    {
     "output_type": "execute_result",
     "data": {
      "text/plain": "True"
     },
     "metadata": {},
     "execution_count": 272
    },
    {
     "output_type": "execute_result",
     "data": {
      "text/plain": "False"
     },
     "metadata": {},
     "execution_count": 272
    }
   ],
   "source": [
    "from numbers import Number, Complex, Real, Rational, Integral\n",
    "\n",
    "isinstance(np.int64(3), Integral)\n",
    "isinstance(np.float64(3), Integral)\n",
    "isinstance(np.float64(3), Real)\n",
    "isinstance(np.float64(3), Rational)"
   ]
  },
  {
   "cell_type": "code",
   "execution_count": 275,
   "metadata": {},
   "outputs": [
    {
     "output_type": "execute_result",
     "data": {
      "text/plain": "True"
     },
     "metadata": {},
     "execution_count": 275
    },
    {
     "output_type": "execute_result",
     "data": {
      "text/plain": "True"
     },
     "metadata": {},
     "execution_count": 275
    }
   ],
   "source": [
    "# can use issubclass to check if numbers types encompass numpy types\n",
    "issubclass(np.int64, Integral)\n",
    "issubclass(np.float16, Real)"
   ]
  },
  {
   "cell_type": "code",
   "execution_count": 284,
   "metadata": {},
   "outputs": [
    {
     "output_type": "execute_result",
     "data": {
      "text/plain": "(2, 3)"
     },
     "metadata": {},
     "execution_count": 284
    },
    {
     "output_type": "execute_result",
     "data": {
      "text/plain": "(dtype('int32'), (2, 3))"
     },
     "metadata": {},
     "execution_count": 284
    }
   ],
   "source": [
    "dt = np.dtype(('i4', (2, 3)))\n",
    "dt.shape  # shape and subdtype for structured dtypes\n",
    "dt.subdtype"
   ]
  },
  {
   "cell_type": "markdown",
   "metadata": {},
   "source": [
    "### indexing\n",
    "\n",
    "In python in general ```x[i1, i2, i3]``` is equivalent to ```x[(i1, i2, i3)]```"
   ]
  },
  {
   "cell_type": "code",
   "execution_count": 287,
   "metadata": {},
   "outputs": [
    {
     "output_type": "execute_result",
     "data": {
      "text/plain": "array([2, 4, 6, 8])"
     },
     "metadata": {},
     "execution_count": 287
    }
   ],
   "source": [
    "# basic indexing\n",
    "\n",
    "arr = np.arange(12)\n",
    "arr[2:9:2]  # slicing with step"
   ]
  },
  {
   "cell_type": "code",
   "execution_count": 291,
   "metadata": {},
   "outputs": [
    {
     "output_type": "execute_result",
     "data": {
      "text/plain": "array([[1],\n       [2],\n       [3],\n       [4]])"
     },
     "metadata": {},
     "execution_count": 291
    },
    {
     "output_type": "execute_result",
     "data": {
      "text/plain": "((4, 1), (12,))"
     },
     "metadata": {},
     "execution_count": 291
    }
   ],
   "source": [
    "arr_new = arr[1:5, np.newaxis]  # np.newaxis slice is used to expand the dimension\n",
    "arr_new\n",
    "arr_new.shape, arr.shape"
   ]
  },
  {
   "cell_type": "code",
   "execution_count": 294,
   "metadata": {},
   "outputs": [
    {
     "output_type": "execute_result",
     "data": {
      "text/plain": "array([5, 3, 6])"
     },
     "metadata": {},
     "execution_count": 294
    },
    {
     "output_type": "execute_result",
     "data": {
      "text/plain": "array([[5, 3, 6]])"
     },
     "metadata": {},
     "execution_count": 294
    }
   ],
   "source": [
    "arr = np.array([[1, 2, 3], [5, 3, 6]])\n",
    "arr[1, :]  # ndim is reduced by one\n",
    "arr[1:2, :]  # same ndim"
   ]
  },
  {
   "cell_type": "code",
   "execution_count": 299,
   "metadata": {},
   "outputs": [
    {
     "output_type": "execute_result",
     "data": {
      "text/plain": "array([1, 4, 5])"
     },
     "metadata": {},
     "execution_count": 299
    },
    {
     "output_type": "execute_result",
     "data": {
      "text/plain": "2"
     },
     "metadata": {},
     "execution_count": 299
    },
    {
     "output_type": "execute_result",
     "data": {
      "text/plain": "array([[1, 2],\n       [3, 4]])"
     },
     "metadata": {},
     "execution_count": 299
    }
   ],
   "source": [
    "# arr[(1, 2)] - basic indexing\n",
    "# arr[(1, 2),] - will triger advanced indexing, arr[[1, 2]] is also advanced indexing\n",
    "\n",
    "# integer and boolean advanced indexing\n",
    "\n",
    "# integer indexing \n",
    "x = np.array([[1, 2], [3, 4], [5, 6]])\n",
    "x[[0, 1, 2], [0, 1, 0]]  # select using row and columns indices\n",
    "x[(0, 1)]  # to basic\n",
    "x[[0, 1]]  # to advanced (starts from first dimensions)"
   ]
  },
  {
   "cell_type": "code",
   "execution_count": 300,
   "metadata": {},
   "outputs": [
    {
     "output_type": "execute_result",
     "data": {
      "text/plain": "array([0, 1, 2, 3, 4, 5])"
     },
     "metadata": {},
     "execution_count": 300
    }
   ],
   "source": [
    "# boolean indexing\n",
    "arr = np.arange(8)\n",
    "arr[arr < 6]\n",
    "\n",
    "# behaviour is similar to passing bool_obj.nonzero() integer index"
   ]
  },
  {
   "cell_type": "code",
   "execution_count": 301,
   "metadata": {},
   "outputs": [
    {
     "output_type": "execute_result",
     "data": {
      "text/plain": "(array([0, 1, 2, 3, 4, 5]),)"
     },
     "metadata": {},
     "execution_count": 301
    }
   ],
   "source": [
    "(arr<6).nonzero()"
   ]
  },
  {
   "cell_type": "code",
   "execution_count": 304,
   "metadata": {},
   "outputs": [
    {
     "output_type": "execute_result",
     "data": {
      "text/plain": "array([[(1, 1, 1), (4, 4, 4), (2, 2, 2)],\n       [(2, 2, 2), (5, 5, 5), (4, 4, 4)],\n       [(1, 1, 1), (2, 2, 2), (6, 6, 6)]],\n      dtype=[('a', '<i8'), ('b', '<i8'), ('c', '<i8')])"
     },
     "metadata": {},
     "execution_count": 304
    }
   ],
   "source": [
    "# structured array indexing\n",
    "\n",
    "arr = np.array([[1, 4, 2], [2, 5, 4], [1, 2, 6]], dtype=np.dtype([('a', '<i8'), ('b', '<i8'), ('c', '<i8')]))\n",
    "arr"
   ]
  },
  {
   "cell_type": "code",
   "execution_count": 355,
   "metadata": {},
   "outputs": [
    {
     "output_type": "execute_result",
     "data": {
      "text/plain": "array([(1, 4, 2), (2, 5, 4), (1, 2, 6)],\n      dtype=[('a', '<i8'), ('b', '<i8'), ('c', '<i8')])"
     },
     "metadata": {},
     "execution_count": 355
    },
    {
     "output_type": "execute_result",
     "data": {
      "text/plain": "(3,)"
     },
     "metadata": {},
     "execution_count": 355
    },
    {
     "output_type": "execute_result",
     "data": {
      "text/plain": "array([4, 5, 2])"
     },
     "metadata": {},
     "execution_count": 355
    },
    {
     "output_type": "execute_result",
     "data": {
      "text/plain": "array([(1, 2), (2, 4), (1, 6)],\n      dtype={'names':['a','c'], 'formats':['<i8','<i8'], 'offsets':[0,16], 'itemsize':24})"
     },
     "metadata": {},
     "execution_count": 355
    },
    {
     "output_type": "execute_result",
     "data": {
      "text/plain": "5"
     },
     "metadata": {},
     "execution_count": 355
    },
    {
     "output_type": "execute_result",
     "data": {
      "text/plain": "array([(1, 4, 2), (2, 5, 4), (1, 2, 6)], dtype=object)"
     },
     "metadata": {},
     "execution_count": 355
    }
   ],
   "source": [
    "# to create structured array : need to pass array of tuples, and specify each tuple entry dtype in the dtype constructor (so structured array fields won't correspond to e.g. indiv. columns as in pandas)\n",
    "dt = np.dtype([('a', 'i8'), ('b', 'i8'), ('c', 'i8')])\n",
    "arr = np.array([(1, 4, 2), (2, 5, 4), (1, 2, 6)], dtype=dt)\n",
    "arr\n",
    "arr.shape\n",
    "arr['b']  # we can access indiv. field dict-like (select single or several tuple entries from each tuple item)\n",
    "arr[['a', 'c']]\n",
    "arr['b'][1]\n",
    "\n",
    "arr.astype(np.object)  # remove specification of the entry (leave general object)"
   ]
  },
  {
   "cell_type": "code",
   "execution_count": 333,
   "metadata": {},
   "outputs": [
    {
     "output_type": "execute_result",
     "data": {
      "text/plain": "array([[0, 1, 2],\n       [3, 4, 5],\n       [6, 7, 8]])"
     },
     "metadata": {},
     "execution_count": 333
    },
    {
     "output_type": "execute_result",
     "data": {
      "text/plain": "<numpy.flatiter at 0x5589ba656bd0>"
     },
     "metadata": {},
     "execution_count": 333
    },
    {
     "output_type": "execute_result",
     "data": {
      "text/plain": "[0, 1, 2, 3, 4, 5, 6, 7, 8]"
     },
     "metadata": {},
     "execution_count": 333
    },
    {
     "output_type": "execute_result",
     "data": {
      "text/plain": "<numpy.nditer at 0x7f1eee58d210>"
     },
     "metadata": {},
     "execution_count": 333
    }
   ],
   "source": [
    "arr = np.arange(9).reshape(3, 3)\n",
    "arr\n",
    "\n",
    "flat_it = arr.flat  # returns a flattened iterator\n",
    "flat_it\n",
    "list(flat_it)\n",
    "\n",
    "np.nditer(arr)  # provides iterator, but over elements as scalar arrays\n",
    "\n",
    "# can use nditer and ndararys with various specifications inside Cython code to increase performance (along with using numba or C-extension)\n",
    "# check numpy C-API (!) for writing C-extensions"
   ]
  },
  {
   "cell_type": "code",
   "execution_count": 341,
   "metadata": {
    "tags": []
   },
   "outputs": [
    {
     "output_type": "execute_result",
     "data": {
      "text/plain": "<numpy.nditer at 0x7f1eee58d8f0>"
     },
     "metadata": {},
     "execution_count": 341
    }
   ],
   "source": [
    "# default internal loop goes through elements one by one\n",
    "# passing external_loop flag with allow numpy to use vectorized code and process larger chunks of data\n",
    "np.nditer(arr, flags=['external_loop'])\n",
    "\n",
    "# it's still likely better to use numba, Cython or C-extension for time-critical loops"
   ]
  },
  {
   "cell_type": "markdown",
   "metadata": {},
   "source": [
    "### It is not recommended to subclass ndarrays (!) Instead numpy dispatch mechanism should be used\n",
    "\n",
    "### It is recommended not to use np.matrix subclass, it's used mostly for interacting with scipy.sparse, and eventually will be removed in the future  (even for linear algebra regular arrays are recommended)\n",
    "\n",
    "### Chararray is not recommended to new development (exists for compatibility)"
   ]
  },
  {
   "cell_type": "code",
   "execution_count": 348,
   "metadata": {},
   "outputs": [],
   "source": [
    "#  memory map\n",
    "# used to map binary file to np.ndarray and access parts of the data without loading the whole file\n",
    "# (useful for big files)\n",
    "\n",
    "data = np.arange(12, dtype='float32')\n",
    "data.resize((3,4))\n",
    "\n",
    "from tempfile import mkdtemp  # useful for making temp dirs\n",
    "from pathlib import Path\n",
    "filename = Path(mkdtemp())/'newfile.dat'\n",
    "\n",
    "# create memory map\n",
    "fp = np.memmap(filename, dtype='float32', mode='w+', shape=(3,4))\n",
    "\n",
    "# assign data to it\n",
    "fp[:] = data[:]\n",
    "\n",
    "del fp  # deletion flushed memory to disk (could also use .flush())"
   ]
  },
  {
   "cell_type": "code",
   "execution_count": 349,
   "metadata": {},
   "outputs": [
    {
     "output_type": "execute_result",
     "data": {
      "text/plain": "7.0"
     },
     "metadata": {},
     "execution_count": 349
    }
   ],
   "source": [
    "# can now read the data\n",
    "newfp = np.memmap(filename, dtype='float32', mode='r', shape=(3,4))  # can specify filemode (r, rw, r+ etc)\n",
    "newfp[1, 3]"
   ]
  },
  {
   "cell_type": "markdown",
   "metadata": {},
   "source": [
    "### record arrays\n",
    "\n",
    "array that allows field access using attributes"
   ]
  },
  {
   "cell_type": "code",
   "execution_count": 353,
   "metadata": {},
   "outputs": [
    {
     "output_type": "execute_result",
     "data": {
      "text/plain": "numpy.recarray"
     },
     "metadata": {},
     "execution_count": 353
    },
    {
     "output_type": "execute_result",
     "data": {
      "text/plain": "numpy.record"
     },
     "metadata": {},
     "execution_count": 353
    }
   ],
   "source": [
    "np.recarray  # ndarray subclass\n",
    "np.record  # corresponding scalar class"
   ]
  },
  {
   "cell_type": "code",
   "execution_count": 360,
   "metadata": {},
   "outputs": [
    {
     "output_type": "execute_result",
     "data": {
      "text/plain": "array([(1., 2), (3., 4)], dtype=[('x', '<f8'), ('y', '<i8')])"
     },
     "metadata": {},
     "execution_count": 360
    },
    {
     "output_type": "execute_result",
     "data": {
      "text/plain": "array([1., 3.])"
     },
     "metadata": {},
     "execution_count": 360
    },
    {
     "output_type": "execute_result",
     "data": {
      "text/plain": "array([1., 3.])"
     },
     "metadata": {},
     "execution_count": 360
    }
   ],
   "source": [
    "# standard array creation with structured dtype\n",
    "arr = np.array([(1.0, 2), (3.0, 4)], dtype=[('x', '<f8'), ('y', '<i8')])\n",
    "arr\n",
    "\n",
    "arr['x']\n",
    "#arr.x  # won't work\n",
    "\n",
    "arr = arr.view(np.recarray)  # creating record array\n",
    "arr.x"
   ]
  },
  {
   "cell_type": "code",
   "execution_count": 383,
   "metadata": {},
   "outputs": [
    {
     "output_type": "execute_result",
     "data": {
      "text/plain": "rec.array([(5, 2.e-323), (2, 3.e-323), (1, 1.e-323)],\n          dtype=[('a', '<i8'), ('b', '<f8')])"
     },
     "metadata": {},
     "execution_count": 383
    },
    {
     "output_type": "execute_result",
     "data": {
      "text/plain": "array([5, 2, 1])"
     },
     "metadata": {},
     "execution_count": 383
    },
    {
     "output_type": "execute_result",
     "data": {
      "text/plain": "numpy.recarray"
     },
     "metadata": {},
     "execution_count": 383
    },
    {
     "output_type": "execute_result",
     "data": {
      "text/plain": "array([3., 4., 5.])"
     },
     "metadata": {},
     "execution_count": 383
    },
    {
     "output_type": "execute_result",
     "data": {
      "text/plain": "array([0, 1, 2])"
     },
     "metadata": {},
     "execution_count": 383
    },
    {
     "output_type": "execute_result",
     "data": {
      "text/plain": "dtype((numpy.record, [('a', '<i8'), ('b', '<f8')]))"
     },
     "metadata": {},
     "execution_count": 383
    }
   ],
   "source": [
    "# recarray using constructor (names and formats arguments, and an array of tuples)\n",
    "rec_arr = np.recarray(names=['a', 'b'], formats=['i8', 'f8'], \n",
    "        buf=np.array([(5, 4), (2, 6), (1, 2)]), shape=(3,))\n",
    "rec_arr\n",
    "rec_arr['a']\n",
    "\n",
    "\n",
    "# recarray form 2D array (!) - interprets rows as corresponding to the recarray fields\n",
    "arr = np.arange(6).reshape(2, 3)\n",
    "rec_arr = np.core.records.fromarrays(arr, names=['a', 'b'], formats=['i8', 'f8'])\n",
    "type(rec_arr)\n",
    "rec_arr['b']\n",
    "rec_arr['a']\n",
    "rec_arr.dtype\n",
    "\n",
    "# recarray has similar method for ndarray"
   ]
  },
  {
   "cell_type": "markdown",
   "metadata": {},
   "source": [
    "### masked arrays\n",
    "\n",
    "```np.ma``` module - the same functionality as ndarray plus working with masks and missing data"
   ]
  },
  {
   "cell_type": "code",
   "execution_count": 390,
   "metadata": {},
   "outputs": [
    {
     "output_type": "execute_result",
     "data": {
      "text/plain": "masked_array(data=[1, 2, 3, --, 4],\n             mask=[False, False, False,  True, False],\n       fill_value=999999)"
     },
     "metadata": {},
     "execution_count": 390
    },
    {
     "output_type": "execute_result",
     "data": {
      "text/plain": "2.5"
     },
     "metadata": {},
     "execution_count": 390
    },
    {
     "output_type": "execute_result",
     "data": {
      "text/plain": "numpy.ma.core.MaskedArray"
     },
     "metadata": {},
     "execution_count": 390
    }
   ],
   "source": [
    "arr = np.array([1, 2, 3, -1, 4])\n",
    "mx = np.ma.masked_array(arr, mask=[0,0,0,1,0])  # 1 or True at the invalid values location\n",
    "mx\n",
    "\n",
    "mx.mean()  # mean without the invalid value\n",
    "\n",
    "type(mx)  # MaskedArray - subclass of ndarray"
   ]
  },
  {
   "cell_type": "code",
   "execution_count": 392,
   "metadata": {},
   "outputs": [
    {
     "output_type": "execute_result",
     "data": {
      "text/plain": "masked_array(data=[1, 2, 3, --, 4],\n             mask=[False, False, False,  True, False],\n       fill_value=12)"
     },
     "metadata": {},
     "execution_count": 392
    }
   ],
   "source": [
    "mx = np.ma.masked_array(arr, mask=[0,0,0,1,0], fill_value=12)  # get add a fill_value\n",
    "mx"
   ]
  },
  {
   "cell_type": "code",
   "execution_count": 398,
   "metadata": {},
   "outputs": [
    {
     "output_type": "execute_result",
     "data": {
      "text/plain": "masked_array(data=[1, 2, 3, --, 4],\n             mask=[False, False, False,  True, False],\n       fill_value=12)"
     },
     "metadata": {},
     "execution_count": 398
    },
    {
     "output_type": "execute_result",
     "data": {
      "text/plain": "masked_array(data=[1.0, 2.0, 3.0, --, 4.0],\n             mask=[False, False, False,  True, False],\n       fill_value=12.0)"
     },
     "metadata": {},
     "execution_count": 398
    }
   ],
   "source": [
    "mx\n",
    "mx.astype(float)  # standard ndarray methods work"
   ]
  },
  {
   "cell_type": "code",
   "execution_count": 410,
   "metadata": {},
   "outputs": [
    {
     "output_type": "execute_result",
     "data": {
      "text/plain": "masked_array(data=[0, 1, 2, 3, 4, 5, --, --, --, --],\n             mask=[False, False, False, False, False, False,  True,  True,\n                    True,  True],\n       fill_value=999999)"
     },
     "metadata": {},
     "execution_count": 410
    },
    {
     "output_type": "execute_result",
     "data": {
      "text/plain": "array([False, False, False, False, False, False,  True,  True,  True,\n        True])"
     },
     "metadata": {},
     "execution_count": 410
    },
    {
     "output_type": "execute_result",
     "data": {
      "text/plain": "array([0, 1, 2, 3, 4, 5])"
     },
     "metadata": {},
     "execution_count": 410
    }
   ],
   "source": [
    "arr = np.arange(10)\n",
    "arr_masked = np.ma.masked_where(arr > 5, arr)  # mask using a condition\n",
    "arr_masked\n",
    "\n",
    "arr_masked.mask  # accessing the mask\n",
    "arr_masked.compressed()  # get only valid values"
   ]
  },
  {
   "cell_type": "code",
   "execution_count": 412,
   "metadata": {},
   "outputs": [
    {
     "output_type": "execute_result",
     "data": {
      "text/plain": "masked_array(data=[0, 1, 2, 3, 4, 5, --, --, --, --],\n             mask=[False, False, False, False, False, False,  True,  True,\n                    True,  True],\n       fill_value=999999)"
     },
     "metadata": {},
     "execution_count": 412
    },
    {
     "output_type": "execute_result",
     "data": {
      "text/plain": "masked_array(data=[--, 1, 2, 3, 4, 5, --, --, --, --],\n             mask=[ True, False, False, False, False, False,  True,  True,\n                    True,  True],\n       fill_value=999999)"
     },
     "metadata": {},
     "execution_count": 412
    }
   ],
   "source": [
    "arr_masked\n",
    "arr_masked[0] = np.ma.masked  # masking another value(s); assign any value to unmask instead\n",
    "arr_masked"
   ]
  },
  {
   "cell_type": "code",
   "execution_count": 414,
   "metadata": {},
   "outputs": [
    {
     "output_type": "execute_result",
     "data": {
      "text/plain": "array([0.69314718,        nan, 1.09861229, 1.38629436])"
     },
     "metadata": {},
     "execution_count": 414
    },
    {
     "output_type": "execute_result",
     "data": {
      "text/plain": "masked_array(data=[0.6931471805599453, --, 1.0986122886681098,\n                   1.3862943611198906],\n             mask=[False,  True, False, False],\n       fill_value=1e+20)"
     },
     "metadata": {},
     "execution_count": 414
    }
   ],
   "source": [
    "# can perform some math operations on masked arrays\n",
    "x = np.array([2, -1, 3, 4])\n",
    "np.log(x)  # produced nan\n",
    "np.ma.log(x)  # produces masked array"
   ]
  },
  {
   "cell_type": "code",
   "execution_count": 416,
   "metadata": {},
   "outputs": [
    {
     "output_type": "execute_result",
     "data": {
      "text/plain": "masked_array(data=[1, 2, 3, --, 2, -4],\n             mask=[False, False, False,  True, False, False],\n       fill_value=-1)"
     },
     "metadata": {},
     "execution_count": 416
    },
    {
     "output_type": "execute_result",
     "data": {
      "text/plain": "array([ 1,  2,  3, 10,  2, -4])"
     },
     "metadata": {},
     "execution_count": 416
    }
   ],
   "source": [
    "arr = np.array([1, 2, 3, -1, 2, -4])\n",
    "arr_masked = np.ma.masked_values(arr, -1)  # masking certain value\n",
    "arr_masked\n",
    "\n",
    "arr_masked.filled(10)  # filling missing value"
   ]
  },
  {
   "cell_type": "code",
   "execution_count": 418,
   "metadata": {},
   "outputs": [
    {
     "output_type": "execute_result",
     "data": {
      "text/plain": "masked_array(data=[1, 2, 3, --, 2, -4],\n             mask=[False, False, False,  True, False, False],\n       fill_value=-1)"
     },
     "metadata": {},
     "execution_count": 418
    },
    {
     "output_type": "execute_result",
     "data": {
      "text/plain": "masked"
     },
     "metadata": {},
     "execution_count": 418
    }
   ],
   "source": [
    "arr_masked\n",
    "arr_masked[3] == np.ma.masked"
   ]
  },
  {
   "cell_type": "code",
   "execution_count": 422,
   "metadata": {},
   "outputs": [
    {
     "output_type": "execute_result",
     "data": {
      "text/plain": "masked_array(data=[True, True, True, --, True, True],\n             mask=[False, False, False,  True, False, False],\n       fill_value=True)"
     },
     "metadata": {},
     "execution_count": 422
    },
    {
     "output_type": "execute_result",
     "data": {
      "text/plain": "True"
     },
     "metadata": {},
     "execution_count": 422
    },
    {
     "output_type": "execute_result",
     "data": {
      "text/plain": "False"
     },
     "metadata": {},
     "execution_count": 422
    }
   ],
   "source": [
    "is_equal = arr_masked == arr_masked.copy()  # comparison keeps the mask structure\n",
    "is_equal\n",
    "\n",
    "is_equal.all()  # correct values\n",
    "\n",
    "# compare with \n",
    "(np.array([1, 3, np.nan]) == np.array([1, 3, np.nan])).all()"
   ]
  },
  {
   "cell_type": "code",
   "execution_count": 427,
   "metadata": {},
   "outputs": [
    {
     "output_type": "execute_result",
     "data": {
      "text/plain": "masked_array(data=[1.0, 2.0, 4.0, --, 2.0],\n             mask=[False, False, False,  True, False],\n       fill_value=1e+20)"
     },
     "metadata": {},
     "execution_count": 427
    }
   ],
   "source": [
    "arr_nans = np.array([1, 2, 4, np.nan, 2])\n",
    "arr_masked = np.ma.masked_invalid(arr_nans)  # array with nans to masked array\n",
    "arr_masked"
   ]
  },
  {
   "cell_type": "code",
   "execution_count": null,
   "metadata": {},
   "outputs": [],
   "source": []
  }
 ]
}