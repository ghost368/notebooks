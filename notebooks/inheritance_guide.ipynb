{
 "metadata": {
  "language_info": {
   "codemirror_mode": {
    "name": "ipython",
    "version": 3
   },
   "file_extension": ".py",
   "mimetype": "text/x-python",
   "name": "python",
   "nbconvert_exporter": "python",
   "pygments_lexer": "ipython3",
   "version": 3
  },
  "orig_nbformat": 2,
  "kernelspec": {
   "name": "python_defaultSpec_1596699825220",
   "display_name": "Python 3.8.3 64-bit ('.env': conda)"
  }
 },
 "nbformat": 4,
 "nbformat_minor": 2,
 "cells": [
  {
   "cell_type": "code",
   "execution_count": 4,
   "metadata": {},
   "outputs": [],
   "source": [
    "from IPython.core.interactiveshell import InteractiveShell\n",
    "InteractiveShell.ast_node_interactivity = \"all\""
   ]
  },
  {
   "cell_type": "code",
   "execution_count": 6,
   "metadata": {},
   "outputs": [],
   "source": [
    "class Parent:\n",
    "\n",
    "    def __init__(self, other=None, name=None):  # only one constructor can be defined, need to treat all cases in it\n",
    "        if other:\n",
    "            self._name = other._name\n",
    "            self._num = 1\n",
    "            return\n",
    "        if not name:\n",
    "            name = 'noname'\n",
    "        self._name = name\n",
    "\n",
    "    def print_name(self):\n",
    "        print(self._name)\n",
    "\n",
    "\n",
    "# child will inherit all parent fields, and all methods to work with them, unless they're overriden\n",
    "class Child(Parent):  \n",
    "    def print_name_caps(self):\n",
    "        print(self._name.capitalize())"
   ]
  },
  {
   "cell_type": "code",
   "execution_count": 2,
   "metadata": {
    "tags": []
   },
   "outputs": [
    {
     "output_type": "stream",
     "name": "stdout",
     "text": "Alex\nAlex\n"
    }
   ],
   "source": [
    "p = Parent(name='Alex')\n",
    "p.print_name()\n",
    "\n",
    "\n",
    "p = Parent(p)\n",
    "p.print_name()"
   ]
  },
  {
   "cell_type": "code",
   "execution_count": 5,
   "metadata": {
    "tags": []
   },
   "outputs": [
    {
     "output_type": "execute_result",
     "data": {
      "text/plain": "1"
     },
     "metadata": {},
     "execution_count": 5
    },
    {
     "output_type": "stream",
     "name": "stdout",
     "text": "Alex\nAlex\n"
    }
   ],
   "source": [
    "c = Child(p)  # since copy constructor is defined in Parent - can create child from Parent \n",
    "\n",
    "c._num\n",
    "\n",
    "c.print_name()\n",
    "c.print_name_caps()"
   ]
  },
  {
   "cell_type": "code",
   "execution_count": 15,
   "metadata": {},
   "outputs": [
    {
     "output_type": "execute_result",
     "data": {
      "text/plain": "2"
     },
     "metadata": {},
     "execution_count": 15
    }
   ],
   "source": [
    "class Child(Parent):  \n",
    "\n",
    "    def __init__(self, other=None, name=None):\n",
    "        super().__init__(other, name)  # use base class constructor\n",
    "        self._num = 2  # complement it with child class code\n",
    "\n",
    "\n",
    "c = Child(p)\n",
    "c._num"
   ]
  },
  {
   "cell_type": "markdown",
   "metadata": {},
   "source": [
    "super() is preferred to use inside child classes. In the above example ```super().__init__``` would be equivalent to ```Parent.__init__```"
   ]
  },
  {
   "cell_type": "code",
   "execution_count": 17,
   "metadata": {},
   "outputs": [
    {
     "output_type": "execute_result",
     "data": {
      "text/plain": "True"
     },
     "metadata": {},
     "execution_count": 17
    }
   ],
   "source": [
    "issubclass(Child, Parent)  # use to check for subclass"
   ]
  },
  {
   "cell_type": "markdown",
   "metadata": {},
   "source": [
    "composition is always recommeneded instead of inheritance if possible\n",
    "* inheritance may create obscure construction, hard to work with\n",
    "* existing code may check for type, not just use methods of a class, so inheritance won't guarantee that all code used for base class will work for the derived class\n",
    "* instead of inheriting to just add a couple of methods and try to use derived class everywhere instead of base - just write several simple functions (instead of methods) to apply where necessary\n",
    "* try to restrict inheritance to subclassing simple interface (e.g. via abc module), and not existing class that's used in many places already\n",
    "\n",
    "* for each project list first all possible way to do it without inheritance"
   ]
  },
  {
   "cell_type": "markdown",
   "metadata": {},
   "source": [
    "### ABC module\n",
    "\n",
    "* collections have some classes derived from ABCs, of they can be further subclassed\n",
    "* collections.abc submodule has some abstract classes to test different properties (e.g. if an object is hashable or not)"
   ]
  },
  {
   "cell_type": "code",
   "execution_count": 19,
   "metadata": {},
   "outputs": [
    {
     "output_type": "execute_result",
     "data": {
      "text/plain": "tuple"
     },
     "metadata": {},
     "execution_count": 19
    }
   ],
   "source": [
    "from abc import ABC\n",
    "\n",
    "class MyABC(ABC):  # use ABC to define other ABCs\n",
    "    pass\n",
    "\n",
    "MyABC.register(tuple)  # can register any existing unrelated class and subclass (even built-in), called virtual subclasses\n",
    "\n",
    "assert issubclass(tuple, MyABC)\n",
    "assert isinstance((), MyABC)"
   ]
  },
  {
   "cell_type": "code",
   "execution_count": 35,
   "metadata": {},
   "outputs": [],
   "source": [
    "# @abstractmethod decorator says that a method is abstract and must be overriden in all subclasses\n",
    "# will work only for ABC subclass or ancestor\n",
    "# must be the most inner if there are multiple decorators for a method\n",
    "from abc import abstractmethod\n",
    "\n",
    "class C(ABC):\n",
    "\n",
    "    def __init__(self, x):\n",
    "        self._x = x\n",
    "    \n",
    "    @property\n",
    "    @abstractmethod  # abstract methods may have an implementation (unlike say Java)\n",
    "    def x(self):\n",
    "        return self._x\n",
    "    \n",
    "    @x.setter\n",
    "    @abstractmethod\n",
    "    def x(self, value):\n",
    "        self._x = value \n",
    "\n",
    "    @abstractmethod\n",
    "    def print_x(self):  # use pass to skip the base class definition of an abstract method \n",
    "        pass\n",
    "\n",
    "# can use together with @classmethod, @staticmethod etc"
   ]
  },
  {
   "cell_type": "code",
   "execution_count": 34,
   "metadata": {
    "tags": []
   },
   "outputs": [
    {
     "output_type": "stream",
     "name": "stdout",
     "text": "5\n"
    }
   ],
   "source": [
    "# c = C(5)  # won't work, even though methods are defined - they are abstract\n",
    "\n",
    "# concrete implementation of C\n",
    "class D(C):\n",
    "\n",
    "    @property\n",
    "    def x(self):\n",
    "        return super().x  # can call super() to use base class abstract method implementation\n",
    "    \n",
    "    @x.setter\n",
    "    def x(self, value):\n",
    "        super().x(self, value)\n",
    "\n",
    "    def print_x(self):  # use pass to skip the base class definition of an abstract method \n",
    "        print(self.x)\n",
    "\n",
    "d = D(5)\n",
    "d.print_x()"
   ]
  },
  {
   "cell_type": "code",
   "execution_count": 50,
   "metadata": {},
   "outputs": [
    {
     "output_type": "execute_result",
     "data": {
      "text/plain": "25"
     },
     "metadata": {},
     "execution_count": 50
    },
    {
     "output_type": "execute_result",
     "data": {
      "text/plain": "35"
     },
     "metadata": {},
     "execution_count": 50
    }
   ],
   "source": [
    "# example\n",
    "class C:\n",
    "    \n",
    "    def __init__(self, x):\n",
    "        self._x = x\n",
    "\n",
    "    def foo(self):\n",
    "        return self._x\n",
    "\n",
    "    def bar(self):\n",
    "        return self.foo() + 10\n",
    "\n",
    "\n",
    "class D(C):\n",
    "    def foo(self):\n",
    "        return self._x**2\n",
    "\n",
    "d = D(5)\n",
    "d.foo()\n",
    "d.bar()  # bar() is not defined in D but it will correctly use the foo() method from D, not from C"
   ]
  },
  {
   "cell_type": "markdown",
   "metadata": {},
   "source": [
    "## collections.abc\n",
    "\n",
    "* ABCs in collections.abc provide ways to implement commonly needed interfaces, and subclass built-in class through composition + interface inheritance rather than direct subclassing\n",
    "* examples below also provide good ways to use composition (field with 'base' class inside and passing methods to it, that are not overriden) rather than inheritance (and of course rather than multiple inheritance)"
   ]
  },
  {
   "cell_type": "code",
   "execution_count": 59,
   "metadata": {
    "tags": []
   },
   "outputs": [
    {
     "output_type": "execute_result",
     "data": {
      "text/plain": "{1, 2, 3}"
     },
     "metadata": {},
     "execution_count": 59
    },
    {
     "output_type": "stream",
     "name": "stdout",
     "text": "a [1, 2, 3]\n"
    }
   ],
   "source": [
    "# subclassing built-in types are most subtle since a lot of methods are implemented in C and won't use other python methods\n",
    "\n",
    "class MyDict(dict):\n",
    "    def __getitem__(self, key):\n",
    "        value = super().__getitem__(key)\n",
    "        return set(value)\n",
    "\n",
    "d = MyDict(a=[1, 2, 3])\n",
    "d['a']  # works for get item\n",
    "\n",
    "for k, v in d.items():\n",
    "    print(k, v)  # overriding not applied here, actually .item() is not using __getitem__\n",
    "\n",
    "# in such way it's not possible to implement only the key methods and have others implied from compositions"
   ]
  },
  {
   "cell_type": "code",
   "execution_count": 76,
   "metadata": {
    "tags": []
   },
   "outputs": [
    {
     "output_type": "execute_result",
     "data": {
      "text/plain": "True"
     },
     "metadata": {},
     "execution_count": 76
    },
    {
     "output_type": "execute_result",
     "data": {
      "text/plain": "{1, 2, 3}"
     },
     "metadata": {},
     "execution_count": 76
    },
    {
     "output_type": "stream",
     "name": "stdout",
     "text": "a {1, 2, 3}\n"
    }
   ],
   "source": [
    "# subclassing built-in classes is not recommended\n",
    "# collections.abc contain abstract classes that requires a minimal set of method and will extend the other through compositions\n",
    "# they replicate the behaviour of common built-in types\n",
    "\n",
    "\n",
    "# example\n",
    "from collections.abc import MutableMapping\n",
    "\n",
    "# MutableMapping requires abstract method implementation for __getitem__, __setitem__, __delitem__, __len__, insert\n",
    "# all other method will be implied\n",
    "\n",
    "# can also be used to check objects for the implementation of the class behaviour\n",
    "isinstance({'a': 1}, MutableMapping)\n",
    "\n",
    "\n",
    "class MyDict(MutableMapping):   # using composition + collection.abc to 'subclass' built-in dict \n",
    "    def __init__(self, *args, **kwargs):  # pass constructor to dict()\n",
    "        self._storage = dict(*args, **kwargs)\n",
    "\n",
    "    def __setitem__(self, key, value):  # just pass the method to the internal base class variable (for those that we don't want to adjust)\n",
    "        self._storage.__setitem__(key, value)\n",
    "\n",
    "    def __getitem__(self, key):  # reimplement the method that we want to adjust\n",
    "        return set(self._storage.__getitem__(key))\n",
    "\n",
    "    def __delitem__(self, key):\n",
    "        self._storage.__delitem__(key)\n",
    "\n",
    "    def __iter__(self):\n",
    "        return self._storage.__iter__()\n",
    "    \n",
    "    def __len__(self):\n",
    "        return self._storage.__len__()\n",
    "\n",
    "    # the methods above were compulsory to implement for MutableMapping (we used the dict implementation for most of them, except a custom implementation for __getitem__)\n",
    "\n",
    "    def my_print(self):   # can add new methods\n",
    "        print(self.keys(), self.values())  # keys() and values() already implied by MutableMapping\n",
    "\n",
    "\n",
    "d = MyDict(a=[1, 2, 3])\n",
    "d['a']\n",
    "\n",
    "for k, v in d.items():  # works with modified getitem\n",
    "    print(k, v)"
   ]
  },
  {
   "cell_type": "markdown",
   "metadata": {},
   "source": [
    "Attention: old ABCs from collections (like UserDict) are deprecated and must not be used. Use only ABCs from collections.abc"
   ]
  },
  {
   "cell_type": "code",
   "execution_count": 86,
   "metadata": {
    "tags": []
   },
   "outputs": [
    {
     "output_type": "execute_result",
     "data": {
      "text/plain": "2"
     },
     "metadata": {},
     "execution_count": 86
    },
    {
     "output_type": "execute_result",
     "data": {
      "text/plain": "[2, 3]"
     },
     "metadata": {},
     "execution_count": 86
    },
    {
     "output_type": "execute_result",
     "data": {
      "text/plain": "True"
     },
     "metadata": {},
     "execution_count": 86
    },
    {
     "output_type": "stream",
     "name": "stdout",
     "text": "1\n2\n3\n"
    }
   ],
   "source": [
    "# extending built-in list with set intersection operators\n",
    "from collections.abc import Sequence\n",
    "# Sequence must implement __getitem__ and __len__\n",
    "\n",
    "class MyList(Sequence):\n",
    "\n",
    "    def __init__(self, *args, **kwargs):  # passing contruction to list() and store in a private field\n",
    "        self._storage = list(*args, **kwargs)\n",
    "    \n",
    "    def __len__(self):\n",
    "        return self._storage.__len__()\n",
    "\n",
    "    def __getitem__(self, i):  # abstract Sequence methods are implemented (passed to list)\n",
    "        return self._storage.__getitem__(i)\n",
    "\n",
    "    def __and__(self, other):  # new set intersection operator\n",
    "        return list(set(self._storage) & set(other))\n",
    "    \n",
    "    def __rand__(self, other):  # RHS operator version (to do e.g. [1, 2, 3] & my_list)\n",
    "        return self.__and__(other)\n",
    "\n",
    "lst = MyList([1, 2, 3])\n",
    "lst[1]\n",
    "lst & [2, 3, 4]\n",
    "\n",
    "# usual sequence method (implied by Sequence interface)\n",
    "1 in lst  # __contains__\n",
    "for x in lst:  # __iter__\n",
    "    print(x)"
   ]
  },
  {
   "cell_type": "code",
   "execution_count": 94,
   "metadata": {
    "tags": []
   },
   "outputs": [
    {
     "output_type": "execute_result",
     "data": {
      "text/plain": "5"
     },
     "metadata": {},
     "execution_count": 94
    },
    {
     "output_type": "execute_result",
     "data": {
      "text/plain": "5"
     },
     "metadata": {},
     "execution_count": 94
    },
    {
     "output_type": "execute_result",
     "data": {
      "text/plain": "3"
     },
     "metadata": {},
     "execution_count": 94
    },
    {
     "output_type": "execute_result",
     "data": {
      "text/plain": "-2"
     },
     "metadata": {},
     "execution_count": 94
    },
    {
     "output_type": "stream",
     "name": "stdout",
     "text": "hello\nhello\n"
    }
   ],
   "source": [
    "# class attributes\n",
    "\n",
    "class ExampleClass:\n",
    "\n",
    "    class_attr = 0  # class attribute : shared across all class instances\n",
    "\n",
    "    def __init__(self):\n",
    "        self.instance_attr = 1\n",
    "\n",
    "    @classmethod\n",
    "    def change_attr(cls, new_attr_value):  # @classmethod is shared for all instance and can change class attributes\n",
    "        cls.class_attr = new_attr_value\n",
    "\n",
    "    @staticmethod\n",
    "    def print_const():  # static method has the same definition as in C++ (shared across all instances)\n",
    "        print('hello')\n",
    "\n",
    "\n",
    "c = ExampleClass()\n",
    "c.change_attr(5)  # change class attribute, can call using instance\n",
    "c.class_attr\n",
    "\n",
    "b = ExampleClass()\n",
    "b.class_attr\n",
    "b.change_attr(3)  # change via another instance\n",
    "c.class_attr  # this will change class attribute globally\n",
    "\n",
    "ExampleClass.change_attr(-2)  # can use class name\n",
    "b.class_attr\n",
    "\n",
    "b.print_const()\n",
    "ExampleClass.print_const()  # calling static method works both from instances and class name\n",
    "\n",
    "# always better to use class name for class and static methods, this is logically more correct"
   ]
  },
  {
   "cell_type": "code",
   "execution_count": null,
   "metadata": {},
   "outputs": [],
   "source": []
  }
 ]
}