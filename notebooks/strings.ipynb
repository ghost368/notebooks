{
 "metadata": {
  "language_info": {
   "codemirror_mode": {
    "name": "ipython",
    "version": 3
   },
   "file_extension": ".py",
   "mimetype": "text/x-python",
   "name": "python",
   "nbconvert_exporter": "python",
   "pygments_lexer": "ipython3",
   "version": 3
  },
  "orig_nbformat": 2,
  "kernelspec": {
   "name": "python_defaultSpec_1596196469972",
   "display_name": "Python 3.8.3 64-bit ('.env': conda)"
  }
 },
 "nbformat": 4,
 "nbformat_minor": 2,
 "cells": [
  {
   "cell_type": "code",
   "execution_count": 1,
   "metadata": {},
   "outputs": [],
   "source": [
    "import re\n",
    "from pytools.regex import PatternSequence"
   ]
  },
  {
   "cell_type": "code",
   "execution_count": 14,
   "metadata": {},
   "outputs": [],
   "source": [
    "from IPython.core.interactiveshell import InteractiveShell\n",
    "InteractiveShell.ast_node_interactivity = \"all\""
   ]
  },
  {
   "cell_type": "code",
   "execution_count": 9,
   "metadata": {},
   "outputs": [
    {
     "output_type": "execute_result",
     "data": {
      "text/plain": "'This is a string '"
     },
     "metadata": {},
     "execution_count": 9
    },
    {
     "output_type": "execute_result",
     "data": {
      "text/plain": "'This is a string'"
     },
     "metadata": {},
     "execution_count": 9
    },
    {
     "output_type": "execute_result",
     "data": {
      "text/plain": "'This is a number '"
     },
     "metadata": {},
     "execution_count": 9
    },
    {
     "output_type": "execute_result",
     "data": {
      "text/plain": "['This', 'is', 'a', 'string']"
     },
     "metadata": {},
     "execution_count": 9
    }
   ],
   "source": [
    "s = 'This is a string '\n",
    "s\n",
    "\n",
    "s.strip()\n",
    "s.replace('string', 'number')\n",
    "s.split()  # accepts delimiters"
   ]
  },
  {
   "cell_type": "code",
   "execution_count": 14,
   "metadata": {},
   "outputs": [
    {
     "output_type": "execute_result",
     "data": {
      "text/plain": "'This is a string'"
     },
     "metadata": {},
     "execution_count": 14
    },
    {
     "output_type": "execute_result",
     "data": {
      "text/plain": "'This is a 12'"
     },
     "metadata": {},
     "execution_count": 14
    },
    {
     "output_type": "execute_result",
     "data": {
      "text/plain": "'This is a string'"
     },
     "metadata": {},
     "execution_count": 14
    },
    {
     "output_type": "execute_result",
     "data": {
      "text/plain": "'This is a word'"
     },
     "metadata": {},
     "execution_count": 14
    },
    {
     "output_type": "execute_result",
     "data": {
      "text/plain": "'This is a word'"
     },
     "metadata": {},
     "execution_count": 14
    }
   ],
   "source": [
    "s = 'This is a {}'\n",
    "s.format('string')\n",
    "s.format(12)\n",
    "\n",
    "x = 'string'\n",
    "f'This is a {x}'\n",
    "\n",
    "s = 'This {} a {}'\n",
    "s.format('is', 'word')\n",
    "\n",
    "s = 'This {x} a {y}'\n",
    "s.format(y='word', x='is')"
   ]
  },
  {
   "cell_type": "code",
   "execution_count": 17,
   "metadata": {},
   "outputs": [
    {
     "output_type": "execute_result",
     "data": {
      "text/plain": "'This is a string'"
     },
     "metadata": {},
     "execution_count": 17
    },
    {
     "output_type": "execute_result",
     "data": {
      "text/plain": "2"
     },
     "metadata": {},
     "execution_count": 17
    }
   ],
   "source": [
    "s = 'this is a string'\n",
    "s.capitalize()\n",
    "\n",
    "'this is a string, this string is wide'.count('string')"
   ]
  },
  {
   "cell_type": "code",
   "execution_count": 19,
   "metadata": {},
   "outputs": [
    {
     "output_type": "execute_result",
     "data": {
      "text/plain": "b'this is a string'"
     },
     "metadata": {},
     "execution_count": 19
    },
    {
     "output_type": "execute_result",
     "data": {
      "text/plain": "'this is a string'"
     },
     "metadata": {},
     "execution_count": 19
    }
   ],
   "source": [
    "bs = s.encode('utf-8')\n",
    "bs\n",
    "\n",
    "bs.decode('utf-8')"
   ]
  },
  {
   "cell_type": "code",
   "execution_count": 22,
   "metadata": {},
   "outputs": [
    {
     "output_type": "execute_result",
     "data": {
      "text/plain": "10"
     },
     "metadata": {},
     "execution_count": 22
    }
   ],
   "source": [
    "'this is a string'.find('str')"
   ]
  },
  {
   "cell_type": "code",
   "execution_count": 30,
   "metadata": {},
   "outputs": [
    {
     "output_type": "execute_result",
     "data": {
      "text/plain": "True"
     },
     "metadata": {},
     "execution_count": 30
    },
    {
     "output_type": "execute_result",
     "data": {
      "text/plain": "False"
     },
     "metadata": {},
     "execution_count": 30
    },
    {
     "output_type": "execute_result",
     "data": {
      "text/plain": "True"
     },
     "metadata": {},
     "execution_count": 30
    },
    {
     "output_type": "execute_result",
     "data": {
      "text/plain": "True"
     },
     "metadata": {},
     "execution_count": 30
    },
    {
     "output_type": "execute_result",
     "data": {
      "text/plain": "False"
     },
     "metadata": {},
     "execution_count": 30
    },
    {
     "output_type": "execute_result",
     "data": {
      "text/plain": "False"
     },
     "metadata": {},
     "execution_count": 30
    }
   ],
   "source": [
    "'abc'.isalpha()  # alphabetic chars\n",
    "'5abs'.isalpha()\n",
    "'5abs'.isalnum()  # alphanumeric\n",
    "'2322'.isdigit()  # all digits\n"
   ]
  },
  {
   "cell_type": "code",
   "execution_count": 32,
   "metadata": {},
   "outputs": [
    {
     "output_type": "execute_result",
     "data": {
      "text/plain": "'this : is : a : string'"
     },
     "metadata": {},
     "execution_count": 32
    }
   ],
   "source": [
    "' : '.join(['this', 'is', 'a', 'string'])"
   ]
  },
  {
   "cell_type": "code",
   "execution_count": 33,
   "metadata": {},
   "outputs": [
    {
     "output_type": "execute_result",
     "data": {
      "text/plain": "['this is a string ', ' it is wide']"
     },
     "metadata": {},
     "execution_count": 33
    }
   ],
   "source": [
    "'this is a string \\n it is wide'.splitlines()"
   ]
  },
  {
   "cell_type": "markdown",
   "metadata": {},
   "source": [
    "# Regular expressions"
   ]
  },
  {
   "cell_type": "markdown",
   "metadata": {},
   "source": [
    "explore: \n",
    "* re.sub\n",
    "* re.match\n",
    "* re.find\n",
    "* re.findall\n"
   ]
  },
  {
   "cell_type": "markdown",
   "metadata": {},
   "source": [
    "## PatternSequence tests"
   ]
  },
  {
   "cell_type": "code",
   "execution_count": 2,
   "metadata": {},
   "outputs": [],
   "source": [
    "currency_symbol_to_iso3 = {'£': 'GBP', '$': 'USD', '€': 'EUR'}\n",
    "currencies = list(currency_symbol_to_iso3.values())\n",
    "currency_symbols = list(currency_symbol_to_iso3.keys())"
   ]
  },
  {
   "cell_type": "code",
   "execution_count": 3,
   "metadata": {},
   "outputs": [],
   "source": [
    "ps = PatternSequence()\n",
    "ps.add(f'([-+]?\\d*\\.\\d+|\\d+)\\s*({\"|\".join(currencies)})', \n",
    "        lambda g: {'amount': float(g[0]), 'currency': g[1]})\n",
    "ps.add(f'({\"|\".join(currency_symbols)})\\s*([-+]?\\d*\\.\\d+|\\d+)'.replace('$', '\\$'), \n",
    "        lambda g: {'amount': float(g[1]), \n",
    "'currency': currency_symbol_to_iso3[g[0]]})"
   ]
  },
  {
   "cell_type": "code",
   "execution_count": 4,
   "metadata": {},
   "outputs": [
    {
     "output_type": "execute_result",
     "data": {
      "text/plain": "['([-+]?\\\\d*\\\\.\\\\d+|\\\\d+)\\\\s*(GBP|USD|EUR)',\n '(£|\\\\$|€)\\\\s*([-+]?\\\\d*\\\\.\\\\d+|\\\\d+)']"
     },
     "metadata": {},
     "execution_count": 4
    }
   ],
   "source": [
    "ps.get_patterns()"
   ]
  },
  {
   "cell_type": "code",
   "execution_count": 5,
   "metadata": {
    "tags": []
   },
   "outputs": [
    {
     "output_type": "execute_result",
     "data": {
      "text/plain": "{'amount': -13.342, 'currency': 'USD'}"
     },
     "metadata": {},
     "execution_count": 5
    }
   ],
   "source": [
    "ps.match('$-13.342')"
   ]
  },
  {
   "cell_type": "markdown",
   "metadata": {},
   "source": [
    "## regex"
   ]
  },
  {
   "cell_type": "code",
   "execution_count": 28,
   "metadata": {},
   "outputs": [
    {
     "output_type": "execute_result",
     "data": {
      "text/plain": "<re.Match object; span=(0, 4), match='word'>"
     },
     "metadata": {},
     "execution_count": 28
    },
    {
     "output_type": "execute_result",
     "data": {
      "text/plain": "True"
     },
     "metadata": {},
     "execution_count": 28
    },
    {
     "output_type": "execute_result",
     "data": {
      "text/plain": "True"
     },
     "metadata": {},
     "execution_count": 28
    },
    {
     "output_type": "execute_result",
     "data": {
      "text/plain": "<re.Match object; span=(0, 1), match='$'>"
     },
     "metadata": {},
     "execution_count": 28
    },
    {
     "output_type": "execute_result",
     "data": {
      "text/plain": "<re.Match object; span=(0, 4), match='word'>"
     },
     "metadata": {},
     "execution_count": 28
    }
   ],
   "source": [
    "# most characters match themselves\n",
    "re.match('word', 'word')\n",
    "\n",
    "re.match('word', 'this is a word') is None  # because 'word' is exact pattern, need to allow other things before it\n",
    "\n",
    "re.match('word', 'word is good')  # but the ok if the pattern is found at the start of the string\n",
    "\n",
    "# metacharacters:  . ^ $ * + ? { } [ ] \\ | ( )\n",
    "re.match('$', '$') is None\n",
    "re.match('\\$', '$')  # use slash to actually match metacharacters"
   ]
  },
  {
   "cell_type": "markdown",
   "metadata": {},
   "source": [
    "### classes ```[..]```"
   ]
  },
  {
   "cell_type": "code",
   "execution_count": 29,
   "metadata": {},
   "outputs": [
    {
     "output_type": "execute_result",
     "data": {
      "text/plain": "<re.Match object; span=(0, 1), match='4'>"
     },
     "metadata": {},
     "execution_count": 29
    },
    {
     "output_type": "execute_result",
     "data": {
      "text/plain": "<re.Match object; span=(0, 1), match='b'>"
     },
     "metadata": {},
     "execution_count": 29
    },
    {
     "output_type": "execute_result",
     "data": {
      "text/plain": "<re.Match object; span=(0, 1), match='y'>"
     },
     "metadata": {},
     "execution_count": 29
    }
   ],
   "source": [
    "# [...] - defines a class of characters to match, listed or a range with -, like 0-9\n",
    "re.match('[1-5]', '4')\n",
    "re.match('[a-e]', 'b')\n",
    "re.match('[abxy]', 'y')\n",
    "\n",
    "# [a-z] for any of the lowercase"
   ]
  },
  {
   "cell_type": "code",
   "execution_count": 33,
   "metadata": {},
   "outputs": [
    {
     "output_type": "execute_result",
     "data": {
      "text/plain": "<re.Match object; span=(0, 1), match='$'>"
     },
     "metadata": {},
     "execution_count": 33
    },
    {
     "output_type": "execute_result",
     "data": {
      "text/plain": "True"
     },
     "metadata": {},
     "execution_count": 33
    },
    {
     "output_type": "execute_result",
     "data": {
      "text/plain": "<re.Match object; span=(0, 1), match='x'>"
     },
     "metadata": {},
     "execution_count": 33
    }
   ],
   "source": [
    "re.match('[$£]', '$')  # metachars not active inside classes; can use [$] instead of \\$ to match $\n",
    "\n",
    "re.match('[^abc]', 'a') is None  # ^ at the start of the class - match all except the characters\n",
    "re.match('[^abc]', 'xyz') "
   ]
  },
  {
   "cell_type": "markdown",
   "metadata": {},
   "source": [
    "### backslash ```\\```"
   ]
  },
  {
   "cell_type": "code",
   "execution_count": 36,
   "metadata": {},
   "outputs": [
    {
     "output_type": "execute_result",
     "data": {
      "text/plain": "<re.Match object; span=(0, 1), match='a'>"
     },
     "metadata": {},
     "execution_count": 36
    },
    {
     "output_type": "execute_result",
     "data": {
      "text/plain": "True"
     },
     "metadata": {},
     "execution_count": 36
    }
   ],
   "source": [
    "# \\w - any alphanumeric char, same as [a-zA-Z0-9_]\n",
    "re.match('\\w', 'ab x')\n",
    "re.match('\\w', '&ab x') is None\n",
    "\n",
    "# \\W is for any non-alphanumeric, i.e. [^a-zA-Z0-9_]\n",
    "# by convention, capital letter often mean a negation"
   ]
  },
  {
   "cell_type": "markdown",
   "metadata": {},
   "source": [
    "* \\d : 0-9\n",
    "* \\s : any whitespace\n",
    "* . : anything except newline\n",
    "\n",
    "* class can be a union of chars, ranges and escapes: like ```[0-6\\s,.]```"
   ]
  },
  {
   "cell_type": "code",
   "execution_count": 39,
   "metadata": {},
   "outputs": [
    {
     "output_type": "execute_result",
     "data": {
      "text/plain": "<re.Match object; span=(0, 2), match='ct'>"
     },
     "metadata": {},
     "execution_count": 39
    },
    {
     "output_type": "execute_result",
     "data": {
      "text/plain": "<re.Match object; span=(0, 3), match='cat'>"
     },
     "metadata": {},
     "execution_count": 39
    },
    {
     "output_type": "execute_result",
     "data": {
      "text/plain": "<re.Match object; span=(0, 6), match='caaaat'>"
     },
     "metadata": {},
     "execution_count": 39
    }
   ],
   "source": [
    "# * : repeat 0,1 or many times; is applied to the char before *\n",
    "re.match('ca*t', 'ct')\n",
    "re.match('ca*t', 'cat')\n",
    "re.match('ca*t', 'caaaatt, other things')"
   ]
  },
  {
   "cell_type": "code",
   "execution_count": 41,
   "metadata": {},
   "outputs": [
    {
     "output_type": "execute_result",
     "data": {
      "text/plain": "<re.Match object; span=(0, 15), match='181857198198273'>"
     },
     "metadata": {},
     "execution_count": 41
    }
   ],
   "source": [
    "re.match('[0-9]*', '181857198198273')  #can repeat classes\n",
    "# * is greedy and will take as many repetitions as possible, while the whole pattern is matched;\n",
    "# in case the next step in the match fail, it will go back and try to match fewer repetitions"
   ]
  },
  {
   "cell_type": "markdown",
   "metadata": {},
   "source": [
    "* ```+``` : same as ```*``` but requires at least one occurence\n",
    "* ```?``` : match once or zero times\n",
    "* ```{m,n}``` : at least m, at most n repetition (so ? is {0, 1}, {0,} is *, {1,} is +)"
   ]
  },
  {
   "cell_type": "code",
   "execution_count": 44,
   "metadata": {},
   "outputs": [
    {
     "output_type": "execute_result",
     "data": {
      "text/plain": "<re.Match object; span=(0, 3), match='abb'>"
     },
     "metadata": {},
     "execution_count": 44
    },
    {
     "output_type": "execute_result",
     "data": {
      "text/plain": "True"
     },
     "metadata": {},
     "execution_count": 44
    },
    {
     "output_type": "execute_result",
     "data": {
      "text/plain": "<re.Match object; span=(0, 3), match='AbB'>"
     },
     "metadata": {},
     "execution_count": 44
    }
   ],
   "source": [
    "# compiling pattern string into regexps\n",
    "p = re.compile('ab*')\n",
    "p_no_case = re.compile('ab*', re.IGNORECASE)  # can use special re flags\n",
    "\n",
    "# regexp has .match(..) method\n",
    "p.match('abb')\n",
    "p.match('AbB') is None\n",
    "p_no_case.match('AbB')"
   ]
  },
  {
   "cell_type": "markdown",
   "metadata": {},
   "source": [
    "Backslash plague:\n",
    "\n",
    "* say we want to match '\\section'  (with backslash)\n",
    "* for this we need to pass '\\\\section' to re.compile\n",
    "* but python strings also use '\\' for escapes, so we need to pass '\\\\\\\\section'\n",
    "* this is very inconvenient\n",
    "\n",
    "* Need to use python raw strings: r'\\\\section' instead of '\\\\\\\\section'\n",
    "* r can be put together with other prefixes, like fr'\\n${25}'"
   ]
  },
  {
   "cell_type": "markdown",
   "metadata": {},
   "source": [
    "Methods of a compiled regexp (we used only .match(..) so far)\n",
    "\n",
    "|method| operation|\n",
    "|:-----|:-------|\n",
    "|```match()```|  Determine if the RE matches at the beginning of the string.|\n",
    "|```search()```|  Scan through a string, looking for any location where this RE matches.|\n",
    "|```findall()```|  Find all substrings where the RE matches, and returns them as a list.|\n",
    "|```finditer()```|  Find all substrings where the RE matches, and returns them as an iterator.|"
   ]
  },
  {
   "cell_type": "code",
   "execution_count": 45,
   "metadata": {},
   "outputs": [
    {
     "output_type": "execute_result",
     "data": {
      "text/plain": "True"
     },
     "metadata": {},
     "execution_count": 45
    },
    {
     "output_type": "execute_result",
     "data": {
      "text/plain": "<re.Match object; span=(3, 4), match='2'>"
     },
     "metadata": {},
     "execution_count": 45
    }
   ],
   "source": [
    "re.match('[0-3]', 'abc2') is None\n",
    "re.search('[0-3]', 'abc2')"
   ]
  },
  {
   "cell_type": "code",
   "execution_count": 50,
   "metadata": {},
   "outputs": [
    {
     "output_type": "execute_result",
     "data": {
      "text/plain": "4"
     },
     "metadata": {},
     "execution_count": 50
    },
    {
     "output_type": "execute_result",
     "data": {
      "text/plain": "5"
     },
     "metadata": {},
     "execution_count": 50
    },
    {
     "output_type": "execute_result",
     "data": {
      "text/plain": "(4, 5)"
     },
     "metadata": {},
     "execution_count": 50
    },
    {
     "output_type": "execute_result",
     "data": {
      "text/plain": "'3'"
     },
     "metadata": {},
     "execution_count": 50
    }
   ],
   "source": [
    "m = re.search('[0-4]', 'abc 3 xyz')\n",
    "m.start()\n",
    "m.end()\n",
    "m.span()\n",
    "m.group()  # returns the substring that was matched (pattern with all options restricted to particular found case)"
   ]
  },
  {
   "cell_type": "code",
   "execution_count": 57,
   "metadata": {},
   "outputs": [
    {
     "output_type": "execute_result",
     "data": {
      "text/plain": "['12$', '43$', '123$']"
     },
     "metadata": {},
     "execution_count": 57
    },
    {
     "output_type": "execute_result",
     "data": {
      "text/plain": "<callable_iterator at 0x7f4338d1ce20>"
     },
     "metadata": {},
     "execution_count": 57
    },
    {
     "output_type": "execute_result",
     "data": {
      "text/plain": "[<re.Match object; span=(0, 3), match='12$'>,\n <re.Match object; span=(8, 11), match='43$'>,\n <re.Match object; span=(17, 21), match='123$'>]"
     },
     "metadata": {},
     "execution_count": 57
    }
   ],
   "source": [
    "re.findall(r'\\d*\\$', '12$ and 43$ plus 123$')  # returns list\n",
    "# raw python string for pattern must be used!!\n",
    "\n",
    "match_iter = re.finditer(r'\\d*\\$', '12$ and 43$ plus 123$')  # returns iterator for all separate matches\n",
    "match_iter \n",
    "list(match_iter)"
   ]
  },
  {
   "cell_type": "markdown",
   "metadata": {},
   "source": [
    "* re has all the same methods: re.match, re.search etc.; to be used as ```re.match(patter_str, input_str)```.\n",
    "it caches compiled regexps, so using .compile(..) is not needed, (unless we save a pattern and use it many times in the code - can do it to reduce notation)\n",
    "\n",
    "* also .compiled is useful if we apply a flag during regexp compilation\n",
    "\n",
    "* flags:\n",
    "    - IGNORECASE : match irrespectively of the case 'a' will match 'A', etc\n",
    "    - MULTILINE : ^ and $ will match start/end of each line, not only start/end of the string \n",
    "    - DOTALL : make '.' include '\\n' and thus match everything\n",
    "    - and others"
   ]
  },
  {
   "cell_type": "markdown",
   "metadata": {},
   "source": [
    "### zero-width assertions"
   ]
  },
  {
   "cell_type": "code",
   "execution_count": 68,
   "metadata": {},
   "outputs": [
    {
     "output_type": "execute_result",
     "data": {
      "text/plain": "['5', 'v']"
     },
     "metadata": {},
     "execution_count": 68
    },
    {
     "output_type": "execute_result",
     "data": {
      "text/plain": "['a']"
     },
     "metadata": {},
     "execution_count": 68
    },
    {
     "output_type": "execute_result",
     "data": {
      "text/plain": "['c']"
     },
     "metadata": {},
     "execution_count": 68
    },
    {
     "output_type": "execute_result",
     "data": {
      "text/plain": "True"
     },
     "metadata": {},
     "execution_count": 68
    },
    {
     "output_type": "execute_result",
     "data": {
      "text/plain": "<re.Match object; span=(0, 3), match='abc'>"
     },
     "metadata": {},
     "execution_count": 68
    },
    {
     "output_type": "execute_result",
     "data": {
      "text/plain": "['a', 'b', 'c']"
     },
     "metadata": {},
     "execution_count": 68
    },
    {
     "output_type": "execute_result",
     "data": {
      "text/plain": "['abc', '']"
     },
     "metadata": {},
     "execution_count": 68
    }
   ],
   "source": [
    "# | - alternation\n",
    "re.findall('[0-9]|[a-z]', '5 £$% v')\n",
    "\n",
    "# ^ match start of the string\n",
    "re.findall('^[a-z]', 'abc')\n",
    "\n",
    "# $ end of the string\n",
    "re.findall('[a-z]$', 'abc')\n",
    "\n",
    "re.match('^[a-z]$', 'abc') is None\n",
    "re.match('^[a-z]*$', 'abc')\n",
    "\n",
    "re.findall('[a-z]', 'abc')\n",
    "re.findall('[a-z]*', 'abc')  # won't match all repetition options, only the largest one and empty"
   ]
  },
  {
   "cell_type": "markdown",
   "metadata": {},
   "source": [
    "\\A and \\Z match the start/end of the string (even in MULTILINE mode, unlike ^ and $)"
   ]
  },
  {
   "cell_type": "code",
   "execution_count": 76,
   "metadata": {},
   "outputs": [
    {
     "output_type": "execute_result",
     "data": {
      "text/plain": "<re.Match object; span=(10, 14), match='word'>"
     },
     "metadata": {},
     "execution_count": 76
    },
    {
     "output_type": "execute_result",
     "data": {
      "text/plain": "True"
     },
     "metadata": {},
     "execution_count": 76
    }
   ],
   "source": [
    "# \\b start or end of the word (a sequence of alphanumeric chars)\n",
    "re.search(r'\\bword\\b', 'this is a word')  # MUST USE r'' (raw string), in python string \\b is backspace\n",
    "re.search(r'\\bword\\b', 'this is a buzzword') is None\n",
    "\n",
    "# \\B : only match inside words (not at the edges)"
   ]
  },
  {
   "cell_type": "markdown",
   "metadata": {},
   "source": [
    "###  groups ```(...)```"
   ]
  },
  {
   "cell_type": "code",
   "execution_count": 88,
   "metadata": {},
   "outputs": [
    {
     "output_type": "execute_result",
     "data": {
      "text/plain": "<re.Match object; span=(0, 4), match='1212'>"
     },
     "metadata": {},
     "execution_count": 88
    },
    {
     "output_type": "execute_result",
     "data": {
      "text/plain": "('12', '34')"
     },
     "metadata": {},
     "execution_count": 88
    },
    {
     "output_type": "execute_result",
     "data": {
      "text/plain": "((0, 2), (4, 6))"
     },
     "metadata": {},
     "execution_count": 88
    },
    {
     "output_type": "execute_result",
     "data": {
      "text/plain": "('12', '34')"
     },
     "metadata": {},
     "execution_count": 88
    },
    {
     "output_type": "execute_result",
     "data": {
      "text/plain": "('12', '34')"
     },
     "metadata": {},
     "execution_count": 88
    }
   ],
   "source": [
    "# each group in the pattern is written inside (..)\n",
    "# qualifiers can be applied to groups\n",
    "re.match('(12)+', '1212')\n",
    "\n",
    "# if pattern contains multiple groups: their values and positions can be accessed with passing index from 1 to \n",
    "# .group(..), .span(..)\n",
    "# .groups() will return a list of group matched values (groups numbered from left to right)\n",
    "m = re.match('(12)*(34)*', '123434')\n",
    "m.groups()\n",
    "\n",
    "m.span(1), m.span(2)\n",
    "m.group(1), m.group(2)\n",
    "m.group(1, 2)"
   ]
  },
  {
   "cell_type": "code",
   "execution_count": 89,
   "metadata": {},
   "outputs": [
    {
     "output_type": "execute_result",
     "data": {
      "text/plain": "('abc', 'b')"
     },
     "metadata": {},
     "execution_count": 89
    }
   ],
   "source": [
    "# nested groups\n",
    "m = re.match(r'(a(b)c)d', 'abcd')\n",
    "m.groups()"
   ]
  },
  {
   "cell_type": "code",
   "execution_count": 93,
   "metadata": {},
   "outputs": [
    {
     "output_type": "execute_result",
     "data": {
      "text/plain": "<re.Match object; span=(0, 5), match='ab ab'>"
     },
     "metadata": {},
     "execution_count": 93
    },
    {
     "output_type": "execute_result",
     "data": {
      "text/plain": "True"
     },
     "metadata": {},
     "execution_count": 93
    }
   ],
   "source": [
    "# group backreferences : \\1 means that we must exactly match the first matched group (can do \\2, \\3 etc)\n",
    "re.match(r'(ab|xy)\\s+\\1', 'ab ab')\n",
    "re.match(r'(ab|xy)\\s+\\1', 'ab xy') is None"
   ]
  },
  {
   "cell_type": "markdown",
   "metadata": {},
   "source": [
    "### Extensions\n",
    "* specified by ```(?...)``` (so here ? is not used for repetition, since there's nothing to repeat it's not ambigious)\n",
    "* ? is followed by a symbol that determines the extension, ?P prefix instead of ? means pure python extension"
   ]
  },
  {
   "cell_type": "code",
   "execution_count": 94,
   "metadata": {},
   "outputs": [
    {
     "output_type": "execute_result",
     "data": {
      "text/plain": "()"
     },
     "metadata": {},
     "execution_count": 94
    }
   ],
   "source": [
    "# non-capturing groups (will be skipped in .groups(), only to organize the pattern)\n",
    "m = re.match(\"(?:[abc])+\", \"abc\")\n",
    "m.groups()\n",
    "\n",
    "# useful for modifying existing pattern, for which other code already uses the order of output groups "
   ]
  },
  {
   "cell_type": "code",
   "execution_count": 98,
   "metadata": {},
   "outputs": [
    {
     "output_type": "execute_result",
     "data": {
      "text/plain": "{'first': 'Jane', 'last': 'Doe'}"
     },
     "metadata": {},
     "execution_count": 98
    },
    {
     "output_type": "execute_result",
     "data": {
      "text/plain": "('Jane', 'Doe')"
     },
     "metadata": {},
     "execution_count": 98
    },
    {
     "output_type": "execute_result",
     "data": {
      "text/plain": "('Jane', 'Doe')"
     },
     "metadata": {},
     "execution_count": 98
    },
    {
     "output_type": "execute_result",
     "data": {
      "text/plain": "{'first': 'Jane', 'middle': 'Diana', 'last': 'Doe'}"
     },
     "metadata": {},
     "execution_count": 98
    }
   ],
   "source": [
    "# named group : (?P<name>...)\n",
    "# useful if the groups will be later processed, make the code more robust and clear, no magic numbers; compare\n",
    "m = re.match(r'(?P<first>\\w+) (?P<last>\\w+)', 'Jane Doe')\n",
    "m.groupdict()  # has specific groupdict method !!\n",
    "m.groups()\n",
    "\n",
    "m = re.match(r'(\\w+) (\\w+)', 'Jane Doe')\n",
    "m.groups()\n",
    "\n",
    "# first method is more robust, e.g. to a change like this\n",
    "m = re.match(r'(?P<first>\\w+) (?P<middle>\\w+) (?P<last>\\w+)', 'Jane Diana Doe')\n",
    "m.groupdict()"
   ]
  },
  {
   "cell_type": "code",
   "execution_count": 104,
   "metadata": {},
   "outputs": [
    {
     "output_type": "execute_result",
     "data": {
      "text/plain": "<re.Match object; span=(0, 13), match='Jane Doe Jane'>"
     },
     "metadata": {},
     "execution_count": 104
    }
   ],
   "source": [
    "# backreference with name : (?P=name)\n",
    "re.match(r'(?P<first>\\w+) (?P<last>\\w+) (?P=first)', 'Jane Doe Jane')"
   ]
  },
  {
   "cell_type": "code",
   "execution_count": 108,
   "metadata": {},
   "outputs": [
    {
     "output_type": "execute_result",
     "data": {
      "text/plain": "('name', 'csv')"
     },
     "metadata": {},
     "execution_count": 108
    },
    {
     "output_type": "execute_result",
     "data": {
      "text/plain": "True"
     },
     "metadata": {},
     "execution_count": 108
    }
   ],
   "source": [
    "# lookahead : (?=...) - check if the pattern is matched (fail if not) and continue from the same position to match \n",
    "# the main pattern further (this group won't show up anywhere)\n",
    "# (?!...) is a similar negative pattern\n",
    "\n",
    "# e.g. match filename main part and extension, but extension cannot be .txt or .md\n",
    "filename_pat = re.compile('(.*)[.]((?!txt$|md$)[^.]*)$')\n",
    "m = filename_pat.match('name.csv')\n",
    "m.groups()\n",
    "filename_pat.match('name.md') is None"
   ]
  },
  {
   "cell_type": "markdown",
   "metadata": {},
   "source": [
    "### modifying strings with re"
   ]
  },
  {
   "cell_type": "code",
   "execution_count": 111,
   "metadata": {},
   "outputs": [
    {
     "output_type": "execute_result",
     "data": {
      "text/plain": "['This', 'is', 'a', 'string']"
     },
     "metadata": {},
     "execution_count": 111
    },
    {
     "output_type": "execute_result",
     "data": {
      "text/plain": "['This', ' , ', 'is', ' ', 'a', '$', 'string']"
     },
     "metadata": {},
     "execution_count": 111
    }
   ],
   "source": [
    "# .split() : split string using whatever matches the pattern as delimiter\n",
    "re.split(r'\\W+', 'This , is a$string')\n",
    "\n",
    "re.split(r'(\\W+)', 'This , is a$string')  # delimiter pattern inside (..) - then found delims also returned "
   ]
  },
  {
   "cell_type": "code",
   "execution_count": 122,
   "metadata": {},
   "outputs": [
    {
     "output_type": "execute_result",
     "data": {
      "text/plain": "'repl_string, other word, repl_string'"
     },
     "metadata": {},
     "execution_count": 122
    },
    {
     "output_type": "execute_result",
     "data": {
      "text/plain": "('repl_string, other word, repl_string', 2)"
     },
     "metadata": {},
     "execution_count": 122
    }
   ],
   "source": [
    "# .sub() : replace whatever matches the pattern by another string\n",
    "s = 'abxyz, other word, xyz'\n",
    "replacement = 'repl_string'\n",
    "re.sub(r'(ab)*xyz', replacement, s)\n",
    "re.subn(r'(ab)*xyz', replacement, s)  # also returns the number of replacements"
   ]
  },
  {
   "cell_type": "code",
   "execution_count": 124,
   "metadata": {},
   "outputs": [
    {
     "output_type": "execute_result",
     "data": {
      "text/plain": "'section{First} section{second}'"
     },
     "metadata": {},
     "execution_count": 124
    }
   ],
   "source": [
    "p = re.compile('section{ ( [^}]* ) }')  \n",
    "# here attention (!): [^}]* must be used since * is greedy and has priority over } after the group end\n",
    "p.sub(r'subsection{\\1}','section{First} section{second}')"
   ]
  },
  {
   "cell_type": "code",
   "execution_count": 125,
   "metadata": {},
   "outputs": [
    {
     "output_type": "execute_result",
     "data": {
      "text/plain": "'Currencies like , RUB, , JPY and '"
     },
     "metadata": {},
     "execution_count": 125
    }
   ],
   "source": [
    "# removing a list of strings \n",
    "str_to_remove = ['USD', 'EUR', 'GBP']\n",
    "re.sub(fr'({\"|\".join(str_to_remove)})', '', 'Currencies like USD, RUB, EUR, JPY and GBP')"
   ]
  },
  {
   "cell_type": "code",
   "execution_count": 127,
   "metadata": {},
   "outputs": [
    {
     "output_type": "execute_result",
     "data": {
      "text/plain": "'this is a phrase'"
     },
     "metadata": {},
     "execution_count": 127
    },
    {
     "output_type": "execute_result",
     "data": {
      "text/plain": "'this is a buzzword'"
     },
     "metadata": {},
     "execution_count": 127
    }
   ],
   "source": [
    "# substitude only words\n",
    "re.sub(r'\\bword\\b', 'phrase', 'this is a word') \n",
    "re.sub(r'\\bword\\b', 'phrase', 'this is a buzzword')  # not replacing unlike string .replace()"
   ]
  },
  {
   "cell_type": "code",
   "execution_count": null,
   "metadata": {},
   "outputs": [],
   "source": []
  }
 ]
}